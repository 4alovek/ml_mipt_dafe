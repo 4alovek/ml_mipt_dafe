{
 "cells": [
  {
   "cell_type": "markdown",
   "metadata": {
    "id": "7TYNolcWcmmv"
   },
   "source": [
    "# Семинар 8 - Бустинг\n",
    "\n",
    "В качестве источника используется:\n",
    "- [Глава 7](https://github.com/ageron/handson-ml/blob/master/07_ensemble_learning_and_random_forests.ipynb) из Книги [Aurélien Geron](https://github.com/ageron)\n",
    "- материалы [mlcourse.ai](https://mlcourse.ai) от [Юрия Кашницкого](https://yorko.github.io) и [OpenDataScience](https://ods.ai)"
   ]
  },
  {
   "cell_type": "code",
   "execution_count": null,
   "metadata": {
    "id": "w2g-nSDILwUK"
   },
   "outputs": [],
   "source": [
    "import numpy as np\n",
    "import pandas as pd\n",
    "import seaborn as sns\n",
    "import matplotlib as mpl\n",
    "import matplotlib.pyplot as plt\n",
    "from matplotlib.colors import ListedColormap\n",
    "\n",
    "from sklearn.model_selection import train_test_split\n",
    "from sklearn.datasets import make_moons\n",
    "\n",
    "%matplotlib inline\n",
    "\n",
    "seed = 42\n",
    "np.random.seed(seed)"
   ]
  },
  {
   "cell_type": "code",
   "execution_count": null,
   "metadata": {
    "id": "07SGYNhycmmw"
   },
   "outputs": [],
   "source": [
    "def plot_decision_boundary(clf, X, y, axes=[-1.5, 2.5, -1, 1.5], alpha=0.5, contour=True):\n",
    "    x1s = np.linspace(axes[0], axes[1], 100)\n",
    "    x2s = np.linspace(axes[2], axes[3], 100)\n",
    "    x1, x2 = np.meshgrid(x1s, x2s)\n",
    "    X_new = np.c_[x1.ravel(), x2.ravel()]\n",
    "    y_pred = clf.predict(X_new).reshape(x1.shape)\n",
    "\n",
    "    custom_cmap = ListedColormap(['#fafab0','#9898ff','#a0faa0'])\n",
    "    plt.contourf(x1, x2, y_pred, alpha=0.3, cmap=custom_cmap)\n",
    "    if contour:\n",
    "        custom_cmap2 = ListedColormap(['#7d7d58','#4c4c7f','#507d50'])\n",
    "        plt.contour(x1, x2, y_pred, cmap=custom_cmap2, alpha=0.8)\n",
    "        \n",
    "    plt.plot(X[:, 0][y==0], X[:, 1][y==0], \"yo\", alpha=alpha)\n",
    "    plt.plot(X[:, 0][y==1], X[:, 1][y==1], \"bs\", alpha=alpha)\n",
    "\n",
    "    plt.axis(axes)\n",
    "    plt.xlabel(r\"$x_1$\", fontsize=18)\n",
    "    plt.ylabel(r\"$x_2$\", fontsize=18, rotation=0)"
   ]
  },
  {
   "cell_type": "markdown",
   "metadata": {
    "id": "QinUJztkcmm0"
   },
   "source": [
    " Загрузим синтетический набор данных \"Луны\""
   ]
  },
  {
   "cell_type": "code",
   "execution_count": null,
   "metadata": {
    "id": "GORXl_Mdcmm1"
   },
   "outputs": [],
   "source": [
    "X, y = make_moons(n_samples=500, noise=0.30, random_state=seed)\n",
    "\n",
    "X_train, X_test, y_train, y_test = train_test_split(X, y, random_state=seed)"
   ]
  },
  {
   "cell_type": "markdown",
   "metadata": {
    "id": "lahFvm05cmm4"
   },
   "source": [
    "# AdaBoost"
   ]
  },
  {
   "cell_type": "code",
   "execution_count": null,
   "metadata": {
    "id": "IG_Mbj9Gcmm4"
   },
   "outputs": [],
   "source": [
    "from sklearn.ensemble import AdaBoostClassifier\n",
    "from sklearn.tree import DecisionTreeClassifier"
   ]
  },
  {
   "cell_type": "code",
   "execution_count": null,
   "metadata": {
    "colab": {
     "base_uri": "https://localhost:8080/"
    },
    "id": "5xKSw0kZcmm7",
    "outputId": "2b54db60-e8da-4942-de9a-2a1d64bae3d0"
   },
   "outputs": [],
   "source": [
    "# бустинг наж решающим пнем \n",
    "ada_clf = AdaBoostClassifier(DecisionTreeClassifier(max_depth=1),\n",
    "                             n_estimators=200, algorithm=\"SAMME.R\",\n",
    "                             learning_rate=0.5, random_state=seed)\n",
    "ada_clf.fit(X_train, y_train)"
   ]
  },
  {
   "cell_type": "code",
   "execution_count": null,
   "metadata": {
    "colab": {
     "base_uri": "https://localhost:8080/",
     "height": 291
    },
    "id": "H62QXZdEcmm-",
    "outputId": "6e368a73-5e9b-4313-f019-7a81feaf5252"
   },
   "outputs": [],
   "source": [
    "plot_decision_boundary(ada_clf, X, y)\n",
    "plt.show()"
   ]
  },
  {
   "cell_type": "markdown",
   "metadata": {
    "id": "wFuXsamOcmnC"
   },
   "source": [
    "Давайте попробуем посмотреть что происходит по шагам. В качестве иллюстрации будем использовать SVM."
   ]
  },
  {
   "cell_type": "code",
   "execution_count": null,
   "metadata": {
    "id": "5OO6o9LqcmnD"
   },
   "outputs": [],
   "source": [
    "from sklearn.svm import SVC"
   ]
  },
  {
   "cell_type": "code",
   "execution_count": null,
   "metadata": {
    "colab": {
     "base_uri": "https://localhost:8080/",
     "height": 287
    },
    "id": "9EEyYsK2cmnF",
    "outputId": "8d3d5457-cbd1-4dcb-e937-33f03aeddd33"
   },
   "outputs": [],
   "source": [
    "m = len(X_train)\n",
    "\n",
    "plt.figure(figsize=(20, 4))\n",
    "\n",
    "for subplot, learning_rate in ((121, 1), (122, 0.5)):\n",
    "    sample_weights = np.ones(m)\n",
    "    plt.subplot(subplot)\n",
    "\n",
    "    for i in range(5):\n",
    "        # init and fit\n",
    "        svm_clf = SVC(kernel=\"rbf\", C=0.05, gamma=\"auto\", random_state=seed)\n",
    "        svm_clf.fit(X_train, y_train, sample_weight=sample_weights)\n",
    "\n",
    "        # predict\n",
    "        y_pred = svm_clf.predict(X_train)\n",
    "        sample_weights[y_pred != y_train] *= (1 + learning_rate)\n",
    "\n",
    "        # plot\n",
    "        plot_decision_boundary(svm_clf, X, y, alpha=0.2)\n",
    "        plt.title(\"learning_rate = {}\".format(learning_rate), fontsize=16)\n",
    "\n",
    "    if subplot == 121:\n",
    "        plt.text(-0.7, -0.65, \"1\", fontsize=14)\n",
    "        plt.text(-0.6, -0.10, \"2\", fontsize=14)\n",
    "        plt.text(-0.5,  0.10, \"3\", fontsize=14)\n",
    "        plt.text(-0.4,  0.55, \"4\", fontsize=14)\n",
    "        plt.text(-0.3,  0.90, \"5\", fontsize=14)\n",
    "\n",
    "plt.show()"
   ]
  },
  {
   "cell_type": "markdown",
   "metadata": {
    "id": "Wn76rtQjcmnI"
   },
   "source": [
    "# Gradient Boosting\n",
    "Для начала посмотрим на игрушечных данных"
   ]
  },
  {
   "cell_type": "code",
   "execution_count": null,
   "metadata": {
    "colab": {
     "base_uri": "https://localhost:8080/",
     "height": 264
    },
    "id": "5gGti_EjcmnI",
    "outputId": "d00d4bff-3dac-4ff9-dbf8-323a960bcbde"
   },
   "outputs": [],
   "source": [
    "X = np.random.rand(100, 1) - 0.5\n",
    "y = 3 * X[:, 0] ** 2 + 0.05 * np.random.randn(100)\n",
    "\n",
    "plt.scatter(X, y)\n",
    "plt.show()"
   ]
  },
  {
   "cell_type": "markdown",
   "metadata": {
    "id": "da2f1w_IOdWR"
   },
   "source": [
    "Построим решающее дерево"
   ]
  },
  {
   "cell_type": "code",
   "execution_count": null,
   "metadata": {
    "id": "sMHUpE2jOZ9K"
   },
   "outputs": [],
   "source": [
    "from sklearn.tree import DecisionTreeRegressor"
   ]
  },
  {
   "cell_type": "code",
   "execution_count": null,
   "metadata": {
    "colab": {
     "base_uri": "https://localhost:8080/"
    },
    "id": "UcunQ0DocmnK",
    "outputId": "c3862703-0343-4e7c-a9d2-9daf4b5a6eca"
   },
   "outputs": [],
   "source": [
    "tree_reg1 = DecisionTreeRegressor(max_depth=2, random_state=seed)\n",
    "tree_reg1.fit(X, y)"
   ]
  },
  {
   "cell_type": "code",
   "execution_count": null,
   "metadata": {
    "colab": {
     "base_uri": "https://localhost:8080/"
    },
    "id": "cYEuc4DQcmnM",
    "outputId": "e289086f-bdf4-4f65-da2b-a6937c51ca7d"
   },
   "outputs": [],
   "source": [
    "# Найдем остатки от прогнозов и построим еще одно дерево\n",
    "y2 = y - tree_reg1.predict(X)\n",
    "tree_reg2 = DecisionTreeRegressor(max_depth=2, random_state=seed)\n",
    "tree_reg2.fit(X, y2)"
   ]
  },
  {
   "cell_type": "code",
   "execution_count": null,
   "metadata": {
    "colab": {
     "base_uri": "https://localhost:8080/"
    },
    "id": "8MP07-9ZcmnP",
    "outputId": "25c261e0-a92d-4283-920f-f46c05c3e0c5"
   },
   "outputs": [],
   "source": [
    "# Найдем остатки от прогнозов и построим еще одно дерево\n",
    "y3 = y2 - tree_reg2.predict(X)\n",
    "tree_reg3 = DecisionTreeRegressor(max_depth=2, random_state=seed)\n",
    "tree_reg3.fit(X, y3)"
   ]
  },
  {
   "cell_type": "code",
   "execution_count": null,
   "metadata": {
    "id": "ghJKe4HLcmnR"
   },
   "outputs": [],
   "source": [
    "# зададим новую точку не из обуающей выборки\n",
    "X_new = np.array([[0.8]])"
   ]
  },
  {
   "cell_type": "markdown",
   "metadata": {
    "id": "2_IIAnulQU-I"
   },
   "source": [
    "ошибка на i-ом объекте зависит от веса (ошибки всех предыдущих моделей в ансамбле) на ошибку последней модели ансамбля "
   ]
  },
  {
   "cell_type": "code",
   "execution_count": null,
   "metadata": {
    "id": "tcnznPd1cmnT"
   },
   "outputs": [],
   "source": [
    "# получим суммарное предсказание 3 деревьев по ансамблю\n",
    "y_pred = sum(tree.predict(X_new) for tree in (tree_reg1, tree_reg2, tree_reg3))"
   ]
  },
  {
   "cell_type": "code",
   "execution_count": null,
   "metadata": {
    "id": "yi6r2th0PEEp"
   },
   "outputs": [],
   "source": [
    "def plot_predictions(regressors, X, y, axes, label=None, \n",
    "                     style=\"r-\", data_style=\"b.\", data_label=None):\n",
    "\n",
    "    # get predict\n",
    "    x1 = np.linspace(axes[0], axes[1], 500)\n",
    "    y_pred = sum(regressor.predict(x1.reshape(-1, 1))\n",
    "     for regressor in regressors)\n",
    "\n",
    "    # plot\n",
    "    plt.plot(X[:, 0], y, data_style, label=data_label)\n",
    "    plt.plot(x1, y_pred, style, linewidth=2, label=label)\n",
    "    if label or data_label:\n",
    "        plt.legend(loc=\"upper center\", fontsize=16)\n",
    "    plt.axis(axes)"
   ]
  },
  {
   "cell_type": "code",
   "execution_count": null,
   "metadata": {
    "colab": {
     "base_uri": "https://localhost:8080/",
     "height": 684
    },
    "id": "0hI92CepcmnV",
    "outputId": "2f50cbdd-51cc-4ecb-90de-cd02b06427f4"
   },
   "outputs": [],
   "source": [
    "plt.figure(figsize=(11,11))\n",
    "\n",
    "plt.subplot(321)\n",
    "plot_predictions([tree_reg1], X, y, axes=[-0.5, 0.5, -0.1, 0.8], \n",
    "                 label=\"$h_1(x_1)$\", style=\"g-\", data_label=\"Training set\")\n",
    "plt.ylabel(\"$y$\", fontsize=16, rotation=0)\n",
    "plt.title(\"Residuals and tree predictions\", fontsize=16)\n",
    "\n",
    "plt.subplot(322)\n",
    "plot_predictions([tree_reg1], X, y, axes=[-0.5, 0.5, -0.1, 0.8], \n",
    "                 label=\"$h(x_1) = h_1(x_1)$\", data_label=\"Training set\")\n",
    "plt.ylabel(\"$y$\", fontsize=16, rotation=0)\n",
    "plt.title(\"Ensemble predictions\", fontsize=16)\n",
    "\n",
    "plt.subplot(323)\n",
    "plot_predictions([tree_reg2], X, y2, axes=[-0.5, 0.5, -0.5, 0.5], \n",
    "                 label=\"$h_2(x_1)$\", style=\"g-\", data_style=\"k+\", data_label=\"Residuals\")\n",
    "plt.ylabel(\"$y - h_1(x_1)$\", fontsize=16)\n",
    "\n",
    "plt.subplot(324)\n",
    "plot_predictions([tree_reg1, tree_reg2], X, y, axes=[-0.5, 0.5, -0.1, 0.8], \n",
    "                 label=\"$h(x_1) = h_1(x_1) + h_2(x_1)$\")\n",
    "plt.ylabel(\"$y$\", fontsize=16, rotation=0)\n",
    "\n",
    "plt.subplot(325)\n",
    "plot_predictions([tree_reg3], X, y3, axes=[-0.5, 0.5, -0.5, 0.5], \n",
    "                 label=\"$h_3(x_1)$\", style=\"g-\", data_style=\"k+\")\n",
    "plt.ylabel(\"$y - h_1(x_1) - h_2(x_1)$\", fontsize=16)\n",
    "plt.xlabel(\"$x_1$\", fontsize=16)\n",
    "\n",
    "plt.subplot(326)\n",
    "plot_predictions([tree_reg1, tree_reg2, tree_reg3], X, y, axes=[-0.5, 0.5, -0.1, 0.8], \n",
    "                 label=\"$h(x_1) = h_1(x_1) + h_2(x_1) + h_3(x_1)$\")\n",
    "plt.xlabel(\"$x_1$\", fontsize=16)\n",
    "plt.ylabel(\"$y$\", fontsize=16, rotation=0)\n",
    "\n",
    "plt.show()"
   ]
  },
  {
   "cell_type": "markdown",
   "metadata": {
    "id": "oKKJ-UeKcmnX"
   },
   "source": [
    "#### Попробуем реализацию градиентного бустинга из пакета sklearn"
   ]
  },
  {
   "cell_type": "code",
   "execution_count": null,
   "metadata": {
    "id": "mU84dGcPcmnY"
   },
   "outputs": [],
   "source": [
    "from sklearn.ensemble import GradientBoostingRegressor"
   ]
  },
  {
   "cell_type": "markdown",
   "metadata": {
    "id": "0qKz4kGmcmna"
   },
   "source": [
    "Посмотрим, как изменятся результаты при разном количестве базовых классификаторов"
   ]
  },
  {
   "cell_type": "code",
   "execution_count": null,
   "metadata": {
    "colab": {
     "base_uri": "https://localhost:8080/"
    },
    "id": "Kg3KR33Xcmna",
    "outputId": "bde34bf9-9157-4b1b-ce48-3d4d689feaf9"
   },
   "outputs": [],
   "source": [
    "gbrt = GradientBoostingRegressor(max_depth=2,\n",
    "                                 n_estimators=3,\n",
    "                                 learning_rate=1,\n",
    "                                 random_state=seed)\n",
    "gbrt.fit(X, y)"
   ]
  },
  {
   "cell_type": "code",
   "execution_count": null,
   "metadata": {
    "colab": {
     "base_uri": "https://localhost:8080/"
    },
    "id": "ZQmyWc30cmnc",
    "outputId": "32f6ca34-98b5-47af-f4b7-0f8e480c6489"
   },
   "outputs": [],
   "source": [
    "gbrt_slow = GradientBoostingRegressor(max_depth=2, \n",
    "                                      n_estimators=200,\n",
    "                                      learning_rate=1,\n",
    "                                      random_state=seed)\n",
    "gbrt_slow.fit(X, y)"
   ]
  },
  {
   "cell_type": "code",
   "execution_count": null,
   "metadata": {
    "colab": {
     "base_uri": "https://localhost:8080/",
     "height": 282
    },
    "id": "l_GtunV7cmnf",
    "outputId": "ce6f978e-2f9f-483c-eac4-7400dca7412f"
   },
   "outputs": [],
   "source": [
    "plt.figure(figsize=(18, 4))\n",
    "\n",
    "plt.subplot(121)\n",
    "plot_predictions([gbrt], X, y, axes=[-0.5, 0.5, -0.1, 0.8], \n",
    "                 label=\"Ensemble predictions\")\n",
    "plt.title(\"learning_rate={}, n_estimators={}\".format(gbrt.learning_rate, gbrt.n_estimators), fontsize=14)\n",
    "\n",
    "plt.subplot(122)\n",
    "plot_predictions([gbrt_slow], X, y, axes=[-0.5, 0.5, -0.1, 0.8],\n",
    "                 label=\"Ensemble predictions\")\n",
    "plt.title(\"learning_rate={}, n_estimators={}\".format(gbrt_slow.learning_rate, gbrt_slow.n_estimators), fontsize=14)\n",
    "\n",
    "plt.show()"
   ]
  },
  {
   "cell_type": "markdown",
   "metadata": {
    "id": "2Fv_wazecmnh"
   },
   "source": [
    "Посмотрим, как изменятся результаты при разной глубине базовых классификаторов "
   ]
  },
  {
   "cell_type": "code",
   "execution_count": null,
   "metadata": {
    "colab": {
     "base_uri": "https://localhost:8080/"
    },
    "id": "hKLszsRMcmnh",
    "outputId": "21afd8ca-6751-4c1e-9f94-3d484d429306"
   },
   "outputs": [],
   "source": [
    "gbrt = GradientBoostingRegressor(max_depth=2, \n",
    "                                 n_estimators=3,\n",
    "                                 learning_rate=1.0,\n",
    "                                 random_state=seed)\n",
    "gbrt.fit(X, y)\n",
    "\n",
    "gbrt_slow = GradientBoostingRegressor(max_depth=10,\n",
    "                                      n_estimators=3,\n",
    "                                      learning_rate=1.0,\n",
    "                                      random_state=seed)\n",
    "gbrt_slow.fit(X, y)"
   ]
  },
  {
   "cell_type": "code",
   "execution_count": null,
   "metadata": {
    "colab": {
     "base_uri": "https://localhost:8080/",
     "height": 282
    },
    "id": "lz0h1Y8ccmnj",
    "outputId": "2673d2de-8577-4638-bad8-5284614b4871"
   },
   "outputs": [],
   "source": [
    "plt.figure(figsize=(18, 4))\n",
    "\n",
    "plt.subplot(121)\n",
    "plot_predictions([gbrt], X, y, axes=[-0.5, 0.5, -0.1, 0.8], \n",
    "                 label=\"Ensemble predictions\")\n",
    "plt.title(\"learning_rate={}, max_depth={}\".format(gbrt.learning_rate, gbrt.max_depth), fontsize=14)\n",
    "\n",
    "plt.subplot(122)\n",
    "plot_predictions([gbrt_slow], X, y, axes=[-0.5, 0.5, -0.1, 0.8],\n",
    "                 label=\"Ensemble predictions\")\n",
    "plt.title(\"learning_rate={}, max_depth={}\".format(gbrt_slow.learning_rate, gbrt_slow.max_depth), fontsize=14)\n",
    "\n",
    "plt.show()"
   ]
  },
  {
   "cell_type": "markdown",
   "metadata": {
    "id": "MgSxNZiwcmnl"
   },
   "source": [
    "Рассмотрим методы борьбы с переобучением"
   ]
  },
  {
   "cell_type": "markdown",
   "metadata": {
    "id": "nGqz4jbucmnm"
   },
   "source": [
    "#### Посмотрим, как ведет себя ошибка на каждой итерации"
   ]
  },
  {
   "cell_type": "code",
   "execution_count": null,
   "metadata": {
    "id": "RhkEi_aDR0G4"
   },
   "outputs": [],
   "source": [
    "from sklearn.metrics import mean_squared_error"
   ]
  },
  {
   "cell_type": "code",
   "execution_count": null,
   "metadata": {
    "colab": {
     "base_uri": "https://localhost:8080/"
    },
    "id": "eNv7qYU8cmnm",
    "outputId": "bd26a5a1-82e9-4efa-c267-834affcf4a9d"
   },
   "outputs": [],
   "source": [
    "# split data\n",
    "X_train, X_val, y_train, y_val = train_test_split(X, y, random_state=seed)\n",
    "\n",
    "# init and fit\n",
    "gbrt = GradientBoostingRegressor(max_depth=2, n_estimators=200, random_state=42)\n",
    "gbrt.fit(X_train, y_train)"
   ]
  },
  {
   "cell_type": "code",
   "execution_count": null,
   "metadata": {
    "colab": {
     "base_uri": "https://localhost:8080/"
    },
    "id": "CS9mdRhsSCGQ",
    "outputId": "4edc760d-7dcb-457b-c757-be146a233f2f"
   },
   "outputs": [],
   "source": [
    "# get errors on each model\n",
    "errors = [mean_squared_error(y_val, y_pred)\n",
    "          for y_pred in gbrt.staged_predict(X_val)]\n",
    "\n",
    "# определим дерево, на котором произошла минимальная ошибка\n",
    "best_n_estimators = np.argmin(errors)\n",
    "print(best_n_estimators)\n",
    "\n",
    "last_estimator = 200 - 1\n",
    "print(f'Error on {best_n_estimators} model - {errors[best_n_estimators]}')\n",
    "print(f'Error on {last_estimator} (last) model - {errors[last_estimator]}')\n",
    "print(f'Error difference - {errors[best_n_estimators] - errors[last_estimator]}')"
   ]
  },
  {
   "cell_type": "code",
   "execution_count": null,
   "metadata": {
    "id": "czUQXxs6SBxR"
   },
   "outputs": [],
   "source": [
    "# обучим ансамбль на \"оптимальном количестве\" моделей\n",
    "gbrt_best = GradientBoostingRegressor(max_depth=2,\n",
    "                                      n_estimators=bst_n_estimators,\n",
    "                                      random_state=seed)\n",
    "gbrt_best.fit(X_train, y_train)\n",
    "min_error = np.min(errors)"
   ]
  },
  {
   "cell_type": "code",
   "execution_count": null,
   "metadata": {
    "colab": {
     "base_uri": "https://localhost:8080/",
     "height": 283
    },
    "id": "GpohK2CYcmno",
    "outputId": "0bb84300-c25c-4083-f26b-1b3c146db638"
   },
   "outputs": [],
   "source": [
    "plt.figure(figsize=(20, 4))\n",
    "\n",
    "plt.subplot(121)\n",
    "plt.plot(errors, \"b.-\")\n",
    "plt.plot([bst_n_estimators, bst_n_estimators], [0, min_error], \"k--\")\n",
    "plt.plot([0, 200], [min_error, min_error], \"k--\")\n",
    "plt.plot(bst_n_estimators, min_error, \"ko\")\n",
    "plt.text(bst_n_estimators, min_error * 1.2, \"Minimum\", ha=\"center\", fontsize=14)\n",
    "plt.axis([0, 200, 0, 0.01])\n",
    "plt.xlabel(\"Number of trees\")\n",
    "plt.title(\"Validation error\", fontsize=14)\n",
    "\n",
    "plt.subplot(122)\n",
    "plot_predictions([gbrt_best], X, y, axes=[-0.5, 0.5, -0.1, 0.8])\n",
    "plt.title(\"Best model (%d trees)\" % bst_n_estimators, fontsize=14)\n",
    "\n",
    "plt.show()"
   ]
  },
  {
   "cell_type": "markdown",
   "metadata": {
    "id": "4Iw1b3Ygcmnq"
   },
   "source": [
    "## LightGBM"
   ]
  },
  {
   "cell_type": "code",
   "execution_count": null,
   "metadata": {
    "id": "cHUUew8tcmnr"
   },
   "outputs": [],
   "source": [
    "import lightgbm as lgb"
   ]
  },
  {
   "cell_type": "code",
   "execution_count": null,
   "metadata": {
    "colab": {
     "base_uri": "https://localhost:8080/"
    },
    "id": "PdJPDBzEsm5N",
    "outputId": "15a2fa35-ac71-4788-c431-1a5822537ea4"
   },
   "outputs": [],
   "source": [
    "from google.colab import drive\n",
    "drive.mount('/content/gdrive/')"
   ]
  },
  {
   "cell_type": "code",
   "execution_count": null,
   "metadata": {
    "colab": {
     "base_uri": "https://localhost:8080/",
     "height": 202
    },
    "id": "UTuozQyHcmnt",
    "outputId": "93a01aa8-2ad7-4b26-fc32-13a7eaf628a8"
   },
   "outputs": [],
   "source": [
    "# Загрузим данные и проведем предобработки: \n",
    "data = pd.read_csv('./gdrive/My Drive/Colab Notebooks/week_05_ensembels/data/flight_delays_train.csv')\n",
    "data['dep_delayed_15min'] = data['dep_delayed_15min'].apply(lambda x: 1 if x == 'Y' else 0)\n",
    "data['Month'] = data['Month'].str.replace('c-', '').astype('int16')\n",
    "data['DayofMonth'] = data['DayofMonth'].str.replace('c-', '').astype('int16')\n",
    "data['DayOfWeek'] = data['DayOfWeek'].str.replace('c-', '').astype('int16')\n",
    "data['UniqueCarrier'] = pd.factorize(data['UniqueCarrier'])[0]\n",
    "data['Origin'] = pd.factorize(data['Origin'])[0]\n",
    "data['Dest'] = pd.factorize(data['Dest'])[0]\n",
    "\n",
    "# DepTime пусть бдет более вещественным числом (так как 60 минут в часах)\n",
    "data['DepTime_real'] = data['DepTime'].apply(lambda x: int(x/100)+((x/100-int(x/100))*100)/59)\n",
    "data.drop('DepTime', axis=1, inplace=True)\n",
    "\n",
    "x = data.drop('dep_delayed_15min', axis=1)\n",
    "y = data['dep_delayed_15min'].values\n",
    "\n",
    "data.head()"
   ]
  },
  {
   "cell_type": "markdown",
   "metadata": {
    "id": "A-OxY922cmnv"
   },
   "source": [
    "Разделим выборку на обучающую и тестовую"
   ]
  },
  {
   "cell_type": "code",
   "execution_count": null,
   "metadata": {
    "id": "890yR1ercmnw"
   },
   "outputs": [],
   "source": [
    "x_train, x_test, y_train, y_test = train_test_split(x, y, train_size=0.7,\n",
    "                                                    shuffle=True,\n",
    "                                                    random_state=seed)"
   ]
  },
  {
   "cell_type": "markdown",
   "metadata": {
    "id": "d_bjeHtxcmny"
   },
   "source": [
    "Создадим датасеты, как того требует библиотека"
   ]
  },
  {
   "cell_type": "code",
   "execution_count": null,
   "metadata": {
    "id": "Abcckqthcmny"
   },
   "outputs": [],
   "source": [
    "trn_data = lgb.Dataset(x_train, label=y_train)\n",
    "val_data = lgb.Dataset(x_test, label=y_test)"
   ]
  },
  {
   "cell_type": "markdown",
   "metadata": {
    "id": "pUGYF06-cmn0"
   },
   "source": [
    "Укажем параметры, для того чтобы бустинг решал задачу классификации"
   ]
  },
  {
   "cell_type": "code",
   "execution_count": null,
   "metadata": {
    "id": "T3lt6URqcmn0"
   },
   "outputs": [],
   "source": [
    "param = {\n",
    "    'boost': 'gbdt',\n",
    "    'metric':'auc',\n",
    "    'num_threads': 1,\n",
    "    'objective': 'binary', \n",
    "}"
   ]
  },
  {
   "cell_type": "markdown",
   "metadata": {
    "id": "hwElNKBicmn2"
   },
   "source": [
    "Обучим модель"
   ]
  },
  {
   "cell_type": "code",
   "execution_count": null,
   "metadata": {
    "colab": {
     "base_uri": "https://localhost:8080/"
    },
    "id": "lB6WEfAGcmn2",
    "outputId": "d63aa3c5-47f3-4d3d-911f-03d079fd216a"
   },
   "outputs": [],
   "source": [
    "history = {}\n",
    "clf = lgb.train(param, trn_data, num_boost_round=1000, \n",
    "                valid_sets=[trn_data, val_data], \n",
    "                verbose_eval=100,  evals_result=history)"
   ]
  },
  {
   "cell_type": "code",
   "execution_count": null,
   "metadata": {
    "colab": {
     "base_uri": "https://localhost:8080/",
     "height": 280
    },
    "id": "ZCNZsFejcmn5",
    "outputId": "afca3d3f-99bf-45d3-f582-f34a7948ec24"
   },
   "outputs": [],
   "source": [
    "plt.figure(figsize=(20, 4))\n",
    "\n",
    "plt.plot(history['training']['auc'], label='Train')\n",
    "plt.plot(history['valid_1']['auc'], label='Test')\n",
    "plt.xlabel('Iterations')\n",
    "plt.ylabel('AUC')\n",
    "plt.title('История обучения модели')\n",
    "plt.legend()\n",
    "\n",
    "plt.show()"
   ]
  },
  {
   "cell_type": "markdown",
   "metadata": {
    "id": "7B-9LsD7cmn7"
   },
   "source": [
    "В документации LightGBM есть целый [раздел](https://lightgbm.readthedocs.io/en/latest/Parameters-Tuning.html) о том, как тюнить параметры. \n",
    "Попробуем улучшить качество. "
   ]
  },
  {
   "cell_type": "code",
   "execution_count": null,
   "metadata": {
    "id": "VGXPd-n2cmn7"
   },
   "outputs": [],
   "source": [
    "c = {\n",
    "    'boost': 'gbdt',\n",
    "    'metric':'auc',\n",
    "    'num_threads': 12,\n",
    "    'objective': 'binary', \n",
    "    'bagging_fraction': 0.7, # Не больше 70% выборки\n",
    "    'feature_fraction': 0.7, # Не больше 70% фич\n",
    "    'learning_rate': 0.5, # Установим скорость обучения\n",
    "    'max_depth': 2, # Ограничим дерево \n",
    "    'min_data_in_leaf': 100, # Ограничим кол-во объектов в листе \n",
    "    'num_leaves': 2, # Ограничим кол-во листьев (Не совсем то, что max_depth)\n",
    "}"
   ]
  },
  {
   "cell_type": "code",
   "execution_count": null,
   "metadata": {
    "colab": {
     "base_uri": "https://localhost:8080/"
    },
    "id": "V9th7YvHcmn9",
    "outputId": "b7f3c7e0-dae1-4bdf-bbc3-55e7fab22808"
   },
   "outputs": [],
   "source": [
    "history = {}\n",
    "\n",
    "# Увеличим кол-во итераций num_boost_round и установим критерий останова early_stopping_rounds\n",
    "clf = lgb.train(param, trn_data, num_boost_round=3000, \n",
    "                valid_sets=[trn_data, val_data], \n",
    "                verbose_eval=200,  evals_result=history,\n",
    "                early_stopping_rounds=100)"
   ]
  },
  {
   "cell_type": "code",
   "execution_count": null,
   "metadata": {
    "colab": {
     "base_uri": "https://localhost:8080/",
     "height": 280
    },
    "id": "JDk4p0Whcmn_",
    "outputId": "97fbd890-5d2e-4abf-d387-bd4ac31f478f"
   },
   "outputs": [],
   "source": [
    "plt.figure(figsize=(20, 4))\n",
    "\n",
    "plt.plot(history['training']['auc'], label='Train')\n",
    "plt.plot(history['valid_1']['auc'], label='Test')\n",
    "plt.xlabel('Iterations')\n",
    "plt.ylabel('AUC')\n",
    "plt.title('История обучения модели')\n",
    "plt.legend()\n",
    "\n",
    "plt.show()"
   ]
  },
  {
   "cell_type": "markdown",
   "metadata": {
    "id": "xWDYkE-E1lQd"
   },
   "source": [
    "## XGboost"
   ]
  },
  {
   "cell_type": "code",
   "execution_count": null,
   "metadata": {
    "colab": {
     "base_uri": "https://localhost:8080/"
    },
    "id": "BBYpWVAwcmoP",
    "outputId": "23fdbf3b-cf21-4bf9-9628-a4ae9d86ef8a"
   },
   "outputs": [],
   "source": [
    "!pip install xgboost\n",
    "from xgboost import XGBClassifier, DMatrix, train"
   ]
  },
  {
   "cell_type": "markdown",
   "metadata": {
    "id": "07Z8OaMhZdTI"
   },
   "source": [
    "Описание [XGBClassifier](https://xgboost.readthedocs.io/en/latest/python/python_api.html?highlight=train#xgboost.XGBClassifier)"
   ]
  },
  {
   "cell_type": "code",
   "execution_count": null,
   "metadata": {
    "id": "omDH6DPMYHr4"
   },
   "outputs": [],
   "source": [
    "params = {\n",
    "    'n_estimators': 450,\n",
    "    'colsample_bytree': 0.75,\n",
    "    'reg_alpha': 1,\n",
    "    'reg_lambda': 2,\n",
    "    'subsample': 0.55,\n",
    "    'learning_rate': 0.5,\n",
    "    'gamma': 0.5,\n",
    "    'min_child_weight': 0.01,\n",
    "    'sampling_method': 'uniform',\n",
    "    'n_jobs': -1,\n",
    "    'gpu_id ': 0,\n",
    "}\n",
    "\n",
    "xgb = XGBClassifier(**params, random_state=seed)"
   ]
  },
  {
   "cell_type": "code",
   "execution_count": null,
   "metadata": {
    "colab": {
     "base_uri": "https://localhost:8080/"
    },
    "id": "dEHQRun4YlHY",
    "outputId": "e38da0d5-afbb-4aef-971e-bb8c5c8221a3"
   },
   "outputs": [],
   "source": [
    "history = {}\n",
    "\n",
    "xgb.fit(x_train, y_train,\n",
    "        eval_metric=['auc'], eval_set=[(x_train, y_train), (x_test, y_test)], \n",
    "        verbose=True, early_stopping_rounds=100)"
   ]
  },
  {
   "cell_type": "code",
   "execution_count": null,
   "metadata": {
    "colab": {
     "base_uri": "https://localhost:8080/"
    },
    "id": "A0w1sgEr3NGc",
    "outputId": "75b96683-0157-472a-86e0-13f6a7a98405"
   },
   "outputs": [],
   "source": [
    "preds = xgb.predict(x_test)\n",
    "preds"
   ]
  },
  {
   "cell_type": "code",
   "execution_count": null,
   "metadata": {
    "colab": {
     "base_uri": "https://localhost:8080/"
    },
    "id": "oXRtxOEd3NI5",
    "outputId": "48443337-426f-4fb1-fb6b-bce8693d0170"
   },
   "outputs": [],
   "source": [
    "labels = dtest.get_label()\n",
    "labels"
   ]
  },
  {
   "cell_type": "code",
   "execution_count": null,
   "metadata": {
    "id": "qZkVKog5VY55"
   },
   "outputs": [],
   "source": [
    "from sklearn.metrics import roc_auc_score"
   ]
  },
  {
   "cell_type": "code",
   "execution_count": null,
   "metadata": {
    "colab": {
     "base_uri": "https://localhost:8080/"
    },
    "id": "oRfwSsNl17E8",
    "outputId": "3eb1dcc5-38bc-4416-dd15-607bee298d08"
   },
   "outputs": [],
   "source": [
    "roc_auc_score(labels, preds)"
   ]
  },
  {
   "cell_type": "markdown",
   "metadata": {
    "id": "5HPsSvUrtkWT"
   },
   "source": [
    "## CatBoost"
   ]
  },
  {
   "cell_type": "code",
   "execution_count": null,
   "metadata": {
    "colab": {
     "base_uri": "https://localhost:8080/"
    },
    "id": "NyouV-amcmoB",
    "outputId": "23e946af-ff78-4a84-e4bf-af33f4a5c0a0"
   },
   "outputs": [],
   "source": [
    "!pip install catboost\n",
    "from catboost import CatBoostClassifier, Pool"
   ]
  },
  {
   "cell_type": "code",
   "execution_count": null,
   "metadata": {
    "id": "RAOW3n2xcmoD"
   },
   "outputs": [],
   "source": [
    "cbc = CatBoostClassifier(random_state=seed, \n",
    "                         early_stopping_rounds=100, \n",
    "                         task_type=\"GPU\", devices='0:1')"
   ]
  },
  {
   "cell_type": "code",
   "execution_count": null,
   "metadata": {
    "colab": {
     "base_uri": "https://localhost:8080/",
     "height": 202
    },
    "id": "tumurJRTcmoF",
    "outputId": "404fd0e4-4db4-4e96-f66a-c3922612141c"
   },
   "outputs": [],
   "source": [
    "# Загрузим данные и не проведем предобработки: \n",
    "data = pd.read_csv('./gdrive/My Drive/Colab Notebooks/week_05_ensembels/data/flight_delays_train.csv')\n",
    "data['dep_delayed_15min'] = data['dep_delayed_15min'].apply(lambda x: 1 if x == 'Y' else 0)\n",
    "\n",
    "data.drop('DepTime', axis=1, inplace=True)\n",
    "\n",
    "x = data.drop('dep_delayed_15min', axis=1)\n",
    "y = data['dep_delayed_15min'].values\n",
    "\n",
    "data.head()"
   ]
  },
  {
   "cell_type": "code",
   "execution_count": null,
   "metadata": {
    "id": "EEh0Fzrdu6Ga"
   },
   "outputs": [],
   "source": [
    "x_train, x_test, y_train, y_test = train_test_split(x, y, train_size=0.7,\n",
    "                                                    shuffle=True, \n",
    "                                                    random_state=seed)"
   ]
  },
  {
   "cell_type": "code",
   "execution_count": null,
   "metadata": {
    "colab": {
     "base_uri": "https://localhost:8080/",
     "height": 202
    },
    "id": "m1b7bMKmucbL",
    "outputId": "5a60d625-3af0-4191-c0df-670062068837"
   },
   "outputs": [],
   "source": [
    "x_train.head()"
   ]
  },
  {
   "cell_type": "code",
   "execution_count": null,
   "metadata": {
    "id": "vlNuxbbcbB6f"
   },
   "outputs": [],
   "source": [
    "from google.colab import output\n",
    "output.enable_custom_widget_manager()"
   ]
  },
  {
   "cell_type": "code",
   "execution_count": null,
   "metadata": {
    "colab": {
     "base_uri": "https://localhost:8080/",
     "height": 1000
    },
    "id": "eynvMvz9cmoH",
    "outputId": "ba47cfe7-fa9d-4dd9-e2b2-8fd4b78b06d9"
   },
   "outputs": [],
   "source": [
    "valid_set = [x_test, y_test]\n",
    "\n",
    "eval_dataset = Pool(data=x_test,\n",
    "                    label=y_test,\n",
    "                    cat_features=[0, 1, 2, 3, 4, 5])\n",
    "\n",
    "cbc.fit(x_train, y_train, cat_features=[0, 1, 2, 3, 4, 5], eval_set=eval_dataset, \n",
    "        verbose=1, plot=True)"
   ]
  },
  {
   "cell_type": "code",
   "execution_count": null,
   "metadata": {
    "id": "fiVizCUJcmoK"
   },
   "outputs": [],
   "source": [
    "preds = cbc.predict(eval_dataset)"
   ]
  },
  {
   "cell_type": "code",
   "execution_count": null,
   "metadata": {
    "colab": {
     "base_uri": "https://localhost:8080/"
    },
    "id": "osCMrOqS0gqX",
    "outputId": "1e567a11-72bf-416d-92b2-92bd3614084a"
   },
   "outputs": [],
   "source": [
    "preds"
   ]
  },
  {
   "cell_type": "code",
   "execution_count": null,
   "metadata": {
    "colab": {
     "base_uri": "https://localhost:8080/"
    },
    "id": "p9wT6slBcmoN",
    "outputId": "84507a9d-0ec5-4124-b1ab-63d28f565969"
   },
   "outputs": [],
   "source": [
    "roc_auc_score(y_test, preds)"
   ]
  },
  {
   "cell_type": "code",
   "execution_count": null,
   "metadata": {
    "id": "dUNl_9oJcmoT"
   },
   "outputs": [],
   "source": []
  }
 ],
 "metadata": {
  "accelerator": "GPU",
  "colab": {
   "collapsed_sections": [],
   "name": "Seminar_06_Solved.ipynb",
   "provenance": []
  },
  "kernelspec": {
   "display_name": "Python 3 (ipykernel)",
   "language": "python",
   "name": "python3"
  },
  "language_info": {
   "codemirror_mode": {
    "name": "ipython",
    "version": 3
   },
   "file_extension": ".py",
   "mimetype": "text/x-python",
   "name": "python",
   "nbconvert_exporter": "python",
   "pygments_lexer": "ipython3",
   "version": "3.7.11"
  }
 },
 "nbformat": 4,
 "nbformat_minor": 4
}
