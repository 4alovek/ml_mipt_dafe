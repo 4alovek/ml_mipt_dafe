{
 "cells": [
  {
   "cell_type": "markdown",
   "metadata": {
    "id": "7TYNolcWcmmv"
   },
   "source": [
    "# Семинар 8 - Бустинг\n",
    "\n",
    "В качестве источника используется:\n",
    "- [Глава 7](https://github.com/ageron/handson-ml/blob/master/07_ensemble_learning_and_random_forests.ipynb) из Книги [Aurélien Geron](https://github.com/ageron)\n",
    "- материалы [mlcourse.ai](https://mlcourse.ai) от [Юрия Кашницкого](https://yorko.github.io) и [OpenDataScience](https://ods.ai)"
   ]
  },
  {
   "cell_type": "code",
   "execution_count": null,
   "metadata": {
    "id": "w2g-nSDILwUK"
   },
   "outputs": [],
   "source": [
    "import numpy as np\n",
    "import pandas as pd\n",
    "import seaborn as sns\n",
    "import matplotlib as mpl\n",
    "import matplotlib.pyplot as plt\n",
    "from matplotlib.colors import ListedColormap\n",
    "\n",
    "from sklearn.model_selection import train_test_split\n",
    "from sklearn.datasets import make_moons\n",
    "\n",
    "%matplotlib inline\n",
    "\n",
    "seed = 42\n",
    "np.random.seed(seed)"
   ]
  },
  {
   "cell_type": "code",
   "execution_count": null,
   "metadata": {
    "id": "07SGYNhycmmw"
   },
   "outputs": [],
   "source": [
    "def plot_decision_boundary(clf, X, y, axes=[-1.5, 2.5, -1, 1.5], alpha=0.5, contour=True):\n",
    "    x1s = np.linspace(axes[0], axes[1], 100)\n",
    "    x2s = np.linspace(axes[2], axes[3], 100)\n",
    "    x1, x2 = np.meshgrid(x1s, x2s)\n",
    "    X_new = np.c_[x1.ravel(), x2.ravel()]\n",
    "    y_pred = clf.predict(X_new).reshape(x1.shape)\n",
    "\n",
    "    custom_cmap = ListedColormap(['#fafab0','#9898ff','#a0faa0'])\n",
    "    plt.contourf(x1, x2, y_pred, alpha=0.3, cmap=custom_cmap)\n",
    "    if contour:\n",
    "        custom_cmap2 = ListedColormap(['#7d7d58','#4c4c7f','#507d50'])\n",
    "        plt.contour(x1, x2, y_pred, cmap=custom_cmap2, alpha=0.8)\n",
    "        \n",
    "    plt.plot(X[:, 0][y==0], X[:, 1][y==0], \"yo\", alpha=alpha)\n",
    "    plt.plot(X[:, 0][y==1], X[:, 1][y==1], \"bs\", alpha=alpha)\n",
    "\n",
    "    plt.axis(axes)\n",
    "    plt.xlabel(r\"$x_1$\", fontsize=18)\n",
    "    plt.ylabel(r\"$x_2$\", fontsize=18, rotation=0)"
   ]
  },
  {
   "cell_type": "markdown",
   "metadata": {
    "id": "QinUJztkcmm0"
   },
   "source": [
    " Загрузим синтетический набор данных \"Луны\""
   ]
  },
  {
   "cell_type": "code",
   "execution_count": null,
   "metadata": {
    "id": "GORXl_Mdcmm1"
   },
   "outputs": [],
   "source": [
    "X, y = make_moons(n_samples=500, noise=0.30, random_state=seed)\n",
    "\n",
    "X_train, X_test, y_train, y_test = train_test_split(X, y, random_state=seed)"
   ]
  },
  {
   "cell_type": "markdown",
   "metadata": {
    "id": "lahFvm05cmm4"
   },
   "source": [
    "# AdaBoost"
   ]
  },
  {
   "cell_type": "code",
   "execution_count": null,
   "metadata": {
    "id": "IG_Mbj9Gcmm4"
   },
   "outputs": [],
   "source": [
    "from sklearn.ensemble import AdaBoostClassifier\n",
    "from sklearn.tree import DecisionTreeClassifier"
   ]
  },
  {
   "cell_type": "code",
   "execution_count": null,
   "metadata": {
    "colab": {
     "base_uri": "https://localhost:8080/"
    },
    "id": "5xKSw0kZcmm7",
    "outputId": "f5b3b102-c861-4cfa-aaa8-0622acd7e271"
   },
   "outputs": [],
   "source": [
    "# бустинг наж решающим пнем \n",
    "ada_clf = AdaBoostClassifier(DecisionTreeClassifier(max_depth=1),\n",
    "                             n_estimators=200, algorithm=\"SAMME.R\",\n",
    "                             learning_rate=0.5, random_state=seed)\n",
    "ada_clf.fit(X_train, y_train)"
   ]
  },
  {
   "cell_type": "code",
   "execution_count": null,
   "metadata": {
    "colab": {
     "base_uri": "https://localhost:8080/",
     "height": 291
    },
    "id": "H62QXZdEcmm-",
    "outputId": "489d678d-ca15-45d9-e64c-b0c75adc513b"
   },
   "outputs": [],
   "source": [
    "plot_decision_boundary(ada_clf, X, y)\n",
    "plt.show()"
   ]
  },
  {
   "cell_type": "markdown",
   "metadata": {
    "id": "wFuXsamOcmnC"
   },
   "source": [
    "Давайте попробуем посмотреть что происходит по шагам. В качестве иллюстрации будем использовать SVM."
   ]
  },
  {
   "cell_type": "code",
   "execution_count": null,
   "metadata": {
    "id": "5OO6o9LqcmnD"
   },
   "outputs": [],
   "source": [
    "from sklearn.svm import SVC"
   ]
  },
  {
   "cell_type": "code",
   "execution_count": null,
   "metadata": {
    "colab": {
     "base_uri": "https://localhost:8080/",
     "height": 305
    },
    "id": "9EEyYsK2cmnF",
    "outputId": "7635d348-8aa3-445b-9cac-5015099157db"
   },
   "outputs": [],
   "source": [
    "m = len(X_train)\n",
    "\n",
    "plt.figure(figsize=(20, 4))\n",
    "\n",
    "for subplot, learning_rate in ((121, 1), (122, 0.5)):\n",
    "    sample_weights = np.ones(m)\n",
    "    plt.subplot(subplot)\n",
    "\n",
    "    for i in range(5):\n",
    "        # init and fit\n",
    "        svm_clf = SVC(kernel=\"rbf\", C=0.05, gamma=\"auto\", random_state=seed)\n",
    "        svm_clf.fit(X_train, y_train, sample_weight=sample_weights)\n",
    "\n",
    "        # predict\n",
    "        y_pred = svm_clf.predict(X_train)\n",
    "        sample_weights[y_pred != y_train] *= (1 + learning_rate)\n",
    "\n",
    "        # plot\n",
    "        plot_decision_boundary(svm_clf, X, y, alpha=0.2)\n",
    "        plt.title(\"learning_rate = {}\".format(learning_rate), fontsize=16)\n",
    "\n",
    "    if subplot == 121:\n",
    "        plt.text(-0.7, -0.65, \"1\", fontsize=14)\n",
    "        plt.text(-0.6, -0.10, \"2\", fontsize=14)\n",
    "        plt.text(-0.5,  0.10, \"3\", fontsize=14)\n",
    "        plt.text(-0.4,  0.55, \"4\", fontsize=14)\n",
    "        plt.text(-0.3,  0.90, \"5\", fontsize=14)\n",
    "\n",
    "plt.show()"
   ]
  },
  {
   "cell_type": "markdown",
   "metadata": {
    "id": "Wn76rtQjcmnI"
   },
   "source": [
    "# Gradient Boosting\n",
    "Для начала посмотрим на игрушечных данных"
   ]
  },
  {
   "cell_type": "code",
   "execution_count": null,
   "metadata": {
    "colab": {
     "base_uri": "https://localhost:8080/",
     "height": 268
    },
    "id": "5gGti_EjcmnI",
    "outputId": "9721c938-4166-4480-eec9-48458f79be21"
   },
   "outputs": [],
   "source": [
    "X = np.random.rand(100, 1) - 0.5\n",
    "y = 3 * X[:, 0] ** 2 + 0.05 * np.random.randn(100)\n",
    "\n",
    "plt.scatter(X, y)\n",
    "plt.show()"
   ]
  },
  {
   "cell_type": "markdown",
   "metadata": {
    "id": "da2f1w_IOdWR"
   },
   "source": [
    "Построим решающее дерево"
   ]
  },
  {
   "cell_type": "code",
   "execution_count": null,
   "metadata": {
    "id": "sMHUpE2jOZ9K"
   },
   "outputs": [],
   "source": [
    "from sklearn.tree import DecisionTreeRegressor"
   ]
  },
  {
   "cell_type": "code",
   "execution_count": null,
   "metadata": {
    "colab": {
     "base_uri": "https://localhost:8080/"
    },
    "id": "UcunQ0DocmnK",
    "outputId": "78299b9d-7d7a-4ce6-f40f-3e5956276e81"
   },
   "outputs": [],
   "source": [
    "tree_reg1 = DecisionTreeRegressor(max_depth=2, random_state=seed)\n",
    "tree_reg1.fit(X, y)"
   ]
  },
  {
   "cell_type": "code",
   "execution_count": null,
   "metadata": {
    "colab": {
     "base_uri": "https://localhost:8080/"
    },
    "id": "cYEuc4DQcmnM",
    "outputId": "ae5e0596-1afa-4e19-e364-f2d33266405a"
   },
   "outputs": [],
   "source": [
    "# Найдем остатки от прогнозов и построим еще одно дерево\n",
    "y2 = y - tree_reg1.predict(X)\n",
    "tree_reg2 = DecisionTreeRegressor(max_depth=2, random_state=seed)\n",
    "tree_reg2.fit(X, y2)"
   ]
  },
  {
   "cell_type": "code",
   "execution_count": null,
   "metadata": {
    "colab": {
     "base_uri": "https://localhost:8080/"
    },
    "id": "8MP07-9ZcmnP",
    "outputId": "a44386a4-d831-470c-bf45-a1cad23a3fcd"
   },
   "outputs": [],
   "source": [
    "# Найдем остатки от прогнозов и построим еще одно дерево\n",
    "y3 = y2 - tree_reg2.predict(X)\n",
    "tree_reg3 = DecisionTreeRegressor(max_depth=2, random_state=seed)\n",
    "tree_reg3.fit(X, y3)"
   ]
  },
  {
   "cell_type": "code",
   "execution_count": null,
   "metadata": {
    "id": "ghJKe4HLcmnR"
   },
   "outputs": [],
   "source": [
    "# зададим новую точку не из обуающей выборки\n",
    "X_new = np.array([[0.8]])"
   ]
  },
  {
   "cell_type": "markdown",
   "metadata": {
    "id": "2_IIAnulQU-I"
   },
   "source": [
    "ошибка на i-ом объекте зависит от веса (ошибки всех предыдущих моделей в ансамбле) на ошибку последней модели ансамбля "
   ]
  },
  {
   "cell_type": "code",
   "execution_count": null,
   "metadata": {
    "id": "tcnznPd1cmnT"
   },
   "outputs": [],
   "source": [
    "# получим суммарное предсказание 3 деревьев по ансамблю\n",
    "y_pred = sum(tree.predict(X_new) for tree in (tree_reg1, tree_reg2, tree_reg3))"
   ]
  },
  {
   "cell_type": "code",
   "execution_count": null,
   "metadata": {
    "id": "yi6r2th0PEEp"
   },
   "outputs": [],
   "source": [
    "def plot_predictions(regressors, X, y, axes, label=None, \n",
    "                     style=\"r-\", data_style=\"b.\", data_label=None):\n",
    "\n",
    "    # get predict\n",
    "    x1 = np.linspace(axes[0], axes[1], 500)\n",
    "    y_pred = sum(regressor.predict(x1.reshape(-1, 1))\n",
    "     for regressor in regressors)\n",
    "\n",
    "    # plot\n",
    "    plt.plot(X[:, 0], y, data_style, label=data_label)\n",
    "    plt.plot(x1, y_pred, style, linewidth=2, label=label)\n",
    "    if label or data_label:\n",
    "        plt.legend(loc=\"upper center\", fontsize=16)\n",
    "    plt.axis(axes)"
   ]
  },
  {
   "cell_type": "code",
   "execution_count": null,
   "metadata": {
    "colab": {
     "base_uri": "https://localhost:8080/",
     "height": 683
    },
    "id": "0hI92CepcmnV",
    "outputId": "ce7483ae-60e9-4f29-8863-368a6753e9f5"
   },
   "outputs": [],
   "source": [
    "plt.figure(figsize=(11,11))\n",
    "\n",
    "plt.subplot(321)\n",
    "plot_predictions([tree_reg1], X, y, axes=[-0.5, 0.5, -0.1, 0.8], \n",
    "                 label=\"$h_1(x_1)$\", style=\"g-\", data_label=\"Training set\")\n",
    "plt.ylabel(\"$y$\", fontsize=16, rotation=0)\n",
    "plt.title(\"Residuals and tree predictions\", fontsize=16)\n",
    "\n",
    "plt.subplot(322)\n",
    "plot_predictions([tree_reg1], X, y, axes=[-0.5, 0.5, -0.1, 0.8], \n",
    "                 label=\"$h(x_1) = h_1(x_1)$\", data_label=\"Training set\")\n",
    "plt.ylabel(\"$y$\", fontsize=16, rotation=0)\n",
    "plt.title(\"Ensemble predictions\", fontsize=16)\n",
    "\n",
    "plt.subplot(323)\n",
    "plot_predictions([tree_reg2], X, y2, axes=[-0.5, 0.5, -0.5, 0.5], \n",
    "                 label=\"$h_2(x_1)$\", style=\"g-\", data_style=\"k+\", data_label=\"Residuals\")\n",
    "plt.ylabel(\"$y - h_1(x_1)$\", fontsize=16)\n",
    "\n",
    "plt.subplot(324)\n",
    "plot_predictions([tree_reg1, tree_reg2], X, y, axes=[-0.5, 0.5, -0.1, 0.8], \n",
    "                 label=\"$h(x_1) = h_1(x_1) + h_2(x_1)$\")\n",
    "plt.ylabel(\"$y$\", fontsize=16, rotation=0)\n",
    "\n",
    "plt.subplot(325)\n",
    "plot_predictions([tree_reg3], X, y3, axes=[-0.5, 0.5, -0.5, 0.5], \n",
    "                 label=\"$h_3(x_1)$\", style=\"g-\", data_style=\"k+\")\n",
    "plt.ylabel(\"$y - h_1(x_1) - h_2(x_1)$\", fontsize=16)\n",
    "plt.xlabel(\"$x_1$\", fontsize=16)\n",
    "\n",
    "plt.subplot(326)\n",
    "plot_predictions([tree_reg1, tree_reg2, tree_reg3], X, y, axes=[-0.5, 0.5, -0.1, 0.8], \n",
    "                 label=\"$h(x_1) = h_1(x_1) + h_2(x_1) + h_3(x_1)$\")\n",
    "plt.xlabel(\"$x_1$\", fontsize=16)\n",
    "plt.ylabel(\"$y$\", fontsize=16, rotation=0)\n",
    "\n",
    "plt.show()"
   ]
  },
  {
   "cell_type": "markdown",
   "metadata": {
    "id": "oKKJ-UeKcmnX"
   },
   "source": [
    "#### Попробуем реализацию градиентного бустинга из пакета sklearn"
   ]
  },
  {
   "cell_type": "code",
   "execution_count": null,
   "metadata": {
    "id": "mU84dGcPcmnY"
   },
   "outputs": [],
   "source": [
    "from sklearn.ensemble import GradientBoostingRegressor"
   ]
  },
  {
   "cell_type": "markdown",
   "metadata": {
    "id": "0qKz4kGmcmna"
   },
   "source": [
    "Посмотрим, как изменятся результаты при разном количестве базовых классификаторов"
   ]
  },
  {
   "cell_type": "code",
   "execution_count": null,
   "metadata": {
    "colab": {
     "base_uri": "https://localhost:8080/"
    },
    "id": "Kg3KR33Xcmna",
    "outputId": "8b16058b-d014-4bb3-a22c-5de575c4f431"
   },
   "outputs": [],
   "source": [
    "gbrt = GradientBoostingRegressor(max_depth=2,\n",
    "                                 n_estimators=3,\n",
    "                                 learning_rate=1,\n",
    "                                 random_state=seed)\n",
    "gbrt.fit(X, y)"
   ]
  },
  {
   "cell_type": "code",
   "execution_count": null,
   "metadata": {
    "colab": {
     "base_uri": "https://localhost:8080/"
    },
    "id": "ZQmyWc30cmnc",
    "outputId": "214dc7a7-78fa-4bb8-f249-f438db03b21d"
   },
   "outputs": [],
   "source": [
    "gbrt_slow = GradientBoostingRegressor(max_depth=2, \n",
    "                                      n_estimators=200,\n",
    "                                      learning_rate=1,\n",
    "                                      random_state=seed)\n",
    "gbrt_slow.fit(X, y)"
   ]
  },
  {
   "cell_type": "code",
   "execution_count": null,
   "metadata": {
    "colab": {
     "base_uri": "https://localhost:8080/",
     "height": 282
    },
    "id": "l_GtunV7cmnf",
    "outputId": "612fa42b-05ff-4658-9dc5-9b299cace7c2"
   },
   "outputs": [],
   "source": [
    "plt.figure(figsize=(18, 4))\n",
    "\n",
    "plt.subplot(121)\n",
    "plot_predictions([gbrt], X, y, axes=[-0.5, 0.5, -0.1, 0.8], \n",
    "                 label=\"Ensemble predictions\")\n",
    "plt.title(\"learning_rate={}, n_estimators={}\".format(gbrt.learning_rate, gbrt.n_estimators), fontsize=14)\n",
    "\n",
    "plt.subplot(122)\n",
    "plot_predictions([gbrt_slow], X, y, axes=[-0.5, 0.5, -0.1, 0.8],\n",
    "                 label=\"Ensemble predictions\")\n",
    "plt.title(\"learning_rate={}, n_estimators={}\".format(gbrt_slow.learning_rate, gbrt_slow.n_estimators), fontsize=14)\n",
    "\n",
    "plt.show()"
   ]
  },
  {
   "cell_type": "markdown",
   "metadata": {
    "id": "2Fv_wazecmnh"
   },
   "source": [
    "Посмотрим, как изменятся результаты при разной глубине базовых классификаторов "
   ]
  },
  {
   "cell_type": "code",
   "execution_count": null,
   "metadata": {
    "colab": {
     "base_uri": "https://localhost:8080/"
    },
    "id": "hKLszsRMcmnh",
    "outputId": "c08bb476-fb69-4396-b178-9118ef6ef76c"
   },
   "outputs": [],
   "source": [
    "gbrt = GradientBoostingRegressor(max_depth=2, \n",
    "                                 n_estimators=3,\n",
    "                                 learning_rate=1.0,\n",
    "                                 random_state=seed)\n",
    "gbrt.fit(X, y)\n",
    "\n",
    "gbrt_slow = GradientBoostingRegressor(max_depth=10,\n",
    "                                      n_estimators=3,\n",
    "                                      learning_rate=1.0,\n",
    "                                      random_state=seed)\n",
    "gbrt_slow.fit(X, y)"
   ]
  },
  {
   "cell_type": "code",
   "execution_count": null,
   "metadata": {
    "colab": {
     "base_uri": "https://localhost:8080/",
     "height": 282
    },
    "id": "lz0h1Y8ccmnj",
    "outputId": "3d8e6a3f-9a70-42b3-f96c-c114f1f410eb"
   },
   "outputs": [],
   "source": [
    "plt.figure(figsize=(18, 4))\n",
    "\n",
    "plt.subplot(121)\n",
    "plot_predictions([gbrt], X, y, axes=[-0.5, 0.5, -0.1, 0.8], \n",
    "                 label=\"Ensemble predictions\")\n",
    "plt.title(\"learning_rate={}, max_depth={}\".format(gbrt.learning_rate, gbrt.max_depth), fontsize=14)\n",
    "\n",
    "plt.subplot(122)\n",
    "plot_predictions([gbrt_slow], X, y, axes=[-0.5, 0.5, -0.1, 0.8],\n",
    "                 label=\"Ensemble predictions\")\n",
    "plt.title(\"learning_rate={}, max_depth={}\".format(gbrt_slow.learning_rate, gbrt_slow.max_depth), fontsize=14)\n",
    "\n",
    "plt.show()"
   ]
  },
  {
   "cell_type": "markdown",
   "metadata": {
    "id": "MgSxNZiwcmnl"
   },
   "source": [
    "Рассмотрим методы борьбы с переобучением"
   ]
  },
  {
   "cell_type": "markdown",
   "metadata": {
    "id": "nGqz4jbucmnm"
   },
   "source": [
    "#### Посмотрим, как ведет себя ошибка на каждой итерации"
   ]
  },
  {
   "cell_type": "code",
   "execution_count": null,
   "metadata": {
    "id": "RhkEi_aDR0G4"
   },
   "outputs": [],
   "source": [
    "from sklearn.metrics import mean_squared_error"
   ]
  },
  {
   "cell_type": "code",
   "execution_count": null,
   "metadata": {
    "colab": {
     "base_uri": "https://localhost:8080/"
    },
    "id": "eNv7qYU8cmnm",
    "outputId": "07409afc-a988-4381-d14f-a9c134a76b9d"
   },
   "outputs": [],
   "source": [
    "# split data\n",
    "X_train, X_val, y_train, y_val = train_test_split(X, y, random_state=seed)\n",
    "\n",
    "# init and fit\n",
    "gbrt = GradientBoostingRegressor(max_depth=2, n_estimators=200, random_state=42)\n",
    "gbrt.fit(X_train, y_train)"
   ]
  },
  {
   "cell_type": "code",
   "execution_count": null,
   "metadata": {
    "colab": {
     "base_uri": "https://localhost:8080/"
    },
    "id": "CS9mdRhsSCGQ",
    "outputId": "8a33a6a9-dd70-443f-b5cb-a33714fcf3c5"
   },
   "outputs": [],
   "source": [
    "# get errors on each model\n",
    "errors = [mean_squared_error(y_val, y_pred)\n",
    "          for y_pred in gbrt.staged_predict(X_val)]\n",
    "\n",
    "# определим дерево, на котором произошла минимальная ошибка\n",
    "best_n_estimators = np.argmin(errors)\n",
    "print(best_n_estimators)\n",
    "\n",
    "last_estimator = 200 - 1\n",
    "print(f'Error on {best_n_estimators} model - {errors[best_n_estimators]}')\n",
    "print(f'Error on {last_estimator} (last) model - {errors[last_estimator]}')\n",
    "print(f'Error difference - {errors[best_n_estimators] - errors[last_estimator]}')"
   ]
  },
  {
   "cell_type": "code",
   "execution_count": null,
   "metadata": {
    "id": "czUQXxs6SBxR"
   },
   "outputs": [],
   "source": [
    "# обучим ансамбль на \"оптимальном количестве\" моделей\n",
    "gbrt_best = GradientBoostingRegressor(max_depth=2,\n",
    "                                      n_estimators=best_n_estimators,\n",
    "                                      random_state=seed)\n",
    "gbrt_best.fit(X_train, y_train)\n",
    "min_error = np.min(errors)"
   ]
  },
  {
   "cell_type": "code",
   "execution_count": null,
   "metadata": {
    "colab": {
     "base_uri": "https://localhost:8080/",
     "height": 296
    },
    "id": "GpohK2CYcmno",
    "outputId": "636de564-9f93-48d7-cfc9-6124ae28233f"
   },
   "outputs": [],
   "source": [
    "plt.figure(figsize=(20, 4))\n",
    "\n",
    "plt.subplot(121)\n",
    "plt.plot(errors, \"b.-\")\n",
    "plt.plot([best_n_estimators, best_n_estimators], [0, min_error], \"k--\")\n",
    "plt.plot([0, 200], [min_error, min_error], \"k--\")\n",
    "plt.plot(best_n_estimators, min_error, \"ko\")\n",
    "plt.text(best_n_estimators, min_error * 1.2, \"Minimum\", ha=\"center\", fontsize=14)\n",
    "plt.axis([0, 200, 0, 0.01])\n",
    "plt.xlabel(\"Number of trees\")\n",
    "plt.title(\"Validation error\", fontsize=14)\n",
    "\n",
    "plt.subplot(122)\n",
    "plot_predictions([gbrt_best], X, y, axes=[-0.5, 0.5, -0.1, 0.8])\n",
    "plt.title(\"Best model (%d trees)\" % best_n_estimators, fontsize=14)\n",
    "\n",
    "plt.show()"
   ]
  },
  {
   "cell_type": "markdown",
   "metadata": {
    "id": "4Iw1b3Ygcmnq"
   },
   "source": [
    "## LightGBM"
   ]
  },
  {
   "cell_type": "code",
   "execution_count": null,
   "metadata": {
    "id": "cHUUew8tcmnr"
   },
   "outputs": [],
   "source": [
    "import lightgbm as lgb"
   ]
  },
  {
   "cell_type": "code",
   "execution_count": null,
   "metadata": {
    "colab": {
     "base_uri": "https://localhost:8080/"
    },
    "id": "PdJPDBzEsm5N",
    "outputId": "83f5550a-e67a-4f6d-ab30-ae9af3d697c7"
   },
   "outputs": [],
   "source": [
    "from google.colab import drive\n",
    "drive.mount('/content/gdrive/')"
   ]
  },
  {
   "cell_type": "code",
   "execution_count": null,
   "metadata": {
    "colab": {
     "base_uri": "https://localhost:8080/",
     "height": 200
    },
    "id": "UTuozQyHcmnt",
    "outputId": "a524b773-4b41-47ed-b1f2-9ab503665e96"
   },
   "outputs": [],
   "source": [
    "# Загрузим данные и проведем предобработки: \n",
    "data = pd.read_csv('./gdrive/My Drive/Colab Notebooks/week_05_ensembels/data/flight_delays_train.csv')\n",
    "data['dep_delayed_15min'] = data['dep_delayed_15min'].apply(lambda x: 1 if x == 'Y' else 0)\n",
    "data['Month'] = data['Month'].str.replace('c-', '').astype('int16')\n",
    "data['DayofMonth'] = data['DayofMonth'].str.replace('c-', '').astype('int16')\n",
    "data['DayOfWeek'] = data['DayOfWeek'].str.replace('c-', '').astype('int16')\n",
    "data['UniqueCarrier'] = pd.factorize(data['UniqueCarrier'])[0]\n",
    "data['Origin'] = pd.factorize(data['Origin'])[0]\n",
    "data['Dest'] = pd.factorize(data['Dest'])[0]\n",
    "\n",
    "# DepTime пусть бдет более вещественным числом (так как 60 минут в часах)\n",
    "data['DepTime_real'] = data['DepTime'].apply(lambda x: int(x/100)+((x/100-int(x/100))*100)/59)\n",
    "data.drop('DepTime', axis=1, inplace=True)\n",
    "\n",
    "x = data.drop('dep_delayed_15min', axis=1)\n",
    "y = data['dep_delayed_15min'].values\n",
    "\n",
    "data.head()"
   ]
  },
  {
   "cell_type": "markdown",
   "metadata": {
    "id": "A-OxY922cmnv"
   },
   "source": [
    "Разделим выборку на обучающую и тестовую"
   ]
  },
  {
   "cell_type": "code",
   "execution_count": null,
   "metadata": {
    "id": "890yR1ercmnw"
   },
   "outputs": [],
   "source": [
    "x_train, x_test, y_train, y_test = train_test_split(x, y, train_size=0.7,\n",
    "                                                    shuffle=True,\n",
    "                                                    random_state=seed)"
   ]
  },
  {
   "cell_type": "markdown",
   "metadata": {
    "id": "d_bjeHtxcmny"
   },
   "source": [
    "Создадим датасеты, как того требует библиотека"
   ]
  },
  {
   "cell_type": "code",
   "execution_count": null,
   "metadata": {
    "id": "Abcckqthcmny"
   },
   "outputs": [],
   "source": [
    "trn_data = lgb.Dataset(x_train, label=y_train)\n",
    "val_data = lgb.Dataset(x_test, label=y_test)"
   ]
  },
  {
   "cell_type": "markdown",
   "metadata": {
    "id": "pUGYF06-cmn0"
   },
   "source": [
    "Укажем параметры, для того чтобы бустинг решал задачу классификации"
   ]
  },
  {
   "cell_type": "code",
   "execution_count": null,
   "metadata": {
    "id": "T3lt6URqcmn0"
   },
   "outputs": [],
   "source": [
    "param = {\n",
    "    'boost': 'gbdt',\n",
    "    'metric':'auc',\n",
    "    'num_threads': 1,\n",
    "    'objective': 'binary', \n",
    "}"
   ]
  },
  {
   "cell_type": "markdown",
   "metadata": {
    "id": "hwElNKBicmn2"
   },
   "source": [
    "Обучим модель"
   ]
  },
  {
   "cell_type": "code",
   "execution_count": null,
   "metadata": {
    "colab": {
     "base_uri": "https://localhost:8080/"
    },
    "id": "lB6WEfAGcmn2",
    "outputId": "857d82d5-ff82-4d98-bcce-4c7da747d1e8"
   },
   "outputs": [],
   "source": [
    "history = {}\n",
    "clf = lgb.train(param, trn_data, num_boost_round=1000, \n",
    "                valid_sets=[trn_data, val_data], \n",
    "                verbose_eval=100,  evals_result=history)"
   ]
  },
  {
   "cell_type": "code",
   "execution_count": null,
   "metadata": {
    "colab": {
     "base_uri": "https://localhost:8080/",
     "height": 295
    },
    "id": "ZCNZsFejcmn5",
    "outputId": "e8a1ef15-ef65-463a-b701-a239f652b962"
   },
   "outputs": [],
   "source": [
    "plt.figure(figsize=(20, 4))\n",
    "\n",
    "plt.plot(history['training']['auc'], label='Train')\n",
    "plt.plot(history['valid_1']['auc'], label='Test')\n",
    "plt.xlabel('Iterations')\n",
    "plt.ylabel('AUC')\n",
    "plt.title('История обучения модели')\n",
    "plt.legend()\n",
    "\n",
    "plt.show()"
   ]
  },
  {
   "cell_type": "markdown",
   "metadata": {
    "id": "7B-9LsD7cmn7"
   },
   "source": [
    "В документации LightGBM есть целый [раздел](https://lightgbm.readthedocs.io/en/latest/Parameters-Tuning.html) о том, как тюнить параметры. \n",
    "Попробуем улучшить качество. "
   ]
  },
  {
   "cell_type": "code",
   "execution_count": null,
   "metadata": {
    "id": "VGXPd-n2cmn7"
   },
   "outputs": [],
   "source": [
    "c = {\n",
    "    'boost': 'gbdt',\n",
    "    'metric':'auc',\n",
    "    'num_threads': 12,\n",
    "    'objective': 'binary', \n",
    "    'bagging_fraction': 0.7, # Не больше 70% выборки\n",
    "    'feature_fraction': 0.7, # Не больше 70% фич\n",
    "    'learning_rate': 0.5, # Установим скорость обучения\n",
    "    'max_depth': 2, # Ограничим дерево \n",
    "    'min_data_in_leaf': 100, # Ограничим кол-во объектов в листе \n",
    "    'num_leaves': 2, # Ограничим кол-во листьев (Не совсем то, что max_depth)\n",
    "}"
   ]
  },
  {
   "cell_type": "code",
   "execution_count": null,
   "metadata": {
    "colab": {
     "base_uri": "https://localhost:8080/"
    },
    "id": "V9th7YvHcmn9",
    "outputId": "d8df4883-83e8-4f85-b744-96f2f4688dee"
   },
   "outputs": [],
   "source": [
    "history = {}\n",
    "\n",
    "# Увеличим кол-во итераций num_boost_round и установим критерий останова early_stopping_rounds\n",
    "clf = lgb.train(param, trn_data, num_boost_round=3000, \n",
    "                valid_sets=[trn_data, val_data], \n",
    "                verbose_eval=200,  evals_result=history,\n",
    "                early_stopping_rounds=100)"
   ]
  },
  {
   "cell_type": "code",
   "execution_count": null,
   "metadata": {
    "colab": {
     "base_uri": "https://localhost:8080/",
     "height": 295
    },
    "id": "JDk4p0Whcmn_",
    "outputId": "1b5d91a2-de9a-44d6-b913-48e4872527ec"
   },
   "outputs": [],
   "source": [
    "plt.figure(figsize=(20, 4))\n",
    "\n",
    "plt.plot(history['training']['auc'], label='Train')\n",
    "plt.plot(history['valid_1']['auc'], label='Test')\n",
    "plt.xlabel('Iterations')\n",
    "plt.ylabel('AUC')\n",
    "plt.title('История обучения модели')\n",
    "plt.legend()\n",
    "\n",
    "plt.show()"
   ]
  },
  {
   "cell_type": "markdown",
   "metadata": {
    "id": "xWDYkE-E1lQd"
   },
   "source": [
    "## XGboost"
   ]
  },
  {
   "cell_type": "code",
   "execution_count": null,
   "metadata": {
    "colab": {
     "base_uri": "https://localhost:8080/"
    },
    "id": "BBYpWVAwcmoP",
    "outputId": "35d19d76-12a7-45e8-b23c-019332ccf24c"
   },
   "outputs": [],
   "source": [
    "!pip install xgboost\n",
    "from xgboost import XGBClassifier, DMatrix, train"
   ]
  },
  {
   "cell_type": "markdown",
   "metadata": {
    "id": "07Z8OaMhZdTI"
   },
   "source": [
    "Описание [XGBClassifier](https://xgboost.readthedocs.io/en/latest/python/python_api.html?highlight=train#xgboost.XGBClassifier)"
   ]
  },
  {
   "cell_type": "code",
   "execution_count": null,
   "metadata": {
    "id": "omDH6DPMYHr4"
   },
   "outputs": [],
   "source": [
    "params = {\n",
    "    'n_estimators': 450,\n",
    "    'colsample_bytree': 0.75,\n",
    "    'reg_alpha': 1,\n",
    "    'reg_lambda': 2,\n",
    "    'subsample': 0.55,\n",
    "    'learning_rate': 0.5,\n",
    "    'gamma': 0.5,\n",
    "    'min_child_weight': 0.01,\n",
    "    'sampling_method': 'uniform',\n",
    "    'n_jobs': -1,\n",
    "    'gpu_id ': 0,\n",
    "}\n",
    "\n",
    "xgb = XGBClassifier(**params, random_state=seed)"
   ]
  },
  {
   "cell_type": "code",
   "execution_count": null,
   "metadata": {
    "colab": {
     "base_uri": "https://localhost:8080/"
    },
    "id": "dEHQRun4YlHY",
    "outputId": "93d0c582-72d6-4e29-f9af-bced2fb787ce"
   },
   "outputs": [],
   "source": [
    "history = {}\n",
    "\n",
    "xgb.fit(x_train, y_train,\n",
    "        eval_metric=['auc'], eval_set=[(x_train, y_train), (x_test, y_test)], \n",
    "        verbose=True, early_stopping_rounds=100)"
   ]
  },
  {
   "cell_type": "code",
   "execution_count": null,
   "metadata": {
    "colab": {
     "base_uri": "https://localhost:8080/"
    },
    "id": "A0w1sgEr3NGc",
    "outputId": "276a99ba-637e-4a4e-9e0d-fc450763e17e"
   },
   "outputs": [],
   "source": [
    "preds = xgb.predict(x_test)\n",
    "preds"
   ]
  },
  {
   "cell_type": "code",
   "execution_count": null,
   "metadata": {
    "id": "qZkVKog5VY55"
   },
   "outputs": [],
   "source": [
    "from sklearn.metrics import roc_auc_score"
   ]
  },
  {
   "cell_type": "code",
   "execution_count": null,
   "metadata": {
    "colab": {
     "base_uri": "https://localhost:8080/"
    },
    "id": "oRfwSsNl17E8",
    "outputId": "4d6cb7c8-8748-4783-df09-d1b29e084fcc"
   },
   "outputs": [],
   "source": [
    "roc_auc_score(y_test, preds)"
   ]
  },
  {
   "cell_type": "markdown",
   "metadata": {
    "id": "5HPsSvUrtkWT"
   },
   "source": [
    "## CatBoost"
   ]
  },
  {
   "cell_type": "code",
   "execution_count": null,
   "metadata": {
    "colab": {
     "base_uri": "https://localhost:8080/"
    },
    "id": "NyouV-amcmoB",
    "outputId": "6efbf66c-95cf-41ff-acfa-0595d50d26c1"
   },
   "outputs": [],
   "source": [
    "!pip install catboost\n",
    "from catboost import CatBoostClassifier, Pool"
   ]
  },
  {
   "cell_type": "code",
   "execution_count": null,
   "metadata": {
    "id": "RAOW3n2xcmoD"
   },
   "outputs": [],
   "source": [
    "cbc = CatBoostClassifier(random_state=seed, \n",
    "                         early_stopping_rounds=100, \n",
    "                         task_type=\"GPU\", devices='0:1')"
   ]
  },
  {
   "cell_type": "code",
   "execution_count": null,
   "metadata": {
    "colab": {
     "base_uri": "https://localhost:8080/",
     "height": 200
    },
    "id": "tumurJRTcmoF",
    "outputId": "eab9c69c-8064-4c15-cbe5-a34414691419"
   },
   "outputs": [],
   "source": [
    "# Загрузим данные и не проведем предобработки: \n",
    "data = pd.read_csv('./gdrive/My Drive/Colab Notebooks/week_05_ensembels/data/flight_delays_train.csv')\n",
    "data['dep_delayed_15min'] = data['dep_delayed_15min'].apply(lambda x: 1 if x == 'Y' else 0)\n",
    "\n",
    "data.drop('DepTime', axis=1, inplace=True)\n",
    "\n",
    "x = data.drop('dep_delayed_15min', axis=1)\n",
    "y = data['dep_delayed_15min'].values\n",
    "\n",
    "data.head()"
   ]
  },
  {
   "cell_type": "code",
   "execution_count": null,
   "metadata": {
    "id": "EEh0Fzrdu6Ga"
   },
   "outputs": [],
   "source": [
    "x_train, x_test, y_train, y_test = train_test_split(x, y, train_size=0.7,\n",
    "                                                    shuffle=True, \n",
    "                                                    random_state=seed)"
   ]
  },
  {
   "cell_type": "code",
   "execution_count": null,
   "metadata": {
    "colab": {
     "base_uri": "https://localhost:8080/",
     "height": 200
    },
    "id": "m1b7bMKmucbL",
    "outputId": "661d62df-8e49-4582-cc58-7495e7c3b1a5"
   },
   "outputs": [],
   "source": [
    "x_train.head()"
   ]
  },
  {
   "cell_type": "code",
   "execution_count": null,
   "metadata": {
    "id": "vlNuxbbcbB6f"
   },
   "outputs": [],
   "source": [
    "from google.colab import output\n",
    "output.enable_custom_widget_manager()"
   ]
  },
  {
   "cell_type": "code",
   "execution_count": null,
   "metadata": {
    "colab": {
     "base_uri": "https://localhost:8080/",
     "height": 1000,
     "referenced_widgets": [
      "56cbcbfef7f2411293b1c66420ae817b"
     ]
    },
    "id": "eynvMvz9cmoH",
    "outputId": "ca2990cd-acf2-4927-838b-7e71b73df357"
   },
   "outputs": [],
   "source": [
    "valid_set = [x_test, y_test]\n",
    "\n",
    "eval_dataset = Pool(data=x_test,\n",
    "                    label=y_test,\n",
    "                    cat_features=[0, 1, 2, 3, 4, 5])\n",
    "\n",
    "cbc.fit(x_train, y_train, cat_features=[0, 1, 2, 3, 4, 5], eval_set=eval_dataset, \n",
    "        verbose=1, plot=True)"
   ]
  },
  {
   "cell_type": "code",
   "execution_count": null,
   "metadata": {
    "id": "fiVizCUJcmoK"
   },
   "outputs": [],
   "source": [
    "preds = cbc.predict(eval_dataset)"
   ]
  },
  {
   "cell_type": "code",
   "execution_count": null,
   "metadata": {
    "id": "osCMrOqS0gqX"
   },
   "outputs": [],
   "source": [
    "preds"
   ]
  },
  {
   "cell_type": "code",
   "execution_count": null,
   "metadata": {
    "id": "p9wT6slBcmoN"
   },
   "outputs": [],
   "source": [
    "roc_auc_score(y_test, preds)"
   ]
  },
  {
   "cell_type": "code",
   "execution_count": null,
   "metadata": {
    "id": "dUNl_9oJcmoT"
   },
   "outputs": [],
   "source": []
  }
 ],
 "metadata": {
  "accelerator": "GPU",
  "colab": {
   "collapsed_sections": [],
   "name": "Seminar_08_boosting.ipynb",
   "provenance": []
  },
  "kernelspec": {
   "display_name": "Python 3 (ipykernel)",
   "language": "python",
   "name": "python3"
  },
  "language_info": {
   "codemirror_mode": {
    "name": "ipython",
    "version": 3
   },
   "file_extension": ".py",
   "mimetype": "text/x-python",
   "name": "python",
   "nbconvert_exporter": "python",
   "pygments_lexer": "ipython3",
   "version": "3.8.10"
  },
  "widgets": {
   "application/vnd.jupyter.widget-state+json": {
    "56cbcbfef7f2411293b1c66420ae817b": {
     "model_module": "catboost-widget",
     "model_module_version": "^1.0.0",
     "model_name": "CatboostWidgetModel",
     "state": {
      "_dom_classes": [],
      "_model_module": "catboost-widget",
      "_model_module_version": "^1.0.0",
      "_model_name": "CatboostWidgetModel",
      "_view_count": null,
      "_view_module": "catboost-widget",
      "_view_module_version": "^1.0.0",
      "_view_name": "CatboostWidgetView",
      "data": {
       "catboost_info": {
        "content": {
         "data": {
          "iterations": [
           {
            "iteration": 0,
            "learn": [
             0.6708750558
            ],
            "passed_time": 0.05598719975,
            "remaining_time": 55.93121255,
            "test": [
             0.6711374349
            ]
           },
           {
            "iteration": 1,
            "learn": [
             0.6506358817
            ],
            "passed_time": 0.1055956649,
            "remaining_time": 52.69223681,
            "test": [
             0.6510806641
            ]
           },
           {
            "iteration": 2,
            "learn": [
             0.6327310268
            ],
            "passed_time": 0.1565919543,
            "remaining_time": 52.04072615,
            "test": [
             0.633358138
            ]
           },
           {
            "iteration": 3,
            "learn": [
             0.6169039621
            ],
            "passed_time": 0.2048039485,
            "remaining_time": 50.99618319,
            "test": [
             0.6176751302
            ]
           },
           {
            "iteration": 4,
            "learn": [
             0.6025700335
            ],
            "passed_time": 0.268452748,
            "remaining_time": 53.42209685,
            "test": [
             0.603436849
            ]
           },
           {
            "iteration": 5,
            "learn": [
             0.5897800223
            ],
            "passed_time": 0.3163536324,
            "remaining_time": 52.40925176,
            "test": [
             0.5908022135
            ]
           },
           {
            "iteration": 6,
            "learn": [
             0.5783139509
            ],
            "passed_time": 0.3629556739,
            "remaining_time": 51.48785489,
            "test": [
             0.5796453776
            ]
           },
           {
            "iteration": 7,
            "learn": [
             0.5681423549
            ],
            "passed_time": 0.4156645259,
            "remaining_time": 51.54240122,
            "test": [
             0.5694869792
            ]
           },
           {
            "iteration": 8,
            "learn": [
             0.5589560268
            ],
            "passed_time": 0.4742761107,
            "remaining_time": 52.22306952,
            "test": [
             0.5602652344
            ]
           },
           {
            "iteration": 9,
            "learn": [
             0.5502436384
            ],
            "passed_time": 0.5226615127,
            "remaining_time": 51.74348976,
            "test": [
             0.5513288411
            ]
           },
           {
            "iteration": 10,
            "learn": [
             0.5428294643
            ],
            "passed_time": 0.572256498,
            "remaining_time": 51.4510615,
            "test": [
             0.5440049479
            ]
           },
           {
            "iteration": 11,
            "learn": [
             0.5359432478
            ],
            "passed_time": 0.6239921701,
            "remaining_time": 51.37535534,
            "test": [
             0.5371896159
            ]
           },
           {
            "iteration": 12,
            "learn": [
             0.5298045201
            ],
            "passed_time": 0.6903865249,
            "remaining_time": 52.41626924,
            "test": [
             0.5311893229
            ]
           },
           {
            "iteration": 13,
            "learn": [
             0.5244555804
            ],
            "passed_time": 0.7374681492,
            "remaining_time": 51.93882822,
            "test": [
             0.5258073568
            ]
           },
           {
            "iteration": 14,
            "learn": [
             0.5194387835
            ],
            "passed_time": 0.8104902414,
            "remaining_time": 53.22219252,
            "test": [
             0.5206183919
            ]
           },
           {
            "iteration": 15,
            "learn": [
             0.5150513393
            ],
            "passed_time": 0.8603624258,
            "remaining_time": 52.91228919,
            "test": [
             0.5162397461
            ]
           },
           {
            "iteration": 16,
            "learn": [
             0.5110717076
            ],
            "passed_time": 0.9101362716,
            "remaining_time": 52.62729147,
            "test": [
             0.5122197917
            ]
           },
           {
            "iteration": 17,
            "learn": [
             0.5076861049
            ],
            "passed_time": 0.957985948,
            "remaining_time": 52.26345561,
            "test": [
             0.5088423177
            ]
           },
           {
            "iteration": 18,
            "learn": [
             0.5044933036
            ],
            "passed_time": 1.010276811,
            "remaining_time": 52.16218693,
            "test": [
             0.5056230143
            ]
           },
           {
            "iteration": 19,
            "learn": [
             0.5011906808
            ],
            "passed_time": 1.053924857,
            "remaining_time": 51.64231797,
            "test": [
             0.5022120117
            ]
           },
           {
            "iteration": 20,
            "learn": [
             0.498591183
            ],
            "passed_time": 1.095910858,
            "remaining_time": 51.09032046,
            "test": [
             0.4995246419
            ]
           },
           {
            "iteration": 21,
            "learn": [
             0.4962603795
            ],
            "passed_time": 1.148802047,
            "remaining_time": 51.06947282,
            "test": [
             0.4971875977
            ]
           },
           {
            "iteration": 22,
            "learn": [
             0.4942118862
            ],
            "passed_time": 1.196721636,
            "remaining_time": 50.83465383,
            "test": [
             0.4950388021
            ]
           },
           {
            "iteration": 23,
            "learn": [
             0.4920005022
            ],
            "passed_time": 1.245847342,
            "remaining_time": 50.66445859,
            "test": [
             0.4926294596
            ]
           },
           {
            "iteration": 24,
            "learn": [
             0.4900050223
            ],
            "passed_time": 1.293580967,
            "remaining_time": 50.4496577,
            "test": [
             0.4906049805
            ]
           },
           {
            "iteration": 25,
            "learn": [
             0.4885000558
            ],
            "passed_time": 1.340034087,
            "remaining_time": 50.1997385,
            "test": [
             0.4891473633
            ]
           },
           {
            "iteration": 26,
            "learn": [
             0.487109654
            ],
            "passed_time": 1.390894344,
            "remaining_time": 50.12371101,
            "test": [
             0.4876995117
            ]
           },
           {
            "iteration": 27,
            "learn": [
             0.4856475446
            ],
            "passed_time": 1.43547568,
            "remaining_time": 49.83151291,
            "test": [
             0.4862227865
            ]
           },
           {
            "iteration": 28,
            "learn": [
             0.4844322545
            ],
            "passed_time": 1.483618997,
            "remaining_time": 49.67565677,
            "test": [
             0.4849396159
            ]
           },
           {
            "iteration": 29,
            "learn": [
             0.483315904
            ],
            "passed_time": 1.533010671,
            "remaining_time": 49.56734502,
            "test": [
             0.4838476562
            ]
           },
           {
            "iteration": 30,
            "learn": [
             0.4824819754
            ],
            "passed_time": 1.575229243,
            "remaining_time": 49.23861731,
            "test": [
             0.4830508464
            ]
           },
           {
            "iteration": 31,
            "learn": [
             0.4812890067
            ],
            "passed_time": 1.640712627,
            "remaining_time": 49.63155696,
            "test": [
             0.4818681641
            ]
           },
           {
            "iteration": 32,
            "learn": [
             0.480308817
            ],
            "passed_time": 1.69722341,
            "remaining_time": 49.73378903,
            "test": [
             0.4807311198
            ]
           },
           {
            "iteration": 33,
            "learn": [
             0.4795513951
            ],
            "passed_time": 1.746551043,
            "remaining_time": 49.62259728,
            "test": [
             0.4799988281
            ]
           },
           {
            "iteration": 34,
            "learn": [
             0.4787388393
            ],
            "passed_time": 1.796479242,
            "remaining_time": 49.53149911,
            "test": [
             0.479141276
            ]
           },
           {
            "iteration": 35,
            "learn": [
             0.47788125
            ],
            "passed_time": 1.849915732,
            "remaining_time": 49.53663239,
            "test": [
             0.478202474
            ]
           },
           {
            "iteration": 36,
            "learn": [
             0.477180692
            ],
            "passed_time": 1.893688694,
            "remaining_time": 49.28708683,
            "test": [
             0.4774825846
            ]
           },
           {
            "iteration": 37,
            "learn": [
             0.4766310826
            ],
            "passed_time": 1.936637734,
            "remaining_time": 49.02751315,
            "test": [
             0.4769040365
            ]
           },
           {
            "iteration": 38,
            "learn": [
             0.4760645089
            ],
            "passed_time": 1.982134105,
            "remaining_time": 48.84181731,
            "test": [
             0.4762882813
            ]
           },
           {
            "iteration": 39,
            "learn": [
             0.4755786272
            ],
            "passed_time": 2.026425444,
            "remaining_time": 48.63421066,
            "test": [
             0.4757063802
            ]
           },
           {
            "iteration": 40,
            "learn": [
             0.4750271763
            ],
            "passed_time": 2.073248599,
            "remaining_time": 48.49379041,
            "test": [
             0.4751274089
            ]
           },
           {
            "iteration": 41,
            "learn": [
             0.4744131138
            ],
            "passed_time": 2.122694697,
            "remaining_time": 48.41765522,
            "test": [
             0.4744931966
            ]
           },
           {
            "iteration": 42,
            "learn": [
             0.4740070871
            ],
            "passed_time": 2.178302675,
            "remaining_time": 48.47989906,
            "test": [
             0.4740701172
            ]
           },
           {
            "iteration": 43,
            "learn": [
             0.4737222656
            ],
            "passed_time": 2.22248582,
            "remaining_time": 48.28855555,
            "test": [
             0.4737751302
            ]
           },
           {
            "iteration": 44,
            "learn": [
             0.4732738281
            ],
            "passed_time": 2.270956402,
            "remaining_time": 48.19474141,
            "test": [
             0.4732710286
            ]
           },
           {
            "iteration": 45,
            "learn": [
             0.4728830357
            ],
            "passed_time": 2.322379252,
            "remaining_time": 48.16412622,
            "test": [
             0.4727772786
            ]
           },
           {
            "iteration": 46,
            "learn": [
             0.4725666853
            ],
            "passed_time": 2.367087416,
            "remaining_time": 47.99647463,
            "test": [
             0.472479362
            ]
           },
           {
            "iteration": 47,
            "learn": [
             0.4722077009
            ],
            "passed_time": 2.413635527,
            "remaining_time": 47.87043794,
            "test": [
             0.4720923177
            ]
           },
           {
            "iteration": 48,
            "learn": [
             0.4719233817
            ],
            "passed_time": 2.458648907,
            "remaining_time": 47.71785939,
            "test": [
             0.4718034505
            ]
           },
           {
            "iteration": 49,
            "learn": [
             0.4716075893
            ],
            "passed_time": 2.520703063,
            "remaining_time": 47.89335821,
            "test": [
             0.4715066406
            ]
           },
           {
            "iteration": 50,
            "learn": [
             0.4713712612
            ],
            "passed_time": 2.572122645,
            "remaining_time": 47.86165471,
            "test": [
             0.4712556641
            ]
           },
           {
            "iteration": 51,
            "learn": [
             0.4711645089
            ],
            "passed_time": 2.61881556,
            "remaining_time": 47.74302213,
            "test": [
             0.4710844401
            ]
           },
           {
            "iteration": 52,
            "learn": [
             0.4708732143
            ],
            "passed_time": 2.670743574,
            "remaining_time": 47.72064462,
            "test": [
             0.4707596354
            ]
           },
           {
            "iteration": 53,
            "learn": [
             0.4706420201
            ],
            "passed_time": 2.725148861,
            "remaining_time": 47.74057079,
            "test": [
             0.4705445964
            ]
           },
           {
            "iteration": 54,
            "learn": [
             0.4703854353
            ],
            "passed_time": 2.776705651,
            "remaining_time": 47.70885165,
            "test": [
             0.4702582357
            ]
           },
           {
            "iteration": 55,
            "learn": [
             0.4702525112
            ],
            "passed_time": 2.826971772,
            "remaining_time": 47.65466702,
            "test": [
             0.4701381836
            ]
           },
           {
            "iteration": 56,
            "learn": [
             0.4700626674
            ],
            "passed_time": 2.869351993,
            "remaining_time": 47.47015666,
            "test": [
             0.4699640951
            ]
           },
           {
            "iteration": 57,
            "learn": [
             0.4699010603
            ],
            "passed_time": 2.913910274,
            "remaining_time": 47.32592203,
            "test": [
             0.4698021484
            ]
           },
           {
            "iteration": 58,
            "learn": [
             0.4697231027
            ],
            "passed_time": 2.963255085,
            "remaining_time": 47.26140737,
            "test": [
             0.4695953451
            ]
           },
           {
            "iteration": 59,
            "learn": [
             0.4695415179
            ],
            "passed_time": 3.009378392,
            "remaining_time": 47.14692814,
            "test": [
             0.4693877604
            ]
           },
           {
            "iteration": 60,
            "learn": [
             0.4693328683
            ],
            "passed_time": 3.0837462,
            "remaining_time": 47.46947019,
            "test": [
             0.4691936849
            ]
           },
           {
            "iteration": 61,
            "learn": [
             0.469203125
            ],
            "passed_time": 3.128103968,
            "remaining_time": 47.32518583,
            "test": [
             0.4690966797
            ]
           },
           {
            "iteration": 62,
            "learn": [
             0.468988058
            ],
            "passed_time": 3.178042051,
            "remaining_time": 47.26706987,
            "test": [
             0.4688545247
            ]
           },
           {
            "iteration": 63,
            "learn": [
             0.4688546875
            ],
            "passed_time": 3.219668713,
            "remaining_time": 47.08765493,
            "test": [
             0.468733138
            ]
           },
           {
            "iteration": 64,
            "learn": [
             0.4687592076
            ],
            "passed_time": 3.260864978,
            "remaining_time": 46.90628853,
            "test": [
             0.4686263672
            ]
           },
           {
            "iteration": 65,
            "learn": [
             0.468653404
            ],
            "passed_time": 3.309359852,
            "remaining_time": 46.83245609,
            "test": [
             0.4685435547
            ]
           },
           {
            "iteration": 66,
            "learn": [
             0.4684459263
            ],
            "passed_time": 3.35736097,
            "remaining_time": 46.75250426,
            "test": [
             0.4682822591
            ]
           },
           {
            "iteration": 67,
            "learn": [
             0.4682871652
            ],
            "passed_time": 3.40833334,
            "remaining_time": 46.71421578,
            "test": [
             0.4681061198
            ]
           },
           {
            "iteration": 68,
            "learn": [
             0.4681304687
            ],
            "passed_time": 3.460862097,
            "remaining_time": 46.6965596,
            "test": [
             0.4679231445
            ]
           },
           {
            "iteration": 69,
            "learn": [
             0.4679843192
            ],
            "passed_time": 3.538466244,
            "remaining_time": 47.01105152,
            "test": [
             0.4677267578
            ]
           },
           {
            "iteration": 70,
            "learn": [
             0.467840904
            ],
            "passed_time": 3.58516155,
            "remaining_time": 46.91007155,
            "test": [
             0.4675601563
            ]
           },
           {
            "iteration": 71,
            "learn": [
             0.4677317522
            ],
            "passed_time": 3.638311503,
            "remaining_time": 46.8937927,
            "test": [
             0.4674259115
            ]
           },
           {
            "iteration": 72,
            "learn": [
             0.4675974051
            ],
            "passed_time": 3.690527211,
            "remaining_time": 46.86464007,
            "test": [
             0.4673207682
            ]
           },
           {
            "iteration": 73,
            "learn": [
             0.4674378906
            ],
            "passed_time": 3.738233539,
            "remaining_time": 46.77843591,
            "test": [
             0.4671246094
            ]
           },
           {
            "iteration": 74,
            "learn": [
             0.4673419085
            ],
            "passed_time": 3.779949398,
            "remaining_time": 46.61937591,
            "test": [
             0.4670368815
            ]
           },
           {
            "iteration": 75,
            "learn": [
             0.4672035993
            ],
            "passed_time": 3.847597332,
            "remaining_time": 46.77868335,
            "test": [
             0.466920931
            ]
           },
           {
            "iteration": 76,
            "learn": [
             0.467083817
            ],
            "passed_time": 3.895992542,
            "remaining_time": 46.7013132,
            "test": [
             0.4667637044
            ]
           },
           {
            "iteration": 77,
            "learn": [
             0.4670057199
            ],
            "passed_time": 3.943210879,
            "remaining_time": 46.61077474,
            "test": [
             0.466670638
            ]
           },
           {
            "iteration": 78,
            "learn": [
             0.4668676897
            ],
            "passed_time": 3.993252178,
            "remaining_time": 46.55424375,
            "test": [
             0.4665265299
            ]
           },
           {
            "iteration": 79,
            "learn": [
             0.4667341239
            ],
            "passed_time": 4.035946399,
            "remaining_time": 46.41338359,
            "test": [
             0.4664164063
            ]
           },
           {
            "iteration": 80,
            "learn": [
             0.466602846
            ],
            "passed_time": 4.085469671,
            "remaining_time": 46.35242751,
            "test": [
             0.4662333008
            ]
           },
           {
            "iteration": 81,
            "learn": [
             0.4665491629
            ],
            "passed_time": 4.125656804,
            "remaining_time": 46.18723104,
            "test": [
             0.4661998698
            ]
           },
           {
            "iteration": 82,
            "learn": [
             0.4664527065
            ],
            "passed_time": 4.167415289,
            "remaining_time": 46.04240747,
            "test": [
             0.4661200195
            ]
           },
           {
            "iteration": 83,
            "learn": [
             0.4663954799
            ],
            "passed_time": 4.214038209,
            "remaining_time": 45.95308333,
            "test": [
             0.4660985026
            ]
           },
           {
            "iteration": 84,
            "learn": [
             0.4663570033
            ],
            "passed_time": 4.265461352,
            "remaining_time": 45.91643691,
            "test": [
             0.4660679036
            ]
           },
           {
            "iteration": 85,
            "learn": [
             0.4662688058
            ],
            "passed_time": 4.315673493,
            "remaining_time": 45.86657643,
            "test": [
             0.4659668945
            ]
           },
           {
            "iteration": 86,
            "learn": [
             0.4662102121
            ],
            "passed_time": 4.36023473,
            "remaining_time": 45.75740584,
            "test": [
             0.4659133789
            ]
           },
           {
            "iteration": 87,
            "learn": [
             0.4661157087
            ],
            "passed_time": 4.407381,
            "remaining_time": 45.676494,
            "test": [
             0.4658210286
            ]
           },
           {
            "iteration": 88,
            "learn": [
             0.4660257254
            ],
            "passed_time": 4.453381619,
            "remaining_time": 45.5846141,
            "test": [
             0.4657138672
            ]
           },
           {
            "iteration": 89,
            "learn": [
             0.4659429129
            ],
            "passed_time": 4.504968122,
            "remaining_time": 45.55023324,
            "test": [
             0.4656453125
            ]
           },
           {
            "iteration": 90,
            "learn": [
             0.4658683594
            ],
            "passed_time": 4.578608474,
            "remaining_time": 45.73577036,
            "test": [
             0.4655485352
            ]
           },
           {
            "iteration": 91,
            "learn": [
             0.4657982701
            ],
            "passed_time": 4.626555293,
            "remaining_time": 45.6620892,
            "test": [
             0.4654972005
            ]
           },
           {
            "iteration": 92,
            "learn": [
             0.4657166295
            ],
            "passed_time": 4.682697915,
            "remaining_time": 45.66889257,
            "test": [
             0.4654126628
            ]
           },
           {
            "iteration": 93,
            "learn": [
             0.4656465123
            ],
            "passed_time": 4.730219959,
            "remaining_time": 45.59126897,
            "test": [
             0.4653288411
            ]
           },
           {
            "iteration": 94,
            "learn": [
             0.4655836217
            ],
            "passed_time": 4.776337789,
            "remaining_time": 45.5009021,
            "test": [
             0.4652923177
            ]
           },
           {
            "iteration": 95,
            "learn": [
             0.465457952
            ],
            "passed_time": 4.823640782,
            "remaining_time": 45.42261736,
            "test": [
             0.4651588216
            ]
           },
           {
            "iteration": 96,
            "learn": [
             0.4653880859
            ],
            "passed_time": 4.864938653,
            "remaining_time": 45.28906808,
            "test": [
             0.465112793
            ]
           },
           {
            "iteration": 97,
            "learn": [
             0.4652919085
            ],
            "passed_time": 4.907484885,
            "remaining_time": 45.16889149,
            "test": [
             0.4650068034
            ]
           },
           {
            "iteration": 98,
            "learn": [
             0.4652365234
            ],
            "passed_time": 4.954173892,
            "remaining_time": 45.08798663,
            "test": [
             0.4649972982
            ]
           },
           {
            "iteration": 99,
            "learn": [
             0.4652073382
            ],
            "passed_time": 5.001848623,
            "remaining_time": 45.0166376,
            "test": [
             0.4649770833
            ]
           },
           {
            "iteration": 100,
            "learn": [
             0.4650922154
            ],
            "passed_time": 5.046234805,
            "remaining_time": 44.91648603,
            "test": [
             0.4648909505
            ]
           },
           {
            "iteration": 101,
            "learn": [
             0.4650506417
            ],
            "passed_time": 5.08957811,
            "remaining_time": 44.8082465,
            "test": [
             0.464877474
            ]
           },
           {
            "iteration": 102,
            "learn": [
             0.464982952
            ],
            "passed_time": 5.139539163,
            "remaining_time": 44.75889931,
            "test": [
             0.4648581055
            ]
           },
           {
            "iteration": 103,
            "learn": [
             0.4649179967
            ],
            "passed_time": 5.188346904,
            "remaining_time": 44.6996041,
            "test": [
             0.4647980469
            ]
           },
           {
            "iteration": 104,
            "learn": [
             0.4648782645
            ],
            "passed_time": 5.233379692,
            "remaining_time": 44.60833166,
            "test": [
             0.4647889974
            ]
           },
           {
            "iteration": 105,
            "learn": [
             0.4648082589
            ],
            "passed_time": 5.282807681,
            "remaining_time": 44.55500063,
            "test": [
             0.4647280924
            ]
           },
           {
            "iteration": 106,
            "learn": [
             0.464757673
            ],
            "passed_time": 5.329364068,
            "remaining_time": 44.47777675,
            "test": [
             0.4646910482
            ]
           },
           {
            "iteration": 107,
            "learn": [
             0.4647
            ],
            "passed_time": 5.366946241,
            "remaining_time": 44.32700044,
            "test": [
             0.4646586589
            ]
           },
           {
            "iteration": 108,
            "learn": [
             0.4646031529
            ],
            "passed_time": 5.407503988,
            "remaining_time": 44.20262434,
            "test": [
             0.4645903646
            ]
           },
           {
            "iteration": 109,
            "learn": [
             0.464570173
            ],
            "passed_time": 5.452404587,
            "remaining_time": 44.11490984,
            "test": [
             0.4645834961
            ]
           },
           {
            "iteration": 110,
            "learn": [
             0.4645310547
            ],
            "passed_time": 5.50445162,
            "remaining_time": 44.08520261,
            "test": [
             0.4645667969
            ]
           },
           {
            "iteration": 111,
            "learn": [
             0.4644738002
            ],
            "passed_time": 5.567227047,
            "remaining_time": 44.1401573,
            "test": [
             0.4645353841
            ]
           },
           {
            "iteration": 112,
            "learn": [
             0.464418192
            ],
            "passed_time": 5.607878569,
            "remaining_time": 44.01936541,
            "test": [
             0.4645145508
            ]
           },
           {
            "iteration": 113,
            "learn": [
             0.4643878627
            ],
            "passed_time": 5.654441456,
            "remaining_time": 43.94592219,
            "test": [
             0.4645125651
            ]
           },
           {
            "iteration": 114,
            "learn": [
             0.4643330078
            ],
            "passed_time": 5.72422834,
            "remaining_time": 44.05167027,
            "test": [
             0.4644852865
            ]
           },
           {
            "iteration": 115,
            "learn": [
             0.4642840123
            ],
            "passed_time": 5.766480001,
            "remaining_time": 43.94455449,
            "test": [
             0.4644498698
            ]
           },
           {
            "iteration": 116,
            "learn": [
             0.4642641741
            ],
            "passed_time": 5.809749242,
            "remaining_time": 43.84622718,
            "test": [
             0.4644389648
            ]
           },
           {
            "iteration": 117,
            "learn": [
             0.4642407366
            ],
            "passed_time": 5.855337108,
            "remaining_time": 43.76616381,
            "test": [
             0.4644182943
            ]
           },
           {
            "iteration": 118,
            "learn": [
             0.4641977958
            ],
            "passed_time": 5.904373564,
            "remaining_time": 43.71221101,
            "test": [
             0.4643933594
            ]
           },
           {
            "iteration": 119,
            "learn": [
             0.4641181362
            ],
            "passed_time": 5.949412101,
            "remaining_time": 43.62902207,
            "test": [
             0.4643609701
            ]
           },
           {
            "iteration": 120,
            "learn": [
             0.4640661272
            ],
            "passed_time": 5.989136634,
            "remaining_time": 43.50786034,
            "test": [
             0.4643515625
            ]
           },
           {
            "iteration": 121,
            "learn": [
             0.4640134208
            ],
            "passed_time": 6.03720831,
            "remaining_time": 43.44810571,
            "test": [
             0.4643421875
            ]
           },
           {
            "iteration": 122,
            "learn": [
             0.4639381417
            ],
            "passed_time": 6.088844521,
            "remaining_time": 43.41395646,
            "test": [
             0.464278125
            ]
           },
           {
            "iteration": 123,
            "learn": [
             0.4638816685
            ],
            "passed_time": 6.132171613,
            "remaining_time": 43.32082526,
            "test": [
             0.4642101237
            ]
           },
           {
            "iteration": 124,
            "learn": [
             0.4638479632
            ],
            "passed_time": 6.190509534,
            "remaining_time": 43.33356674,
            "test": [
             0.4642026693
            ]
           },
           {
            "iteration": 125,
            "learn": [
             0.4638284598
            ],
            "passed_time": 6.228234348,
            "remaining_time": 43.20219699,
            "test": [
             0.4641945964
            ]
           },
           {
            "iteration": 126,
            "learn": [
             0.4637724609
            ],
            "passed_time": 6.274670598,
            "remaining_time": 43.1321845,
            "test": [
             0.4641750651
            ]
           },
           {
            "iteration": 127,
            "learn": [
             0.4637144531
            ],
            "passed_time": 6.317953685,
            "remaining_time": 43.04105948,
            "test": [
             0.4641453451
            ]
           },
           {
            "iteration": 128,
            "learn": [
             0.4636480469
            ],
            "passed_time": 6.364037178,
            "remaining_time": 42.96958436,
            "test": [
             0.464104362
            ]
           },
           {
            "iteration": 129,
            "learn": [
             0.4635582031
            ],
            "passed_time": 6.406648548,
            "remaining_time": 42.87526336,
            "test": [
             0.4640471354
            ]
           },
           {
            "iteration": 130,
            "learn": [
             0.4634635882
            ],
            "passed_time": 6.457989158,
            "remaining_time": 42.839638,
            "test": [
             0.4639270833
            ]
           },
           {
            "iteration": 131,
            "learn": [
             0.4634059989
            ],
            "passed_time": 6.503186133,
            "remaining_time": 42.76337548,
            "test": [
             0.4638823893
            ]
           },
           {
            "iteration": 132,
            "learn": [
             0.463355106
            ],
            "passed_time": 6.56990338,
            "remaining_time": 42.8278664,
            "test": [
             0.4638883789
            ]
           },
           {
            "iteration": 133,
            "learn": [
             0.4632835379
            ],
            "passed_time": 6.61734888,
            "remaining_time": 42.76585172,
            "test": [
             0.4638809896
            ]
           },
           {
            "iteration": 134,
            "learn": [
             0.463246596
            ],
            "passed_time": 6.65587844,
            "remaining_time": 42.64692482,
            "test": [
             0.4638494466
            ]
           },
           {
            "iteration": 135,
            "learn": [
             0.4631967355
            ],
            "passed_time": 6.706689924,
            "remaining_time": 42.60720658,
            "test": [
             0.4638389974
            ]
           },
           {
            "iteration": 136,
            "learn": [
             0.4631448103
            ],
            "passed_time": 6.75491608,
            "remaining_time": 42.55104071,
            "test": [
             0.4637959635
            ]
           },
           {
            "iteration": 137,
            "learn": [
             0.4630939732
            ],
            "passed_time": 6.794536854,
            "remaining_time": 42.44123745,
            "test": [
             0.4637995443
            ]
           },
           {
            "iteration": 138,
            "learn": [
             0.4630469587
            ],
            "passed_time": 6.843166098,
            "remaining_time": 42.38824468,
            "test": [
             0.4637276693
            ]
           },
           {
            "iteration": 139,
            "learn": [
             0.4629941685
            ],
            "passed_time": 6.889606811,
            "remaining_time": 42.32187041,
            "test": [
             0.4637395508
            ]
           },
           {
            "iteration": 140,
            "learn": [
             0.4629812221
            ],
            "passed_time": 6.943773484,
            "remaining_time": 42.30284697,
            "test": [
             0.4637417643
            ]
           },
           {
            "iteration": 141,
            "learn": [
             0.4629330357
            ],
            "passed_time": 6.983543971,
            "remaining_time": 42.19634315,
            "test": [
             0.4637105469
            ]
           },
           {
            "iteration": 142,
            "learn": [
             0.4628747768
            ],
            "passed_time": 7.028128776,
            "remaining_time": 42.1196249,
            "test": [
             0.463664974
            ]
           },
           {
            "iteration": 143,
            "learn": [
             0.46283351
            ],
            "passed_time": 7.078123154,
            "remaining_time": 42.07550986,
            "test": [
             0.4636416992
            ]
           },
           {
            "iteration": 144,
            "learn": [
             0.4627873884
            ],
            "passed_time": 7.12395092,
            "remaining_time": 42.00674508,
            "test": [
             0.4636083008
            ]
           },
           {
            "iteration": 145,
            "learn": [
             0.4627442801
            ],
            "passed_time": 7.16535541,
            "remaining_time": 41.91242137,
            "test": [
             0.4635936523
            ]
           },
           {
            "iteration": 146,
            "learn": [
             0.4627083147
            ],
            "passed_time": 7.208701796,
            "remaining_time": 41.83008593,
            "test": [
             0.4635813151
            ]
           },
           {
            "iteration": 147,
            "learn": [
             0.4626496931
            ],
            "passed_time": 7.255897055,
            "remaining_time": 41.7704344,
            "test": [
             0.4635376953
            ]
           },
           {
            "iteration": 148,
            "learn": [
             0.4626041295
            ],
            "passed_time": 7.300274867,
            "remaining_time": 41.69485847,
            "test": [
             0.4635161458
            ]
           },
           {
            "iteration": 149,
            "learn": [
             0.4625773717
            ],
            "passed_time": 7.339828202,
            "remaining_time": 41.59235981,
            "test": [
             0.4635178385
            ]
           },
           {
            "iteration": 150,
            "learn": [
             0.462532952
            ],
            "passed_time": 7.386054456,
            "remaining_time": 41.52821347,
            "test": [
             0.4635142578
            ]
           },
           {
            "iteration": 151,
            "learn": [
             0.46251476
            ],
            "passed_time": 7.438839157,
            "remaining_time": 41.50089214,
            "test": [
             0.4634983073
            ]
           },
           {
            "iteration": 152,
            "learn": [
             0.4624788783
            ],
            "passed_time": 7.48234705,
            "remaining_time": 41.42188203,
            "test": [
             0.4634938151
            ]
           },
           {
            "iteration": 153,
            "learn": [
             0.4624341518
            ],
            "passed_time": 7.534393593,
            "remaining_time": 41.39024013,
            "test": [
             0.4634332682
            ]
           },
           {
            "iteration": 154,
            "learn": [
             0.4624128627
            ],
            "passed_time": 7.593474734,
            "remaining_time": 41.39668484,
            "test": [
             0.4634326172
            ]
           },
           {
            "iteration": 155,
            "learn": [
             0.4623698103
            ],
            "passed_time": 7.642393221,
            "remaining_time": 41.34730691,
            "test": [
             0.4634249023
            ]
           },
           {
            "iteration": 156,
            "learn": [
             0.4622885603
            ],
            "passed_time": 7.698104614,
            "remaining_time": 41.33440885,
            "test": [
             0.4633857747
            ]
           },
           {
            "iteration": 157,
            "learn": [
             0.4622552734
            ],
            "passed_time": 7.748560537,
            "remaining_time": 41.29296185,
            "test": [
             0.4633816081
            ]
           },
           {
            "iteration": 158,
            "learn": [
             0.4621583984
            ],
            "passed_time": 7.791370118,
            "remaining_time": 41.21095767,
            "test": [
             0.4632707031
            ]
           },
           {
            "iteration": 159,
            "learn": [
             0.4621045201
            ],
            "passed_time": 7.855345912,
            "remaining_time": 41.24056604,
            "test": [
             0.4632341797
            ]
           },
           {
            "iteration": 160,
            "learn": [
             0.4620371373
            ],
            "passed_time": 7.901932065,
            "remaining_time": 41.17839132,
            "test": [
             0.4631479492
            ]
           },
           {
            "iteration": 161,
            "learn": [
             0.4619807478
            ],
            "passed_time": 7.944533878,
            "remaining_time": 41.0957987,
            "test": [
             0.4631496745
            ]
           },
           {
            "iteration": 162,
            "learn": [
             0.4619199219
            ],
            "passed_time": 7.994221271,
            "remaining_time": 41.05008101,
            "test": [
             0.4631114258
            ]
           },
           {
            "iteration": 163,
            "learn": [
             0.4618825893
            ],
            "passed_time": 8.036233571,
            "remaining_time": 40.96519064,
            "test": [
             0.4630926758
            ]
           },
           {
            "iteration": 164,
            "learn": [
             0.4618612165
            ],
            "passed_time": 8.079734455,
            "remaining_time": 40.88835315,
            "test": [
             0.4630873698
            ]
           },
           {
            "iteration": 165,
            "learn": [
             0.4618395368
            ],
            "passed_time": 8.147467498,
            "remaining_time": 40.93366201,
            "test": [
             0.463078418
            ]
           },
           {
            "iteration": 166,
            "learn": [
             0.4617895089
            ],
            "passed_time": 8.189923417,
            "remaining_time": 40.85153417,
            "test": [
             0.4630564779
            ]
           },
           {
            "iteration": 167,
            "learn": [
             0.4617435826
            ],
            "passed_time": 8.2469365,
            "remaining_time": 40.84197124,
            "test": [
             0.4630421224
            ]
           },
           {
            "iteration": 168,
            "learn": [
             0.4617146484
            ],
            "passed_time": 8.287762006,
            "remaining_time": 40.75224987,
            "test": [
             0.4630128255
            ]
           },
           {
            "iteration": 169,
            "learn": [
             0.4616629464
            ],
            "passed_time": 8.33859149,
            "remaining_time": 40.71194669,
            "test": [
             0.4629972656
            ]
           },
           {
            "iteration": 170,
            "learn": [
             0.4616193638
            ],
            "passed_time": 8.383085042,
            "remaining_time": 40.64080409,
            "test": [
             0.4629481771
            ]
           },
           {
            "iteration": 171,
            "learn": [
             0.4615882533
            ],
            "passed_time": 8.424334384,
            "remaining_time": 40.55435389,
            "test": [
             0.4629397461
            ]
           },
           {
            "iteration": 172,
            "learn": [
             0.461501144
            ],
            "passed_time": 8.471215198,
            "remaining_time": 40.49534664,
            "test": [
             0.4628202799
            ]
           },
           {
            "iteration": 173,
            "learn": [
             0.4614492746
            ],
            "passed_time": 8.519958882,
            "remaining_time": 40.44532205,
            "test": [
             0.4627910156
            ]
           },
           {
            "iteration": 174,
            "learn": [
             0.4613897879
            ],
            "passed_time": 8.561549586,
            "remaining_time": 40.3615909,
            "test": [
             0.4627710937
            ]
           },
           {
            "iteration": 175,
            "learn": [
             0.4613494978
            ],
            "passed_time": 8.628292851,
            "remaining_time": 40.39609835,
            "test": [
             0.4627710937
            ]
           },
           {
            "iteration": 176,
            "learn": [
             0.4613006417
            ],
            "passed_time": 8.687212754,
            "remaining_time": 40.39308529,
            "test": [
             0.4627608398
            ]
           },
           {
            "iteration": 177,
            "learn": [
             0.4612617187
            ],
            "passed_time": 8.736324503,
            "remaining_time": 40.34415024,
            "test": [
             0.4627613607
            ]
           },
           {
            "iteration": 178,
            "learn": [
             0.4612151507
            ],
            "passed_time": 8.779824653,
            "remaining_time": 40.26947508,
            "test": [
             0.4627502279
            ]
           },
           {
            "iteration": 179,
            "learn": [
             0.4611495257
            ],
            "passed_time": 8.81640966,
            "remaining_time": 40.16364401,
            "test": [
             0.4627429362
            ]
           },
           {
            "iteration": 180,
            "learn": [
             0.4611122768
            ],
            "passed_time": 8.862925556,
            "remaining_time": 40.10351398,
            "test": [
             0.4627348307
            ]
           },
           {
            "iteration": 181,
            "learn": [
             0.4610689732
            ],
            "passed_time": 8.92134466,
            "remaining_time": 40.09703259,
            "test": [
             0.462731543
            ]
           },
           {
            "iteration": 182,
            "learn": [
             0.4610034598
            ],
            "passed_time": 8.962444607,
            "remaining_time": 40.01266254,
            "test": [
             0.4627245117
            ]
           },
           {
            "iteration": 183,
            "learn": [
             0.4609542411
            ],
            "passed_time": 9.005677767,
            "remaining_time": 39.93822314,
            "test": [
             0.4627088216
            ]
           },
           {
            "iteration": 184,
            "learn": [
             0.4609277902
            ],
            "passed_time": 9.044718815,
            "remaining_time": 39.84565316,
            "test": [
             0.4627034831
            ]
           },
           {
            "iteration": 185,
            "learn": [
             0.4609080636
            ],
            "passed_time": 9.088146271,
            "remaining_time": 39.77285519,
            "test": [
             0.4627010742
            ]
           },
           {
            "iteration": 186,
            "learn": [
             0.460861356
            ],
            "passed_time": 9.140425065,
            "remaining_time": 39.73885336,
            "test": [
             0.4626800781
            ]
           },
           {
            "iteration": 187,
            "learn": [
             0.4608132812
            ],
            "passed_time": 9.184792401,
            "remaining_time": 39.67048633,
            "test": [
             0.4626821289
            ]
           },
           {
            "iteration": 188,
            "learn": [
             0.4607773996
            ],
            "passed_time": 9.233859542,
            "remaining_time": 39.62254015,
            "test": [
             0.4626868815
            ]
           },
           {
            "iteration": 189,
            "learn": [
             0.4607506696
            ],
            "passed_time": 9.285721811,
            "remaining_time": 39.58649825,
            "test": [
             0.4626871745
            ]
           },
           {
            "iteration": 190,
            "learn": [
             0.4607188058
            ],
            "passed_time": 9.324642224,
            "remaining_time": 39.49547413,
            "test": [
             0.4626870768
            ]
           },
           {
            "iteration": 191,
            "learn": [
             0.4606889509
            ],
            "passed_time": 9.371306142,
            "remaining_time": 39.43758002,
            "test": [
             0.4626801432
            ]
           },
           {
            "iteration": 192,
            "learn": [
             0.4606689174
            ],
            "passed_time": 9.410987596,
            "remaining_time": 39.35060617,
            "test": [
             0.4626736328
            ]
           },
           {
            "iteration": 193,
            "learn": [
             0.4606287946
            ],
            "passed_time": 9.461976492,
            "remaining_time": 39.31109821,
            "test": [
             0.4626397135
            ]
           },
           {
            "iteration": 194,
            "learn": [
             0.4606044085
            ],
            "passed_time": 9.498843514,
            "remaining_time": 39.2131745,
            "test": [
             0.4626325521
            ]
           },
           {
            "iteration": 195,
            "learn": [
             0.4605785714
            ],
            "passed_time": 9.538780842,
            "remaining_time": 39.12846835,
            "test": [
             0.4626321615
            ]
           },
           {
            "iteration": 196,
            "learn": [
             0.4605250558
            ],
            "passed_time": 9.592900039,
            "remaining_time": 39.10202401,
            "test": [
             0.4626185872
            ]
           },
           {
            "iteration": 197,
            "learn": [
             0.4605118583
            ],
            "passed_time": 9.670062086,
            "remaining_time": 39.16863532,
            "test": [
             0.4626110352
            ]
           },
           {
            "iteration": 198,
            "learn": [
             0.4604839844
            ],
            "passed_time": 9.727222463,
            "remaining_time": 39.15329243,
            "test": [
             0.4626111654
            ]
           },
           {
            "iteration": 199,
            "learn": [
             0.4604411272
            ],
            "passed_time": 9.774362556,
            "remaining_time": 39.09745023,
            "test": [
             0.4625926758
            ]
           },
           {
            "iteration": 200,
            "learn": [
             0.4604237444
            ],
            "passed_time": 9.830972135,
            "remaining_time": 39.07933699,
            "test": [
             0.4625733398
            ]
           },
           {
            "iteration": 201,
            "learn": [
             0.4603922154
            ],
            "passed_time": 9.873916423,
            "remaining_time": 39.00685795,
            "test": [
             0.4625738607
            ]
           },
           {
            "iteration": 202,
            "learn": [
             0.4603648717
            ],
            "passed_time": 9.91382119,
            "remaining_time": 38.9227364,
            "test": [
             0.4625570312
            ]
           },
           {
            "iteration": 203,
            "learn": [
             0.4603278739
            ],
            "passed_time": 9.955837757,
            "remaining_time": 38.8472885,
            "test": [
             0.4625495443
            ]
           },
           {
            "iteration": 204,
            "learn": [
             0.460278404
            ],
            "passed_time": 10.00244961,
            "remaining_time": 38.78998752,
            "test": [
             0.462526888
            ]
           },
           {
            "iteration": 205,
            "learn": [
             0.4602485491
            ],
            "passed_time": 10.05696239,
            "remaining_time": 38.76324339,
            "test": [
             0.4625219076
            ]
           },
           {
            "iteration": 206,
            "learn": [
             0.4602137277
            ],
            "passed_time": 10.10355877,
            "remaining_time": 38.70590388,
            "test": [
             0.4625136719
            ]
           },
           {
            "iteration": 207,
            "learn": [
             0.4601954799
            ],
            "passed_time": 10.14866885,
            "remaining_time": 38.6430083,
            "test": [
             0.4625076497
            ]
           },
           {
            "iteration": 208,
            "learn": [
             0.4601718192
            ],
            "passed_time": 10.19011309,
            "remaining_time": 38.56640886,
            "test": [
             0.4624885091
            ]
           },
           {
            "iteration": 209,
            "learn": [
             0.4601157924
            ],
            "passed_time": 10.23188666,
            "remaining_time": 38.49138314,
            "test": [
             0.4624908529
            ]
           },
           {
            "iteration": 210,
            "learn": [
             0.46009375
            ],
            "passed_time": 10.27765452,
            "remaining_time": 38.43160862,
            "test": [
             0.4624844727
            ]
           },
           {
            "iteration": 211,
            "learn": [
             0.4600664063
            ],
            "passed_time": 10.32102092,
            "remaining_time": 38.36304003,
            "test": [
             0.4624860352
            ]
           },
           {
            "iteration": 212,
            "learn": [
             0.4600358817
            ],
            "passed_time": 10.36173547,
            "remaining_time": 38.28490993,
            "test": [
             0.4624741536
            ]
           },
           {
            "iteration": 213,
            "learn": [
             0.4599808594
            ],
            "passed_time": 10.40709076,
            "remaining_time": 38.22417446,
            "test": [
             0.4624638997
            ]
           },
           {
            "iteration": 214,
            "learn": [
             0.459943471
            ],
            "passed_time": 10.44638311,
            "remaining_time": 38.14144532,
            "test": [
             0.4624585612
            ]
           },
           {
            "iteration": 215,
            "learn": [
             0.4598987165
            ],
            "passed_time": 10.50341507,
            "remaining_time": 38.12350656,
            "test": [
             0.4624458659
            ]
           },
           {
            "iteration": 216,
            "learn": [
             0.4598183873
            ],
            "passed_time": 10.54622286,
            "remaining_time": 38.05388249,
            "test": [
             0.4623746419
            ]
           },
           {
            "iteration": 217,
            "learn": [
             0.4598
            ],
            "passed_time": 10.5855083,
            "remaining_time": 37.97186922,
            "test": [
             0.4623774089
            ]
           },
           {
            "iteration": 218,
            "learn": [
             0.4597569196
            ],
            "passed_time": 10.6254164,
            "remaining_time": 37.89246671,
            "test": [
             0.4623691406
            ]
           },
           {
            "iteration": 219,
            "learn": [
             0.4597335938
            ],
            "passed_time": 10.68170569,
            "remaining_time": 37.87150198,
            "test": [
             0.4623656901
            ]
           },
           {
            "iteration": 220,
            "learn": [
             0.4596939732
            ],
            "passed_time": 10.73643759,
            "remaining_time": 37.84472796,
            "test": [
             0.4623670247
            ]
           },
           {
            "iteration": 221,
            "learn": [
             0.4596469308
            ],
            "passed_time": 10.78435105,
            "remaining_time": 37.79380682,
            "test": [
             0.4623473307
            ]
           },
           {
            "iteration": 222,
            "learn": [
             0.4596005301
            ],
            "passed_time": 10.83167812,
            "remaining_time": 37.7408695,
            "test": [
             0.4623433919
            ]
           },
           {
            "iteration": 223,
            "learn": [
             0.4595357701
            ],
            "passed_time": 10.8805804,
            "remaining_time": 37.69343924,
            "test": [
             0.4623451497
            ]
           },
           {
            "iteration": 224,
            "learn": [
             0.4594826172
            ],
            "passed_time": 10.9245577,
            "remaining_time": 37.62903207,
            "test": [
             0.4623192383
            ]
           },
           {
            "iteration": 225,
            "learn": [
             0.4594465402
            ],
            "passed_time": 10.97325967,
            "remaining_time": 37.58098667,
            "test": [
             0.4623150391
            ]
           },
           {
            "iteration": 226,
            "learn": [
             0.4594134208
            ],
            "passed_time": 11.01572436,
            "remaining_time": 37.51169572,
            "test": [
             0.4623052409
            ]
           },
           {
            "iteration": 227,
            "learn": [
             0.4593658761
            ],
            "passed_time": 11.05375777,
            "remaining_time": 37.42763595,
            "test": [
             0.4622859375
            ]
           },
           {
            "iteration": 228,
            "learn": [
             0.4593541574
            ],
            "passed_time": 11.09688802,
            "remaining_time": 37.36113827,
            "test": [
             0.4622798828
            ]
           },
           {
            "iteration": 229,
            "learn": [
             0.4592676618
            ],
            "passed_time": 11.13944102,
            "remaining_time": 37.29291123,
            "test": [
             0.4621600586
            ]
           },
           {
            "iteration": 230,
            "learn": [
             0.4592160156
            ],
            "passed_time": 11.20671951,
            "remaining_time": 37.30721776,
            "test": [
             0.4621402344
            ]
           },
           {
            "iteration": 231,
            "learn": [
             0.459155971
            ],
            "passed_time": 11.2494672,
            "remaining_time": 37.23961557,
            "test": [
             0.4621456706
            ]
           },
           {
            "iteration": 232,
            "learn": [
             0.459134096
            ],
            "passed_time": 11.29190301,
            "remaining_time": 37.17120002,
            "test": [
             0.4621471354
            ]
           },
           {
            "iteration": 233,
            "learn": [
             0.4591096261
            ],
            "passed_time": 11.33820522,
            "remaining_time": 37.11566324,
            "test": [
             0.4621375
            ]
           },
           {
            "iteration": 234,
            "learn": [
             0.4590832589
            ],
            "passed_time": 11.38935051,
            "remaining_time": 37.0759708,
            "test": [
             0.462141862
            ]
           },
           {
            "iteration": 235,
            "learn": [
             0.4590352121
            ],
            "passed_time": 11.43616112,
            "remaining_time": 37.02214871,
            "test": [
             0.4621370768
            ]
           },
           {
            "iteration": 236,
            "learn": [
             0.4590199498
            ],
            "passed_time": 11.47341389,
            "remaining_time": 36.93761519,
            "test": [
             0.4621370443
            ]
           },
           {
            "iteration": 237,
            "learn": [
             0.4589713728
            ],
            "passed_time": 11.5231844,
            "remaining_time": 36.89355676,
            "test": [
             0.4621318034
            ]
           },
           {
            "iteration": 238,
            "learn": [
             0.4589385324
            ],
            "passed_time": 11.56577186,
            "remaining_time": 36.82657902,
            "test": [
             0.462119987
            ]
           },
           {
            "iteration": 239,
            "learn": [
             0.4589177176
            ],
            "passed_time": 11.60459207,
            "remaining_time": 36.7478749,
            "test": [
             0.4621080078
            ]
           },
           {
            "iteration": 240,
            "learn": [
             0.4588830357
            ],
            "passed_time": 11.65639601,
            "remaining_time": 36.7103924,
            "test": [
             0.4620660807
            ]
           },
           {
            "iteration": 241,
            "learn": [
             0.4588566127
            ],
            "passed_time": 11.73220447,
            "remaining_time": 36.74797929,
            "test": [
             0.4620639648
            ]
           },
           {
            "iteration": 242,
            "learn": [
             0.4588178013
            ],
            "passed_time": 11.78027956,
            "remaining_time": 36.69823715,
            "test": [
             0.4620660807
            ]
           },
           {
            "iteration": 243,
            "learn": [
             0.4587876674
            ],
            "passed_time": 11.82546558,
            "remaining_time": 36.63955729,
            "test": [
             0.4620551432
            ]
           },
           {
            "iteration": 244,
            "learn": [
             0.45874774
            ],
            "passed_time": 11.87358843,
            "remaining_time": 36.59003781,
            "test": [
             0.4620573242
            ]
           },
           {
            "iteration": 245,
            "learn": [
             0.4587264788
            ],
            "passed_time": 11.92041108,
            "remaining_time": 36.53654452,
            "test": [
             0.4620537435
            ]
           },
           {
            "iteration": 246,
            "learn": [
             0.4586631975
            ],
            "passed_time": 11.96054241,
            "remaining_time": 36.4627062,
            "test": [
             0.4620358398
            ]
           },
           {
            "iteration": 247,
            "learn": [
             0.4586291295
            ],
            "passed_time": 12.00004013,
            "remaining_time": 36.38721846,
            "test": [
             0.4620308268
            ]
           },
           {
            "iteration": 248,
            "learn": [
             0.4586050223
            ],
            "passed_time": 12.04140692,
            "remaining_time": 36.31765701,
            "test": [
             0.4620296875
            ]
           },
           {
            "iteration": 249,
            "learn": [
             0.4585609375
            ],
            "passed_time": 12.08889866,
            "remaining_time": 36.26669597,
            "test": [
             0.4620187174
            ]
           },
           {
            "iteration": 250,
            "learn": [
             0.4585236049
            ],
            "passed_time": 12.12758741,
            "remaining_time": 36.18949391,
            "test": [
             0.4620157878
            ]
           },
           {
            "iteration": 251,
            "learn": [
             0.4584732143
            ],
            "passed_time": 12.16718813,
            "remaining_time": 36.11530445,
            "test": [
             0.4620060872
            ]
           },
           {
            "iteration": 252,
            "learn": [
             0.4584305525
            ],
            "passed_time": 12.22577925,
            "remaining_time": 36.09745889,
            "test": [
             0.4619941732
            ]
           },
           {
            "iteration": 253,
            "learn": [
             0.4583934431
            ],
            "passed_time": 12.27163659,
            "remaining_time": 36.04189329,
            "test": [
             0.4619898112
            ]
           },
           {
            "iteration": 254,
            "learn": [
             0.4583311942
            ],
            "passed_time": 12.3219989,
            "remaining_time": 35.99956542,
            "test": [
             0.4619527344
            ]
           },
           {
            "iteration": 255,
            "learn": [
             0.458277567
            ],
            "passed_time": 12.36612895,
            "remaining_time": 35.93906227,
            "test": [
             0.461935612
            ]
           },
           {
            "iteration": 256,
            "learn": [
             0.458207952
            ],
            "passed_time": 12.411507,
            "remaining_time": 35.88229456,
            "test": [
             0.4619107747
            ]
           },
           {
            "iteration": 257,
            "learn": [
             0.4581607143
            ],
            "passed_time": 12.45353902,
            "remaining_time": 35.81599206,
            "test": [
             0.4618994466
            ]
           },
           {
            "iteration": 258,
            "learn": [
             0.4581340402
            ],
            "passed_time": 12.49799311,
            "remaining_time": 35.75680654,
            "test": [
             0.4618977539
            ]
           },
           {
            "iteration": 259,
            "learn": [
             0.4580388393
            ],
            "passed_time": 12.53964162,
            "remaining_time": 35.68974923,
            "test": [
             0.4617976563
            ]
           },
           {
            "iteration": 260,
            "learn": [
             0.4579893973
            ],
            "passed_time": 12.58711246,
            "remaining_time": 35.63937205,
            "test": [
             0.4617969076
            ]
           },
           {
            "iteration": 261,
            "learn": [
             0.457944615
            ],
            "passed_time": 12.62720223,
            "remaining_time": 35.56822612,
            "test": [
             0.4617969727
            ]
           },
           {
            "iteration": 262,
            "learn": [
             0.457916183
            ],
            "passed_time": 12.67298261,
            "remaining_time": 35.51326305,
            "test": [
             0.4617842122
            ]
           },
           {
            "iteration": 263,
            "learn": [
             0.4578875
            ],
            "passed_time": 12.72975464,
            "remaining_time": 35.48901293,
            "test": [
             0.4617842448
            ]
           },
           {
            "iteration": 264,
            "learn": [
             0.4578489118
            ],
            "passed_time": 12.791452,
            "remaining_time": 35.4781782,
            "test": [
             0.4617859049
            ]
           },
           {
            "iteration": 265,
            "learn": [
             0.4578273717
            ],
            "passed_time": 12.8389586,
            "remaining_time": 35.42780306,
            "test": [
             0.4617803385
            ]
           },
           {
            "iteration": 266,
            "learn": [
             0.4578118862
            ],
            "passed_time": 12.88356116,
            "remaining_time": 35.3694769,
            "test": [
             0.4617838216
            ]
           },
           {
            "iteration": 267,
            "learn": [
             0.4577873047
            ],
            "passed_time": 12.92667561,
            "remaining_time": 35.3071886,
            "test": [
             0.4617829102
            ]
           },
           {
            "iteration": 268,
            "learn": [
             0.4577321708
            ],
            "passed_time": 12.97071135,
            "remaining_time": 35.24754646,
            "test": [
             0.4617295898
            ]
           },
           {
            "iteration": 269,
            "learn": [
             0.4576839844
            ],
            "passed_time": 13.01943428,
            "remaining_time": 35.20069268,
            "test": [
             0.4617033529
            ]
           },
           {
            "iteration": 270,
            "learn": [
             0.4576735212
            ],
            "passed_time": 13.06133039,
            "remaining_time": 35.13546072,
            "test": [
             0.4617061198
            ]
           },
           {
            "iteration": 271,
            "learn": [
             0.4576456194
            ],
            "passed_time": 13.10117227,
            "remaining_time": 35.06490225,
            "test": [
             0.4617077799
            ]
           },
           {
            "iteration": 272,
            "learn": [
             0.4576121094
            ],
            "passed_time": 13.15115045,
            "remaining_time": 35.02156181,
            "test": [
             0.4617057943
            ]
           },
           {
            "iteration": 273,
            "learn": [
             0.4575809989
            ],
            "passed_time": 13.19672207,
            "remaining_time": 34.96649715,
            "test": [
             0.4616815104
            ]
           },
           {
            "iteration": 274,
            "learn": [
             0.4575582031
            ],
            "passed_time": 13.23709187,
            "remaining_time": 34.89778765,
            "test": [
             0.4616817708
            ]
           },
           {
            "iteration": 275,
            "learn": [
             0.4575345982
            ],
            "passed_time": 13.27561358,
            "remaining_time": 34.82443562,
            "test": [
             0.4616833984
            ]
           },
           {
            "iteration": 276,
            "learn": [
             0.4574979911
            ],
            "passed_time": 13.32256926,
            "remaining_time": 34.77334864,
            "test": [
             0.4616825195
            ]
           },
           {
            "iteration": 277,
            "learn": [
             0.4574761998
            ],
            "passed_time": 13.37040247,
            "remaining_time": 34.72457045,
            "test": [
             0.4616863607
            ]
           },
           {
            "iteration": 278,
            "learn": [
             0.4574395089
            ],
            "passed_time": 13.41348766,
            "remaining_time": 34.66352903,
            "test": [
             0.4616759766
            ]
           },
           {
            "iteration": 279,
            "learn": [
             0.4573987723
            ],
            "passed_time": 13.47221104,
            "remaining_time": 34.64282839,
            "test": [
             0.461677474
            ]
           },
           {
            "iteration": 280,
            "learn": [
             0.4573709821
            ],
            "passed_time": 13.51648354,
            "remaining_time": 34.58488136,
            "test": [
             0.4616776042
            ]
           },
           {
            "iteration": 281,
            "learn": [
             0.4573299107
            ],
            "passed_time": 13.56325509,
            "remaining_time": 34.53339417,
            "test": [
             0.4616797526
            ]
           },
           {
            "iteration": 282,
            "learn": [
             0.4572847935
            ],
            "passed_time": 13.61069925,
            "remaining_time": 34.48364439,
            "test": [
             0.4616713216
            ]
           },
           {
            "iteration": 283,
            "learn": [
             0.4572613839
            ],
            "passed_time": 13.65211982,
            "remaining_time": 34.41872462,
            "test": [
             0.4616716471
            ]
           },
           {
            "iteration": 284,
            "learn": [
             0.4572430246
            ],
            "passed_time": 13.6939013,
            "remaining_time": 34.35487519,
            "test": [
             0.4616634766
            ]
           },
           {
            "iteration": 285,
            "learn": [
             0.4572170201
            ],
            "passed_time": 13.7408794,
            "remaining_time": 34.30415347,
            "test": [
             0.4616545247
            ]
           },
           {
            "iteration": 286,
            "learn": [
             0.4571891462
            ],
            "passed_time": 13.80572759,
            "remaining_time": 34.29785287,
            "test": [
             0.4616567057
            ]
           },
           {
            "iteration": 287,
            "learn": [
             0.4571356585
            ],
            "passed_time": 13.84703981,
            "remaining_time": 34.23295953,
            "test": [
             0.4616483398
            ]
           },
           {
            "iteration": 288,
            "learn": [
             0.4570885603
            ],
            "passed_time": 13.8907179,
            "remaining_time": 34.17404993,
            "test": [
             0.4616437826
            ]
           },
           {
            "iteration": 289,
            "learn": [
             0.4570670201
            ],
            "passed_time": 13.93281737,
            "remaining_time": 34.11138045,
            "test": [
             0.4616433919
            ]
           },
           {
            "iteration": 290,
            "learn": [
             0.4570358259
            ],
            "passed_time": 13.98727421,
            "remaining_time": 34.07896018,
            "test": [
             0.4616359375
            ]
           },
           {
            "iteration": 291,
            "learn": [
             0.4570114955
            ],
            "passed_time": 14.03543197,
            "remaining_time": 34.03111586,
            "test": [
             0.4616402018
            ]
           },
           {
            "iteration": 292,
            "learn": [
             0.4569931083
            ],
            "passed_time": 14.07783527,
            "remaining_time": 33.96938407,
            "test": [
             0.4616375
            ]
           },
           {
            "iteration": 293,
            "learn": [
             0.456941183
            ],
            "passed_time": 14.11542949,
            "remaining_time": 33.89623545,
            "test": [
             0.4616399089
            ]
           },
           {
            "iteration": 294,
            "learn": [
             0.4569176339
            ],
            "passed_time": 14.19164818,
            "remaining_time": 33.91563379,
            "test": [
             0.4616380534
            ]
           },
           {
            "iteration": 295,
            "learn": [
             0.4568992188
            ],
            "passed_time": 14.22426475,
            "remaining_time": 33.83068374,
            "test": [
             0.4616319987
            ]
           },
           {
            "iteration": 296,
            "learn": [
             0.4568465123
            ],
            "passed_time": 14.26821548,
            "remaining_time": 33.77291408,
            "test": [
             0.4616335612
            ]
           },
           {
            "iteration": 297,
            "learn": [
             0.4567883092
            ],
            "passed_time": 14.30816639,
            "remaining_time": 33.70581478,
            "test": [
             0.4616293945
            ]
           },
           {
            "iteration": 298,
            "learn": [
             0.4567330636
            ],
            "passed_time": 14.35227936,
            "remaining_time": 33.64865494,
            "test": [
             0.4615801107
            ]
           },
           {
            "iteration": 299,
            "learn": [
             0.4566708984
            ],
            "passed_time": 14.40907999,
            "remaining_time": 33.62118664,
            "test": [
             0.4615621419
            ]
           },
           {
            "iteration": 300,
            "learn": [
             0.4566306362
            ],
            "passed_time": 14.45190347,
            "remaining_time": 33.56106488,
            "test": [
             0.4615617839
            ]
           },
           {
            "iteration": 301,
            "learn": [
             0.4565935547
            ],
            "passed_time": 14.49783914,
            "remaining_time": 33.50825073,
            "test": [
             0.4615458984
            ]
           },
           {
            "iteration": 302,
            "learn": [
             0.4565564174
            ],
            "passed_time": 14.53657426,
            "remaining_time": 33.43891834,
            "test": [
             0.4615325846
            ]
           },
           {
            "iteration": 303,
            "learn": [
             0.4565175223
            ],
            "passed_time": 14.5792945,
            "remaining_time": 33.37891108,
            "test": [
             0.4615169271
            ]
           },
           {
            "iteration": 304,
            "learn": [
             0.4564905692
            ],
            "passed_time": 14.62592594,
            "remaining_time": 33.3279296,
            "test": [
             0.4615268555
            ]
           },
           {
            "iteration": 305,
            "learn": [
             0.4564420759
            ],
            "passed_time": 14.67150073,
            "remaining_time": 33.27458009,
            "test": [
             0.4615120117
            ]
           },
           {
            "iteration": 306,
            "learn": [
             0.4564135045
            ],
            "passed_time": 14.71778073,
            "remaining_time": 33.22287311,
            "test": [
             0.4615067383
            ]
           },
           {
            "iteration": 307,
            "learn": [
             0.4563643415
            ],
            "passed_time": 14.76991077,
            "remaining_time": 33.18434499,
            "test": [
             0.4614973307
            ]
           },
           {
            "iteration": 308,
            "learn": [
             0.4563226563
            ],
            "passed_time": 14.84468567,
            "remaining_time": 33.19636827,
            "test": [
             0.461486263
            ]
           },
           {
            "iteration": 309,
            "learn": [
             0.4562793527
            ],
            "passed_time": 14.88460205,
            "remaining_time": 33.13024327,
            "test": [
             0.4614732422
            ]
           },
           {
            "iteration": 310,
            "learn": [
             0.4562305804
            ],
            "passed_time": 14.92986825,
            "remaining_time": 33.07613899,
            "test": [
             0.4614736003
            ]
           },
           {
            "iteration": 311,
            "learn": [
             0.456200279
            ],
            "passed_time": 14.97222481,
            "remaining_time": 33.01567523,
            "test": [
             0.4614621094
            ]
           },
           {
            "iteration": 312,
            "learn": [
             0.4561625279
            ],
            "passed_time": 15.01639662,
            "remaining_time": 32.95931144,
            "test": [
             0.4614501302
            ]
           },
           {
            "iteration": 313,
            "learn": [
             0.456140346
            ],
            "passed_time": 15.0610704,
            "remaining_time": 32.90412196,
            "test": [
             0.4614505534
            ]
           },
           {
            "iteration": 314,
            "learn": [
             0.4561123047
            ],
            "passed_time": 15.10130645,
            "remaining_time": 32.83934895,
            "test": [
             0.4614508138
            ]
           },
           {
            "iteration": 315,
            "learn": [
             0.4560719587
            ],
            "passed_time": 15.13883957,
            "remaining_time": 32.76888059,
            "test": [
             0.4614492513
            ]
           },
           {
            "iteration": 316,
            "learn": [
             0.4560305246
            ],
            "passed_time": 15.1869913,
            "remaining_time": 32.7214986,
            "test": [
             0.4614564453
            ]
           },
           {
            "iteration": 317,
            "learn": [
             0.456015904
            ],
            "passed_time": 15.22647179,
            "remaining_time": 32.65551498,
            "test": [
             0.4614528646
            ]
           },
           {
            "iteration": 318,
            "learn": [
             0.4559742467
            ],
            "passed_time": 15.28122293,
            "remaining_time": 32.62229724,
            "test": [
             0.4614492513
            ]
           },
           {
            "iteration": 319,
            "learn": [
             0.455925
            ],
            "passed_time": 15.3250605,
            "remaining_time": 32.56575357,
            "test": [
             0.4614357747
            ]
           },
           {
            "iteration": 320,
            "learn": [
             0.4558690569
            ],
            "passed_time": 15.37149162,
            "remaining_time": 32.5147751,
            "test": [
             0.4613620768
            ]
           },
           {
            "iteration": 321,
            "learn": [
             0.455826144
            ],
            "passed_time": 15.41694913,
            "remaining_time": 32.46177488,
            "test": [
             0.4613549154
            ]
           },
           {
            "iteration": 322,
            "learn": [
             0.4557840123
            ],
            "passed_time": 15.46175943,
            "remaining_time": 32.40746481,
            "test": [
             0.4613512044
            ]
           },
           {
            "iteration": 323,
            "learn": [
             0.4557662109
            ],
            "passed_time": 15.51923689,
            "remaining_time": 32.3796424,
            "test": [
             0.4613542318
            ]
           },
           {
            "iteration": 324,
            "learn": [
             0.4557128348
            ],
            "passed_time": 15.56379938,
            "remaining_time": 32.3248141,
            "test": [
             0.4613373047
            ]
           },
           {
            "iteration": 325,
            "learn": [
             0.4556523438
            ],
            "passed_time": 15.60845231,
            "remaining_time": 32.27023575,
            "test": [
             0.461325
            ]
           },
           {
            "iteration": 326,
            "learn": [
             0.4556236607
            ],
            "passed_time": 15.64867069,
            "remaining_time": 32.20659136,
            "test": [
             0.4612921549
            ]
           },
           {
            "iteration": 327,
            "learn": [
             0.4555962054
            ],
            "passed_time": 15.68869479,
            "remaining_time": 32.14269177,
            "test": [
             0.4612913737
            ]
           },
           {
            "iteration": 328,
            "learn": [
             0.4555494141
            ],
            "passed_time": 15.75416458,
            "remaining_time": 32.13083414,
            "test": [
             0.4612889323
            ]
           },
           {
            "iteration": 329,
            "learn": [
             0.4555237444
            ],
            "passed_time": 15.81747181,
            "remaining_time": 32.11426094,
            "test": [
             0.4612926107
            ]
           },
           {
            "iteration": 330,
            "learn": [
             0.4554967355
            ],
            "passed_time": 15.88101357,
            "remaining_time": 32.0978794,
            "test": [
             0.4612821615
            ]
           },
           {
            "iteration": 331,
            "learn": [
             0.4554803292
            ],
            "passed_time": 15.92123819,
            "remaining_time": 32.03429853,
            "test": [
             0.4612826172
            ]
           },
           {
            "iteration": 332,
            "learn": [
             0.4554672433
            ],
            "passed_time": 15.96547189,
            "remaining_time": 31.97888814,
            "test": [
             0.4612841146
            ]
           },
           {
            "iteration": 333,
            "learn": [
             0.4554464844
            ],
            "passed_time": 16.00333146,
            "remaining_time": 31.91083459,
            "test": [
             0.4612807617
            ]
           },
           {
            "iteration": 334,
            "learn": [
             0.4554168527
            ],
            "passed_time": 16.04509612,
            "remaining_time": 31.85071319,
            "test": [
             0.4612804362
            ]
           },
           {
            "iteration": 335,
            "learn": [
             0.4554087333
            ],
            "passed_time": 16.08710805,
            "remaining_time": 31.79118971,
            "test": [
             0.4612832682
            ]
           },
           {
            "iteration": 336,
            "learn": [
             0.4553666295
            ],
            "passed_time": 16.1341943,
            "remaining_time": 31.74175318,
            "test": [
             0.4612846354
            ]
           },
           {
            "iteration": 337,
            "learn": [
             0.4553285156
            ],
            "passed_time": 16.18680208,
            "remaining_time": 31.7031449,
            "test": [
             0.4612724284
            ]
           },
           {
            "iteration": 338,
            "learn": [
             0.4553112723
            ],
            "passed_time": 16.23310421,
            "remaining_time": 31.65215895,
            "test": [
             0.4612731771
            ]
           },
           {
            "iteration": 339,
            "learn": [
             0.4552609375
            ],
            "passed_time": 16.27801985,
            "remaining_time": 31.59850913,
            "test": [
             0.4612647461
            ]
           },
           {
            "iteration": 340,
            "learn": [
             0.4552131975
            ],
            "passed_time": 16.3210672,
            "remaining_time": 31.54129996,
            "test": [
             0.4612476237
            ]
           },
           {
            "iteration": 341,
            "learn": [
             0.4551619978
            ],
            "passed_time": 16.36610477,
            "remaining_time": 31.48800275,
            "test": [
             0.4612361003
            ]
           },
           {
            "iteration": 342,
            "learn": [
             0.4551279297
            ],
            "passed_time": 16.41024506,
            "remaining_time": 31.433035,
            "test": [
             0.4612411458
            ]
           },
           {
            "iteration": 343,
            "learn": [
             0.45509601
            ],
            "passed_time": 16.4572309,
            "remaining_time": 31.3835566,
            "test": [
             0.4612432617
            ]
           },
           {
            "iteration": 344,
            "learn": [
             0.4550577846
            ],
            "passed_time": 16.49763551,
            "remaining_time": 31.32159786,
            "test": [
             0.4612359375
            ]
           },
           {
            "iteration": 345,
            "learn": [
             0.4550165737
            ],
            "passed_time": 16.53742272,
            "remaining_time": 31.25859669,
            "test": [
             0.4612189453
            ]
           },
           {
            "iteration": 346,
            "learn": [
             0.454970173
            ],
            "passed_time": 16.58089066,
            "remaining_time": 31.20265591,
            "test": [
             0.4612129557
            ]
           },
           {
            "iteration": 347,
            "learn": [
             0.4549356027
            ],
            "passed_time": 16.62441957,
            "remaining_time": 31.14690103,
            "test": [
             0.4612165039
            ]
           },
           {
            "iteration": 348,
            "learn": [
             0.4548844308
            ],
            "passed_time": 16.66726601,
            "remaining_time": 31.08994319,
            "test": [
             0.4612273763
            ]
           },
           {
            "iteration": 349,
            "learn": [
             0.4548471819
            ],
            "passed_time": 16.70799616,
            "remaining_time": 31.02913572,
            "test": [
             0.461211556
            ]
           },
           {
            "iteration": 350,
            "learn": [
             0.4548049107
            ],
            "passed_time": 16.76276662,
            "remaining_time": 30.99440324,
            "test": [
             0.4611935872
            ]
           },
           {
            "iteration": 351,
            "learn": [
             0.4547666853
            ],
            "passed_time": 16.81195624,
            "remaining_time": 30.94928308,
            "test": [
             0.461186263
            ]
           },
           {
            "iteration": 352,
            "learn": [
             0.4547292969
            ],
            "passed_time": 16.87559722,
            "remaining_time": 30.93062719,
            "test": [
             0.4611871745
            ]
           },
           {
            "iteration": 353,
            "learn": [
             0.4546756138
            ],
            "passed_time": 16.93401121,
            "remaining_time": 30.90217864,
            "test": [
             0.4611832031
            ]
           },
           {
            "iteration": 354,
            "learn": [
             0.4546404576
            ],
            "passed_time": 16.976626,
            "remaining_time": 30.8448557,
            "test": [
             0.4611683268
            ]
           },
           {
            "iteration": 355,
            "learn": [
             0.4545912388
            ],
            "passed_time": 17.01594121,
            "remaining_time": 30.78164646,
            "test": [
             0.4611597982
            ]
           },
           {
            "iteration": 356,
            "learn": [
             0.4545669643
            ],
            "passed_time": 17.05945266,
            "remaining_time": 30.72612902,
            "test": [
             0.4611605143
            ]
           },
           {
            "iteration": 357,
            "learn": [
             0.4545313895
            ],
            "passed_time": 17.10731926,
            "remaining_time": 30.67848872,
            "test": [
             0.4611536133
            ]
           },
           {
            "iteration": 358,
            "learn": [
             0.4544921875
            ],
            "passed_time": 17.15556362,
            "remaining_time": 30.63152167,
            "test": [
             0.4611377279
            ]
           },
           {
            "iteration": 359,
            "learn": [
             0.4544738002
            ],
            "passed_time": 17.20470378,
            "remaining_time": 30.58614005,
            "test": [
             0.4611338542
            ]
           },
           {
            "iteration": 360,
            "learn": [
             0.4544474051
            ],
            "passed_time": 17.25034175,
            "remaining_time": 30.53453845,
            "test": [
             0.4611304688
            ]
           },
           {
            "iteration": 361,
            "learn": [
             0.4544285435
            ],
            "passed_time": 17.29360338,
            "remaining_time": 30.47878165,
            "test": [
             0.4611302409
            ]
           },
           {
            "iteration": 362,
            "learn": [
             0.454405106
            ],
            "passed_time": 17.3468664,
            "remaining_time": 30.44064434,
            "test": [
             0.4611331055
            ]
           },
           {
            "iteration": 363,
            "learn": [
             0.4543497489
            ],
            "passed_time": 17.38844533,
            "remaining_time": 30.38200887,
            "test": [
             0.4611341797
            ]
           },
           {
            "iteration": 364,
            "learn": [
             0.4543193359
            ],
            "passed_time": 17.43304549,
            "remaining_time": 30.32872297,
            "test": [
             0.4611332357
            ]
           },
           {
            "iteration": 365,
            "learn": [
             0.4542799107
            ],
            "passed_time": 17.47851762,
            "remaining_time": 30.276995,
            "test": [
             0.4611428711
            ]
           },
           {
            "iteration": 366,
            "learn": [
             0.4542480469
            ],
            "passed_time": 17.51837209,
            "remaining_time": 30.21561181,
            "test": [
             0.4611417318
            ]
           },
           {
            "iteration": 367,
            "learn": [
             0.4542118583
            ],
            "passed_time": 17.5641172,
            "remaining_time": 30.16446214,
            "test": [
             0.4611388021
            ]
           },
           {
            "iteration": 368,
            "learn": [
             0.4541863002
            ],
            "passed_time": 17.60934313,
            "remaining_time": 30.11245397,
            "test": [
             0.4611346029
            ]
           },
           {
            "iteration": 369,
            "learn": [
             0.4541585658
            ],
            "passed_time": 17.65271398,
            "remaining_time": 30.05732381,
            "test": [
             0.4611379557
            ]
           },
           {
            "iteration": 370,
            "learn": [
             0.4541351842
            ],
            "passed_time": 17.7000783,
            "remaining_time": 30.00902762,
            "test": [
             0.4611346354
            ]
           },
           {
            "iteration": 371,
            "learn": [
             0.4540876674
            ],
            "passed_time": 17.75688106,
            "remaining_time": 29.97667017,
            "test": [
             0.4610747721
            ]
           },
           {
            "iteration": 372,
            "learn": [
             0.4540665458
            ],
            "passed_time": 17.8056464,
            "remaining_time": 29.93067102,
            "test": [
             0.4610769857
            ]
           },
           {
            "iteration": 373,
            "learn": [
             0.4540419085
            ],
            "passed_time": 17.85175883,
            "remaining_time": 29.88021666,
            "test": [
             0.461063151
            ]
           },
           {
            "iteration": 374,
            "learn": [
             0.4540142578
            ],
            "passed_time": 17.89834133,
            "remaining_time": 29.83056888,
            "test": [
             0.4610632813
            ]
           },
           {
            "iteration": 375,
            "learn": [
             0.4539968192
            ],
            "passed_time": 17.9638523,
            "remaining_time": 29.81235063,
            "test": [
             0.461063737
            ]
           },
           {
            "iteration": 376,
            "learn": [
             0.4539583147
            ],
            "passed_time": 18.01352546,
            "remaining_time": 29.76770919,
            "test": [
             0.4610697266
            ]
           },
           {
            "iteration": 377,
            "learn": [
             0.4539087333
            ],
            "passed_time": 18.0538045,
            "remaining_time": 29.70758307,
            "test": [
             0.4610514648
            ]
           },
           {
            "iteration": 378,
            "learn": [
             0.4538979353
            ],
            "passed_time": 18.10126413,
            "remaining_time": 29.65932724,
            "test": [
             0.4610523112
            ]
           },
           {
            "iteration": 379,
            "learn": [
             0.4538794643
            ],
            "passed_time": 18.15172023,
            "remaining_time": 29.61596458,
            "test": [
             0.4610519206
            ]
           },
           {
            "iteration": 380,
            "learn": [
             0.453838365
            ],
            "passed_time": 18.19556535,
            "remaining_time": 29.56182402,
            "test": [
             0.461053418
            ]
           },
           {
            "iteration": 381,
            "learn": [
             0.4538246931
            ],
            "passed_time": 18.25966433,
            "remaining_time": 29.54050407,
            "test": [
             0.4610563151
            ]
           },
           {
            "iteration": 382,
            "learn": [
             0.4537711496
            ],
            "passed_time": 18.30769182,
            "remaining_time": 29.49307012,
            "test": [
             0.4610529948
            ]
           },
           {
            "iteration": 383,
            "learn": [
             0.4537272321
            ],
            "passed_time": 18.35497469,
            "remaining_time": 29.44443857,
            "test": [
             0.4610411133
            ]
           },
           {
            "iteration": 384,
            "learn": [
             0.4536751395
            ],
            "passed_time": 18.39905328,
            "remaining_time": 29.3906955,
            "test": [
             0.4610441081
            ]
           },
           {
            "iteration": 385,
            "learn": [
             0.4536251953
            ],
            "passed_time": 18.4493797,
            "remaining_time": 29.34694077,
            "test": [
             0.4610485352
            ]
           },
           {
            "iteration": 386,
            "learn": [
             0.4536058036
            ],
            "passed_time": 18.5060622,
            "remaining_time": 29.31321996,
            "test": [
             0.4610519206
            ]
           },
           {
            "iteration": 387,
            "learn": [
             0.4535849051
            ],
            "passed_time": 18.54922705,
            "remaining_time": 29.25805916,
            "test": [
             0.4610435221
            ]
           },
           {
            "iteration": 388,
            "learn": [
             0.4535700056
            ],
            "passed_time": 18.60100263,
            "remaining_time": 29.21648485,
            "test": [
             0.461039388
            ]
           },
           {
            "iteration": 389,
            "learn": [
             0.4535355748
            ],
            "passed_time": 18.64721938,
            "remaining_time": 29.16616364,
            "test": [
             0.4610379883
            ]
           },
           {
            "iteration": 390,
            "learn": [
             0.4534856027
            ],
            "passed_time": 18.68781723,
            "remaining_time": 29.10711175,
            "test": [
             0.4610393229
            ]
           },
           {
            "iteration": 391,
            "learn": [
             0.4534482422
            ],
            "passed_time": 18.73345518,
            "remaining_time": 29.0559713,
            "test": [
             0.461020931
            ]
           },
           {
            "iteration": 392,
            "learn": [
             0.4533973493
            ],
            "passed_time": 18.78949305,
            "remaining_time": 29.02092183,
            "test": [
             0.4610178711
            ]
           },
           {
            "iteration": 393,
            "learn": [
             0.4533631975
            ],
            "passed_time": 18.82865955,
            "remaining_time": 28.95981647,
            "test": [
             0.4610138672
            ]
           },
           {
            "iteration": 394,
            "learn": [
             0.4533107143
            ],
            "passed_time": 18.87603002,
            "remaining_time": 28.91138775,
            "test": [
             0.4610103516
            ]
           },
           {
            "iteration": 395,
            "learn": [
             0.4532872489
            ],
            "passed_time": 18.92830822,
            "remaining_time": 28.87044991,
            "test": [
             0.4610013346
            ]
           },
           {
            "iteration": 396,
            "learn": [
             0.453262221
            ],
            "passed_time": 18.99495157,
            "remaining_time": 28.85127404,
            "test": [
             0.460997168
            ]
           },
           {
            "iteration": 397,
            "learn": [
             0.4532336775
            ],
            "passed_time": 19.04618341,
            "remaining_time": 28.80854877,
            "test": [
             0.4609933594
            ]
           },
           {
            "iteration": 398,
            "learn": [
             0.4531844308
            ],
            "passed_time": 19.09241196,
            "remaining_time": 28.75824458,
            "test": [
             0.4609882161
            ]
           },
           {
            "iteration": 399,
            "learn": [
             0.4531460379
            ],
            "passed_time": 19.13373202,
            "remaining_time": 28.70059803,
            "test": [
             0.460979069
            ]
           },
           {
            "iteration": 400,
            "learn": [
             0.4531170759
            ],
            "passed_time": 19.17327896,
            "remaining_time": 28.64038428,
            "test": [
             0.4609747721
            ]
           },
           {
            "iteration": 401,
            "learn": [
             0.4530933036
            ],
            "passed_time": 19.21487303,
            "remaining_time": 28.58331859,
            "test": [
             0.4609759115
            ]
           },
           {
            "iteration": 402,
            "learn": [
             0.4530724609
            ],
            "passed_time": 19.26531337,
            "remaining_time": 28.53943445,
            "test": [
             0.4609760417
            ]
           },
           {
            "iteration": 403,
            "learn": [
             0.4530510882
            ],
            "passed_time": 19.31035841,
            "remaining_time": 28.48755845,
            "test": [
             0.4609791341
            ]
           },
           {
            "iteration": 404,
            "learn": [
             0.4530308036
            ],
            "passed_time": 19.3689286,
            "remaining_time": 28.45558646,
            "test": [
             0.4609838542
            ]
           },
           {
            "iteration": 405,
            "learn": [
             0.4529882813
            ],
            "passed_time": 19.42138174,
            "remaining_time": 28.41453388,
            "test": [
             0.4609824544
            ]
           },
           {
            "iteration": 406,
            "learn": [
             0.4529414342
            ],
            "passed_time": 19.46592604,
            "remaining_time": 28.36190206,
            "test": [
             0.4609805013
            ]
           },
           {
            "iteration": 407,
            "learn": [
             0.4529038783
            ],
            "passed_time": 19.50899014,
            "remaining_time": 28.30716216,
            "test": [
             0.4609913086
            ]
           },
           {
            "iteration": 408,
            "learn": [
             0.4528772321
            ],
            "passed_time": 19.55351573,
            "remaining_time": 28.25459118,
            "test": [
             0.4609942383
            ]
           },
           {
            "iteration": 409,
            "learn": [
             0.4528518415
            ],
            "passed_time": 19.60813532,
            "remaining_time": 28.21658497,
            "test": [
             0.4609904622
            ]
           },
           {
            "iteration": 410,
            "learn": [
             0.4528256138
            ],
            "passed_time": 19.65473904,
            "remaining_time": 28.16701045,
            "test": [
             0.460991276
            ]
           },
           {
            "iteration": 411,
            "learn": [
             0.4527866071
            ],
            "passed_time": 19.70864943,
            "remaining_time": 28.12787831,
            "test": [
             0.460982487
            ]
           },
           {
            "iteration": 412,
            "learn": [
             0.45277899
            ],
            "passed_time": 19.75042712,
            "remaining_time": 28.07143031,
            "test": [
             0.4609734701
            ]
           },
           {
            "iteration": 413,
            "learn": [
             0.4527527065
            ],
            "passed_time": 19.79774274,
            "remaining_time": 28.0228919,
            "test": [
             0.4609758464
            ]
           },
           {
            "iteration": 414,
            "learn": [
             0.4527117467
            ],
            "passed_time": 19.85549121,
            "remaining_time": 27.98906593,
            "test": [
             0.4609804036
            ]
           },
           {
            "iteration": 415,
            "learn": [
             0.4526904576
            ],
            "passed_time": 19.89901499,
            "remaining_time": 27.93515566,
            "test": [
             0.4609777344
            ]
           },
           {
            "iteration": 416,
            "learn": [
             0.4526671596
            ],
            "passed_time": 19.94880897,
            "remaining_time": 27.89006146,
            "test": [
             0.4609809245
            ]
           },
           {
            "iteration": 417,
            "learn": [
             0.4526350167
            ],
            "passed_time": 20.01641433,
            "remaining_time": 27.86974436,
            "test": [
             0.4609852214
            ]
           },
           {
            "iteration": 418,
            "learn": [
             0.4526160156
            ],
            "passed_time": 20.07031613,
            "remaining_time": 27.83019969,
            "test": [
             0.4609835937
            ]
           },
           {
            "iteration": 419,
            "learn": [
             0.452569308
            ],
            "passed_time": 20.11457118,
            "remaining_time": 27.77726496,
            "test": [
             0.4609904622
            ]
           },
           {
            "iteration": 420,
            "learn": [
             0.4525447266
            ],
            "passed_time": 20.1588456,
            "remaining_time": 27.72439811,
            "test": [
             0.4609901042
            ]
           },
           {
            "iteration": 421,
            "learn": [
             0.452509654
            ],
            "passed_time": 20.20170346,
            "remaining_time": 27.66963175,
            "test": [
             0.4609826172
            ]
           },
           {
            "iteration": 422,
            "learn": [
             0.4524811663
            ],
            "passed_time": 20.24803708,
            "remaining_time": 27.61966288,
            "test": [
             0.4609834961
            ]
           },
           {
            "iteration": 423,
            "learn": [
             0.4524372768
            ],
            "passed_time": 20.29761096,
            "remaining_time": 27.574113,
            "test": [
             0.4609791016
            ]
           },
           {
            "iteration": 424,
            "learn": [
             0.452401423
            ],
            "passed_time": 20.34375142,
            "remaining_time": 27.52389898,
            "test": [
             0.4609725911
            ]
           },
           {
            "iteration": 425,
            "learn": [
             0.4523811663
            ],
            "passed_time": 20.38486088,
            "remaining_time": 27.46692523,
            "test": [
             0.4609697266
            ]
           },
           {
            "iteration": 426,
            "learn": [
             0.4523469587
            ],
            "passed_time": 20.43163935,
            "remaining_time": 27.41763313,
            "test": [
             0.4609621745
            ]
           },
           {
            "iteration": 427,
            "learn": [
             0.4523352679
            ],
            "passed_time": 20.47185077,
            "remaining_time": 27.35957626,
            "test": [
             0.4609635091
            ]
           },
           {
            "iteration": 428,
            "learn": [
             0.4523054687
            ],
            "passed_time": 20.53034191,
            "remaining_time": 27.32593294,
            "test": [
             0.4609580729
            ]
           },
           {
            "iteration": 429,
            "learn": [
             0.4522886161
            ],
            "passed_time": 20.57848654,
            "remaining_time": 27.2784589,
            "test": [
             0.4609491211
            ]
           },
           {
            "iteration": 430,
            "learn": [
             0.452257115
            ],
            "passed_time": 20.61568058,
            "remaining_time": 27.21652494,
            "test": [
             0.460949056
            ]
           },
           {
            "iteration": 431,
            "learn": [
             0.4522226563
            ],
            "passed_time": 20.67752057,
            "remaining_time": 27.18711039,
            "test": [
             0.4609497721
            ]
           },
           {
            "iteration": 432,
            "learn": [
             0.4521707589
            ],
            "passed_time": 20.71900416,
            "remaining_time": 27.13088998,
            "test": [
             0.4609238607
            ]
           },
           {
            "iteration": 433,
            "learn": [
             0.4521401228
            ],
            "passed_time": 20.76595965,
            "remaining_time": 27.08187365,
            "test": [
             0.4609275716
            ]
           },
           {
            "iteration": 434,
            "learn": [
             0.4520969308
            ],
            "passed_time": 20.80887319,
            "remaining_time": 27.0276169,
            "test": [
             0.4609232747
            ]
           },
           {
            "iteration": 435,
            "learn": [
             0.4520671875
            ],
            "passed_time": 20.85727144,
            "remaining_time": 26.98050709,
            "test": [
             0.4609255534
            ]
           },
           {
            "iteration": 436,
            "learn": [
             0.4520472098
            ],
            "passed_time": 20.91331971,
            "remaining_time": 26.94324713,
            "test": [
             0.4609289388
            ]
           },
           {
            "iteration": 437,
            "learn": [
             0.4520232422
            ],
            "passed_time": 20.95415991,
            "remaining_time": 26.88638783,
            "test": [
             0.460935026
            ]
           },
           {
            "iteration": 438,
            "learn": [
             0.4519983817
            ],
            "passed_time": 21.00998955,
            "remaining_time": 26.84875658,
            "test": [
             0.4609310221
            ]
           },
           {
            "iteration": 439,
            "learn": [
             0.4519664342
            ],
            "passed_time": 21.06936785,
            "remaining_time": 26.81555908,
            "test": [
             0.4609402995
            ]
           },
           {
            "iteration": 440,
            "learn": [
             0.4519514509
            ],
            "passed_time": 21.11791943,
            "remaining_time": 26.76851919,
            "test": [
             0.460940625
            ]
           },
           {
            "iteration": 441,
            "learn": [
             0.4519147042
            ],
            "passed_time": 21.15886637,
            "remaining_time": 26.71187202,
            "test": [
             0.4609256185
            ]
           },
           {
            "iteration": 442,
            "learn": [
             0.4518759208
            ],
            "passed_time": 21.20807555,
            "remaining_time": 26.66568415,
            "test": [
             0.460928125
            ]
           },
           {
            "iteration": 443,
            "learn": [
             0.4518483817
            ],
            "passed_time": 21.2607277,
            "remaining_time": 26.62379415,
            "test": [
             0.4609285156
            ]
           },
           {
            "iteration": 444,
            "learn": [
             0.4518095982
            ],
            "passed_time": 21.30506792,
            "remaining_time": 26.5714892,
            "test": [
             0.4609268555
            ]
           },
           {
            "iteration": 445,
            "learn": [
             0.4517907924
            ],
            "passed_time": 21.3529154,
            "remaining_time": 26.52357653,
            "test": [
             0.460925
            ]
           },
           {
            "iteration": 446,
            "learn": [
             0.4517651786
            ],
            "passed_time": 21.39897956,
            "remaining_time": 26.47345793,
            "test": [
             0.4609263997
            ]
           },
           {
            "iteration": 447,
            "learn": [
             0.4517204799
            ],
            "passed_time": 21.44978226,
            "remaining_time": 26.42919599,
            "test": [
             0.4609347331
            ]
           },
           {
            "iteration": 448,
            "learn": [
             0.4516646484
            ],
            "passed_time": 21.49835628,
            "remaining_time": 26.38216995,
            "test": [
             0.4609229167
            ]
           },
           {
            "iteration": 449,
            "learn": [
             0.4516159877
            ],
            "passed_time": 21.54395524,
            "remaining_time": 26.33150085,
            "test": [
             0.4609147786
            ]
           },
           {
            "iteration": 450,
            "learn": [
             0.4515845982
            ],
            "passed_time": 21.58810342,
            "remaining_time": 26.2790882,
            "test": [
             0.4609122721
            ]
           },
           {
            "iteration": 451,
            "learn": [
             0.4515674386
            ],
            "passed_time": 21.64145109,
            "remaining_time": 26.23786549,
            "test": [
             0.4609080404
            ]
           },
           {
            "iteration": 452,
            "learn": [
             0.4515439732
            ],
            "passed_time": 21.71190108,
            "remaining_time": 26.21724038,
            "test": [
             0.4609104167
            ]
           },
           {
            "iteration": 453,
            "learn": [
             0.4515279018
            ],
            "passed_time": 21.76100776,
            "remaining_time": 26.1707274,
            "test": [
             0.4609130534
            ]
           },
           {
            "iteration": 454,
            "learn": [
             0.4515048828
            ],
            "passed_time": 21.80071148,
            "remaining_time": 26.11294013,
            "test": [
             0.4608898763
            ]
           },
           {
            "iteration": 455,
            "learn": [
             0.4514750279
            ],
            "passed_time": 21.84586579,
            "remaining_time": 26.06173463,
            "test": [
             0.4608984375
            ]
           },
           {
            "iteration": 456,
            "learn": [
             0.4514365513
            ],
            "passed_time": 21.88780167,
            "remaining_time": 26.00673153,
            "test": [
             0.4609033203
            ]
           },
           {
            "iteration": 457,
            "learn": [
             0.4514107143
            ],
            "passed_time": 21.94873615,
            "remaining_time": 25.97426854,
            "test": [
             0.4609005859
            ]
           },
           {
            "iteration": 458,
            "learn": [
             0.4513879743
            ],
            "passed_time": 21.99427242,
            "remaining_time": 25.92353242,
            "test": [
             0.4609003581
            ]
           },
           {
            "iteration": 459,
            "learn": [
             0.4513579799
            ],
            "passed_time": 22.03928267,
            "remaining_time": 25.87220139,
            "test": [
             0.4608938802
            ]
           },
           {
            "iteration": 460,
            "learn": [
             0.45131649
            ],
            "passed_time": 22.09071741,
            "remaining_time": 25.82840929,
            "test": [
             0.4608919596
            ]
           },
           {
            "iteration": 461,
            "learn": [
             0.4512996652
            ],
            "passed_time": 22.15450057,
            "remaining_time": 25.79896387,
            "test": [
             0.4608936523
            ]
           },
           {
            "iteration": 462,
            "learn": [
             0.4512785714
            ],
            "passed_time": 22.19784922,
            "remaining_time": 25.74566961,
            "test": [
             0.4608937174
            ]
           },
           {
            "iteration": 463,
            "learn": [
             0.4512523996
            ],
            "passed_time": 22.2421241,
            "remaining_time": 25.69348818,
            "test": [
             0.4608924479
            ]
           },
           {
            "iteration": 464,
            "learn": [
             0.4512083426
            ],
            "passed_time": 22.28841444,
            "remaining_time": 25.64365962,
            "test": [
             0.4608980143
            ]
           },
           {
            "iteration": 465,
            "learn": [
             0.4511616071
            ],
            "passed_time": 22.32705811,
            "remaining_time": 25.58508375,
            "test": [
             0.4608897461
            ]
           },
           {
            "iteration": 466,
            "learn": [
             0.4511428292
            ],
            "passed_time": 22.37164888,
            "remaining_time": 25.53338084,
            "test": [
             0.4608825846
            ]
           },
           {
            "iteration": 467,
            "learn": [
             0.4511108259
            ],
            "passed_time": 22.42027376,
            "remaining_time": 25.4862941,
            "test": [
             0.4608817383
            ]
           },
           {
            "iteration": 468,
            "learn": [
             0.4510739397
            ],
            "passed_time": 22.46693962,
            "remaining_time": 25.43698281,
            "test": [
             0.4608763997
            ]
           },
           {
            "iteration": 469,
            "learn": [
             0.4510638393
            ],
            "passed_time": 22.51223555,
            "remaining_time": 25.38613796,
            "test": [
             0.4608760742
            ]
           },
           {
            "iteration": 470,
            "learn": [
             0.4510350446
            ],
            "passed_time": 22.55788525,
            "remaining_time": 25.335714,
            "test": [
             0.4608750326
            ]
           },
           {
            "iteration": 471,
            "learn": [
             0.451000279
            ],
            "passed_time": 22.60150305,
            "remaining_time": 25.28303731,
            "test": [
             0.4608664714
            ]
           },
           {
            "iteration": 472,
            "learn": [
             0.4509525112
            ],
            "passed_time": 22.64253657,
            "remaining_time": 25.22751961,
            "test": [
             0.4608802409
            ]
           },
           {
            "iteration": 473,
            "learn": [
             0.4509067243
            ],
            "passed_time": 22.69706584,
            "remaining_time": 25.18703931,
            "test": [
             0.4608804362
            ]
           },
           {
            "iteration": 474,
            "learn": [
             0.4508746373
            ],
            "passed_time": 22.73903973,
            "remaining_time": 25.13262286,
            "test": [
             0.4608838867
            ]
           },
           {
            "iteration": 475,
            "learn": [
             0.4508491908
            ],
            "passed_time": 22.78016965,
            "remaining_time": 25.07732962,
            "test": [
             0.4608820312
            ]
           },
           {
            "iteration": 476,
            "learn": [
             0.450811356
            ],
            "passed_time": 22.82706675,
            "remaining_time": 25.0284191,
            "test": [
             0.4608685221
            ]
           },
           {
            "iteration": 477,
            "learn": [
             0.4507710938
            ],
            "passed_time": 22.87300361,
            "remaining_time": 24.97846838,
            "test": [
             0.4608612305
            ]
           },
           {
            "iteration": 478,
            "learn": [
             0.4507484096
            ],
            "passed_time": 22.92074307,
            "remaining_time": 24.93049507,
            "test": [
             0.4608661133
            ]
           },
           {
            "iteration": 479,
            "learn": [
             0.450704827
            ],
            "passed_time": 22.96805636,
            "remaining_time": 24.88206106,
            "test": [
             0.4608049154
            ]
           },
           {
            "iteration": 480,
            "learn": [
             0.4506731864
            ],
            "passed_time": 23.01182101,
            "remaining_time": 24.82980272,
            "test": [
             0.4607891927
            ]
           },
           {
            "iteration": 481,
            "learn": [
             0.4506441127
            ],
            "passed_time": 23.06508854,
            "remaining_time": 24.78779225,
            "test": [
             0.4607904948
            ]
           },
           {
            "iteration": 482,
            "learn": [
             0.4505919643
            ],
            "passed_time": 23.11675065,
            "remaining_time": 24.74401674,
            "test": [
             0.4607905273
            ]
           },
           {
            "iteration": 483,
            "learn": [
             0.4505630859
            ],
            "passed_time": 23.16585538,
            "remaining_time": 24.69748218,
            "test": [
             0.4607872396
            ]
           },
           {
            "iteration": 484,
            "learn": [
             0.4505232143
            ],
            "passed_time": 23.2311306,
            "remaining_time": 24.66810775,
            "test": [
             0.4607861654
            ]
           },
           {
            "iteration": 485,
            "learn": [
             0.4504952567
            ],
            "passed_time": 23.28491359,
            "remaining_time": 24.62643125,
            "test": [
             0.4607873698
            ]
           },
           {
            "iteration": 486,
            "learn": [
             0.4504520368
            ],
            "passed_time": 23.32823368,
            "remaining_time": 24.57368352,
            "test": [
             0.4607876302
            ]
           },
           {
            "iteration": 487,
            "learn": [
             0.4504179967
            ],
            "passed_time": 23.3691336,
            "remaining_time": 24.51843526,
            "test": [
             0.4607821615
            ]
           },
           {
            "iteration": 488,
            "learn": [
             0.4503682478
            ],
            "passed_time": 23.41267632,
            "remaining_time": 24.46600736,
            "test": [
             0.460783724
            ]
           },
           {
            "iteration": 489,
            "learn": [
             0.4503382533
            ],
            "passed_time": 23.45141689,
            "remaining_time": 24.40861758,
            "test": [
             0.4607816406
            ]
           },
           {
            "iteration": 490,
            "learn": [
             0.4503070033
            ],
            "passed_time": 23.50162815,
            "remaining_time": 24.36319497,
            "test": [
             0.4607694661
            ]
           },
           {
            "iteration": 491,
            "learn": [
             0.4502618862
            ],
            "passed_time": 23.54974777,
            "remaining_time": 24.31559323,
            "test": [
             0.4607635091
            ]
           },
           {
            "iteration": 492,
            "learn": [
             0.4502313895
            ],
            "passed_time": 23.59861998,
            "remaining_time": 24.26876335,
            "test": [
             0.4607516927
            ]
           },
           {
            "iteration": 493,
            "learn": [
             0.4501999721
            ],
            "passed_time": 23.65031947,
            "remaining_time": 24.22482116,
            "test": [
             0.4607438151
            ]
           },
           {
            "iteration": 494,
            "learn": [
             0.4501721819
            ],
            "passed_time": 23.71556856,
            "remaining_time": 24.19467096,
            "test": [
             0.4607424805
            ]
           },
           {
            "iteration": 495,
            "learn": [
             0.4501375558
            ],
            "passed_time": 23.76564569,
            "remaining_time": 24.14896255,
            "test": [
             0.4607361003
            ]
           },
           {
            "iteration": 496,
            "learn": [
             0.4500991629
            ],
            "passed_time": 23.80658915,
            "remaining_time": 24.09399264,
            "test": [
             0.4607421224
            ]
           },
           {
            "iteration": 497,
            "learn": [
             0.4500713449
            ],
            "passed_time": 23.84498188,
            "remaining_time": 24.03650784,
            "test": [
             0.4607367187
            ]
           },
           {
            "iteration": 498,
            "learn": [
             0.4500462612
            ],
            "passed_time": 23.89457259,
            "remaining_time": 23.99034242,
            "test": [
             0.4607328776
            ]
           },
           {
            "iteration": 499,
            "learn": [
             0.4500305525
            ],
            "passed_time": 23.93821683,
            "remaining_time": 23.93821683,
            "test": [
             0.4607304036
            ]
           },
           {
            "iteration": 500,
            "learn": [
             0.4499835379
            ],
            "passed_time": 23.97948088,
            "remaining_time": 23.88375441,
            "test": [
             0.4607450521
            ]
           },
           {
            "iteration": 501,
            "learn": [
             0.4499645089
            ],
            "passed_time": 24.01983703,
            "remaining_time": 23.82844391,
            "test": [
             0.4607448568
            ]
           },
           {
            "iteration": 502,
            "learn": [
             0.4499474051
            ],
            "passed_time": 24.0625988,
            "remaining_time": 23.77556978,
            "test": [
             0.4607430339
            ]
           },
           {
            "iteration": 503,
            "learn": [
             0.4499052734
            ],
            "passed_time": 24.1075786,
            "remaining_time": 23.72491863,
            "test": [
             0.4607277018
            ]
           },
           {
            "iteration": 504,
            "learn": [
             0.4498795759
            ],
            "passed_time": 24.17596293,
            "remaining_time": 23.69723099,
            "test": [
             0.460725
            ]
           },
           {
            "iteration": 505,
            "learn": [
             0.44983125
            ],
            "passed_time": 24.26622805,
            "remaining_time": 23.69074438,
            "test": [
             0.4607286784
            ]
           },
           {
            "iteration": 506,
            "learn": [
             0.4497984654
            ],
            "passed_time": 24.30607106,
            "remaining_time": 23.6348975,
            "test": [
             0.4607307617
            ]
           },
           {
            "iteration": 507,
            "learn": [
             0.4497742746
            ],
            "passed_time": 24.36838665,
            "remaining_time": 23.60087841,
            "test": [
             0.4607305013
            ]
           },
           {
            "iteration": 508,
            "learn": [
             0.4497398996
            ],
            "passed_time": 24.41952232,
            "remaining_time": 23.55596357,
            "test": [
             0.4607224284
            ]
           },
           {
            "iteration": 509,
            "learn": [
             0.4497229074
            ],
            "passed_time": 24.46138416,
            "remaining_time": 23.50211419,
            "test": [
             0.4607242839
            ]
           },
           {
            "iteration": 510,
            "learn": [
             0.4496942801
            ],
            "passed_time": 24.50977953,
            "remaining_time": 23.45456397,
            "test": [
             0.4607395508
            ]
           },
           {
            "iteration": 511,
            "learn": [
             0.4496719587
            ],
            "passed_time": 24.56203696,
            "remaining_time": 23.41069148,
            "test": [
             0.4607454102
            ]
           },
           {
            "iteration": 512,
            "learn": [
             0.4496345424
            ],
            "passed_time": 24.6076544,
            "remaining_time": 23.36048283,
            "test": [
             0.4607489909
            ]
           },
           {
            "iteration": 513,
            "learn": [
             0.4496077009
            ],
            "passed_time": 24.65252656,
            "remaining_time": 23.30958737,
            "test": [
             0.4607490885
            ]
           },
           {
            "iteration": 514,
            "learn": [
             0.4495869699
            ],
            "passed_time": 24.70381573,
            "remaining_time": 23.2647585,
            "test": [
             0.4607478841
            ]
           },
           {
            "iteration": 515,
            "learn": [
             0.4495758929
            ],
            "passed_time": 24.74936132,
            "remaining_time": 23.2145172,
            "test": [
             0.4607410807
            ]
           },
           {
            "iteration": 516,
            "learn": [
             0.4495477958
            ],
            "passed_time": 24.79506953,
            "remaining_time": 23.164446,
            "test": [
             0.4607346029
            ]
           },
           {
            "iteration": 517,
            "learn": [
             0.4495162667
            ],
            "passed_time": 24.83339085,
            "remaining_time": 23.10751813,
            "test": [
             0.4607333984
            ]
           },
           {
            "iteration": 518,
            "learn": [
             0.4494987723
            ],
            "passed_time": 24.88350613,
            "remaining_time": 23.06159239,
            "test": [
             0.4607340169
            ]
           },
           {
            "iteration": 519,
            "learn": [
             0.4494647879
            ],
            "passed_time": 24.92854178,
            "remaining_time": 23.01096164,
            "test": [
             0.4607273438
            ]
           },
           {
            "iteration": 520,
            "learn": [
             0.4494005022
            ],
            "passed_time": 24.96834062,
            "remaining_time": 22.95553773,
            "test": [
             0.4607325521
            ]
           },
           {
            "iteration": 521,
            "learn": [
             0.4493687779
            ],
            "passed_time": 25.01967336,
            "remaining_time": 22.91073538,
            "test": [
             0.4607314128
            ]
           },
           {
            "iteration": 522,
            "learn": [
             0.4493320871
            ],
            "passed_time": 25.0580692,
            "remaining_time": 22.854109,
            "test": [
             0.4607313151
            ]
           },
           {
            "iteration": 523,
            "learn": [
             0.4492837612
            ],
            "passed_time": 25.10359882,
            "remaining_time": 22.80403252,
            "test": [
             0.460736849
            ]
           },
           {
            "iteration": 524,
            "learn": [
             0.4492433594
            ],
            "passed_time": 25.14790973,
            "remaining_time": 22.75287071,
            "test": [
             0.4607400065
            ]
           },
           {
            "iteration": 525,
            "learn": [
             0.4492262556
            ],
            "passed_time": 25.19561888,
            "remaining_time": 22.70479724,
            "test": [
             0.4607401367
            ]
           },
           {
            "iteration": 526,
            "learn": [
             0.4492023438
            ],
            "passed_time": 25.24740192,
            "remaining_time": 22.66038161,
            "test": [
             0.4607461914
            ]
           },
           {
            "iteration": 527,
            "learn": [
             0.4491395926
            ],
            "passed_time": 25.30802114,
            "remaining_time": 22.62383708,
            "test": [
             0.4607431641
            ]
           },
           {
            "iteration": 528,
            "learn": [
             0.4491172154
            ],
            "passed_time": 25.35448517,
            "remaining_time": 22.57459833,
            "test": [
             0.4607367839
            ]
           },
           {
            "iteration": 529,
            "learn": [
             0.4490879743
            ],
            "passed_time": 25.39885697,
            "remaining_time": 22.52351467,
            "test": [
             0.4607373698
            ]
           },
           {
            "iteration": 530,
            "learn": [
             0.4490603795
            ],
            "passed_time": 25.4421576,
            "remaining_time": 22.47151019,
            "test": [
             0.4607345378
            ]
           },
           {
            "iteration": 531,
            "learn": [
             0.449030692
            ],
            "passed_time": 25.48904877,
            "remaining_time": 22.42269704,
            "test": [
             0.4607389648
            ]
           },
           {
            "iteration": 532,
            "learn": [
             0.4489950893
            ],
            "passed_time": 25.53708576,
            "remaining_time": 22.37489503,
            "test": [
             0.4607500651
            ]
           },
           {
            "iteration": 533,
            "learn": [
             0.4489640625
            ],
            "passed_time": 25.58516036,
            "remaining_time": 22.32712496,
            "test": [
             0.4607598958
            ]
           },
           {
            "iteration": 534,
            "learn": [
             0.4489121094
            ],
            "passed_time": 25.62971973,
            "remaining_time": 22.27629846,
            "test": [
             0.4607488607
            ]
           },
           {
            "iteration": 535,
            "learn": [
             0.4488893415
            ],
            "passed_time": 25.68431544,
            "remaining_time": 22.23418352,
            "test": [
             0.4607530599
            ]
           },
           {
            "iteration": 536,
            "learn": [
             0.4488736886
            ],
            "passed_time": 25.73544645,
            "remaining_time": 22.18903484,
            "test": [
             0.4607567383
            ]
           },
           {
            "iteration": 537,
            "learn": [
             0.4488434431
            ],
            "passed_time": 25.78160504,
            "remaining_time": 22.13959392,
            "test": [
             0.4607568685
            ]
           },
           {
            "iteration": 538,
            "learn": [
             0.4488251116
            ],
            "passed_time": 25.82998988,
            "remaining_time": 22.09206926,
            "test": [
             0.4607531576
            ]
           },
           {
            "iteration": 539,
            "learn": [
             0.4487906529
            ],
            "passed_time": 25.87693267,
            "remaining_time": 22.04331302,
            "test": [
             0.460761556
            ]
           },
           {
            "iteration": 540,
            "learn": [
             0.4487567243
            ],
            "passed_time": 25.92385071,
            "remaining_time": 21.99454247,
            "test": [
             0.4607580729
            ]
           },
           {
            "iteration": 541,
            "learn": [
             0.4487150112
            ],
            "passed_time": 25.97328687,
            "remaining_time": 21.94790662,
            "test": [
             0.4607383138
            ]
           },
           {
            "iteration": 542,
            "learn": [
             0.4486735212
            ],
            "passed_time": 26.01926277,
            "remaining_time": 21.89834822,
            "test": [
             0.460734375
            ]
           },
           {
            "iteration": 543,
            "learn": [
             0.4486479632
            ],
            "passed_time": 26.0592864,
            "remaining_time": 21.8438136,
            "test": [
             0.4607317383
            ]
           },
           {
            "iteration": 544,
            "learn": [
             0.4486201172
            ],
            "passed_time": 26.10399414,
            "remaining_time": 21.79324282,
            "test": [
             0.4607201823
            ]
           },
           {
            "iteration": 545,
            "learn": [
             0.4485771205
            ],
            "passed_time": 26.15452285,
            "remaining_time": 21.74753365,
            "test": [
             0.4607152669
            ]
           },
           {
            "iteration": 546,
            "learn": [
             0.4485392857
            ],
            "passed_time": 26.20352064,
            "remaining_time": 21.70053903,
            "test": [
             0.4607170247
            ]
           },
           {
            "iteration": 547,
            "learn": [
             0.448505106
            ],
            "passed_time": 26.25269677,
            "remaining_time": 21.6536842,
            "test": [
             0.460703418
            ]
           },
           {
            "iteration": 548,
            "learn": [
             0.4484803292
            ],
            "passed_time": 26.34963787,
            "remaining_time": 21.64605952,
            "test": [
             0.4607088867
            ]
           },
           {
            "iteration": 549,
            "learn": [
             0.4484503627
            ],
            "passed_time": 26.38898303,
            "remaining_time": 21.59098612,
            "test": [
             0.4607226562
            ]
           },
           {
            "iteration": 550,
            "learn": [
             0.4484143973
            ],
            "passed_time": 26.44545445,
            "remaining_time": 21.54992567,
            "test": [
             0.4607253581
            ]
           },
           {
            "iteration": 551,
            "learn": [
             0.4483755859
            ],
            "passed_time": 26.49473977,
            "remaining_time": 21.5029772,
            "test": [
             0.4607261719
            ]
           },
           {
            "iteration": 552,
            "learn": [
             0.4483449777
            ],
            "passed_time": 26.53624558,
            "remaining_time": 21.44973196,
            "test": [
             0.4607263021
            ]
           },
           {
            "iteration": 553,
            "learn": [
             0.4483258092
            ],
            "passed_time": 26.58823002,
            "remaining_time": 21.40496496,
            "test": [
             0.4607251302
            ]
           },
           {
            "iteration": 554,
            "learn": [
             0.4482991071
            ],
            "passed_time": 26.63435161,
            "remaining_time": 21.35547111,
            "test": [
             0.4607264648
            ]
           },
           {
            "iteration": 555,
            "learn": [
             0.4482617187
            ],
            "passed_time": 26.69225604,
            "remaining_time": 21.3153987,
            "test": [
             0.460722819
            ]
           },
           {
            "iteration": 556,
            "learn": [
             0.4482198382
            ],
            "passed_time": 26.74133699,
            "remaining_time": 21.26824468,
            "test": [
             0.4607195964
            ]
           },
           {
            "iteration": 557,
            "learn": [
             0.4482024833
            ],
            "passed_time": 26.78866863,
            "remaining_time": 21.21969809,
            "test": [
             0.4607171875
            ]
           },
           {
            "iteration": 558,
            "learn": [
             0.4481702009
            ],
            "passed_time": 26.82896002,
            "remaining_time": 21.16560173,
            "test": [
             0.4607105794
            ]
           },
           {
            "iteration": 559,
            "learn": [
             0.4481404297
            ],
            "passed_time": 26.87349147,
            "remaining_time": 21.11488616,
            "test": [
             0.4607142904
            ]
           },
           {
            "iteration": 560,
            "learn": [
             0.4480978516
            ],
            "passed_time": 26.93844067,
            "remaining_time": 21.08017015,
            "test": [
             0.4606950195
            ]
           },
           {
            "iteration": 561,
            "learn": [
             0.4480666853
            ],
            "passed_time": 26.9831797,
            "remaining_time": 21.02959556,
            "test": [
             0.4606999674
            ]
           },
           {
            "iteration": 562,
            "learn": [
             0.4480207031
            ],
            "passed_time": 27.02405848,
            "remaining_time": 20.97604539,
            "test": [
             0.4606958984
            ]
           },
           {
            "iteration": 563,
            "learn": [
             0.4479965123
            ],
            "passed_time": 27.07195124,
            "remaining_time": 20.92796231,
            "test": [
             0.4606905599
            ]
           },
           {
            "iteration": 564,
            "learn": [
             0.4479789062
            ],
            "passed_time": 27.11814701,
            "remaining_time": 20.87857336,
            "test": [
             0.4606946289
            ]
           },
           {
            "iteration": 565,
            "learn": [
             0.4479477958
            ],
            "passed_time": 27.16527219,
            "remaining_time": 20.82990836,
            "test": [
             0.4606845703
            ]
           },
           {
            "iteration": 566,
            "learn": [
             0.4479262556
            ],
            "passed_time": 27.20819108,
            "remaining_time": 20.77803657,
            "test": [
             0.4606798503
            ]
           },
           {
            "iteration": 567,
            "learn": [
             0.4478973493
            ],
            "passed_time": 27.25870364,
            "remaining_time": 20.73197178,
            "test": [
             0.4606739583
            ]
           },
           {
            "iteration": 568,
            "learn": [
             0.447873577
            ],
            "passed_time": 27.30825583,
            "remaining_time": 20.68516391,
            "test": [
             0.4606746745
            ]
           },
           {
            "iteration": 569,
            "learn": [
             0.447843192
            ],
            "passed_time": 27.36576169,
            "remaining_time": 20.64434654,
            "test": [
             0.4606797852
            ]
           },
           {
            "iteration": 570,
            "learn": [
             0.4478232143
            ],
            "passed_time": 27.4386822,
            "remaining_time": 20.61505195,
            "test": [
             0.4606717448
            ]
           },
           {
            "iteration": 571,
            "learn": [
             0.4477826172
            ],
            "passed_time": 27.4906099,
            "remaining_time": 20.56989692,
            "test": [
             0.4606695964
            ]
           },
           {
            "iteration": 572,
            "learn": [
             0.4477424386
            ],
            "passed_time": 27.53785606,
            "remaining_time": 20.52122956,
            "test": [
             0.4606651367
            ]
           },
           {
            "iteration": 573,
            "learn": [
             0.4476960938
            ],
            "passed_time": 27.59567128,
            "remaining_time": 20.48041109,
            "test": [
             0.4606679687
            ]
           },
           {
            "iteration": 574,
            "learn": [
             0.4476802176
            ],
            "passed_time": 27.6342134,
            "remaining_time": 20.42528817,
            "test": [
             0.4606709635
            ]
           },
           {
            "iteration": 575,
            "learn": [
             0.4476671875
            ],
            "passed_time": 27.68785664,
            "remaining_time": 20.38133892,
            "test": [
             0.4606710286
            ]
           },
           {
            "iteration": 576,
            "learn": [
             0.4476327009
            ],
            "passed_time": 27.73113153,
            "remaining_time": 20.329755,
            "test": [
             0.4606734701
            ]
           },
           {
            "iteration": 577,
            "learn": [
             0.4475985491
            ],
            "passed_time": 27.77124889,
            "remaining_time": 20.27589452,
            "test": [
             0.460671875
            ]
           },
           {
            "iteration": 578,
            "learn": [
             0.4475670759
            ],
            "passed_time": 27.82104951,
            "remaining_time": 20.22912236,
            "test": [
             0.4606720052
            ]
           },
           {
            "iteration": 579,
            "learn": [
             0.4475490513
            ],
            "passed_time": 27.86167559,
            "remaining_time": 20.17569612,
            "test": [
             0.4606655924
            ]
           },
           {
            "iteration": 580,
            "learn": [
             0.4475140346
            ],
            "passed_time": 27.91098809,
            "remaining_time": 20.12857833,
            "test": [
             0.4606673177
            ]
           },
           {
            "iteration": 581,
            "learn": [
             0.4474680246
            ],
            "passed_time": 27.95387983,
            "remaining_time": 20.07684153,
            "test": [
             0.4606672201
            ]
           },
           {
            "iteration": 582,
            "learn": [
             0.4474354911
            ],
            "passed_time": 27.99422605,
            "remaining_time": 20.02331434,
            "test": [
             0.4606631836
            ]
           },
           {
            "iteration": 583,
            "learn": [
             0.4473979911
            ],
            "passed_time": 28.04905352,
            "remaining_time": 19.98014772,
            "test": [
             0.4606525716
            ]
           },
           {
            "iteration": 584,
            "learn": [
             0.4473779297
            ],
            "passed_time": 28.09750209,
            "remaining_time": 19.93241602,
            "test": [
             0.4606604167
            ]
           },
           {
            "iteration": 585,
            "learn": [
             0.4473546875
            ],
            "passed_time": 28.14333337,
            "remaining_time": 19.88283279,
            "test": [
             0.4606587891
            ]
           },
           {
            "iteration": 586,
            "learn": [
             0.4473245536
            ],
            "passed_time": 28.18405272,
            "remaining_time": 19.82966571,
            "test": [
             0.4606570964
            ]
           },
           {
            "iteration": 587,
            "learn": [
             0.4472835379
            ],
            "passed_time": 28.22915833,
            "remaining_time": 19.77961434,
            "test": [
             0.4606479167
            ]
           },
           {
            "iteration": 588,
            "learn": [
             0.4472531529
            ],
            "passed_time": 28.28563335,
            "remaining_time": 19.73751326,
            "test": [
             0.4606480143
            ]
           },
           {
            "iteration": 589,
            "learn": [
             0.4472325056
            ],
            "passed_time": 28.32991743,
            "remaining_time": 19.68689178,
            "test": [
             0.4606424154
            ]
           },
           {
            "iteration": 590,
            "learn": [
             0.4472083147
            ],
            "passed_time": 28.38942164,
            "remaining_time": 19.64682479,
            "test": [
             0.4606368164
            ]
           },
           {
            "iteration": 591,
            "learn": [
             0.4471653739
            ],
            "passed_time": 28.43106504,
            "remaining_time": 19.59438266,
            "test": [
             0.4606302409
            ]
           },
           {
            "iteration": 592,
            "learn": [
             0.447134375
            ],
            "passed_time": 28.50574495,
            "remaining_time": 19.56465125,
            "test": [
             0.460622168
            ]
           },
           {
            "iteration": 593,
            "learn": [
             0.4471214286
            ],
            "passed_time": 28.5572043,
            "remaining_time": 19.51889722,
            "test": [
             0.4606211263
            ]
           },
           {
            "iteration": 594,
            "learn": [
             0.4470873605
            ],
            "passed_time": 28.59882632,
            "remaining_time": 19.466428,
            "test": [
             0.4606329102
            ]
           },
           {
            "iteration": 595,
            "learn": [
             0.4470580357
            ],
            "passed_time": 28.64279724,
            "remaining_time": 19.41558739,
            "test": [
             0.4606361979
            ]
           },
           {
            "iteration": 596,
            "learn": [
             0.4470324498
            ],
            "passed_time": 28.69797129,
            "remaining_time": 19.37233238,
            "test": [
             0.4606386068
            ]
           },
           {
            "iteration": 597,
            "learn": [
             0.4470018694
            ],
            "passed_time": 28.75027538,
            "remaining_time": 19.3271082,
            "test": [
             0.4606460612
            ]
           },
           {
            "iteration": 598,
            "learn": [
             0.446986077
            ],
            "passed_time": 28.79084182,
            "remaining_time": 19.27400262,
            "test": [
             0.4606488607
            ]
           },
           {
            "iteration": 599,
            "learn": [
             0.4469400391
            ],
            "passed_time": 28.83254808,
            "remaining_time": 19.22169872,
            "test": [
             0.4606400716
            ]
           },
           {
            "iteration": 600,
            "learn": [
             0.4468901786
            ],
            "passed_time": 28.88631937,
            "remaining_time": 19.17743998,
            "test": [
             0.4606385742
            ]
           },
           {
            "iteration": 601,
            "learn": [
             0.4468593471
            ],
            "passed_time": 28.92764765,
            "remaining_time": 19.1249232,
            "test": [
             0.4606311198
            ]
           },
           {
            "iteration": 602,
            "learn": [
             0.4468226283
            ],
            "passed_time": 28.98557936,
            "remaining_time": 19.08337481,
            "test": [
             0.4606202799
            ]
           },
           {
            "iteration": 603,
            "learn": [
             0.4467830078
            ],
            "passed_time": 29.02526595,
            "remaining_time": 19.02981013,
            "test": [
             0.4606278646
            ]
           },
           {
            "iteration": 604,
            "learn": [
             0.446748298
            ],
            "passed_time": 29.06372687,
            "remaining_time": 18.9754911,
            "test": [
             0.4606458984
            ]
           },
           {
            "iteration": 605,
            "learn": [
             0.4467197545
            ],
            "passed_time": 29.112709,
            "remaining_time": 18.92806493,
            "test": [
             0.4606478841
            ]
           },
           {
            "iteration": 606,
            "learn": [
             0.4467006138
            ],
            "passed_time": 29.16139128,
            "remaining_time": 18.88043949,
            "test": [
             0.4606396159
            ]
           },
           {
            "iteration": 607,
            "learn": [
             0.4466800223
            ],
            "passed_time": 29.20737702,
            "remaining_time": 18.83107202,
            "test": [
             0.4606356445
            ]
           },
           {
            "iteration": 608,
            "learn": [
             0.4466699777
            ],
            "passed_time": 29.24765707,
            "remaining_time": 18.7780524,
            "test": [
             0.4606331706
            ]
           },
           {
            "iteration": 609,
            "learn": [
             0.4466499163
            ],
            "passed_time": 29.29527786,
            "remaining_time": 18.72976781,
            "test": [
             0.4606274414
            ]
           },
           {
            "iteration": 610,
            "learn": [
             0.4466233259
            ],
            "passed_time": 29.34200511,
            "remaining_time": 18.68091651,
            "test": [
             0.4606269206
            ]
           },
           {
            "iteration": 611,
            "learn": [
             0.446595731
            ],
            "passed_time": 29.38529139,
            "remaining_time": 18.62989062,
            "test": [
             0.460626237
            ]
           },
           {
            "iteration": 612,
            "learn": [
             0.4465813895
            ],
            "passed_time": 29.43328887,
            "remaining_time": 18.58186426,
            "test": [
             0.4606244792
            ]
           },
           {
            "iteration": 613,
            "learn": [
             0.446537221
            ],
            "passed_time": 29.47548902,
            "remaining_time": 18.53019342,
            "test": [
             0.4606177083
            ]
           },
           {
            "iteration": 614,
            "learn": [
             0.4465079241
            ],
            "passed_time": 29.54608238,
            "remaining_time": 18.49632799,
            "test": [
             0.4606193359
            ]
           },
           {
            "iteration": 615,
            "learn": [
             0.4464686942
            ],
            "passed_time": 29.5887571,
            "remaining_time": 18.44493949,
            "test": [
             0.4606129883
            ]
           },
           {
            "iteration": 616,
            "learn": [
             0.4464387277
            ],
            "passed_time": 29.63890674,
            "remaining_time": 18.39821926,
            "test": [
             0.460612793
            ]
           },
           {
            "iteration": 617,
            "learn": [
             0.4464120536
            ],
            "passed_time": 29.6981921,
            "remaining_time": 18.35713492,
            "test": [
             0.460607194
            ]
           },
           {
            "iteration": 618,
            "learn": [
             0.4463735491
            ],
            "passed_time": 29.74055734,
            "remaining_time": 18.3055773,
            "test": [
             0.4606090169
            ]
           },
           {
            "iteration": 619,
            "learn": [
             0.4463475725
            ],
            "passed_time": 29.78494266,
            "remaining_time": 18.25528744,
            "test": [
             0.4606064128
            ]
           },
           {
            "iteration": 620,
            "learn": [
             0.4463174665
            ],
            "passed_time": 29.84552899,
            "remaining_time": 18.21490416,
            "test": [
             0.4606022786
            ]
           },
           {
            "iteration": 621,
            "learn": [
             0.4462720145
            ],
            "passed_time": 29.88785535,
            "remaining_time": 18.16335904,
            "test": [
             0.4605847005
            ]
           },
           {
            "iteration": 622,
            "learn": [
             0.4462494141
            ],
            "passed_time": 29.92764513,
            "remaining_time": 18.11030853,
            "test": [
             0.4605870443
            ]
           },
           {
            "iteration": 623,
            "learn": [
             0.4462234375
            ],
            "passed_time": 29.97193502,
            "remaining_time": 18.06001213,
            "test": [
             0.4605852865
            ]
           },
           {
            "iteration": 624,
            "learn": [
             0.446184654
            ],
            "passed_time": 30.01621759,
            "remaining_time": 18.00973055,
            "test": [
             0.4605728516
            ]
           },
           {
            "iteration": 625,
            "learn": [
             0.4461638672
            ],
            "passed_time": 30.06684396,
            "remaining_time": 17.96325822,
            "test": [
             0.4605704102
            ]
           },
           {
            "iteration": 626,
            "learn": [
             0.4461243862
            ],
            "passed_time": 30.10503907,
            "remaining_time": 17.90937731,
            "test": [
             0.4605632487
            ]
           },
           {
            "iteration": 627,
            "learn": [
             0.4461069754
            ],
            "passed_time": 30.1575357,
            "remaining_time": 17.86401796,
            "test": [
             0.4605577148
            ]
           },
           {
            "iteration": 628,
            "learn": [
             0.4460772321
            ],
            "passed_time": 30.20551687,
            "remaining_time": 17.81597259,
            "test": [
             0.4605506185
            ]
           },
           {
            "iteration": 629,
            "learn": [
             0.4460481585
            ],
            "passed_time": 30.24978898,
            "remaining_time": 17.76574909,
            "test": [
             0.4605558919
            ]
           },
           {
            "iteration": 630,
            "learn": [
             0.4460307478
            ],
            "passed_time": 30.30592623,
            "remaining_time": 17.72248301,
            "test": [
             0.4605628255
            ]
           },
           {
            "iteration": 631,
            "learn": [
             0.4459998047
            ],
            "passed_time": 30.35172145,
            "remaining_time": 17.67315426,
            "test": [
             0.4605683268
            ]
           },
           {
            "iteration": 632,
            "learn": [
             0.4459502511
            ],
            "passed_time": 30.4052531,
            "remaining_time": 17.6283221,
            "test": [
             0.4605663086
            ]
           },
           {
            "iteration": 633,
            "learn": [
             0.4459053013
            ],
            "passed_time": 30.44865265,
            "remaining_time": 17.57761336,
            "test": [
             0.4605680664
            ]
           },
           {
            "iteration": 634,
            "learn": [
             0.4458632813
            ],
            "passed_time": 30.48790558,
            "remaining_time": 17.52454415,
            "test": [
             0.4605726237
            ]
           },
           {
            "iteration": 635,
            "learn": [
             0.445814481
            ],
            "passed_time": 30.54589525,
            "remaining_time": 17.48224194,
            "test": [
             0.460560612
            ]
           },
           {
            "iteration": 636,
            "learn": [
             0.4457891183
            ],
            "passed_time": 30.58127589,
            "remaining_time": 17.42700651,
            "test": [
             0.4605615885
            ]
           },
           {
            "iteration": 637,
            "learn": [
             0.4457248884
            ],
            "passed_time": 30.64449336,
            "remaining_time": 17.38762789,
            "test": [
             0.4605581055
            ]
           },
           {
            "iteration": 638,
            "learn": [
             0.4456957868
            ],
            "passed_time": 30.70108703,
            "remaining_time": 17.34443258,
            "test": [
             0.4605615885
            ]
           },
           {
            "iteration": 639,
            "learn": [
             0.4456821429
            ],
            "passed_time": 30.74999686,
            "remaining_time": 17.29687323,
            "test": [
             0.4605633138
            ]
           },
           {
            "iteration": 640,
            "learn": [
             0.4456316964
            ],
            "passed_time": 30.78630381,
            "remaining_time": 17.24225128,
            "test": [
             0.4605657227
            ]
           },
           {
            "iteration": 641,
            "learn": [
             0.4456089844
            ],
            "passed_time": 30.82383608,
            "remaining_time": 17.18836965,
            "test": [
             0.4605642578
            ]
           },
           {
            "iteration": 642,
            "learn": [
             0.4455654855
            ],
            "passed_time": 30.8664963,
            "remaining_time": 17.13738597,
            "test": [
             0.4605661784
            ]
           },
           {
            "iteration": 643,
            "learn": [
             0.4455433315
            ],
            "passed_time": 30.91185083,
            "remaining_time": 17.08791754,
            "test": [
             0.4605692057
            ]
           },
           {
            "iteration": 644,
            "learn": [
             0.4455056641
            ],
            "passed_time": 30.96336863,
            "remaining_time": 17.04185405,
            "test": [
             0.4605626628
            ]
           },
           {
            "iteration": 645,
            "learn": [
             0.4454809989
            ],
            "passed_time": 31.00714421,
            "remaining_time": 16.99153104,
            "test": [
             0.4605626628
            ]
           },
           {
            "iteration": 646,
            "learn": [
             0.4454500558
            ],
            "passed_time": 31.06420889,
            "remaining_time": 16.94847873,
            "test": [
             0.4605621094
            ]
           },
           {
            "iteration": 647,
            "learn": [
             0.4454086775
            ],
            "passed_time": 31.11040271,
            "remaining_time": 16.89947801,
            "test": [
             0.460564388
            ]
           },
           {
            "iteration": 648,
            "learn": [
             0.4453853237
            ],
            "passed_time": 31.15027928,
            "remaining_time": 16.84706938,
            "test": [
             0.460569043
            ]
           },
           {
            "iteration": 649,
            "learn": [
             0.4453303292
            ],
            "passed_time": 31.20707296,
            "remaining_time": 16.80380851,
            "test": [
             0.4605868164
            ]
           },
           {
            "iteration": 650,
            "learn": [
             0.4452862723
            ],
            "passed_time": 31.25265558,
            "remaining_time": 16.75449585,
            "test": [
             0.4605799805
            ]
           },
           {
            "iteration": 651,
            "learn": [
             0.4452554687
            ],
            "passed_time": 31.29221919,
            "remaining_time": 16.70198202,
            "test": [
             0.4605870443
            ]
           },
           {
            "iteration": 652,
            "learn": [
             0.4452141462
            ],
            "passed_time": 31.33243984,
            "remaining_time": 16.64985701,
            "test": [
             0.4605830078
            ]
           },
           {
            "iteration": 653,
            "learn": [
             0.4451904576
            ],
            "passed_time": 31.3732318,
            "remaining_time": 16.59807064,
            "test": [
             0.4605820964
            ]
           },
           {
            "iteration": 654,
            "learn": [
             0.4451675502
            ],
            "passed_time": 31.42493399,
            "remaining_time": 16.55206447,
            "test": [
             0.4605820964
            ]
           },
           {
            "iteration": 655,
            "learn": [
             0.4451372768
            ],
            "passed_time": 31.47467361,
            "remaining_time": 16.50501177,
            "test": [
             0.4605752604
            ]
           },
           {
            "iteration": 656,
            "learn": [
             0.4450989676
            ],
            "passed_time": 31.51823632,
            "remaining_time": 16.45472611,
            "test": [
             0.4605588216
            ]
           },
           {
            "iteration": 657,
            "learn": [
             0.4450749163
            ],
            "passed_time": 31.5641298,
            "remaining_time": 16.40567233,
            "test": [
             0.4605647786
            ]
           },
           {
            "iteration": 658,
            "learn": [
             0.4450359096
            ],
            "passed_time": 31.62289641,
            "remaining_time": 16.36328934,
            "test": [
             0.4605572591
            ]
           },
           {
            "iteration": 659,
            "learn": [
             0.4450194754
            ],
            "passed_time": 31.73143706,
            "remaining_time": 16.34649788,
            "test": [
             0.4605662109
            ]
           },
           {
            "iteration": 660,
            "learn": [
             0.4450000558
            ],
            "passed_time": 31.78147184,
            "remaining_time": 16.29942353,
            "test": [
             0.4605707682
            ]
           },
           {
            "iteration": 661,
            "learn": [
             0.444963365
            ],
            "passed_time": 31.82304688,
            "remaining_time": 16.24802092,
            "test": [
             0.4605863281
            ]
           },
           {
            "iteration": 662,
            "learn": [
             0.4449323103
            ],
            "passed_time": 31.87317391,
            "remaining_time": 16.20099489,
            "test": [
             0.4605878906
            ]
           },
           {
            "iteration": 663,
            "learn": [
             0.4449087891
            ],
            "passed_time": 31.91111335,
            "remaining_time": 16.1477923,
            "test": [
             0.4605827474
            ]
           },
           {
            "iteration": 664,
            "learn": [
             0.4448723493
            ],
            "passed_time": 31.96505317,
            "remaining_time": 16.10269596,
            "test": [
             0.4605830404
            ]
           },
           {
            "iteration": 665,
            "learn": [
             0.4448215681
            ],
            "passed_time": 32.00736589,
            "remaining_time": 16.05174205,
            "test": [
             0.4605771484
            ]
           },
           {
            "iteration": 666,
            "learn": [
             0.4447705357
            ],
            "passed_time": 32.05887743,
            "remaining_time": 16.00540657,
            "test": [
             0.4605919596
            ]
           },
           {
            "iteration": 667,
            "learn": [
             0.444719894
            ],
            "passed_time": 32.10154614,
            "remaining_time": 15.95466065,
            "test": [
             0.4605915039
            ]
           },
           {
            "iteration": 668,
            "learn": [
             0.4446775112
            ],
            "passed_time": 32.14616057,
            "remaining_time": 15.90490157,
            "test": [
             0.4605867839
            ]
           },
           {
            "iteration": 669,
            "learn": [
             0.4446647042
            ],
            "passed_time": 32.19658606,
            "remaining_time": 15.85802,
            "test": [
             0.4605855794
            ]
           },
           {
            "iteration": 670,
            "learn": [
             0.4446239955
            ],
            "passed_time": 32.24044863,
            "remaining_time": 15.80790998,
            "test": [
             0.4605820964
            ]
           },
           {
            "iteration": 671,
            "learn": [
             0.4445982422
            ],
            "passed_time": 32.28348354,
            "remaining_time": 15.75741459,
            "test": [
             0.4605754883
            ]
           },
           {
            "iteration": 672,
            "learn": [
             0.4445612723
            ],
            "passed_time": 32.32777283,
            "remaining_time": 15.70755084,
            "test": [
             0.4605766276
            ]
           },
           {
            "iteration": 673,
            "learn": [
             0.4445300223
            ],
            "passed_time": 32.36639157,
            "remaining_time": 15.65496091,
            "test": [
             0.4605769857
            ]
           },
           {
            "iteration": 674,
            "learn": [
             0.4445111328
            ],
            "passed_time": 32.41206203,
            "remaining_time": 15.60580764,
            "test": [
             0.4605844727
            ]
           },
           {
            "iteration": 675,
            "learn": [
             0.4444632533
            ],
            "passed_time": 32.45749765,
            "remaining_time": 15.55655213,
            "test": [
             0.4605906576
            ]
           },
           {
            "iteration": 676,
            "learn": [
             0.4444453683
            ],
            "passed_time": 32.5061813,
            "remaining_time": 15.50885755,
            "test": [
             0.4605845703
            ]
           },
           {
            "iteration": 677,
            "learn": [
             0.4444149275
            ],
            "passed_time": 32.54985948,
            "remaining_time": 15.45878282,
            "test": [
             0.460573112
            ]
           },
           {
            "iteration": 678,
            "learn": [
             0.4443651786
            ],
            "passed_time": 32.59590764,
            "remaining_time": 15.40984735,
            "test": [
             0.4605630208
            ]
           },
           {
            "iteration": 679,
            "learn": [
             0.4443280971
            ],
            "passed_time": 32.64688226,
            "remaining_time": 15.36323871,
            "test": [
             0.4605683268
            ]
           },
           {
            "iteration": 680,
            "learn": [
             0.4442925781
            ],
            "passed_time": 32.7835799,
            "remaining_time": 15.35677238,
            "test": [
             0.4605630208
            ]
           },
           {
            "iteration": 681,
            "learn": [
             0.4442746373
            ],
            "passed_time": 32.8339444,
            "remaining_time": 15.30966909,
            "test": [
             0.4605648438
            ]
           },
           {
            "iteration": 682,
            "learn": [
             0.4442368304
            ],
            "passed_time": 32.88793757,
            "remaining_time": 15.26424042,
            "test": [
             0.4605689453
            ]
           },
           {
            "iteration": 683,
            "learn": [
             0.444205385
            ],
            "passed_time": 32.93221596,
            "remaining_time": 15.2142986,
            "test": [
             0.4605772135
            ]
           },
           {
            "iteration": 684,
            "learn": [
             0.4441746931
            ],
            "passed_time": 32.97591301,
            "remaining_time": 15.16410598,
            "test": [
             0.4605688477
            ]
           },
           {
            "iteration": 685,
            "learn": [
             0.4441382254
            ],
            "passed_time": 33.01721738,
            "remaining_time": 15.11283711,
            "test": [
             0.4605461263
            ]
           },
           {
            "iteration": 686,
            "learn": [
             0.4441186942
            ],
            "passed_time": 33.05868987,
            "remaining_time": 15.06167384,
            "test": [
             0.4605457357
            ]
           },
           {
            "iteration": 687,
            "learn": [
             0.4440988839
            ],
            "passed_time": 33.10559201,
            "remaining_time": 15.01300103,
            "test": [
             0.4605389974
            ]
           },
           {
            "iteration": 688,
            "learn": [
             0.4440715681
            ],
            "passed_time": 33.14686595,
            "remaining_time": 14.9617929,
            "test": [
             0.4605402344
            ]
           },
           {
            "iteration": 689,
            "learn": [
             0.444036077
            ],
            "passed_time": 33.18856685,
            "remaining_time": 14.91080539,
            "test": [
             0.4605447591
            ]
           },
           {
            "iteration": 690,
            "learn": [
             0.444011077
            ],
            "passed_time": 33.2398143,
            "remaining_time": 14.86411378,
            "test": [
             0.4605524414
            ]
           },
           {
            "iteration": 691,
            "learn": [
             0.4439931641
            ],
            "passed_time": 33.28101125,
            "remaining_time": 14.81293564,
            "test": [
             0.4605600911
            ]
           },
           {
            "iteration": 692,
            "learn": [
             0.4439681083
            ],
            "passed_time": 33.32489853,
            "remaining_time": 14.76297814,
            "test": [
             0.4605577799
            ]
           },
           {
            "iteration": 693,
            "learn": [
             0.4439314732
            ],
            "passed_time": 33.37214763,
            "remaining_time": 14.71452043,
            "test": [
             0.4605536458
            ]
           },
           {
            "iteration": 694,
            "learn": [
             0.4438965681
            ],
            "passed_time": 33.41754113,
            "remaining_time": 14.66525186,
            "test": [
             0.4605467448
            ]
           },
           {
            "iteration": 695,
            "learn": [
             0.4438445313
            ],
            "passed_time": 33.46172331,
            "remaining_time": 14.61546535,
            "test": [
             0.4605313477
            ]
           },
           {
            "iteration": 696,
            "learn": [
             0.4438034877
            ],
            "passed_time": 33.50455325,
            "remaining_time": 14.56510708,
            "test": [
             0.4605283529
            ]
           },
           {
            "iteration": 697,
            "learn": [
             0.4437836217
            ],
            "passed_time": 33.55536849,
            "remaining_time": 14.51822534,
            "test": [
             0.4605384115
            ]
           },
           {
            "iteration": 698,
            "learn": [
             0.443744615
            ],
            "passed_time": 33.59662186,
            "remaining_time": 14.46721485,
            "test": [
             0.4605364909
            ]
           },
           {
            "iteration": 699,
            "learn": [
             0.4437285156
            ],
            "passed_time": 33.63696607,
            "remaining_time": 14.4158426,
            "test": [
             0.4605414388
            ]
           },
           {
            "iteration": 700,
            "learn": [
             0.443694308
            ],
            "passed_time": 33.69040541,
            "remaining_time": 14.37008733,
            "test": [
             0.4605328776
            ]
           },
           {
            "iteration": 701,
            "learn": [
             0.4436674665
            ],
            "passed_time": 33.74923085,
            "remaining_time": 14.32659657,
            "test": [
             0.460528125
            ]
           },
           {
            "iteration": 702,
            "learn": [
             0.4436373884
            ],
            "passed_time": 33.8016236,
            "remaining_time": 14.28034453,
            "test": [
             0.4605269857
            ]
           },
           {
            "iteration": 703,
            "learn": [
             0.4436045759
            ],
            "passed_time": 33.88001132,
            "remaining_time": 14.24500476,
            "test": [
             0.4605277995
            ]
           },
           {
            "iteration": 704,
            "learn": [
             0.4435691127
            ],
            "passed_time": 33.93384949,
            "remaining_time": 14.19927035,
            "test": [
             0.4605226237
            ]
           },
           {
            "iteration": 705,
            "learn": [
             0.4435495815
            ],
            "passed_time": 33.99897224,
            "remaining_time": 14.15821224,
            "test": [
             0.4605259766
            ]
           },
           {
            "iteration": 706,
            "learn": [
             0.4435331752
            ],
            "passed_time": 34.04744643,
            "remaining_time": 14.11018643,
            "test": [
             0.4605359049
            ]
           },
           {
            "iteration": 707,
            "learn": [
             0.4435113839
            ],
            "passed_time": 34.08954709,
            "remaining_time": 14.05953072,
            "test": [
             0.4605301758
            ]
           },
           {
            "iteration": 708,
            "learn": [
             0.4434768973
            ],
            "passed_time": 34.13884758,
            "remaining_time": 14.01185423,
            "test": [
             0.4605203451
            ]
           },
           {
            "iteration": 709,
            "learn": [
             0.4434542411
            ],
            "passed_time": 34.18179867,
            "remaining_time": 13.96157974,
            "test": [
             0.4605215169
            ]
           },
           {
            "iteration": 710,
            "learn": [
             0.4434039621
            ],
            "passed_time": 34.22222711,
            "remaining_time": 13.91030047,
            "test": [
             0.4605223307
            ]
           },
           {
            "iteration": 711,
            "learn": [
             0.4433608259
            ],
            "passed_time": 34.27337893,
            "remaining_time": 13.86338923,
            "test": [
             0.4605179362
            ]
           },
           {
            "iteration": 712,
            "learn": [
             0.4433388114
            ],
            "passed_time": 34.32069783,
            "remaining_time": 13.81492325,
            "test": [
             0.4605007487
            ]
           },
           {
            "iteration": 713,
            "learn": [
             0.4433119978
            ],
            "passed_time": 34.36786271,
            "remaining_time": 13.76639879,
            "test": [
             0.4604991211
            ]
           },
           {
            "iteration": 714,
            "learn": [
             0.4432630022
            ],
            "passed_time": 34.41178052,
            "remaining_time": 13.71658384,
            "test": [
             0.4604924805
            ]
           },
           {
            "iteration": 715,
            "learn": [
             0.4432390904
            ],
            "passed_time": 34.46388508,
            "remaining_time": 13.67003263,
            "test": [
             0.4605004883
            ]
           },
           {
            "iteration": 716,
            "learn": [
             0.4432071708
            ],
            "passed_time": 34.52114758,
            "remaining_time": 13.62550176,
            "test": [
             0.4604919271
            ]
           },
           {
            "iteration": 717,
            "learn": [
             0.4431841239
            ],
            "passed_time": 34.56625745,
            "remaining_time": 13.5761624,
            "test": [
             0.4604844076
            ]
           },
           {
            "iteration": 718,
            "learn": [
             0.4431655692
            ],
            "passed_time": 34.62930443,
            "remaining_time": 13.53384499,
            "test": [
             0.4604866211
            ]
           },
           {
            "iteration": 719,
            "learn": [
             0.4431322266
            ],
            "passed_time": 34.68860101,
            "remaining_time": 13.4900115,
            "test": [
             0.4604913086
            ]
           },
           {
            "iteration": 720,
            "learn": [
             0.4430936384
            ],
            "passed_time": 34.73675205,
            "remaining_time": 13.44182222,
            "test": [
             0.4604707031
            ]
           },
           {
            "iteration": 721,
            "learn": [
             0.4430627511
            ],
            "passed_time": 34.77962709,
            "remaining_time": 13.39160157,
            "test": [
             0.4604785156
            ]
           },
           {
            "iteration": 722,
            "learn": [
             0.4430464007
            ],
            "passed_time": 34.83590317,
            "remaining_time": 13.34653552,
            "test": [
             0.4604779948
            ]
           },
           {
            "iteration": 723,
            "learn": [
             0.4430104074
            ],
            "passed_time": 34.87698661,
            "remaining_time": 13.29564683,
            "test": [
             0.4604753255
            ]
           },
           {
            "iteration": 724,
            "learn": [
             0.442988923
            ],
            "passed_time": 34.9492343,
            "remaining_time": 13.25660612,
            "test": [
             0.4604789714
            ]
           },
           {
            "iteration": 725,
            "learn": [
             0.4429733259
            ],
            "passed_time": 34.99212244,
            "remaining_time": 13.20639332,
            "test": [
             0.4604881185
            ]
           },
           {
            "iteration": 726,
            "learn": [
             0.4429544364
            ],
            "passed_time": 35.03928686,
            "remaining_time": 13.15780648,
            "test": [
             0.460490918
            ]
           },
           {
            "iteration": 727,
            "learn": [
             0.4429207589
            ],
            "passed_time": 35.09833449,
            "remaining_time": 13.11366344,
            "test": [
             0.4604947591
            ]
           },
           {
            "iteration": 728,
            "learn": [
             0.4428772879
            ],
            "passed_time": 35.14295048,
            "remaining_time": 13.06411465,
            "test": [
             0.4604723958
            ]
           },
           {
            "iteration": 729,
            "learn": [
             0.4428438895
            ],
            "passed_time": 35.1890252,
            "remaining_time": 13.01511891,
            "test": [
             0.4604753581
            ]
           },
           {
            "iteration": 730,
            "learn": [
             0.4428172154
            ],
            "passed_time": 35.23223314,
            "remaining_time": 12.96507622,
            "test": [
             0.4604820964
            ]
           },
           {
            "iteration": 731,
            "learn": [
             0.4427719866
            ],
            "passed_time": 35.27404296,
            "remaining_time": 12.91454032,
            "test": [
             0.4604650065
            ]
           },
           {
            "iteration": 732,
            "learn": [
             0.44273351
            ],
            "passed_time": 35.31915806,
            "remaining_time": 12.8652322,
            "test": [
             0.4604600586
            ]
           },
           {
            "iteration": 733,
            "learn": [
             0.4426962612
            ],
            "passed_time": 35.36161842,
            "remaining_time": 12.81497343,
            "test": [
             0.4604645508
            ]
           },
           {
            "iteration": 734,
            "learn": [
             0.4426788225
            ],
            "passed_time": 35.41875332,
            "remaining_time": 12.77002671,
            "test": [
             0.4604618164
            ]
           },
           {
            "iteration": 735,
            "learn": [
             0.4426591797
            ],
            "passed_time": 35.46669944,
            "remaining_time": 12.72175088,
            "test": [
             0.4604620768
            ]
           },
           {
            "iteration": 736,
            "learn": [
             0.4426323382
            ],
            "passed_time": 35.50637588,
            "remaining_time": 12.67052491,
            "test": [
             0.4604583008
            ]
           },
           {
            "iteration": 737,
            "learn": [
             0.4425922991
            ],
            "passed_time": 35.5446569,
            "remaining_time": 12.61883484,
            "test": [
             0.4604636719
            ]
           },
           {
            "iteration": 738,
            "learn": [
             0.4425731027
            ],
            "passed_time": 35.58757571,
            "remaining_time": 12.56881903,
            "test": [
             0.460457487
            ]
           },
           {
            "iteration": 739,
            "learn": [
             0.4425448382
            ],
            "passed_time": 35.63511444,
            "remaining_time": 12.52044561,
            "test": [
             0.4604671224
            ]
           },
           {
            "iteration": 740,
            "learn": [
             0.4425280134
            ],
            "passed_time": 35.68354647,
            "remaining_time": 12.47238669,
            "test": [
             0.4604585937
            ]
           },
           {
            "iteration": 741,
            "learn": [
             0.4424957589
            ],
            "passed_time": 35.72474349,
            "remaining_time": 12.42181108,
            "test": [
             0.4604607096
            ]
           },
           {
            "iteration": 742,
            "learn": [
             0.4424737723
            ],
            "passed_time": 35.76232715,
            "remaining_time": 12.37001087,
            "test": [
             0.4604494792
            ]
           },
           {
            "iteration": 743,
            "learn": [
             0.4424466797
            ],
            "passed_time": 35.80806469,
            "remaining_time": 12.32105452,
            "test": [
             0.4604481445
            ]
           },
           {
            "iteration": 744,
            "learn": [
             0.4424219587
            ],
            "passed_time": 35.85447389,
            "remaining_time": 12.2723367,
            "test": [
             0.4604410807
            ]
           },
           {
            "iteration": 745,
            "learn": [
             0.4423973214
            ],
            "passed_time": 35.91131381,
            "remaining_time": 12.22717655,
            "test": [
             0.4604465169
            ]
           },
           {
            "iteration": 746,
            "learn": [
             0.4423672154
            ],
            "passed_time": 35.95272864,
            "remaining_time": 12.17676084,
            "test": [
             0.460453776
            ]
           },
           {
            "iteration": 747,
            "learn": [
             0.4423420759
            ],
            "passed_time": 36.04194803,
            "remaining_time": 12.14247447,
            "test": [
             0.4604611003
            ]
           },
           {
            "iteration": 748,
            "learn": [
             0.4423094866
            ],
            "passed_time": 36.0918784,
            "remaining_time": 12.09487514,
            "test": [
             0.4604701172
            ]
           },
           {
            "iteration": 749,
            "learn": [
             0.4422805246
            ],
            "passed_time": 36.13584403,
            "remaining_time": 12.04528134,
            "test": [
             0.4604681315
            ]
           },
           {
            "iteration": 750,
            "learn": [
             0.4422446429
            ],
            "passed_time": 36.17678148,
            "remaining_time": 11.99469852,
            "test": [
             0.4604616536
            ]
           },
           {
            "iteration": 751,
            "learn": [
             0.4422034598
            ],
            "passed_time": 36.22679125,
            "remaining_time": 11.94713329,
            "test": [
             0.4604491211
            ]
           },
           {
            "iteration": 752,
            "learn": [
             0.442167885
            ],
            "passed_time": 36.26936705,
            "remaining_time": 11.89712305,
            "test": [
             0.4604349609
            ]
           },
           {
            "iteration": 753,
            "learn": [
             0.4421367187
            ],
            "passed_time": 36.32086797,
            "remaining_time": 11.85004446,
            "test": [
             0.4604250326
            ]
           },
           {
            "iteration": 754,
            "learn": [
             0.4421066964
            ],
            "passed_time": 36.36576643,
            "remaining_time": 11.80081162,
            "test": [
             0.4604272135
            ]
           },
           {
            "iteration": 755,
            "learn": [
             0.4420609375
            ],
            "passed_time": 36.42441088,
            "remaining_time": 11.75602679,
            "test": [
             0.4604270182
            ]
           },
           {
            "iteration": 756,
            "learn": [
             0.4420341239
            ],
            "passed_time": 36.46910012,
            "remaining_time": 11.70672567,
            "test": [
             0.4604283529
            ]
           },
           {
            "iteration": 757,
            "learn": [
             0.4420225167
            ],
            "passed_time": 36.50912311,
            "remaining_time": 11.65594695,
            "test": [
             0.4604296875
            ]
           },
           {
            "iteration": 758,
            "learn": [
             0.4419989676
            ],
            "passed_time": 36.56216224,
            "remaining_time": 11.60932951,
            "test": [
             0.4604138021
            ]
           },
           {
            "iteration": 759,
            "learn": [
             0.4419744978
            ],
            "passed_time": 36.60790284,
            "remaining_time": 11.56039037,
            "test": [
             0.4604127604
            ]
           },
           {
            "iteration": 760,
            "learn": [
             0.4419497489
            ],
            "passed_time": 36.65039977,
            "remaining_time": 11.51044093,
            "test": [
             0.4604085286
            ]
           },
           {
            "iteration": 761,
            "learn": [
             0.4419331473
            ],
            "passed_time": 36.70632186,
            "remaining_time": 11.4647042,
            "test": [
             0.460413151
            ]
           },
           {
            "iteration": 762,
            "learn": [
             0.4418944196
            ],
            "passed_time": 36.74452744,
            "remaining_time": 11.41343775,
            "test": [
             0.4604102214
            ]
           },
           {
            "iteration": 763,
            "learn": [
             0.44186476
            ],
            "passed_time": 36.79798511,
            "remaining_time": 11.36691687,
            "test": [
             0.460397168
            ]
           },
           {
            "iteration": 764,
            "learn": [
             0.4418371931
            ],
            "passed_time": 36.83531816,
            "remaining_time": 11.31542453,
            "test": [
             0.4603916341
            ]
           },
           {
            "iteration": 765,
            "learn": [
             0.4418060547
            ],
            "passed_time": 36.87824873,
            "remaining_time": 11.26567912,
            "test": [
             0.4603897135
            ]
           },
           {
            "iteration": 766,
            "learn": [
             0.4417799107
            ],
            "passed_time": 36.92033723,
            "remaining_time": 11.21569567,
            "test": [
             0.4603865885
            ]
           },
           {
            "iteration": 767,
            "learn": [
             0.4417325614
            ],
            "passed_time": 36.97579368,
            "remaining_time": 11.16977101,
            "test": [
             0.460371875
            ]
           },
           {
            "iteration": 768,
            "learn": [
             0.4417035993
            ],
            "passed_time": 37.08522506,
            "remaining_time": 11.1400351,
            "test": [
             0.4603730794
            ]
           },
           {
            "iteration": 769,
            "learn": [
             0.4416608259
            ],
            "passed_time": 37.12936341,
            "remaining_time": 11.09058907,
            "test": [
             0.4603636393
            ]
           },
           {
            "iteration": 770,
            "learn": [
             0.4416324777
            ],
            "passed_time": 37.17550874,
            "remaining_time": 11.04175292,
            "test": [
             0.4603626953
            ]
           },
           {
            "iteration": 771,
            "learn": [
             0.4416143415
            ],
            "passed_time": 37.21879264,
            "remaining_time": 10.99207866,
            "test": [
             0.460361556
            ]
           },
           {
            "iteration": 772,
            "learn": [
             0.4415948103
            ],
            "passed_time": 37.26532989,
            "remaining_time": 10.94337631,
            "test": [
             0.4603685221
            ]
           },
           {
            "iteration": 773,
            "learn": [
             0.4415605469
            ],
            "passed_time": 37.3177576,
            "remaining_time": 10.8963995,
            "test": [
             0.4603657552
            ]
           },
           {
            "iteration": 774,
            "learn": [
             0.4415372489
            ],
            "passed_time": 37.36382884,
            "remaining_time": 10.84756321,
            "test": [
             0.4603638021
            ]
           },
           {
            "iteration": 775,
            "learn": [
             0.4415102958
            ],
            "passed_time": 37.41153547,
            "remaining_time": 10.79920612,
            "test": [
             0.4603552409
            ]
           },
           {
            "iteration": 776,
            "learn": [
             0.4414662667
            ],
            "passed_time": 37.45806849,
            "remaining_time": 10.75051387,
            "test": [
             0.4603532878
            ]
           },
           {
            "iteration": 777,
            "learn": [
             0.4414288504
            ],
            "passed_time": 37.50411421,
            "remaining_time": 10.70168812,
            "test": [
             0.4603561849
            ]
           },
           {
            "iteration": 778,
            "learn": [
             0.4414207589
            ],
            "passed_time": 37.57249356,
            "remaining_time": 10.65920549,
            "test": [
             0.4603542643
            ]
           },
           {
            "iteration": 779,
            "learn": [
             0.4413811384
            ],
            "passed_time": 37.61981814,
            "remaining_time": 10.61071794,
            "test": [
             0.4603445964
            ]
           },
           {
            "iteration": 780,
            "learn": [
             0.4413693359
            ],
            "passed_time": 37.67619183,
            "remaining_time": 10.56477082,
            "test": [
             0.4603443034
            ]
           },
           {
            "iteration": 781,
            "learn": [
             0.4413205636
            ],
            "passed_time": 37.74040768,
            "remaining_time": 10.52098322,
            "test": [
             0.4603385417
            ]
           },
           {
            "iteration": 782,
            "learn": [
             0.4413028181
            ],
            "passed_time": 37.78913048,
            "remaining_time": 10.4728497,
            "test": [
             0.460335026
            ]
           },
           {
            "iteration": 783,
            "learn": [
             0.4412668527
            ],
            "passed_time": 37.8304495,
            "remaining_time": 10.42267486,
            "test": [
             0.4603369466
            ]
           },
           {
            "iteration": 784,
            "learn": [
             0.4412526228
            ],
            "passed_time": 37.87177522,
            "remaining_time": 10.37252442,
            "test": [
             0.460333724
            ]
           },
           {
            "iteration": 785,
            "learn": [
             0.4412199498
            ],
            "passed_time": 37.91848305,
            "remaining_time": 10.3238618,
            "test": [
             0.4603466797
            ]
           },
           {
            "iteration": 786,
            "learn": [
             0.4412036272
            ],
            "passed_time": 37.96583647,
            "remaining_time": 10.27537887,
            "test": [
             0.4603549154
            ]
           },
           {
            "iteration": 787,
            "learn": [
             0.4411833705
            ],
            "passed_time": 38.0274354,
            "remaining_time": 10.23073135,
            "test": [
             0.4603505534
            ]
           }
          ],
          "meta": {
           "iteration_count": 1000,
           "launch_mode": "Train",
           "learn_metrics": [
            {
             "best_value": "Min",
             "name": "Logloss"
            }
           ],
           "learn_sets": [
            "learn"
           ],
           "name": "experiment",
           "parameters": "",
           "test_metrics": [
            {
             "best_value": "Min",
             "name": "Logloss"
            }
           ],
           "test_sets": [
            "test"
           ]
          }
         },
         "passed_iterations": 787,
         "total_iterations": 1000
        },
        "name": "catboost_info",
        "path": "catboost_info"
       }
      },
      "layout": "IPY_MODEL_2d9d17fc01004c699891a4f7e0636c0a"
     }
    }
   }
  }
 },
 "nbformat": 4,
 "nbformat_minor": 4
}
