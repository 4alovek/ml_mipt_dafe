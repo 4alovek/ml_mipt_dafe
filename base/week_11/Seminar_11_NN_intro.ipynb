{
  "nbformat": 4,
  "nbformat_minor": 0,
  "metadata": {
    "kernelspec": {
      "display_name": "Py3 research env",
      "language": "python",
      "name": "py3_research"
    },
    "language_info": {
      "codemirror_mode": {
        "name": "ipython",
        "version": 3
      },
      "file_extension": ".py",
      "mimetype": "text/x-python",
      "name": "python",
      "nbconvert_exporter": "python",
      "pygments_lexer": "ipython3",
      "version": "3.7.7"
    },
    "colab": {
      "name": "Seminar_11_NN_intro.ipynb",
      "provenance": [],
      "collapsed_sections": [],
      "toc_visible": true
    },
    "accelerator": "GPU",
    "widgets": {
      "application/vnd.jupyter.widget-state+json": {
        "059e788bf3f04b07a0927fb652e28607": {
          "model_module": "@jupyter-widgets/controls",
          "model_name": "HBoxModel",
          "model_module_version": "1.5.0",
          "state": {
            "_view_name": "HBoxView",
            "_dom_classes": [],
            "_model_name": "HBoxModel",
            "_view_module": "@jupyter-widgets/controls",
            "_model_module_version": "1.5.0",
            "_view_count": null,
            "_view_module_version": "1.5.0",
            "box_style": "",
            "layout": "IPY_MODEL_1546187a8ab84578a7bad5c4a38106c0",
            "_model_module": "@jupyter-widgets/controls",
            "children": [
              "IPY_MODEL_4f395857208c4f549352b4c5ba390f25",
              "IPY_MODEL_66360275324c4c448069a93e9f7fa940",
              "IPY_MODEL_136b008070e74e2183d81d733d13ca57"
            ]
          }
        },
        "1546187a8ab84578a7bad5c4a38106c0": {
          "model_module": "@jupyter-widgets/base",
          "model_name": "LayoutModel",
          "model_module_version": "1.2.0",
          "state": {
            "_view_name": "LayoutView",
            "grid_template_rows": null,
            "right": null,
            "justify_content": null,
            "_view_module": "@jupyter-widgets/base",
            "overflow": null,
            "_model_module_version": "1.2.0",
            "_view_count": null,
            "flex_flow": null,
            "width": null,
            "min_width": null,
            "border": null,
            "align_items": null,
            "bottom": null,
            "_model_module": "@jupyter-widgets/base",
            "top": null,
            "grid_column": null,
            "overflow_y": null,
            "overflow_x": null,
            "grid_auto_flow": null,
            "grid_area": null,
            "grid_template_columns": null,
            "flex": null,
            "_model_name": "LayoutModel",
            "justify_items": null,
            "grid_row": null,
            "max_height": null,
            "align_content": null,
            "visibility": null,
            "align_self": null,
            "height": null,
            "min_height": null,
            "padding": null,
            "grid_auto_rows": null,
            "grid_gap": null,
            "max_width": null,
            "order": null,
            "_view_module_version": "1.2.0",
            "grid_template_areas": null,
            "object_position": null,
            "object_fit": null,
            "grid_auto_columns": null,
            "margin": null,
            "display": null,
            "left": null
          }
        },
        "4f395857208c4f549352b4c5ba390f25": {
          "model_module": "@jupyter-widgets/controls",
          "model_name": "HTMLModel",
          "model_module_version": "1.5.0",
          "state": {
            "_view_name": "HTMLView",
            "style": "IPY_MODEL_307b9e3f0658465dbf6d4e17908680bb",
            "_dom_classes": [],
            "description": "",
            "_model_name": "HTMLModel",
            "placeholder": "​",
            "_view_module": "@jupyter-widgets/controls",
            "_model_module_version": "1.5.0",
            "value": "",
            "_view_count": null,
            "_view_module_version": "1.5.0",
            "description_tooltip": null,
            "_model_module": "@jupyter-widgets/controls",
            "layout": "IPY_MODEL_cd774d798e924693be8e39c2ef321f9b"
          }
        },
        "66360275324c4c448069a93e9f7fa940": {
          "model_module": "@jupyter-widgets/controls",
          "model_name": "FloatProgressModel",
          "model_module_version": "1.5.0",
          "state": {
            "_view_name": "ProgressView",
            "style": "IPY_MODEL_0122a1d08fb44cc3a610dc9c8164dd0b",
            "_dom_classes": [],
            "description": "",
            "_model_name": "FloatProgressModel",
            "bar_style": "success",
            "max": 26421880,
            "_view_module": "@jupyter-widgets/controls",
            "_model_module_version": "1.5.0",
            "value": 26421880,
            "_view_count": null,
            "_view_module_version": "1.5.0",
            "orientation": "horizontal",
            "min": 0,
            "description_tooltip": null,
            "_model_module": "@jupyter-widgets/controls",
            "layout": "IPY_MODEL_9ba85e45089b48c294dcffc98901ebd2"
          }
        },
        "136b008070e74e2183d81d733d13ca57": {
          "model_module": "@jupyter-widgets/controls",
          "model_name": "HTMLModel",
          "model_module_version": "1.5.0",
          "state": {
            "_view_name": "HTMLView",
            "style": "IPY_MODEL_b48472563ccd42ccb3d11528bacfbaa7",
            "_dom_classes": [],
            "description": "",
            "_model_name": "HTMLModel",
            "placeholder": "​",
            "_view_module": "@jupyter-widgets/controls",
            "_model_module_version": "1.5.0",
            "value": " 26422272/? [00:04&lt;00:00, 8775834.54it/s]",
            "_view_count": null,
            "_view_module_version": "1.5.0",
            "description_tooltip": null,
            "_model_module": "@jupyter-widgets/controls",
            "layout": "IPY_MODEL_38a658b7f4e34e4f8c468ba9c8f4a690"
          }
        },
        "307b9e3f0658465dbf6d4e17908680bb": {
          "model_module": "@jupyter-widgets/controls",
          "model_name": "DescriptionStyleModel",
          "model_module_version": "1.5.0",
          "state": {
            "_view_name": "StyleView",
            "_model_name": "DescriptionStyleModel",
            "description_width": "",
            "_view_module": "@jupyter-widgets/base",
            "_model_module_version": "1.5.0",
            "_view_count": null,
            "_view_module_version": "1.2.0",
            "_model_module": "@jupyter-widgets/controls"
          }
        },
        "cd774d798e924693be8e39c2ef321f9b": {
          "model_module": "@jupyter-widgets/base",
          "model_name": "LayoutModel",
          "model_module_version": "1.2.0",
          "state": {
            "_view_name": "LayoutView",
            "grid_template_rows": null,
            "right": null,
            "justify_content": null,
            "_view_module": "@jupyter-widgets/base",
            "overflow": null,
            "_model_module_version": "1.2.0",
            "_view_count": null,
            "flex_flow": null,
            "width": null,
            "min_width": null,
            "border": null,
            "align_items": null,
            "bottom": null,
            "_model_module": "@jupyter-widgets/base",
            "top": null,
            "grid_column": null,
            "overflow_y": null,
            "overflow_x": null,
            "grid_auto_flow": null,
            "grid_area": null,
            "grid_template_columns": null,
            "flex": null,
            "_model_name": "LayoutModel",
            "justify_items": null,
            "grid_row": null,
            "max_height": null,
            "align_content": null,
            "visibility": null,
            "align_self": null,
            "height": null,
            "min_height": null,
            "padding": null,
            "grid_auto_rows": null,
            "grid_gap": null,
            "max_width": null,
            "order": null,
            "_view_module_version": "1.2.0",
            "grid_template_areas": null,
            "object_position": null,
            "object_fit": null,
            "grid_auto_columns": null,
            "margin": null,
            "display": null,
            "left": null
          }
        },
        "0122a1d08fb44cc3a610dc9c8164dd0b": {
          "model_module": "@jupyter-widgets/controls",
          "model_name": "ProgressStyleModel",
          "model_module_version": "1.5.0",
          "state": {
            "_view_name": "StyleView",
            "_model_name": "ProgressStyleModel",
            "description_width": "",
            "_view_module": "@jupyter-widgets/base",
            "_model_module_version": "1.5.0",
            "_view_count": null,
            "_view_module_version": "1.2.0",
            "bar_color": null,
            "_model_module": "@jupyter-widgets/controls"
          }
        },
        "9ba85e45089b48c294dcffc98901ebd2": {
          "model_module": "@jupyter-widgets/base",
          "model_name": "LayoutModel",
          "model_module_version": "1.2.0",
          "state": {
            "_view_name": "LayoutView",
            "grid_template_rows": null,
            "right": null,
            "justify_content": null,
            "_view_module": "@jupyter-widgets/base",
            "overflow": null,
            "_model_module_version": "1.2.0",
            "_view_count": null,
            "flex_flow": null,
            "width": null,
            "min_width": null,
            "border": null,
            "align_items": null,
            "bottom": null,
            "_model_module": "@jupyter-widgets/base",
            "top": null,
            "grid_column": null,
            "overflow_y": null,
            "overflow_x": null,
            "grid_auto_flow": null,
            "grid_area": null,
            "grid_template_columns": null,
            "flex": null,
            "_model_name": "LayoutModel",
            "justify_items": null,
            "grid_row": null,
            "max_height": null,
            "align_content": null,
            "visibility": null,
            "align_self": null,
            "height": null,
            "min_height": null,
            "padding": null,
            "grid_auto_rows": null,
            "grid_gap": null,
            "max_width": null,
            "order": null,
            "_view_module_version": "1.2.0",
            "grid_template_areas": null,
            "object_position": null,
            "object_fit": null,
            "grid_auto_columns": null,
            "margin": null,
            "display": null,
            "left": null
          }
        },
        "b48472563ccd42ccb3d11528bacfbaa7": {
          "model_module": "@jupyter-widgets/controls",
          "model_name": "DescriptionStyleModel",
          "model_module_version": "1.5.0",
          "state": {
            "_view_name": "StyleView",
            "_model_name": "DescriptionStyleModel",
            "description_width": "",
            "_view_module": "@jupyter-widgets/base",
            "_model_module_version": "1.5.0",
            "_view_count": null,
            "_view_module_version": "1.2.0",
            "_model_module": "@jupyter-widgets/controls"
          }
        },
        "38a658b7f4e34e4f8c468ba9c8f4a690": {
          "model_module": "@jupyter-widgets/base",
          "model_name": "LayoutModel",
          "model_module_version": "1.2.0",
          "state": {
            "_view_name": "LayoutView",
            "grid_template_rows": null,
            "right": null,
            "justify_content": null,
            "_view_module": "@jupyter-widgets/base",
            "overflow": null,
            "_model_module_version": "1.2.0",
            "_view_count": null,
            "flex_flow": null,
            "width": null,
            "min_width": null,
            "border": null,
            "align_items": null,
            "bottom": null,
            "_model_module": "@jupyter-widgets/base",
            "top": null,
            "grid_column": null,
            "overflow_y": null,
            "overflow_x": null,
            "grid_auto_flow": null,
            "grid_area": null,
            "grid_template_columns": null,
            "flex": null,
            "_model_name": "LayoutModel",
            "justify_items": null,
            "grid_row": null,
            "max_height": null,
            "align_content": null,
            "visibility": null,
            "align_self": null,
            "height": null,
            "min_height": null,
            "padding": null,
            "grid_auto_rows": null,
            "grid_gap": null,
            "max_width": null,
            "order": null,
            "_view_module_version": "1.2.0",
            "grid_template_areas": null,
            "object_position": null,
            "object_fit": null,
            "grid_auto_columns": null,
            "margin": null,
            "display": null,
            "left": null
          }
        },
        "35e9642c86f04b128509964264802efc": {
          "model_module": "@jupyter-widgets/controls",
          "model_name": "HBoxModel",
          "model_module_version": "1.5.0",
          "state": {
            "_view_name": "HBoxView",
            "_dom_classes": [],
            "_model_name": "HBoxModel",
            "_view_module": "@jupyter-widgets/controls",
            "_model_module_version": "1.5.0",
            "_view_count": null,
            "_view_module_version": "1.5.0",
            "box_style": "",
            "layout": "IPY_MODEL_708997ec5d6e43e6a2aef456a38e7933",
            "_model_module": "@jupyter-widgets/controls",
            "children": [
              "IPY_MODEL_3b38a4a360474547acc0306bbe22aa05",
              "IPY_MODEL_887e153238884f998edd6ad9a4a0eb7b",
              "IPY_MODEL_e5305845bb02424c83568bd32d93350f"
            ]
          }
        },
        "708997ec5d6e43e6a2aef456a38e7933": {
          "model_module": "@jupyter-widgets/base",
          "model_name": "LayoutModel",
          "model_module_version": "1.2.0",
          "state": {
            "_view_name": "LayoutView",
            "grid_template_rows": null,
            "right": null,
            "justify_content": null,
            "_view_module": "@jupyter-widgets/base",
            "overflow": null,
            "_model_module_version": "1.2.0",
            "_view_count": null,
            "flex_flow": null,
            "width": null,
            "min_width": null,
            "border": null,
            "align_items": null,
            "bottom": null,
            "_model_module": "@jupyter-widgets/base",
            "top": null,
            "grid_column": null,
            "overflow_y": null,
            "overflow_x": null,
            "grid_auto_flow": null,
            "grid_area": null,
            "grid_template_columns": null,
            "flex": null,
            "_model_name": "LayoutModel",
            "justify_items": null,
            "grid_row": null,
            "max_height": null,
            "align_content": null,
            "visibility": null,
            "align_self": null,
            "height": null,
            "min_height": null,
            "padding": null,
            "grid_auto_rows": null,
            "grid_gap": null,
            "max_width": null,
            "order": null,
            "_view_module_version": "1.2.0",
            "grid_template_areas": null,
            "object_position": null,
            "object_fit": null,
            "grid_auto_columns": null,
            "margin": null,
            "display": null,
            "left": null
          }
        },
        "3b38a4a360474547acc0306bbe22aa05": {
          "model_module": "@jupyter-widgets/controls",
          "model_name": "HTMLModel",
          "model_module_version": "1.5.0",
          "state": {
            "_view_name": "HTMLView",
            "style": "IPY_MODEL_0820cebe5ad1455d93289eed9df8f786",
            "_dom_classes": [],
            "description": "",
            "_model_name": "HTMLModel",
            "placeholder": "​",
            "_view_module": "@jupyter-widgets/controls",
            "_model_module_version": "1.5.0",
            "value": "",
            "_view_count": null,
            "_view_module_version": "1.5.0",
            "description_tooltip": null,
            "_model_module": "@jupyter-widgets/controls",
            "layout": "IPY_MODEL_cffa918c2e054b54b928fd14889d96de"
          }
        },
        "887e153238884f998edd6ad9a4a0eb7b": {
          "model_module": "@jupyter-widgets/controls",
          "model_name": "FloatProgressModel",
          "model_module_version": "1.5.0",
          "state": {
            "_view_name": "ProgressView",
            "style": "IPY_MODEL_b2eddb6e035e42bea13f02d76defaaef",
            "_dom_classes": [],
            "description": "",
            "_model_name": "FloatProgressModel",
            "bar_style": "success",
            "max": 29515,
            "_view_module": "@jupyter-widgets/controls",
            "_model_module_version": "1.5.0",
            "value": 29515,
            "_view_count": null,
            "_view_module_version": "1.5.0",
            "orientation": "horizontal",
            "min": 0,
            "description_tooltip": null,
            "_model_module": "@jupyter-widgets/controls",
            "layout": "IPY_MODEL_a3bb6394198f44499b01cc28e19b66bb"
          }
        },
        "e5305845bb02424c83568bd32d93350f": {
          "model_module": "@jupyter-widgets/controls",
          "model_name": "HTMLModel",
          "model_module_version": "1.5.0",
          "state": {
            "_view_name": "HTMLView",
            "style": "IPY_MODEL_f55eeaa72a70455086abb90cb8b27194",
            "_dom_classes": [],
            "description": "",
            "_model_name": "HTMLModel",
            "placeholder": "​",
            "_view_module": "@jupyter-widgets/controls",
            "_model_module_version": "1.5.0",
            "value": " 29696/? [00:00&lt;00:00, 56010.32it/s]",
            "_view_count": null,
            "_view_module_version": "1.5.0",
            "description_tooltip": null,
            "_model_module": "@jupyter-widgets/controls",
            "layout": "IPY_MODEL_c11a1bc93b8d4f70a8cb8d86783c19b6"
          }
        },
        "0820cebe5ad1455d93289eed9df8f786": {
          "model_module": "@jupyter-widgets/controls",
          "model_name": "DescriptionStyleModel",
          "model_module_version": "1.5.0",
          "state": {
            "_view_name": "StyleView",
            "_model_name": "DescriptionStyleModel",
            "description_width": "",
            "_view_module": "@jupyter-widgets/base",
            "_model_module_version": "1.5.0",
            "_view_count": null,
            "_view_module_version": "1.2.0",
            "_model_module": "@jupyter-widgets/controls"
          }
        },
        "cffa918c2e054b54b928fd14889d96de": {
          "model_module": "@jupyter-widgets/base",
          "model_name": "LayoutModel",
          "model_module_version": "1.2.0",
          "state": {
            "_view_name": "LayoutView",
            "grid_template_rows": null,
            "right": null,
            "justify_content": null,
            "_view_module": "@jupyter-widgets/base",
            "overflow": null,
            "_model_module_version": "1.2.0",
            "_view_count": null,
            "flex_flow": null,
            "width": null,
            "min_width": null,
            "border": null,
            "align_items": null,
            "bottom": null,
            "_model_module": "@jupyter-widgets/base",
            "top": null,
            "grid_column": null,
            "overflow_y": null,
            "overflow_x": null,
            "grid_auto_flow": null,
            "grid_area": null,
            "grid_template_columns": null,
            "flex": null,
            "_model_name": "LayoutModel",
            "justify_items": null,
            "grid_row": null,
            "max_height": null,
            "align_content": null,
            "visibility": null,
            "align_self": null,
            "height": null,
            "min_height": null,
            "padding": null,
            "grid_auto_rows": null,
            "grid_gap": null,
            "max_width": null,
            "order": null,
            "_view_module_version": "1.2.0",
            "grid_template_areas": null,
            "object_position": null,
            "object_fit": null,
            "grid_auto_columns": null,
            "margin": null,
            "display": null,
            "left": null
          }
        },
        "b2eddb6e035e42bea13f02d76defaaef": {
          "model_module": "@jupyter-widgets/controls",
          "model_name": "ProgressStyleModel",
          "model_module_version": "1.5.0",
          "state": {
            "_view_name": "StyleView",
            "_model_name": "ProgressStyleModel",
            "description_width": "",
            "_view_module": "@jupyter-widgets/base",
            "_model_module_version": "1.5.0",
            "_view_count": null,
            "_view_module_version": "1.2.0",
            "bar_color": null,
            "_model_module": "@jupyter-widgets/controls"
          }
        },
        "a3bb6394198f44499b01cc28e19b66bb": {
          "model_module": "@jupyter-widgets/base",
          "model_name": "LayoutModel",
          "model_module_version": "1.2.0",
          "state": {
            "_view_name": "LayoutView",
            "grid_template_rows": null,
            "right": null,
            "justify_content": null,
            "_view_module": "@jupyter-widgets/base",
            "overflow": null,
            "_model_module_version": "1.2.0",
            "_view_count": null,
            "flex_flow": null,
            "width": null,
            "min_width": null,
            "border": null,
            "align_items": null,
            "bottom": null,
            "_model_module": "@jupyter-widgets/base",
            "top": null,
            "grid_column": null,
            "overflow_y": null,
            "overflow_x": null,
            "grid_auto_flow": null,
            "grid_area": null,
            "grid_template_columns": null,
            "flex": null,
            "_model_name": "LayoutModel",
            "justify_items": null,
            "grid_row": null,
            "max_height": null,
            "align_content": null,
            "visibility": null,
            "align_self": null,
            "height": null,
            "min_height": null,
            "padding": null,
            "grid_auto_rows": null,
            "grid_gap": null,
            "max_width": null,
            "order": null,
            "_view_module_version": "1.2.0",
            "grid_template_areas": null,
            "object_position": null,
            "object_fit": null,
            "grid_auto_columns": null,
            "margin": null,
            "display": null,
            "left": null
          }
        },
        "f55eeaa72a70455086abb90cb8b27194": {
          "model_module": "@jupyter-widgets/controls",
          "model_name": "DescriptionStyleModel",
          "model_module_version": "1.5.0",
          "state": {
            "_view_name": "StyleView",
            "_model_name": "DescriptionStyleModel",
            "description_width": "",
            "_view_module": "@jupyter-widgets/base",
            "_model_module_version": "1.5.0",
            "_view_count": null,
            "_view_module_version": "1.2.0",
            "_model_module": "@jupyter-widgets/controls"
          }
        },
        "c11a1bc93b8d4f70a8cb8d86783c19b6": {
          "model_module": "@jupyter-widgets/base",
          "model_name": "LayoutModel",
          "model_module_version": "1.2.0",
          "state": {
            "_view_name": "LayoutView",
            "grid_template_rows": null,
            "right": null,
            "justify_content": null,
            "_view_module": "@jupyter-widgets/base",
            "overflow": null,
            "_model_module_version": "1.2.0",
            "_view_count": null,
            "flex_flow": null,
            "width": null,
            "min_width": null,
            "border": null,
            "align_items": null,
            "bottom": null,
            "_model_module": "@jupyter-widgets/base",
            "top": null,
            "grid_column": null,
            "overflow_y": null,
            "overflow_x": null,
            "grid_auto_flow": null,
            "grid_area": null,
            "grid_template_columns": null,
            "flex": null,
            "_model_name": "LayoutModel",
            "justify_items": null,
            "grid_row": null,
            "max_height": null,
            "align_content": null,
            "visibility": null,
            "align_self": null,
            "height": null,
            "min_height": null,
            "padding": null,
            "grid_auto_rows": null,
            "grid_gap": null,
            "max_width": null,
            "order": null,
            "_view_module_version": "1.2.0",
            "grid_template_areas": null,
            "object_position": null,
            "object_fit": null,
            "grid_auto_columns": null,
            "margin": null,
            "display": null,
            "left": null
          }
        },
        "8820928ad44d4f7493b46615b5c4b113": {
          "model_module": "@jupyter-widgets/controls",
          "model_name": "HBoxModel",
          "model_module_version": "1.5.0",
          "state": {
            "_view_name": "HBoxView",
            "_dom_classes": [],
            "_model_name": "HBoxModel",
            "_view_module": "@jupyter-widgets/controls",
            "_model_module_version": "1.5.0",
            "_view_count": null,
            "_view_module_version": "1.5.0",
            "box_style": "",
            "layout": "IPY_MODEL_f3a2326c01d742e29c54b798b248db29",
            "_model_module": "@jupyter-widgets/controls",
            "children": [
              "IPY_MODEL_d1d39e4b5d8b40329ae0258701cfd489",
              "IPY_MODEL_7b4fe2905cec457a9ca9920d1ef6780d",
              "IPY_MODEL_700d0524c08c4d5f87de5ae1ff0b1f41"
            ]
          }
        },
        "f3a2326c01d742e29c54b798b248db29": {
          "model_module": "@jupyter-widgets/base",
          "model_name": "LayoutModel",
          "model_module_version": "1.2.0",
          "state": {
            "_view_name": "LayoutView",
            "grid_template_rows": null,
            "right": null,
            "justify_content": null,
            "_view_module": "@jupyter-widgets/base",
            "overflow": null,
            "_model_module_version": "1.2.0",
            "_view_count": null,
            "flex_flow": null,
            "width": null,
            "min_width": null,
            "border": null,
            "align_items": null,
            "bottom": null,
            "_model_module": "@jupyter-widgets/base",
            "top": null,
            "grid_column": null,
            "overflow_y": null,
            "overflow_x": null,
            "grid_auto_flow": null,
            "grid_area": null,
            "grid_template_columns": null,
            "flex": null,
            "_model_name": "LayoutModel",
            "justify_items": null,
            "grid_row": null,
            "max_height": null,
            "align_content": null,
            "visibility": null,
            "align_self": null,
            "height": null,
            "min_height": null,
            "padding": null,
            "grid_auto_rows": null,
            "grid_gap": null,
            "max_width": null,
            "order": null,
            "_view_module_version": "1.2.0",
            "grid_template_areas": null,
            "object_position": null,
            "object_fit": null,
            "grid_auto_columns": null,
            "margin": null,
            "display": null,
            "left": null
          }
        },
        "d1d39e4b5d8b40329ae0258701cfd489": {
          "model_module": "@jupyter-widgets/controls",
          "model_name": "HTMLModel",
          "model_module_version": "1.5.0",
          "state": {
            "_view_name": "HTMLView",
            "style": "IPY_MODEL_174a16797fa74cdf8c36b39aa37359b2",
            "_dom_classes": [],
            "description": "",
            "_model_name": "HTMLModel",
            "placeholder": "​",
            "_view_module": "@jupyter-widgets/controls",
            "_model_module_version": "1.5.0",
            "value": "",
            "_view_count": null,
            "_view_module_version": "1.5.0",
            "description_tooltip": null,
            "_model_module": "@jupyter-widgets/controls",
            "layout": "IPY_MODEL_225a281f9e7b4349bfe78ab1886b80b6"
          }
        },
        "7b4fe2905cec457a9ca9920d1ef6780d": {
          "model_module": "@jupyter-widgets/controls",
          "model_name": "FloatProgressModel",
          "model_module_version": "1.5.0",
          "state": {
            "_view_name": "ProgressView",
            "style": "IPY_MODEL_261006f6c0ac48ac9309d2f2bb9417c5",
            "_dom_classes": [],
            "description": "",
            "_model_name": "FloatProgressModel",
            "bar_style": "success",
            "max": 4422102,
            "_view_module": "@jupyter-widgets/controls",
            "_model_module_version": "1.5.0",
            "value": 4422102,
            "_view_count": null,
            "_view_module_version": "1.5.0",
            "orientation": "horizontal",
            "min": 0,
            "description_tooltip": null,
            "_model_module": "@jupyter-widgets/controls",
            "layout": "IPY_MODEL_89247ab8a80f41ed9286d30f0724ffd7"
          }
        },
        "700d0524c08c4d5f87de5ae1ff0b1f41": {
          "model_module": "@jupyter-widgets/controls",
          "model_name": "HTMLModel",
          "model_module_version": "1.5.0",
          "state": {
            "_view_name": "HTMLView",
            "style": "IPY_MODEL_91c4c2c0297242f49856d82a0047f1ed",
            "_dom_classes": [],
            "description": "",
            "_model_name": "HTMLModel",
            "placeholder": "​",
            "_view_module": "@jupyter-widgets/controls",
            "_model_module_version": "1.5.0",
            "value": " 4422656/? [00:02&lt;00:00, 2885530.99it/s]",
            "_view_count": null,
            "_view_module_version": "1.5.0",
            "description_tooltip": null,
            "_model_module": "@jupyter-widgets/controls",
            "layout": "IPY_MODEL_6b7c3781da2e4075871384ebf4403e27"
          }
        },
        "174a16797fa74cdf8c36b39aa37359b2": {
          "model_module": "@jupyter-widgets/controls",
          "model_name": "DescriptionStyleModel",
          "model_module_version": "1.5.0",
          "state": {
            "_view_name": "StyleView",
            "_model_name": "DescriptionStyleModel",
            "description_width": "",
            "_view_module": "@jupyter-widgets/base",
            "_model_module_version": "1.5.0",
            "_view_count": null,
            "_view_module_version": "1.2.0",
            "_model_module": "@jupyter-widgets/controls"
          }
        },
        "225a281f9e7b4349bfe78ab1886b80b6": {
          "model_module": "@jupyter-widgets/base",
          "model_name": "LayoutModel",
          "model_module_version": "1.2.0",
          "state": {
            "_view_name": "LayoutView",
            "grid_template_rows": null,
            "right": null,
            "justify_content": null,
            "_view_module": "@jupyter-widgets/base",
            "overflow": null,
            "_model_module_version": "1.2.0",
            "_view_count": null,
            "flex_flow": null,
            "width": null,
            "min_width": null,
            "border": null,
            "align_items": null,
            "bottom": null,
            "_model_module": "@jupyter-widgets/base",
            "top": null,
            "grid_column": null,
            "overflow_y": null,
            "overflow_x": null,
            "grid_auto_flow": null,
            "grid_area": null,
            "grid_template_columns": null,
            "flex": null,
            "_model_name": "LayoutModel",
            "justify_items": null,
            "grid_row": null,
            "max_height": null,
            "align_content": null,
            "visibility": null,
            "align_self": null,
            "height": null,
            "min_height": null,
            "padding": null,
            "grid_auto_rows": null,
            "grid_gap": null,
            "max_width": null,
            "order": null,
            "_view_module_version": "1.2.0",
            "grid_template_areas": null,
            "object_position": null,
            "object_fit": null,
            "grid_auto_columns": null,
            "margin": null,
            "display": null,
            "left": null
          }
        },
        "261006f6c0ac48ac9309d2f2bb9417c5": {
          "model_module": "@jupyter-widgets/controls",
          "model_name": "ProgressStyleModel",
          "model_module_version": "1.5.0",
          "state": {
            "_view_name": "StyleView",
            "_model_name": "ProgressStyleModel",
            "description_width": "",
            "_view_module": "@jupyter-widgets/base",
            "_model_module_version": "1.5.0",
            "_view_count": null,
            "_view_module_version": "1.2.0",
            "bar_color": null,
            "_model_module": "@jupyter-widgets/controls"
          }
        },
        "89247ab8a80f41ed9286d30f0724ffd7": {
          "model_module": "@jupyter-widgets/base",
          "model_name": "LayoutModel",
          "model_module_version": "1.2.0",
          "state": {
            "_view_name": "LayoutView",
            "grid_template_rows": null,
            "right": null,
            "justify_content": null,
            "_view_module": "@jupyter-widgets/base",
            "overflow": null,
            "_model_module_version": "1.2.0",
            "_view_count": null,
            "flex_flow": null,
            "width": null,
            "min_width": null,
            "border": null,
            "align_items": null,
            "bottom": null,
            "_model_module": "@jupyter-widgets/base",
            "top": null,
            "grid_column": null,
            "overflow_y": null,
            "overflow_x": null,
            "grid_auto_flow": null,
            "grid_area": null,
            "grid_template_columns": null,
            "flex": null,
            "_model_name": "LayoutModel",
            "justify_items": null,
            "grid_row": null,
            "max_height": null,
            "align_content": null,
            "visibility": null,
            "align_self": null,
            "height": null,
            "min_height": null,
            "padding": null,
            "grid_auto_rows": null,
            "grid_gap": null,
            "max_width": null,
            "order": null,
            "_view_module_version": "1.2.0",
            "grid_template_areas": null,
            "object_position": null,
            "object_fit": null,
            "grid_auto_columns": null,
            "margin": null,
            "display": null,
            "left": null
          }
        },
        "91c4c2c0297242f49856d82a0047f1ed": {
          "model_module": "@jupyter-widgets/controls",
          "model_name": "DescriptionStyleModel",
          "model_module_version": "1.5.0",
          "state": {
            "_view_name": "StyleView",
            "_model_name": "DescriptionStyleModel",
            "description_width": "",
            "_view_module": "@jupyter-widgets/base",
            "_model_module_version": "1.5.0",
            "_view_count": null,
            "_view_module_version": "1.2.0",
            "_model_module": "@jupyter-widgets/controls"
          }
        },
        "6b7c3781da2e4075871384ebf4403e27": {
          "model_module": "@jupyter-widgets/base",
          "model_name": "LayoutModel",
          "model_module_version": "1.2.0",
          "state": {
            "_view_name": "LayoutView",
            "grid_template_rows": null,
            "right": null,
            "justify_content": null,
            "_view_module": "@jupyter-widgets/base",
            "overflow": null,
            "_model_module_version": "1.2.0",
            "_view_count": null,
            "flex_flow": null,
            "width": null,
            "min_width": null,
            "border": null,
            "align_items": null,
            "bottom": null,
            "_model_module": "@jupyter-widgets/base",
            "top": null,
            "grid_column": null,
            "overflow_y": null,
            "overflow_x": null,
            "grid_auto_flow": null,
            "grid_area": null,
            "grid_template_columns": null,
            "flex": null,
            "_model_name": "LayoutModel",
            "justify_items": null,
            "grid_row": null,
            "max_height": null,
            "align_content": null,
            "visibility": null,
            "align_self": null,
            "height": null,
            "min_height": null,
            "padding": null,
            "grid_auto_rows": null,
            "grid_gap": null,
            "max_width": null,
            "order": null,
            "_view_module_version": "1.2.0",
            "grid_template_areas": null,
            "object_position": null,
            "object_fit": null,
            "grid_auto_columns": null,
            "margin": null,
            "display": null,
            "left": null
          }
        },
        "32b0d64319f94e6f91cb2d1be3b7be7c": {
          "model_module": "@jupyter-widgets/controls",
          "model_name": "HBoxModel",
          "model_module_version": "1.5.0",
          "state": {
            "_view_name": "HBoxView",
            "_dom_classes": [],
            "_model_name": "HBoxModel",
            "_view_module": "@jupyter-widgets/controls",
            "_model_module_version": "1.5.0",
            "_view_count": null,
            "_view_module_version": "1.5.0",
            "box_style": "",
            "layout": "IPY_MODEL_d8568b8ad5314943b849b936a9bb7f33",
            "_model_module": "@jupyter-widgets/controls",
            "children": [
              "IPY_MODEL_7a2bae105d7a4761abedf5335f34a937",
              "IPY_MODEL_401d12a9738f4b28bfda9684fdf7aaf0",
              "IPY_MODEL_a55b0e7cba0644bd87a5535fa01c79be"
            ]
          }
        },
        "d8568b8ad5314943b849b936a9bb7f33": {
          "model_module": "@jupyter-widgets/base",
          "model_name": "LayoutModel",
          "model_module_version": "1.2.0",
          "state": {
            "_view_name": "LayoutView",
            "grid_template_rows": null,
            "right": null,
            "justify_content": null,
            "_view_module": "@jupyter-widgets/base",
            "overflow": null,
            "_model_module_version": "1.2.0",
            "_view_count": null,
            "flex_flow": null,
            "width": null,
            "min_width": null,
            "border": null,
            "align_items": null,
            "bottom": null,
            "_model_module": "@jupyter-widgets/base",
            "top": null,
            "grid_column": null,
            "overflow_y": null,
            "overflow_x": null,
            "grid_auto_flow": null,
            "grid_area": null,
            "grid_template_columns": null,
            "flex": null,
            "_model_name": "LayoutModel",
            "justify_items": null,
            "grid_row": null,
            "max_height": null,
            "align_content": null,
            "visibility": null,
            "align_self": null,
            "height": null,
            "min_height": null,
            "padding": null,
            "grid_auto_rows": null,
            "grid_gap": null,
            "max_width": null,
            "order": null,
            "_view_module_version": "1.2.0",
            "grid_template_areas": null,
            "object_position": null,
            "object_fit": null,
            "grid_auto_columns": null,
            "margin": null,
            "display": null,
            "left": null
          }
        },
        "7a2bae105d7a4761abedf5335f34a937": {
          "model_module": "@jupyter-widgets/controls",
          "model_name": "HTMLModel",
          "model_module_version": "1.5.0",
          "state": {
            "_view_name": "HTMLView",
            "style": "IPY_MODEL_fa3a4c31c8b94174a4c3cbebf9a4f37c",
            "_dom_classes": [],
            "description": "",
            "_model_name": "HTMLModel",
            "placeholder": "​",
            "_view_module": "@jupyter-widgets/controls",
            "_model_module_version": "1.5.0",
            "value": "",
            "_view_count": null,
            "_view_module_version": "1.5.0",
            "description_tooltip": null,
            "_model_module": "@jupyter-widgets/controls",
            "layout": "IPY_MODEL_ef29a4cdde144bb69d2ac2c7b362e4f4"
          }
        },
        "401d12a9738f4b28bfda9684fdf7aaf0": {
          "model_module": "@jupyter-widgets/controls",
          "model_name": "FloatProgressModel",
          "model_module_version": "1.5.0",
          "state": {
            "_view_name": "ProgressView",
            "style": "IPY_MODEL_955d414b3475437e95920eb19fe29033",
            "_dom_classes": [],
            "description": "",
            "_model_name": "FloatProgressModel",
            "bar_style": "success",
            "max": 5148,
            "_view_module": "@jupyter-widgets/controls",
            "_model_module_version": "1.5.0",
            "value": 5148,
            "_view_count": null,
            "_view_module_version": "1.5.0",
            "orientation": "horizontal",
            "min": 0,
            "description_tooltip": null,
            "_model_module": "@jupyter-widgets/controls",
            "layout": "IPY_MODEL_f21dcbee1aa5470b9d8c0417bbe21394"
          }
        },
        "a55b0e7cba0644bd87a5535fa01c79be": {
          "model_module": "@jupyter-widgets/controls",
          "model_name": "HTMLModel",
          "model_module_version": "1.5.0",
          "state": {
            "_view_name": "HTMLView",
            "style": "IPY_MODEL_7d34fd593d9a48429eb373ed0c9d4e32",
            "_dom_classes": [],
            "description": "",
            "_model_name": "HTMLModel",
            "placeholder": "​",
            "_view_module": "@jupyter-widgets/controls",
            "_model_module_version": "1.5.0",
            "value": " 6144/? [00:00&lt;00:00, 159297.06it/s]",
            "_view_count": null,
            "_view_module_version": "1.5.0",
            "description_tooltip": null,
            "_model_module": "@jupyter-widgets/controls",
            "layout": "IPY_MODEL_ac01da039b224ef3b0b80ecf1fc36ec8"
          }
        },
        "fa3a4c31c8b94174a4c3cbebf9a4f37c": {
          "model_module": "@jupyter-widgets/controls",
          "model_name": "DescriptionStyleModel",
          "model_module_version": "1.5.0",
          "state": {
            "_view_name": "StyleView",
            "_model_name": "DescriptionStyleModel",
            "description_width": "",
            "_view_module": "@jupyter-widgets/base",
            "_model_module_version": "1.5.0",
            "_view_count": null,
            "_view_module_version": "1.2.0",
            "_model_module": "@jupyter-widgets/controls"
          }
        },
        "ef29a4cdde144bb69d2ac2c7b362e4f4": {
          "model_module": "@jupyter-widgets/base",
          "model_name": "LayoutModel",
          "model_module_version": "1.2.0",
          "state": {
            "_view_name": "LayoutView",
            "grid_template_rows": null,
            "right": null,
            "justify_content": null,
            "_view_module": "@jupyter-widgets/base",
            "overflow": null,
            "_model_module_version": "1.2.0",
            "_view_count": null,
            "flex_flow": null,
            "width": null,
            "min_width": null,
            "border": null,
            "align_items": null,
            "bottom": null,
            "_model_module": "@jupyter-widgets/base",
            "top": null,
            "grid_column": null,
            "overflow_y": null,
            "overflow_x": null,
            "grid_auto_flow": null,
            "grid_area": null,
            "grid_template_columns": null,
            "flex": null,
            "_model_name": "LayoutModel",
            "justify_items": null,
            "grid_row": null,
            "max_height": null,
            "align_content": null,
            "visibility": null,
            "align_self": null,
            "height": null,
            "min_height": null,
            "padding": null,
            "grid_auto_rows": null,
            "grid_gap": null,
            "max_width": null,
            "order": null,
            "_view_module_version": "1.2.0",
            "grid_template_areas": null,
            "object_position": null,
            "object_fit": null,
            "grid_auto_columns": null,
            "margin": null,
            "display": null,
            "left": null
          }
        },
        "955d414b3475437e95920eb19fe29033": {
          "model_module": "@jupyter-widgets/controls",
          "model_name": "ProgressStyleModel",
          "model_module_version": "1.5.0",
          "state": {
            "_view_name": "StyleView",
            "_model_name": "ProgressStyleModel",
            "description_width": "",
            "_view_module": "@jupyter-widgets/base",
            "_model_module_version": "1.5.0",
            "_view_count": null,
            "_view_module_version": "1.2.0",
            "bar_color": null,
            "_model_module": "@jupyter-widgets/controls"
          }
        },
        "f21dcbee1aa5470b9d8c0417bbe21394": {
          "model_module": "@jupyter-widgets/base",
          "model_name": "LayoutModel",
          "model_module_version": "1.2.0",
          "state": {
            "_view_name": "LayoutView",
            "grid_template_rows": null,
            "right": null,
            "justify_content": null,
            "_view_module": "@jupyter-widgets/base",
            "overflow": null,
            "_model_module_version": "1.2.0",
            "_view_count": null,
            "flex_flow": null,
            "width": null,
            "min_width": null,
            "border": null,
            "align_items": null,
            "bottom": null,
            "_model_module": "@jupyter-widgets/base",
            "top": null,
            "grid_column": null,
            "overflow_y": null,
            "overflow_x": null,
            "grid_auto_flow": null,
            "grid_area": null,
            "grid_template_columns": null,
            "flex": null,
            "_model_name": "LayoutModel",
            "justify_items": null,
            "grid_row": null,
            "max_height": null,
            "align_content": null,
            "visibility": null,
            "align_self": null,
            "height": null,
            "min_height": null,
            "padding": null,
            "grid_auto_rows": null,
            "grid_gap": null,
            "max_width": null,
            "order": null,
            "_view_module_version": "1.2.0",
            "grid_template_areas": null,
            "object_position": null,
            "object_fit": null,
            "grid_auto_columns": null,
            "margin": null,
            "display": null,
            "left": null
          }
        },
        "7d34fd593d9a48429eb373ed0c9d4e32": {
          "model_module": "@jupyter-widgets/controls",
          "model_name": "DescriptionStyleModel",
          "model_module_version": "1.5.0",
          "state": {
            "_view_name": "StyleView",
            "_model_name": "DescriptionStyleModel",
            "description_width": "",
            "_view_module": "@jupyter-widgets/base",
            "_model_module_version": "1.5.0",
            "_view_count": null,
            "_view_module_version": "1.2.0",
            "_model_module": "@jupyter-widgets/controls"
          }
        },
        "ac01da039b224ef3b0b80ecf1fc36ec8": {
          "model_module": "@jupyter-widgets/base",
          "model_name": "LayoutModel",
          "model_module_version": "1.2.0",
          "state": {
            "_view_name": "LayoutView",
            "grid_template_rows": null,
            "right": null,
            "justify_content": null,
            "_view_module": "@jupyter-widgets/base",
            "overflow": null,
            "_model_module_version": "1.2.0",
            "_view_count": null,
            "flex_flow": null,
            "width": null,
            "min_width": null,
            "border": null,
            "align_items": null,
            "bottom": null,
            "_model_module": "@jupyter-widgets/base",
            "top": null,
            "grid_column": null,
            "overflow_y": null,
            "overflow_x": null,
            "grid_auto_flow": null,
            "grid_area": null,
            "grid_template_columns": null,
            "flex": null,
            "_model_name": "LayoutModel",
            "justify_items": null,
            "grid_row": null,
            "max_height": null,
            "align_content": null,
            "visibility": null,
            "align_self": null,
            "height": null,
            "min_height": null,
            "padding": null,
            "grid_auto_rows": null,
            "grid_gap": null,
            "max_width": null,
            "order": null,
            "_view_module_version": "1.2.0",
            "grid_template_areas": null,
            "object_position": null,
            "object_fit": null,
            "grid_auto_columns": null,
            "margin": null,
            "display": null,
            "left": null
          }
        }
      }
    }
  },
  "cells": [
    {
      "cell_type": "markdown",
      "metadata": {
        "id": "RUF68Fc70QVm"
      },
      "source": [
        "## Семинар 11 - Нейросети"
      ]
    },
    {
      "cell_type": "markdown",
      "metadata": {
        "id": "9K-DHxiP0QVo"
      },
      "source": [
        "Эта часть основана на:\n",
        "* First part is based on YSDA [Practical RL course week04 materials](https://github.com/yandexdataschool/Practical_RL/tree/master/week04_%5Brecap%5D_deep_learning).\n",
        "* Second part is based on PyTorch official tutorials and [this kaggle kernel](https://www.kaggle.com/pinocookie/pytorch-dataset-and-dataloader)\n",
        "* Third part is based on PyTorch tutorial by [Stanford CS 231n course](http://cs231n.stanford.edu)"
      ]
    },
    {
      "cell_type": "code",
      "metadata": {
        "id": "c2k0b73c-H6W",
        "colab": {
          "base_uri": "https://localhost:8080/"
        },
        "outputId": "cc52f4ff-2913-4fdb-c641-9f4c09bb2c80"
      },
      "source": [
        "!pip install torch torchvision"
      ],
      "execution_count": null,
      "outputs": [
        {
          "output_type": "stream",
          "name": "stdout",
          "text": [
            "Requirement already satisfied: torch in /usr/local/lib/python3.7/dist-packages (1.10.0+cu111)\n",
            "Requirement already satisfied: torchvision in /usr/local/lib/python3.7/dist-packages (0.11.1+cu111)\n",
            "Requirement already satisfied: typing-extensions in /usr/local/lib/python3.7/dist-packages (from torch) (3.10.0.2)\n",
            "Requirement already satisfied: pillow!=8.3.0,>=5.3.0 in /usr/local/lib/python3.7/dist-packages (from torchvision) (7.1.2)\n",
            "Requirement already satisfied: numpy in /usr/local/lib/python3.7/dist-packages (from torchvision) (1.19.5)\n"
          ]
        }
      ]
    },
    {
      "cell_type": "code",
      "metadata": {
        "ExecuteTime": {
          "end_time": "2020-02-28T00:59:42.103233Z",
          "start_time": "2020-02-28T00:59:42.099338Z"
        },
        "id": "bX7WKpm20QVp",
        "colab": {
          "base_uri": "https://localhost:8080/"
        },
        "outputId": "e2f2dd5e-ea21-499a-d44c-f772f30add6d"
      },
      "source": [
        "import pandas as pd\n",
        "import numpy as np\n",
        "from sklearn.metrics import accuracy_score\n",
        "import numpy as np\n",
        "import pandas as pd\n",
        "import matplotlib.pyplot as plt\n",
        "import matplotlib.pyplot as plt\n",
        "from tqdm import tqdm\n",
        "import warnings\n",
        "# warnings.simplefilter('ignore')\n",
        "import torch\n",
        "from torch.utils.data import DataLoader, Dataset, Subset\n",
        "import torchvision\n",
        "from torchvision import transforms\n",
        "from matplotlib import pyplot as plt\n",
        "import numpy as np\n",
        "from sklearn import datasets\n",
        "from sklearn.model_selection import train_test_split\n",
        "import torch\n",
        "print(torch.__version__)"
      ],
      "execution_count": null,
      "outputs": [
        {
          "output_type": "stream",
          "name": "stdout",
          "text": [
            "1.10.0+cu111\n"
          ]
        }
      ]
    },
    {
      "cell_type": "markdown",
      "metadata": {
        "id": "kb0b0s_tw0ft"
      },
      "source": [
        "# 1. Вспомним PyTorch\n",
        "\n",
        "Эта часть основана на материалах курса [dlschool](https://www.dlschool.org/)"
      ]
    },
    {
      "cell_type": "markdown",
      "metadata": {
        "id": "3F-2IcFB0QVu"
      },
      "source": [
        "Нахождение сложной производной\n",
        "\n",
        "Найдите производную по x от функции \n",
        "$$\\sin\\left(\\tan(x)\\frac{x^2}{y} + \\ln(e^{-x^2 + 3}+x^3y)\\right)\\tan(x^2e^{x^9})$$\n",
        "\n",
        "При этом надо пользоваться встроенным в PyTorch autograd. Численное вычисление производной может не дать нужный результат."
      ]
    },
    {
      "cell_type": "code",
      "metadata": {
        "ExecuteTime": {
          "end_time": "2020-02-28T00:13:20.890514Z",
          "start_time": "2020-02-28T00:13:20.639022Z"
        },
        "id": "dicy-gHI0QVu"
      },
      "source": [
        "def find_x_derivative(x, y):\n",
        "    # Ваш код здесь\n",
        "\n",
        "    return "
      ],
      "execution_count": null,
      "outputs": []
    },
    {
      "cell_type": "code",
      "metadata": {
        "id": "bDUuuezl4Ant",
        "colab": {
          "base_uri": "https://localhost:8080/"
        },
        "outputId": "cad54d87-d4c9-4cb2-a3b2-b0514d9ad132"
      },
      "source": [
        "find_x_derivative(1,21)"
      ],
      "execution_count": null,
      "outputs": [
        {
          "output_type": "execute_result",
          "data": {
            "text/plain": [
              "tensor([-9.0207], dtype=torch.float64)"
            ]
          },
          "metadata": {},
          "execution_count": 4
        }
      ]
    },
    {
      "cell_type": "markdown",
      "metadata": {
        "id": "DMhDjJq64GT9"
      },
      "source": [
        "Нахождение косинусной близости\n",
        "\n",
        "Вам даны две матрицы A и B. Необходимо посчитать косинусную близость между строчками матрицы A и столбцами матрицы B. Ответ - матрица чисел, где номер строки - номер строки из матрицы А, а номер столбца - номер столбца из В, от которых бралась косинусная близость.\n",
        "\n",
        "Напомним, что косинусная близость двух векторов - косинус угла между ними. В n-мерном пространстве косинус угла между веткорами удобнее всего через скалярное произведение:\n",
        "$$\\cos(angle(x, y)) = \\frac{x \\cdot y}{\\left\\|x\\right\\| \\left\\|y\\right\\|}$$\n"
      ]
    },
    {
      "cell_type": "code",
      "metadata": {
        "id": "0OEhIEkJ4Fqo"
      },
      "source": [
        "def get_cos_sim(A, B):\n",
        "    \"\"\"\n",
        "        A, B - torch float tensors\n",
        "    \"\"\"\n",
        "    # Ваш код здесь\n",
        "    \n",
        "    \n",
        "    return "
      ],
      "execution_count": null,
      "outputs": []
    },
    {
      "cell_type": "code",
      "metadata": {
        "id": "7owb36PL4G1S"
      },
      "source": [
        "A = [[1, -47, 25, -3], [10, 17, -15, 22], [-3, -7, 26, 36], [12, -27, -42, 0]]\n",
        "B = [[-50, -13, 1, 10, 1242], [21, 48, -13, -14, -20], [20, 15, 11, 43, 11], [11, 103, 147, 27, -8]]"
      ],
      "execution_count": null,
      "outputs": []
    },
    {
      "cell_type": "code",
      "metadata": {
        "id": "NBv88nsc4aqW",
        "colab": {
          "base_uri": "https://localhost:8080/"
        },
        "outputId": "871fd926-19ed-40f4-c9a6-3ddb1f1e8be0"
      },
      "source": [
        "torch.mean(get_cos_sim(A, B))"
      ],
      "execution_count": null,
      "outputs": [
        {
          "output_type": "execute_result",
          "data": {
            "text/plain": [
              "tensor(0.1498)"
            ]
          },
          "metadata": {},
          "execution_count": 7
        }
      ]
    },
    {
      "cell_type": "markdown",
      "metadata": {
        "id": "E4WixrwoouOI"
      },
      "source": [
        "# Практика: Погружение в глубокое обучение\n",
        "В семинаре, будем использовать набор данных `fashion_mnist`, загрузим их"
      ]
    },
    {
      "cell_type": "code",
      "metadata": {
        "id": "817LGj2touOJ"
      },
      "source": [
        "from torchvision import datasets,transforms"
      ],
      "execution_count": null,
      "outputs": []
    },
    {
      "cell_type": "code",
      "metadata": {
        "id": "_1yTnOKlouON",
        "colab": {
          "base_uri": "https://localhost:8080/",
          "height": 423,
          "referenced_widgets": [
            "059e788bf3f04b07a0927fb652e28607",
            "1546187a8ab84578a7bad5c4a38106c0",
            "4f395857208c4f549352b4c5ba390f25",
            "66360275324c4c448069a93e9f7fa940",
            "136b008070e74e2183d81d733d13ca57",
            "307b9e3f0658465dbf6d4e17908680bb",
            "cd774d798e924693be8e39c2ef321f9b",
            "0122a1d08fb44cc3a610dc9c8164dd0b",
            "9ba85e45089b48c294dcffc98901ebd2",
            "b48472563ccd42ccb3d11528bacfbaa7",
            "38a658b7f4e34e4f8c468ba9c8f4a690",
            "35e9642c86f04b128509964264802efc",
            "708997ec5d6e43e6a2aef456a38e7933",
            "3b38a4a360474547acc0306bbe22aa05",
            "887e153238884f998edd6ad9a4a0eb7b",
            "e5305845bb02424c83568bd32d93350f",
            "0820cebe5ad1455d93289eed9df8f786",
            "cffa918c2e054b54b928fd14889d96de",
            "b2eddb6e035e42bea13f02d76defaaef",
            "a3bb6394198f44499b01cc28e19b66bb",
            "f55eeaa72a70455086abb90cb8b27194",
            "c11a1bc93b8d4f70a8cb8d86783c19b6",
            "8820928ad44d4f7493b46615b5c4b113",
            "f3a2326c01d742e29c54b798b248db29",
            "d1d39e4b5d8b40329ae0258701cfd489",
            "7b4fe2905cec457a9ca9920d1ef6780d",
            "700d0524c08c4d5f87de5ae1ff0b1f41",
            "174a16797fa74cdf8c36b39aa37359b2",
            "225a281f9e7b4349bfe78ab1886b80b6",
            "261006f6c0ac48ac9309d2f2bb9417c5",
            "89247ab8a80f41ed9286d30f0724ffd7",
            "91c4c2c0297242f49856d82a0047f1ed",
            "6b7c3781da2e4075871384ebf4403e27",
            "32b0d64319f94e6f91cb2d1be3b7be7c",
            "d8568b8ad5314943b849b936a9bb7f33",
            "7a2bae105d7a4761abedf5335f34a937",
            "401d12a9738f4b28bfda9684fdf7aaf0",
            "a55b0e7cba0644bd87a5535fa01c79be",
            "fa3a4c31c8b94174a4c3cbebf9a4f37c",
            "ef29a4cdde144bb69d2ac2c7b362e4f4",
            "955d414b3475437e95920eb19fe29033",
            "f21dcbee1aa5470b9d8c0417bbe21394",
            "7d34fd593d9a48429eb373ed0c9d4e32",
            "ac01da039b224ef3b0b80ecf1fc36ec8"
          ]
        },
        "outputId": "304b5649-adb8-45fd-a53d-21b82a3f13f7"
      },
      "source": [
        "trainset = datasets.FashionMNIST('~/.pytorch/F_MNIST_data/', train = True, download=True)"
      ],
      "execution_count": null,
      "outputs": [
        {
          "output_type": "stream",
          "name": "stdout",
          "text": [
            "Downloading http://fashion-mnist.s3-website.eu-central-1.amazonaws.com/train-images-idx3-ubyte.gz\n",
            "Downloading http://fashion-mnist.s3-website.eu-central-1.amazonaws.com/train-images-idx3-ubyte.gz to /root/.pytorch/F_MNIST_data/FashionMNIST/raw/train-images-idx3-ubyte.gz\n"
          ]
        },
        {
          "output_type": "display_data",
          "data": {
            "application/vnd.jupyter.widget-view+json": {
              "model_id": "059e788bf3f04b07a0927fb652e28607",
              "version_minor": 0,
              "version_major": 2
            },
            "text/plain": [
              "  0%|          | 0/26421880 [00:00<?, ?it/s]"
            ]
          },
          "metadata": {}
        },
        {
          "output_type": "stream",
          "name": "stdout",
          "text": [
            "Extracting /root/.pytorch/F_MNIST_data/FashionMNIST/raw/train-images-idx3-ubyte.gz to /root/.pytorch/F_MNIST_data/FashionMNIST/raw\n",
            "\n",
            "Downloading http://fashion-mnist.s3-website.eu-central-1.amazonaws.com/train-labels-idx1-ubyte.gz\n",
            "Downloading http://fashion-mnist.s3-website.eu-central-1.amazonaws.com/train-labels-idx1-ubyte.gz to /root/.pytorch/F_MNIST_data/FashionMNIST/raw/train-labels-idx1-ubyte.gz\n"
          ]
        },
        {
          "output_type": "display_data",
          "data": {
            "application/vnd.jupyter.widget-view+json": {
              "model_id": "35e9642c86f04b128509964264802efc",
              "version_minor": 0,
              "version_major": 2
            },
            "text/plain": [
              "  0%|          | 0/29515 [00:00<?, ?it/s]"
            ]
          },
          "metadata": {}
        },
        {
          "output_type": "stream",
          "name": "stdout",
          "text": [
            "Extracting /root/.pytorch/F_MNIST_data/FashionMNIST/raw/train-labels-idx1-ubyte.gz to /root/.pytorch/F_MNIST_data/FashionMNIST/raw\n",
            "\n",
            "Downloading http://fashion-mnist.s3-website.eu-central-1.amazonaws.com/t10k-images-idx3-ubyte.gz\n",
            "Downloading http://fashion-mnist.s3-website.eu-central-1.amazonaws.com/t10k-images-idx3-ubyte.gz to /root/.pytorch/F_MNIST_data/FashionMNIST/raw/t10k-images-idx3-ubyte.gz\n"
          ]
        },
        {
          "output_type": "display_data",
          "data": {
            "application/vnd.jupyter.widget-view+json": {
              "model_id": "8820928ad44d4f7493b46615b5c4b113",
              "version_minor": 0,
              "version_major": 2
            },
            "text/plain": [
              "  0%|          | 0/4422102 [00:00<?, ?it/s]"
            ]
          },
          "metadata": {}
        },
        {
          "output_type": "stream",
          "name": "stdout",
          "text": [
            "Extracting /root/.pytorch/F_MNIST_data/FashionMNIST/raw/t10k-images-idx3-ubyte.gz to /root/.pytorch/F_MNIST_data/FashionMNIST/raw\n",
            "\n",
            "Downloading http://fashion-mnist.s3-website.eu-central-1.amazonaws.com/t10k-labels-idx1-ubyte.gz\n",
            "Downloading http://fashion-mnist.s3-website.eu-central-1.amazonaws.com/t10k-labels-idx1-ubyte.gz to /root/.pytorch/F_MNIST_data/FashionMNIST/raw/t10k-labels-idx1-ubyte.gz\n"
          ]
        },
        {
          "output_type": "display_data",
          "data": {
            "application/vnd.jupyter.widget-view+json": {
              "model_id": "32b0d64319f94e6f91cb2d1be3b7be7c",
              "version_minor": 0,
              "version_major": 2
            },
            "text/plain": [
              "  0%|          | 0/5148 [00:00<?, ?it/s]"
            ]
          },
          "metadata": {}
        },
        {
          "output_type": "stream",
          "name": "stdout",
          "text": [
            "Extracting /root/.pytorch/F_MNIST_data/FashionMNIST/raw/t10k-labels-idx1-ubyte.gz to /root/.pytorch/F_MNIST_data/FashionMNIST/raw\n",
            "\n"
          ]
        }
      ]
    },
    {
      "cell_type": "code",
      "metadata": {
        "id": "5Y_gHUUaouOQ"
      },
      "source": [
        "testset = datasets.FashionMNIST('~/.pytorch/F_MNIST_data/', train = False, download = True)"
      ],
      "execution_count": null,
      "outputs": []
    },
    {
      "cell_type": "code",
      "metadata": {
        "id": "M-yhD9MIouOT"
      },
      "source": [
        "num_classes = len(trainset.classes)"
      ],
      "execution_count": null,
      "outputs": []
    },
    {
      "cell_type": "code",
      "metadata": {
        "id": "IwATUm42gW3I",
        "colab": {
          "base_uri": "https://localhost:8080/"
        },
        "outputId": "2b3e6b80-8a5e-4275-88ab-4408e357e084"
      },
      "source": [
        "trainset.classes"
      ],
      "execution_count": null,
      "outputs": [
        {
          "output_type": "execute_result",
          "data": {
            "text/plain": [
              "['T-shirt/top',\n",
              " 'Trouser',\n",
              " 'Pullover',\n",
              " 'Dress',\n",
              " 'Coat',\n",
              " 'Sandal',\n",
              " 'Shirt',\n",
              " 'Sneaker',\n",
              " 'Bag',\n",
              " 'Ankle boot']"
            ]
          },
          "metadata": {},
          "execution_count": 12
        }
      ]
    },
    {
      "cell_type": "code",
      "metadata": {
        "id": "tw3moMZ4ouOW",
        "colab": {
          "base_uri": "https://localhost:8080/"
        },
        "outputId": "f658c69d-07dd-45ea-80c1-e388e2544f80"
      },
      "source": [
        "x_train = trainset.train_data\n",
        "y_train = trainset.train_labels\n",
        "\n",
        "x_test = testset.train_data\n",
        "y_test = testset.train_labels"
      ],
      "execution_count": null,
      "outputs": [
        {
          "output_type": "stream",
          "name": "stderr",
          "text": [
            "/usr/local/lib/python3.7/dist-packages/torchvision/datasets/mnist.py:62: UserWarning: train_data has been renamed data\n",
            "  warnings.warn(\"train_data has been renamed data\")\n",
            "/usr/local/lib/python3.7/dist-packages/torchvision/datasets/mnist.py:52: UserWarning: train_labels has been renamed targets\n",
            "  warnings.warn(\"train_labels has been renamed targets\")\n"
          ]
        }
      ]
    },
    {
      "cell_type": "code",
      "metadata": {
        "id": "9BOoVSZBouOZ",
        "colab": {
          "base_uri": "https://localhost:8080/",
          "height": 322
        },
        "outputId": "98dec349-2392-47be-f9c9-1a05b8865f29"
      },
      "source": [
        "fig = plt.figure(figsize=(15,5))\n",
        "for i in range(num_classes):\n",
        "    ax = fig.add_subplot(2, 5, 1 + i, xticks=[], yticks=[])\n",
        "    idx = np.where(y_train[:]==i)[0]\n",
        "    features_idx = x_train[idx,::]\n",
        "    img_num = np.random.randint(features_idx.shape[0])\n",
        "    im = features_idx[img_num]\n",
        "    ax.set_title(trainset.classes[i])\n",
        "    plt.imshow(im, cmap='gray_r')\n",
        "plt.show()"
      ],
      "execution_count": null,
      "outputs": [
        {
          "output_type": "display_data",
          "data": {
            "image/png": "[encoded data removed]",
            "text/plain": [
              "<Figure size 1080x360 with 10 Axes>"
            ]
          },
          "metadata": {}
        }
      ]
    },
    {
      "cell_type": "markdown",
      "metadata": {
        "id": "XEwx6Wp4ouOc"
      },
      "source": [
        "### Проведем небольшие предобработки"
      ]
    },
    {
      "cell_type": "code",
      "metadata": {
        "id": "d1swzXaqouOc",
        "colab": {
          "base_uri": "https://localhost:8080/"
        },
        "outputId": "c2efff6b-bc6e-4fe7-b292-9fe5c7dc3b76"
      },
      "source": [
        "x_train_flat = x_train.flatten(start_dim=1).float()\n",
        "x_test_flat = x_test.flatten(start_dim=1).float()\n",
        "print(f'Была размерность: {x_train.shape}, стала: {x_train_flat.shape}')\n",
        "print(f'Была размерность: {x_test.shape}, стала: {x_test_flat.shape}')"
      ],
      "execution_count": null,
      "outputs": [
        {
          "output_type": "stream",
          "name": "stdout",
          "text": [
            "Была размерность: torch.Size([60000, 28, 28]), стала: torch.Size([60000, 784])\n",
            "Была размерность: torch.Size([10000, 28, 28]), стала: torch.Size([10000, 784])\n"
          ]
        }
      ]
    },
    {
      "cell_type": "code",
      "metadata": {
        "id": "2eXoS2gMouOf"
      },
      "source": [
        "D_out =  # Ваш код здесь\n",
        "D_in = "
      ],
      "execution_count": null,
      "outputs": []
    },
    {
      "cell_type": "markdown",
      "metadata": {
        "id": "5ZYEiMQ3DpVB"
      },
      "source": [
        "## 2 варианта опредления архитектуры нейросети в pyTorch \n",
        "\n",
        "(на самом деле их больше)"
      ]
    },
    {
      "cell_type": "code",
      "metadata": {
        "id": "9C-YR6PGouOh"
      },
      "source": [
        "model = torch.nn.Sequential(\n",
        "    torch.nn.Linear(D_in, 128),\n",
        "    torch.nn.Sigmoid(),\n",
        "    torch.nn.Linear(128, 10),\n",
        "    torch.nn.Sigmoid(),\n",
        "    torch.nn.Linear(10, D_out),\n",
        "    torch.nn.Softmax(dim=1)\n",
        ")"
      ],
      "execution_count": null,
      "outputs": []
    },
    {
      "cell_type": "code",
      "metadata": {
        "id": "3Uv5d7YFouOp"
      },
      "source": [
        "import torch.nn.functional as F\n",
        "\n",
        "class Model(torch.nn.Module):\n",
        "    def __init__(self):\n",
        "        super(Model, self).__init__()\n",
        "        self.fc1 = torch.nn.Linear(D_in, 128)\n",
        "        self.act1 = torch.nn.Sigmoid()\n",
        "        self.fc2 = torch.nn.Linear(128, 10)\n",
        "        self.act2 = torch.nn.Sigmoid()\n",
        "        self.fc3 = torch.nn.Linear(10, D_out)\n",
        "        self.act3 = torch.nn.Softmax(dim=1)\n",
        "\n",
        "    def forward(self, x):\n",
        "        x = self.fc1(x)\n",
        "        x = self.act1(x)\n",
        "        x = self.fc2(x)\n",
        "        x = self.act2(x)\n",
        "        x = self.fc3(x)\n",
        "        x = self.act3(x)\n",
        "        return x\n",
        "\n",
        "model = Model()"
      ],
      "execution_count": null,
      "outputs": []
    },
    {
      "cell_type": "code",
      "metadata": {
        "id": "IL0biu-EouOr",
        "colab": {
          "base_uri": "https://localhost:8080/"
        },
        "outputId": "6b54d739-8733-477e-c990-4e991a657d3b"
      },
      "source": [
        "model"
      ],
      "execution_count": null,
      "outputs": [
        {
          "output_type": "execute_result",
          "data": {
            "text/plain": [
              "Model(\n",
              "  (fc1): Linear(in_features=784, out_features=128, bias=True)\n",
              "  (act1): Sigmoid()\n",
              "  (fc2): Linear(in_features=128, out_features=10, bias=True)\n",
              "  (act2): Sigmoid()\n",
              "  (fc3): Linear(in_features=10, out_features=10, bias=True)\n",
              "  (act3): Softmax(dim=1)\n",
              ")"
            ]
          },
          "metadata": {},
          "execution_count": 61
        }
      ]
    },
    {
      "cell_type": "code",
      "metadata": {
        "id": "X1JmI-2fouOu"
      },
      "source": [
        "# Forward pass: compute predicted y by passing x to the model. Module objects\n",
        "# override the __call__ operator so you can call them like functions. When\n",
        "# doing so you pass a Tensor of input data to the Module and it produces\n",
        "# a Tensor of output data.\n",
        "y_pred = model(x_train_flat)"
      ],
      "execution_count": null,
      "outputs": []
    },
    {
      "cell_type": "code",
      "metadata": {
        "id": "aJtuDQ6sjvea",
        "colab": {
          "base_uri": "https://localhost:8080/"
        },
        "outputId": "397f6499-0df3-4bca-813e-4a8321866889"
      },
      "source": [
        "y_pred.shape"
      ],
      "execution_count": null,
      "outputs": [
        {
          "output_type": "execute_result",
          "data": {
            "text/plain": [
              "torch.Size([60000, 10])"
            ]
          },
          "metadata": {},
          "execution_count": 63
        }
      ]
    },
    {
      "cell_type": "code",
      "metadata": {
        "id": "c5JD6xWqouOw"
      },
      "source": [
        "loss_fn = torch.nn.CrossEntropyLoss()"
      ],
      "execution_count": null,
      "outputs": []
    },
    {
      "cell_type": "code",
      "metadata": {
        "id": "KWHhi6hTiVOB"
      },
      "source": [
        "# Compute and print loss. We pass Tensors containing the predicted and true\n",
        "# values of y, and the loss function returns a Tensor containing the\n",
        "# loss.\n",
        "loss_old = loss_fn(y_pred, y_train)"
      ],
      "execution_count": null,
      "outputs": []
    },
    {
      "cell_type": "code",
      "metadata": {
        "id": "bK5o-0gNihzV",
        "colab": {
          "base_uri": "https://localhost:8080/"
        },
        "outputId": "f7f5c7a7-ebe0-41ec-b3e4-70946748a541"
      },
      "source": [
        "acc_old = accuracy_score(y_train.numpy(), y_pred.argmax(dim=1).numpy())\n",
        "acc_old"
      ],
      "execution_count": null,
      "outputs": [
        {
          "output_type": "execute_result",
          "data": {
            "text/plain": [
              "0.1"
            ]
          },
          "metadata": {},
          "execution_count": 66
        }
      ]
    },
    {
      "cell_type": "code",
      "metadata": {
        "id": "KM8oRGwlih2f"
      },
      "source": [
        "# Zero the gradients before running the backward pass.\n",
        "model.zero_grad()"
      ],
      "execution_count": null,
      "outputs": []
    },
    {
      "cell_type": "code",
      "metadata": {
        "id": "4DqxPMqRih5L"
      },
      "source": [
        "# Backward pass: compute gradient of the loss with respect to all the learnable\n",
        "# parameters of the model. Internally, the parameters of each Module are stored\n",
        "# in Tensors with requires_grad=True, so this call will compute gradients for\n",
        "# all learnable parameters in the model.\n",
        "loss_old.backward()"
      ],
      "execution_count": null,
      "outputs": []
    },
    {
      "cell_type": "code",
      "metadata": {
        "id": "loqaoy8Zi1PH"
      },
      "source": [
        "learning_rate = 1e-2"
      ],
      "execution_count": null,
      "outputs": []
    },
    {
      "cell_type": "code",
      "metadata": {
        "id": "C1fPGyDKiw-U"
      },
      "source": [
        "# Update the weights using gradient descent. Each parameter is a Tensor, so\n",
        "# we can access its gradients like we did before.\n",
        "with torch.no_grad():\n",
        "  # Ваш код здесь\n"
      ],
      "execution_count": null,
      "outputs": []
    },
    {
      "cell_type": "code",
      "metadata": {
        "id": "JSIGz0wnixBE",
        "colab": {
          "base_uri": "https://localhost:8080/"
        },
        "outputId": "80165a2e-6c99-4f30-d4ec-1274e7cf60a0"
      },
      "source": [
        "y_pred = model(x_train_flat.float())\n",
        "loss_new = loss_fn(y_pred, y_train)\n",
        "step = loss_new.item()-loss_old.item()\n",
        "\n",
        "acc_new = accuracy_score(y_train.numpy(), y_pred.argmax(dim=1).numpy())\n",
        "\n",
        "\n",
        "\n",
        "print(f'Лосс: {loss_old.item()} -> {loss_new.item()}. Step {step} ')\n",
        "print(f'Accuracy: {acc_old} -> {acc_new}')"
      ],
      "execution_count": null,
      "outputs": [
        {
          "output_type": "stream",
          "name": "stdout",
          "text": [
            "Лосс: 2.302765130996704 -> 2.302751302719116. Step -1.3828277587890625e-05 \n",
            "Accuracy: 0.1 -> 0.1\n"
          ]
        }
      ]
    },
    {
      "cell_type": "code",
      "metadata": {
        "id": "tFGhystlouO1"
      },
      "source": [
        "def batch_train(model, loss_fn, learning_rate, x, y):\n",
        "  # Ваш код здесь\n",
        "    \n",
        "    return(loss.item())"
      ],
      "execution_count": null,
      "outputs": []
    },
    {
      "cell_type": "code",
      "metadata": {
        "id": "nG1SImTaouO3"
      },
      "source": [
        "def train(model, n_epochs, batch_size, learning_rate,  X, y, X_test, y_test):\n",
        "    acc_train_all = []\n",
        "    loss_train_all = []\n",
        "    acc_test_all = []\n",
        "    loss_test_all = []\n",
        "\n",
        "    for epoch in range(n_epochs):\n",
        "\n",
        "        permutation = torch.randperm(X.size()[0])\n",
        "\n",
        "        for i in tqdm(range(0,X.float().size()[0], batch_size)):\n",
        "            indices = permutation[i:i+batch_size]\n",
        "            batch_x, batch_y = X[indices], y[indices]\n",
        "            batch_train(model, loss_fn, learning_rate, batch_x, batch_y)\n",
        "\n",
        "        y_test_pred = model(X_test)\n",
        "        y_train_pred = model(X)\n",
        "\n",
        "\n",
        "        acc_train = accuracy_score(y.numpy(), y_train_pred.argmax(dim=1).numpy())\n",
        "        loss_train = loss_fn(y_train_pred, y).detach().numpy() \n",
        "        acc_test = accuracy_score(y_test.numpy(), y_test_pred.argmax(dim=1).numpy())\n",
        "        loss_test = loss_fn(y_test_pred, y_test).detach().numpy()\n",
        "\n",
        "        acc_train_all = np.append(acc_train_all, acc_train)\n",
        "        loss_train_all = np.append(loss_train_all, loss_train)\n",
        "        acc_test_all = np.append(acc_test_all, acc_test)\n",
        "        loss_test_all = np.append(loss_test_all, loss_test)\n",
        "\n",
        "\n",
        "        print(f'Epoch {epoch}: \\n Accuracy - train: {acc_train} | test: {acc_test} \\n Loss - train: {loss_train} | test: {loss_test}')\n",
        "        \n",
        "    return(acc_train_all, loss_train_all, acc_test_all, loss_test_all)"
      ],
      "execution_count": null,
      "outputs": []
    },
    {
      "cell_type": "code",
      "metadata": {
        "scrolled": true,
        "id": "tvQm6qs8ouO6",
        "colab": {
          "base_uri": "https://localhost:8080/"
        },
        "outputId": "402d19b9-72bc-46eb-e219-8b120882dd2d"
      },
      "source": [
        "n_epochs = 10\n",
        "batch_size = 1000 \n",
        "learning_rate = 1e-1\n",
        "model = Model()\n",
        "acc_train_all, loss_train_all, acc_test_all, loss_test_all = \\\n",
        "          train(model, n_epochs, batch_size, learning_rate, x_train_flat, y_train, x_test_flat, y_test)\n"
      ],
      "execution_count": null,
      "outputs": [
        {
          "output_type": "stream",
          "name": "stderr",
          "text": [
            "100%|██████████| 60/60 [00:01<00:00, 31.62it/s]\n"
          ]
        },
        {
          "output_type": "stream",
          "name": "stdout",
          "text": [
            "Epoch 0: \n",
            " Accuracy - train: 0.12965 | test: 0.1261 \n",
            " Loss - train: 2.2978880405426025 | test: 2.2979395389556885\n"
          ]
        },
        {
          "output_type": "stream",
          "name": "stderr",
          "text": [
            "100%|██████████| 60/60 [00:01<00:00, 30.39it/s]\n"
          ]
        },
        {
          "output_type": "stream",
          "name": "stdout",
          "text": [
            "Epoch 1: \n",
            " Accuracy - train: 0.17733333333333334 | test: 0.1731 \n",
            " Loss - train: 2.2943878173828125 | test: 2.294490337371826\n"
          ]
        },
        {
          "output_type": "stream",
          "name": "stderr",
          "text": [
            "100%|██████████| 60/60 [00:02<00:00, 29.31it/s]\n"
          ]
        },
        {
          "output_type": "stream",
          "name": "stdout",
          "text": [
            "Epoch 2: \n",
            " Accuracy - train: 0.2599666666666667 | test: 0.2552 \n",
            " Loss - train: 2.2908413410186768 | test: 2.29097843170166\n"
          ]
        },
        {
          "output_type": "stream",
          "name": "stderr",
          "text": [
            "100%|██████████| 60/60 [00:02<00:00, 28.83it/s]\n"
          ]
        },
        {
          "output_type": "stream",
          "name": "stdout",
          "text": [
            "Epoch 3: \n",
            " Accuracy - train: 0.28036666666666665 | test: 0.2755 \n",
            " Loss - train: 2.286875009536743 | test: 2.2870779037475586\n"
          ]
        },
        {
          "output_type": "stream",
          "name": "stderr",
          "text": [
            "100%|██████████| 60/60 [00:02<00:00, 28.21it/s]\n"
          ]
        },
        {
          "output_type": "stream",
          "name": "stdout",
          "text": [
            "Epoch 4: \n",
            " Accuracy - train: 0.28365 | test: 0.28 \n",
            " Loss - train: 2.2823081016540527 | test: 2.282585620880127\n"
          ]
        },
        {
          "output_type": "stream",
          "name": "stderr",
          "text": [
            "100%|██████████| 60/60 [00:02<00:00, 27.73it/s]\n"
          ]
        },
        {
          "output_type": "stream",
          "name": "stdout",
          "text": [
            "Epoch 5: \n",
            " Accuracy - train: 0.2844333333333333 | test: 0.2817 \n",
            " Loss - train: 2.2768194675445557 | test: 2.2771663665771484\n"
          ]
        },
        {
          "output_type": "stream",
          "name": "stderr",
          "text": [
            "100%|██████████| 60/60 [00:02<00:00, 27.19it/s]\n"
          ]
        },
        {
          "output_type": "stream",
          "name": "stdout",
          "text": [
            "Epoch 6: \n",
            " Accuracy - train: 0.28401666666666664 | test: 0.2815 \n",
            " Loss - train: 2.270070791244507 | test: 2.2705039978027344\n"
          ]
        },
        {
          "output_type": "stream",
          "name": "stderr",
          "text": [
            "100%|██████████| 60/60 [00:02<00:00, 27.09it/s]\n"
          ]
        },
        {
          "output_type": "stream",
          "name": "stdout",
          "text": [
            "Epoch 7: \n",
            " Accuracy - train: 0.28225 | test: 0.2796 \n",
            " Loss - train: 2.261781930923462 | test: 2.262301445007324\n"
          ]
        },
        {
          "output_type": "stream",
          "name": "stderr",
          "text": [
            "100%|██████████| 60/60 [00:02<00:00, 26.20it/s]\n"
          ]
        },
        {
          "output_type": "stream",
          "name": "stdout",
          "text": [
            "Epoch 8: \n",
            " Accuracy - train: 0.2799 | test: 0.2773 \n",
            " Loss - train: 2.2518749237060547 | test: 2.252495050430298\n"
          ]
        },
        {
          "output_type": "stream",
          "name": "stderr",
          "text": [
            "100%|██████████| 60/60 [00:02<00:00, 25.71it/s]\n"
          ]
        },
        {
          "output_type": "stream",
          "name": "stdout",
          "text": [
            "Epoch 9: \n",
            " Accuracy - train: 0.27581666666666665 | test: 0.2727 \n",
            " Loss - train: 2.2404778003692627 | test: 2.2412147521972656\n"
          ]
        }
      ]
    },
    {
      "cell_type": "code",
      "metadata": {
        "id": "xUytpKIuouO9"
      },
      "source": [
        "def vis_history(acc_train_all, loss_train_all, acc_test_all, loss_test_all):\n",
        "    fig = plt.figure(figsize=(16, 4))\n",
        "\n",
        "    plt.subplot(1, 2, 1)\n",
        "\n",
        "    plt.plot(loss_train_all, label='loss')\n",
        "    plt.plot(loss_test_all, label='val_loss')\n",
        "\n",
        "    plt.legend()\n",
        "\n",
        "    plt.subplot(1, 2, 2)\n",
        "    plt.plot(acc_train_all, label='acc')\n",
        "    plt.plot(acc_test_all, label='val_acc')\n",
        "\n",
        "    plt.legend()\n",
        "    plt.show()"
      ],
      "execution_count": null,
      "outputs": []
    },
    {
      "cell_type": "code",
      "metadata": {
        "id": "rchVUmigouO_",
        "colab": {
          "base_uri": "https://localhost:8080/",
          "height": 267
        },
        "outputId": "4ed5104a-227c-4950-83f1-f1c0e4b5b547"
      },
      "source": [
        "vis_history(acc_train_all, loss_train_all, acc_test_all, loss_test_all)"
      ],
      "execution_count": null,
      "outputs": [
        {
          "output_type": "display_data",
          "data": {
            "image/png": "[encoded data removed]",
            "text/plain": [
              "<Figure size 1152x288 with 2 Axes>"
            ]
          },
          "metadata": {
            "needs_background": "light"
          }
        }
      ]
    },
    {
      "cell_type": "markdown",
      "metadata": {
        "id": "sdDt8drzouPE"
      },
      "source": [
        "## Что мы можем улучшить? \n",
        "- Отнормировать признаки\n",
        "- Заменить сигмоиды на ReLu\n",
        "- Задать правила инициации весов"
      ]
    },
    {
      "cell_type": "markdown",
      "metadata": {
        "id": "EZWTYU3xouPE"
      },
      "source": [
        "### Нормировка\n",
        "![picture](https://drive.google.com/uc?export=view&id=1cZ12oLwDToKVev2bdTvzzNoFVOU_jKYn)"
      ]
    },
    {
      "cell_type": "code",
      "metadata": {
        "id": "DDCj3aJBouPF"
      },
      "source": [
        "# Ваш код здесь\n"
      ],
      "execution_count": null,
      "outputs": []
    },
    {
      "cell_type": "code",
      "metadata": {
        "id": "EkqCvSZzouPJ",
        "colab": {
          "base_uri": "https://localhost:8080/"
        },
        "outputId": "d4ca54d5-1af2-4f0e-8fba-b498dcc245fd"
      },
      "source": [
        "x_train_norm.max(), x_train_norm.min()"
      ],
      "execution_count": null,
      "outputs": [
        {
          "output_type": "execute_result",
          "data": {
            "text/plain": [
              "(tensor(2.0224), tensor(-0.8103))"
            ]
          },
          "metadata": {},
          "execution_count": 78
        }
      ]
    },
    {
      "cell_type": "code",
      "metadata": {
        "id": "j8efS67TuNmA",
        "colab": {
          "base_uri": "https://localhost:8080/"
        },
        "outputId": "e8c1cd92-8527-456b-db05-1f932b97d349"
      },
      "source": [
        "n_epochs = 10\n",
        "batch_size = 1000 \n",
        "learning_rate = 1e-1\n",
        "\n",
        "acc_train_all, loss_train_all, acc_test_all, loss_test_all = train(model, n_epochs, batch_size, learning_rate,\n",
        "                                                                   x_train_norm, y_train, x_test_norm, y_test)\n"
      ],
      "execution_count": null,
      "outputs": [
        {
          "output_type": "stream",
          "name": "stderr",
          "text": [
            "100%|██████████| 60/60 [00:00<00:00, 88.87it/s]\n"
          ]
        },
        {
          "output_type": "stream",
          "name": "stdout",
          "text": [
            "Epoch 0: \n",
            " Accuracy - train: 0.18328333333333333 | test: 0.1826 \n",
            " Loss - train: 2.2710161209106445 | test: 2.2713401317596436\n"
          ]
        },
        {
          "output_type": "stream",
          "name": "stderr",
          "text": [
            "100%|██████████| 60/60 [00:00<00:00, 87.57it/s]\n"
          ]
        },
        {
          "output_type": "stream",
          "name": "stdout",
          "text": [
            "Epoch 1: \n",
            " Accuracy - train: 0.1904 | test: 0.1896 \n",
            " Loss - train: 2.2610533237457275 | test: 2.261446952819824\n"
          ]
        },
        {
          "output_type": "stream",
          "name": "stderr",
          "text": [
            "100%|██████████| 60/60 [00:00<00:00, 89.63it/s]\n"
          ]
        },
        {
          "output_type": "stream",
          "name": "stdout",
          "text": [
            "Epoch 2: \n",
            " Accuracy - train: 0.1953 | test: 0.1943 \n",
            " Loss - train: 2.250746726989746 | test: 2.2511985301971436\n"
          ]
        },
        {
          "output_type": "stream",
          "name": "stderr",
          "text": [
            "100%|██████████| 60/60 [00:00<00:00, 88.41it/s]\n"
          ]
        },
        {
          "output_type": "stream",
          "name": "stdout",
          "text": [
            "Epoch 3: \n",
            " Accuracy - train: 0.20195 | test: 0.2015 \n",
            " Loss - train: 2.240670919418335 | test: 2.241175413131714\n"
          ]
        },
        {
          "output_type": "stream",
          "name": "stderr",
          "text": [
            "100%|██████████| 60/60 [00:00<00:00, 88.89it/s]\n"
          ]
        },
        {
          "output_type": "stream",
          "name": "stdout",
          "text": [
            "Epoch 4: \n",
            " Accuracy - train: 0.2139 | test: 0.2118 \n",
            " Loss - train: 2.2312819957733154 | test: 2.23183536529541\n"
          ]
        },
        {
          "output_type": "stream",
          "name": "stderr",
          "text": [
            "100%|██████████| 60/60 [00:00<00:00, 90.17it/s]\n"
          ]
        },
        {
          "output_type": "stream",
          "name": "stdout",
          "text": [
            "Epoch 5: \n",
            " Accuracy - train: 0.22675 | test: 0.2244 \n",
            " Loss - train: 2.22271466255188 | test: 2.223322629928589\n"
          ]
        },
        {
          "output_type": "stream",
          "name": "stderr",
          "text": [
            "100%|██████████| 60/60 [00:00<00:00, 89.43it/s]\n"
          ]
        },
        {
          "output_type": "stream",
          "name": "stdout",
          "text": [
            "Epoch 6: \n",
            " Accuracy - train: 0.23685 | test: 0.2337 \n",
            " Loss - train: 2.21484375 | test: 2.215510845184326\n"
          ]
        },
        {
          "output_type": "stream",
          "name": "stderr",
          "text": [
            "100%|██████████| 60/60 [00:00<00:00, 89.53it/s]\n"
          ]
        },
        {
          "output_type": "stream",
          "name": "stdout",
          "text": [
            "Epoch 7: \n",
            " Accuracy - train: 0.24585 | test: 0.2443 \n",
            " Loss - train: 2.2074553966522217 | test: 2.208186149597168\n"
          ]
        },
        {
          "output_type": "stream",
          "name": "stderr",
          "text": [
            "100%|██████████| 60/60 [00:00<00:00, 91.51it/s]\n"
          ]
        },
        {
          "output_type": "stream",
          "name": "stdout",
          "text": [
            "Epoch 8: \n",
            " Accuracy - train: 0.25366666666666665 | test: 0.2527 \n",
            " Loss - train: 2.2003328800201416 | test: 2.201122999191284\n"
          ]
        },
        {
          "output_type": "stream",
          "name": "stderr",
          "text": [
            "100%|██████████| 60/60 [00:00<00:00, 90.61it/s]\n"
          ]
        },
        {
          "output_type": "stream",
          "name": "stdout",
          "text": [
            "Epoch 9: \n",
            " Accuracy - train: 0.2601833333333333 | test: 0.2591 \n",
            " Loss - train: 2.1933019161224365 | test: 2.1941463947296143\n"
          ]
        }
      ]
    },
    {
      "cell_type": "code",
      "metadata": {
        "id": "gm1OG8zyuNmC"
      },
      "source": [
        "vis_history(acc_train_all, loss_train_all, acc_test_all, loss_test_all)"
      ],
      "execution_count": null,
      "outputs": []
    },
    {
      "cell_type": "markdown",
      "metadata": {
        "id": "T4BICv8uouPM"
      },
      "source": [
        "### Инициациия весов\n",
        "__Случайно__  \n",
        "$ w = a * random$, но тогда если $a \\gg 1$, то на выходе $b\\gg1$ и если $a \\ll 1 $, то $b \\approx 0 $  \n",
        "\n",
        "__Xavier__  \n",
        "$a = \\frac{1}{\\sqrt{n}}$, где $n$ - кол-во нейронов на входе\n",
        "\n",
        "__He__  \n",
        "$a = \\frac{1}{\\sqrt{\\frac{n}{2}}}$, где $n$ - кол-во нейронов на входе"
      ]
    },
    {
      "cell_type": "code",
      "metadata": {
        "id": "XswYTN_LouPM"
      },
      "source": [
        "def init_weights(m):\n",
        "    if type(m) == torch.nn.Linear:\n",
        "        torch.nn.init.xavier_uniform(m.weight)\n",
        "        m.bias.data.fill_(0.01)"
      ],
      "execution_count": null,
      "outputs": []
    },
    {
      "cell_type": "markdown",
      "metadata": {
        "id": "aZ4-dwjOouPO"
      },
      "source": [
        "Примените к модели  функцию инициации весов с помощью метода .apply()"
      ]
    },
    {
      "cell_type": "code",
      "metadata": {
        "id": "be7BL4lqIahs"
      },
      "source": [
        "model_2 = Model()"
      ],
      "execution_count": null,
      "outputs": []
    },
    {
      "cell_type": "code",
      "metadata": {
        "id": "7aPFssk4ouPP",
        "colab": {
          "base_uri": "https://localhost:8080/"
        },
        "outputId": "46306d5b-5e56-483b-8d87-71978d4ff9a5"
      },
      "source": [
        "model_2 = model_2.apply(init_weights)"
      ],
      "execution_count": null,
      "outputs": [
        {
          "output_type": "stream",
          "name": "stderr",
          "text": [
            "/usr/local/lib/python3.7/dist-packages/ipykernel_launcher.py:3: UserWarning: nn.init.xavier_uniform is now deprecated in favor of nn.init.xavier_uniform_.\n",
            "  This is separate from the ipykernel package so we can avoid doing imports until\n"
          ]
        }
      ]
    },
    {
      "cell_type": "code",
      "metadata": {
        "id": "mcBd7Ot3ouPR",
        "colab": {
          "base_uri": "https://localhost:8080/"
        },
        "outputId": "415bfa6b-dcb0-4b4b-e4b6-a3d7d1eb5078"
      },
      "source": [
        "n_epochs = 10\n",
        "batch_size = 1000\n",
        "learning_rate = 1e-1\n",
        "\n",
        "acc_train_all, loss_train_all, acc_test_all, loss_test_all = train(model_2, n_epochs, batch_size, learning_rate,\n",
        "                                                                   x_train_norm, y_train, x_test_norm, y_test)\n"
      ],
      "execution_count": null,
      "outputs": [
        {
          "output_type": "stream",
          "name": "stderr",
          "text": [
            "100%|██████████| 60/60 [00:00<00:00, 94.64it/s]\n"
          ]
        },
        {
          "output_type": "stream",
          "name": "stdout",
          "text": [
            "Epoch 0: \n",
            " Accuracy - train: 0.5116166666666667 | test: 0.509 \n",
            " Loss - train: 1.967336893081665 | test: 1.9707343578338623\n"
          ]
        },
        {
          "output_type": "stream",
          "name": "stderr",
          "text": [
            "100%|██████████| 60/60 [00:00<00:00, 94.78it/s]\n"
          ]
        },
        {
          "output_type": "stream",
          "name": "stdout",
          "text": [
            "Epoch 1: \n",
            " Accuracy - train: 0.5305833333333333 | test: 0.5295 \n",
            " Loss - train: 1.9361932277679443 | test: 1.9385879039764404\n"
          ]
        },
        {
          "output_type": "stream",
          "name": "stderr",
          "text": [
            "100%|██████████| 60/60 [00:00<00:00, 93.04it/s]\n"
          ]
        },
        {
          "output_type": "stream",
          "name": "stdout",
          "text": [
            "Epoch 2: \n",
            " Accuracy - train: 0.61525 | test: 0.6122 \n",
            " Loss - train: 1.8624768257141113 | test: 1.865403652191162\n"
          ]
        },
        {
          "output_type": "stream",
          "name": "stderr",
          "text": [
            "100%|██████████| 60/60 [00:00<00:00, 94.29it/s]\n"
          ]
        },
        {
          "output_type": "stream",
          "name": "stdout",
          "text": [
            "Epoch 3: \n",
            " Accuracy - train: 0.6271 | test: 0.6214 \n",
            " Loss - train: 1.8435945510864258 | test: 1.8472692966461182\n"
          ]
        },
        {
          "output_type": "stream",
          "name": "stderr",
          "text": [
            "100%|██████████| 60/60 [00:00<00:00, 90.32it/s]\n"
          ]
        },
        {
          "output_type": "stream",
          "name": "stdout",
          "text": [
            "Epoch 4: \n",
            " Accuracy - train: 0.6320666666666667 | test: 0.6258 \n",
            " Loss - train: 1.8354830741882324 | test: 1.839479684829712\n"
          ]
        },
        {
          "output_type": "stream",
          "name": "stderr",
          "text": [
            "100%|██████████| 60/60 [00:00<00:00, 93.47it/s]\n"
          ]
        },
        {
          "output_type": "stream",
          "name": "stdout",
          "text": [
            "Epoch 5: \n",
            " Accuracy - train: 0.6353833333333333 | test: 0.6299 \n",
            " Loss - train: 1.8293960094451904 | test: 1.833376407623291\n"
          ]
        },
        {
          "output_type": "stream",
          "name": "stderr",
          "text": [
            "100%|██████████| 60/60 [00:00<00:00, 92.60it/s]\n"
          ]
        },
        {
          "output_type": "stream",
          "name": "stdout",
          "text": [
            "Epoch 6: \n",
            " Accuracy - train: 0.7296333333333334 | test: 0.7217 \n",
            " Loss - train: 1.7447209358215332 | test: 1.7505550384521484\n"
          ]
        },
        {
          "output_type": "stream",
          "name": "stderr",
          "text": [
            "100%|██████████| 60/60 [00:00<00:00, 92.78it/s]\n"
          ]
        },
        {
          "output_type": "stream",
          "name": "stdout",
          "text": [
            "Epoch 7: \n",
            " Accuracy - train: 0.7333 | test: 0.7251 \n",
            " Loss - train: 1.7368966341018677 | test: 1.7430294752120972\n"
          ]
        },
        {
          "output_type": "stream",
          "name": "stderr",
          "text": [
            "100%|██████████| 60/60 [00:00<00:00, 93.89it/s]\n"
          ]
        },
        {
          "output_type": "stream",
          "name": "stdout",
          "text": [
            "Epoch 8: \n",
            " Accuracy - train: 0.7353 | test: 0.727 \n",
            " Loss - train: 1.7319482564926147 | test: 1.7382607460021973\n"
          ]
        },
        {
          "output_type": "stream",
          "name": "stderr",
          "text": [
            "100%|██████████| 60/60 [00:00<00:00, 93.54it/s]\n"
          ]
        },
        {
          "output_type": "stream",
          "name": "stdout",
          "text": [
            "Epoch 9: \n",
            " Accuracy - train: 0.7895333333333333 | test: 0.7783 \n",
            " Loss - train: 1.685734748840332 | test: 1.6962037086486816\n"
          ]
        }
      ]
    },
    {
      "cell_type": "code",
      "metadata": {
        "id": "7GnH4Sj6ouPT"
      },
      "source": [
        "vis_history(acc_train_all, loss_train_all, acc_test_all, loss_test_all)"
      ],
      "execution_count": null,
      "outputs": []
    },
    {
      "cell_type": "markdown",
      "metadata": {
        "id": "eo3z_0ojqYaN"
      },
      "source": [
        "### Функции активации\n",
        "![picture](https://drive.google.com/uc?export=view&id=1E-p46g_GUEV4Z87-Ys9pwIn8_ZvyZW0s)"
      ]
    },
    {
      "cell_type": "code",
      "metadata": {
        "id": "yL5kSrl7wGT-"
      },
      "source": [
        "class Model(torch.nn.Module):\n",
        "    def __init__(self):\n",
        "        super(Model, self).__init__()\n",
        "\n",
        "\n",
        "    def forward(self, x):\n",
        "        x = self.act1(self.fc1(x))\n",
        "        x = self.fc2(x)\n",
        "        x = self.act2(x)\n",
        "        x = self.fc3(x)\n",
        "        x = self.act3(x)\n",
        "        return x\n",
        "\n",
        "model_3 = Model()"
      ],
      "execution_count": null,
      "outputs": []
    },
    {
      "cell_type": "code",
      "metadata": {
        "id": "IVgMmIa0wGUD",
        "colab": {
          "base_uri": "https://localhost:8080/"
        },
        "outputId": "ba200af7-07f1-4e62-caa7-c20da5a6c691"
      },
      "source": [
        "n_epochs = 10\n",
        "batch_size = 1000 \n",
        "learning_rate = 1e-1\n",
        "\n",
        "acc_train_all, loss_train_all, acc_test_all, loss_test_all = train(model_3, n_epochs, batch_size, learning_rate,\n",
        "                                                                   x_train_norm, y_train, x_test_norm, y_test)\n"
      ],
      "execution_count": null,
      "outputs": [
        {
          "output_type": "stream",
          "name": "stderr",
          "text": [
            "100%|██████████| 60/60 [00:00<00:00, 93.40it/s]\n"
          ]
        },
        {
          "output_type": "stream",
          "name": "stdout",
          "text": [
            "Epoch 0: \n",
            " Accuracy - train: 0.15443333333333334 | test: 0.1555 \n",
            " Loss - train: 2.277034044265747 | test: 2.277655839920044\n"
          ]
        },
        {
          "output_type": "stream",
          "name": "stderr",
          "text": [
            "100%|██████████| 60/60 [00:00<00:00, 91.83it/s]\n"
          ]
        },
        {
          "output_type": "stream",
          "name": "stdout",
          "text": [
            "Epoch 1: \n",
            " Accuracy - train: 0.31461666666666666 | test: 0.3137 \n",
            " Loss - train: 2.191441059112549 | test: 2.193312644958496\n"
          ]
        },
        {
          "output_type": "stream",
          "name": "stderr",
          "text": [
            "100%|██████████| 60/60 [00:00<00:00, 93.45it/s]\n"
          ]
        },
        {
          "output_type": "stream",
          "name": "stdout",
          "text": [
            "Epoch 2: \n",
            " Accuracy - train: 0.5443833333333333 | test: 0.5435 \n",
            " Loss - train: 1.9746153354644775 | test: 1.9758939743041992\n"
          ]
        },
        {
          "output_type": "stream",
          "name": "stderr",
          "text": [
            "100%|██████████| 60/60 [00:00<00:00, 90.17it/s]\n"
          ]
        },
        {
          "output_type": "stream",
          "name": "stdout",
          "text": [
            "Epoch 3: \n",
            " Accuracy - train: 0.5541 | test: 0.5524 \n",
            " Loss - train: 1.9210067987442017 | test: 1.922302484512329\n"
          ]
        },
        {
          "output_type": "stream",
          "name": "stderr",
          "text": [
            "100%|██████████| 60/60 [00:00<00:00, 92.23it/s]\n"
          ]
        },
        {
          "output_type": "stream",
          "name": "stdout",
          "text": [
            "Epoch 4: \n",
            " Accuracy - train: 0.5586166666666667 | test: 0.5585 \n",
            " Loss - train: 1.9060847759246826 | test: 1.9073197841644287\n"
          ]
        },
        {
          "output_type": "stream",
          "name": "stderr",
          "text": [
            "100%|██████████| 60/60 [00:00<00:00, 90.47it/s]\n"
          ]
        },
        {
          "output_type": "stream",
          "name": "stdout",
          "text": [
            "Epoch 5: \n",
            " Accuracy - train: 0.5610333333333334 | test: 0.5601 \n",
            " Loss - train: 1.8958685398101807 | test: 1.8975919485092163\n"
          ]
        },
        {
          "output_type": "stream",
          "name": "stderr",
          "text": [
            "100%|██████████| 60/60 [00:00<00:00, 92.01it/s]\n"
          ]
        },
        {
          "output_type": "stream",
          "name": "stdout",
          "text": [
            "Epoch 6: \n",
            " Accuracy - train: 0.5742 | test: 0.5741 \n",
            " Loss - train: 1.8845248222351074 | test: 1.8860154151916504\n"
          ]
        },
        {
          "output_type": "stream",
          "name": "stderr",
          "text": [
            "100%|██████████| 60/60 [00:00<00:00, 89.59it/s]\n"
          ]
        },
        {
          "output_type": "stream",
          "name": "stdout",
          "text": [
            "Epoch 7: \n",
            " Accuracy - train: 0.6312666666666666 | test: 0.63 \n",
            " Loss - train: 1.857607364654541 | test: 1.8584785461425781\n"
          ]
        },
        {
          "output_type": "stream",
          "name": "stderr",
          "text": [
            "100%|██████████| 60/60 [00:00<00:00, 91.09it/s]\n"
          ]
        },
        {
          "output_type": "stream",
          "name": "stdout",
          "text": [
            "Epoch 8: \n",
            " Accuracy - train: 0.6350833333333333 | test: 0.6346 \n",
            " Loss - train: 1.839447259902954 | test: 1.8399618864059448\n"
          ]
        },
        {
          "output_type": "stream",
          "name": "stderr",
          "text": [
            "100%|██████████| 60/60 [00:00<00:00, 89.64it/s]\n"
          ]
        },
        {
          "output_type": "stream",
          "name": "stdout",
          "text": [
            "Epoch 9: \n",
            " Accuracy - train: 0.63915 | test: 0.6384 \n",
            " Loss - train: 1.8312550783157349 | test: 1.832215666770935\n"
          ]
        }
      ]
    },
    {
      "cell_type": "code",
      "metadata": {
        "id": "4Mezplo7wGUH"
      },
      "source": [
        "vis_history(acc_train_all, loss_train_all, acc_test_all, loss_test_all)"
      ],
      "execution_count": null,
      "outputs": []
    },
    {
      "cell_type": "markdown",
      "metadata": {
        "id": "UA9GBCWtouPW"
      },
      "source": [
        "## Влияние скорости обучения\n",
        "Посмотрим, как влияет параметр `learning_rate` на качество нашей модели на обучающей выборке"
      ]
    },
    {
      "cell_type": "code",
      "metadata": {
        "id": "dWt_4O03ouPW"
      },
      "source": [
        "learning_rates = [1e+1, 1e-2, 1e-3, 1e-5, 1e-10] "
      ],
      "execution_count": null,
      "outputs": []
    },
    {
      "cell_type": "code",
      "metadata": {
        "id": "sP8QSOGDouPZ"
      },
      "source": [
        "voc_loss_train = {}\n",
        "batch_size = 5000\n",
        "\n",
        "for i in learning_rates:\n",
        "    model_2.apply(init_weights)\n",
        "    acc_train_all, loss_train_all, acc_test_all, loss_test_all = train(model_2, 25, batch_size, i,\n",
        "                                                                       x_train_flat, y_train, x_test_flat, y_test)\n",
        "    voc_loss_train[i] = loss_train_all"
      ],
      "execution_count": null,
      "outputs": []
    },
    {
      "cell_type": "code",
      "metadata": {
        "id": "_uw84G_DouPb"
      },
      "source": [
        "fig = plt.figure(figsize=(16, 4))\n",
        "\n",
        "for i in voc_loss_train.keys():\n",
        "    plt.plot(voc_loss_train[i], label=f'{i}')\n",
        "\n",
        "\n",
        "plt.legend()\n",
        "plt.show()"
      ],
      "execution_count": null,
      "outputs": []
    },
    {
      "cell_type": "markdown",
      "metadata": {
        "id": "rUS8D8PdouPe"
      },
      "source": [
        "## Влияние метода оптимизации градиентного спуска"
      ]
    },
    {
      "cell_type": "markdown",
      "metadata": {
        "id": "MSPLQfCrouPe"
      },
      "source": [
        "![picture](https://drive.google.com/uc?export=view&id=1wYGptX72S3sB4K21ktZzbqojHjssZ0xP)\n",
        "\n",
        "#### Momentum\n",
        "Вместо того, чтобы использовать только градиент текущего шага, мы будем накапливать импульс градиента прошлых шагов для определения направления движения. \n",
        "В связи со стохастической природой, обновления градиента происходят \"зигзагообразно\", с помощью момента мы усиливаем движение вдоль основного направления. На практике коэффициент у момента инициализируется на уровне 0,5 и постепенно увеличивается до 0,9 в течение нескольких эпох. \n",
        "  \n",
        "#### RMSProp (Root Mean Square Propogation)   \n",
        "Мы обновляяем меньше веса, которые слишком часто обновляются, и будем использовать усреднённый по истории квадрат градиента.\n",
        "\n",
        "#### Adam (Adaptive moment estimation)\n",
        "Cочетает в себе и идею накопления движения и идею более слабого обновления весов для типичных признаков"
      ]
    },
    {
      "cell_type": "code",
      "metadata": {
        "id": "kiNYQh0fouPe"
      },
      "source": [
        "optimizer = torch.optim.SGD(model_2.parameters(), lr=0.001, momentum=0.0)"
      ],
      "execution_count": null,
      "outputs": []
    },
    {
      "cell_type": "code",
      "metadata": {
        "id": "x-1WqtKJouPh"
      },
      "source": [
        "def batch_train(model, x, y):\n",
        "    y_pred = model(x)\n",
        "    loss = loss_fn(y_pred, y)\n",
        "    model.zero_grad()\n",
        "    loss.backward()\n",
        "    #    with torch.no_grad():\n",
        "    #    for param in model.parameters():\n",
        "    #        param -= learning_rate * param.grad\n",
        "    optimizer.step()\n",
        "    return(loss.item())"
      ],
      "execution_count": null,
      "outputs": []
    },
    {
      "cell_type": "code",
      "metadata": {
        "scrolled": true,
        "id": "l1nZ_qEQouPj"
      },
      "source": [
        "n_epochs = 100\n",
        "batch_size = 1000\n",
        "\n",
        "\n",
        "model_2.apply(init_weights)\n",
        "loss_train_sgd = []\n",
        "\n",
        "optimizer = torch.optim.SGD(model_2.parameters(), lr=0.001, momentum=0.0)\n",
        "\n",
        "for epoch in range(n_epochs):\n",
        "\n",
        "    permutation = torch.randperm(x_train_norm.size()[0])\n",
        "\n",
        "    for i in tqdm(range(0,x_train_norm.float().size()[0], batch_size)):\n",
        "        indices = permutation[i:i+batch_size]\n",
        "        batch_x, batch_y = x_train_norm[indices], y_train[indices]\n",
        "        batch_train(model_2, batch_x, batch_y)\n",
        "\n",
        "    y_test_pred = model_2(x_test_norm)\n",
        "    loss_train = loss_fn(y_test_pred, y_test).detach().numpy()\n",
        "    print(f'Epoch: {epoch} loss {loss_train}')\n",
        "    loss_train_sgd = np.append(loss_train_sgd, loss_train)\n",
        "\n",
        "    \n",
        "model_2.apply(init_weights)\n",
        "loss_train_sgd_moment = []\n",
        "\n",
        "optimizer = torch.optim.SGD(model_2.parameters(), lr=0.001, momentum=0.9)\n",
        "\n",
        "for epoch in range(n_epochs):\n",
        "\n",
        "    permutation = torch.randperm(x_train_norm.size()[0])\n",
        "\n",
        "    for i in tqdm(range(0,x_train_norm.float().size()[0], batch_size)):\n",
        "        indices = permutation[i:i+batch_size]\n",
        "        batch_x, batch_y = x_train_norm[indices], y_train[indices]\n",
        "        batch_train(model_2, batch_x, batch_y)\n",
        "\n",
        "    y_test_pred = model_2(x_test_norm)\n",
        "    loss_train = loss_fn(y_test_pred, y_test).detach().numpy()\n",
        "    print(f'Epoch: {epoch} loss {loss_train}')\n",
        "    loss_train_sgd_moment = np.append(loss_train_sgd_moment, loss_train)\n",
        "    \n",
        "    \n",
        "\n",
        "model_2.apply(init_weights)\n",
        "optimizer = torch.optim.Adam(model_2.parameters(), lr=0.001)\n",
        "loss_train_adam = []\n",
        "\n",
        "\n",
        "for epoch in range(n_epochs):\n",
        "\n",
        "    permutation = torch.randperm(x_train_norm.size()[0])\n",
        "\n",
        "    for i in tqdm(range(0,x_train_norm.float().size()[0], batch_size)):\n",
        "        indices = permutation[i:i+batch_size]\n",
        "        batch_x, batch_y = x_train_norm[indices], y_train[indices]\n",
        "        batch_train(model_2, batch_x, batch_y)\n",
        "\n",
        "    y_test_pred = model_2(x_test_norm)\n",
        "    loss_train = loss_fn(y_test_pred, y_test).detach().numpy()\n",
        "    print(f'Epoch: {epoch} loss {loss_train}')\n",
        "    loss_train_adam = np.append(loss_train_all, loss_train)"
      ],
      "execution_count": null,
      "outputs": []
    },
    {
      "cell_type": "code",
      "metadata": {
        "id": "CN6ZsupyouPm"
      },
      "source": [
        "fig = plt.figure(figsize=(16, 4))\n",
        "\n",
        "plt.plot(loss_train_sgd, label='SGD')\n",
        "plt.plot(loss_train_sgd_moment, label='SGD with momentum')\n",
        "plt.plot(loss_train_adam, label='Adam')\n",
        "\n",
        "plt.legend()\n",
        "plt.show()"
      ],
      "execution_count": null,
      "outputs": []
    },
    {
      "cell_type": "markdown",
      "metadata": {
        "id": "iKGry9LYouPo"
      },
      "source": [
        "# Ссылки\n",
        "- [Курс \"Deep learning на пальцах\", лекция 4](https://youtu.be/tnrbx7V9RbA)\n",
        "- [Статья: Оптимизация градиентного спуска](http://ruder.io/optimizing-gradient-descent/)\n",
        "- [Статья: Методы оптимизации нейронных сетей](https://habr.com/ru/post/318970/)"
      ]
    }
  ]
}