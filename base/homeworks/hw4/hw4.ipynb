{
  "nbformat": 4,
  "nbformat_minor": 0,
  "metadata": {
    "colab": {
      "name": "hw4.ipynb",
      "provenance": [],
      "collapsed_sections": [],
      "toc_visible": true
    },
    "kernelspec": {
      "name": "python3",
      "display_name": "Python 3"
    },
    "language_info": {
      "name": "python"
    }
  },
  "cells": [
    {
      "cell_type": "markdown",
      "metadata": {
        "id": "P8bwgqMgO7Hd"
      },
      "source": [
        "# hw4 - recommendations"
      ]
    },
    {
      "cell_type": "markdown",
      "metadata": {
        "id": "NS5a_3ILPHI8"
      },
      "source": [
        "## Реализуйте метрики\n",
        "\n",
        "А именно precision@k и recall@k.\n",
        "\n",
        "Значения метрик будем считать для k = 10."
      ]
    },
    {
      "cell_type": "code",
      "metadata": {
        "id": "YDMUoSq0Orr3"
      },
      "source": [
        ""
      ],
      "execution_count": null,
      "outputs": []
    },
    {
      "cell_type": "markdown",
      "metadata": {
        "id": "bq-OkpEGPH9i"
      },
      "source": [
        "## Content-based рекомендации"
      ]
    },
    {
      "cell_type": "markdown",
      "metadata": {
        "id": "sRNhtGWnSxid"
      },
      "source": [
        "### Подготовка тестовых данных\n",
        "\n",
        "[Качать отсюдава](https://www.kaggle.com/rounakbanik/the-movies-dataset) + вы можете использовать любой датасет с фильмами\n",
        "___\n",
        "На основе таблицы \"ratings_small\" отберите для каждого пользователя тестовую выборку фильмов (того, что он уже посмотрел).\n",
        "Предлагается взять последние 3-5 фильмов (по \"timestamp\")."
      ]
    },
    {
      "cell_type": "code",
      "metadata": {
        "id": "SHmYzk--QSEQ"
      },
      "source": [
        ""
      ],
      "execution_count": null,
      "outputs": []
    },
    {
      "cell_type": "markdown",
      "metadata": {
        "id": "wGrH17sRQRXU"
      },
      "source": [
        "### Векторное представление данных [20%]\n",
        "\n",
        "Для датасета с фильмами подготовьте векторное представление фильмов по векторам TF-IDF и по другим параметрам, например, можно взять [отсюда](https://www.datacamp.com/community/tutorials/recommender-systems-python)!"
      ]
    },
    {
      "cell_type": "code",
      "metadata": {
        "id": "gTIvgtd4REHY"
      },
      "source": [
        ""
      ],
      "execution_count": null,
      "outputs": []
    },
    {
      "cell_type": "markdown",
      "metadata": {
        "id": "_rRuff8jREmN"
      },
      "source": [
        "### Реализуйте рекомендательную систему на основе подхода кластеризации [20%]\n",
        "\n",
        "Можете выбрать любой алгоритм кластеризации, из расказанных на лекции"
      ]
    },
    {
      "cell_type": "code",
      "metadata": {
        "id": "purOXqSrRSfO"
      },
      "source": [
        ""
      ],
      "execution_count": null,
      "outputs": []
    },
    {
      "cell_type": "markdown",
      "metadata": {
        "id": "1qcsCAJt-guv"
      },
      "source": [
        "### Сделайте визуализацию классов [10%]"
      ]
    },
    {
      "cell_type": "code",
      "metadata": {
        "id": "enAK4UE2-mTX"
      },
      "source": [
        ""
      ],
      "execution_count": null,
      "outputs": []
    },
    {
      "cell_type": "markdown",
      "metadata": {
        "id": "QVQDWTb3PINA"
      },
      "source": [
        "### Сделайте рекомендацию пользователю [10%]\n",
        "\n",
        "На основе понравившихся пользователю фильмов определите в какой (какие) кластер он попал и предскажите для него k лучших фильмов"
      ]
    },
    {
      "cell_type": "code",
      "metadata": {
        "id": "oyjGWJ5wRgzl"
      },
      "source": [
        ""
      ],
      "execution_count": null,
      "outputs": []
    },
    {
      "cell_type": "markdown",
      "metadata": {
        "id": "bfJD9dzxPITc"
      },
      "source": [
        "### Оцените точность работы вашей системы"
      ]
    },
    {
      "cell_type": "code",
      "metadata": {
        "id": "WOajZ-TATn-h"
      },
      "source": [
        ""
      ],
      "execution_count": null,
      "outputs": []
    },
    {
      "cell_type": "markdown",
      "metadata": {
        "id": "LeACVABx-S1A"
      },
      "source": [
        "### Оцените применимость подхода кластеризации [5%]"
      ]
    },
    {
      "cell_type": "markdown",
      "metadata": {
        "id": "Kz5Ib8QV-Ujf"
      },
      "source": [
        "На сколько эффективен данный подход"
      ]
    },
    {
      "cell_type": "markdown",
      "metadata": {
        "id": "NBOc6r7sRsqm"
      },
      "source": [
        "### Предложите улучшения вашей системы [+10% к ДЗ]"
      ]
    },
    {
      "cell_type": "markdown",
      "metadata": {
        "id": "EE3PVjA5Ry2O"
      },
      "source": [
        "Необходимое условие для получения доп баллов:\n",
        "- Предложить и обосновать число рекомендуемых фильмов\n",
        "- Обосновать выбор долонительных параметров для кластеризации\n",
        "- Обосновать выбор алгоритма кластеризации\n",
        "- Предложить улучшения для рекомендации пользователю\n",
        "___\n",
        "или\n",
        "- Сделать все пункты задания хорошо"
      ]
    },
    {
      "cell_type": "code",
      "metadata": {
        "id": "D8fPZAg5Rsy9"
      },
      "source": [
        ""
      ],
      "execution_count": null,
      "outputs": []
    },
    {
      "cell_type": "markdown",
      "metadata": {
        "id": "76-vQCF3Uitc"
      },
      "source": [
        "### Сделайте рекомендацию для себя [+20% к ДЗ]\n",
        "\n",
        "- Добавьте в выборку свои любимые фильмы\n",
        "- Добавьте себя как пользователя и проставьте рейтинги\n",
        "- Получите рекомендации\n",
        "\n",
        "Для получения доп балла нужно посмотреть рекомендуемые фильмы.\n",
        "\n"
      ]
    },
    {
      "cell_type": "markdown",
      "metadata": {
        "id": "GlfY0z4JTo7e"
      },
      "source": [
        "## Collaborative filtering"
      ]
    },
    {
      "cell_type": "markdown",
      "metadata": {
        "id": "N35JRJjrUaYR"
      },
      "source": [
        "### Подготовка тестовых данных\n",
        "\n",
        "[Качать отсюдава](http://ocelma.net/MusicRecommendationDataset/lastfm-1K.html) + вы можете использовать любой датасет с музыкой\n",
        "___\n",
        "Прорядите данные по пользователям, чтобы вы могли работь с минимум 1000 пользователей. \n",
        "\n",
        "Предлагается:\n",
        "- Откладывать для теста данные с самым свежим временем прослушивания.\n",
        "- Отбрасывать старые данные.\n",
        "- Агрегировать прослушивания по исполнителям и рекоменовать исполнителя.\n"
      ]
    },
    {
      "cell_type": "code",
      "metadata": {
        "id": "bQWdCHltUaYY"
      },
      "source": [
        ""
      ],
      "execution_count": null,
      "outputs": []
    },
    {
      "cell_type": "markdown",
      "metadata": {
        "id": "FJ0kLDX3UaYY"
      },
      "source": [
        "### Приведите данные к матричному виду\n"
      ]
    },
    {
      "cell_type": "code",
      "metadata": {
        "id": "IsD8Qpf9UaYY"
      },
      "source": [
        ""
      ],
      "execution_count": null,
      "outputs": []
    },
    {
      "cell_type": "markdown",
      "metadata": {
        "id": "meJ0avIuUaYY"
      },
      "source": [
        "### Разложите матрицу транзакций на вектора пользователей и исполнителей [25%]\n",
        "\n",
        "Необходимо реализовать разложение градиентным методом\n",
        "\n",
        "* Рекомендуется применять [AdamW optimizer](https://pytorch.org/docs/stable/generated/torch.optim.AdamW.html)\n",
        "* Сам optimizer реализовывать не нужно"
      ]
    },
    {
      "cell_type": "code",
      "metadata": {
        "id": "-Qjnv4qmUaYY"
      },
      "source": [
        ""
      ],
      "execution_count": null,
      "outputs": []
    },
    {
      "cell_type": "markdown",
      "metadata": {
        "id": "Fh95vBZ_UaYY"
      },
      "source": [
        "### Сделайте рекомендацию пользователю [10%]\n"
      ]
    },
    {
      "cell_type": "code",
      "metadata": {
        "id": "9OhrSCcRUaYY"
      },
      "source": [
        ""
      ],
      "execution_count": null,
      "outputs": []
    },
    {
      "cell_type": "markdown",
      "metadata": {
        "id": "4_EEDzbkUaYY"
      },
      "source": [
        "### Оцените точность работы вашей системы"
      ]
    },
    {
      "cell_type": "code",
      "metadata": {
        "id": "UQP7bWcjUaYY"
      },
      "source": [
        ""
      ],
      "execution_count": null,
      "outputs": []
    }
  ]
}