{
  "nbformat": 4,
  "nbformat_minor": 0,
  "metadata": {
    "colab": {
      "name": "Seminar_10_RecSys.ipynb",
      "provenance": [],
      "collapsed_sections": [],
      "toc_visible": true
    },
    "kernelspec": {
      "name": "python3",
      "display_name": "Python 3"
    }
  },
  "cells": [
    {
      "cell_type": "markdown",
      "metadata": {
        "id": "1FrXZpxMYPdy"
      },
      "source": [
        "# Seminar 10 - RecSys"
      ]
    },
    {
      "cell_type": "markdown",
      "metadata": {
        "id": "CyEvSqQvRf5J"
      },
      "source": [
        "## Imports"
      ]
    },
    {
      "cell_type": "code",
      "metadata": {
        "id": "zWkOgFQkRAln"
      },
      "source": [
        "import random\n",
        "import pandas as pd\n",
        "import numpy as np\n",
        "\n",
        "import scipy.sparse as sparse\n",
        "from scipy.sparse.linalg import spsolve\n",
        "from sklearn.preprocessing import MinMaxScaler"
      ],
      "execution_count": null,
      "outputs": []
    },
    {
      "cell_type": "markdown",
      "metadata": {
        "id": "IyKW4l6ZGsGO"
      },
      "source": [
        "## The Movies Dataset\n",
        "[Качать отсюдава](https://www.kaggle.com/rounakbanik/the-movies-dataset)"
      ]
    },
    {
      "cell_type": "code",
      "metadata": {
        "colab": {
          "base_uri": "https://localhost:8080/"
        },
        "id": "-quN7s2TJzrE",
        "outputId": "adf988df-82d6-48fa-9064-ee4715b20c93"
      },
      "source": [
        "from google.colab import drive\n",
        "drive.mount('/content/gdrive/')"
      ],
      "execution_count": null,
      "outputs": [
        {
          "output_type": "stream",
          "name": "stdout",
          "text": [
            "Drive already mounted at /content/gdrive/; to attempt to forcibly remount, call drive.mount(\"/content/gdrive/\", force_remount=True).\n"
          ]
        }
      ]
    },
    {
      "cell_type": "code",
      "metadata": {
        "colab": {
          "base_uri": "https://localhost:8080/"
        },
        "id": "CYVznQh6JQfM",
        "outputId": "ab7bb0ec-18ba-4ce2-9edf-324b975c34e8"
      },
      "source": [
        "!ls /content/gdrive/My\\ Drive/Colab\\ Notebooks/ML/семестр1/Семинар\\ 10\\ -\\ RecSys/data"
      ],
      "execution_count": null,
      "outputs": [
        {
          "output_type": "stream",
          "name": "stdout",
          "text": [
            "archive.zip  lastfm-dataset-1K\tlastfm-dataset-1K.tar.gz  movies\n"
          ]
        }
      ]
    },
    {
      "cell_type": "code",
      "metadata": {
        "id": "tk1NLpWlG8Vm"
      },
      "source": [
        "!unzip -q /content/gdrive/My\\ Drive/Colab\\ Notebooks/ML/семестр1/Семинар\\ 10\\ -\\ RecSys/data/archive.zip \\\n",
        "              -d ./gdrive/My\\ Drive/Colab\\ Notebooks/ML/семестр1/Семинар\\ 10\\ -\\ RecSys/data/movies"
      ],
      "execution_count": null,
      "outputs": []
    },
    {
      "cell_type": "markdown",
      "metadata": {
        "id": "Ta5sYZ7eKn7p"
      },
      "source": [
        "Content:\n",
        "- movies_metadata.csv: This file contains information on ~45,000 movies featured in the Full MovieLens dataset. Features include posters, backdrops, budget, genre, revenue, release dates, languages, production countries, and companies.\n",
        "- keywords.csv: Contains the movie plot keywords for our MovieLens movies. Available in the form of a stringified JSON Object.\n",
        "- credits.csv: Consists of Cast and Crew Information for all the movies. Available in the form of a stringified JSON Object.\n",
        "- links.csv: This file contains the TMDB and IMDB IDs of all the movies featured in the Full MovieLens dataset.\n",
        "- links_small.csv: Contains the TMDB and IMDB IDs of a small subset of 9,000 movies of the Full Dataset.\n",
        "- ratings_small.csv: The subset of 100,000 ratings from 700 users on 9,000 movies.\n"
      ]
    },
    {
      "cell_type": "code",
      "metadata": {
        "colab": {
          "base_uri": "https://localhost:8080/",
          "height": 666
        },
        "id": "D0ep8BwjKiur",
        "outputId": "6e374f3e-8977-462a-e648-43567d0d8113"
      },
      "source": [
        "metadata = pd.read_csv('./gdrive/My Drive/Colab Notebooks/ML/семестр1/Семинар 10 - RecSys/data/movies/movies_metadata.csv', low_memory=False)\n",
        "\n",
        "metadata.head()"
      ],
      "execution_count": null,
      "outputs": [
        {
          "output_type": "execute_result",
          "data": {
            "text/html": [
              "<div>\n",
              "<style scoped>\n",
              "    .dataframe tbody tr th:only-of-type {\n",
              "        vertical-align: middle;\n",
              "    }\n",
              "\n",
              "    .dataframe tbody tr th {\n",
              "        vertical-align: top;\n",
              "    }\n",
              "\n",
              "    .dataframe thead th {\n",
              "        text-align: right;\n",
              "    }\n",
              "</style>\n",
              "<table border=\"1\" class=\"dataframe\">\n",
              "  <thead>\n",
              "    <tr style=\"text-align: right;\">\n",
              "      <th></th>\n",
              "      <th>adult</th>\n",
              "      <th>belongs_to_collection</th>\n",
              "      <th>budget</th>\n",
              "      <th>genres</th>\n",
              "      <th>homepage</th>\n",
              "      <th>id</th>\n",
              "      <th>imdb_id</th>\n",
              "      <th>original_language</th>\n",
              "      <th>original_title</th>\n",
              "      <th>overview</th>\n",
              "      <th>popularity</th>\n",
              "      <th>poster_path</th>\n",
              "      <th>production_companies</th>\n",
              "      <th>production_countries</th>\n",
              "      <th>release_date</th>\n",
              "      <th>revenue</th>\n",
              "      <th>runtime</th>\n",
              "      <th>spoken_languages</th>\n",
              "      <th>status</th>\n",
              "      <th>tagline</th>\n",
              "      <th>title</th>\n",
              "      <th>video</th>\n",
              "      <th>vote_average</th>\n",
              "      <th>vote_count</th>\n",
              "    </tr>\n",
              "  </thead>\n",
              "  <tbody>\n",
              "    <tr>\n",
              "      <th>0</th>\n",
              "      <td>False</td>\n",
              "      <td>{'id': 10194, 'name': 'Toy Story Collection', ...</td>\n",
              "      <td>30000000</td>\n",
              "      <td>[{'id': 16, 'name': 'Animation'}, {'id': 35, '...</td>\n",
              "      <td>http://toystory.disney.com/toy-story</td>\n",
              "      <td>862</td>\n",
              "      <td>tt0114709</td>\n",
              "      <td>en</td>\n",
              "      <td>Toy Story</td>\n",
              "      <td>Led by Woody, Andy's toys live happily in his ...</td>\n",
              "      <td>21.946943</td>\n",
              "      <td>/rhIRbceoE9lR4veEXuwCC2wARtG.jpg</td>\n",
              "      <td>[{'name': 'Pixar Animation Studios', 'id': 3}]</td>\n",
              "      <td>[{'iso_3166_1': 'US', 'name': 'United States o...</td>\n",
              "      <td>1995-10-30</td>\n",
              "      <td>373554033.0</td>\n",
              "      <td>81.0</td>\n",
              "      <td>[{'iso_639_1': 'en', 'name': 'English'}]</td>\n",
              "      <td>Released</td>\n",
              "      <td>NaN</td>\n",
              "      <td>Toy Story</td>\n",
              "      <td>False</td>\n",
              "      <td>7.7</td>\n",
              "      <td>5415.0</td>\n",
              "    </tr>\n",
              "    <tr>\n",
              "      <th>1</th>\n",
              "      <td>False</td>\n",
              "      <td>NaN</td>\n",
              "      <td>65000000</td>\n",
              "      <td>[{'id': 12, 'name': 'Adventure'}, {'id': 14, '...</td>\n",
              "      <td>NaN</td>\n",
              "      <td>8844</td>\n",
              "      <td>tt0113497</td>\n",
              "      <td>en</td>\n",
              "      <td>Jumanji</td>\n",
              "      <td>When siblings Judy and Peter discover an encha...</td>\n",
              "      <td>17.015539</td>\n",
              "      <td>/vzmL6fP7aPKNKPRTFnZmiUfciyV.jpg</td>\n",
              "      <td>[{'name': 'TriStar Pictures', 'id': 559}, {'na...</td>\n",
              "      <td>[{'iso_3166_1': 'US', 'name': 'United States o...</td>\n",
              "      <td>1995-12-15</td>\n",
              "      <td>262797249.0</td>\n",
              "      <td>104.0</td>\n",
              "      <td>[{'iso_639_1': 'en', 'name': 'English'}, {'iso...</td>\n",
              "      <td>Released</td>\n",
              "      <td>Roll the dice and unleash the excitement!</td>\n",
              "      <td>Jumanji</td>\n",
              "      <td>False</td>\n",
              "      <td>6.9</td>\n",
              "      <td>2413.0</td>\n",
              "    </tr>\n",
              "    <tr>\n",
              "      <th>2</th>\n",
              "      <td>False</td>\n",
              "      <td>{'id': 119050, 'name': 'Grumpy Old Men Collect...</td>\n",
              "      <td>0</td>\n",
              "      <td>[{'id': 10749, 'name': 'Romance'}, {'id': 35, ...</td>\n",
              "      <td>NaN</td>\n",
              "      <td>15602</td>\n",
              "      <td>tt0113228</td>\n",
              "      <td>en</td>\n",
              "      <td>Grumpier Old Men</td>\n",
              "      <td>A family wedding reignites the ancient feud be...</td>\n",
              "      <td>11.7129</td>\n",
              "      <td>/6ksm1sjKMFLbO7UY2i6G1ju9SML.jpg</td>\n",
              "      <td>[{'name': 'Warner Bros.', 'id': 6194}, {'name'...</td>\n",
              "      <td>[{'iso_3166_1': 'US', 'name': 'United States o...</td>\n",
              "      <td>1995-12-22</td>\n",
              "      <td>0.0</td>\n",
              "      <td>101.0</td>\n",
              "      <td>[{'iso_639_1': 'en', 'name': 'English'}]</td>\n",
              "      <td>Released</td>\n",
              "      <td>Still Yelling. Still Fighting. Still Ready for...</td>\n",
              "      <td>Grumpier Old Men</td>\n",
              "      <td>False</td>\n",
              "      <td>6.5</td>\n",
              "      <td>92.0</td>\n",
              "    </tr>\n",
              "    <tr>\n",
              "      <th>3</th>\n",
              "      <td>False</td>\n",
              "      <td>NaN</td>\n",
              "      <td>16000000</td>\n",
              "      <td>[{'id': 35, 'name': 'Comedy'}, {'id': 18, 'nam...</td>\n",
              "      <td>NaN</td>\n",
              "      <td>31357</td>\n",
              "      <td>tt0114885</td>\n",
              "      <td>en</td>\n",
              "      <td>Waiting to Exhale</td>\n",
              "      <td>Cheated on, mistreated and stepped on, the wom...</td>\n",
              "      <td>3.859495</td>\n",
              "      <td>/16XOMpEaLWkrcPqSQqhTmeJuqQl.jpg</td>\n",
              "      <td>[{'name': 'Twentieth Century Fox Film Corporat...</td>\n",
              "      <td>[{'iso_3166_1': 'US', 'name': 'United States o...</td>\n",
              "      <td>1995-12-22</td>\n",
              "      <td>81452156.0</td>\n",
              "      <td>127.0</td>\n",
              "      <td>[{'iso_639_1': 'en', 'name': 'English'}]</td>\n",
              "      <td>Released</td>\n",
              "      <td>Friends are the people who let you be yourself...</td>\n",
              "      <td>Waiting to Exhale</td>\n",
              "      <td>False</td>\n",
              "      <td>6.1</td>\n",
              "      <td>34.0</td>\n",
              "    </tr>\n",
              "    <tr>\n",
              "      <th>4</th>\n",
              "      <td>False</td>\n",
              "      <td>{'id': 96871, 'name': 'Father of the Bride Col...</td>\n",
              "      <td>0</td>\n",
              "      <td>[{'id': 35, 'name': 'Comedy'}]</td>\n",
              "      <td>NaN</td>\n",
              "      <td>11862</td>\n",
              "      <td>tt0113041</td>\n",
              "      <td>en</td>\n",
              "      <td>Father of the Bride Part II</td>\n",
              "      <td>Just when George Banks has recovered from his ...</td>\n",
              "      <td>8.387519</td>\n",
              "      <td>/e64sOI48hQXyru7naBFyssKFxVd.jpg</td>\n",
              "      <td>[{'name': 'Sandollar Productions', 'id': 5842}...</td>\n",
              "      <td>[{'iso_3166_1': 'US', 'name': 'United States o...</td>\n",
              "      <td>1995-02-10</td>\n",
              "      <td>76578911.0</td>\n",
              "      <td>106.0</td>\n",
              "      <td>[{'iso_639_1': 'en', 'name': 'English'}]</td>\n",
              "      <td>Released</td>\n",
              "      <td>Just When His World Is Back To Normal... He's ...</td>\n",
              "      <td>Father of the Bride Part II</td>\n",
              "      <td>False</td>\n",
              "      <td>5.7</td>\n",
              "      <td>173.0</td>\n",
              "    </tr>\n",
              "  </tbody>\n",
              "</table>\n",
              "</div>"
            ],
            "text/plain": [
              "   adult  ... vote_count\n",
              "0  False  ...     5415.0\n",
              "1  False  ...     2413.0\n",
              "2  False  ...       92.0\n",
              "3  False  ...       34.0\n",
              "4  False  ...      173.0\n",
              "\n",
              "[5 rows x 24 columns]"
            ]
          },
          "metadata": {},
          "execution_count": 2
        }
      ]
    },
    {
      "cell_type": "code",
      "metadata": {
        "colab": {
          "base_uri": "https://localhost:8080/"
        },
        "id": "LWaODVtgZske",
        "outputId": "9516c2fb-a9e0-4017-89d2-9c2dff4e5e47"
      },
      "source": [
        "metadata.shape"
      ],
      "execution_count": null,
      "outputs": [
        {
          "output_type": "execute_result",
          "data": {
            "text/plain": [
              "(45466, 24)"
            ]
          },
          "metadata": {},
          "execution_count": 8
        }
      ]
    },
    {
      "cell_type": "code",
      "metadata": {
        "colab": {
          "base_uri": "https://localhost:8080/",
          "height": 204
        },
        "id": "FwrtU7LmKixj",
        "outputId": "90d0eeb3-cb0e-45dc-c3d8-0bdadaad3773"
      },
      "source": [
        "rating = pd.read_csv('./gdrive/My Drive/Colab Notebooks/ML/семестр1/Семинар 10 - RecSys/data/movies/ratings_small.csv', low_memory=False)\n",
        "\n",
        "rating.head()"
      ],
      "execution_count": null,
      "outputs": [
        {
          "output_type": "execute_result",
          "data": {
            "text/html": [
              "<div>\n",
              "<style scoped>\n",
              "    .dataframe tbody tr th:only-of-type {\n",
              "        vertical-align: middle;\n",
              "    }\n",
              "\n",
              "    .dataframe tbody tr th {\n",
              "        vertical-align: top;\n",
              "    }\n",
              "\n",
              "    .dataframe thead th {\n",
              "        text-align: right;\n",
              "    }\n",
              "</style>\n",
              "<table border=\"1\" class=\"dataframe\">\n",
              "  <thead>\n",
              "    <tr style=\"text-align: right;\">\n",
              "      <th></th>\n",
              "      <th>userId</th>\n",
              "      <th>movieId</th>\n",
              "      <th>rating</th>\n",
              "      <th>timestamp</th>\n",
              "    </tr>\n",
              "  </thead>\n",
              "  <tbody>\n",
              "    <tr>\n",
              "      <th>0</th>\n",
              "      <td>1</td>\n",
              "      <td>31</td>\n",
              "      <td>2.5</td>\n",
              "      <td>1260759144</td>\n",
              "    </tr>\n",
              "    <tr>\n",
              "      <th>1</th>\n",
              "      <td>1</td>\n",
              "      <td>1029</td>\n",
              "      <td>3.0</td>\n",
              "      <td>1260759179</td>\n",
              "    </tr>\n",
              "    <tr>\n",
              "      <th>2</th>\n",
              "      <td>1</td>\n",
              "      <td>1061</td>\n",
              "      <td>3.0</td>\n",
              "      <td>1260759182</td>\n",
              "    </tr>\n",
              "    <tr>\n",
              "      <th>3</th>\n",
              "      <td>1</td>\n",
              "      <td>1129</td>\n",
              "      <td>2.0</td>\n",
              "      <td>1260759185</td>\n",
              "    </tr>\n",
              "    <tr>\n",
              "      <th>4</th>\n",
              "      <td>1</td>\n",
              "      <td>1172</td>\n",
              "      <td>4.0</td>\n",
              "      <td>1260759205</td>\n",
              "    </tr>\n",
              "  </tbody>\n",
              "</table>\n",
              "</div>"
            ],
            "text/plain": [
              "   userId  movieId  rating   timestamp\n",
              "0       1       31     2.5  1260759144\n",
              "1       1     1029     3.0  1260759179\n",
              "2       1     1061     3.0  1260759182\n",
              "3       1     1129     2.0  1260759185\n",
              "4       1     1172     4.0  1260759205"
            ]
          },
          "metadata": {},
          "execution_count": 127
        }
      ]
    },
    {
      "cell_type": "markdown",
      "metadata": {
        "id": "OyM2nL_ZaGJb"
      },
      "source": [
        "## Неперсонализированная рекомендация\n",
        "\n",
        "Сделаем свой аналог [IMDb rating](https://www.imdb.com/chart/top?ref_=nb_mv_3_chttp)"
      ]
    },
    {
      "cell_type": "markdown",
      "metadata": {
        "id": "2IrL4QjZdfCz"
      },
      "source": [
        "[Про взвешенный рейтинг](https://www.quora.com/How-does-IMDbs-rating-system-work)"
      ]
    },
    {
      "cell_type": "markdown",
      "metadata": {
        "id": "FaDr_4gfaXya"
      },
      "source": [
        "$$WeightedRating=(\\frac{v}{v+m}⋅R)+(\\frac{m}{v+m}⋅C)$$\n",
        "\n",
        "где:\n",
        "- v (votes) число оценок фильма;\n",
        "\n",
        "- m (minimum) минимальное число оценок для попадания в топ;\n",
        "\n",
        "- R (rating) средний рейтинг фильма;\n",
        "\n",
        "- C (across) средний рейтинг по всем фильмам."
      ]
    },
    {
      "cell_type": "code",
      "metadata": {
        "id": "NpR_W5XraNuB",
        "colab": {
          "base_uri": "https://localhost:8080/"
        },
        "outputId": "387576ae-39ba-4b6e-e019-12c4f28a8958"
      },
      "source": [
        "# Calculate mean of vote average column\n",
        "C = \n",
        "print(C)"
      ],
      "execution_count": null,
      "outputs": [
        {
          "output_type": "stream",
          "name": "stdout",
          "text": [
            "5.618207215133889\n"
          ]
        }
      ]
    },
    {
      "cell_type": "code",
      "metadata": {
        "id": "j3Xmrt97aNzp",
        "colab": {
          "base_uri": "https://localhost:8080/"
        },
        "outputId": "caeeb2a9-40fb-4229-e4b8-1e45dccc3972"
      },
      "source": [
        "# Calculate the minimum number of votes required to be in the chart, m\n",
        "m = \n",
        "print(m)"
      ],
      "execution_count": null,
      "outputs": [
        {
          "output_type": "stream",
          "name": "stdout",
          "text": [
            "160.0\n"
          ]
        }
      ]
    },
    {
      "cell_type": "code",
      "metadata": {
        "id": "gtcuBhkRaN1c",
        "colab": {
          "base_uri": "https://localhost:8080/"
        },
        "outputId": "57e34c1f-afa8-485c-abfe-39a97bd3cec0"
      },
      "source": [
        "# Filter out all qualified movies into a new DataFrame\n",
        "q_movies = \n",
        "q_movies.shape"
      ],
      "execution_count": null,
      "outputs": [
        {
          "output_type": "execute_result",
          "data": {
            "text/plain": [
              "(4555, 24)"
            ]
          },
          "metadata": {},
          "execution_count": 6
        }
      ]
    },
    {
      "cell_type": "code",
      "metadata": {
        "id": "w3TYs-0naN4Y"
      },
      "source": [
        "def weighted_rating(x, m=m, C=C):\n",
        "    v = x['vote_count']\n",
        "    R = x['vote_average']\n",
        "    \n",
        "    return "
      ],
      "execution_count": null,
      "outputs": []
    },
    {
      "cell_type": "code",
      "metadata": {
        "id": "2xVmmV5xdMBE"
      },
      "source": [
        "# Define a new feature 'score' and calculate its value with `weighted_rating()`\n",
        "q_movies['score'] = q_movies.apply(weighted_rating, axis=1)"
      ],
      "execution_count": null,
      "outputs": []
    },
    {
      "cell_type": "code",
      "metadata": {
        "colab": {
          "base_uri": "https://localhost:8080/",
          "height": 669
        },
        "id": "YXq-v4f9dMEX",
        "outputId": "e495c4c0-fc8a-4e5e-9c94-084b7d621b8b"
      },
      "source": [
        "#Sort movies based on score calculated above\n",
        "q_movies = q_movies.sort_values('score', ascending=False)\n",
        "\n",
        "#Print the top 15 movies\n",
        "q_movies[['title', 'vote_count', 'vote_average', 'score']].head(20)"
      ],
      "execution_count": null,
      "outputs": [
        {
          "output_type": "execute_result",
          "data": {
            "text/html": [
              "<div>\n",
              "<style scoped>\n",
              "    .dataframe tbody tr th:only-of-type {\n",
              "        vertical-align: middle;\n",
              "    }\n",
              "\n",
              "    .dataframe tbody tr th {\n",
              "        vertical-align: top;\n",
              "    }\n",
              "\n",
              "    .dataframe thead th {\n",
              "        text-align: right;\n",
              "    }\n",
              "</style>\n",
              "<table border=\"1\" class=\"dataframe\">\n",
              "  <thead>\n",
              "    <tr style=\"text-align: right;\">\n",
              "      <th></th>\n",
              "      <th>title</th>\n",
              "      <th>vote_count</th>\n",
              "      <th>vote_average</th>\n",
              "      <th>score</th>\n",
              "    </tr>\n",
              "  </thead>\n",
              "  <tbody>\n",
              "    <tr>\n",
              "      <th>314</th>\n",
              "      <td>The Shawshank Redemption</td>\n",
              "      <td>8358.0</td>\n",
              "      <td>8.5</td>\n",
              "      <td>8.445869</td>\n",
              "    </tr>\n",
              "    <tr>\n",
              "      <th>834</th>\n",
              "      <td>The Godfather</td>\n",
              "      <td>6024.0</td>\n",
              "      <td>8.5</td>\n",
              "      <td>8.425439</td>\n",
              "    </tr>\n",
              "    <tr>\n",
              "      <th>10309</th>\n",
              "      <td>Dilwale Dulhania Le Jayenge</td>\n",
              "      <td>661.0</td>\n",
              "      <td>9.1</td>\n",
              "      <td>8.421453</td>\n",
              "    </tr>\n",
              "    <tr>\n",
              "      <th>12481</th>\n",
              "      <td>The Dark Knight</td>\n",
              "      <td>12269.0</td>\n",
              "      <td>8.3</td>\n",
              "      <td>8.265477</td>\n",
              "    </tr>\n",
              "    <tr>\n",
              "      <th>2843</th>\n",
              "      <td>Fight Club</td>\n",
              "      <td>9678.0</td>\n",
              "      <td>8.3</td>\n",
              "      <td>8.256385</td>\n",
              "    </tr>\n",
              "    <tr>\n",
              "      <th>292</th>\n",
              "      <td>Pulp Fiction</td>\n",
              "      <td>8670.0</td>\n",
              "      <td>8.3</td>\n",
              "      <td>8.251406</td>\n",
              "    </tr>\n",
              "    <tr>\n",
              "      <th>522</th>\n",
              "      <td>Schindler's List</td>\n",
              "      <td>4436.0</td>\n",
              "      <td>8.3</td>\n",
              "      <td>8.206639</td>\n",
              "    </tr>\n",
              "    <tr>\n",
              "      <th>23673</th>\n",
              "      <td>Whiplash</td>\n",
              "      <td>4376.0</td>\n",
              "      <td>8.3</td>\n",
              "      <td>8.205404</td>\n",
              "    </tr>\n",
              "    <tr>\n",
              "      <th>5481</th>\n",
              "      <td>Spirited Away</td>\n",
              "      <td>3968.0</td>\n",
              "      <td>8.3</td>\n",
              "      <td>8.196055</td>\n",
              "    </tr>\n",
              "    <tr>\n",
              "      <th>2211</th>\n",
              "      <td>Life Is Beautiful</td>\n",
              "      <td>3643.0</td>\n",
              "      <td>8.3</td>\n",
              "      <td>8.187171</td>\n",
              "    </tr>\n",
              "    <tr>\n",
              "      <th>1178</th>\n",
              "      <td>The Godfather: Part II</td>\n",
              "      <td>3418.0</td>\n",
              "      <td>8.3</td>\n",
              "      <td>8.180076</td>\n",
              "    </tr>\n",
              "    <tr>\n",
              "      <th>1152</th>\n",
              "      <td>One Flew Over the Cuckoo's Nest</td>\n",
              "      <td>3001.0</td>\n",
              "      <td>8.3</td>\n",
              "      <td>8.164256</td>\n",
              "    </tr>\n",
              "    <tr>\n",
              "      <th>351</th>\n",
              "      <td>Forrest Gump</td>\n",
              "      <td>8147.0</td>\n",
              "      <td>8.2</td>\n",
              "      <td>8.150272</td>\n",
              "    </tr>\n",
              "    <tr>\n",
              "      <th>1154</th>\n",
              "      <td>The Empire Strikes Back</td>\n",
              "      <td>5998.0</td>\n",
              "      <td>8.2</td>\n",
              "      <td>8.132919</td>\n",
              "    </tr>\n",
              "    <tr>\n",
              "      <th>1176</th>\n",
              "      <td>Psycho</td>\n",
              "      <td>2405.0</td>\n",
              "      <td>8.3</td>\n",
              "      <td>8.132715</td>\n",
              "    </tr>\n",
              "    <tr>\n",
              "      <th>18465</th>\n",
              "      <td>The Intouchables</td>\n",
              "      <td>5410.0</td>\n",
              "      <td>8.2</td>\n",
              "      <td>8.125837</td>\n",
              "    </tr>\n",
              "    <tr>\n",
              "      <th>40251</th>\n",
              "      <td>Your Name.</td>\n",
              "      <td>1030.0</td>\n",
              "      <td>8.5</td>\n",
              "      <td>8.112532</td>\n",
              "    </tr>\n",
              "    <tr>\n",
              "      <th>289</th>\n",
              "      <td>Leon: The Professional</td>\n",
              "      <td>4293.0</td>\n",
              "      <td>8.2</td>\n",
              "      <td>8.107234</td>\n",
              "    </tr>\n",
              "    <tr>\n",
              "      <th>3030</th>\n",
              "      <td>The Green Mile</td>\n",
              "      <td>4166.0</td>\n",
              "      <td>8.2</td>\n",
              "      <td>8.104511</td>\n",
              "    </tr>\n",
              "    <tr>\n",
              "      <th>1170</th>\n",
              "      <td>GoodFellas</td>\n",
              "      <td>3211.0</td>\n",
              "      <td>8.2</td>\n",
              "      <td>8.077459</td>\n",
              "    </tr>\n",
              "  </tbody>\n",
              "</table>\n",
              "</div>"
            ],
            "text/plain": [
              "                                 title  vote_count  vote_average     score\n",
              "314           The Shawshank Redemption      8358.0           8.5  8.445869\n",
              "834                      The Godfather      6024.0           8.5  8.425439\n",
              "10309      Dilwale Dulhania Le Jayenge       661.0           9.1  8.421453\n",
              "12481                  The Dark Knight     12269.0           8.3  8.265477\n",
              "2843                        Fight Club      9678.0           8.3  8.256385\n",
              "292                       Pulp Fiction      8670.0           8.3  8.251406\n",
              "522                   Schindler's List      4436.0           8.3  8.206639\n",
              "23673                         Whiplash      4376.0           8.3  8.205404\n",
              "5481                     Spirited Away      3968.0           8.3  8.196055\n",
              "2211                 Life Is Beautiful      3643.0           8.3  8.187171\n",
              "1178            The Godfather: Part II      3418.0           8.3  8.180076\n",
              "1152   One Flew Over the Cuckoo's Nest      3001.0           8.3  8.164256\n",
              "351                       Forrest Gump      8147.0           8.2  8.150272\n",
              "1154           The Empire Strikes Back      5998.0           8.2  8.132919\n",
              "1176                            Psycho      2405.0           8.3  8.132715\n",
              "18465                 The Intouchables      5410.0           8.2  8.125837\n",
              "40251                       Your Name.      1030.0           8.5  8.112532\n",
              "289             Leon: The Professional      4293.0           8.2  8.107234\n",
              "3030                    The Green Mile      4166.0           8.2  8.104511\n",
              "1170                        GoodFellas      3211.0           8.2  8.077459"
            ]
          },
          "metadata": {},
          "execution_count": 23
        }
      ]
    },
    {
      "cell_type": "markdown",
      "metadata": {
        "id": "adwAcWcCepay"
      },
      "source": [
        "Получилось достаточно близко к оригинальному топу.\n",
        "\n",
        "\n",
        "О чем это говорит?"
      ]
    },
    {
      "cell_type": "markdown",
      "metadata": {
        "id": "bRm_qTeZaQ9g"
      },
      "source": [
        "## Content-based рекомендации"
      ]
    },
    {
      "cell_type": "markdown",
      "metadata": {
        "id": "ZO9XVg_TfQZn"
      },
      "source": [
        "Сделаем рекомендательную систему на основе описания фильмов"
      ]
    },
    {
      "cell_type": "code",
      "metadata": {
        "id": "71O2_hNfaYxs",
        "colab": {
          "base_uri": "https://localhost:8080/"
        },
        "outputId": "6e27d928-b039-4427-a5af-b164cdd64531"
      },
      "source": [
        "# Print plot overviews of the first 5 movies.\n",
        "metadata['overview'].head()"
      ],
      "execution_count": null,
      "outputs": [
        {
          "output_type": "execute_result",
          "data": {
            "text/plain": [
              "0    Led by Woody, Andy's toys live happily in his ...\n",
              "1    When siblings Judy and Peter discover an encha...\n",
              "2    A family wedding reignites the ancient feud be...\n",
              "3    Cheated on, mistreated and stepped on, the wom...\n",
              "4    Just when George Banks has recovered from his ...\n",
              "Name: overview, dtype: object"
            ]
          },
          "metadata": {},
          "execution_count": 3
        }
      ]
    },
    {
      "cell_type": "code",
      "metadata": {
        "id": "5_sT3J7s8vsU"
      },
      "source": [
        "firast_n =  metadata.copy()[:30000]"
      ],
      "execution_count": null,
      "outputs": []
    },
    {
      "cell_type": "markdown",
      "metadata": {
        "id": "friwgT9Yf1Ta"
      },
      "source": [
        "Что делать если мы не разбираемся в NLP?"
      ]
    },
    {
      "cell_type": "markdown",
      "metadata": {
        "id": "BbqIl1JRh1wx"
      },
      "source": [
        "### Найдем векторное представление данных"
      ]
    },
    {
      "cell_type": "markdown",
      "metadata": {
        "id": "2ad2gTGTf9sa"
      },
      "source": [
        "Просто посмотрим на вхождение слов в описание каждого из фильмов\n",
        "Оценивать сходство фильмов будем с помощью [TF-IDF (Term Frequency-Inverse Document Frequency)](https://ru.wikipedia.org/wiki/TF-IDF) векторов"
      ]
    },
    {
      "cell_type": "code",
      "metadata": {
        "id": "sQ6ZEED8aY0j"
      },
      "source": [
        "from sklearn.feature_extraction.text import TfidfVectorizer\n",
        "\n",
        "#Define a TF-IDF Vectorizer Object. Remove all english stop words such as 'the', 'a'\n",
        "tfidf = TfidfVectorizer(stop_words='english', max_features=5000)"
      ],
      "execution_count": null,
      "outputs": []
    },
    {
      "cell_type": "code",
      "metadata": {
        "id": "hfAuB8s7aY3R"
      },
      "source": [
        "#Replace NaN with an empty string\n",
        "firast_n['overview'] = firast_n['overview'].fillna('')"
      ],
      "execution_count": null,
      "outputs": []
    },
    {
      "cell_type": "code",
      "metadata": {
        "id": "t4TZR_3TaY6B",
        "colab": {
          "base_uri": "https://localhost:8080/"
        },
        "outputId": "39385d1f-20a7-4e9e-96d9-cb9eaadc300c"
      },
      "source": [
        "#Construct the required TF-IDF matrix by fitting and transforming the data\n",
        "tfidf_matrix = tfidf.fit_transform(firast_n['overview'])\n",
        "\n",
        "#Output the shape of tfidf_matrix\n",
        "tfidf_matrix.shape"
      ],
      "execution_count": null,
      "outputs": [
        {
          "output_type": "execute_result",
          "data": {
            "text/plain": [
              "(30000, 5000)"
            ]
          },
          "metadata": {},
          "execution_count": 7
        }
      ]
    },
    {
      "cell_type": "code",
      "metadata": {
        "id": "NsrTyaVRp0pX"
      },
      "source": [
        "#Array mapping from feature integer indices to feature name.\n",
        "tfidf.get_feature_names()[500:510]"
      ],
      "execution_count": null,
      "outputs": []
    },
    {
      "cell_type": "markdown",
      "metadata": {
        "id": "efAikRaJh7xn"
      },
      "source": [
        "### Оценим схожесть полученных векторов"
      ]
    },
    {
      "cell_type": "markdown",
      "metadata": {
        "id": "nVi08d_VrRYv"
      },
      "source": [
        "Схожесть будем измерять по косинусной метрике\n",
        "\n",
        "![](https://drive.google.com/uc?export=view&id=1jePvlnj5s0S7LTqWn6_p-eU5XUCfKgTq)"
      ]
    },
    {
      "cell_type": "code",
      "metadata": {
        "id": "nXAEc5bJED3w"
      },
      "source": [
        "# Compute the cosine similarity matrix\n",
        "cosine_sim = \n"
      ],
      "execution_count": null,
      "outputs": []
    },
    {
      "cell_type": "code",
      "metadata": {
        "colab": {
          "base_uri": "https://localhost:8080/"
        },
        "id": "hTpEusdap0u8",
        "outputId": "7b7bebc2-0933-4f5a-fcc6-9d6858f378ab"
      },
      "source": [
        "cosine_sim.shape"
      ],
      "execution_count": null,
      "outputs": [
        {
          "output_type": "execute_result",
          "data": {
            "text/plain": [
              "(30000, 30000)"
            ]
          },
          "metadata": {},
          "execution_count": 10
        }
      ]
    },
    {
      "cell_type": "code",
      "metadata": {
        "id": "wnAxXu2ksAgL"
      },
      "source": [
        "print(cosine_sim[0])"
      ],
      "execution_count": null,
      "outputs": []
    },
    {
      "cell_type": "code",
      "metadata": {
        "id": "zjDda49WsAiw"
      },
      "source": [
        "#Construct a reverse map of indices and movie titles\n",
        "indices = pd.Series(firast_n.index, index=firast_n['title']).drop_duplicates()"
      ],
      "execution_count": null,
      "outputs": []
    },
    {
      "cell_type": "code",
      "metadata": {
        "id": "7PbOJNNEzs-s"
      },
      "source": [
        "indices"
      ],
      "execution_count": null,
      "outputs": []
    },
    {
      "cell_type": "code",
      "metadata": {
        "id": "FObrL2HvsAoK"
      },
      "source": [
        "# Function that takes in movie title as input and outputs most similar movies\n",
        "\n",
        "def get_recommendations(title, cosine_sim=cosine_sim):\n",
        "    # Get the index of the movie that matches the title\n",
        "    idx = \n",
        "\n",
        "    # Get the pairwsie similarity scores of all movies with that movie\n",
        "    sim_scores = \n",
        "\n",
        "    # Sort the movies based on the similarity scores\n",
        "    sim_scores = sorted(sim_scores, key=lambda x: x[1], reverse=True)\n",
        "\n",
        "    # Get the scores of the 10 most similar movies\n",
        "    sim_scores = sim_scores[1:11]\n",
        "\n",
        "    # Get the movie indices\n",
        "    movie_indices = [i[0] for i in sim_scores]\n",
        "\n",
        "    # Return the top 10 most similar movies\n",
        "    return metadata['title'].iloc[movie_indices]"
      ],
      "execution_count": null,
      "outputs": []
    },
    {
      "cell_type": "code",
      "metadata": {
        "id": "2P3Hf8CPsAqw"
      },
      "source": [
        "get_recommendations('The Dark Knight Rises')"
      ],
      "execution_count": null,
      "outputs": []
    },
    {
      "cell_type": "markdown",
      "metadata": {
        "id": "pOj6WH4RhtWl"
      },
      "source": [
        " Как учесть все предпочтения?"
      ]
    },
    {
      "cell_type": "markdown",
      "metadata": {
        "id": "dfOJHakwdOV5"
      },
      "source": [
        "### Сделеаем рекомендацию для пользователя"
      ]
    },
    {
      "cell_type": "code",
      "metadata": {
        "colab": {
          "base_uri": "https://localhost:8080/",
          "height": 419
        },
        "id": "ZH4TYQUddPJc",
        "outputId": "e93c56c7-d483-416f-f19f-b41d0f1aa110"
      },
      "source": [
        "rating = rating.drop(['timestamp'], axis=1)\n",
        "rating"
      ],
      "execution_count": null,
      "outputs": [
        {
          "output_type": "execute_result",
          "data": {
            "text/html": [
              "<div>\n",
              "<style scoped>\n",
              "    .dataframe tbody tr th:only-of-type {\n",
              "        vertical-align: middle;\n",
              "    }\n",
              "\n",
              "    .dataframe tbody tr th {\n",
              "        vertical-align: top;\n",
              "    }\n",
              "\n",
              "    .dataframe thead th {\n",
              "        text-align: right;\n",
              "    }\n",
              "</style>\n",
              "<table border=\"1\" class=\"dataframe\">\n",
              "  <thead>\n",
              "    <tr style=\"text-align: right;\">\n",
              "      <th></th>\n",
              "      <th>userId</th>\n",
              "      <th>movieId</th>\n",
              "      <th>rating</th>\n",
              "    </tr>\n",
              "  </thead>\n",
              "  <tbody>\n",
              "    <tr>\n",
              "      <th>0</th>\n",
              "      <td>1</td>\n",
              "      <td>31</td>\n",
              "      <td>2.5</td>\n",
              "    </tr>\n",
              "    <tr>\n",
              "      <th>1</th>\n",
              "      <td>1</td>\n",
              "      <td>1029</td>\n",
              "      <td>3.0</td>\n",
              "    </tr>\n",
              "    <tr>\n",
              "      <th>2</th>\n",
              "      <td>1</td>\n",
              "      <td>1061</td>\n",
              "      <td>3.0</td>\n",
              "    </tr>\n",
              "    <tr>\n",
              "      <th>3</th>\n",
              "      <td>1</td>\n",
              "      <td>1129</td>\n",
              "      <td>2.0</td>\n",
              "    </tr>\n",
              "    <tr>\n",
              "      <th>4</th>\n",
              "      <td>1</td>\n",
              "      <td>1172</td>\n",
              "      <td>4.0</td>\n",
              "    </tr>\n",
              "    <tr>\n",
              "      <th>...</th>\n",
              "      <td>...</td>\n",
              "      <td>...</td>\n",
              "      <td>...</td>\n",
              "    </tr>\n",
              "    <tr>\n",
              "      <th>99999</th>\n",
              "      <td>671</td>\n",
              "      <td>6268</td>\n",
              "      <td>2.5</td>\n",
              "    </tr>\n",
              "    <tr>\n",
              "      <th>100000</th>\n",
              "      <td>671</td>\n",
              "      <td>6269</td>\n",
              "      <td>4.0</td>\n",
              "    </tr>\n",
              "    <tr>\n",
              "      <th>100001</th>\n",
              "      <td>671</td>\n",
              "      <td>6365</td>\n",
              "      <td>4.0</td>\n",
              "    </tr>\n",
              "    <tr>\n",
              "      <th>100002</th>\n",
              "      <td>671</td>\n",
              "      <td>6385</td>\n",
              "      <td>2.5</td>\n",
              "    </tr>\n",
              "    <tr>\n",
              "      <th>100003</th>\n",
              "      <td>671</td>\n",
              "      <td>6565</td>\n",
              "      <td>3.5</td>\n",
              "    </tr>\n",
              "  </tbody>\n",
              "</table>\n",
              "<p>100004 rows × 3 columns</p>\n",
              "</div>"
            ],
            "text/plain": [
              "        userId  movieId  rating\n",
              "0            1       31     2.5\n",
              "1            1     1029     3.0\n",
              "2            1     1061     3.0\n",
              "3            1     1129     2.0\n",
              "4            1     1172     4.0\n",
              "...        ...      ...     ...\n",
              "99999      671     6268     2.5\n",
              "100000     671     6269     4.0\n",
              "100001     671     6365     4.0\n",
              "100002     671     6385     2.5\n",
              "100003     671     6565     3.5\n",
              "\n",
              "[100004 rows x 3 columns]"
            ]
          },
          "metadata": {},
          "execution_count": 135
        }
      ]
    },
    {
      "cell_type": "code",
      "metadata": {
        "id": "25pGvb_ddaD8"
      },
      "source": [
        "user_rating = \n",
        "user_rating"
      ],
      "execution_count": null,
      "outputs": []
    },
    {
      "cell_type": "code",
      "metadata": {
        "id": "v5hQO0MSgw29"
      },
      "source": [
        "user_rating[\"movieId\"].values[0]"
      ],
      "execution_count": null,
      "outputs": []
    },
    {
      "cell_type": "code",
      "metadata": {
        "id": "hwu3HgbchGh4"
      },
      "source": [
        "firast_n[\"title\"].values[1172]"
      ],
      "execution_count": null,
      "outputs": []
    },
    {
      "cell_type": "code",
      "metadata": {
        "id": "FE4aq4vShNYN"
      },
      "source": [
        "indices[]"
      ],
      "execution_count": null,
      "outputs": []
    },
    {
      "cell_type": "code",
      "metadata": {
        "id": "T6D0qT9Tc0Ho"
      },
      "source": [
        "get_recommendations()"
      ],
      "execution_count": null,
      "outputs": []
    },
    {
      "cell_type": "markdown",
      "metadata": {
        "id": "FlexjdX5HB3s"
      },
      "source": [
        "## LASTFM Dataset\n",
        "\n",
        "А теперь будем рекомендовать музыку\n",
        "\n",
        "[Качать отсюдава](http://ocelma.net/MusicRecommendationDataset/lastfm-1K.html)"
      ]
    },
    {
      "cell_type": "code",
      "metadata": {
        "id": "xF7jvdLm_7Ch",
        "colab": {
          "base_uri": "https://localhost:8080/"
        },
        "outputId": "85c1e3a5-72b9-4a32-d25f-6f3af26b949d"
      },
      "source": [
        "from google.colab import drive\n",
        "drive.mount('/content/gdrive/')"
      ],
      "execution_count": null,
      "outputs": [
        {
          "output_type": "stream",
          "name": "stdout",
          "text": [
            "Drive already mounted at /content/gdrive/; to attempt to forcibly remount, call drive.mount(\"/content/gdrive/\", force_remount=True).\n"
          ]
        }
      ]
    },
    {
      "cell_type": "code",
      "metadata": {
        "id": "uarb1a6KOPkU"
      },
      "source": [
        "import tarfile\n",
        "lastfm = tarfile.open('./gdrive/My Drive/Colab Notebooks/ML/семестр1/Семинар 10 - RecSys/data/lastfm-dataset-1K.tar.gz', 'r')\n",
        "lastfm.extractall('./gdrive/My Drive/Colab Notebooks/ML/семестр1/Семинар 10 - RecSys/data/')"
      ],
      "execution_count": null,
      "outputs": []
    },
    {
      "cell_type": "code",
      "metadata": {
        "id": "BlFiAeWNSS2z"
      },
      "source": [
        "all_data = pd.read_csv('./gdrive/My Drive/Colab Notebooks/ML/семестр1/Семинар 10 - RecSys/data/lastfm-dataset-1K/userid-timestamp-artid-artname-traid-traname.tsv', sep = '\\t', header=None, error_bad_lines=False, nrows=500000)"
      ],
      "execution_count": null,
      "outputs": []
    },
    {
      "cell_type": "code",
      "metadata": {
        "colab": {
          "base_uri": "https://localhost:8080/"
        },
        "id": "1XYYsbDbI6-i",
        "outputId": "9b008543-44f7-4b2a-8222-eeb48dcb29e0"
      },
      "source": [
        "all_data.shape"
      ],
      "execution_count": null,
      "outputs": [
        {
          "output_type": "execute_result",
          "data": {
            "text/plain": [
              "(500000, 6)"
            ]
          },
          "metadata": {},
          "execution_count": 102
        }
      ]
    },
    {
      "cell_type": "code",
      "metadata": {
        "colab": {
          "base_uri": "https://localhost:8080/",
          "height": 204
        },
        "id": "78RinLc9XgZf",
        "outputId": "7f46f229-b5ae-491b-db25-c3a4d051903e"
      },
      "source": [
        "all_data.head()"
      ],
      "execution_count": null,
      "outputs": [
        {
          "output_type": "execute_result",
          "data": {
            "text/html": [
              "<div>\n",
              "<style scoped>\n",
              "    .dataframe tbody tr th:only-of-type {\n",
              "        vertical-align: middle;\n",
              "    }\n",
              "\n",
              "    .dataframe tbody tr th {\n",
              "        vertical-align: top;\n",
              "    }\n",
              "\n",
              "    .dataframe thead th {\n",
              "        text-align: right;\n",
              "    }\n",
              "</style>\n",
              "<table border=\"1\" class=\"dataframe\">\n",
              "  <thead>\n",
              "    <tr style=\"text-align: right;\">\n",
              "      <th></th>\n",
              "      <th>0</th>\n",
              "      <th>1</th>\n",
              "      <th>2</th>\n",
              "      <th>3</th>\n",
              "      <th>4</th>\n",
              "      <th>5</th>\n",
              "    </tr>\n",
              "  </thead>\n",
              "  <tbody>\n",
              "    <tr>\n",
              "      <th>0</th>\n",
              "      <td>user_000001</td>\n",
              "      <td>2009-05-04T23:08:57Z</td>\n",
              "      <td>f1b1cf71-bd35-4e99-8624-24a6e15f133a</td>\n",
              "      <td>Deep Dish</td>\n",
              "      <td>NaN</td>\n",
              "      <td>Fuck Me Im Famous (Pacha Ibiza)-09-28-2007</td>\n",
              "    </tr>\n",
              "    <tr>\n",
              "      <th>1</th>\n",
              "      <td>user_000001</td>\n",
              "      <td>2009-05-04T13:54:10Z</td>\n",
              "      <td>a7f7df4a-77d8-4f12-8acd-5c60c93f4de8</td>\n",
              "      <td>坂本龍一</td>\n",
              "      <td>NaN</td>\n",
              "      <td>Composition 0919 (Live_2009_4_15)</td>\n",
              "    </tr>\n",
              "    <tr>\n",
              "      <th>2</th>\n",
              "      <td>user_000001</td>\n",
              "      <td>2009-05-04T13:52:04Z</td>\n",
              "      <td>a7f7df4a-77d8-4f12-8acd-5c60c93f4de8</td>\n",
              "      <td>坂本龍一</td>\n",
              "      <td>NaN</td>\n",
              "      <td>Mc2 (Live_2009_4_15)</td>\n",
              "    </tr>\n",
              "    <tr>\n",
              "      <th>3</th>\n",
              "      <td>user_000001</td>\n",
              "      <td>2009-05-04T13:42:52Z</td>\n",
              "      <td>a7f7df4a-77d8-4f12-8acd-5c60c93f4de8</td>\n",
              "      <td>坂本龍一</td>\n",
              "      <td>NaN</td>\n",
              "      <td>Hibari (Live_2009_4_15)</td>\n",
              "    </tr>\n",
              "    <tr>\n",
              "      <th>4</th>\n",
              "      <td>user_000001</td>\n",
              "      <td>2009-05-04T13:42:11Z</td>\n",
              "      <td>a7f7df4a-77d8-4f12-8acd-5c60c93f4de8</td>\n",
              "      <td>坂本龍一</td>\n",
              "      <td>NaN</td>\n",
              "      <td>Mc1 (Live_2009_4_15)</td>\n",
              "    </tr>\n",
              "  </tbody>\n",
              "</table>\n",
              "</div>"
            ],
            "text/plain": [
              "             0  ...                                           5\n",
              "0  user_000001  ...  Fuck Me Im Famous (Pacha Ibiza)-09-28-2007\n",
              "1  user_000001  ...           Composition 0919 (Live_2009_4_15)\n",
              "2  user_000001  ...                        Mc2 (Live_2009_4_15)\n",
              "3  user_000001  ...                     Hibari (Live_2009_4_15)\n",
              "4  user_000001  ...                        Mc1 (Live_2009_4_15)\n",
              "\n",
              "[5 rows x 6 columns]"
            ]
          },
          "metadata": {},
          "execution_count": 103
        }
      ]
    },
    {
      "cell_type": "code",
      "metadata": {
        "id": "ez1YDxwxMf1n"
      },
      "source": [
        "user_data = pd.read_csv('./gdrive/My Drive/Colab Notebooks/ML/семестр1/Семинар 10 - RecSys/data/lastfm-dataset-1K/userid-profile.tsv', sep = '\\t', error_bad_lines=False, nrows=100000)"
      ],
      "execution_count": null,
      "outputs": []
    },
    {
      "cell_type": "code",
      "metadata": {
        "colab": {
          "base_uri": "https://localhost:8080/",
          "height": 419
        },
        "id": "Ciu6XwvfM80q",
        "outputId": "f76ca1b5-1365-4406-be40-ddc596f60168"
      },
      "source": [
        "user_data.head(100)"
      ],
      "execution_count": null,
      "outputs": [
        {
          "output_type": "execute_result",
          "data": {
            "text/html": [
              "<div>\n",
              "<style scoped>\n",
              "    .dataframe tbody tr th:only-of-type {\n",
              "        vertical-align: middle;\n",
              "    }\n",
              "\n",
              "    .dataframe tbody tr th {\n",
              "        vertical-align: top;\n",
              "    }\n",
              "\n",
              "    .dataframe thead th {\n",
              "        text-align: right;\n",
              "    }\n",
              "</style>\n",
              "<table border=\"1\" class=\"dataframe\">\n",
              "  <thead>\n",
              "    <tr style=\"text-align: right;\">\n",
              "      <th></th>\n",
              "      <th>#id</th>\n",
              "      <th>gender</th>\n",
              "      <th>age</th>\n",
              "      <th>country</th>\n",
              "      <th>registered</th>\n",
              "    </tr>\n",
              "  </thead>\n",
              "  <tbody>\n",
              "    <tr>\n",
              "      <th>0</th>\n",
              "      <td>user_000001</td>\n",
              "      <td>m</td>\n",
              "      <td>NaN</td>\n",
              "      <td>Japan</td>\n",
              "      <td>Aug 13, 2006</td>\n",
              "    </tr>\n",
              "    <tr>\n",
              "      <th>1</th>\n",
              "      <td>user_000002</td>\n",
              "      <td>f</td>\n",
              "      <td>NaN</td>\n",
              "      <td>Peru</td>\n",
              "      <td>Feb 24, 2006</td>\n",
              "    </tr>\n",
              "    <tr>\n",
              "      <th>2</th>\n",
              "      <td>user_000003</td>\n",
              "      <td>m</td>\n",
              "      <td>22.0</td>\n",
              "      <td>United States</td>\n",
              "      <td>Oct 30, 2005</td>\n",
              "    </tr>\n",
              "    <tr>\n",
              "      <th>3</th>\n",
              "      <td>user_000004</td>\n",
              "      <td>f</td>\n",
              "      <td>NaN</td>\n",
              "      <td>NaN</td>\n",
              "      <td>Apr 26, 2006</td>\n",
              "    </tr>\n",
              "    <tr>\n",
              "      <th>4</th>\n",
              "      <td>user_000005</td>\n",
              "      <td>m</td>\n",
              "      <td>NaN</td>\n",
              "      <td>Bulgaria</td>\n",
              "      <td>Jun 29, 2006</td>\n",
              "    </tr>\n",
              "    <tr>\n",
              "      <th>...</th>\n",
              "      <td>...</td>\n",
              "      <td>...</td>\n",
              "      <td>...</td>\n",
              "      <td>...</td>\n",
              "      <td>...</td>\n",
              "    </tr>\n",
              "    <tr>\n",
              "      <th>95</th>\n",
              "      <td>user_000096</td>\n",
              "      <td>f</td>\n",
              "      <td>25.0</td>\n",
              "      <td>Finland</td>\n",
              "      <td>Feb 20, 2006</td>\n",
              "    </tr>\n",
              "    <tr>\n",
              "      <th>96</th>\n",
              "      <td>user_000097</td>\n",
              "      <td>m</td>\n",
              "      <td>NaN</td>\n",
              "      <td>United Kingdom</td>\n",
              "      <td>Apr 6, 2005</td>\n",
              "    </tr>\n",
              "    <tr>\n",
              "      <th>97</th>\n",
              "      <td>user_000098</td>\n",
              "      <td>f</td>\n",
              "      <td>NaN</td>\n",
              "      <td>New Zealand</td>\n",
              "      <td>Feb 3, 2007</td>\n",
              "    </tr>\n",
              "    <tr>\n",
              "      <th>98</th>\n",
              "      <td>user_000099</td>\n",
              "      <td>f</td>\n",
              "      <td>22.0</td>\n",
              "      <td>Brazil</td>\n",
              "      <td>Jun 17, 2006</td>\n",
              "    </tr>\n",
              "    <tr>\n",
              "      <th>99</th>\n",
              "      <td>user_000100</td>\n",
              "      <td>m</td>\n",
              "      <td>21.0</td>\n",
              "      <td>United Kingdom</td>\n",
              "      <td>Jun 4, 2007</td>\n",
              "    </tr>\n",
              "  </tbody>\n",
              "</table>\n",
              "<p>100 rows × 5 columns</p>\n",
              "</div>"
            ],
            "text/plain": [
              "            #id gender   age         country    registered\n",
              "0   user_000001      m   NaN           Japan  Aug 13, 2006\n",
              "1   user_000002      f   NaN            Peru  Feb 24, 2006\n",
              "2   user_000003      m  22.0   United States  Oct 30, 2005\n",
              "3   user_000004      f   NaN             NaN  Apr 26, 2006\n",
              "4   user_000005      m   NaN        Bulgaria  Jun 29, 2006\n",
              "..          ...    ...   ...             ...           ...\n",
              "95  user_000096      f  25.0         Finland  Feb 20, 2006\n",
              "96  user_000097      m   NaN  United Kingdom   Apr 6, 2005\n",
              "97  user_000098      f   NaN     New Zealand   Feb 3, 2007\n",
              "98  user_000099      f  22.0          Brazil  Jun 17, 2006\n",
              "99  user_000100      m  21.0  United Kingdom   Jun 4, 2007\n",
              "\n",
              "[100 rows x 5 columns]"
            ]
          },
          "metadata": {},
          "execution_count": 23
        }
      ]
    },
    {
      "cell_type": "markdown",
      "metadata": {
        "id": "esNSp0noTVLB"
      },
      "source": [
        "## Collaborative filtering\n",
        "На основе ALS для рекомендаций"
      ]
    },
    {
      "cell_type": "markdown",
      "metadata": {
        "id": "VgY-Sh_tY_tk"
      },
      "source": [
        "### Предобработка данных"
      ]
    },
    {
      "cell_type": "code",
      "metadata": {
        "colab": {
          "base_uri": "https://localhost:8080/"
        },
        "id": "9gnVycWOLsl1",
        "outputId": "8459babe-fd53-486d-8424-8fdae49262b2"
      },
      "source": [
        "all_data.columns"
      ],
      "execution_count": null,
      "outputs": [
        {
          "output_type": "execute_result",
          "data": {
            "text/plain": [
              "Int64Index([0, 1, 2, 3, 4, 5], dtype='int64')"
            ]
          },
          "metadata": {},
          "execution_count": 104
        }
      ]
    },
    {
      "cell_type": "code",
      "metadata": {
        "colab": {
          "base_uri": "https://localhost:8080/",
          "height": 204
        },
        "id": "dKsl2pkcLUOK",
        "outputId": "32e82b2d-f922-47fe-967b-e307510432bd"
      },
      "source": [
        "R = all_data.drop(all_data.columns[4], axis=1)\n",
        "R = R.drop(R.columns[1:3], axis=1)\n",
        "R.head()"
      ],
      "execution_count": null,
      "outputs": [
        {
          "output_type": "execute_result",
          "data": {
            "text/html": [
              "<div>\n",
              "<style scoped>\n",
              "    .dataframe tbody tr th:only-of-type {\n",
              "        vertical-align: middle;\n",
              "    }\n",
              "\n",
              "    .dataframe tbody tr th {\n",
              "        vertical-align: top;\n",
              "    }\n",
              "\n",
              "    .dataframe thead th {\n",
              "        text-align: right;\n",
              "    }\n",
              "</style>\n",
              "<table border=\"1\" class=\"dataframe\">\n",
              "  <thead>\n",
              "    <tr style=\"text-align: right;\">\n",
              "      <th></th>\n",
              "      <th>0</th>\n",
              "      <th>3</th>\n",
              "      <th>5</th>\n",
              "    </tr>\n",
              "  </thead>\n",
              "  <tbody>\n",
              "    <tr>\n",
              "      <th>0</th>\n",
              "      <td>user_000001</td>\n",
              "      <td>Deep Dish</td>\n",
              "      <td>Fuck Me Im Famous (Pacha Ibiza)-09-28-2007</td>\n",
              "    </tr>\n",
              "    <tr>\n",
              "      <th>1</th>\n",
              "      <td>user_000001</td>\n",
              "      <td>坂本龍一</td>\n",
              "      <td>Composition 0919 (Live_2009_4_15)</td>\n",
              "    </tr>\n",
              "    <tr>\n",
              "      <th>2</th>\n",
              "      <td>user_000001</td>\n",
              "      <td>坂本龍一</td>\n",
              "      <td>Mc2 (Live_2009_4_15)</td>\n",
              "    </tr>\n",
              "    <tr>\n",
              "      <th>3</th>\n",
              "      <td>user_000001</td>\n",
              "      <td>坂本龍一</td>\n",
              "      <td>Hibari (Live_2009_4_15)</td>\n",
              "    </tr>\n",
              "    <tr>\n",
              "      <th>4</th>\n",
              "      <td>user_000001</td>\n",
              "      <td>坂本龍一</td>\n",
              "      <td>Mc1 (Live_2009_4_15)</td>\n",
              "    </tr>\n",
              "  </tbody>\n",
              "</table>\n",
              "</div>"
            ],
            "text/plain": [
              "             0          3                                           5\n",
              "0  user_000001  Deep Dish  Fuck Me Im Famous (Pacha Ibiza)-09-28-2007\n",
              "1  user_000001       坂本龍一           Composition 0919 (Live_2009_4_15)\n",
              "2  user_000001       坂本龍一                        Mc2 (Live_2009_4_15)\n",
              "3  user_000001       坂本龍一                     Hibari (Live_2009_4_15)\n",
              "4  user_000001       坂本龍一                        Mc1 (Live_2009_4_15)"
            ]
          },
          "metadata": {},
          "execution_count": 105
        }
      ]
    },
    {
      "cell_type": "code",
      "metadata": {
        "colab": {
          "base_uri": "https://localhost:8080/",
          "height": 204
        },
        "id": "zcxh_EMMMUj1",
        "outputId": "ed624ed8-02a2-4e0b-f72f-b483c619f472"
      },
      "source": [
        "# Загружаем данные\n",
        "R.columns = ['user', 'artist', 'plays']\n",
        "R.head()"
      ],
      "execution_count": null,
      "outputs": [
        {
          "output_type": "execute_result",
          "data": {
            "text/html": [
              "<div>\n",
              "<style scoped>\n",
              "    .dataframe tbody tr th:only-of-type {\n",
              "        vertical-align: middle;\n",
              "    }\n",
              "\n",
              "    .dataframe tbody tr th {\n",
              "        vertical-align: top;\n",
              "    }\n",
              "\n",
              "    .dataframe thead th {\n",
              "        text-align: right;\n",
              "    }\n",
              "</style>\n",
              "<table border=\"1\" class=\"dataframe\">\n",
              "  <thead>\n",
              "    <tr style=\"text-align: right;\">\n",
              "      <th></th>\n",
              "      <th>user</th>\n",
              "      <th>artist</th>\n",
              "      <th>plays</th>\n",
              "    </tr>\n",
              "  </thead>\n",
              "  <tbody>\n",
              "    <tr>\n",
              "      <th>0</th>\n",
              "      <td>user_000001</td>\n",
              "      <td>Deep Dish</td>\n",
              "      <td>Fuck Me Im Famous (Pacha Ibiza)-09-28-2007</td>\n",
              "    </tr>\n",
              "    <tr>\n",
              "      <th>1</th>\n",
              "      <td>user_000001</td>\n",
              "      <td>坂本龍一</td>\n",
              "      <td>Composition 0919 (Live_2009_4_15)</td>\n",
              "    </tr>\n",
              "    <tr>\n",
              "      <th>2</th>\n",
              "      <td>user_000001</td>\n",
              "      <td>坂本龍一</td>\n",
              "      <td>Mc2 (Live_2009_4_15)</td>\n",
              "    </tr>\n",
              "    <tr>\n",
              "      <th>3</th>\n",
              "      <td>user_000001</td>\n",
              "      <td>坂本龍一</td>\n",
              "      <td>Hibari (Live_2009_4_15)</td>\n",
              "    </tr>\n",
              "    <tr>\n",
              "      <th>4</th>\n",
              "      <td>user_000001</td>\n",
              "      <td>坂本龍一</td>\n",
              "      <td>Mc1 (Live_2009_4_15)</td>\n",
              "    </tr>\n",
              "  </tbody>\n",
              "</table>\n",
              "</div>"
            ],
            "text/plain": [
              "          user     artist                                       plays\n",
              "0  user_000001  Deep Dish  Fuck Me Im Famous (Pacha Ibiza)-09-28-2007\n",
              "1  user_000001       坂本龍一           Composition 0919 (Live_2009_4_15)\n",
              "2  user_000001       坂本龍一                        Mc2 (Live_2009_4_15)\n",
              "3  user_000001       坂本龍一                     Hibari (Live_2009_4_15)\n",
              "4  user_000001       坂本龍一                        Mc1 (Live_2009_4_15)"
            ]
          },
          "metadata": {},
          "execution_count": 106
        }
      ]
    },
    {
      "cell_type": "code",
      "metadata": {
        "id": "P_VM_PyYMcK5"
      },
      "source": [
        "# Удаляем нулевые данные\n",
        "R = R.dropna()\n",
        "# Drop any rows that have 0 plays\n",
        "R = R.loc[R.plays != 0]"
      ],
      "execution_count": null,
      "outputs": []
    },
    {
      "cell_type": "code",
      "metadata": {
        "id": "DG-ig99tMjm7"
      },
      "source": [
        "# Делаем названия артистов числовыми\n",
        "R['user_id'] = R['user'].astype(\"category\").cat.codes\n",
        "R['artist_id'] = R['artist'].astype(\"category\").cat.codes\n",
        "R['play_id'] = R['plays'].astype(\"category\").cat.codes"
      ],
      "execution_count": null,
      "outputs": []
    },
    {
      "cell_type": "code",
      "metadata": {
        "id": "Uwzk9qP3Mn6K"
      },
      "source": [
        "# Запоминаем изначальные названия\n",
        "item_lookup_artist = R[['artist_id', 'artist']].drop_duplicates()\n",
        "item_lookup_artist['artist_id'] = item_lookup_artist.artist_id.astype(str)\n",
        "\n",
        "item_lookup_plays = R[['play_id', 'plays']].drop_duplicates()\n",
        "item_lookup_plays['play_id'] = item_lookup_plays.play_id.astype(str)"
      ],
      "execution_count": null,
      "outputs": []
    },
    {
      "cell_type": "code",
      "metadata": {
        "id": "S5raCuzaM-in"
      },
      "source": [
        "R = R.drop(['user', 'artist', 'plays'], axis=1)"
      ],
      "execution_count": null,
      "outputs": []
    },
    {
      "cell_type": "code",
      "metadata": {
        "id": "T_zu1E0gP_dD"
      },
      "source": [
        "# Списки уникальных номеров каждой из калонок\n",
        "users = list(np.sort(R.user_id.unique()))\n",
        "artists = list(np.sort(R.artist_id.unique()))\n",
        "plays = list(R.play_id)\n",
        "\n",
        "rows = R.user_id.astype(int)\n",
        "cols = R.artist_id.astype(int)"
      ],
      "execution_count": null,
      "outputs": []
    },
    {
      "cell_type": "code",
      "metadata": {
        "id": "dbHo2u-_FJcF"
      },
      "source": [
        "R"
      ],
      "execution_count": null,
      "outputs": []
    },
    {
      "cell_type": "code",
      "metadata": {
        "id": "Gzr9YSevFISV"
      },
      "source": [
        "# Превращаем в тип: разреженная матрица\n",
        "R_sparse = sparse.csr_matrix((plays, (rows, cols)), shape=(len(users), len(artists)))"
      ],
      "execution_count": null,
      "outputs": []
    },
    {
      "cell_type": "markdown",
      "metadata": {
        "id": "OLvtHJotZFhj"
      },
      "source": [
        "### Реализуем ALS\n",
        "[Статья с теоретическим обоснованием метода](http://yifanhu.net/PUB/cf.pdf)"
      ]
    },
    {
      "cell_type": "code",
      "metadata": {
        "id": "CAGub1JjP_ft"
      },
      "source": [
        "def implicit_als(sparse_data, alpha_val=1, iterations=10, lambda_val=0.1, features=10):\n",
        "\n",
        "    # alpha_val - добавляем уверенности большим данным\n",
        "    confidence = sparse_data * alpha_val\n",
        "    \n",
        "    user_size, item_size = sparse_data.shape\n",
        "\n",
        "    # Инициализируем случайными числами\n",
        "    X = sparse.csr_matrix(np.random.normal(size = (user_size, features)))\n",
        "    Y = sparse.csr_matrix(np.random.normal(size = (item_size, features)))\n",
        "\n",
        "    X_I = sparse.eye(user_size)\n",
        "    Y_I = sparse.eye(item_size)\n",
        "\n",
        "    # lambda_val - коэффициент регуляризации\n",
        "    I = sparse.eye(features)\n",
        "    lI = lambda_val * I\n",
        " \n",
        "    # Далее ALS\n",
        "    for i in range(iterations):\n",
        "        print ('iteration %d of %d' % (i+1, iterations)) \n",
        "        yTy = \n",
        "        xTx = \n",
        "\n",
        "        for u in range(user_size):\n",
        "\n",
        "            u_row = \n",
        "            \n",
        "            # Те кто совсем не слушали группу, у тех р=0, у тех, кто слушал, распределено от 1 и выше\n",
        "            p_u = u_row.copy()\n",
        "            p_u\n",
        "\n",
        "            CuI = sparse.diags(u_row, [0])\n",
        "            Cu = CuI + Y_I\n",
        "\n",
        "            yT_CuI_y = Y.T.dot(CuI).dot(Y)\n",
        "            yT_Cu_pu = Y.T.dot(Cu).dot(p_u.T)\n",
        "            # Просто так обратить не получится, используем spsolve\n",
        "            X[u] = spsolve(yTy + yT_CuI_y + lI, yT_Cu_pu)\n",
        "    \n",
        "        for i in range(item_size):\n",
        "\n",
        "            i_row = confidence[:,i].T.toarray()\n",
        "            p_i = i_row.copy()\n",
        "            p_i[p_i != 0] = 1.0\n",
        "\n",
        "            CiI = sparse.diags(i_row, [0])\n",
        "            Ci = CiI + X_I\n",
        "\n",
        "            xT_CiI_x = X.T.dot(CiI).dot(X)\n",
        "            xT_Ci_pi = X.T.dot(Ci).dot(p_i.T)\n",
        "            Y[i] = spsolve(xTx + xT_CiI_x + lI, xT_Ci_pi)\n",
        "\n",
        "    return X, Y"
      ],
      "execution_count": null,
      "outputs": []
    },
    {
      "cell_type": "code",
      "metadata": {
        "id": "Q_qUcPeBP_kV",
        "colab": {
          "base_uri": "https://localhost:8080/"
        },
        "outputId": "11aad657-2718-4a8c-95b4-e4d90b13d33e"
      },
      "source": [
        "user_vecs, item_vecs = implicit_als(R_sparse, iterations=10, features=20, alpha_val=1)"
      ],
      "execution_count": null,
      "outputs": [
        {
          "output_type": "stream",
          "name": "stdout",
          "text": [
            "iteration 1 of 10\n",
            "iteration 2 of 10\n",
            "iteration 3 of 10\n",
            "iteration 4 of 10\n",
            "iteration 5 of 10\n",
            "iteration 6 of 10\n",
            "iteration 7 of 10\n",
            "iteration 8 of 10\n",
            "iteration 9 of 10\n",
            "iteration 10 of 10\n"
          ]
        }
      ]
    },
    {
      "cell_type": "markdown",
      "metadata": {
        "id": "-5VQPkkjYplP"
      },
      "source": [
        "###  Найдем похожих исполнителей"
      ]
    },
    {
      "cell_type": "code",
      "metadata": {
        "colab": {
          "base_uri": "https://localhost:8080/",
          "height": 80
        },
        "id": "NbQYDf-eTom8",
        "outputId": "efc34f81-f890-4427-d4cb-eb627a677678"
      },
      "source": [
        "item_lookup_artist[item_lookup_artist.artist == \"Red Hot Chili Peppers\"]"
      ],
      "execution_count": null,
      "outputs": [
        {
          "output_type": "execute_result",
          "data": {
            "text/html": [
              "<div>\n",
              "<style scoped>\n",
              "    .dataframe tbody tr th:only-of-type {\n",
              "        vertical-align: middle;\n",
              "    }\n",
              "\n",
              "    .dataframe tbody tr th {\n",
              "        vertical-align: top;\n",
              "    }\n",
              "\n",
              "    .dataframe thead th {\n",
              "        text-align: right;\n",
              "    }\n",
              "</style>\n",
              "<table border=\"1\" class=\"dataframe\">\n",
              "  <thead>\n",
              "    <tr style=\"text-align: right;\">\n",
              "      <th></th>\n",
              "      <th>artist_id</th>\n",
              "      <th>artist</th>\n",
              "    </tr>\n",
              "  </thead>\n",
              "  <tbody>\n",
              "    <tr>\n",
              "      <th>13359</th>\n",
              "      <td>9811</td>\n",
              "      <td>Red Hot Chili Peppers</td>\n",
              "    </tr>\n",
              "  </tbody>\n",
              "</table>\n",
              "</div>"
            ],
            "text/plain": [
              "      artist_id                 artist\n",
              "13359      9811  Red Hot Chili Peppers"
            ]
          },
          "metadata": {},
          "execution_count": 119
        }
      ]
    },
    {
      "cell_type": "code",
      "metadata": {
        "colab": {
          "base_uri": "https://localhost:8080/",
          "height": 80
        },
        "id": "AQAro_mxVU33",
        "outputId": "966d9b54-7fad-4604-acfa-2c324274f009"
      },
      "source": [
        "item_lookup_artist[item_lookup_artist.artist == \"Eminem\"]"
      ],
      "execution_count": null,
      "outputs": [
        {
          "output_type": "execute_result",
          "data": {
            "text/html": [
              "<div>\n",
              "<style scoped>\n",
              "    .dataframe tbody tr th:only-of-type {\n",
              "        vertical-align: middle;\n",
              "    }\n",
              "\n",
              "    .dataframe tbody tr th {\n",
              "        vertical-align: top;\n",
              "    }\n",
              "\n",
              "    .dataframe thead th {\n",
              "        text-align: right;\n",
              "    }\n",
              "</style>\n",
              "<table border=\"1\" class=\"dataframe\">\n",
              "  <thead>\n",
              "    <tr style=\"text-align: right;\">\n",
              "      <th></th>\n",
              "      <th>artist_id</th>\n",
              "      <th>artist</th>\n",
              "    </tr>\n",
              "  </thead>\n",
              "  <tbody>\n",
              "    <tr>\n",
              "      <th>90151</th>\n",
              "      <td>3980</td>\n",
              "      <td>Eminem</td>\n",
              "    </tr>\n",
              "  </tbody>\n",
              "</table>\n",
              "</div>"
            ],
            "text/plain": [
              "      artist_id  artist\n",
              "90151      3980  Eminem"
            ]
          },
          "metadata": {},
          "execution_count": 117
        }
      ]
    },
    {
      "cell_type": "code",
      "metadata": {
        "colab": {
          "base_uri": "https://localhost:8080/"
        },
        "id": "8Quiv37PQOCW",
        "outputId": "180f8a0e-3fc8-4a40-99b6-fe8f16f235d1"
      },
      "source": [
        "\n",
        "item_id = 9811\n",
        "\n",
        "# Get the item row\n",
        "item_vec = item_vecs[item_id].T\n",
        "\n",
        "# Calculate the similarity score\n",
        "scores = item_vecs.dot(item_vec).toarray().reshape(1,-1)[0]\n",
        "top_10 = np.argsort(scores)[::-1][:10]\n",
        "\n",
        "artists = []\n",
        "artist_scores = []\n",
        "\n",
        "# Get and print the actual artists names and scores\n",
        "for idx in top_10:\n",
        "    artists.append(item_lookup_artist.artist.loc[item_lookup_artist.artist_id == str(idx)].iloc[0])\n",
        "    artist_scores.append(scores[idx])\n",
        "\n",
        "similar = pd.DataFrame({'artist': artists, 'score': artist_scores})\n",
        "\n",
        "print(similar)"
      ],
      "execution_count": null,
      "outputs": [
        {
          "output_type": "stream",
          "name": "stdout",
          "text": [
            "                  artist       score\n",
            "0               Coldplay  292.671047\n",
            "1              Radiohead  263.164332\n",
            "2  Red Hot Chili Peppers  251.409583\n",
            "3      The White Stripes  243.217045\n",
            "4        Franz Ferdinand  230.262609\n",
            "5               The Cure  226.201642\n",
            "6                    Air  223.886146\n",
            "7             The Smiths  222.396857\n",
            "8            David Bowie  218.252076\n",
            "9               Gorillaz  216.867156\n"
          ]
        }
      ]
    },
    {
      "cell_type": "markdown",
      "metadata": {
        "id": "5m6vKnJqY2JJ"
      },
      "source": [
        "### Дадим рекомендации пользователю"
      ]
    },
    {
      "cell_type": "code",
      "metadata": {
        "colab": {
          "base_uri": "https://localhost:8080/"
        },
        "id": "RjVJQqx-aGhJ",
        "outputId": "eaae055e-0249-405a-ac43-7b2a70da070a"
      },
      "source": [
        "user_id = 2\n",
        "\n",
        "# Let's print out what the user has listened to\n",
        "consumed_idx = R_sparse[user_id,:].nonzero()[1].astype(str)\n",
        "consumed_items = item_lookup_artist.loc[item_lookup_artist.artist_id.isin(consumed_idx)]\n",
        "print(consumed_items)"
      ],
      "execution_count": null,
      "outputs": [
        {
          "output_type": "stream",
          "name": "stdout",
          "text": [
            "      artist_id                  artist\n",
            "0          3107               Deep Dish\n",
            "14        13517              Underworld\n",
            "16         4012         Ennio Morricone\n",
            "255       10206                Röyksopp\n",
            "1425       9705               Radiohead\n",
            "...         ...                     ...\n",
            "93441     13779                 Wedding\n",
            "93474      8834             Odd Project\n",
            "93553     13402            Tsunami Bomb\n",
            "93557      5257            Hellogoodbye\n",
            "93571      4706  Gatsbys American Dream\n",
            "\n",
            "[935 rows x 2 columns]\n"
          ]
        }
      ]
    },
    {
      "cell_type": "code",
      "metadata": {
        "id": "5SzHzteOROQQ",
        "colab": {
          "base_uri": "https://localhost:8080/"
        },
        "outputId": "fdf79196-853f-46ec-d477-0bd6e733fb71"
      },
      "source": [
        "def recommend(user_id, data_sparse, user_vecs, item_vecs, item_lookup, num_items=10):\n",
        "  \n",
        "    # Get all interactions by the user\n",
        "    user_interactions = \n",
        "\n",
        "    # We don't want to recommend items the user has consumed. So let's\n",
        "    # set them all to 0 and the unknowns to 1.\n",
        "    user_interactions = \n",
        "    user_interactions\n",
        "\n",
        "    # This is where we calculate the recommendation by taking the \n",
        "    # dot-product of the user vectors with the item vectors.\n",
        "    rec_vector = \n",
        "\n",
        "    # Let's scale our scores between 0 and 1 to make it all easier to interpret.\n",
        "    min_max = MinMaxScaler()\n",
        "    rec_vector_scaled = min_max.fit_transform(rec_vector.reshape(-1,1))[:,0]\n",
        "    recommend_vector = user_interactions*rec_vector_scaled\n",
        "   \n",
        "    # Get all the artist indices in order of recommendations (descending) and\n",
        "    # select only the top \"num_items\" items. \n",
        "    item_idx = np.argsort(recommend_vector)[::-1][:num_items]\n",
        "\n",
        "    artists = []\n",
        "    scores = []\n",
        "\n",
        "    # Loop through our recommended artist indicies and look up the actial artist name\n",
        "    for idx in item_idx:\n",
        "        artists.append(item_lookup.artist.loc[item_lookup.artist_id == str(idx)].iloc[0])\n",
        "        scores.append(recommend_vector[idx])\n",
        "\n",
        "    # Create a new dataframe with recommended artist names and scores\n",
        "    recommendations = pd.DataFrame({'artist': artists, 'score': scores})\n",
        "    \n",
        "    return recommendations\n",
        "\n",
        "# Let's generate and print our recommendations\n",
        "recommendations = recommend(user_id, R_sparse, user_vecs, item_vecs, item_lookup_artist)\n",
        "print(recommendations)"
      ],
      "execution_count": null,
      "outputs": [
        {
          "output_type": "stream",
          "name": "stdout",
          "text": [
            "      artist_id                  artist\n",
            "0          3107               Deep Dish\n",
            "14        13517              Underworld\n",
            "16         4012         Ennio Morricone\n",
            "255       10206                Röyksopp\n",
            "1425       9705               Radiohead\n",
            "...         ...                     ...\n",
            "93441     13779                 Wedding\n",
            "93474      8834             Odd Project\n",
            "93553     13402            Tsunami Bomb\n",
            "93557      5257            Hellogoodbye\n",
            "93571      4706  Gatsbys American Dream\n",
            "\n",
            "[935 rows x 2 columns]\n",
            "            artist     score\n",
            "0        [Unknown]  1.000000\n",
            "1         The Cure  0.879532\n",
            "2       Jamiroquai  0.792819\n",
            "3  Michael Jackson  0.770737\n",
            "4             Muse  0.730602\n",
            "5    Nancy Sinatra  0.718788\n",
            "6            Björk  0.701257\n",
            "7      Marvin Gaye  0.661910\n",
            "8      Angie Stone  0.653296\n",
            "9              Rza  0.642275\n"
          ]
        }
      ]
    },
    {
      "cell_type": "markdown",
      "metadata": {
        "id": "uVnygQORRsQW"
      },
      "source": [
        "## Источники и полезные ссылки\n",
        "* [ALS Implicit Collaborative Filtering](https://medium.com/radon-dev/als-implicit-collaborative-filtering-5ed653ba39fe)\n",
        "* [Datacamp RecSys](https://www.datacamp.com/community/tutorials/recommender-systems-python)\n"
      ]
    }
  ]
}