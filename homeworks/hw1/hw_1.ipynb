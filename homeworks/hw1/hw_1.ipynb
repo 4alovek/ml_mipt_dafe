{
 "cells": [
  {
   "cell_type": "markdown",
   "metadata": {
    "id": "AGf_xvZiT0Ww"
   },
   "source": [
    "# Домашнее задание № 1\n",
    "\n",
    "Вам необходимо провести анализ данных и сделать предсказание."
   ]
  },
  {
   "cell_type": "markdown",
   "metadata": {
    "_cell_guid": "d2034be1-8579-d4b9-9b18-b7bf2c6fc651",
    "id": "rWc3WRD0TtVq"
   },
   "source": [
    "# Исходные данные\n",
    "\n",
    "Ознакомить с данными можно в [источнике](https://www.kaggle.com/uciml/student-alcohol-consumption?select=student-por.csv)\n",
    "\n",
    "Если вкратце, то у вас есть 29 параметров и одна целевая переменная G3\n",
    "\n",
    "Данные случайным образом разделены на train и test, для train у вас есть ответы, а для test - нет. Необходимо построить такой алгоритм, который будет хорошо предсказывать на test данных."
   ]
  },
  {
   "cell_type": "code",
   "execution_count": null,
   "metadata": {
    "_cell_guid": "87372d85-e9ac-b3b3-c25d-33dfb357ccd8",
    "id": "pQ5OrqpATtVl"
   },
   "outputs": [],
   "source": [
    "import pandas as pd"
   ]
  },
  {
   "cell_type": "code",
   "execution_count": null,
   "metadata": {
    "id": "cE9FdACVcBHd"
   },
   "outputs": [],
   "source": [
    "# Читаем данные\n",
    "\n",
    "X_train = pd.read_csv('data/train_features_with_answers.csv')\n",
    "X_test = pd.read_csv('data/X_test.csv')"
   ]
  },
  {
   "cell_type": "code",
   "execution_count": null,
   "metadata": {
    "colab": {
     "base_uri": "https://localhost:8080/",
     "height": 379
    },
    "executionInfo": {
     "elapsed": 1808,
     "status": "ok",
     "timestamp": 1601988636134,
     "user": {
      "displayName": "Даниил Русланович Махоткин",
      "photoUrl": "",
      "userId": "18336248573599285046"
     },
     "user_tz": -180
    },
    "id": "i1j9Yn9Jhz-S",
    "outputId": "e61cc914-5a06-4d7e-aafb-c9f4fdbf9072"
   },
   "outputs": [],
   "source": [
    "# Про характеристики прочитайте в источнике\n",
    "\n",
    "X_train.head(5)"
   ]
  },
  {
   "cell_type": "code",
   "execution_count": null,
   "metadata": {
    "_cell_guid": "59eb5f69-14c4-8fda-9831-2173747d8d45",
    "colab": {
     "base_uri": "https://localhost:8080/",
     "height": 224
    },
    "executionInfo": {
     "elapsed": 886,
     "status": "ok",
     "timestamp": 1601982219373,
     "user": {
      "displayName": "Даниил Русланович Махоткин",
      "photoUrl": "",
      "userId": "18336248573599285046"
     },
     "user_tz": -180
    },
    "id": "Q_PaBFE2TtVr",
    "outputId": "27959cae-6d96-4e95-b220-7a1e86dcb2c5"
   },
   "outputs": [],
   "source": [
    "X_test.head()"
   ]
  },
  {
   "cell_type": "markdown",
   "metadata": {
    "_cell_guid": "daf6f291-b7aa-d184-39f8-6278cc04f0ee",
    "id": "fxkflheLTtVv"
   },
   "source": [
    "# Визуальный анализ данных (Exploratory Data Analysis) [25 %]\n",
    "\n",
    "Перед тем, как приступать к построению алгоритмов, необходимо понять данные, с которыми требуется работать. Для этого в подходах к построению алгоритмов машинного обучения выделят специальный этап - Разведочный анализ данных или Exploratory Data Analysis (EDA). EDA в себя включает все те, что касается описания данных: визуализацию, интерпретацию и анализ. \n",
    "\n",
    "Прежде всего сделаем визуализацию данных для того, чтобы оценить диапазоны значений и виды их распределений.\n",
    "\n",
    "Постройте для приведенных ниже характеристик следующие виды графиков:\n",
    "- Гистограммы;\n",
    "- Круговые диаграмм;\n",
    "- Графики;\n",
    "- Таблицы;\n",
    "- 3D диаграммы.\n",
    "\n",
    "Выберите наиболее подходящий тип графика для каждой характеристки. \n",
    "\n",
    "__Основной критерий оценивания__ - читаемость и интерпретируемость данных."
   ]
  },
  {
   "cell_type": "markdown",
   "metadata": {
    "id": "FA0btFcmmpAG"
   },
   "source": [
    "## Характеристика: \"Sex\""
   ]
  },
  {
   "cell_type": "code",
   "execution_count": null,
   "metadata": {
    "_cell_guid": "74f8d40e-415f-9e29-03ca-aa1e75714c11",
    "id": "QElGbkh1TtVw"
   },
   "outputs": [],
   "source": []
  },
  {
   "cell_type": "markdown",
   "metadata": {
    "_cell_guid": "fe453992-94f6-ae3b-b1fd-63027e71729f",
    "id": "eOkuFjVRTtVy"
   },
   "source": [
    "## Характеристика: \"Age\""
   ]
  },
  {
   "cell_type": "code",
   "execution_count": null,
   "metadata": {
    "_cell_guid": "1051bfb6-f29e-0c40-1666-c97827578ad3",
    "id": "i9a_yujdTtVy"
   },
   "outputs": [],
   "source": []
  },
  {
   "cell_type": "markdown",
   "metadata": {
    "_cell_guid": "7febeef3-e6b0-a18a-5705-7ee3876c1965",
    "id": "vgfL_e8lTtV0"
   },
   "source": [
    "## Характеристика: \"Weekly study time\""
   ]
  },
  {
   "cell_type": "code",
   "execution_count": null,
   "metadata": {
    "_cell_guid": "12f1d266-9efa-4bd9-a3c1-48ea880080be",
    "id": "e3UTlpoMTtV1"
   },
   "outputs": [],
   "source": []
  },
  {
   "cell_type": "markdown",
   "metadata": {
    "_cell_guid": "a0732dfe-165e-3c44-319c-bb7bf890fe9b",
    "id": "QmcAzPipTtV3"
   },
   "source": [
    "## Характеристика: \"Romantic Relationship\""
   ]
  },
  {
   "cell_type": "code",
   "execution_count": null,
   "metadata": {
    "_cell_guid": "048c1de0-e55c-6e2f-09db-1263e9fbac76",
    "id": "yICND3ynTtV3"
   },
   "outputs": [],
   "source": []
  },
  {
   "cell_type": "markdown",
   "metadata": {
    "_cell_guid": "21ae96ef-7925-4a81-1f1d-54d4ed018ec3",
    "id": "cJTillXMTtV5"
   },
   "source": [
    "## Характеристика: \"Alcohol Consumption\""
   ]
  },
  {
   "cell_type": "code",
   "execution_count": null,
   "metadata": {
    "id": "e4KynL-GnIrc"
   },
   "outputs": [],
   "source": []
  },
  {
   "cell_type": "markdown",
   "metadata": {
    "_cell_guid": "21ae96ef-7925-4a81-1f1d-54d4ed018ec3",
    "id": "JL7MDeVBnDBw"
   },
   "source": [
    "## Целевая зависимость: \"G3\" (Final Grade)"
   ]
  },
  {
   "cell_type": "code",
   "execution_count": null,
   "metadata": {},
   "outputs": [],
   "source": []
  },
  {
   "cell_type": "markdown",
   "metadata": {},
   "source": [
    "## Прочие характеристики\n",
    "\n",
    "Прочитайте описание данных на [сайте](https://www.kaggle.com/uciml/student-alcohol-consumption) и подумайте, какие еще характеристики было бы полезно проанализировать. Постройте соответсвующие графики для выбранных характеристик.\n",
    "\n",
    "Постройте графики еще для минимум 2 характеристик: числовая и категориальная. "
   ]
  },
  {
   "cell_type": "code",
   "execution_count": null,
   "metadata": {
    "id": "zYBWdQKjnDB1"
   },
   "outputs": [],
   "source": []
  },
  {
   "cell_type": "markdown",
   "metadata": {
    "_cell_guid": "21ae96ef-7925-4a81-1f1d-54d4ed018ec3",
    "id": "dDiTs21MnRYu"
   },
   "source": [
    "## Корреляция признаков\n",
    "\n",
    "Для того, чтобы быстро получить оценку о взаимосвязи признаков целесообразно построить матрицу их корреляции. Постройте матрицу корреляции."
   ]
  },
  {
   "cell_type": "code",
   "execution_count": null,
   "metadata": {
    "id": "KagTTs4mnRYv"
   },
   "outputs": [],
   "source": []
  },
  {
   "cell_type": "markdown",
   "metadata": {
    "_cell_guid": "21ae96ef-7925-4a81-1f1d-54d4ed018ec3",
    "id": "HU8fL_6GtGWV"
   },
   "source": [
    "## Диапазон значений характеристик\n",
    "\n",
    "Посчитайте число уникальных значений для каждого признака и сравните их между собой."
   ]
  },
  {
   "cell_type": "code",
   "execution_count": null,
   "metadata": {
    "id": "MnBcttm5tGWW"
   },
   "outputs": [],
   "source": []
  },
  {
   "cell_type": "markdown",
   "metadata": {
    "_cell_guid": "0e9fb698-c819-074d-26ee-7a6afe00ad62",
    "id": "ZnrLrANOTtWC"
   },
   "source": [
    "# Предобработка данных [25%]\n",
    "\n",
    "Теперь перейдем к подготовке данных для моделей машинного обучения. Не все из описанного ниже нужно делать. Подумайте."
   ]
  },
  {
   "cell_type": "code",
   "execution_count": null,
   "metadata": {},
   "outputs": [],
   "source": []
  },
  {
   "cell_type": "markdown",
   "metadata": {
    "_cell_guid": "21ae96ef-7925-4a81-1f1d-54d4ed018ec3",
    "id": "lY0qoZnQ90NO"
   },
   "source": [
    "## Найдите и исправьте ошибки в данных"
   ]
  },
  {
   "cell_type": "code",
   "execution_count": null,
   "metadata": {
    "id": "Xt4J1g5l90NP"
   },
   "outputs": [],
   "source": []
  },
  {
   "cell_type": "markdown",
   "metadata": {
    "_cell_guid": "21ae96ef-7925-4a81-1f1d-54d4ed018ec3",
    "id": "JCVXK7Wsnuf0"
   },
   "source": [
    "## Удалите скоррелированные данные"
   ]
  },
  {
   "cell_type": "code",
   "execution_count": null,
   "metadata": {
    "id": "KJAfBn9znuf1"
   },
   "outputs": [],
   "source": []
  },
  {
   "cell_type": "markdown",
   "metadata": {
    "id": "qF81qsInnuf4"
   },
   "source": [
    "## Заполните пропуски в данных\n",
    "\n",
    "Заполнить пропуски в данных можно следующими способами:\n",
    "- Заполнить нулями\n",
    "- Выбросить данные с нулями (не рекомендуется)\n",
    "- Заполнить средним для данного параметра\n",
    "- Заполнить наиболее соответствующим данному прецеденту [+10% за дз]"
   ]
  },
  {
   "cell_type": "code",
   "execution_count": null,
   "metadata": {
    "id": "yaCEkU9anuf4"
   },
   "outputs": [],
   "source": []
  },
  {
   "cell_type": "markdown",
   "metadata": {
    "_cell_guid": "21ae96ef-7925-4a81-1f1d-54d4ed018ec3",
    "id": "_p3_0Is6nuf6"
   },
   "source": [
    "## Сделайте признаки категориальными"
   ]
  },
  {
   "cell_type": "code",
   "execution_count": null,
   "metadata": {
    "id": "TTzs_qcqnuf6"
   },
   "outputs": [],
   "source": []
  },
  {
   "cell_type": "markdown",
   "metadata": {
    "_cell_guid": "21ae96ef-7925-4a81-1f1d-54d4ed018ec3",
    "id": "TQGQtLdynuf8"
   },
   "source": [
    "## Придумайте сложные признаки\n",
    "\n",
    "Сложные признаки - это комбинации существующих (линейных или нелинейных).\n",
    "Это нужно для того, чтобы самостоятельно добавить нелинейность в алгоритм.\n",
    "\n",
    "Приведите не менее двух признаков."
   ]
  },
  {
   "cell_type": "code",
   "execution_count": null,
   "metadata": {},
   "outputs": [],
   "source": []
  },
  {
   "cell_type": "markdown",
   "metadata": {
    "_cell_guid": "21ae96ef-7925-4a81-1f1d-54d4ed018ec3",
    "id": "0SggPaJtpN21"
   },
   "source": [
    "## Балансировка классов\n",
    "\n",
    "В качестве методов для балансировки классов можно рассмотреть следующее: \n",
    "- Выкинуть те, которых много.\n",
    "- Дублировать примеры для случаев, которых мало (наиболее адекватный).\n",
    "- Увеличить lr (вес) тех случаев, которых мало."
   ]
  },
  {
   "cell_type": "code",
   "execution_count": null,
   "metadata": {
    "id": "GWGQxi0Dnuf8"
   },
   "outputs": [],
   "source": []
  },
  {
   "cell_type": "markdown",
   "metadata": {
    "_cell_guid": "9d8e5350-8caa-ab7d-834c-bbaf3e30c2b1",
    "id": "B1ejqsVNTtWC"
   },
   "source": [
    "# Стратегия валидации [10%]\n",
    "\n",
    "Итак, у вас есть данные для обучения и данные, на которых необходимо сделать предсказание. Для оценки точности необходимо проводить валидацию (так как мало данных, можно проводить кросс валидацию).\n",
    "Валидацию проще всего реализовать методами sklearn, например:\n",
    "- KFold\n",
    "- ShuffleSplit\n",
    "- StratifiedKFold\n",
    "- StratifiedShuffleSplit\n",
    "- GroupKFold\n",
    "- GroupShuffleSplit"
   ]
  },
  {
   "cell_type": "code",
   "execution_count": null,
   "metadata": {},
   "outputs": [],
   "source": []
  },
  {
   "cell_type": "markdown",
   "metadata": {
    "id": "VzubJKIYtP8u"
   },
   "source": [
    "## Разделите данные и объясните выбор стратегии"
   ]
  },
  {
   "cell_type": "code",
   "execution_count": null,
   "metadata": {
    "_cell_guid": "35d7b6ae-6a83-d93d-0fa3-8502b8f9bee0",
    "id": "mHzvEErXTtWD"
   },
   "outputs": [],
   "source": []
  },
  {
   "cell_type": "markdown",
   "metadata": {},
   "source": [
    "__Ваш ответ:__ ..."
   ]
  },
  {
   "cell_type": "markdown",
   "metadata": {
    "id": "Fq3f92ANsvZ3"
   },
   "source": [
    "## Состязательная валидация (Adversarial Validation) [+30% к ДЗ]"
   ]
  },
  {
   "cell_type": "markdown",
   "metadata": {
    "id": "IPvFGp92s4Fv"
   },
   "source": [
    "Данная стратегия часто применяется в соревнованиях по машинному обучению. Так как проверить свой алгоритм возможно только на заданном тренировочном наборе данных, а результат требуется к набору, для которого нет ответов, то выбирают следующий подход:\n",
    "- оценить степень схожести тренировочных и тестовых данных;\n",
    "- составить валидацию из тех тренировочных данных, которые больше похожи на тестовые.\n",
    "\n",
    "Алгоритм реализации AV:\n",
    "1. Удаляем ответы из тренировочных данных.\n",
    "2. Добавляем специальные метки (```is_test```) для классов: тренировочные данные и тестовые.\n",
    "То есть у тестовых данных будет значение ```is_test = 1```, а у тренировочных ```is_test = 0```.\n",
    "4. Учим алгоритм классификации предсказывать заданную метку ```is_test```.\n",
    "5. Делим тренировочные данные на N частей и проводим кросс-валидацию.\n",
    "\n",
    "Обучаем N алгоритмов классификации: каждый обучается на всех тестовых данных и на N-1 наборах тренировочных. Предсказываем на 1 тренировочном наборе.\n",
    "\n",
    "6. Для каждого элемента в выборке предсказываем вероятность принадлежности класса и сортируем тренировочные данные по вероятности принадлежности тестовой выборке.\n",
    "7. Выделяем заданное число данных в валидацию.\n",
    "8. Обучаемся для итогового предсказания на всех данных."
   ]
  },
  {
   "cell_type": "code",
   "execution_count": null,
   "metadata": {
    "_cell_guid": "03e74d0f-a241-a724-8b95-215bf4369d90",
    "id": "eE55xV0wTtWF"
   },
   "outputs": [],
   "source": []
  },
  {
   "cell_type": "markdown",
   "metadata": {
    "_cell_guid": "3013b854-7aaa-4ad6-7952-1d188121ea25",
    "id": "FOASQBPeTtWR"
   },
   "source": [
    "# Обучение алгоритма"
   ]
  },
  {
   "cell_type": "markdown",
   "metadata": {
    "id": "0mY4P-3KwCxe"
   },
   "source": [
    "Целевая переменная принимает дискретные значения [0; 20], поэтому вы можете поставить как задачу классификации, так и задачу регрессии.\n",
    "\n",
    "!Не забудьте про оптимизацию параметров алгоритмов, у вас же уже есть данные для валидации."
   ]
  },
  {
   "cell_type": "markdown",
   "metadata": {
    "id": "hSzT-UXuwc0K"
   },
   "source": [
    "## KNN [20%]"
   ]
  },
  {
   "cell_type": "code",
   "execution_count": null,
   "metadata": {
    "_cell_guid": "74f8d40e-415f-9e29-03ca-aa1e75714c11",
    "id": "ZYbJ_BsSwc0L"
   },
   "outputs": [],
   "source": []
  },
  {
   "cell_type": "markdown",
   "metadata": {
    "_cell_guid": "7febeef3-e6b0-a18a-5705-7ee3876c1965",
    "id": "Udr6RqDEwc0P"
   },
   "source": [
    "## Регрессия [20%]"
   ]
  },
  {
   "cell_type": "code",
   "execution_count": null,
   "metadata": {
    "_cell_guid": "12f1d266-9efa-4bd9-a3c1-48ea880080be",
    "id": "crF6j8Qwwc0Q"
   },
   "outputs": [],
   "source": []
  },
  {
   "cell_type": "markdown",
   "metadata": {
    "_cell_guid": "3013b854-7aaa-4ad6-7952-1d188121ea25",
    "id": "Jesi9XuFxDC4"
   },
   "source": [
    "# Сделайте итоговое предсказание"
   ]
  },
  {
   "cell_type": "markdown",
   "metadata": {
    "id": "o1RKHAMMxDC5"
   },
   "source": [
    "Решением домашнего задания является данный ноутбук + .csv файл с предсказанием. Пример формата файла, который должен у вас получится приведен в ```data/sample_submission.csv```.\n",
    "\n",
    "За лучшее предсказание 5 человек получат +10% к домашке.\n",
    "\n",
    "Значения предсказаний должны быть целочисленными. Проверка будет точности решения будет по MSE."
   ]
  },
  {
   "cell_type": "code",
   "execution_count": null,
   "metadata": {
    "_cell_guid": "74f8d40e-415f-9e29-03ca-aa1e75714c11",
    "id": "4jjz8kfUxDC7"
   },
   "outputs": [],
   "source": [
    "# Для jupyter notebook\n",
    "\n",
    "submission = pd.read_csv('data/sample_submission.csv', index_col='id')\n",
    "submission['G3'] = 1 # ваше предсказание\n",
    "submission.to_csv('data/submission.csv', index=False) "
   ]
  },
  {
   "cell_type": "code",
   "execution_count": null,
   "metadata": {
    "colab": {
     "base_uri": "https://localhost:8080/",
     "height": 17
    },
    "executionInfo": {
     "elapsed": 897,
     "status": "ok",
     "timestamp": 1601987971190,
     "user": {
      "displayName": "Даниил Русланович Махоткин",
      "photoUrl": "",
      "userId": "18336248573599285046"
     },
     "user_tz": -180
    },
    "id": "x-6G4MNLyfl9",
    "outputId": "15ad1b0f-2e4a-4783-f41c-1993ca53157e"
   },
   "outputs": [],
   "source": [
    "# Для colab notebook\n",
    "\n",
    "from google.colab import files\n",
    "\n",
    "pd.read_csv('data/sample_submission.csv', index_col='id')\n",
    "submission['G3'] = 1 # ваше предсказание\n",
    "submission.to_csv('data/submission.csv', index=False)\n",
    "files.download('data/submission.csv')"
   ]
  }
 ],
 "metadata": {
  "_change_revision": 0,
  "_is_fork": false,
  "colab": {
   "name": "HW 1.ipynb",
   "provenance": [],
   "toc_visible": true
  },
  "kernelspec": {
   "display_name": "Python 3 (ipykernel)",
   "language": "python",
   "name": "python3"
  },
  "language_info": {
   "codemirror_mode": {
    "name": "ipython",
    "version": 3
   },
   "file_extension": ".py",
   "mimetype": "text/x-python",
   "name": "python",
   "nbconvert_exporter": "python",
   "pygments_lexer": "ipython3",
   "version": "3.8.10"
  }
 },
 "nbformat": 4,
 "nbformat_minor": 4
}
