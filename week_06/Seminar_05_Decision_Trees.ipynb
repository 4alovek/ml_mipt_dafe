{
  "nbformat": 4,
  "nbformat_minor": 0,
  "metadata": {
    "kernelspec": {
      "display_name": "Python 3",
      "language": "python",
      "name": "python3"
    },
    "language_info": {
      "codemirror_mode": {
        "name": "ipython",
        "version": 3
      },
      "file_extension": ".py",
      "mimetype": "text/x-python",
      "name": "python",
      "nbconvert_exporter": "python",
      "pygments_lexer": "ipython3",
      "version": "3.6.6"
    },
    "colab": {
      "name": "Seminar 05 - Decision Trees.ipynb",
      "provenance": [],
      "collapsed_sections": [],
      "toc_visible": true
    }
  },
  "cells": [
    {
      "cell_type": "markdown",
      "metadata": {
        "id": "eMVZVd_ZCOmh"
      },
      "source": [
        "# Семинар – Деревья решений"
      ]
    },
    {
      "cell_type": "code",
      "metadata": {
        "id": "2icce3YoCpRL",
        "colab": {
          "base_uri": "https://localhost:8080/"
        },
        "outputId": "0b59faa1-4e38-467c-cc18-d32749d8446c"
      },
      "source": [
        "# !pip install numpy\n",
        "# !pip install pandas\n",
        "# !pip install matplotlib\n",
        "# !pip install sklearn\n",
        "!pip install pydot"
      ],
      "execution_count": null,
      "outputs": [
        {
          "output_type": "stream",
          "name": "stdout",
          "text": [
            "Requirement already satisfied: pydot in /usr/local/lib/python3.7/dist-packages (1.3.0)\n",
            "Requirement already satisfied: pyparsing>=2.1.4 in /usr/local/lib/python3.7/dist-packages (from pydot) (2.4.7)\n"
          ]
        }
      ]
    },
    {
      "cell_type": "markdown",
      "metadata": {
        "id": "QjrFV-8RurHj"
      },
      "source": [
        "# 1. Деревья решений"
      ]
    },
    {
      "cell_type": "markdown",
      "metadata": {
        "id": "Q5BM-TUrvSgP"
      },
      "source": [
        "## 1.1 Деревья решений в sklearn"
      ]
    },
    {
      "cell_type": "code",
      "metadata": {
        "id": "_5GDvz-hCOmc",
        "colab": {
          "base_uri": "https://localhost:8080/"
        },
        "outputId": "c83f5b64-923d-4003-fa70-e6cfdcb3574b"
      },
      "source": [
        "import pandas as pd\n",
        "import numpy as np\n",
        "\n",
        "from matplotlib import pyplot as plt\n",
        "\n",
        "\n",
        "\n",
        "from sklearn.model_selection import train_test_split, GridSearchCV\n",
        "from sklearn.metrics import accuracy_score, classification_report, classification, mean_squared_error, r2_score, roc_auc_score\n",
        "\n",
        "%matplotlib inline"
      ],
      "execution_count": null,
      "outputs": [
        {
          "output_type": "stream",
          "name": "stderr",
          "text": [
            "/usr/local/lib/python3.7/dist-packages/sklearn/utils/deprecation.py:144: FutureWarning: The sklearn.metrics.classification module is  deprecated in version 0.22 and will be removed in version 0.24. The corresponding classes / functions should instead be imported from sklearn.metrics. Anything that cannot be imported from sklearn.metrics is now part of the private API.\n",
            "  warnings.warn(message, FutureWarning)\n"
          ]
        }
      ]
    },
    {
      "cell_type": "markdown",
      "metadata": {
        "id": "o9eCmXYfCOmi"
      },
      "source": [
        "Для нагляности в качестве простого примера, возьмем всем известные ирисы"
      ]
    },
    {
      "cell_type": "code",
      "metadata": {
        "id": "I7Ad3e3wEeba"
      },
      "source": [
        "from sklearn.datasets import load_iris\n",
        "\n",
        "iris = load_iris()\n",
        "X = iris.data[:, 2:] # petal length and width"
      ],
      "execution_count": null,
      "outputs": []
    },
    {
      "cell_type": "code",
      "metadata": {
        "id": "GX_CYPFdEiSR"
      },
      "source": [
        "target_names = iris.target_names\n",
        "feature_names = iris.feature_names[2:]\n",
        "\n",
        "y = iris.target"
      ],
      "execution_count": null,
      "outputs": []
    },
    {
      "cell_type": "code",
      "metadata": {
        "id": "ckC2y6yTWJkR",
        "colab": {
          "base_uri": "https://localhost:8080/"
        },
        "outputId": "9bfdded4-28c4-4b66-ab58-62704df8a851"
      },
      "source": [
        "y"
      ],
      "execution_count": null,
      "outputs": [
        {
          "output_type": "execute_result",
          "data": {
            "text/plain": [
              "array([0, 0, 0, 0, 0, 0, 0, 0, 0, 0, 0, 0, 0, 0, 0, 0, 0, 0, 0, 0, 0, 0,\n",
              "       0, 0, 0, 0, 0, 0, 0, 0, 0, 0, 0, 0, 0, 0, 0, 0, 0, 0, 0, 0, 0, 0,\n",
              "       0, 0, 0, 0, 0, 0, 1, 1, 1, 1, 1, 1, 1, 1, 1, 1, 1, 1, 1, 1, 1, 1,\n",
              "       1, 1, 1, 1, 1, 1, 1, 1, 1, 1, 1, 1, 1, 1, 1, 1, 1, 1, 1, 1, 1, 1,\n",
              "       1, 1, 1, 1, 1, 1, 1, 1, 1, 1, 1, 1, 2, 2, 2, 2, 2, 2, 2, 2, 2, 2,\n",
              "       2, 2, 2, 2, 2, 2, 2, 2, 2, 2, 2, 2, 2, 2, 2, 2, 2, 2, 2, 2, 2, 2,\n",
              "       2, 2, 2, 2, 2, 2, 2, 2, 2, 2, 2, 2, 2, 2, 2, 2, 2, 2])"
            ]
          },
          "metadata": {},
          "execution_count": 5
        }
      ]
    },
    {
      "cell_type": "code",
      "metadata": {
        "id": "0Rgz3-LrCOmi",
        "colab": {
          "base_uri": "https://localhost:8080/"
        },
        "outputId": "f8080ca7-80cf-4f29-e84f-0b0d679a8986"
      },
      "source": [
        "from sklearn.tree import DecisionTreeClassifier\n",
        "\n",
        "tree_clf = DecisionTreeClassifier(max_depth=2, random_state=42)\n",
        "tree_clf.fit(X, y)"
      ],
      "execution_count": null,
      "outputs": [
        {
          "output_type": "execute_result",
          "data": {
            "text/plain": [
              "DecisionTreeClassifier(ccp_alpha=0.0, class_weight=None, criterion='gini',\n",
              "                       max_depth=2, max_features=None, max_leaf_nodes=None,\n",
              "                       min_impurity_decrease=0.0, min_impurity_split=None,\n",
              "                       min_samples_leaf=1, min_samples_split=2,\n",
              "                       min_weight_fraction_leaf=0.0, presort='deprecated',\n",
              "                       random_state=42, splitter='best')"
            ]
          },
          "metadata": {},
          "execution_count": 6
        }
      ]
    },
    {
      "cell_type": "markdown",
      "metadata": {
        "id": "VkAYcY8MCOmm"
      },
      "source": [
        "## 1.1 Визуализация обученного дерева"
      ]
    },
    {
      "cell_type": "code",
      "metadata": {
        "id": "Rl9Lu0I0Dk3b",
        "colab": {
          "base_uri": "https://localhost:8080/"
        },
        "outputId": "fce906ff-50cd-4f0c-a017-2ab10b31e122"
      },
      "source": [
        "from google.colab import drive\n",
        "drive.mount('/content/gdrive/')"
      ],
      "execution_count": null,
      "outputs": [
        {
          "output_type": "stream",
          "name": "stdout",
          "text": [
            "Mounted at /content/gdrive/\n"
          ]
        }
      ]
    },
    {
      "cell_type": "code",
      "metadata": {
        "id": "ubmR2geaCOmn"
      },
      "source": [
        "# Отрисуем дерево\n",
        "from sklearn.tree import export_graphviz\n",
        "\n",
        "export_graphviz(tree_clf, feature_names=feature_names,\n",
        "                      class_names=target_names,\n",
        "                \n",
        "out_file='iris_tree.dot', filled=True)\n",
        "\n",
        "# для этого понадобится библиотека pydot (pip install pydot)\n",
        "!dot -Tpng 'iris_tree.dot' -o 'iris_tree.png'"
      ],
      "execution_count": null,
      "outputs": []
    },
    {
      "cell_type": "markdown",
      "metadata": {
        "id": "Xtdvj-31COmp"
      },
      "source": [
        "![](https://drive.google.com/uc?export=view&id=1vbHl0PRg3kVOtJGuQmh5uuHCnW6t-uRR)"
      ]
    },
    {
      "cell_type": "code",
      "metadata": {
        "id": "uCj4XkrtCOmq",
        "colab": {
          "base_uri": "https://localhost:8080/",
          "height": 287
        },
        "outputId": "49ad6dc7-bb8c-4b23-9ccc-714445b4859a"
      },
      "source": [
        "from matplotlib.colors import ListedColormap\n",
        "\n",
        "def plot_decision_boundary(clf, X, y, axes=[0, 7.5, 0, 3], iris=True, legend=False, plot_training=True):\n",
        "    x1s = np.linspace(axes[0], axes[1], 100)\n",
        "    x2s = np.linspace(axes[2], axes[3], 100)\n",
        "    x1, x2 = np.meshgrid(x1s, x2s)\n",
        "    X_new = np.c_[x1.ravel(), x2.ravel()]\n",
        "    y_pred = clf.predict(X_new).reshape(x1.shape)\n",
        "    custom_cmap = ListedColormap(['#fafab0','#9898ff','#a0faa0'])\n",
        "    plt.contourf(x1, x2, y_pred, alpha=0.3, cmap=custom_cmap)\n",
        "    if not iris:\n",
        "        custom_cmap2 = ListedColormap(['#7d7d58','#4c4c7f','#507d50'])\n",
        "        plt.contour(x1, x2, y_pred, cmap=custom_cmap2, alpha=0.8)\n",
        "    if plot_training:\n",
        "        plt.plot(X[:, 0][y==0], X[:, 1][y==0], \"yo\", label=\"Iris-Setosa\")\n",
        "        plt.plot(X[:, 0][y==1], X[:, 1][y==1], \"bs\", label=\"Iris-Versicolor\")\n",
        "        plt.plot(X[:, 0][y==2], X[:, 1][y==2], \"g^\", label=\"Iris-Virginica\")\n",
        "        plt.axis(axes)\n",
        "    if iris:\n",
        "        plt.xlabel(\"Petal length\", fontsize=14)\n",
        "        plt.ylabel(\"Petal width\", fontsize=14)\n",
        "    else:\n",
        "        plt.xlabel(r\"$x_1$\", fontsize=18)\n",
        "        plt.ylabel(r\"$x_2$\", fontsize=18, rotation=0)\n",
        "    if legend:\n",
        "        plt.legend(loc=\"lower right\", fontsize=14)\n",
        "\n",
        "plt.figure(figsize=(10, 4))\n",
        "plot_decision_boundary(tree_clf, X, y)\n",
        "plt.plot([2.45, 2.45], [0, 3], \"k-\", linewidth=2)\n",
        "plt.plot([2.45, 7.5], [1.75, 1.75], \"k--\", linewidth=2)\n",
        "plt.plot([4.95, 4.95], [0, 1.75], \"k:\", linewidth=2)\n",
        "plt.plot([4.85, 4.85], [1.75, 3], \"k:\", linewidth=2)\n",
        "plt.text(1.40, 1.0, \"Depth=0\", fontsize=15)\n",
        "plt.text(3.2, 1.80, \"Depth=1\", fontsize=13)\n",
        "plt.text(4.05, 0.5, \"(Depth=2)\", fontsize=11)\n",
        "\n",
        "plt.show()"
      ],
      "execution_count": null,
      "outputs": [
        {
          "output_type": "display_data",
          "data": {
            "image/png": "[encoded data removed]",
            "text/plain": [
              "<Figure size 720x288 with 1 Axes>"
            ]
          },
          "metadata": {
            "needs_background": "light"
          }
        }
      ]
    },
    {
      "cell_type": "markdown",
      "metadata": {
        "id": "s1hOj4E9COms"
      },
      "source": [
        "## 1.2 Переобучение дерева\n",
        "Так как при построении дерева используется принцип жадной максимизации, то дерево достаточно легко переобучить"
      ]
    },
    {
      "cell_type": "code",
      "metadata": {
        "id": "84utvtPeCOmt",
        "colab": {
          "base_uri": "https://localhost:8080/",
          "height": 305
        },
        "outputId": "f5baa312-a494-423a-ec03-2d285fc48ebd"
      },
      "source": [
        "from sklearn.datasets import make_moons\n",
        "Xm, ym = make_moons(n_samples=100, noise=0.25, random_state=53)\n",
        "\n",
        "deep_tree_clf1 = DecisionTreeClassifier(random_state=42)\n",
        "deep_tree_clf2 = DecisionTreeClassifier(min_samples_leaf=4, random_state=42)\n",
        "deep_tree_clf1.fit(Xm, ym)\n",
        "deep_tree_clf2.fit(Xm, ym)\n",
        "\n",
        "plt.figure(figsize=(20, 4))\n",
        "plt.subplot(121)\n",
        "plot_decision_boundary(deep_tree_clf1, Xm, ym, axes=[-1.5, 2.5, -1, 1.5], iris=False)\n",
        "plt.title(\"No restrictions\", fontsize=16)\n",
        "plt.subplot(122)\n",
        "plot_decision_boundary(deep_tree_clf2, Xm, ym, axes=[-1.5, 2.5, -1, 1.5], iris=False)\n",
        "plt.title(\"min_samples_leaf = {}\".format(deep_tree_clf2.min_samples_leaf), fontsize=14)\n",
        "\n",
        "plt.show()"
      ],
      "execution_count": null,
      "outputs": [
        {
          "output_type": "display_data",
          "data": {
            "image/png": "[encoded data removed]",
            "text/plain": [
              "<Figure size 1440x288 with 2 Axes>"
            ]
          },
          "metadata": {
            "needs_background": "light"
          }
        }
      ]
    },
    {
      "cell_type": "markdown",
      "metadata": {
        "id": "7J18Hh_pCOmv"
      },
      "source": [
        "## 1.3 Чувствительность дерева к выборкам"
      ]
    },
    {
      "cell_type": "code",
      "metadata": {
        "id": "XE3FOknHCOmw",
        "colab": {
          "base_uri": "https://localhost:8080/",
          "height": 287
        },
        "outputId": "cf80c708-e6d1-4afa-efc2-15fdc92fca2e"
      },
      "source": [
        "np.random.seed(6)\n",
        "Xs = np.random.rand(100, 2) - 0.5\n",
        "ys = (Xs[:, 0] > 0).astype(np.float32) * 2\n",
        "\n",
        "angle = np.pi / 4\n",
        "rotation_matrix = np.array([[np.cos(angle), -np.sin(angle)], [np.sin(angle), np.cos(angle)]])\n",
        "Xsr = Xs.dot(rotation_matrix)\n",
        "\n",
        "tree_clf_s = DecisionTreeClassifier(random_state=42)\n",
        "tree_clf_s.fit(Xs, ys)\n",
        "tree_clf_sr = DecisionTreeClassifier(random_state=42)\n",
        "tree_clf_sr.fit(Xsr, ys)\n",
        "\n",
        "plt.figure(figsize=(20, 4))\n",
        "plt.subplot(121)\n",
        "plot_decision_boundary(tree_clf_s, Xs, ys, axes=[-0.7, 0.7, -0.7, 0.7], iris=False)\n",
        "plt.subplot(122)\n",
        "plot_decision_boundary(tree_clf_sr, Xsr, ys, axes=[-0.7, 0.7, -0.7, 0.7], iris=False)\n",
        "\n",
        "plt.show()"
      ],
      "execution_count": null,
      "outputs": [
        {
          "output_type": "display_data",
          "data": {
            "image/png": "[encoded data removed]",
            "text/plain": [
              "<Figure size 1440x288 with 2 Axes>"
            ]
          },
          "metadata": {
            "needs_background": "light"
          }
        }
      ]
    },
    {
      "cell_type": "markdown",
      "metadata": {
        "id": "kDtfSm56COmz"
      },
      "source": [
        "## 1.4 Регрессионые решающие деревья"
      ]
    },
    {
      "cell_type": "code",
      "metadata": {
        "id": "jQKiPRTjCOmz"
      },
      "source": [
        "# Quadratic training set + noise\n",
        "np.random.seed(42)\n",
        "m = 200\n",
        "X = np.random.rand(m, 1)\n",
        "y = 4 * (X - 0.5) ** 2\n",
        "y = y + np.random.randn(m, 1) / 10"
      ],
      "execution_count": null,
      "outputs": []
    },
    {
      "cell_type": "code",
      "metadata": {
        "id": "KGX-Rq5ECOm2",
        "colab": {
          "base_uri": "https://localhost:8080/"
        },
        "outputId": "bd2c6f53-b1cc-4676-e6a3-03242191e1f7"
      },
      "source": [
        "from sklearn.tree import DecisionTreeRegressor\n",
        "\n",
        "tree_reg = DecisionTreeRegressor(max_depth=2, random_state=42)\n",
        "tree_reg.fit(X, y)"
      ],
      "execution_count": null,
      "outputs": [
        {
          "output_type": "execute_result",
          "data": {
            "text/plain": [
              "DecisionTreeRegressor(ccp_alpha=0.0, criterion='mse', max_depth=2,\n",
              "                      max_features=None, max_leaf_nodes=None,\n",
              "                      min_impurity_decrease=0.0, min_impurity_split=None,\n",
              "                      min_samples_leaf=1, min_samples_split=2,\n",
              "                      min_weight_fraction_leaf=0.0, presort='deprecated',\n",
              "                      random_state=42, splitter='best')"
            ]
          },
          "metadata": {},
          "execution_count": 13
        }
      ]
    },
    {
      "cell_type": "code",
      "metadata": {
        "id": "ozzLH2_-COm4",
        "colab": {
          "base_uri": "https://localhost:8080/",
          "height": 303
        },
        "outputId": "0f1dfebd-574a-4331-9e0d-9dfce8f98bed"
      },
      "source": [
        "tree_reg1 = DecisionTreeRegressor(random_state=42, max_depth=2)\n",
        "tree_reg2 = DecisionTreeRegressor(random_state=42, max_depth=3)\n",
        "tree_reg1.fit(X, y)\n",
        "tree_reg2.fit(X, y)\n",
        "\n",
        "def plot_regression_predictions(tree_reg, X, y, axes=[0, 1, -0.2, 1], ylabel=\"$y$\"):\n",
        "    x1 = np.linspace(axes[0], axes[1], 500).reshape(-1, 1)\n",
        "    y_pred = tree_reg.predict(x1)\n",
        "    plt.axis(axes)\n",
        "    plt.xlabel(\"$x_1$\", fontsize=18)\n",
        "    if ylabel:\n",
        "        plt.ylabel(ylabel, fontsize=18, rotation=0)\n",
        "    plt.plot(X, y, \"b.\")\n",
        "    plt.plot(x1, y_pred, \"r.-\", linewidth=2, label=r\"$\\hat{y}$\")\n",
        "\n",
        "plt.figure(figsize=(20, 4))\n",
        "plt.subplot(121)\n",
        "plot_regression_predictions(tree_reg1, X, y)\n",
        "for split, style in ((0.1973, \"k-\"), (0.0917, \"k--\"), (0.7718, \"k--\")):\n",
        "    plt.plot([split, split], [-0.2, 1], style, linewidth=2)\n",
        "plt.text(0.21, 0.65, \"Depth=0\", fontsize=15)\n",
        "plt.text(0.01, 0.2, \"Depth=1\", fontsize=13)\n",
        "plt.text(0.65, 0.8, \"Depth=1\", fontsize=13)\n",
        "plt.legend(loc=\"upper center\", fontsize=18)\n",
        "plt.title(\"max_depth=2\", fontsize=14)\n",
        "\n",
        "plt.subplot(122)\n",
        "plot_regression_predictions(tree_reg2, X, y, ylabel=None)\n",
        "for split, style in ((0.1973, \"k-\"), (0.0917, \"k--\"), (0.7718, \"k--\")):\n",
        "    plt.plot([split, split], [-0.2, 1], style, linewidth=2)\n",
        "for split in (0.0458, 0.1298, 0.2873, 0.9040):\n",
        "    plt.plot([split, split], [-0.2, 1], \"k:\", linewidth=1)\n",
        "plt.text(0.3, 0.5, \"Depth=2\", fontsize=13)\n",
        "plt.title(\"max_depth=3\", fontsize=14)\n",
        "\n",
        "\n",
        "plt.show()"
      ],
      "execution_count": null,
      "outputs": [
        {
          "output_type": "display_data",
          "data": {
            "image/png": "[encoded data removed]",
            "text/plain": [
              "<Figure size 1440x288 with 2 Axes>"
            ]
          },
          "metadata": {
            "needs_background": "light"
          }
        }
      ]
    },
    {
      "cell_type": "code",
      "metadata": {
        "id": "r9GdI6TbCOm6",
        "colab": {
          "base_uri": "https://localhost:8080/",
          "height": 303
        },
        "outputId": "34d6494a-206a-48e5-b6c0-ab1e9b5ce400"
      },
      "source": [
        "tree_reg1 = DecisionTreeRegressor(random_state=42)\n",
        "tree_reg2 = DecisionTreeRegressor(random_state=42, min_samples_leaf=10)\n",
        "tree_reg1.fit(X, y)\n",
        "tree_reg2.fit(X, y)\n",
        "\n",
        "x1 = np.linspace(0, 1, 500).reshape(-1, 1)\n",
        "y_pred1 = tree_reg1.predict(x1)\n",
        "y_pred2 = tree_reg2.predict(x1)\n",
        "\n",
        "plt.figure(figsize=(20, 4))\n",
        "\n",
        "plt.subplot(121)\n",
        "plt.plot(X, y, \"b.\")\n",
        "plt.plot(x1, y_pred1, \"r.-\", linewidth=2, label=r\"$\\hat{y}$\")\n",
        "plt.axis([0, 1, -0.2, 1.1])\n",
        "plt.xlabel(\"$x_1$\", fontsize=18)\n",
        "plt.ylabel(\"$y$\", fontsize=18, rotation=0)\n",
        "plt.legend(loc=\"upper center\", fontsize=18)\n",
        "plt.title(\"No restrictions\", fontsize=14)\n",
        "\n",
        "plt.subplot(122)\n",
        "plt.plot(X, y, \"b.\")\n",
        "plt.plot(x1, y_pred2, \"r.-\", linewidth=2, label=r\"$\\hat{y}$\")\n",
        "plt.axis([0, 1, -0.2, 1.1])\n",
        "plt.xlabel(\"$x_1$\", fontsize=18)\n",
        "plt.title(\"min_samples_leaf={}\".format(tree_reg2.min_samples_leaf), fontsize=14)\n",
        "\n",
        "plt.show()"
      ],
      "execution_count": null,
      "outputs": [
        {
          "output_type": "display_data",
          "data": {
            "image/png": "[encoded data removed]",
            "text/plain": [
              "<Figure size 1440x288 with 2 Axes>"
            ]
          },
          "metadata": {
            "needs_background": "light"
          }
        }
      ]
    },
    {
      "cell_type": "markdown",
      "metadata": {
        "id": "edw1z5LRCOm-"
      },
      "source": [
        "## 1.5 Применение на реальных данных"
      ]
    },
    {
      "cell_type": "markdown",
      "metadata": {
        "id": "qdD0904UFyVx"
      },
      "source": [
        "### 1.5.1 Платформа kaggle\n",
        "Будем использовать данныые с соревнования: [Прогнозирование задержек рейсов](https://www.kaggle.com/c/departure-delay2/leaderboard)   \n",
        "Начем с того, что загрузим данные:\n",
        "\n",
        "[x_train](https://drive.google.com/uc?export=download&id=1zHqX3NDXtUDm4VzhoIef8IrL7YQLAaxy)\n",
        "\n",
        "[x_test](https://drive.google.com/uc?export=download&id=15jJDI0bQ3S2pYYDT85gDOdpPKUhMtekj)\n",
        "\n",
        "[y_train](https://drive.google.com/uc?export=download&id=1i3_mb8tzzSKyjHPkBEKpQmcfHpe_Gn2I)"
      ]
    },
    {
      "cell_type": "code",
      "metadata": {
        "id": "OAG6sHOqCOm_"
      },
      "source": [
        "train = pd.read_csv('./gdrive/My Drive/Colab Notebooks/ML/семестр1/Семинар 6 - Trees/departure-delayed/x_train.csv').fillna(0)\n",
        "test = pd.read_csv('./gdrive/My Drive/Colab Notebooks/ML/семестр1/Семинар 6 - Trees/departure-delayed/x_test.csv').fillna(0)"
      ],
      "execution_count": null,
      "outputs": []
    },
    {
      "cell_type": "code",
      "metadata": {
        "id": "vKgkSYeCCOnB",
        "colab": {
          "base_uri": "https://localhost:8080/"
        },
        "outputId": "01ca652b-fb03-407d-fc36-6380a68c6386"
      },
      "source": [
        "y = pd.read_csv('./gdrive/My Drive/Colab Notebooks/ML/семестр1/Семинар 6 - Trees/departure-delayed/y_train.csv', index_col='id')"
      ],
      "execution_count": null,
      "outputs": [
        {
          "output_type": "stream",
          "name": "stderr",
          "text": [
            "/usr/local/lib/python3.7/dist-packages/numpy/lib/arraysetops.py:580: FutureWarning: elementwise comparison failed; returning scalar instead, but in the future will perform elementwise comparison\n",
            "  mask |= (ar1 == a)\n"
          ]
        }
      ]
    },
    {
      "cell_type": "markdown",
      "metadata": {
        "id": "PN6mEAlnCOnD"
      },
      "source": [
        "Посмотрим размеры выборок"
      ]
    },
    {
      "cell_type": "code",
      "metadata": {
        "id": "hAjwIYHOCOnD",
        "colab": {
          "base_uri": "https://localhost:8080/"
        },
        "outputId": "e456e260-ba25-493f-de22-18de8b5de5f0"
      },
      "source": [
        "train.shape, test.shape, y.shape"
      ],
      "execution_count": null,
      "outputs": [
        {
          "output_type": "execute_result",
          "data": {
            "text/plain": [
              "((1355730, 29), (581028, 29), (1355730, 1))"
            ]
          },
          "metadata": {},
          "execution_count": 108
        }
      ]
    },
    {
      "cell_type": "markdown",
      "metadata": {
        "id": "yNdIUnOqCOnG"
      },
      "source": [
        "Посмотрим как выглядят данные"
      ]
    },
    {
      "cell_type": "code",
      "metadata": {
        "id": "lebvVKPWCOnG",
        "colab": {
          "base_uri": "https://localhost:8080/",
          "height": 236
        },
        "outputId": "dc156723-575d-49de-d198-3dc540a26a52"
      },
      "source": [
        "train.head(5)"
      ],
      "execution_count": null,
      "outputs": [
        {
          "output_type": "execute_result",
          "data": {
            "text/html": [
              "<div>\n",
              "<style scoped>\n",
              "    .dataframe tbody tr th:only-of-type {\n",
              "        vertical-align: middle;\n",
              "    }\n",
              "\n",
              "    .dataframe tbody tr th {\n",
              "        vertical-align: top;\n",
              "    }\n",
              "\n",
              "    .dataframe thead th {\n",
              "        text-align: right;\n",
              "    }\n",
              "</style>\n",
              "<table border=\"1\" class=\"dataframe\">\n",
              "  <thead>\n",
              "    <tr style=\"text-align: right;\">\n",
              "      <th></th>\n",
              "      <th>Unnamed: 0</th>\n",
              "      <th>Year</th>\n",
              "      <th>Month</th>\n",
              "      <th>DayofMonth</th>\n",
              "      <th>DayOfWeek</th>\n",
              "      <th>DepTime</th>\n",
              "      <th>CRSDepTime</th>\n",
              "      <th>ArrTime</th>\n",
              "      <th>CRSArrTime</th>\n",
              "      <th>UniqueCarrier</th>\n",
              "      <th>FlightNum</th>\n",
              "      <th>TailNum</th>\n",
              "      <th>ActualElapsedTime</th>\n",
              "      <th>CRSElapsedTime</th>\n",
              "      <th>AirTime</th>\n",
              "      <th>ArrDelay</th>\n",
              "      <th>Origin</th>\n",
              "      <th>Dest</th>\n",
              "      <th>Distance</th>\n",
              "      <th>TaxiIn</th>\n",
              "      <th>TaxiOut</th>\n",
              "      <th>Cancelled</th>\n",
              "      <th>CancellationCode</th>\n",
              "      <th>Diverted</th>\n",
              "      <th>CarrierDelay</th>\n",
              "      <th>WeatherDelay</th>\n",
              "      <th>NASDelay</th>\n",
              "      <th>SecurityDelay</th>\n",
              "      <th>LateAircraftDelay</th>\n",
              "    </tr>\n",
              "  </thead>\n",
              "  <tbody>\n",
              "    <tr>\n",
              "      <th>0</th>\n",
              "      <td>6228008</td>\n",
              "      <td>2008</td>\n",
              "      <td>11</td>\n",
              "      <td>21</td>\n",
              "      <td>5</td>\n",
              "      <td>1500.0</td>\n",
              "      <td>1443</td>\n",
              "      <td>1557.0</td>\n",
              "      <td>1534</td>\n",
              "      <td>EV</td>\n",
              "      <td>5055</td>\n",
              "      <td>N920EV</td>\n",
              "      <td>117.0</td>\n",
              "      <td>111.0</td>\n",
              "      <td>94.0</td>\n",
              "      <td>23.0</td>\n",
              "      <td>ATL</td>\n",
              "      <td>XNA</td>\n",
              "      <td>589</td>\n",
              "      <td>7.0</td>\n",
              "      <td>16.0</td>\n",
              "      <td>0</td>\n",
              "      <td>N</td>\n",
              "      <td>0</td>\n",
              "      <td>17.0</td>\n",
              "      <td>0.0</td>\n",
              "      <td>6.0</td>\n",
              "      <td>0.0</td>\n",
              "      <td>0.0</td>\n",
              "    </tr>\n",
              "    <tr>\n",
              "      <th>1</th>\n",
              "      <td>4732721</td>\n",
              "      <td>2008</td>\n",
              "      <td>8</td>\n",
              "      <td>16</td>\n",
              "      <td>6</td>\n",
              "      <td>2000.0</td>\n",
              "      <td>1925</td>\n",
              "      <td>2149.0</td>\n",
              "      <td>2105</td>\n",
              "      <td>AA</td>\n",
              "      <td>1043</td>\n",
              "      <td>N5BUAA</td>\n",
              "      <td>169.0</td>\n",
              "      <td>160.0</td>\n",
              "      <td>148.0</td>\n",
              "      <td>44.0</td>\n",
              "      <td>MIA</td>\n",
              "      <td>STL</td>\n",
              "      <td>1068</td>\n",
              "      <td>7.0</td>\n",
              "      <td>14.0</td>\n",
              "      <td>0</td>\n",
              "      <td>N</td>\n",
              "      <td>0</td>\n",
              "      <td>31.0</td>\n",
              "      <td>0.0</td>\n",
              "      <td>9.0</td>\n",
              "      <td>0.0</td>\n",
              "      <td>4.0</td>\n",
              "    </tr>\n",
              "    <tr>\n",
              "      <th>2</th>\n",
              "      <td>472452</td>\n",
              "      <td>2008</td>\n",
              "      <td>1</td>\n",
              "      <td>26</td>\n",
              "      <td>6</td>\n",
              "      <td>1953.0</td>\n",
              "      <td>1900</td>\n",
              "      <td>2103.0</td>\n",
              "      <td>2020</td>\n",
              "      <td>9E</td>\n",
              "      <td>5832</td>\n",
              "      <td>89429E</td>\n",
              "      <td>70.0</td>\n",
              "      <td>80.0</td>\n",
              "      <td>41.0</td>\n",
              "      <td>43.0</td>\n",
              "      <td>TVC</td>\n",
              "      <td>DTW</td>\n",
              "      <td>207</td>\n",
              "      <td>15.0</td>\n",
              "      <td>14.0</td>\n",
              "      <td>0</td>\n",
              "      <td>N</td>\n",
              "      <td>0</td>\n",
              "      <td>0.0</td>\n",
              "      <td>0.0</td>\n",
              "      <td>0.0</td>\n",
              "      <td>0.0</td>\n",
              "      <td>43.0</td>\n",
              "    </tr>\n",
              "    <tr>\n",
              "      <th>3</th>\n",
              "      <td>5300680</td>\n",
              "      <td>2008</td>\n",
              "      <td>9</td>\n",
              "      <td>15</td>\n",
              "      <td>1</td>\n",
              "      <td>1233.0</td>\n",
              "      <td>1215</td>\n",
              "      <td>1355.0</td>\n",
              "      <td>1350</td>\n",
              "      <td>AA</td>\n",
              "      <td>1501</td>\n",
              "      <td>N543AA</td>\n",
              "      <td>82.0</td>\n",
              "      <td>95.0</td>\n",
              "      <td>65.0</td>\n",
              "      <td>5.0</td>\n",
              "      <td>MSY</td>\n",
              "      <td>DFW</td>\n",
              "      <td>448</td>\n",
              "      <td>10.0</td>\n",
              "      <td>7.0</td>\n",
              "      <td>0</td>\n",
              "      <td>N</td>\n",
              "      <td>0</td>\n",
              "      <td>0.0</td>\n",
              "      <td>0.0</td>\n",
              "      <td>0.0</td>\n",
              "      <td>0.0</td>\n",
              "      <td>0.0</td>\n",
              "    </tr>\n",
              "    <tr>\n",
              "      <th>4</th>\n",
              "      <td>2364574</td>\n",
              "      <td>2008</td>\n",
              "      <td>4</td>\n",
              "      <td>13</td>\n",
              "      <td>7</td>\n",
              "      <td>1325.0</td>\n",
              "      <td>540</td>\n",
              "      <td>1604.0</td>\n",
              "      <td>752</td>\n",
              "      <td>CO</td>\n",
              "      <td>527</td>\n",
              "      <td>N14347</td>\n",
              "      <td>219.0</td>\n",
              "      <td>192.0</td>\n",
              "      <td>182.0</td>\n",
              "      <td>492.0</td>\n",
              "      <td>BWI</td>\n",
              "      <td>IAH</td>\n",
              "      <td>1235</td>\n",
              "      <td>10.0</td>\n",
              "      <td>27.0</td>\n",
              "      <td>0</td>\n",
              "      <td>N</td>\n",
              "      <td>0</td>\n",
              "      <td>465.0</td>\n",
              "      <td>0.0</td>\n",
              "      <td>27.0</td>\n",
              "      <td>0.0</td>\n",
              "      <td>0.0</td>\n",
              "    </tr>\n",
              "  </tbody>\n",
              "</table>\n",
              "</div>"
            ],
            "text/plain": [
              "   Unnamed: 0  Year  Month  ...  NASDelay  SecurityDelay  LateAircraftDelay\n",
              "0     6228008  2008     11  ...       6.0            0.0                0.0\n",
              "1     4732721  2008      8  ...       9.0            0.0                4.0\n",
              "2      472452  2008      1  ...       0.0            0.0               43.0\n",
              "3     5300680  2008      9  ...       0.0            0.0                0.0\n",
              "4     2364574  2008      4  ...      27.0            0.0                0.0\n",
              "\n",
              "[5 rows x 29 columns]"
            ]
          },
          "metadata": {},
          "execution_count": 109
        }
      ]
    },
    {
      "cell_type": "markdown",
      "metadata": {
        "id": "xM33h2bdCOnI"
      },
      "source": [
        "Для начала, мы рассмотрим переменные, заданные числами"
      ]
    },
    {
      "cell_type": "code",
      "metadata": {
        "id": "O1IgyTmyCOnJ",
        "colab": {
          "base_uri": "https://localhost:8080/",
          "height": 310
        },
        "outputId": "b5a9bd69-5997-4d1f-8523-ba5f1df3cbf9"
      },
      "source": [
        "train.describe()"
      ],
      "execution_count": null,
      "outputs": [
        {
          "output_type": "execute_result",
          "data": {
            "text/html": [
              "<div>\n",
              "<style scoped>\n",
              "    .dataframe tbody tr th:only-of-type {\n",
              "        vertical-align: middle;\n",
              "    }\n",
              "\n",
              "    .dataframe tbody tr th {\n",
              "        vertical-align: top;\n",
              "    }\n",
              "\n",
              "    .dataframe thead th {\n",
              "        text-align: right;\n",
              "    }\n",
              "</style>\n",
              "<table border=\"1\" class=\"dataframe\">\n",
              "  <thead>\n",
              "    <tr style=\"text-align: right;\">\n",
              "      <th></th>\n",
              "      <th>Unnamed: 0</th>\n",
              "      <th>Year</th>\n",
              "      <th>Month</th>\n",
              "      <th>DayofMonth</th>\n",
              "      <th>DayOfWeek</th>\n",
              "      <th>DepTime</th>\n",
              "      <th>CRSDepTime</th>\n",
              "      <th>ArrTime</th>\n",
              "      <th>CRSArrTime</th>\n",
              "      <th>FlightNum</th>\n",
              "      <th>ActualElapsedTime</th>\n",
              "      <th>CRSElapsedTime</th>\n",
              "      <th>AirTime</th>\n",
              "      <th>ArrDelay</th>\n",
              "      <th>Distance</th>\n",
              "      <th>TaxiIn</th>\n",
              "      <th>TaxiOut</th>\n",
              "      <th>Cancelled</th>\n",
              "      <th>Diverted</th>\n",
              "      <th>CarrierDelay</th>\n",
              "      <th>WeatherDelay</th>\n",
              "      <th>NASDelay</th>\n",
              "      <th>SecurityDelay</th>\n",
              "      <th>LateAircraftDelay</th>\n",
              "    </tr>\n",
              "  </thead>\n",
              "  <tbody>\n",
              "    <tr>\n",
              "      <th>count</th>\n",
              "      <td>1.355730e+06</td>\n",
              "      <td>1355730.0</td>\n",
              "      <td>1.355730e+06</td>\n",
              "      <td>1.355730e+06</td>\n",
              "      <td>1.355730e+06</td>\n",
              "      <td>1.355730e+06</td>\n",
              "      <td>1.355730e+06</td>\n",
              "      <td>1.355730e+06</td>\n",
              "      <td>1.355730e+06</td>\n",
              "      <td>1.355730e+06</td>\n",
              "      <td>1.355730e+06</td>\n",
              "      <td>1.355730e+06</td>\n",
              "      <td>1.355730e+06</td>\n",
              "      <td>1.355730e+06</td>\n",
              "      <td>1.355730e+06</td>\n",
              "      <td>1.355730e+06</td>\n",
              "      <td>1.355730e+06</td>\n",
              "      <td>1.355730e+06</td>\n",
              "      <td>1.355730e+06</td>\n",
              "      <td>1.355730e+06</td>\n",
              "      <td>1.355730e+06</td>\n",
              "      <td>1.355730e+06</td>\n",
              "      <td>1.355730e+06</td>\n",
              "      <td>1.355730e+06</td>\n",
              "    </tr>\n",
              "    <tr>\n",
              "      <th>mean</th>\n",
              "      <td>3.343270e+06</td>\n",
              "      <td>2008.0</td>\n",
              "      <td>6.113693e+00</td>\n",
              "      <td>1.574812e+01</td>\n",
              "      <td>3.984872e+00</td>\n",
              "      <td>1.518377e+03</td>\n",
              "      <td>1.467266e+03</td>\n",
              "      <td>1.604431e+03</td>\n",
              "      <td>1.634246e+03</td>\n",
              "      <td>2.184309e+03</td>\n",
              "      <td>1.327058e+02</td>\n",
              "      <td>1.342748e+02</td>\n",
              "      <td>1.077869e+02</td>\n",
              "      <td>4.197709e+01</td>\n",
              "      <td>7.656316e+02</td>\n",
              "      <td>6.784615e+00</td>\n",
              "      <td>1.822987e+01</td>\n",
              "      <td>3.171723e-04</td>\n",
              "      <td>4.021450e-03</td>\n",
              "      <td>1.233159e+01</td>\n",
              "      <td>2.378817e+00</td>\n",
              "      <td>9.667474e+00</td>\n",
              "      <td>5.820776e-02</td>\n",
              "      <td>1.628875e+01</td>\n",
              "    </tr>\n",
              "    <tr>\n",
              "      <th>std</th>\n",
              "      <td>2.065971e+06</td>\n",
              "      <td>0.0</td>\n",
              "      <td>3.482474e+00</td>\n",
              "      <td>8.769966e+00</td>\n",
              "      <td>1.996001e+00</td>\n",
              "      <td>4.502490e+02</td>\n",
              "      <td>4.246592e+02</td>\n",
              "      <td>5.553880e+02</td>\n",
              "      <td>4.644314e+02</td>\n",
              "      <td>1.943356e+03</td>\n",
              "      <td>7.237591e+01</td>\n",
              "      <td>7.131570e+01</td>\n",
              "      <td>6.881249e+01</td>\n",
              "      <td>5.670777e+01</td>\n",
              "      <td>5.742785e+02</td>\n",
              "      <td>5.259213e+00</td>\n",
              "      <td>1.433770e+01</td>\n",
              "      <td>1.780651e-02</td>\n",
              "      <td>6.328729e-02</td>\n",
              "      <td>3.607857e+01</td>\n",
              "      <td>1.738014e+01</td>\n",
              "      <td>2.803708e+01</td>\n",
              "      <td>1.656713e+00</td>\n",
              "      <td>3.586489e+01</td>\n",
              "    </tr>\n",
              "    <tr>\n",
              "      <th>min</th>\n",
              "      <td>0.000000e+00</td>\n",
              "      <td>2008.0</td>\n",
              "      <td>1.000000e+00</td>\n",
              "      <td>1.000000e+00</td>\n",
              "      <td>1.000000e+00</td>\n",
              "      <td>1.000000e+00</td>\n",
              "      <td>0.000000e+00</td>\n",
              "      <td>0.000000e+00</td>\n",
              "      <td>0.000000e+00</td>\n",
              "      <td>1.000000e+00</td>\n",
              "      <td>0.000000e+00</td>\n",
              "      <td>-2.500000e+01</td>\n",
              "      <td>0.000000e+00</td>\n",
              "      <td>-1.090000e+02</td>\n",
              "      <td>1.100000e+01</td>\n",
              "      <td>0.000000e+00</td>\n",
              "      <td>0.000000e+00</td>\n",
              "      <td>0.000000e+00</td>\n",
              "      <td>0.000000e+00</td>\n",
              "      <td>0.000000e+00</td>\n",
              "      <td>0.000000e+00</td>\n",
              "      <td>0.000000e+00</td>\n",
              "      <td>0.000000e+00</td>\n",
              "      <td>0.000000e+00</td>\n",
              "    </tr>\n",
              "    <tr>\n",
              "      <th>25%</th>\n",
              "      <td>1.519278e+06</td>\n",
              "      <td>2008.0</td>\n",
              "      <td>3.000000e+00</td>\n",
              "      <td>8.000000e+00</td>\n",
              "      <td>2.000000e+00</td>\n",
              "      <td>1.203000e+03</td>\n",
              "      <td>1.135000e+03</td>\n",
              "      <td>1.313000e+03</td>\n",
              "      <td>1.325000e+03</td>\n",
              "      <td>6.100000e+02</td>\n",
              "      <td>8.000000e+01</td>\n",
              "      <td>8.200000e+01</td>\n",
              "      <td>5.800000e+01</td>\n",
              "      <td>9.000000e+00</td>\n",
              "      <td>3.380000e+02</td>\n",
              "      <td>4.000000e+00</td>\n",
              "      <td>1.000000e+01</td>\n",
              "      <td>0.000000e+00</td>\n",
              "      <td>0.000000e+00</td>\n",
              "      <td>0.000000e+00</td>\n",
              "      <td>0.000000e+00</td>\n",
              "      <td>0.000000e+00</td>\n",
              "      <td>0.000000e+00</td>\n",
              "      <td>0.000000e+00</td>\n",
              "    </tr>\n",
              "    <tr>\n",
              "      <th>50%</th>\n",
              "      <td>3.244459e+06</td>\n",
              "      <td>2008.0</td>\n",
              "      <td>6.000000e+00</td>\n",
              "      <td>1.600000e+01</td>\n",
              "      <td>4.000000e+00</td>\n",
              "      <td>1.545000e+03</td>\n",
              "      <td>1.510000e+03</td>\n",
              "      <td>1.714000e+03</td>\n",
              "      <td>1.705000e+03</td>\n",
              "      <td>1.544000e+03</td>\n",
              "      <td>1.160000e+02</td>\n",
              "      <td>1.160000e+02</td>\n",
              "      <td>9.000000e+01</td>\n",
              "      <td>2.400000e+01</td>\n",
              "      <td>6.060000e+02</td>\n",
              "      <td>5.000000e+00</td>\n",
              "      <td>1.400000e+01</td>\n",
              "      <td>0.000000e+00</td>\n",
              "      <td>0.000000e+00</td>\n",
              "      <td>0.000000e+00</td>\n",
              "      <td>0.000000e+00</td>\n",
              "      <td>0.000000e+00</td>\n",
              "      <td>0.000000e+00</td>\n",
              "      <td>0.000000e+00</td>\n",
              "    </tr>\n",
              "    <tr>\n",
              "      <th>75%</th>\n",
              "      <td>4.974685e+06</td>\n",
              "      <td>2008.0</td>\n",
              "      <td>9.000000e+00</td>\n",
              "      <td>2.300000e+01</td>\n",
              "      <td>6.000000e+00</td>\n",
              "      <td>1.900000e+03</td>\n",
              "      <td>1.815000e+03</td>\n",
              "      <td>2.030000e+03</td>\n",
              "      <td>2.014000e+03</td>\n",
              "      <td>3.423000e+03</td>\n",
              "      <td>1.650000e+02</td>\n",
              "      <td>1.650000e+02</td>\n",
              "      <td>1.370000e+02</td>\n",
              "      <td>5.500000e+01</td>\n",
              "      <td>9.980000e+02</td>\n",
              "      <td>8.000000e+00</td>\n",
              "      <td>2.100000e+01</td>\n",
              "      <td>0.000000e+00</td>\n",
              "      <td>0.000000e+00</td>\n",
              "      <td>9.000000e+00</td>\n",
              "      <td>0.000000e+00</td>\n",
              "      <td>6.000000e+00</td>\n",
              "      <td>0.000000e+00</td>\n",
              "      <td>1.800000e+01</td>\n",
              "    </tr>\n",
              "    <tr>\n",
              "      <th>max</th>\n",
              "      <td>7.009727e+06</td>\n",
              "      <td>2008.0</td>\n",
              "      <td>1.200000e+01</td>\n",
              "      <td>3.100000e+01</td>\n",
              "      <td>7.000000e+00</td>\n",
              "      <td>2.400000e+03</td>\n",
              "      <td>2.359000e+03</td>\n",
              "      <td>2.400000e+03</td>\n",
              "      <td>2.400000e+03</td>\n",
              "      <td>9.742000e+03</td>\n",
              "      <td>7.500000e+02</td>\n",
              "      <td>6.600000e+02</td>\n",
              "      <td>7.330000e+02</td>\n",
              "      <td>2.461000e+03</td>\n",
              "      <td>4.962000e+03</td>\n",
              "      <td>2.400000e+02</td>\n",
              "      <td>3.830000e+02</td>\n",
              "      <td>1.000000e+00</td>\n",
              "      <td>1.000000e+00</td>\n",
              "      <td>2.436000e+03</td>\n",
              "      <td>1.297000e+03</td>\n",
              "      <td>1.357000e+03</td>\n",
              "      <td>3.920000e+02</td>\n",
              "      <td>1.316000e+03</td>\n",
              "    </tr>\n",
              "  </tbody>\n",
              "</table>\n",
              "</div>"
            ],
            "text/plain": [
              "         Unnamed: 0       Year  ...  SecurityDelay  LateAircraftDelay\n",
              "count  1.355730e+06  1355730.0  ...   1.355730e+06       1.355730e+06\n",
              "mean   3.343270e+06     2008.0  ...   5.820776e-02       1.628875e+01\n",
              "std    2.065971e+06        0.0  ...   1.656713e+00       3.586489e+01\n",
              "min    0.000000e+00     2008.0  ...   0.000000e+00       0.000000e+00\n",
              "25%    1.519278e+06     2008.0  ...   0.000000e+00       0.000000e+00\n",
              "50%    3.244459e+06     2008.0  ...   0.000000e+00       0.000000e+00\n",
              "75%    4.974685e+06     2008.0  ...   0.000000e+00       1.800000e+01\n",
              "max    7.009727e+06     2008.0  ...   3.920000e+02       1.316000e+03\n",
              "\n",
              "[8 rows x 24 columns]"
            ]
          },
          "metadata": {},
          "execution_count": 110
        }
      ]
    },
    {
      "cell_type": "code",
      "metadata": {
        "id": "i-4lVZERCOnM",
        "colab": {
          "base_uri": "https://localhost:8080/"
        },
        "outputId": "364ed7ce-0a27-4d0b-cc00-e5ee6b930baa"
      },
      "source": [
        "# Проверим, прежде чем выкидывать признак:\n",
        "print(\"Значений признака 'year' в трейне \" ,  train['Year'].nunique())\n",
        "print(\"Значений признака 'year' в тесте \" ,  test['Year'].nunique())"
      ],
      "execution_count": null,
      "outputs": [
        {
          "output_type": "stream",
          "name": "stdout",
          "text": [
            "Значений признака 'year' в трейне  1\n",
            "Значений признака 'year' в тесте  1\n"
          ]
        }
      ]
    },
    {
      "cell_type": "markdown",
      "metadata": {
        "id": "l_Qfl9USCOnM"
      },
      "source": [
        "Итак, какие выводы мы можем сделать? \n",
        "1. Признак `year` не несет вариативности в данные - удалим его\n",
        "2. Признаки `Month`, `DayofMonth`, `DayOfWeek` скорее всего можно рассматривать как категориальные"
      ]
    },
    {
      "cell_type": "code",
      "metadata": {
        "id": "DCwqGsm8COnO"
      },
      "source": [
        "train.drop('Year', axis=1, inplace=True)\n",
        "test.drop('Year', axis=1, inplace=True)"
      ],
      "execution_count": null,
      "outputs": []
    },
    {
      "cell_type": "code",
      "metadata": {
        "id": "ZK2d_y1DCOnQ",
        "colab": {
          "base_uri": "https://localhost:8080/"
        },
        "outputId": "c989d802-d8e7-43e1-ae0d-e2bc42fb02cd"
      },
      "source": [
        "types = train.dtypes\n",
        "real_cols = list(types[types != 'object'].index.values)\n",
        "cat_cols = list(types[types == 'object'].index.values)\n",
        "types"
      ],
      "execution_count": null,
      "outputs": [
        {
          "output_type": "execute_result",
          "data": {
            "text/plain": [
              "Unnamed: 0             int64\n",
              "Month                  int64\n",
              "DayofMonth             int64\n",
              "DayOfWeek              int64\n",
              "DepTime              float64\n",
              "CRSDepTime             int64\n",
              "ArrTime              float64\n",
              "CRSArrTime             int64\n",
              "UniqueCarrier         object\n",
              "FlightNum              int64\n",
              "TailNum               object\n",
              "ActualElapsedTime    float64\n",
              "CRSElapsedTime       float64\n",
              "AirTime              float64\n",
              "ArrDelay             float64\n",
              "Origin                object\n",
              "Dest                  object\n",
              "Distance               int64\n",
              "TaxiIn               float64\n",
              "TaxiOut              float64\n",
              "Cancelled              int64\n",
              "CancellationCode      object\n",
              "Diverted               int64\n",
              "CarrierDelay         float64\n",
              "WeatherDelay         float64\n",
              "NASDelay             float64\n",
              "SecurityDelay        float64\n",
              "LateAircraftDelay    float64\n",
              "dtype: object"
            ]
          },
          "metadata": {},
          "execution_count": 113
        }
      ]
    },
    {
      "cell_type": "markdown",
      "metadata": {
        "id": "lHubNvwGyf5w"
      },
      "source": [
        "Построим зависимость ошибки от максимальной глубины дерева"
      ]
    },
    {
      "cell_type": "code",
      "metadata": {
        "id": "i7PlLEQxCOnT"
      },
      "source": [
        "x_train, x_val, y_train, y_val = train_test_split(train, y, train_size=0.7, test_size=0.3, random_state=1)"
      ],
      "execution_count": null,
      "outputs": []
    },
    {
      "cell_type": "code",
      "metadata": {
        "id": "F5YfbWF4COnV"
      },
      "source": [
        "dt = DecisionTreeRegressor()\n",
        "dt.fit(x_train[real_cols], y_train)\n",
        "mse_train = mean_squared_error(dt.predict(x_train[real_cols]), y_train)\n",
        "mse_val = mean_squared_error(dt.predict(x_val[real_cols]), y_val)\n",
        "print(mse_train, mse_val)"
      ],
      "execution_count": null,
      "outputs": []
    },
    {
      "cell_type": "markdown",
      "metadata": {
        "id": "BQrDtP7Ay7Ao"
      },
      "source": [
        "А теперь с регуляризацией"
      ]
    },
    {
      "cell_type": "code",
      "metadata": {
        "id": "sktQrscFCOnY"
      },
      "source": [
        "mse_train = []\n",
        "mse_val = []\n",
        "\n",
        "for i in range(5):\n",
        "    dt = DecisionTreeRegressor(max_depth=i*5+1)\n",
        "    dt.fit(x_train[real_cols], y_train)\n",
        "    mse_train = np.append(mse_train, mean_squared_error(dt.predict(x_train[real_cols]), y_train))\n",
        "    mse_val = np.append(mse_val, mean_squared_error(dt.predict(x_val[real_cols]), y_val))"
      ],
      "execution_count": null,
      "outputs": []
    },
    {
      "cell_type": "code",
      "metadata": {
        "id": "rosQE8f9COna"
      },
      "source": [
        "plt.figure(figsize=(10, 4))\n",
        "plt.title('Изменение ошибки в зависимости от глубины дерева')\n",
        "\n",
        "plt.plot(mse_train, label='Train')\n",
        "plt.plot(mse_val, label='Test')\n",
        "plt.legend()\n",
        "plt.xlabel('Глубина дерева')\n",
        "plt.ylabel('MSE')\n",
        "plt.show()"
      ],
      "execution_count": null,
      "outputs": []
    },
    {
      "cell_type": "code",
      "metadata": {
        "id": "yQZxlVnbER2k",
        "colab": {
          "base_uri": "https://localhost:8080/"
        },
        "outputId": "a44b9f39-34f5-4c31-a4c8-aaa5c9b8170b"
      },
      "source": [
        "from sklearn.metrics import mean_squared_error\n",
        "# Обучим классификатор\n",
        "# dt = DecisionTreeRegressor(max_depth=10, min_samples_leaf=1000, min_samples_split=1000)\n",
        "# dt.fit(train[real_cols], y)\n",
        "mean_squared_error(dt.predict(x_val[real_cols]), y_val.values)"
      ],
      "execution_count": null,
      "outputs": [
        {
          "output_type": "execute_result",
          "data": {
            "text/plain": [
              "390.1891968146699"
            ]
          },
          "metadata": {},
          "execution_count": 119
        }
      ]
    },
    {
      "cell_type": "code",
      "metadata": {
        "id": "7OP5DqkHHSED",
        "colab": {
          "base_uri": "https://localhost:8080/"
        },
        "outputId": "7dd41e96-eace-4c20-ae09-754f0868f54b"
      },
      "source": [
        "y_val.values"
      ],
      "execution_count": null,
      "outputs": [
        {
          "output_type": "execute_result",
          "data": {
            "text/plain": [
              "array([[111.],\n",
              "       [ 19.],\n",
              "       [ 22.],\n",
              "       ...,\n",
              "       [ 19.],\n",
              "       [172.],\n",
              "       [ 23.]])"
            ]
          },
          "metadata": {},
          "execution_count": 120
        }
      ]
    },
    {
      "cell_type": "markdown",
      "metadata": {
        "id": "4TIPPSs4COnc"
      },
      "source": [
        "### 1.5.2 Работа с категориальными переменными"
      ]
    },
    {
      "cell_type": "markdown",
      "metadata": {
        "id": "WNFucJxZA7n9"
      },
      "source": [
        "#### One hot encoding\n",
        "\n",
        "Представим, что у нас есть признак, который принимает n значений, One hot encoding создает n признаков вместо изначального, при этом каждый новый признак принимает значения $\\{0,1\\}$, при этом все признаки каждого объекта будут равны 0, и только один 1\n",
        "\n",
        "Возможно использовать `OneHotEncoder` из sklearn.preprocessing, но мы будем испольовать `pandas`"
      ]
    },
    {
      "cell_type": "code",
      "metadata": {
        "id": "9v8-n1xzCOnd",
        "colab": {
          "base_uri": "https://localhost:8080/"
        },
        "outputId": "cd6c1be9-6ceb-47e9-fab6-6aca9595e719"
      },
      "source": [
        "print(train['UniqueCarrier'].unique())\n",
        "print(train['UniqueCarrier'].nunique())"
      ],
      "execution_count": null,
      "outputs": [
        {
          "output_type": "stream",
          "name": "stdout",
          "text": [
            "['EV' 'AA' '9E' 'CO' 'MQ' 'OO' 'UA' 'B6' 'WN' 'OH' 'DL' 'US' 'AS' 'NW'\n",
            " 'XE' 'F9' 'FL' 'YV' 'HA' 'AQ']\n",
            "20\n"
          ]
        }
      ]
    },
    {
      "cell_type": "code",
      "metadata": {
        "id": "UINOwEzlCOnf"
      },
      "source": [
        "train = pd.get_dummies(train, drop_first=True, columns=['UniqueCarrier'])\n",
        "test = pd.get_dummies(test, drop_first=True, columns=['UniqueCarrier'])"
      ],
      "execution_count": null,
      "outputs": []
    },
    {
      "cell_type": "code",
      "metadata": {
        "id": "GsJHvyQ1COng",
        "colab": {
          "base_uri": "https://localhost:8080/",
          "height": 236
        },
        "outputId": "e824b64b-1a4e-405c-ac17-8c4ed23012a6"
      },
      "source": [
        "train.head()"
      ],
      "execution_count": null,
      "outputs": [
        {
          "output_type": "execute_result",
          "data": {
            "text/html": [
              "<div>\n",
              "<style scoped>\n",
              "    .dataframe tbody tr th:only-of-type {\n",
              "        vertical-align: middle;\n",
              "    }\n",
              "\n",
              "    .dataframe tbody tr th {\n",
              "        vertical-align: top;\n",
              "    }\n",
              "\n",
              "    .dataframe thead th {\n",
              "        text-align: right;\n",
              "    }\n",
              "</style>\n",
              "<table border=\"1\" class=\"dataframe\">\n",
              "  <thead>\n",
              "    <tr style=\"text-align: right;\">\n",
              "      <th></th>\n",
              "      <th>Unnamed: 0</th>\n",
              "      <th>Month</th>\n",
              "      <th>DayofMonth</th>\n",
              "      <th>DayOfWeek</th>\n",
              "      <th>DepTime</th>\n",
              "      <th>CRSDepTime</th>\n",
              "      <th>ArrTime</th>\n",
              "      <th>CRSArrTime</th>\n",
              "      <th>FlightNum</th>\n",
              "      <th>TailNum</th>\n",
              "      <th>ActualElapsedTime</th>\n",
              "      <th>CRSElapsedTime</th>\n",
              "      <th>AirTime</th>\n",
              "      <th>ArrDelay</th>\n",
              "      <th>Origin</th>\n",
              "      <th>Dest</th>\n",
              "      <th>Distance</th>\n",
              "      <th>TaxiIn</th>\n",
              "      <th>TaxiOut</th>\n",
              "      <th>Cancelled</th>\n",
              "      <th>CancellationCode</th>\n",
              "      <th>Diverted</th>\n",
              "      <th>CarrierDelay</th>\n",
              "      <th>WeatherDelay</th>\n",
              "      <th>NASDelay</th>\n",
              "      <th>SecurityDelay</th>\n",
              "      <th>LateAircraftDelay</th>\n",
              "      <th>UniqueCarrier_AA</th>\n",
              "      <th>UniqueCarrier_AQ</th>\n",
              "      <th>UniqueCarrier_AS</th>\n",
              "      <th>UniqueCarrier_B6</th>\n",
              "      <th>UniqueCarrier_CO</th>\n",
              "      <th>UniqueCarrier_DL</th>\n",
              "      <th>UniqueCarrier_EV</th>\n",
              "      <th>UniqueCarrier_F9</th>\n",
              "      <th>UniqueCarrier_FL</th>\n",
              "      <th>UniqueCarrier_HA</th>\n",
              "      <th>UniqueCarrier_MQ</th>\n",
              "      <th>UniqueCarrier_NW</th>\n",
              "      <th>UniqueCarrier_OH</th>\n",
              "      <th>UniqueCarrier_OO</th>\n",
              "      <th>UniqueCarrier_UA</th>\n",
              "      <th>UniqueCarrier_US</th>\n",
              "      <th>UniqueCarrier_WN</th>\n",
              "      <th>UniqueCarrier_XE</th>\n",
              "      <th>UniqueCarrier_YV</th>\n",
              "    </tr>\n",
              "  </thead>\n",
              "  <tbody>\n",
              "    <tr>\n",
              "      <th>0</th>\n",
              "      <td>6228008</td>\n",
              "      <td>11</td>\n",
              "      <td>21</td>\n",
              "      <td>5</td>\n",
              "      <td>1500.0</td>\n",
              "      <td>1443</td>\n",
              "      <td>1557.0</td>\n",
              "      <td>1534</td>\n",
              "      <td>5055</td>\n",
              "      <td>N920EV</td>\n",
              "      <td>117.0</td>\n",
              "      <td>111.0</td>\n",
              "      <td>94.0</td>\n",
              "      <td>23.0</td>\n",
              "      <td>ATL</td>\n",
              "      <td>XNA</td>\n",
              "      <td>589</td>\n",
              "      <td>7.0</td>\n",
              "      <td>16.0</td>\n",
              "      <td>0</td>\n",
              "      <td>N</td>\n",
              "      <td>0</td>\n",
              "      <td>17.0</td>\n",
              "      <td>0.0</td>\n",
              "      <td>6.0</td>\n",
              "      <td>0.0</td>\n",
              "      <td>0.0</td>\n",
              "      <td>0</td>\n",
              "      <td>0</td>\n",
              "      <td>0</td>\n",
              "      <td>0</td>\n",
              "      <td>0</td>\n",
              "      <td>0</td>\n",
              "      <td>1</td>\n",
              "      <td>0</td>\n",
              "      <td>0</td>\n",
              "      <td>0</td>\n",
              "      <td>0</td>\n",
              "      <td>0</td>\n",
              "      <td>0</td>\n",
              "      <td>0</td>\n",
              "      <td>0</td>\n",
              "      <td>0</td>\n",
              "      <td>0</td>\n",
              "      <td>0</td>\n",
              "      <td>0</td>\n",
              "    </tr>\n",
              "    <tr>\n",
              "      <th>1</th>\n",
              "      <td>4732721</td>\n",
              "      <td>8</td>\n",
              "      <td>16</td>\n",
              "      <td>6</td>\n",
              "      <td>2000.0</td>\n",
              "      <td>1925</td>\n",
              "      <td>2149.0</td>\n",
              "      <td>2105</td>\n",
              "      <td>1043</td>\n",
              "      <td>N5BUAA</td>\n",
              "      <td>169.0</td>\n",
              "      <td>160.0</td>\n",
              "      <td>148.0</td>\n",
              "      <td>44.0</td>\n",
              "      <td>MIA</td>\n",
              "      <td>STL</td>\n",
              "      <td>1068</td>\n",
              "      <td>7.0</td>\n",
              "      <td>14.0</td>\n",
              "      <td>0</td>\n",
              "      <td>N</td>\n",
              "      <td>0</td>\n",
              "      <td>31.0</td>\n",
              "      <td>0.0</td>\n",
              "      <td>9.0</td>\n",
              "      <td>0.0</td>\n",
              "      <td>4.0</td>\n",
              "      <td>1</td>\n",
              "      <td>0</td>\n",
              "      <td>0</td>\n",
              "      <td>0</td>\n",
              "      <td>0</td>\n",
              "      <td>0</td>\n",
              "      <td>0</td>\n",
              "      <td>0</td>\n",
              "      <td>0</td>\n",
              "      <td>0</td>\n",
              "      <td>0</td>\n",
              "      <td>0</td>\n",
              "      <td>0</td>\n",
              "      <td>0</td>\n",
              "      <td>0</td>\n",
              "      <td>0</td>\n",
              "      <td>0</td>\n",
              "      <td>0</td>\n",
              "      <td>0</td>\n",
              "    </tr>\n",
              "    <tr>\n",
              "      <th>2</th>\n",
              "      <td>472452</td>\n",
              "      <td>1</td>\n",
              "      <td>26</td>\n",
              "      <td>6</td>\n",
              "      <td>1953.0</td>\n",
              "      <td>1900</td>\n",
              "      <td>2103.0</td>\n",
              "      <td>2020</td>\n",
              "      <td>5832</td>\n",
              "      <td>89429E</td>\n",
              "      <td>70.0</td>\n",
              "      <td>80.0</td>\n",
              "      <td>41.0</td>\n",
              "      <td>43.0</td>\n",
              "      <td>TVC</td>\n",
              "      <td>DTW</td>\n",
              "      <td>207</td>\n",
              "      <td>15.0</td>\n",
              "      <td>14.0</td>\n",
              "      <td>0</td>\n",
              "      <td>N</td>\n",
              "      <td>0</td>\n",
              "      <td>0.0</td>\n",
              "      <td>0.0</td>\n",
              "      <td>0.0</td>\n",
              "      <td>0.0</td>\n",
              "      <td>43.0</td>\n",
              "      <td>0</td>\n",
              "      <td>0</td>\n",
              "      <td>0</td>\n",
              "      <td>0</td>\n",
              "      <td>0</td>\n",
              "      <td>0</td>\n",
              "      <td>0</td>\n",
              "      <td>0</td>\n",
              "      <td>0</td>\n",
              "      <td>0</td>\n",
              "      <td>0</td>\n",
              "      <td>0</td>\n",
              "      <td>0</td>\n",
              "      <td>0</td>\n",
              "      <td>0</td>\n",
              "      <td>0</td>\n",
              "      <td>0</td>\n",
              "      <td>0</td>\n",
              "      <td>0</td>\n",
              "    </tr>\n",
              "    <tr>\n",
              "      <th>3</th>\n",
              "      <td>5300680</td>\n",
              "      <td>9</td>\n",
              "      <td>15</td>\n",
              "      <td>1</td>\n",
              "      <td>1233.0</td>\n",
              "      <td>1215</td>\n",
              "      <td>1355.0</td>\n",
              "      <td>1350</td>\n",
              "      <td>1501</td>\n",
              "      <td>N543AA</td>\n",
              "      <td>82.0</td>\n",
              "      <td>95.0</td>\n",
              "      <td>65.0</td>\n",
              "      <td>5.0</td>\n",
              "      <td>MSY</td>\n",
              "      <td>DFW</td>\n",
              "      <td>448</td>\n",
              "      <td>10.0</td>\n",
              "      <td>7.0</td>\n",
              "      <td>0</td>\n",
              "      <td>N</td>\n",
              "      <td>0</td>\n",
              "      <td>0.0</td>\n",
              "      <td>0.0</td>\n",
              "      <td>0.0</td>\n",
              "      <td>0.0</td>\n",
              "      <td>0.0</td>\n",
              "      <td>1</td>\n",
              "      <td>0</td>\n",
              "      <td>0</td>\n",
              "      <td>0</td>\n",
              "      <td>0</td>\n",
              "      <td>0</td>\n",
              "      <td>0</td>\n",
              "      <td>0</td>\n",
              "      <td>0</td>\n",
              "      <td>0</td>\n",
              "      <td>0</td>\n",
              "      <td>0</td>\n",
              "      <td>0</td>\n",
              "      <td>0</td>\n",
              "      <td>0</td>\n",
              "      <td>0</td>\n",
              "      <td>0</td>\n",
              "      <td>0</td>\n",
              "      <td>0</td>\n",
              "    </tr>\n",
              "    <tr>\n",
              "      <th>4</th>\n",
              "      <td>2364574</td>\n",
              "      <td>4</td>\n",
              "      <td>13</td>\n",
              "      <td>7</td>\n",
              "      <td>1325.0</td>\n",
              "      <td>540</td>\n",
              "      <td>1604.0</td>\n",
              "      <td>752</td>\n",
              "      <td>527</td>\n",
              "      <td>N14347</td>\n",
              "      <td>219.0</td>\n",
              "      <td>192.0</td>\n",
              "      <td>182.0</td>\n",
              "      <td>492.0</td>\n",
              "      <td>BWI</td>\n",
              "      <td>IAH</td>\n",
              "      <td>1235</td>\n",
              "      <td>10.0</td>\n",
              "      <td>27.0</td>\n",
              "      <td>0</td>\n",
              "      <td>N</td>\n",
              "      <td>0</td>\n",
              "      <td>465.0</td>\n",
              "      <td>0.0</td>\n",
              "      <td>27.0</td>\n",
              "      <td>0.0</td>\n",
              "      <td>0.0</td>\n",
              "      <td>0</td>\n",
              "      <td>0</td>\n",
              "      <td>0</td>\n",
              "      <td>0</td>\n",
              "      <td>1</td>\n",
              "      <td>0</td>\n",
              "      <td>0</td>\n",
              "      <td>0</td>\n",
              "      <td>0</td>\n",
              "      <td>0</td>\n",
              "      <td>0</td>\n",
              "      <td>0</td>\n",
              "      <td>0</td>\n",
              "      <td>0</td>\n",
              "      <td>0</td>\n",
              "      <td>0</td>\n",
              "      <td>0</td>\n",
              "      <td>0</td>\n",
              "      <td>0</td>\n",
              "    </tr>\n",
              "  </tbody>\n",
              "</table>\n",
              "</div>"
            ],
            "text/plain": [
              "   Unnamed: 0  Month  ...  UniqueCarrier_XE  UniqueCarrier_YV\n",
              "0     6228008     11  ...                 0                 0\n",
              "1     4732721      8  ...                 0                 0\n",
              "2      472452      1  ...                 0                 0\n",
              "3     5300680      9  ...                 0                 0\n",
              "4     2364574      4  ...                 0                 0\n",
              "\n",
              "[5 rows x 46 columns]"
            ]
          },
          "metadata": {},
          "execution_count": 123
        }
      ]
    },
    {
      "cell_type": "markdown",
      "metadata": {
        "id": "8uZhHHvwCOni"
      },
      "source": [
        "#### Кодирование переменных"
      ]
    },
    {
      "cell_type": "code",
      "metadata": {
        "id": "-rKj7xoCCOnj",
        "colab": {
          "base_uri": "https://localhost:8080/"
        },
        "outputId": "f2214c1a-549a-47b9-e899-0704492f60b6"
      },
      "source": [
        "#Создадим новую фичу 'route', которая будет содержать информацию как о точке отправления, так и о месте назначения\n",
        "train['route'] = train['Origin'] + train['Dest']\n",
        "test['route'] = test['Origin'] + test['Dest']\n",
        "train['route'].nunique(), test['route'].nunique()"
      ],
      "execution_count": null,
      "outputs": [
        {
          "output_type": "execute_result",
          "data": {
            "text/plain": [
              "(5128, 4998)"
            ]
          },
          "metadata": {},
          "execution_count": 124
        }
      ]
    },
    {
      "cell_type": "markdown",
      "metadata": {
        "id": "_OpV54ztCOnk"
      },
      "source": [
        "Давайте закодируем каждое значение 'route' средним значением целевой переменной для этого значения"
      ]
    },
    {
      "cell_type": "code",
      "metadata": {
        "id": "1VXhhSoYCOnl"
      },
      "source": [
        "code_route = pd.pivot_table(pd.concat([pd.DataFrame(train), y],axis=1), \n",
        "                            index='route', values='DelayTime', aggfunc='mean')"
      ],
      "execution_count": null,
      "outputs": []
    },
    {
      "cell_type": "code",
      "metadata": {
        "id": "22Z34Nw2COnn"
      },
      "source": [
        "train['route'] = train['route'].apply(lambda x: code_route.loc[x][0] if x in code_route.index else 0)\n",
        "test['route'] = test['route'].apply(lambda x: code_route.loc[x][0] if x in code_route.index else 0)"
      ],
      "execution_count": null,
      "outputs": []
    },
    {
      "cell_type": "code",
      "metadata": {
        "id": "neZ5yCT3COnq",
        "colab": {
          "base_uri": "https://localhost:8080/",
          "height": 236
        },
        "outputId": "1c91d015-0fce-4096-d855-1e25cfbbaa8d"
      },
      "source": [
        "train.head()"
      ],
      "execution_count": null,
      "outputs": [
        {
          "output_type": "execute_result",
          "data": {
            "text/html": [
              "<div>\n",
              "<style scoped>\n",
              "    .dataframe tbody tr th:only-of-type {\n",
              "        vertical-align: middle;\n",
              "    }\n",
              "\n",
              "    .dataframe tbody tr th {\n",
              "        vertical-align: top;\n",
              "    }\n",
              "\n",
              "    .dataframe thead th {\n",
              "        text-align: right;\n",
              "    }\n",
              "</style>\n",
              "<table border=\"1\" class=\"dataframe\">\n",
              "  <thead>\n",
              "    <tr style=\"text-align: right;\">\n",
              "      <th></th>\n",
              "      <th>Unnamed: 0</th>\n",
              "      <th>Month</th>\n",
              "      <th>DayofMonth</th>\n",
              "      <th>DayOfWeek</th>\n",
              "      <th>DepTime</th>\n",
              "      <th>CRSDepTime</th>\n",
              "      <th>ArrTime</th>\n",
              "      <th>CRSArrTime</th>\n",
              "      <th>FlightNum</th>\n",
              "      <th>TailNum</th>\n",
              "      <th>ActualElapsedTime</th>\n",
              "      <th>CRSElapsedTime</th>\n",
              "      <th>AirTime</th>\n",
              "      <th>ArrDelay</th>\n",
              "      <th>Origin</th>\n",
              "      <th>Dest</th>\n",
              "      <th>Distance</th>\n",
              "      <th>TaxiIn</th>\n",
              "      <th>TaxiOut</th>\n",
              "      <th>Cancelled</th>\n",
              "      <th>CancellationCode</th>\n",
              "      <th>Diverted</th>\n",
              "      <th>CarrierDelay</th>\n",
              "      <th>WeatherDelay</th>\n",
              "      <th>NASDelay</th>\n",
              "      <th>SecurityDelay</th>\n",
              "      <th>LateAircraftDelay</th>\n",
              "      <th>UniqueCarrier_AA</th>\n",
              "      <th>UniqueCarrier_AQ</th>\n",
              "      <th>UniqueCarrier_AS</th>\n",
              "      <th>UniqueCarrier_B6</th>\n",
              "      <th>UniqueCarrier_CO</th>\n",
              "      <th>UniqueCarrier_DL</th>\n",
              "      <th>UniqueCarrier_EV</th>\n",
              "      <th>UniqueCarrier_F9</th>\n",
              "      <th>UniqueCarrier_FL</th>\n",
              "      <th>UniqueCarrier_HA</th>\n",
              "      <th>UniqueCarrier_MQ</th>\n",
              "      <th>UniqueCarrier_NW</th>\n",
              "      <th>UniqueCarrier_OH</th>\n",
              "      <th>UniqueCarrier_OO</th>\n",
              "      <th>UniqueCarrier_UA</th>\n",
              "      <th>UniqueCarrier_US</th>\n",
              "      <th>UniqueCarrier_WN</th>\n",
              "      <th>UniqueCarrier_XE</th>\n",
              "      <th>UniqueCarrier_YV</th>\n",
              "      <th>route</th>\n",
              "    </tr>\n",
              "  </thead>\n",
              "  <tbody>\n",
              "    <tr>\n",
              "      <th>0</th>\n",
              "      <td>6228008</td>\n",
              "      <td>11</td>\n",
              "      <td>21</td>\n",
              "      <td>5</td>\n",
              "      <td>1500.0</td>\n",
              "      <td>1443</td>\n",
              "      <td>1557.0</td>\n",
              "      <td>1534</td>\n",
              "      <td>5055</td>\n",
              "      <td>N920EV</td>\n",
              "      <td>117.0</td>\n",
              "      <td>111.0</td>\n",
              "      <td>94.0</td>\n",
              "      <td>23.0</td>\n",
              "      <td>ATL</td>\n",
              "      <td>XNA</td>\n",
              "      <td>589</td>\n",
              "      <td>7.0</td>\n",
              "      <td>16.0</td>\n",
              "      <td>0</td>\n",
              "      <td>N</td>\n",
              "      <td>0</td>\n",
              "      <td>17.0</td>\n",
              "      <td>0.0</td>\n",
              "      <td>6.0</td>\n",
              "      <td>0.0</td>\n",
              "      <td>0.0</td>\n",
              "      <td>0</td>\n",
              "      <td>0</td>\n",
              "      <td>0</td>\n",
              "      <td>0</td>\n",
              "      <td>0</td>\n",
              "      <td>0</td>\n",
              "      <td>1</td>\n",
              "      <td>0</td>\n",
              "      <td>0</td>\n",
              "      <td>0</td>\n",
              "      <td>0</td>\n",
              "      <td>0</td>\n",
              "      <td>0</td>\n",
              "      <td>0</td>\n",
              "      <td>0</td>\n",
              "      <td>0</td>\n",
              "      <td>0</td>\n",
              "      <td>0</td>\n",
              "      <td>0</td>\n",
              "      <td>44.557103</td>\n",
              "    </tr>\n",
              "    <tr>\n",
              "      <th>1</th>\n",
              "      <td>4732721</td>\n",
              "      <td>8</td>\n",
              "      <td>16</td>\n",
              "      <td>6</td>\n",
              "      <td>2000.0</td>\n",
              "      <td>1925</td>\n",
              "      <td>2149.0</td>\n",
              "      <td>2105</td>\n",
              "      <td>1043</td>\n",
              "      <td>N5BUAA</td>\n",
              "      <td>169.0</td>\n",
              "      <td>160.0</td>\n",
              "      <td>148.0</td>\n",
              "      <td>44.0</td>\n",
              "      <td>MIA</td>\n",
              "      <td>STL</td>\n",
              "      <td>1068</td>\n",
              "      <td>7.0</td>\n",
              "      <td>14.0</td>\n",
              "      <td>0</td>\n",
              "      <td>N</td>\n",
              "      <td>0</td>\n",
              "      <td>31.0</td>\n",
              "      <td>0.0</td>\n",
              "      <td>9.0</td>\n",
              "      <td>0.0</td>\n",
              "      <td>4.0</td>\n",
              "      <td>1</td>\n",
              "      <td>0</td>\n",
              "      <td>0</td>\n",
              "      <td>0</td>\n",
              "      <td>0</td>\n",
              "      <td>0</td>\n",
              "      <td>0</td>\n",
              "      <td>0</td>\n",
              "      <td>0</td>\n",
              "      <td>0</td>\n",
              "      <td>0</td>\n",
              "      <td>0</td>\n",
              "      <td>0</td>\n",
              "      <td>0</td>\n",
              "      <td>0</td>\n",
              "      <td>0</td>\n",
              "      <td>0</td>\n",
              "      <td>0</td>\n",
              "      <td>0</td>\n",
              "      <td>52.067873</td>\n",
              "    </tr>\n",
              "    <tr>\n",
              "      <th>2</th>\n",
              "      <td>472452</td>\n",
              "      <td>1</td>\n",
              "      <td>26</td>\n",
              "      <td>6</td>\n",
              "      <td>1953.0</td>\n",
              "      <td>1900</td>\n",
              "      <td>2103.0</td>\n",
              "      <td>2020</td>\n",
              "      <td>5832</td>\n",
              "      <td>89429E</td>\n",
              "      <td>70.0</td>\n",
              "      <td>80.0</td>\n",
              "      <td>41.0</td>\n",
              "      <td>43.0</td>\n",
              "      <td>TVC</td>\n",
              "      <td>DTW</td>\n",
              "      <td>207</td>\n",
              "      <td>15.0</td>\n",
              "      <td>14.0</td>\n",
              "      <td>0</td>\n",
              "      <td>N</td>\n",
              "      <td>0</td>\n",
              "      <td>0.0</td>\n",
              "      <td>0.0</td>\n",
              "      <td>0.0</td>\n",
              "      <td>0.0</td>\n",
              "      <td>43.0</td>\n",
              "      <td>0</td>\n",
              "      <td>0</td>\n",
              "      <td>0</td>\n",
              "      <td>0</td>\n",
              "      <td>0</td>\n",
              "      <td>0</td>\n",
              "      <td>0</td>\n",
              "      <td>0</td>\n",
              "      <td>0</td>\n",
              "      <td>0</td>\n",
              "      <td>0</td>\n",
              "      <td>0</td>\n",
              "      <td>0</td>\n",
              "      <td>0</td>\n",
              "      <td>0</td>\n",
              "      <td>0</td>\n",
              "      <td>0</td>\n",
              "      <td>0</td>\n",
              "      <td>0</td>\n",
              "      <td>45.504000</td>\n",
              "    </tr>\n",
              "    <tr>\n",
              "      <th>3</th>\n",
              "      <td>5300680</td>\n",
              "      <td>9</td>\n",
              "      <td>15</td>\n",
              "      <td>1</td>\n",
              "      <td>1233.0</td>\n",
              "      <td>1215</td>\n",
              "      <td>1355.0</td>\n",
              "      <td>1350</td>\n",
              "      <td>1501</td>\n",
              "      <td>N543AA</td>\n",
              "      <td>82.0</td>\n",
              "      <td>95.0</td>\n",
              "      <td>65.0</td>\n",
              "      <td>5.0</td>\n",
              "      <td>MSY</td>\n",
              "      <td>DFW</td>\n",
              "      <td>448</td>\n",
              "      <td>10.0</td>\n",
              "      <td>7.0</td>\n",
              "      <td>0</td>\n",
              "      <td>N</td>\n",
              "      <td>0</td>\n",
              "      <td>0.0</td>\n",
              "      <td>0.0</td>\n",
              "      <td>0.0</td>\n",
              "      <td>0.0</td>\n",
              "      <td>0.0</td>\n",
              "      <td>1</td>\n",
              "      <td>0</td>\n",
              "      <td>0</td>\n",
              "      <td>0</td>\n",
              "      <td>0</td>\n",
              "      <td>0</td>\n",
              "      <td>0</td>\n",
              "      <td>0</td>\n",
              "      <td>0</td>\n",
              "      <td>0</td>\n",
              "      <td>0</td>\n",
              "      <td>0</td>\n",
              "      <td>0</td>\n",
              "      <td>0</td>\n",
              "      <td>0</td>\n",
              "      <td>0</td>\n",
              "      <td>0</td>\n",
              "      <td>0</td>\n",
              "      <td>0</td>\n",
              "      <td>43.261851</td>\n",
              "    </tr>\n",
              "    <tr>\n",
              "      <th>4</th>\n",
              "      <td>2364574</td>\n",
              "      <td>4</td>\n",
              "      <td>13</td>\n",
              "      <td>7</td>\n",
              "      <td>1325.0</td>\n",
              "      <td>540</td>\n",
              "      <td>1604.0</td>\n",
              "      <td>752</td>\n",
              "      <td>527</td>\n",
              "      <td>N14347</td>\n",
              "      <td>219.0</td>\n",
              "      <td>192.0</td>\n",
              "      <td>182.0</td>\n",
              "      <td>492.0</td>\n",
              "      <td>BWI</td>\n",
              "      <td>IAH</td>\n",
              "      <td>1235</td>\n",
              "      <td>10.0</td>\n",
              "      <td>27.0</td>\n",
              "      <td>0</td>\n",
              "      <td>N</td>\n",
              "      <td>0</td>\n",
              "      <td>465.0</td>\n",
              "      <td>0.0</td>\n",
              "      <td>27.0</td>\n",
              "      <td>0.0</td>\n",
              "      <td>0.0</td>\n",
              "      <td>0</td>\n",
              "      <td>0</td>\n",
              "      <td>0</td>\n",
              "      <td>0</td>\n",
              "      <td>1</td>\n",
              "      <td>0</td>\n",
              "      <td>0</td>\n",
              "      <td>0</td>\n",
              "      <td>0</td>\n",
              "      <td>0</td>\n",
              "      <td>0</td>\n",
              "      <td>0</td>\n",
              "      <td>0</td>\n",
              "      <td>0</td>\n",
              "      <td>0</td>\n",
              "      <td>0</td>\n",
              "      <td>0</td>\n",
              "      <td>0</td>\n",
              "      <td>0</td>\n",
              "      <td>39.936255</td>\n",
              "    </tr>\n",
              "  </tbody>\n",
              "</table>\n",
              "</div>"
            ],
            "text/plain": [
              "   Unnamed: 0  Month  DayofMonth  ...  UniqueCarrier_XE  UniqueCarrier_YV      route\n",
              "0     6228008     11          21  ...                 0                 0  44.557103\n",
              "1     4732721      8          16  ...                 0                 0  52.067873\n",
              "2      472452      1          26  ...                 0                 0  45.504000\n",
              "3     5300680      9          15  ...                 0                 0  43.261851\n",
              "4     2364574      4          13  ...                 0                 0  39.936255\n",
              "\n",
              "[5 rows x 47 columns]"
            ]
          },
          "metadata": {},
          "execution_count": 127
        }
      ]
    },
    {
      "cell_type": "markdown",
      "metadata": {
        "id": "_oLkrArJCOns"
      },
      "source": [
        "### 1.5.3 Обучим классификатор и сделаем Submit "
      ]
    },
    {
      "cell_type": "code",
      "metadata": {
        "id": "pGnh8VEy9Vvv",
        "colab": {
          "base_uri": "https://localhost:8080/"
        },
        "outputId": "72ffb2a7-de37-4e6f-9f7f-8f17a02490ac"
      },
      "source": [
        "# Обучим классификатор\n",
        "dt = DecisionTreeRegressor(max_depth=10, min_samples_leaf=10000, min_samples_split=10000)\n",
        "dt.fit(train[real_cols], y)"
      ],
      "execution_count": null,
      "outputs": [
        {
          "output_type": "execute_result",
          "data": {
            "text/plain": [
              "DecisionTreeRegressor(ccp_alpha=0.0, criterion='mse', max_depth=10,\n",
              "                      max_features=None, max_leaf_nodes=None,\n",
              "                      min_impurity_decrease=0.0, min_impurity_split=None,\n",
              "                      min_samples_leaf=10000, min_samples_split=10000,\n",
              "                      min_weight_fraction_leaf=0.0, presort='deprecated',\n",
              "                      random_state=None, splitter='best')"
            ]
          },
          "metadata": {},
          "execution_count": 128
        }
      ]
    },
    {
      "cell_type": "code",
      "metadata": {
        "id": "h_1a4C4kCOnw"
      },
      "source": [
        "pd.Series(dt.predict(test[real_cols]), name='DelayTime').to_csv('predict.csv', index_label='id', header=True)"
      ],
      "execution_count": null,
      "outputs": []
    },
    {
      "cell_type": "code",
      "metadata": {
        "colab": {
          "base_uri": "https://localhost:8080/",
          "height": 17
        },
        "id": "ftGh4gJLtfYk",
        "outputId": "909c64bf-a9c9-4c0e-9fd6-2724d83aa1e4"
      },
      "source": [
        "from google.colab import files\n",
        "files.download('predict.csv')"
      ],
      "execution_count": null,
      "outputs": [
        {
          "output_type": "display_data",
          "data": {
            "application/javascript": [
              "\n",
              "    async function download(id, filename, size) {\n",
              "      if (!google.colab.kernel.accessAllowed) {\n",
              "        return;\n",
              "      }\n",
              "      const div = document.createElement('div');\n",
              "      const label = document.createElement('label');\n",
              "      label.textContent = `Downloading \"${filename}\": `;\n",
              "      div.appendChild(label);\n",
              "      const progress = document.createElement('progress');\n",
              "      progress.max = size;\n",
              "      div.appendChild(progress);\n",
              "      document.body.appendChild(div);\n",
              "\n",
              "      const buffers = [];\n",
              "      let downloaded = 0;\n",
              "\n",
              "      const channel = await google.colab.kernel.comms.open(id);\n",
              "      // Send a message to notify the kernel that we're ready.\n",
              "      channel.send({})\n",
              "\n",
              "      for await (const message of channel.messages) {\n",
              "        // Send a message to notify the kernel that we're ready.\n",
              "        channel.send({})\n",
              "        if (message.buffers) {\n",
              "          for (const buffer of message.buffers) {\n",
              "            buffers.push(buffer);\n",
              "            downloaded += buffer.byteLength;\n",
              "            progress.value = downloaded;\n",
              "          }\n",
              "        }\n",
              "      }\n",
              "      const blob = new Blob(buffers, {type: 'application/binary'});\n",
              "      const a = document.createElement('a');\n",
              "      a.href = window.URL.createObjectURL(blob);\n",
              "      a.download = filename;\n",
              "      div.appendChild(a);\n",
              "      a.click();\n",
              "      div.remove();\n",
              "    }\n",
              "  "
            ],
            "text/plain": [
              "<IPython.core.display.Javascript object>"
            ]
          },
          "metadata": {}
        },
        {
          "output_type": "display_data",
          "data": {
            "application/javascript": [
              "download(\"download_922da0a8-aae6-4b16-987f-6bcd4ab0e4b1\", \"predict.csv\", 14705650)"
            ],
            "text/plain": [
              "<IPython.core.display.Javascript object>"
            ]
          },
          "metadata": {}
        }
      ]
    },
    {
      "cell_type": "markdown",
      "metadata": {
        "id": "tMngHf0nCOnw"
      },
      "source": [
        "И будем Валидирвоаться непосрелственно на лидерборде [соревнования](https://www.kaggle.com/c/departure-delay2/leaderboard)"
      ]
    },
    {
      "cell_type": "markdown",
      "metadata": {
        "id": "Ah6wur5stlFp"
      },
      "source": [
        "# Построение дерева решений"
      ]
    },
    {
      "cell_type": "markdown",
      "metadata": {
        "id": "AvN4nZghtlFq"
      },
      "source": [
        "### 2.1. Самостоятельное написание дерева решений\n",
        "Источник: [mlcourse.ai](https://mlcourse.ai) от [Юрия Кашницкого](https://yorko.github.io) и [OpenDataScience](https://ods.ai)"
      ]
    },
    {
      "cell_type": "code",
      "metadata": {
        "id": "tsZ0BYr48VZE"
      },
      "source": [
        "import numpy as np\n",
        "import pandas as pd\n",
        "from matplotlib import pyplot as plt\n",
        "%matplotlib inline"
      ],
      "execution_count": null,
      "outputs": []
    },
    {
      "cell_type": "markdown",
      "metadata": {
        "id": "yWHzY54ttlFq"
      },
      "source": [
        "Рассмотрим следующую одномерную задачу восстановления регрессии. Неформально, нужно построить функцию $a(x)$, приближающую искомую зависимость $y = f(x)$ в терминах среднеквадратичной ошибки: $min \\sum_i {(a(x_i) - f(x_i))}^2$. "
      ]
    },
    {
      "cell_type": "code",
      "metadata": {
        "id": "F045LbuftlFq",
        "colab": {
          "base_uri": "https://localhost:8080/",
          "height": 295
        },
        "outputId": "ec6713b5-94be-4e18-8889-cf112e0d1621"
      },
      "source": [
        "X = np.linspace(-2, 2, 7)\n",
        "y = X ** 3\n",
        "\n",
        "plt.scatter(X, y)\n",
        "\n",
        "plt.xlabel(r'$x$')\n",
        "plt.ylabel(r'$y$')"
      ],
      "execution_count": null,
      "outputs": [
        {
          "output_type": "execute_result",
          "data": {
            "text/plain": [
              "Text(0, 0.5, '$y$')"
            ]
          },
          "metadata": {},
          "execution_count": 73
        },
        {
          "output_type": "display_data",
          "data": {
            "image/png": "[encoded data removed]",
            "text/plain": [
              "<Figure size 432x288 with 1 Axes>"
            ]
          },
          "metadata": {
            "needs_background": "light"
          }
        }
      ]
    },
    {
      "cell_type": "markdown",
      "metadata": {
        "id": "rvIi2vN7tlFu"
      },
      "source": [
        "Проделаем несколько шагов в построении дерева решений. Исходя из соображений симметрии, выберем пороги для разбиения равными соответственно 0, 1.5 и -1.5. Напомним, что в случае задачи восстановления регрессии листовая вершина выдает среднее значение ответа по всем объектам обучающей выборки, попавшим в эту вершину.\n",
        "\n",
        "Итак, начнём. Дерево глубины 0 состоит из одного корня, который содержит всю обучающую выборку."
      ]
    },
    {
      "cell_type": "code",
      "metadata": {
        "id": "Avb8CEKttlFu",
        "colab": {
          "base_uri": "https://localhost:8080/",
          "height": 278
        },
        "outputId": "10c18c14-8487-42e7-c520-1ac100134bde"
      },
      "source": [
        "plt.scatter(X, y)\n",
        "plt.xlabel(r'$x$')\n",
        "plt.plot(np.linspace(-2,2,50), np.linspace(np.mean(y),np.mean(y),50))\n",
        "plt.ylabel(r'$y$');"
      ],
      "execution_count": null,
      "outputs": [
        {
          "output_type": "display_data",
          "data": {
            "image/png": "[encoded data removed]",
            "text/plain": [
              "<Figure size 432x288 with 1 Axes>"
            ]
          },
          "metadata": {
            "needs_background": "light"
          }
        }
      ]
    },
    {
      "cell_type": "markdown",
      "metadata": {
        "id": "jtrNKiu8tlFw"
      },
      "source": [
        "Произведем первое разбиение выборки по предикату $[x < 0]$. Получим дерево глубины 1 с двумя листьями. Постройте аналогичный график предсказаний для этого дерева."
      ]
    },
    {
      "cell_type": "code",
      "metadata": {
        "id": "Hd7aQ5_KtlFx",
        "colab": {
          "base_uri": "https://localhost:8080/",
          "height": 278
        },
        "outputId": "f2e14815-d5cb-4ba5-cedc-dd944dfea241"
      },
      "source": [
        "plt.scatter(X, y)\n",
        "plt.xlabel(r'$x$')\n",
        "plt.plot(np.linspace(-2,2,50), np.concatenate((np.linspace(np.mean(y[:3]),np.mean(y[:3]),25), \n",
        "                                                          np.linspace(np.mean(y[3:]),np.mean(y[3:]),25))))\n",
        "\n",
        "# y_val = sum(y[X < 0])/len(y[X < 0])*(x < 0) + sum(y[X >= 0])/len(y[X >= 0])*(x >= 0)\n",
        "\n",
        "plt.ylabel(r'$y$');"
      ],
      "execution_count": null,
      "outputs": [
        {
          "output_type": "display_data",
          "data": {
            "image/png": "[encoded data removed]",
            "text/plain": [
              "<Figure size 432x288 with 1 Axes>"
            ]
          },
          "metadata": {
            "needs_background": "light"
          }
        }
      ]
    },
    {
      "cell_type": "markdown",
      "metadata": {
        "id": "nV6uhjDDtlFz"
      },
      "source": [
        "В алгоритме построения дерева решений признак и значение порога, по которым происходит разбиение выборки, выбираются исходя из некоторого критерия. Для регрессии обычно используется дисперсионный критерий: $$Q(X, j, t) = D(X) - \\dfrac{|X_l|}{|X|} D(X_l) - \\dfrac{|X_r|}{|X|} D(X_r),$$ где $X$ – выборка, находящаяся в текущей вершине, $X_l$ и $X_r$ – разбиение выборки $X$ на две части по предикату $[xj < t]$ (то есть по $j$-ому признаку и порогу $t$), а $D(X)$ – дисперсия ответов на выборке $X$: $$D(X) = \\dfrac{1}{|X|} \\sum{x_j \\in X}(yj – \\dfrac{1}{|X|}\\sum{x_i \\in X}y_i)^2,$$ где $y_i = y(x_i)$ – ответ на объекте $x_i$. При каждом разбиении вершины выбираются признак $j$ и значение порога $t$, максимизирующие значение функционала $Q(X, j, t)$.\n",
        "\n",
        "В нашем случае признак всего один, поэтому $Q$ зависит только от значения порога $t$ (и ответов выборки в данной вершине).\n",
        "\n",
        "Постройте график функции $Q(X, t)$ в корне в зависимости от значения порога $t$ на отрезке $[-1.9, 1.9]$."
      ]
    },
    {
      "cell_type": "code",
      "metadata": {
        "id": "7fbmInFBLccn"
      },
      "source": [
        "def D(y):\n",
        "    y_mean = sum(y)/len(y)\n",
        "    return sum((y - y_mean)**2)/len(y)"
      ],
      "execution_count": null,
      "outputs": []
    },
    {
      "cell_type": "code",
      "metadata": {
        "id": "ujFAyamJLccq"
      },
      "source": [
        "def Qc(X, y, t):\n",
        "    return D(y) - len(y[X < t])/len(y)*D(y[X < t]) - len(y[X >= t])/len(y)*D(y[X >= t])"
      ],
      "execution_count": null,
      "outputs": []
    },
    {
      "cell_type": "code",
      "metadata": {
        "id": "z7kKWMAytlF0",
        "colab": {
          "base_uri": "https://localhost:8080/",
          "height": 282
        },
        "outputId": "e6d9419b-dad0-4f5e-9a47-5d525f0c284c"
      },
      "source": [
        "t = np.linspace(-1.9, 1.9, 50)\n",
        "Q = np.zeros(len(t))\n",
        "\n",
        "for i in range(len(t)):\n",
        "    Q[i] = Qc(X, y, t[i])\n",
        "    \n",
        "plt.plot(t, Q)    \n",
        "\n",
        "plt.xlabel(r'$t$')\n",
        "plt.ylabel(r'$Q$');"
      ],
      "execution_count": null,
      "outputs": [
        {
          "output_type": "display_data",
          "data": {
            "image/png": "[encoded data removed]",
            "text/plain": [
              "<Figure size 432x288 with 1 Axes>"
            ]
          },
          "metadata": {
            "needs_background": "light"
          }
        }
      ]
    },
    {
      "cell_type": "code",
      "metadata": {
        "id": "hbgOpgAK-28Q",
        "colab": {
          "base_uri": "https://localhost:8080/",
          "height": 278
        },
        "outputId": "aa8f648c-93f4-46c9-e05f-def8664f31f3"
      },
      "source": [
        "y_val = np.mean(y[X < t[np.argmin(Q)]])*(t < 0) + np.mean(y[X >= t[np.argmin(Q)]])*(t >= 0)\n",
        "\n",
        "plt.plot(t, y_val)\n",
        "plt.scatter(X, y)\n",
        "\n",
        "plt.xlabel(r'$x$')\n",
        "plt.ylabel(r'$y$');"
      ],
      "execution_count": null,
      "outputs": [
        {
          "output_type": "display_data",
          "data": {
            "image/png": "[encoded data removed]",
            "text/plain": [
              "<Figure size 432x288 with 1 Axes>"
            ]
          },
          "metadata": {
            "needs_background": "light"
          }
        }
      ]
    }
  ]
}