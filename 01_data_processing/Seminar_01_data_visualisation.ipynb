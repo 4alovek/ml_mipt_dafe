{
 "cells": [
  {
   "cell_type": "markdown",
   "id": "b72e3312-3536-4f83-8697-18967877614d",
   "metadata": {
    "id": "OVkl09sgHGj4"
   },
   "source": [
    "# Семинар 01 - Первичный анализ данных, профайлинг, векторизация, пайплайны"
   ]
  },
  {
   "cell_type": "code",
   "execution_count": 4,
   "id": "fe58a838-c493-49fc-9fcd-04780a74d98e",
   "metadata": {},
   "outputs": [],
   "source": [
    "# TODO: Содержание"
   ]
  },
  {
   "cell_type": "markdown",
   "id": "46eac652-fd6f-475e-81d1-38d5b4457c3f",
   "metadata": {
    "id": "GRm09mhjnFCF"
   },
   "source": [
    "<a id=\"0\"></a>\n",
    "# 0 Intro"
   ]
  },
  {
   "cell_type": "markdown",
   "id": "05eccb01-b28e-414b-be14-a9aef355e475",
   "metadata": {
    "id": "5BQC2v8qI_Tv",
    "jp-MarkdownHeadingCollapsed": true
   },
   "source": [
    "## 0.0. Keeping a fork up to date\n",
    "\n",
    "### 0. Нажмите кнопку fork в правом верънем углу интерфейса\n",
    "\n",
    "### 1. Клонируйте репозиторий к себе на локальную машину:\n",
    "\n",
    "> `git clone https://github.com/YOUR-USERNAME/ml_mipt_dafe.git`\n",
    "\n",
    "### 2. Свяжите вашу копию с оригинальным репозиторием:\n",
    "> `cd into/cloned/fork-repo`\n",
    "\n",
    "> `git remote add upstream https://github.com/ml-dafe/ml_mipt_dafe.git`\n",
    "\n",
    "> `git fetch upstream`\n",
    "\n",
    "Про то, зачем мы делаем иммено так подробнее можно почитать [тут](https://git-scm.com/book/ru/v2/Ветвление-в-Git-Удалённые-ветки).\n",
    "### 3. Обновите ваш репозиторий, чтобы загрузить изменения оригинального репозитория:\n",
    "> `git pull upstream master`\n",
    "### 4. После внесения изменения в проект на локальной машине обновите свой репозиторий:\n",
    "> `git add *` - загрузить все изменения\n",
    "\n",
    "> `git commit -m \"comment\"` - сделать локальный коммит\n",
    "\n",
    "> `git push origin main` - загрузить локальный коммит в репозиторий\n",
    "\n",
    "! Не забудьте про файлик .gitignore, чтобы не загружать лишнего. Подробнее про него читаем [тут](https://wiki.merionet.ru/articles/fajl-gitignore-kak-ignorirovat-fajly-i-papki-v-git).\n"
   ]
  },
  {
   "cell_type": "markdown",
   "id": "43f0a6fe-817d-45db-ac39-d94dc24466a8",
   "metadata": {
    "id": "aCLU_xAZI_W4",
    "jp-MarkdownHeadingCollapsed": true
   },
   "source": [
    "## 0.1. Создание окружения\n",
    "\n",
    "### Вариант max:\n",
    "\n",
    " [Ubuntu](https://help.ubuntu.ru/wiki/%D0%BF%D0%B5%D1%80%D0%B5%D1%85%D0%BE%D0%B4%D0%B8%D0%BC_%D0%BD%D0%B0_ubuntu-linux_-_%D0%B8%D0%BD%D1%81%D1%82p%D1%83%D0%BA%D1%86%D0%B8%D1%8F_%D0%B4%D0%BB%D1%8F_%D0%BF%D0%BE%D0%BB%D1%8C%D0%B7%D0%BE%D0%B2%D0%B0%D1%82%D0%B5%D0%BB%D1%8F_windows)\n",
    "\n",
    "[Drivers](https://linuxconfig.org/how-to-install-the-nvidia-drivers-on-ubuntu-18-04-bionic-beaver-linux)\n",
    "\n",
    "[CUDA+CUDNN](https://medium.com/@sh.tsang/tutorial-cuda-v10-2-cudnn-v7-6-5-installation-ubuntu-18-04-3d24c157473f)\n",
    "\n",
    "[CUDA alternative](https://developer.nvidia.com/cuda-10.2-download-archive?target_os=Linux&target_arch=x86_64&target_distro=Ubuntu&target_version=1804&target_type=deblocal) (Можно также использовать этот шаг для Windows)\n",
    "\n",
    "[CUDA GUIDE](https://docs.nvidia.com/cuda/cuda-installation-guide-linux/index.html)\n",
    "\n",
    "Anaconda + pycharm (студентам бесплатно про версия)\n",
    "\n",
    "### Вариант min:\n",
    "\n",
    "Anaconda\n",
    "> `conda update conda`\n",
    "\n",
    "> `conda create -n ml_env python=3.7`\n",
    "\n",
    "> `conda activate ml_env`\n",
    "\n",
    "> `conda install -n ml_env numpy`\n",
    "\n",
    "> `conda list`\n",
    "\n",
    "> `pip freeze`\n",
    "\n",
    "> `conda env list`\n",
    "\n",
    "> `conda deactivate`\n",
    "\n",
    "> `conda env remove -n ml_env`\n",
    "\n",
    "### Вариант poor:\n",
    "\n",
    "Google drive -> загрузить файл -> открыть с помощью -> Google colaboratory"
   ]
  },
  {
   "cell_type": "code",
   "execution_count": 5,
   "id": "e0872ab8-f902-4d82-aa3e-aae8ee13eb5a",
   "metadata": {
    "colab": {
     "base_uri": "https://localhost:8080/"
    },
    "executionInfo": {
     "elapsed": 2334,
     "status": "ok",
     "timestamp": 1662387666799,
     "user": {
      "displayName": "Daniil Makhotkin",
      "userId": "00113146169248763182"
     },
     "user_tz": -180
    },
    "id": "8mThR6T5l6Vo",
    "outputId": "f53c3f29-b817-4830-f584-3560572c8d0a"
   },
   "outputs": [
    {
     "ename": "ModuleNotFoundError",
     "evalue": "No module named 'google'",
     "output_type": "error",
     "traceback": [
      "\u001b[1;31m---------------------------------------------------------------------------\u001b[0m",
      "\u001b[1;31mModuleNotFoundError\u001b[0m                       Traceback (most recent call last)",
      "Cell \u001b[1;32mIn[5], line 1\u001b[0m\n\u001b[1;32m----> 1\u001b[0m \u001b[38;5;28;01mfrom\u001b[39;00m \u001b[38;5;21;01mgoogle\u001b[39;00m\u001b[38;5;21;01m.\u001b[39;00m\u001b[38;5;21;01mcolab\u001b[39;00m \u001b[38;5;28;01mimport\u001b[39;00m drive\n\u001b[0;32m      2\u001b[0m drive\u001b[38;5;241m.\u001b[39mmount(\u001b[38;5;124m'\u001b[39m\u001b[38;5;124m/content/gdrive/\u001b[39m\u001b[38;5;124m'\u001b[39m)\n",
      "\u001b[1;31mModuleNotFoundError\u001b[0m: No module named 'google'"
     ]
    }
   ],
   "source": [
    "from google.colab import drive\n",
    "drive.mount('/content/gdrive/')"
   ]
  },
  {
   "cell_type": "code",
   "execution_count": null,
   "id": "24a8e3e7-b5d9-411c-923e-64e35a4db7fa",
   "metadata": {
    "colab": {
     "base_uri": "https://localhost:8080/"
    },
    "executionInfo": {
     "elapsed": 324,
     "status": "ok",
     "timestamp": 1662387670341,
     "user": {
      "displayName": "Daniil Makhotkin",
      "userId": "00113146169248763182"
     },
     "user_tz": -180
    },
    "id": "tIg2471lmBH3",
    "outputId": "f067c5ac-4489-4619-e978-a20d9e9b6933"
   },
   "outputs": [],
   "source": [
    "!ls ./gdrive/My\\ Drive/Colab\\ Notebooks"
   ]
  },
  {
   "cell_type": "markdown",
   "id": "93800d83-e404-48cc-8a29-2477392c3cb5",
   "metadata": {
    "id": "A4YXIzSLnNtu"
   },
   "source": [
    "## 0.2. Jupyter notebook"
   ]
  },
  {
   "cell_type": "markdown",
   "id": "cc27d661-4f85-4bef-91fc-c4cb367e7154",
   "metadata": {
    "id": "ApD-TqFbI_aA"
   },
   "source": [
    "### 0.2.1. Markdown\n",
    "[Здесь](https://athena.brynmawr.edu/jupyter/hub/dblank/public/Jupyter%20Notebook%20Users%20Manual.ipynb) представлено подробное руководство по Markdown, широко используемое в jupyter, github и т. д. Вкратце, это позволяет:\n",
    "\n",
    "0. Делать списки\n",
    "1. \n",
    "## Делать\n",
    "### заголовки\n",
    "#### разных\n",
    "##### масштабов\n",
    "3. писать *текст* <s>самыми</s> **разными** способами\n",
    "4. добавлять [гиперссылки](http://imgs.xkcd.com/comics/the_universal_label.png)\n",
    "\n",
    "\n",
    "* Делать ненумерованные списки\n",
    "    * в \n",
    "    * том\n",
    "        * числе\n",
    "            * и\n",
    "                * вложенные\n",
    "\n",
    "<img src=data/lena.jpg> картиночки</img>\n",
    "\n",
    "использовать Markdown:\n",
    "    \n",
    "$\n",
    "\\left\\{\n",
    "\\begin{array}{ll}\n",
    "x = 16 \\sin^3 (t) \\\\ \n",
    "y = 13 \\cos (t) - 5 \\cos (2t) - 2 \\cos (3t) - \\cos (4t) \\\\\n",
    "t \\in [0, 2 \\pi]\n",
    "\\end{array}\n",
    "\\right.$\n",
    "\n",
    "а также писать такие символы как $\\pi$ внутри строки."
   ]
  },
  {
   "cell_type": "markdown",
   "id": "93bae289-442b-46f0-ba61-1628a7191ccb",
   "metadata": {
    "id": "4bTwYmQgXa-1"
   },
   "source": [
    "### 0.2.2. Горячие клавиши\n",
    "\n",
    "Использование горячих клавиш позволяет очень cильно облегчить и ускорить работу с любой программой, особенно связанной со вводом текста. В плане горячих клавиш очень продвинутым является текстовый редактор vim. В нем существует отдельный режим, мозволяющий пользоваться горячими клавишами. В Jupyter notebook поддерживается та же концепция."
   ]
  },
  {
   "cell_type": "markdown",
   "id": "6426cc1f-6bbc-4ebf-81c2-1a3f40f876c2",
   "metadata": {
    "id": "ZLUS9Bw3Xa-1"
   },
   "source": [
    "Существуют 2 режима работы: режим ввода и командный режим. Режим ввода отображается зеленой рамкой вокруг активной ячейки, командный режим -- синей. Для того, чтобы переключиться из режима ввода в командный режим необходимо нажать `Esc`, переход в режим редактирования осуществляется по нажатию клавиши `Enter`.\n",
    "\n",
    "**В командном режиме часто используются следующие горячие клавиши:**\n",
    "* `b` -- вставить пустую ячейку после текущей\n",
    "* `a` -- вставить пустую ячейку перед текучей\n",
    "-----\n",
    "* `c` -- копировать текущую ячейку\n",
    "* `x` -- вырезать ячейку\n",
    "* `v` -- вставить ячейку из буфера после текущей\n",
    "-----\n",
    "* `dd` -- удалить текущую ячейку\n",
    "* `z` -- отменить предыдущее действие (в юпитере не последней версии можно отменить ТОЛЬКО ОДНО действие) \n",
    "-----\n",
    "* `m` -- перевести ячейку в режим Markdown\n",
    "* `y` -- перевести ячейку в режим кода\n",
    "* `l` -- отображать номера строк\n",
    "* `o` -- скрыть/показать вывод текущей ячейки\n",
    "-----\n",
    "* `ii` -- остановить выполнение текущей ячейки\n",
    "* `00` -- перезагрузить ядро\n",
    "* `s` -- сохранить notebook\n",
    "-----\n",
    "* `h` -- Показать справку по горячим клавишам\n",
    "\n",
    "**Некоторые сочетания используются в режиме редактирования:**\n",
    "* `Tab` (в  начале строки либо для выделенных строк) -- добавить отступ\n",
    "* `Shift+Tab` (в  начале строки либо для выделенных строк) -- убрать отступ\n",
    "-----\n",
    "* `Tab` -- автодополнение вводимой команды\n",
    "* `Shift+Tab` -- показать docstring введеннной команды\n",
    "-----\n",
    "* `Clrl+/` -- закомментировать выделеные строки\n",
    "\n",
    "-----\n",
    "* `Shift+Enter` -- выполнить текущую ячейку кода и перейти к следующей\n",
    "* `Ctrl+Enter` -- выполнить текущую ячейку кода и остаться на ней\n",
    "* `Alt+Enter` -- выполнить текущую ячейку кода и создать новую"
   ]
  },
  {
   "cell_type": "markdown",
   "id": "763888f1-a509-40a1-acfa-eb7b1ad856f2",
   "metadata": {
    "id": "j8FpxWWaXa-2"
   },
   "source": [
    "Также Jupytr Notebook имеет большое количество встроенных \"магических\" функций. С некоторыми познакомимся в этом курсе, про другие стоит рассказать сразу."
   ]
  },
  {
   "cell_type": "code",
   "execution_count": null,
   "id": "4c478234-7e3e-4fa1-8004-7006ebd2f3af",
   "metadata": {
    "colab": {
     "base_uri": "https://localhost:8080/",
     "height": 312
    },
    "executionInfo": {
     "elapsed": 266,
     "status": "ok",
     "timestamp": 1662387751758,
     "user": {
      "displayName": "Daniil Makhotkin",
      "userId": "00113146169248763182"
     },
     "user_tz": -180
    },
    "id": "7rLAKsryZh_4",
    "outputId": "23effdab-de78-4941-921f-09eb6a9157e8"
   },
   "outputs": [],
   "source": [
    "%lsmagic"
   ]
  },
  {
   "cell_type": "markdown",
   "id": "1e16fa98-fba9-4e86-a3e2-0f00cbef6fac",
   "metadata": {
    "id": "GBAIG6JaXa-2"
   },
   "source": [
    "Выполнение bat/bash комманд (могут быть проблемы с кодировкой на Windows):"
   ]
  },
  {
   "cell_type": "code",
   "execution_count": null,
   "id": "387e9fea-ccba-4c3d-ad4a-de14fa335144",
   "metadata": {
    "colab": {
     "base_uri": "https://localhost:8080/",
     "height": 34
    },
    "executionInfo": {
     "elapsed": 1307,
     "status": "ok",
     "timestamp": 1600771046697,
     "user": {
      "displayName": "Даниил Русланович Махоткин",
      "photoUrl": "",
      "userId": "18336248573599285046"
     },
     "user_tz": -180
    },
    "id": "597w6ouQXa-2",
    "outputId": "00f50a55-6267-48da-cf30-29e8d38b6f10"
   },
   "outputs": [],
   "source": [
    "ls"
   ]
  },
  {
   "cell_type": "markdown",
   "id": "f72507e1-dd8b-472e-bd28-7f7f39613c65",
   "metadata": {
    "id": "8sqCg8txXa-5"
   },
   "source": [
    "### 0.2.3. Замер времени выполнения кода"
   ]
  },
  {
   "cell_type": "markdown",
   "id": "76145eab-99cd-4bdc-9345-e6b17e5e559d",
   "metadata": {
    "id": "ssocEdSFXa-5"
   },
   "source": [
    "Измерение времени выполнения ячейки кода:"
   ]
  },
  {
   "cell_type": "code",
   "execution_count": 6,
   "id": "fa85bcb0-1888-47cb-b07b-158559efaf56",
   "metadata": {},
   "outputs": [],
   "source": [
    "import math"
   ]
  },
  {
   "cell_type": "code",
   "execution_count": 7,
   "id": "500a4a21-3a73-4be2-be30-bc1235bd19f4",
   "metadata": {
    "id": "TtQHV0FgXa-6",
    "outputId": "1ad349f7-8106-4fe3-f94f-84cb125d9e0d"
   },
   "outputs": [
    {
     "name": "stdout",
     "output_type": "stream",
     "text": [
      "CPU times: total: 0 ns\n",
      "Wall time: 997 µs\n"
     ]
    }
   ],
   "source": [
    "%%time\n",
    "a = 352e+11\n",
    "for i in range(10000):\n",
    "    a = math.sin(a)"
   ]
  },
  {
   "cell_type": "markdown",
   "id": "0ad91c68-7f20-4540-a3e4-ca3e0259617d",
   "metadata": {
    "id": "A5W7l_L3Xa-8"
   },
   "source": [
    "Время выполнения конкретной строки из блока"
   ]
  },
  {
   "cell_type": "code",
   "execution_count": 8,
   "id": "78eef406-b031-492d-9180-1c10b38788f6",
   "metadata": {
    "id": "I-RVmK7nXa-9",
    "outputId": "004f863f-f86a-487c-e20d-ba265e1b9527"
   },
   "outputs": [
    {
     "name": "stdout",
     "output_type": "stream",
     "text": [
      "CPU times: total: 0 ns\n",
      "Wall time: 0 ns\n"
     ]
    }
   ],
   "source": [
    "%time a = 352e+10\n",
    "for i in range(10000):\n",
    "    a = math.sin(a)"
   ]
  },
  {
   "cell_type": "markdown",
   "id": "a7d5e1e2-b1b5-449e-a0a9-1c88213e7389",
   "metadata": {
    "id": "4qVQRT9gXa-_"
   },
   "source": [
    "Замер времени выполнения в цикле"
   ]
  },
  {
   "cell_type": "code",
   "execution_count": 9,
   "id": "adca4cea-f249-4bff-9690-1f8d4b4d97dc",
   "metadata": {
    "id": "XEMat0auXa-_",
    "outputId": "c1a0d02b-dfa9-4024-b43c-249e41c78142"
   },
   "outputs": [
    {
     "name": "stdout",
     "output_type": "stream",
     "text": [
      "12.9 ns ± 0.274 ns per loop (mean ± std. dev. of 7 runs, 100,000,000 loops each)\n"
     ]
    }
   ],
   "source": [
    "%timeit a = 352e+10\n",
    "for i in range(10000):\n",
    "    a = math.sin(a)"
   ]
  },
  {
   "cell_type": "markdown",
   "id": "92664b65-d448-4664-989f-5cc987203c13",
   "metadata": {
    "id": "1cnGhhAkw9yw"
   },
   "source": [
    "<a id=\"1\"></a>\n",
    "# 1 NumPy\n",
    "\n",
    "**NumPy** — великолепная библиотека Python для матричных вычислений. Он позволяет [легко] работать с матрицами, массивами, математикой и т.п. Кроме того, она позволяет (и поощряет) векторные операции, которые **гораздо** быстрее.\n",
    "\n",
    " - [numpy](http://www.numpy.org)\n",
    " - [numpy tutorial](http://cs231n.github.io/python-numpy-tutorial/)\n",
    " - [100 numpy exercises](http://www.labri.fr/perso/nrougier/teaching/numpy.100/)"
   ]
  },
  {
   "cell_type": "code",
   "execution_count": 10,
   "id": "1e749a31-07b9-4882-aefb-0913a2ab6ce1",
   "metadata": {},
   "outputs": [],
   "source": [
    "# show several prints in one cell. This will allow us to condence every trick in one cell.\n",
    "from IPython.core.interactiveshell import InteractiveShell\n",
    "InteractiveShell.ast_node_interactivity = \"all\""
   ]
  },
  {
   "cell_type": "markdown",
   "id": "45f7946e-aa57-4e6f-9389-4c542628fafa",
   "metadata": {
    "id": "_EVDc6u9TXH6",
    "jp-MarkdownHeadingCollapsed": true
   },
   "source": [
    "## 1.0. Вводная часть"
   ]
  },
  {
   "cell_type": "code",
   "execution_count": 11,
   "id": "dd64aef0-53f0-452c-b10d-1b3ffc984c74",
   "metadata": {
    "id": "_cfrrnb4TXH6"
   },
   "outputs": [],
   "source": [
    "import numpy as np"
   ]
  },
  {
   "cell_type": "markdown",
   "id": "3d14bc1b-ec69-421f-90e9-919ac5765a67",
   "metadata": {
    "jp-MarkdownHeadingCollapsed": true
   },
   "source": [
    "### 1.0.0. Размерность"
   ]
  },
  {
   "cell_type": "markdown",
   "id": "17bfb95b-5be8-415d-98f9-ad730e6196ad",
   "metadata": {
    "id": "oMZeErASTXH9"
   },
   "source": [
    "Основной тип  — [numpy.ndarray](http://docs.scipy.org/doc/numpy-1.10.0/reference/generated/numpy.array.html). \n",
    "Каждый `ndarray` имеет оси.  \n",
    "<img src=data/numpy_array_axes.png></img>"
   ]
  },
  {
   "cell_type": "code",
   "execution_count": 15,
   "id": "e407d707-1c49-428d-9b3b-6f02e476fe5f",
   "metadata": {
    "id": "6OtT_WMlTXH9",
    "outputId": "a3e086fb-fbc2-4e2a-f649-898b44b4f7f1"
   },
   "outputs": [
    {
     "data": {
      "text/plain": [
       "1"
      ]
     },
     "execution_count": 15,
     "metadata": {},
     "output_type": "execute_result"
    },
    {
     "data": {
      "text/plain": [
       "(3,)"
      ]
     },
     "execution_count": 15,
     "metadata": {},
     "output_type": "execute_result"
    }
   ],
   "source": [
    "vec = np.array([1, 2, 3])\n",
    "vec.ndim  # количество осей\n",
    "vec.shape  # размерность массива"
   ]
  },
  {
   "cell_type": "code",
   "execution_count": 16,
   "id": "45504b67-3b80-454f-93a5-95dca4ea97e1",
   "metadata": {
    "id": "pAkiq2cQTXIA",
    "outputId": "48700de9-430d-4a41-8be3-80be107e3fc0"
   },
   "outputs": [
    {
     "data": {
      "text/plain": [
       "2"
      ]
     },
     "execution_count": 16,
     "metadata": {},
     "output_type": "execute_result"
    },
    {
     "data": {
      "text/plain": [
       "(2, 3)"
      ]
     },
     "execution_count": 16,
     "metadata": {},
     "output_type": "execute_result"
    }
   ],
   "source": [
    "mat = np.array([[1, 2, 3], [4, 5, 6]])\n",
    "mat.ndim  # количество осей\n",
    "mat.shape  # размерность массива"
   ]
  },
  {
   "cell_type": "markdown",
   "id": "ade2b18a-a8c0-4318-835d-3959aaf7802f",
   "metadata": {
    "jp-MarkdownHeadingCollapsed": true
   },
   "source": [
    "### 1.0.1. Типы данных"
   ]
  },
  {
   "cell_type": "markdown",
   "id": "8a150ccd-a2c5-4617-8ce1-1df87872da3b",
   "metadata": {},
   "source": [
    "В Numpy есть разные встроенные типы данных, с которыми мы будем встречаться, аналогичные C++.  \n",
    "<br>\n",
    "<img src=data/numpy_dtypes.png></img>"
   ]
  },
  {
   "cell_type": "code",
   "execution_count": 47,
   "id": "6c587ad5-cf21-49b6-807c-0febeeb0ad7d",
   "metadata": {},
   "outputs": [
    {
     "data": {
      "text/plain": [
       "dtype('int32')"
      ]
     },
     "execution_count": 47,
     "metadata": {},
     "output_type": "execute_result"
    },
    {
     "data": {
      "text/plain": [
       "24"
      ]
     },
     "execution_count": 47,
     "metadata": {},
     "output_type": "execute_result"
    },
    {
     "data": {
      "text/plain": [
       "array([[1, 2, 3],\n",
       "       [4, 5, 6]])"
      ]
     },
     "execution_count": 47,
     "metadata": {},
     "output_type": "execute_result"
    }
   ],
   "source": [
    "mat = np.array([[1, 2, 3], [4, 5, 6]])\n",
    "mat.dtype  # Тип данных в массиве\n",
    "mat.nbytes  # Занимаемое в памяти место \n",
    "mat"
   ]
  },
  {
   "cell_type": "code",
   "execution_count": 48,
   "id": "f94050d7-ca8c-45f2-94c6-d527c0bd256d",
   "metadata": {},
   "outputs": [
    {
     "data": {
      "text/plain": [
       "dtype('float64')"
      ]
     },
     "execution_count": 48,
     "metadata": {},
     "output_type": "execute_result"
    },
    {
     "data": {
      "text/plain": [
       "48"
      ]
     },
     "execution_count": 48,
     "metadata": {},
     "output_type": "execute_result"
    },
    {
     "data": {
      "text/plain": [
       "array([[1., 2., 3.],\n",
       "       [4., 5., 6.]])"
      ]
     },
     "execution_count": 48,
     "metadata": {},
     "output_type": "execute_result"
    }
   ],
   "source": [
    "mat = np.array([[1, 2, 3], [4, 5, 6]], dtype=np.float64)  # Явно указываем тип данных в массиве\n",
    "mat.dtype  # Тип данных в массиве\n",
    "mat.nbytes  # Занимаемое в памяти место \n",
    "mat"
   ]
  },
  {
   "cell_type": "markdown",
   "id": "1fa7f2bf-ebfb-4675-937c-d86d2dbc20be",
   "metadata": {
    "id": "lgSTz_PtTXIC",
    "jp-MarkdownHeadingCollapsed": true
   },
   "source": [
    "### 1.0.2 Создание векторов и матриц "
   ]
  },
  {
   "cell_type": "code",
   "execution_count": 20,
   "id": "77847a26-6b96-4ef4-aef1-c361e2bf8815",
   "metadata": {
    "id": "EOlQq-sXTXIC",
    "outputId": "dbb84d85-b2fb-40bd-df9f-50d74d201d38"
   },
   "outputs": [
    {
     "data": {
      "text/plain": [
       "array([0., 0., 0.])"
      ]
     },
     "execution_count": 20,
     "metadata": {},
     "output_type": "execute_result"
    },
    {
     "data": {
      "text/plain": [
       "array([False, False, False])"
      ]
     },
     "execution_count": 20,
     "metadata": {},
     "output_type": "execute_result"
    },
    {
     "data": {
      "text/plain": [
       "array([0., 0., 0.], dtype=float64)"
      ]
     },
     "execution_count": 20,
     "metadata": {},
     "output_type": "execute_result"
    }
   ],
   "source": [
    "np.zeros((3,))  # Создание матрицы из нулей \n",
    "np.zeros((3,), dtype=bool)\n",
    "np.zeros((3,), dtype=np.longfloat)"
   ]
  },
  {
   "cell_type": "code",
   "execution_count": 23,
   "id": "587413ce-0739-4798-9901-26783bc7622f",
   "metadata": {
    "id": "I21QhYyKTXIF",
    "outputId": "b445ca4a-c4a4-4493-d661-3f4719951414"
   },
   "outputs": [
    {
     "data": {
      "text/plain": [
       "array([[1., 1., 1., 1.],\n",
       "       [1., 1., 1., 1.],\n",
       "       [1., 1., 1., 1.]])"
      ]
     },
     "execution_count": 23,
     "metadata": {},
     "output_type": "execute_result"
    }
   ],
   "source": [
    "np.ones((3, 4))  # Создание матрицы из единиц"
   ]
  },
  {
   "cell_type": "code",
   "execution_count": 24,
   "id": "66e7fd0b-f4c2-49db-8e2f-cbdfdf8432c4",
   "metadata": {
    "id": "tRNntmPOTXIH",
    "outputId": "41b23d15-a2ca-405b-c81b-20b2ba41393e"
   },
   "outputs": [
    {
     "data": {
      "text/plain": [
       "array([[1., 0., 0.],\n",
       "       [0., 1., 0.],\n",
       "       [0., 0., 1.]])"
      ]
     },
     "execution_count": 24,
     "metadata": {},
     "output_type": "execute_result"
    }
   ],
   "source": [
    "np.identity(3)  # Создание единичной матрицы"
   ]
  },
  {
   "cell_type": "code",
   "execution_count": 37,
   "id": "bb22c346-333e-4d5d-a3f0-52c124d80a2e",
   "metadata": {
    "id": "4lsPKvzzTXIJ",
    "outputId": "63f0622e-df8b-433f-a626-5fc1a4781928"
   },
   "outputs": [
    {
     "data": {
      "text/plain": [
       "array([ 2,  5,  8, 11, 14, 17])"
      ]
     },
     "execution_count": 37,
     "metadata": {},
     "output_type": "execute_result"
    },
    {
     "data": {
      "text/plain": [
       "array([ 1.,  4.,  7., 10.])"
      ]
     },
     "execution_count": 37,
     "metadata": {},
     "output_type": "execute_result"
    }
   ],
   "source": [
    "np.arange(2, 20, 3)  # Создание вектора с указанием границ и шага (как range)\n",
    "np.linspace(1, 10, 4)  # Создание вектора с указанием границ и количества значений между ними (границы включительно)"
   ]
  },
  {
   "cell_type": "markdown",
   "id": "5c0d7cf6-816c-489e-9628-164fa8288904",
   "metadata": {},
   "source": [
    "### 1.0.3. Изменение формы массива**  "
   ]
  },
  {
   "cell_type": "markdown",
   "id": "7d737ed1-a5a6-415a-8050-146a39a2e91f",
   "metadata": {},
   "source": [
    "Изменение формы происходит при помощи функции _np.reshape_\n",
    "<br>\n",
    "<img src=data/numpy_reshape.png> </img>"
   ]
  },
  {
   "cell_type": "code",
   "execution_count": 39,
   "id": "4f923893-5534-407f-bea6-dc90c29ea3df",
   "metadata": {
    "id": "61Y2rk2dTXIM",
    "outputId": "fe54c6a0-4f52-4b5c-b68e-9d3153b09df2"
   },
   "outputs": [
    {
     "data": {
      "text/plain": [
       "array([1., 2., 3., 4., 5., 6.])"
      ]
     },
     "execution_count": 39,
     "metadata": {},
     "output_type": "execute_result"
    },
    {
     "data": {
      "text/plain": [
       "array([[1., 2., 3.],\n",
       "       [4., 5., 6.]])"
      ]
     },
     "execution_count": 39,
     "metadata": {},
     "output_type": "execute_result"
    }
   ],
   "source": [
    "A = np.linspace(1, 6, 6)\n",
    "A\n",
    "A.reshape(2, 3)  # Изменение формы "
   ]
  },
  {
   "cell_type": "code",
   "execution_count": 40,
   "id": "c22b17b9-8f97-41e0-966c-d103fe1048e6",
   "metadata": {
    "id": "qkD4N50PTXIO",
    "outputId": "a74fdc12-6826-490a-b59c-ddc112c95d92"
   },
   "outputs": [
    {
     "data": {
      "text/plain": [
       "array([[1., 2.],\n",
       "       [3., 4.],\n",
       "       [5., 6.]])"
      ]
     },
     "execution_count": 40,
     "metadata": {},
     "output_type": "execute_result"
    }
   ],
   "source": [
    "C = A.reshape(3, -1)  # Автоматический подбор размеров матрицы\n",
    "C"
   ]
  },
  {
   "cell_type": "markdown",
   "id": "30526976-1319-4373-995e-b2129f9a8f83",
   "metadata": {},
   "source": [
    "Или при помощи транспонирования"
   ]
  },
  {
   "cell_type": "code",
   "execution_count": 41,
   "id": "f160be5f-8600-4fb5-97fb-3d40108f3167",
   "metadata": {
    "id": "9GLSdfMHTXIR",
    "outputId": "ca178764-a0e5-44aa-de33-7337bae9ae67"
   },
   "outputs": [
    {
     "data": {
      "text/plain": [
       "array([[1., 3., 5.],\n",
       "       [2., 4., 6.]])"
      ]
     },
     "execution_count": 41,
     "metadata": {},
     "output_type": "execute_result"
    },
    {
     "data": {
      "text/plain": [
       "array([[1., 3., 5.],\n",
       "       [2., 4., 6.]])"
      ]
     },
     "execution_count": 41,
     "metadata": {},
     "output_type": "execute_result"
    }
   ],
   "source": [
    "C.T  \n",
    "C.transpose()"
   ]
  },
  {
   "cell_type": "markdown",
   "id": "4c3c093f-a8ff-4b38-a9bc-1e28fbc968b3",
   "metadata": {
    "id": "ijesPIkQTXIT"
   },
   "source": [
    "## 1.1. Базовые операции над массивами"
   ]
  },
  {
   "cell_type": "markdown",
   "id": "6922a5db-7365-4a1e-9086-1ed7120a30f4",
   "metadata": {
    "jp-MarkdownHeadingCollapsed": true
   },
   "source": [
    "### 1.1.0. Операции с массивами одинаковой размерности"
   ]
  },
  {
   "cell_type": "markdown",
   "id": "bebf3287-0b76-4684-af36-d1f0451af22a",
   "metadata": {},
   "source": [
    "Сложение, умножение и другие математические операции производятся поэлементно:\n",
    "$$c_i = a_i + b_i$$"
   ]
  },
  {
   "cell_type": "code",
   "execution_count": 57,
   "id": "a1362aed-4836-4778-937f-3e39371168b5",
   "metadata": {},
   "outputs": [
    {
     "data": {
      "text/plain": [
       "array([[0, 1, 2],\n",
       "       [3, 4, 5],\n",
       "       [6, 7, 8]])"
      ]
     },
     "execution_count": 57,
     "metadata": {},
     "output_type": "execute_result"
    },
    {
     "data": {
      "text/plain": [
       "array([[ 8,  9, 10],\n",
       "       [11, 12, 13],\n",
       "       [14, 15, 16]])"
      ]
     },
     "execution_count": 57,
     "metadata": {},
     "output_type": "execute_result"
    },
    {
     "data": {
      "text/plain": [
       "array([[ 8, 10, 12],\n",
       "       [14, 16, 18],\n",
       "       [20, 22, 24]])"
      ]
     },
     "execution_count": 57,
     "metadata": {},
     "output_type": "execute_result"
    }
   ],
   "source": [
    "A = np.arange(9).reshape(3, 3)\n",
    "B = np.arange(8, 17).reshape(3, 3)\n",
    "A\n",
    "B\n",
    "\n",
    "C = A + B\n",
    "C"
   ]
  },
  {
   "cell_type": "code",
   "execution_count": 62,
   "id": "7930651b-e810-4944-819f-92c725c8636b",
   "metadata": {
    "id": "_TCpG55XTXIY",
    "outputId": "b8f84597-0534-47b1-ca1d-d26f0576d4fd"
   },
   "outputs": [
    {
     "data": {
      "text/plain": [
       "array([[0, 1, 2],\n",
       "       [3, 4, 5],\n",
       "       [6, 7, 8]])"
      ]
     },
     "execution_count": 62,
     "metadata": {},
     "output_type": "execute_result"
    },
    {
     "data": {
      "text/plain": [
       "array([[ 8,  9, 10],\n",
       "       [11, 12, 13],\n",
       "       [14, 15, 16]])"
      ]
     },
     "execution_count": 62,
     "metadata": {},
     "output_type": "execute_result"
    },
    {
     "data": {
      "text/plain": [
       "array([[  0,   9,  20],\n",
       "       [ 33,  48,  65],\n",
       "       [ 84, 105, 128]])"
      ]
     },
     "execution_count": 62,
     "metadata": {},
     "output_type": "execute_result"
    }
   ],
   "source": [
    "A = np.arange(9).reshape(3, 3)\n",
    "B = np.arange(8, 17).reshape(3, 3)\n",
    "A\n",
    "B\n",
    "A * B"
   ]
  },
  {
   "cell_type": "markdown",
   "id": "6834bd30-5650-4d78-809b-f71d427ad1ba",
   "metadata": {
    "jp-MarkdownHeadingCollapsed": true
   },
   "source": [
    "### 1.1.1 Операции с разными размерностями"
   ]
  },
  {
   "cell_type": "markdown",
   "id": "3553fee8-3484-4a7a-bc65-a90008681be8",
   "metadata": {},
   "source": [
    "По возможности происходит так, как показано на картинке.\n",
    "<img src=data/numpy_adding.jpg> </img>"
   ]
  },
  {
   "cell_type": "code",
   "execution_count": 64,
   "id": "d124c381-28ce-4a24-9685-1fb7782b193b",
   "metadata": {},
   "outputs": [
    {
     "data": {
      "text/plain": [
       "array([[ 0],\n",
       "       [10],\n",
       "       [20],\n",
       "       [30]])"
      ]
     },
     "execution_count": 64,
     "metadata": {},
     "output_type": "execute_result"
    },
    {
     "data": {
      "text/plain": [
       "array([1, 2, 3])"
      ]
     },
     "execution_count": 64,
     "metadata": {},
     "output_type": "execute_result"
    },
    {
     "data": {
      "text/plain": [
       "array([[ 1,  2,  3],\n",
       "       [11, 12, 13],\n",
       "       [21, 22, 23],\n",
       "       [31, 32, 33]])"
      ]
     },
     "execution_count": 64,
     "metadata": {},
     "output_type": "execute_result"
    }
   ],
   "source": [
    "A = np.arange(0, 31, 10).reshape(-1, 1)\n",
    "B = np.arange(1, 4)\n",
    "A\n",
    "B\n",
    "A + B"
   ]
  },
  {
   "cell_type": "code",
   "execution_count": 63,
   "id": "104beecf-135c-43df-8d60-a1c31751d464",
   "metadata": {},
   "outputs": [
    {
     "data": {
      "text/plain": [
       "array([[0, 1, 2],\n",
       "       [3, 4, 5],\n",
       "       [6, 7, 8]])"
      ]
     },
     "execution_count": 63,
     "metadata": {},
     "output_type": "execute_result"
    },
    {
     "data": {
      "text/plain": [
       "array([[ 5,  6,  7],\n",
       "       [ 8,  9, 10],\n",
       "       [11, 12, 13]])"
      ]
     },
     "execution_count": 63,
     "metadata": {},
     "output_type": "execute_result"
    }
   ],
   "source": [
    "A = np.arange(9).reshape(3, 3)\n",
    "A\n",
    "A + 5"
   ]
  },
  {
   "cell_type": "code",
   "execution_count": 59,
   "id": "a8183f86-498c-426c-94f3-add10103d856",
   "metadata": {},
   "outputs": [
    {
     "data": {
      "text/plain": [
       "array([[0, 1, 2],\n",
       "       [3, 4, 5],\n",
       "       [6, 7, 8]], dtype=int8)"
      ]
     },
     "execution_count": 59,
     "metadata": {},
     "output_type": "execute_result"
    },
    {
     "data": {
      "text/plain": [
       "array([[ 0,  2,  4],\n",
       "       [ 6,  8, 10],\n",
       "       [12, 14, 16]], dtype=int8)"
      ]
     },
     "execution_count": 59,
     "metadata": {},
     "output_type": "execute_result"
    },
    {
     "data": {
      "text/plain": [
       "array([[   0,   20,   40],\n",
       "       [  60,   80,  100],\n",
       "       [ 120, -116,  -96]], dtype=int8)"
      ]
     },
     "execution_count": 59,
     "metadata": {},
     "output_type": "execute_result"
    }
   ],
   "source": [
    "D = np.arange(9, dtype=np.int8).reshape(3, 3)\n",
    "D\n",
    "D * 2\n",
    "D * 20"
   ]
  },
  {
   "cell_type": "code",
   "execution_count": 69,
   "id": "1cbd2ed7-2c77-44a3-8631-d8777a22169e",
   "metadata": {},
   "outputs": [
    {
     "data": {
      "text/plain": [
       "array([[0, 1, 2],\n",
       "       [3, 4, 5],\n",
       "       [6, 7, 8]])"
      ]
     },
     "execution_count": 69,
     "metadata": {},
     "output_type": "execute_result"
    },
    {
     "data": {
      "text/plain": [
       "array([1, 2, 3])"
      ]
     },
     "execution_count": 69,
     "metadata": {},
     "output_type": "execute_result"
    },
    {
     "data": {
      "text/plain": [
       "array([[ 1,  3,  5],\n",
       "       [ 4,  6,  8],\n",
       "       [ 7,  9, 11]])"
      ]
     },
     "execution_count": 69,
     "metadata": {},
     "output_type": "execute_result"
    }
   ],
   "source": [
    "A = np.arange(9).reshape(3, 3)\n",
    "B = np.arange(1, 4)\n",
    "A\n",
    "B\n",
    "A + B"
   ]
  },
  {
   "cell_type": "markdown",
   "id": "46434d65-bf2b-45f8-9d21-38f2b44aa091",
   "metadata": {
    "jp-MarkdownHeadingCollapsed": true
   },
   "source": [
    "### 1.1.2. Матричное умножение"
   ]
  },
  {
   "cell_type": "code",
   "execution_count": 70,
   "id": "3c3c08aa-fe3b-47cf-80ee-1ad4d586c7b7",
   "metadata": {
    "id": "OANzABKsTXIa",
    "outputId": "8c819cd6-b3dd-4e0a-d482-105c987028b9"
   },
   "outputs": [
    {
     "data": {
      "text/plain": [
       "array([[0, 1, 2],\n",
       "       [3, 4, 5],\n",
       "       [6, 7, 8]])"
      ]
     },
     "execution_count": 70,
     "metadata": {},
     "output_type": "execute_result"
    },
    {
     "data": {
      "text/plain": [
       "array([[ 8,  9, 10],\n",
       "       [11, 12, 13],\n",
       "       [14, 15, 16]])"
      ]
     },
     "execution_count": 70,
     "metadata": {},
     "output_type": "execute_result"
    }
   ],
   "source": [
    "A = np.arange(9).reshape(3, 3)\n",
    "B = np.arange(8, 17).reshape(3, 3)\n",
    "A\n",
    "B"
   ]
  },
  {
   "cell_type": "code",
   "execution_count": 71,
   "id": "f3bbab7c-2882-41ea-9ab5-9431e902a3ca",
   "metadata": {},
   "outputs": [
    {
     "data": {
      "text/plain": [
       "array([[ 39,  42,  45],\n",
       "       [138, 150, 162],\n",
       "       [237, 258, 279]])"
      ]
     },
     "execution_count": 71,
     "metadata": {},
     "output_type": "execute_result"
    },
    {
     "data": {
      "text/plain": [
       "array([[ 39,  42,  45],\n",
       "       [138, 150, 162],\n",
       "       [237, 258, 279]])"
      ]
     },
     "execution_count": 71,
     "metadata": {},
     "output_type": "execute_result"
    }
   ],
   "source": [
    "A.dot(B)\n",
    "A@B"
   ]
  },
  {
   "cell_type": "markdown",
   "id": "487382eb-6da5-4daf-9747-add723341588",
   "metadata": {
    "id": "1DEg0vYjTXIe",
    "jp-MarkdownHeadingCollapsed": true
   },
   "source": [
    "### 1.1.3 Индексирование"
   ]
  },
  {
   "cell_type": "code",
   "execution_count": 76,
   "id": "69e43a85-48c4-44d2-be38-9c2414981276",
   "metadata": {
    "id": "MBiMed6fTXIf",
    "outputId": "00f03be1-6906-4717-8213-d61dc2afadbf"
   },
   "outputs": [
    {
     "data": {
      "text/plain": [
       "array([[0, 1, 2],\n",
       "       [3, 4, 5],\n",
       "       [6, 7, 8]])"
      ]
     },
     "execution_count": 76,
     "metadata": {},
     "output_type": "execute_result"
    },
    {
     "data": {
      "text/plain": [
       "array([1, 4, 7])"
      ]
     },
     "execution_count": 76,
     "metadata": {},
     "output_type": "execute_result"
    },
    {
     "data": {
      "text/plain": [
       "array([[1, 2],\n",
       "       [4, 5],\n",
       "       [7, 8]])"
      ]
     },
     "execution_count": 76,
     "metadata": {},
     "output_type": "execute_result"
    }
   ],
   "source": [
    "A = np.arange(9).reshape(3, 3)\n",
    "A[:]\n",
    "A[:, 1]\n",
    "A[:, 1:3]"
   ]
  },
  {
   "cell_type": "code",
   "execution_count": 77,
   "id": "5f5c778a-ed4e-4128-a136-41ff5782ebb8",
   "metadata": {
    "id": "GJmDwm02TXIk",
    "outputId": "e6081cf8-5ecc-46f3-b0eb-1f648f5dbd89"
   },
   "outputs": [
    {
     "data": {
      "text/plain": [
       "array([[ 0,  1,  2,  3,  4,  5,  6,  7,  8],\n",
       "       [ 9, 10, 11, 12, 13, 14, 15, 16, 17],\n",
       "       [18, 19, 20, 21, 22, 23, 24, 25, 26],\n",
       "       [27, 28, 29, 30, 31, 32, 33, 34, 35],\n",
       "       [36, 37, 38, 39, 40, 41, 42, 43, 44],\n",
       "       [45, 46, 47, 48, 49, 50, 51, 52, 53],\n",
       "       [54, 55, 56, 57, 58, 59, 60, 61, 62],\n",
       "       [63, 64, 65, 66, 67, 68, 69, 70, 71],\n",
       "       [72, 73, 74, 75, 76, 77, 78, 79, 80]])"
      ]
     },
     "execution_count": 77,
     "metadata": {},
     "output_type": "execute_result"
    }
   ],
   "source": [
    "A = np.arange(81).reshape(9, -1)\n",
    "A"
   ]
  },
  {
   "cell_type": "code",
   "execution_count": 78,
   "id": "89e5d141-f1e7-4213-8198-7ae885d15e34",
   "metadata": {
    "id": "yUFvu6o_TXIm",
    "outputId": "ea9a9051-7e97-4151-d8ab-3e0a6f36674b"
   },
   "outputs": [
    {
     "data": {
      "text/plain": [
       "array([[ 2,  3,  4,  5],\n",
       "       [11, 12, 13, 14],\n",
       "       [20, 21, 22, 23],\n",
       "       [29, 30, 31, 32],\n",
       "       [38, 39, 40, 41],\n",
       "       [47, 48, 49, 50],\n",
       "       [56, 57, 58, 59],\n",
       "       [65, 66, 67, 68],\n",
       "       [74, 75, 76, 77]])"
      ]
     },
     "execution_count": 78,
     "metadata": {},
     "output_type": "execute_result"
    }
   ],
   "source": [
    "A[:, 2:6]"
   ]
  },
  {
   "cell_type": "code",
   "execution_count": 79,
   "id": "ad20e51c-d04f-40cb-84b5-a204bffa6860",
   "metadata": {
    "id": "Jq_5yQ3ATXIo",
    "outputId": "b00451e6-3aec-40d5-fdf2-26f7bdd5c46d"
   },
   "outputs": [
    {
     "data": {
      "text/plain": [
       "array([[ 2,  5],\n",
       "       [11, 14],\n",
       "       [20, 23],\n",
       "       [29, 32],\n",
       "       [38, 41],\n",
       "       [47, 50],\n",
       "       [56, 59],\n",
       "       [65, 68],\n",
       "       [74, 77]])"
      ]
     },
     "execution_count": 79,
     "metadata": {},
     "output_type": "execute_result"
    }
   ],
   "source": [
    "A[:, 2:6:3] "
   ]
  },
  {
   "cell_type": "code",
   "execution_count": 80,
   "id": "e3e81bc0-9f56-4ce4-91d6-6323960f27bb",
   "metadata": {
    "id": "sLqZg_bcTXIq",
    "outputId": "ecc6e8b8-d156-46e9-ea59-a09785e39f51"
   },
   "outputs": [
    {
     "data": {
      "text/plain": [
       "array([[0, 1, 2, 0, 1, 2, 0, 1, 2],\n",
       "       [0, 1, 2, 0, 1, 2, 0, 1, 2],\n",
       "       [0, 1, 2, 0, 1, 2, 0, 1, 2],\n",
       "       [0, 1, 2, 0, 1, 2, 0, 1, 2],\n",
       "       [0, 1, 2, 0, 1, 2, 0, 1, 2],\n",
       "       [0, 1, 2, 0, 1, 2, 0, 1, 2],\n",
       "       [0, 1, 2, 0, 1, 2, 0, 1, 2],\n",
       "       [0, 1, 2, 0, 1, 2, 0, 1, 2],\n",
       "       [0, 1, 2, 0, 1, 2, 0, 1, 2]], dtype=int32)"
      ]
     },
     "execution_count": 80,
     "metadata": {},
     "output_type": "execute_result"
    },
    {
     "data": {
      "text/plain": [
       "array([[ True, False, False,  True, False, False,  True, False, False],\n",
       "       [ True, False, False,  True, False, False,  True, False, False],\n",
       "       [ True, False, False,  True, False, False,  True, False, False],\n",
       "       [ True, False, False,  True, False, False,  True, False, False],\n",
       "       [ True, False, False,  True, False, False,  True, False, False],\n",
       "       [ True, False, False,  True, False, False,  True, False, False],\n",
       "       [ True, False, False,  True, False, False,  True, False, False],\n",
       "       [ True, False, False,  True, False, False,  True, False, False],\n",
       "       [ True, False, False,  True, False, False,  True, False, False]])"
      ]
     },
     "execution_count": 80,
     "metadata": {},
     "output_type": "execute_result"
    },
    {
     "data": {
      "text/plain": [
       "array([ 0,  3,  6,  9, 12, 15, 18, 21, 24, 27, 30, 33, 36, 39, 42, 45, 48,\n",
       "       51, 54, 57, 60, 63, 66, 69, 72, 75, 78])"
      ]
     },
     "execution_count": 80,
     "metadata": {},
     "output_type": "execute_result"
    }
   ],
   "source": [
    "# Маски\n",
    "A % 3\n",
    "A % 3 == 0\n",
    "A[A % 3 == 0]"
   ]
  },
  {
   "cell_type": "markdown",
   "id": "75f2c928-b063-4c8b-abbd-bd4c8f838374",
   "metadata": {
    "jp-MarkdownHeadingCollapsed": true
   },
   "source": [
    "### 1.1.4. Остальное"
   ]
  },
  {
   "cell_type": "markdown",
   "id": "98ed9a78-bdef-46f1-8784-9b42d77eb07c",
   "metadata": {},
   "source": [
    "Рассматриваем остальные приятные возможности, такие как:\n",
    "- минимум\n",
    "- максимум\n",
    "- сумма\n",
    "- среднее\n",
    "- стд\n",
    "- поэлементые математические операции"
   ]
  },
  {
   "cell_type": "code",
   "execution_count": 72,
   "id": "03023c08-c754-428f-8018-ee8089d7cd16",
   "metadata": {},
   "outputs": [
    {
     "data": {
      "text/plain": [
       "array([[ 39,  42,  45],\n",
       "       [138, 150, 162],\n",
       "       [237, 258, 279]])"
      ]
     },
     "execution_count": 72,
     "metadata": {},
     "output_type": "execute_result"
    },
    {
     "data": {
      "text/plain": [
       "array([ 45, 162, 279])"
      ]
     },
     "execution_count": 72,
     "metadata": {},
     "output_type": "execute_result"
    },
    {
     "data": {
      "text/plain": [
       "array([39, 42, 45])"
      ]
     },
     "execution_count": 72,
     "metadata": {},
     "output_type": "execute_result"
    }
   ],
   "source": [
    "A = np.arange(9).reshape(3, 3)\n",
    "B = np.arange(8, 17).reshape(3, 3)\n",
    "D = A@B\n",
    "D\n",
    "D.max(axis=1)\n",
    "D.min(axis=0)"
   ]
  },
  {
   "cell_type": "code",
   "execution_count": 73,
   "id": "87bcbda1-1bdc-4ba6-a0d1-39bd73ec0f98",
   "metadata": {},
   "outputs": [
    {
     "data": {
      "text/plain": [
       "1350"
      ]
     },
     "execution_count": 73,
     "metadata": {},
     "output_type": "execute_result"
    },
    {
     "data": {
      "text/plain": [
       "array([414, 450, 486])"
      ]
     },
     "execution_count": 73,
     "metadata": {},
     "output_type": "execute_result"
    },
    {
     "data": {
      "text/plain": [
       "array([414, 450, 486])"
      ]
     },
     "execution_count": 73,
     "metadata": {},
     "output_type": "execute_result"
    }
   ],
   "source": [
    "D.sum()\n",
    "D.sum(axis=0)\n",
    "np.sum(D, axis=0)"
   ]
  },
  {
   "cell_type": "code",
   "execution_count": 74,
   "id": "6cb54cb4-12ee-416a-ab78-448cdbb68ba6",
   "metadata": {},
   "outputs": [
    {
     "data": {
      "text/plain": [
       "150.0"
      ]
     },
     "execution_count": 74,
     "metadata": {},
     "output_type": "execute_result"
    },
    {
     "data": {
      "text/plain": [
       "88.92693630166283"
      ]
     },
     "execution_count": 74,
     "metadata": {},
     "output_type": "execute_result"
    }
   ],
   "source": [
    "D.mean()\n",
    "D.std()"
   ]
  },
  {
   "cell_type": "code",
   "execution_count": 75,
   "id": "c3811b04-f557-4647-a74f-ca017b2bba9b",
   "metadata": {},
   "outputs": [
    {
     "data": {
      "text/plain": [
       "array([[0, 1, 2],\n",
       "       [3, 4, 5],\n",
       "       [6, 7, 8]])"
      ]
     },
     "execution_count": 75,
     "metadata": {},
     "output_type": "execute_result"
    },
    {
     "data": {
      "text/plain": [
       "array([[ 0.        ,  0.84147098,  0.90929743],\n",
       "       [ 0.14112001, -0.7568025 , -0.95892427],\n",
       "       [-0.2794155 ,  0.6569866 ,  0.98935825]])"
      ]
     },
     "execution_count": 75,
     "metadata": {},
     "output_type": "execute_result"
    },
    {
     "name": "stderr",
     "output_type": "stream",
     "text": [
      "C:\\Users\\kitro\\AppData\\Local\\Temp\\ipykernel_9976\\2077385271.py:4: RuntimeWarning: divide by zero encountered in log\n",
      "  np.log(A)\n"
     ]
    },
    {
     "data": {
      "text/plain": [
       "array([[      -inf, 0.        , 0.69314718],\n",
       "       [1.09861229, 1.38629436, 1.60943791],\n",
       "       [1.79175947, 1.94591015, 2.07944154]])"
      ]
     },
     "execution_count": 75,
     "metadata": {},
     "output_type": "execute_result"
    },
    {
     "data": {
      "text/plain": [
       "array([[  1.,   2.,   4.],\n",
       "       [  8.,  16.,  32.],\n",
       "       [ 64., 128., 256.]])"
      ]
     },
     "execution_count": 75,
     "metadata": {},
     "output_type": "execute_result"
    }
   ],
   "source": [
    "A = np.arange(9).reshape(3, 3)\n",
    "A\n",
    "np.sin(A)\n",
    "np.log(A)\n",
    "np.exp2(A)"
   ]
  },
  {
   "cell_type": "code",
   "execution_count": null,
   "id": "219349ff-4f53-488a-a798-852c2f204db2",
   "metadata": {},
   "outputs": [],
   "source": []
  },
  {
   "cell_type": "markdown",
   "id": "9b735378-844e-44aa-9c2a-1d68fcb33c15",
   "metadata": {},
   "source": [
    "## 1.2. Векторизация\n"
   ]
  },
  {
   "cell_type": "markdown",
   "id": "d065ef9a-b538-40ef-954a-7e78e267b1ef",
   "metadata": {},
   "source": [
    "### 1.2.0. Математические операции с массивами"
   ]
  },
  {
   "cell_type": "code",
   "execution_count": null,
   "id": "a5cf3cf3-0369-4000-9cbd-3eee51c9df45",
   "metadata": {},
   "outputs": [],
   "source": [
    "n = 100_000_000\n",
    "l = list(range(n))"
   ]
  },
  {
   "cell_type": "code",
   "execution_count": null,
   "id": "aff0133f-c567-4d9f-ba34-ca4348354b4b",
   "metadata": {},
   "outputs": [],
   "source": [
    "%timeit for i in range(n): l[i] += 17"
   ]
  },
  {
   "cell_type": "code",
   "execution_count": null,
   "id": "e6ba61d3-e05f-491d-a603-abf038001857",
   "metadata": {},
   "outputs": [],
   "source": [
    "%%time\n",
    "\n",
    "%time arr = np.array(l)\n",
    "%time arr += 17"
   ]
  },
  {
   "cell_type": "code",
   "execution_count": null,
   "id": "32a2210b-87a8-4e62-b52d-9a3da6a3bef5",
   "metadata": {
    "id": "3SeNsrPCskAf"
   },
   "outputs": [],
   "source": []
  },
  {
   "cell_type": "markdown",
   "id": "90fd65ea-610b-470e-8e20-01cd1299ba39",
   "metadata": {},
   "source": [
    "<a id = \"2\"></a>\n",
    "# 2. Pandas"
   ]
  },
  {
   "cell_type": "code",
   "execution_count": null,
   "id": "8261b4d8-1861-485b-8db7-02e39dff670f",
   "metadata": {},
   "outputs": [],
   "source": [
    "# basic libraries\n",
    "import os\n",
    "import numpy as np\n",
    "import pandas as pd\n",
    "\n",
    "# show several prints in one cell. This will allow us to condence every trick in one cell.\n",
    "from IPython.core.interactiveshell import InteractiveShell\n",
    "InteractiveShell.ast_node_interactivity = \"all\""
   ]
  },
  {
   "cell_type": "code",
   "execution_count": null,
   "id": "1a387d89-2d46-47f7-95e0-f524cd35e06e",
   "metadata": {
    "_cell_guid": "b1076dfc-b9ad-4769-8c92-a6c4dae69d19",
    "_uuid": "8f2839f25d086af736a60e9eeb907d3b93b6e0e5"
   },
   "outputs": [],
   "source": [
    "# this will allow us to print all the files as we generate more in the kernel\n",
    "def print_files():\n",
    "    for dirname, _, filenames in os.walk('datasets'):\n",
    "        for filename in filenames:\n",
    "            print(os.path.join(dirname, filename))\n",
    "\n",
    "# check Trick 91 for an example\n",
    "def generate_sample_data(): # creates a fake df for testing\n",
    "    number_or_rows = 20\n",
    "    num_cols = 7\n",
    "    cols = list(\"ABCDEFG\")\n",
    "    df = pd.DataFrame(np.random.randint(1, 20, size = (number_or_rows, num_cols)), columns=cols)\n",
    "    df.index = pd.util.testing.makeIntIndex(number_or_rows)\n",
    "    return df\n",
    "\n",
    "# check Trick 91 for an example\n",
    "def generate_sample_data_datetime(): # creates a fake df for testing\n",
    "    number_or_rows = 365*24\n",
    "    num_cols = 2\n",
    "    cols = [\"sales\", \"customers\"]\n",
    "    df = pd.DataFrame(np.random.randint(1, 20, size = (number_or_rows, num_cols)), columns=cols)\n",
    "    df.index = pd.util.testing.makeDateIndex(number_or_rows, freq=\"H\")\n",
    "    return df\n",
    "\n",
    "\n",
    "print_files()"
   ]
  },
  {
   "cell_type": "code",
   "execution_count": null,
   "id": "0859f209-159f-4203-a907-183fd751bda7",
   "metadata": {},
   "outputs": [],
   "source": []
  },
  {
   "cell_type": "code",
   "execution_count": null,
   "id": "9ee9b817-8a2f-4e27-a5b5-7c0b6fc8ecbb",
   "metadata": {},
   "outputs": [],
   "source": [
    "df = pd.read_csv(r\"C:\\Users\\kitro\\JupiterProjects\\ML\\datasets\\US_Accidents_March23.csv\")\n",
    "print(\"The shape of the df is {}\".format(df.shape))\n",
    "\n",
    "del df\n",
    "\n",
    "df = pd.read_csv(r\"C:\\Users\\kitro\\JupiterProjects\\ML\\datasets\\US_Accidents_March23.csv\", skiprows = lambda x: x>0 and np.random.rand() > 0.01)\n",
    "print(\"The shape of the df is {}. It has been reduced 100 times!\".format(df.shape))\n",
    "\n",
    "\n",
    "'''\n",
    "How it works:\n",
    "skiprows accepts a function that is evaluated against the integer index.\n",
    "x > 0 makes sure that the headers is not skipped\n",
    "np.random.rand() > 0.01 returns True 99% of the tie, thus skipping 99% of the time.\n",
    "Note that we are using skiprows\n",
    "'''"
   ]
  },
  {
   "cell_type": "code",
   "execution_count": null,
   "id": "7a706d28-1084-4cbc-9a66-9ffd30137209",
   "metadata": {},
   "outputs": [],
   "source": [
    "df"
   ]
  },
  {
   "cell_type": "code",
   "execution_count": null,
   "id": "1af2caca-0dbb-431a-89ea-0d17a616d59a",
   "metadata": {},
   "outputs": [],
   "source": []
  },
  {
   "cell_type": "code",
   "execution_count": null,
   "id": "29f7544f-2419-4d7d-b00c-5f7ed9f07b7f",
   "metadata": {},
   "outputs": [],
   "source": []
  },
  {
   "cell_type": "code",
   "execution_count": null,
   "id": "f22e1f1b-5bce-43a3-a666-18f35aa6739d",
   "metadata": {},
   "outputs": [],
   "source": []
  }
 ],
 "metadata": {
  "kernelspec": {
   "display_name": "Python 3 (ipykernel)",
   "language": "python",
   "name": "python3"
  },
  "language_info": {
   "codemirror_mode": {
    "name": "ipython",
    "version": 3
   },
   "file_extension": ".py",
   "mimetype": "text/x-python",
   "name": "python",
   "nbconvert_exporter": "python",
   "pygments_lexer": "ipython3",
   "version": "3.12.3"
  }
 },
 "nbformat": 4,
 "nbformat_minor": 5
}
