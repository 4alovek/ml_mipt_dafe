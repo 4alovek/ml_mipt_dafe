{
  "nbformat": 4,
  "nbformat_minor": 0,
  "metadata": {
    "kernelspec": {
      "display_name": "Py3 research env",
      "language": "python",
      "name": "py3_research"
    },
    "language_info": {
      "codemirror_mode": {
        "name": "ipython",
        "version": 3
      },
      "file_extension": ".py",
      "mimetype": "text/x-python",
      "name": "python",
      "nbconvert_exporter": "python",
      "pygments_lexer": "ipython3",
      "version": "3.6.7"
    },
    "colab": {
      "name": "Seminar_12_RNN.ipynb",
      "provenance": [],
      "toc_visible": true,
      "collapsed_sections": [
        "NSIA3BkhQ0tz",
        "jacaQ4jTQ0tz"
      ]
    },
    "accelerator": "GPU"
  },
  "cells": [
    {
      "cell_type": "markdown",
      "metadata": {
        "id": "qeFVovmZzOhI"
      },
      "source": [
        "# your own word2vec"
      ]
    },
    {
      "cell_type": "code",
      "source": [
        "import string\n",
        "from gensim.models import Word2Vec\n",
        "import gensim.downloader as api\n",
        "import numpy as np"
      ],
      "metadata": {
        "id": "vB_w8tK1pgSd"
      },
      "execution_count": null,
      "outputs": []
    },
    {
      "cell_type": "markdown",
      "source": [
        "[Quora](https://ru.wikipedia.org/wiki/Quora)"
      ],
      "metadata": {
        "id": "vnEAMD90rL-l"
      }
    },
    {
      "cell_type": "code",
      "execution_count": null,
      "metadata": {
        "id": "gn2OmjnWzOgs"
      },
      "outputs": [],
      "source": [
        "# alternative download link: https://yadi.sk/i/BPQrUu1NaTduEw\n",
        "!wget -nc -q \"https://www.dropbox.com/s/obaitrix9jyu84r/quora.txt?dl=1\" -O quora.txt"
      ]
    },
    {
      "cell_type": "code",
      "execution_count": null,
      "metadata": {
        "id": "qQpRIS02zOgu",
        "scrolled": false
      },
      "outputs": [],
      "source": [
        "data = list(open(\"quora.txt\"))\n",
        "data[287191]"
      ]
    },
    {
      "cell_type": "code",
      "source": [
        "from nltk.tokenize import WordPunctTokenizer\n",
        "\n",
        "\n",
        "tokenizer = WordPunctTokenizer()\n",
        "print(tokenizer.tokenize(data[287191]))"
      ],
      "metadata": {
        "id": "TYpOWchdn0y7"
      },
      "execution_count": null,
      "outputs": []
    },
    {
      "cell_type": "code",
      "source": [
        "# Lowercase everything and extract tokens with tokenizer.\n",
        "# Hint: data_tok should be a list of lists of tokens for each line in data.\n",
        "# Ваш код здесь"
      ],
      "metadata": {
        "id": "XfuP0LsHn2mD"
      },
      "execution_count": null,
      "outputs": []
    },
    {
      "cell_type": "code",
      "execution_count": null,
      "metadata": {
        "id": "h1jqGcjpzOhI"
      },
      "outputs": [],
      "source": [
        "from itertools import chain\n",
        "\n",
        "\n",
        "vocabulary = set(chain.from_iterable(data_tok))\n",
        "\n",
        "word_to_index = {word: index for index, word in enumerate(vocabulary)}\n",
        "index_to_word = {index: word for word, index in word_to_index.items()}\n",
        "word_counter = {word: 0 for word in word_to_index.keys()}"
      ]
    },
    {
      "cell_type": "markdown",
      "metadata": {
        "id": "_YZSGkVHzOhJ"
      },
      "source": [
        "Generating context pairs:"
      ]
    },
    {
      "cell_type": "code",
      "execution_count": null,
      "metadata": {
        "id": "AJnIfcoVzOhJ"
      },
      "outputs": [],
      "source": [
        "context_pairs = []\n",
        "window = 4\n",
        "\n",
        "for text in data_tok:\n",
        "    for i, word in enumerate(text):\n",
        "       # Ваш код здесь\n",
        "\n",
        "print(f\"Generated {len(context_pairs)} pairs of target and context words.\")"
      ]
    },
    {
      "cell_type": "markdown",
      "metadata": {
        "id": "yAFjTN6BzOhJ"
      },
      "source": [
        "Casting everything to `torch.LongTensor`"
      ]
    },
    {
      "cell_type": "code",
      "execution_count": null,
      "metadata": {
        "id": "fF5DsPeMzOhJ"
      },
      "outputs": [],
      "source": [
        "import torch\n",
        "\n",
        "\n",
        "data_torch = torch.tensor(context_pairs, dtype=torch.long)\n",
        "X_torch = # Ваш код здесь\n",
        "y_torch = # Ваш код здесь"
      ]
    },
    {
      "cell_type": "code",
      "execution_count": null,
      "metadata": {
        "id": "2t595BmSzOhJ"
      },
      "outputs": [],
      "source": [
        "import torch.nn as nn\n",
        "\n",
        "\n",
        "class Word2VecModel(nn.Module):\n",
        "    def __init__(self, embedding_size, vocab_size):\n",
        "        super().__init__()\n",
        "        # Ваш код здесь\n",
        "\n",
        "    def forward(self, word):\n",
        "        \n",
        "        return "
      ]
    },
    {
      "cell_type": "code",
      "execution_count": null,
      "metadata": {
        "id": "ycVuOP1XzOhJ"
      },
      "outputs": [],
      "source": [
        "from torch.optim.lr_scheduler import ReduceLROnPlateau\n",
        "embedding_size = 25\n",
        "\n",
        "device = torch.device(\"cuda:0\") if torch.cuda.is_available() else torch.device(\"cpu\")\n",
        "model =  # Ваш код здесь\n",
        "\n",
        "criterion = nn.CrossEntropyLoss()\n",
        "opt = torch.optim.Adam(model.parameters(), lr=0.01)\n",
        "\n",
        "# To reduce learning rate on plateau of the loss functions\n",
        "lr_scheduler = ReduceLROnPlateau(opt, patience=35)"
      ]
    },
    {
      "cell_type": "code",
      "execution_count": null,
      "metadata": {
        "id": "bXYR683izOhK"
      },
      "outputs": [],
      "source": [
        "import matplotlib.pyplot as plt\n",
        "from IPython.display import clear_output\n",
        "\n",
        "\n",
        "batch_size = 1024\n",
        "n_steps = 1000\n",
        "loss_history = []\n",
        "for i in range(n_steps):\n",
        "    ix = np.random.randint(0, len(context_pairs), batch_size)\n",
        "    \n",
        "    # Ваш код здесь\n",
        "\n",
        "    loss_history.append(loss.item())\n",
        "    lr_scheduler.step(loss_history[-1])\n",
        "\n",
        "    if (i + 1) % 100 == 0:\n",
        "        clear_output(wait=True)\n",
        "        plt.figure(figsize=(15, 5))\n",
        "        plt.plot(loss_history)\n",
        "        plt.show()"
      ]
    },
    {
      "cell_type": "code",
      "execution_count": null,
      "metadata": {
        "id": "px0urkxSzOhK"
      },
      "outputs": [],
      "source": [
        "embedding_matrix = next(model.word2emb.parameters()).detach().cpu()"
      ]
    },
    {
      "cell_type": "code",
      "execution_count": null,
      "metadata": {
        "id": "kwXCNQqDzOhK"
      },
      "outputs": [],
      "source": [
        "import torch.nn.functional as F\n",
        "\n",
        "\n",
        "def find_nearest(word, k=10):\n",
        "    word_vector = embedding_matrix[word_to_index[word]][None, :]\n",
        "    dists = F.cosine_similarity(embedding_matrix, word_vector)\n",
        "    index_sorted = torch.argsort(dists)\n",
        "    top_k = index_sorted[-k:]\n",
        "    return [index_to_word[x] for x in top_k.numpy()]"
      ]
    },
    {
      "cell_type": "code",
      "execution_count": null,
      "metadata": {
        "id": "938838nczOhL"
      },
      "outputs": [],
      "source": [
        "find_nearest(\"man\", 5)"
      ]
    },
    {
      "cell_type": "markdown",
      "metadata": {
        "id": "XyMj1hDDzOhL"
      },
      "source": [
        "It might look not so promising. Remember about the upgrades to word2vec: subsampling and negative sampling."
      ]
    },
    {
      "cell_type": "markdown",
      "metadata": {
        "id": "4B4OVwe8Q0tx"
      },
      "source": [
        "# RNN practice\n",
        "# Generating names with recurrent neural networks\n",
        "\n",
        "This time you'll find yourself delving into the heart (and other intestines) of recurrent neural networks on a class of toy problems.\n",
        "\n",
        "Struggle to find a name for the variable? Let's see how you'll come up with a name for your son/daughter. Surely no human has expertize over what is a good child name, so let us train RNN instead;\n",
        "\n",
        "It's dangerous to go alone, take these:"
      ]
    },
    {
      "cell_type": "code",
      "metadata": {
        "id": "YDl9mua7Q0ty"
      },
      "source": [
        "import numpy as np\n",
        "import matplotlib.pyplot as plt\n",
        "%matplotlib inline\n",
        "import os"
      ],
      "execution_count": null,
      "outputs": []
    },
    {
      "cell_type": "markdown",
      "metadata": {
        "id": "XT-3t9rkQ0ty"
      },
      "source": [
        "# Our data\n",
        "The dataset contains ~8k earthling names from different cultures, all in latin transcript.\n",
        "\n",
        "This notebook has been designed so as to allow you to quickly swap names for something similar: deep learning article titles, IKEA furniture, pokemon names, etc."
      ]
    },
    {
      "cell_type": "code",
      "metadata": {
        "id": "6lN_D9fIQ0ty"
      },
      "source": [
        "start_token = \" \"\n",
        "\n",
        "def read_names(path_to_file):\n",
        "    global start_token\n",
        "    \n",
        "    with open(path_to_file) as f:\n",
        "        names = f.read()[:-1].split('\\n')\n",
        "        names = [start_token + line for line in names]\n",
        "        return names"
      ],
      "execution_count": null,
      "outputs": []
    },
    {
      "cell_type": "code",
      "metadata": {
        "colab": {
          "base_uri": "https://localhost:8080/"
        },
        "id": "zIPlMWf9Rpba",
        "outputId": "8d202ff9-9ec0-4215-dec5-9bba2c047b1b"
      },
      "source": [
        "from google.colab import drive\n",
        "drive.mount('/content/gdrive/')"
      ],
      "execution_count": null,
      "outputs": [
        {
          "output_type": "stream",
          "name": "stdout",
          "text": [
            "Mounted at /content/gdrive/\n"
          ]
        }
      ]
    },
    {
      "cell_type": "code",
      "metadata": {
        "id": "AvVC5glUQ0ty"
      },
      "source": [
        "names = read_names('./gdrive/My Drive/Colab Notebooks/ML/семестр2/Семинар 12 - RNN/names.txt')"
      ],
      "execution_count": null,
      "outputs": []
    },
    {
      "cell_type": "code",
      "metadata": {
        "id": "QbPZZS-kQ0ty"
      },
      "source": [
        "print ('n samples = ',len(names))\n",
        "for x in names[::1000]:\n",
        "    print (x)"
      ],
      "execution_count": null,
      "outputs": []
    },
    {
      "cell_type": "code",
      "metadata": {
        "id": "8p5oUt1uQ0ty"
      },
      "source": [
        "MAX_LENGTH = max(map(len, names))\n",
        "print(\"max length =\", MAX_LENGTH)\n",
        "\n",
        "plt.title('Sequence length distribution')\n",
        "plt.hist(list(map(len, names)),bins=25);"
      ],
      "execution_count": null,
      "outputs": []
    },
    {
      "cell_type": "markdown",
      "metadata": {
        "id": "YLTcZqUfQ0ty"
      },
      "source": [
        "# Text processing\n",
        "\n",
        "First we need next to collect a \"vocabulary\" of all unique tokens i.e. unique characters. We can then encode inputs as a sequence of character ids."
      ]
    },
    {
      "cell_type": "code",
      "metadata": {
        "id": "BaaMslvFQ0ty"
      },
      "source": [
        "tokens = set() # <list of all unique characters in the dataset>\n",
        "\n",
        "for name in names:\n",
        "  tokens.update(set(name))\n",
        "tokens = list(tokens)\n",
        "\n",
        "num_tokens = len(tokens)\n",
        "print ('num_tokens = ', num_tokens)\n",
        "\n",
        "assert 50 < num_tokens < 60, \"Names should contain within 50 and 60 unique tokens depending on encoding\""
      ],
      "execution_count": null,
      "outputs": []
    },
    {
      "cell_type": "markdown",
      "metadata": {
        "id": "-UiF-z4FQ0ty"
      },
      "source": [
        "### Convert characters to integers\n",
        "\n",
        "Torch is built for crunching numbers, not strings. \n",
        "To train our neural network, we'll need to replace characters with their indices in tokens list.\n",
        "\n",
        "Let's compose a dictionary that does this mapping."
      ]
    },
    {
      "cell_type": "code",
      "metadata": {
        "id": "-y5KoN9CQ0ty"
      },
      "source": [
        "token_to_id = {token: idx for idx, token in enumerate(tokens)} #<dictionary of symbol -> its identifier (index in tokens list)>"
      ],
      "execution_count": null,
      "outputs": []
    },
    {
      "cell_type": "code",
      "metadata": {
        "id": "XcWE_2-AQ0ty"
      },
      "source": [
        "assert len(tokens) == len(token_to_id), \"dictionaries must have same size\"\n",
        "\n",
        "for i in range(num_tokens):\n",
        "    assert token_to_id[tokens[i]] == i, \"token identifier must be it's position in tokens list\"\n",
        "\n",
        "print(\"Seems alright!\")"
      ],
      "execution_count": null,
      "outputs": []
    },
    {
      "cell_type": "code",
      "metadata": {
        "id": "8U2iJ7nuQ0ty"
      },
      "source": [
        "names[:2]"
      ],
      "execution_count": null,
      "outputs": []
    },
    {
      "cell_type": "code",
      "metadata": {
        "id": "06R4qK3eQ0ty"
      },
      "source": [
        "def to_matrix(names, max_len=None, pad=token_to_id[' '], dtype='int32', batch_first = True):\n",
        "    \"\"\"Casts a list of names into rnn-digestable matrix\"\"\"\n",
        "    \n",
        "    max_len = # Ваш код здесь\n",
        "    names_ix = # Ваш код здесь\n",
        "\n",
        "    for i in range(len(names)):\n",
        "        line_ix = # Ваш код здесь\n",
        "        \n",
        "    if not batch_first: # convert [batch, time] into [time, batch]\n",
        "        names_ix = np.transpose(names_ix)\n",
        "\n",
        "    return names_ix"
      ],
      "execution_count": null,
      "outputs": []
    },
    {
      "cell_type": "code",
      "metadata": {
        "id": "XMXW3hJ9Q0ty"
      },
      "source": [
        "#Example: cast 4 random names to matrices, pad with zeros\n",
        "print('\\n'.join(names[::2000]))\n",
        "print(to_matrix(names[::2000]))"
      ],
      "execution_count": null,
      "outputs": []
    },
    {
      "cell_type": "code",
      "metadata": {
        "id": "mmzRxAdgXrFv"
      },
      "source": [
        "token_to_id[' ']"
      ],
      "execution_count": null,
      "outputs": []
    },
    {
      "cell_type": "markdown",
      "metadata": {
        "id": "cOqnzp7iQ0ty"
      },
      "source": [
        "# Recurrent neural network\n",
        "\n",
        "We can rewrite recurrent neural network as a consecutive application of dense layer to input $x_t$ and previous rnn state $h_t$. This is exactly what we're gonna do now.\n",
        "\n",
        "![](https://drive.google.com/uc?export=view&id=1pzo7akB1lF4LKWxHWHdviAPH6Fye4uuU)\n",
        "\n",
        "Since we're training a language model, there should also be:\n",
        "* An embedding layer that converts character id x_t to a vector.\n",
        "* An output layer that predicts probabilities of next phoneme"
      ]
    },
    {
      "cell_type": "code",
      "metadata": {
        "id": "8ADCOVYlQ0ty"
      },
      "source": [
        "import torch, torch.nn as nn\n",
        "import torch.nn.functional as F"
      ],
      "execution_count": null,
      "outputs": []
    },
    {
      "cell_type": "code",
      "metadata": {
        "id": "ZMYhtO9euQ_m"
      },
      "source": [
        "example_emb = nn.Embedding(5, 4)"
      ],
      "execution_count": null,
      "outputs": []
    },
    {
      "cell_type": "code",
      "metadata": {
        "id": "CeOjQtrOuaCn"
      },
      "source": [
        "a = torch.LongTensor([4])"
      ],
      "execution_count": null,
      "outputs": []
    },
    {
      "cell_type": "code",
      "metadata": {
        "id": "fM3i-riCuiIw"
      },
      "source": [
        "a"
      ],
      "execution_count": null,
      "outputs": []
    },
    {
      "cell_type": "code",
      "metadata": {
        "id": "LNABEJbbukTN"
      },
      "source": [
        "example_emb(a)"
      ],
      "execution_count": null,
      "outputs": []
    },
    {
      "cell_type": "code",
      "metadata": {
        "id": "n-Zywm9VQ0ty"
      },
      "source": [
        "class CharRNNCell(nn.Module):\n",
        "    \"\"\"\n",
        "    Implement the scheme above as torch module\n",
        "    \"\"\"\n",
        "    def __init__(self, num_tokens=len(tokens), embedding_size=16, hidden_state=64):\n",
        "        super(self.__class__,self).__init__()\n",
        "        self.hidden_state = hidden_state\n",
        "        \n",
        "        self.embedding = # Ваш код здесь\n",
        "        self.rnn_update = # Ваш код здесь\n",
        "        self.rnn_to_logits = # Ваш код здесь\n",
        "        \n",
        "    def forward(self, x, h_prev):\n",
        "        \"\"\"\n",
        "        This method computes h_next(x, h_prev) and log P(x_next | h_next)\n",
        "        We'll call it repeatedly to produce the whole sequence.\n",
        "        \n",
        "        :param x: batch of character ids, containing vector of int64\n",
        "        :param h_prev: previous rnn hidden states, containing matrix [batch, rnn_num_units] of float32\n",
        "        \"\"\"\n",
        "        # get vector embedding of x\n",
        "        x_emb = # Ваш код здесь\n",
        "        \n",
        "        # compute next hidden state using self.rnn_update\n",
        "        # hint: use torch.cat(..., dim=...) for concatenation\n",
        "        x_and_h = # Ваш код здесь\n",
        "        h_next = # Ваш код здесь\n",
        "        \n",
        "        h_next = # Ваш код здесь\n",
        "        \n",
        "        assert h_next.size() == h_prev.size()\n",
        "        \n",
        "        #compute logits for next character probs\n",
        "        logits = # Ваш код здесь\n",
        "        \n",
        "        return # Ваш код здесь\n",
        "    \n",
        "    def initial_state(self, batch_size):\n",
        "        \"\"\" return rnn state before it processes first input (aka h0) \"\"\"\n",
        "        return torch.zeros(batch_size, self.hidden_state, requires_grad=True)"
      ],
      "execution_count": null,
      "outputs": []
    },
    {
      "cell_type": "code",
      "metadata": {
        "id": "uQ5o8ChKQ0ty"
      },
      "source": [
        "char_rnn = CharRNNCell()\n",
        "criterion = nn.NLLLoss()"
      ],
      "execution_count": null,
      "outputs": []
    },
    {
      "cell_type": "markdown",
      "metadata": {
        "id": "bjzahCeEQ0ty"
      },
      "source": [
        "### RNN loop\n",
        "\n",
        "Once we've defined a single RNN step, we can apply it in a loop to get predictions on each step."
      ]
    },
    {
      "cell_type": "code",
      "metadata": {
        "id": "fRtHprc-Q0ty"
      },
      "source": [
        "def rnn_loop(char_rnn, batch_ix):\n",
        "    \"\"\"\n",
        "    Computes log P(next_character) for all time-steps in names_ix\n",
        "    :param names_ix: an int32 matrix of shape [batch, time], output of to_matrix(names)\n",
        "    \"\"\"\n",
        "    # Ваш код здесь\n",
        "\n",
        "    for x_t in batch_ix.transpose(0,1):\n",
        "        # Ваш код здесь\n",
        "        \n",
        "    return torch.stack(logprobs, dim=1)"
      ],
      "execution_count": null,
      "outputs": []
    },
    {
      "cell_type": "code",
      "metadata": {
        "id": "iOxvAq0FQ0ty"
      },
      "source": [
        "batch_ix = to_matrix(names[:5])\n",
        "batch_ix = torch.tensor(batch_ix, dtype=torch.int64)\n",
        "\n",
        "logp_seq = rnn_loop(char_rnn, batch_ix)\n",
        "\n",
        "assert torch.max(logp_seq).data.numpy() <= 0\n",
        "assert tuple(logp_seq.size()) ==  batch_ix.shape + (num_tokens,)"
      ],
      "execution_count": null,
      "outputs": []
    },
    {
      "cell_type": "markdown",
      "metadata": {
        "id": "WRCNhwg7Q0ty"
      },
      "source": [
        "### Likelihood and gradients\n",
        "\n",
        "We can now train our neural network to minimize crossentropy (maximize log-likelihood) with the actual next tokens.\n",
        "\n",
        "To do so in a vectorized manner, we take `batch_ix[:, 1:]` - a matrix of token ids shifted i step to the left so i-th element is acutally the \"next token\" for i-th prediction"
      ]
    },
    {
      "cell_type": "code",
      "metadata": {
        "id": "vGZRw4MYQ0ty"
      },
      "source": [
        "predictions_logp = logp_seq[:, :-1]\n",
        "actual_next_tokens = batch_ix[:, 1:]\n",
        "\n",
        "# .contiguous() method checks that tensor is stored in the memory correctly to \n",
        "# get its view of desired shape.\n",
        "\n",
        "loss = criterion(predictions_logp.contiguous().view(-1, num_tokens), \n",
        "                  actual_next_tokens.contiguous().view(-1))"
      ],
      "execution_count": null,
      "outputs": []
    },
    {
      "cell_type": "code",
      "metadata": {
        "id": "A3R6ENdLwgo0"
      },
      "source": [
        "predictions_logp.shape"
      ],
      "execution_count": null,
      "outputs": []
    },
    {
      "cell_type": "code",
      "metadata": {
        "id": "wPsbBTbIwtrF"
      },
      "source": [
        "actual_next_tokens.shape"
      ],
      "execution_count": null,
      "outputs": []
    },
    {
      "cell_type": "code",
      "metadata": {
        "id": "Ao4Ob_OZQ0ty"
      },
      "source": [
        "loss.backward()"
      ],
      "execution_count": null,
      "outputs": []
    },
    {
      "cell_type": "code",
      "metadata": {
        "id": "MHDzYbkVQ0ty"
      },
      "source": [
        "for w in char_rnn.parameters():\n",
        "    assert w.grad is not None and torch.max(torch.abs(w.grad)).data.numpy() != 0, \\\n",
        "        \"Loss is not differentiable w.r.t. a weight with shape %s. Check forward method.\" % (w.size(),)"
      ],
      "execution_count": null,
      "outputs": []
    },
    {
      "cell_type": "markdown",
      "metadata": {
        "id": "eH_QrTH3Q0ty"
      },
      "source": [
        "### The training loop\n",
        "\n",
        "We train our char-rnn exactly the same way we train any deep learning model: by minibatch sgd.\n",
        "\n",
        "The only difference is that this time we sample strings."
      ]
    },
    {
      "cell_type": "code",
      "metadata": {
        "id": "sDR4BQ-1Q0ty"
      },
      "source": [
        "from IPython.display import clear_output\n",
        "from random import sample\n",
        "\n",
        "char_rnn = CharRNNCell()\n",
        "criterion = nn.NLLLoss()\n",
        "opt = torch.optim.Adam(char_rnn.parameters())\n",
        "history = []"
      ],
      "execution_count": null,
      "outputs": []
    },
    {
      "cell_type": "code",
      "metadata": {
        "id": "s4xEc_v-Q0ty"
      },
      "source": [
        "MAX_LENGTH = 16\n",
        "BATCH_SIZE = 32\n",
        "\n",
        "for i in range(1000):\n",
        "    batch_ix = to_matrix(sample(names, BATCH_SIZE), max_len=MAX_LENGTH)\n",
        "    batch_ix = torch.tensor(batch_ix, dtype=torch.int64)\n",
        "    \n",
        "    logp_seq = # Ваш код здесь\n",
        "    \n",
        "    # compute loss\n",
        "    predictions_logp = # Ваш код здесь\n",
        "    actual_next_tokens = # Ваш код здесь\n",
        "\n",
        "    loss = criterion(predictions_logp.contiguous().view(-1, num_tokens), \n",
        "                  actual_next_tokens.contiguous().view(-1))\n",
        "    \n",
        "    # train with backprop\n",
        "    loss.backward()\n",
        "    opt.step()\n",
        "    opt.zero_grad()\n",
        "    \n",
        "    history.append(loss.data.numpy())\n",
        "    if (i+1)%100==0:\n",
        "        clear_output(True)\n",
        "        plt.plot(history,label='loss')\n",
        "        plt.legend()\n",
        "        plt.show()\n",
        "\n",
        "assert np.mean(history[:10]) > np.mean(history[-10:]), \"RNN didn't converge.\""
      ],
      "execution_count": null,
      "outputs": []
    },
    {
      "cell_type": "markdown",
      "metadata": {
        "id": "R_plJtiQQ0ty"
      },
      "source": [
        "### RNN: sampling\n",
        "Once we've trained our network a bit, let's get to actually generating stuff. \n",
        "All we need is the single rnn step function you have defined in `char_rnn.forward`."
      ]
    },
    {
      "cell_type": "code",
      "metadata": {
        "id": "AeTmysmfQ0ty"
      },
      "source": [
        "def generate_sample(char_rnn, seed_phrase=' ', max_length=MAX_LENGTH, temperature=1.0):\n",
        "    '''\n",
        "    The function generates text given a phrase of length at least SEQ_LENGTH.\n",
        "    :param seed_phrase: prefix characters. The RNN is asked to continue the phrase\n",
        "    :param max_length: maximum output length, including seed_phrase\n",
        "    :param temperature: coefficient for sampling.  higher temperature produces more chaotic outputs,\n",
        "                        smaller temperature converges to the single most likely output\n",
        "    '''\n",
        "    \n",
        "    x_sequence = # Ваш код здесь\n",
        "    x_sequence = torch.tensor([x_sequence], dtype=torch.int64)\n",
        "    hid_state = char_rnn.initial_state(batch_size=1)\n",
        "    \n",
        "    #feed the seed phrase, if any\n",
        "    for i in range(len(seed_phrase) - 1):\n",
        "        # Ваш код здесь\n",
        "    \n",
        "    #start generating\n",
        "    for _ in range(max_length - len(seed_phrase)):\n",
        "        # Ваш код здесь\n",
        "        \n",
        "        # sample next token and push it back into x_sequence\n",
        "        # Ваш код здесь\n",
        "        \n",
        "    return ''.join([tokens[ix] for ix in x_sequence.data.numpy()[0]])"
      ],
      "execution_count": null,
      "outputs": []
    },
    {
      "cell_type": "code",
      "metadata": {
        "id": "vaeLd4PwQ0ty"
      },
      "source": [
        "for _ in range(10):\n",
        "    print(generate_sample(char_rnn))"
      ],
      "execution_count": null,
      "outputs": []
    },
    {
      "cell_type": "code",
      "metadata": {
        "id": "5seaOK_kQ0tz"
      },
      "source": [
        "for _ in range(50):\n",
        "    print(generate_sample(char_rnn, seed_phrase=' Deb'))"
      ],
      "execution_count": null,
      "outputs": []
    },
    {
      "cell_type": "markdown",
      "metadata": {
        "collapsed": true,
        "id": "vRlWgt8CQ0tz"
      },
      "source": [
        "### More seriously\n",
        "\n",
        "What we just did is a manual low-level implementation of RNN. While it's cool, i guess you won't like the idea of re-writing it from scratch on every occasion. \n",
        "\n",
        "As you might have guessed, torch has a solution for this. To be more specific, there are two options:\n",
        "* `nn.RNNCell(emb_size, rnn_num_units)` - implements a single step of RNN just like you did. Basically concat-linear-tanh\n",
        "* `nn.RNN(emb_size, rnn_num_units` - implements the whole rnn_loop for you.\n",
        "\n",
        "There's also `nn.LSTMCell` vs `nn.LSTM`, `nn.GRUCell` vs `nn.GRU`, etc. etc.\n",
        "\n",
        "In this example we'll rewrite the char_rnn and rnn_loop using high-level rnn API."
      ]
    },
    {
      "cell_type": "code",
      "metadata": {
        "id": "5Wo6g3_tQ0tz"
      },
      "source": [
        "class CharRNNLoop(nn.Module):\n",
        "    def __init__(self, num_tokens=num_tokens, emb_size=16, rnn_num_units=64):\n",
        "        super(self.__class__, self).__init__()\n",
        "        self.emb = nn.Embedding(num_tokens, emb_size)\n",
        "        self.rnn = nn.LSTM(emb_size, rnn_num_units, batch_first=True)\n",
        "        self.hid_to_logits = nn.Linear(rnn_num_units, num_tokens)\n",
        "        \n",
        "    def forward(self, x):\n",
        "        assert isinstance(x.data, torch.LongTensor)\n",
        "        h_seq, _ = self.rnn(self.emb(x))\n",
        "        next_logits = self.hid_to_logits(h_seq)\n",
        "        next_logp = F.log_softmax(next_logits, dim=-1)\n",
        "        return next_logp"
      ],
      "execution_count": null,
      "outputs": []
    },
    {
      "cell_type": "code",
      "metadata": {
        "id": "8hy8KMPJQ0tz"
      },
      "source": [
        "model = CharRNNLoop()\n",
        "opt = torch.optim.Adam(model.parameters())\n",
        "history = []\n",
        "\n",
        "# the model applies over the whole sequence\n",
        "batch_ix = to_matrix(sample(names, 32), max_len=MAX_LENGTH)\n",
        "batch_ix = torch.LongTensor(batch_ix)"
      ],
      "execution_count": null,
      "outputs": []
    },
    {
      "cell_type": "code",
      "metadata": {
        "id": "OsX5105UQ0tz"
      },
      "source": [
        "logp_seq = model(batch_ix)\n",
        "\n",
        "loss = criterion(logp_seq[:, :-1].contiguous().view(-1, num_tokens),\n",
        "                 batch_ix[:, 1:].contiguous().view(-1))\n",
        "\n",
        "loss.backward()"
      ],
      "execution_count": null,
      "outputs": []
    },
    {
      "cell_type": "code",
      "metadata": {
        "id": "Etx6x2UkQ0tz"
      },
      "source": [
        "MAX_LENGTH = 16\n",
        "\n",
        "for i in range(1000):\n",
        "    batch_ix = to_matrix(sample(names, 32), max_len=MAX_LENGTH)\n",
        "    batch_ix = torch.tensor(batch_ix, dtype=torch.int64)\n",
        "    \n",
        "    logp_seq = model(batch_ix)\n",
        "    \n",
        "    predictions_logp = logp_seq[:, :-1] \n",
        "    actual_next_tokens = batch_ix[:, 1:] \n",
        "\n",
        "    loss = criterion(predictions_logp.contiguous().view(-1, num_tokens), \n",
        "                  actual_next_tokens.contiguous().view(-1))\n",
        "    \n",
        "    # train with backprop\n",
        "    loss.backward()\n",
        "    opt.step()\n",
        "    opt.zero_grad()\n",
        "    \n",
        "    history.append(loss.data.numpy())\n",
        "    if (i+1)%100==0:\n",
        "        clear_output(True)\n",
        "        plt.plot(history,label='loss')\n",
        "        plt.legend()\n",
        "        plt.show()\n",
        "\n",
        "assert np.mean(history[:10]) > np.mean(history[-10:]), \"RNN didn't converge.\""
      ],
      "execution_count": null,
      "outputs": []
    },
    {
      "cell_type": "code",
      "metadata": {
        "colab": {
          "base_uri": "https://localhost:8080/"
        },
        "id": "x27a90wnz5mN",
        "outputId": "ef9c31bd-cba8-4abe-f6d3-9d4e3bec64d8"
      },
      "source": [
        "nn.RNN"
      ],
      "execution_count": null,
      "outputs": [
        {
          "output_type": "execute_result",
          "data": {
            "text/plain": [
              "torch.nn.modules.rnn.RNN"
            ]
          },
          "metadata": {},
          "execution_count": 69
        }
      ]
    },
    {
      "cell_type": "code",
      "metadata": {
        "id": "Dbb_ENw-z9xq",
        "colab": {
          "base_uri": "https://localhost:8080/"
        },
        "outputId": "abb3fa30-4389-4885-e564-e0f8630ad3fc"
      },
      "source": [
        "nn.LSTM"
      ],
      "execution_count": null,
      "outputs": [
        {
          "output_type": "execute_result",
          "data": {
            "text/plain": [
              "torch.nn.modules.rnn.LSTM"
            ]
          },
          "metadata": {},
          "execution_count": 70
        }
      ]
    },
    {
      "cell_type": "code",
      "metadata": {
        "colab": {
          "base_uri": "https://localhost:8080/"
        },
        "id": "VfN5ruj7z_ze",
        "outputId": "84a62c8f-a0d8-4065-ef85-efddc648e2b3"
      },
      "source": [
        "nn.RNNCell"
      ],
      "execution_count": null,
      "outputs": [
        {
          "output_type": "execute_result",
          "data": {
            "text/plain": [
              "torch.nn.modules.rnn.RNNCell"
            ]
          },
          "metadata": {},
          "execution_count": 71
        }
      ]
    },
    {
      "cell_type": "markdown",
      "metadata": {
        "id": "NSIA3BkhQ0tz"
      },
      "source": [
        "### To sum up:\n",
        "- PyTorch is convenient both for prototyping and production\n",
        "- There are a lot of pre-implemented methods/layers/activations out of the box\n",
        "- It's much easier (*really easier*) to use PyTorch than TensorFlow on entry level. \n",
        "- Neural networks are not *black boxes*, they are pretty nice and easy to use (almost always)."
      ]
    },
    {
      "cell_type": "markdown",
      "metadata": {
        "id": "jacaQ4jTQ0tz"
      },
      "source": [
        "### Try it out!\n",
        "You've just implemented a recurrent language model that can be tasked with generating any kind of sequence, so there's plenty of data you can try it on:\n",
        "\n",
        "* Novels/poems/songs of your favorite author\n",
        "* News titles/clickbait titles\n",
        "* Source code of Linux or Tensorflow\n",
        "* Molecules in [smiles](https://en.wikipedia.org/wiki/Simplified_molecular-input_line-entry_system) format\n",
        "* Melody in notes/chords format\n",
        "* Ikea catalog titles\n",
        "* Pokemon names\n",
        "* Cards from Magic, the Gathering / Hearthstone\n",
        "\n",
        "If you're willing to give it a try, here's what you wanna look at:\n",
        "* Current data format is a sequence of lines, so a novel can be formatted as a list of sentences. Alternatively, you can change data preprocessing altogether.\n",
        "* While some datasets are readily available, others can only be scraped from the web. Try `Selenium` or `Scrapy` for that.\n",
        "* Make sure MAX_LENGTH is adjusted for longer datasets. There's also a bonus section about dynamic RNNs at the bottom.\n",
        "* More complex tasks require larger RNN architecture, try more neurons or several layers. It would also require more training iterations.\n",
        "* Long-term dependencies in music, novels or molecules are better handled with LSTM or GRU\n",
        "\n",
        "__Good hunting!__"
      ]
    }
  ]
}