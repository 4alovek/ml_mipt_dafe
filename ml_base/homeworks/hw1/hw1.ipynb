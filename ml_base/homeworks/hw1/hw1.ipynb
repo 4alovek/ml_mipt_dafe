{
  "nbformat": 4,
  "nbformat_minor": 0,
  "metadata": {
    "colab": {
      "name": "hw1.ipynb",
      "provenance": [],
      "collapsed_sections": [],
      "toc_visible": true
    },
    "kernelspec": {
      "name": "python3",
      "display_name": "Python 3"
    }
  },
  "cells": [
    {
      "cell_type": "markdown",
      "source": [
        "# HW 1 - Разложение матриц градиентным методом"
      ],
      "metadata": {
        "id": "Qjl6x6og3uXH"
      }
    },
    {
      "cell_type": "markdown",
      "source": [
        "Цель задания: В ходе реализации [разложения Таккера](https://proceedings.neurips.cc/paper/2018/file/45a766fa266ea2ebeb6680fa139d2a3d-Paper.pdf) градиентным методом отработать подходы оптимизации параметров нейросети (в отсутствии готовых решений)."
      ],
      "metadata": {
        "id": "Sv79QFb_-oNZ"
      }
    },
    {
      "cell_type": "markdown",
      "source": [
        "[Более-менее внятное описание алгоритма канонического разложения](https://www.alexejgossmann.com/tensor_decomposition_tucker/)"
      ],
      "metadata": {
        "id": "1HUSrylpBwYn"
      }
    },
    {
      "cell_type": "code",
      "source": [
        "import random\n",
        "import time\n",
        "import torch\n",
        "import pandas as pd\n",
        "import numpy as np\n",
        "\n",
        "import scipy.sparse as sparse\n",
        "from scipy.sparse.linalg import spsolve\n",
        "from sklearn.preprocessing import MinMaxScaler\n",
        "from matplotlib import pyplot as plt\n",
        "from numpy.linalg import svd, matrix_rank, pinv, inv\n",
        "from scipy.linalg import eigh, eig\n",
        "from sklearn.metrics import mean_squared_error\n",
        "from tqdm.notebook import tqdm\n",
        "from torch import nn\n",
        "\n",
        "torch.manual_seed(0)"
      ],
      "metadata": {
        "colab": {
          "base_uri": "https://localhost:8080/"
        },
        "id": "P1PuoBtG7iw7",
        "outputId": "a7eb2592-ac5b-4d16-eb80-a3e7f07bf25b"
      },
      "execution_count": 1,
      "outputs": [
        {
          "output_type": "execute_result",
          "data": {
            "text/plain": [
              "<torch._C.Generator at 0x7feaf534f3d0>"
            ]
          },
          "metadata": {},
          "execution_count": 1
        }
      ]
    },
    {
      "cell_type": "markdown",
      "source": [
        "## 1 Создайте 3х мерный тензор\n",
        "Размер тензора не меньше 100 по каждой из размерностей.\n",
        "\n",
        "Заполните случайными целыми числами в диапазоне от 0 до 9."
      ],
      "metadata": {
        "id": "6LfhKpuX7htE"
      }
    },
    {
      "cell_type": "markdown",
      "source": [
        "Примечание: разложение будет корректно работать со случайным тензором, только если изначально создавать случайные ядро и матрицы, а потом по ним формировать тензор. Работайте с типом *torch.Tensor.double*."
      ],
      "metadata": {
        "id": "ap1Ozn7P8-Yj"
      }
    },
    {
      "cell_type": "code",
      "metadata": {
        "id": "5SzHzteOROQQ"
      },
      "source": [
        "# Создадим тензор: размер тензора и r задаётся\n",
        "def get_tensor(size=(100,200,150), r=10):\n",
        "  # data - тензор с заданной размерностью\n",
        "  # U - список матриц\n",
        "  # G - ядро разложения\n",
        "\n",
        "\n",
        "  return data, U, G"
      ],
      "execution_count": null,
      "outputs": []
    },
    {
      "cell_type": "markdown",
      "source": [
        "Сгенерируйте тензор и добавьте к нему случайный шум с размерностью *1e-2*"
      ],
      "metadata": {
        "id": "EFuFlp2n78Tz"
      }
    },
    {
      "cell_type": "code",
      "source": [
        ""
      ],
      "metadata": {
        "id": "N70Xy_6u9RFa"
      },
      "execution_count": null,
      "outputs": []
    },
    {
      "cell_type": "markdown",
      "source": [
        "Вопрос:\n",
        "Почему задание не имеет смысла для полностью случайного тензора и зачем добавлять шум? *не отвечать нельзя*"
      ],
      "metadata": {
        "id": "kp75_Ad29RL5"
      }
    },
    {
      "cell_type": "markdown",
      "source": [
        ""
      ],
      "metadata": {
        "id": "Oo4KhO9Q9YlL"
      }
    },
    {
      "cell_type": "markdown",
      "source": [
        "## 2 Сделайте разложение библиотечным методом\n",
        "Пакет можете брать любой"
      ],
      "metadata": {
        "id": "MKqzxtaE-F16"
      }
    },
    {
      "cell_type": "code",
      "source": [
        "!pip install tensorly\n",
        "import tensorly as tl"
      ],
      "metadata": {
        "colab": {
          "base_uri": "https://localhost:8080/"
        },
        "id": "wGXet3fw9SSh",
        "outputId": "b0cd0ab6-9640-4b9a-e099-e8ea6c8d3d03"
      },
      "execution_count": 2,
      "outputs": [
        {
          "output_type": "stream",
          "name": "stdout",
          "text": [
            "Collecting tensorly\n",
            "  Downloading tensorly-0.7.0-py3-none-any.whl (198 kB)\n",
            "\u001b[?25l\r\u001b[K     |█▋                              | 10 kB 22.0 MB/s eta 0:00:01\r\u001b[K     |███▎                            | 20 kB 27.4 MB/s eta 0:00:01\r\u001b[K     |█████                           | 30 kB 32.7 MB/s eta 0:00:01\r\u001b[K     |██████▋                         | 40 kB 35.5 MB/s eta 0:00:01\r\u001b[K     |████████▎                       | 51 kB 38.0 MB/s eta 0:00:01\r\u001b[K     |██████████                      | 61 kB 24.3 MB/s eta 0:00:01\r\u001b[K     |███████████▋                    | 71 kB 23.6 MB/s eta 0:00:01\r\u001b[K     |█████████████▎                  | 81 kB 25.1 MB/s eta 0:00:01\r\u001b[K     |███████████████                 | 92 kB 19.2 MB/s eta 0:00:01\r\u001b[K     |████████████████▌               | 102 kB 20.4 MB/s eta 0:00:01\r\u001b[K     |██████████████████▏             | 112 kB 20.4 MB/s eta 0:00:01\r\u001b[K     |███████████████████▉            | 122 kB 20.4 MB/s eta 0:00:01\r\u001b[K     |█████████████████████▌          | 133 kB 20.4 MB/s eta 0:00:01\r\u001b[K     |███████████████████████▏        | 143 kB 20.4 MB/s eta 0:00:01\r\u001b[K     |████████████████████████▉       | 153 kB 20.4 MB/s eta 0:00:01\r\u001b[K     |██████████████████████████▌     | 163 kB 20.4 MB/s eta 0:00:01\r\u001b[K     |████████████████████████████▏   | 174 kB 20.4 MB/s eta 0:00:01\r\u001b[K     |█████████████████████████████▉  | 184 kB 20.4 MB/s eta 0:00:01\r\u001b[K     |███████████████████████████████▍| 194 kB 20.4 MB/s eta 0:00:01\r\u001b[K     |████████████████████████████████| 198 kB 20.4 MB/s \n",
            "\u001b[?25hRequirement already satisfied: numpy in /usr/local/lib/python3.7/dist-packages (from tensorly) (1.19.5)\n",
            "Requirement already satisfied: scipy in /usr/local/lib/python3.7/dist-packages (from tensorly) (1.4.1)\n",
            "Collecting nose\n",
            "  Downloading nose-1.3.7-py3-none-any.whl (154 kB)\n",
            "\u001b[K     |████████████████████████████████| 154 kB 53.4 MB/s \n",
            "\u001b[?25hInstalling collected packages: nose, tensorly\n",
            "Successfully installed nose-1.3.7 tensorly-0.7.0\n"
          ]
        }
      ]
    },
    {
      "cell_type": "code",
      "source": [
        ""
      ],
      "metadata": {
        "id": "Hlp4Jh3--fKh"
      },
      "execution_count": null,
      "outputs": []
    },
    {
      "cell_type": "markdown",
      "source": [
        "Не забудьте померить ошибку разложения по метрике MSE"
      ],
      "metadata": {
        "id": "wMw1x8w8-lsh"
      }
    },
    {
      "cell_type": "code",
      "source": [
        ""
      ],
      "metadata": {
        "id": "HWkdb7Ip-mL3"
      },
      "execution_count": null,
      "outputs": []
    },
    {
      "cell_type": "markdown",
      "source": [
        "## 3 Реализуйте разложение градиентным методом"
      ],
      "metadata": {
        "id": "ibOgeEgfD1wm"
      }
    },
    {
      "cell_type": "markdown",
      "source": [
        "### 3.1 Реализуйте метод для восстановления тензора по разложению"
      ],
      "metadata": {
        "id": "TzninpMYD_hd"
      }
    },
    {
      "cell_type": "code",
      "source": [
        "def repair_tensor(G_, U):\n",
        "  # data - восстановленный тензор из матриц и ядра\n",
        "  # U - список матриц\n",
        "  # G_ - ядро разложения\n",
        "\n",
        "  return data"
      ],
      "metadata": {
        "id": "YDTx9ZbYD-_S"
      },
      "execution_count": null,
      "outputs": []
    },
    {
      "cell_type": "code",
      "source": [
        ""
      ],
      "metadata": {
        "id": "KvEKNuTvIIfp"
      },
      "execution_count": null,
      "outputs": []
    },
    {
      "cell_type": "markdown",
      "source": [
        "### 3.2 Реализуйте *optimizer*\n",
        "Можно взять из исходников *PyTorch* и отнаследоваться от *torch.optim.optimizer*."
      ],
      "metadata": {
        "id": "GstBYmiBF7A6"
      }
    },
    {
      "cell_type": "code",
      "source": [
        "import math\n",
        "import torch\n",
        "from torch.optim.optimizer import Optimizer\n",
        "\n",
        "\n",
        "class Opt(Optimizer):\n",
        "\n",
        "    def __init__(self, params, lr=1e-3, ...):\n",
        "        \n",
        "        super().__init__(params, defaults)\n",
        "\n",
        "    def step(self):\n",
        "        \n",
        "\n",
        "        return loss"
      ],
      "metadata": {
        "id": "Mxrtt60hF6xb"
      },
      "execution_count": null,
      "outputs": []
    },
    {
      "cell_type": "markdown",
      "source": [
        "### 3.3 Реализуйте цикл оптимизации параметров"
      ],
      "metadata": {
        "id": "8GSolH5dEJba"
      }
    },
    {
      "cell_type": "markdown",
      "source": [
        "Стоит параметры оптимизировать сразу на GPU"
      ],
      "metadata": {
        "id": "P6UWpuERFTn8"
      }
    },
    {
      "cell_type": "code",
      "source": [
        ""
      ],
      "metadata": {
        "id": "CgPaeQ7XEJnD"
      },
      "execution_count": null,
      "outputs": []
    },
    {
      "cell_type": "markdown",
      "source": [
        "## 4 Приведите сравнение скорости работы и ошибки восстановления методом из пакета и реализованного градиентного\n",
        "Сравнение может считаться ± объективным с размером выборки от 10."
      ],
      "metadata": {
        "id": "Za8JKgR-Falk"
      }
    },
    {
      "cell_type": "code",
      "source": [
        ""
      ],
      "metadata": {
        "id": "mOGKW9RHFa5D"
      },
      "execution_count": null,
      "outputs": []
    }
  ]
}