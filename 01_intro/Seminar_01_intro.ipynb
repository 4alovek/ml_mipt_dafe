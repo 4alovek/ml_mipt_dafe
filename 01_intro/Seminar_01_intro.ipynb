{
 "cells": [
  {
   "cell_type": "markdown",
   "metadata": {
    "id": "OVkl09sgHGj4"
   },
   "source": [
    "# Семинар 01 - Первичный анализ данных (EDA)"
   ]
  },
  {
   "cell_type": "markdown",
   "metadata": {
    "id": "GRm09mhjnFCF"
   },
   "source": [
    "# Работа с репозиторием"
   ]
  },
  {
   "cell_type": "markdown",
   "metadata": {
    "id": "5BQC2v8qI_Tv"
   },
   "source": [
    "## Как держать версию удаленного репозитория обновленной\n",
    "\n",
    "### 1. Нажмите кнопку fork в правом верънем углу интерфейса\n",
    "\n",
    "### 2. Клонируйте репозиторий к себе на локальную машину:\n",
    "\n",
    "> `git clone https://github.com/YOUR-USERNAME/ml_mipt_dafe.git`\n",
    "\n",
    "### 3. Связите вашу копию с оригинальным репозиторием:\n",
    "> `cd into/cloned/fork-repo`\n",
    "\n",
    "> `git remote add upstream https://github.com/ml-dafe/ml_mipt_dafe.git`\n",
    "\n",
    "> `git fetch upstream`\n",
    "### 4. Обновите ваш репозиторий, чтобы загрузить изменения оригинального репозитория:\n",
    "> `git pull upstream master`\n",
    "### 5. После внесения изменения в проект на локальной машине обновите свой репозиторий:\n",
    "> `git add *` - загрузить все изменения\n",
    "\n",
    "> `git commit -m \"comment\"` - сделать локальный коммит\n",
    "\n",
    "> `git push origin main` - загрузить локальный коммит в репозиторий\n",
    "\n",
    "! не забудьте про файлик .gitignore, чтобы не загружать лишнего.\n"
   ]
  },
  {
   "cell_type": "markdown",
   "metadata": {
    "id": "aCLU_xAZI_W4"
   },
   "source": [
    "## Создание окружения\n",
    "\n",
    "### Вариант max:\n",
    "\n",
    " [Ubuntu](https://help.ubuntu.ru/wiki/%D0%BF%D0%B5%D1%80%D0%B5%D1%85%D0%BE%D0%B4%D0%B8%D0%BC_%D0%BD%D0%B0_ubuntu-linux_-_%D0%B8%D0%BD%D1%81%D1%82p%D1%83%D0%BA%D1%86%D0%B8%D1%8F_%D0%B4%D0%BB%D1%8F_%D0%BF%D0%BE%D0%BB%D1%8C%D0%B7%D0%BE%D0%B2%D0%B0%D1%82%D0%B5%D0%BB%D1%8F_windows)\n",
    "\n",
    "[Drivers](https://linuxconfig.org/how-to-install-the-nvidia-drivers-on-ubuntu-18-04-bionic-beaver-linux)\n",
    "\n",
    "[CUDA+CUDNN](https://medium.com/@sh.tsang/tutorial-cuda-v10-2-cudnn-v7-6-5-installation-ubuntu-18-04-3d24c157473f)\n",
    "\n",
    "[CUDA alternative](https://developer.nvidia.com/cuda-10.2-download-archive?target_os=Linux&target_arch=x86_64&target_distro=Ubuntu&target_version=1804&target_type=deblocal)\n",
    "\n",
    "[CUDA GUIDE](https://docs.nvidia.com/cuda/cuda-installation-guide-linux/index.html)\n",
    "\n",
    "Anaconda/venv + IDE \n",
    "\n",
    "### Вариант min:\n",
    "\n",
    "Anaconda\n",
    "> `conda update conda`\n",
    "\n",
    "> `conda create -n ml_env python=3.7`\n",
    "\n",
    "> `conda activate ml_env`\n",
    "\n",
    "> `conda install -n ml_env numpy`\n",
    "\n",
    "> `conda list`\n",
    "\n",
    "> `pip freeze`\n",
    "\n",
    "> `conda env list`\n",
    "\n",
    "> `conda deactivate`\n",
    "\n",
    "> `conda env remove -n ml_env`\n",
    "\n",
    "### Вариант poor:\n",
    "\n",
    "Google drive -> загрузить файл -> открыть с помощью -> Google colaboratory"
   ]
  },
  {
   "cell_type": "markdown",
   "metadata": {
    "id": "A4YXIzSLnNtu",
    "tags": []
   },
   "source": [
    "## Jupyter notebook"
   ]
  },
  {
   "cell_type": "markdown",
   "metadata": {
    "id": "ApD-TqFbI_aA"
   },
   "source": [
    "### Markdown запись\n",
    "[Здесь](https://athena.brynmawr.edu/jupyter/hub/dblank/public/Jupyter%20Notebook%20Users%20Manual.ipynb) представлено подробное руководство по Markdown, широко используемое в jupyter, github и т. д. Вкратце, это позволяет:\n",
    "\n",
    "# Сделай\n",
    "## заголовки\n",
    "### разных\n",
    "#### масштабов\n",
    "3. напиши *текст* <s>самыми</s> **разными** способами\n",
    "4. добавь [гиперссылки](http://imgs.xkcd.com/comics/the_universal_label.png)\n",
    "\n",
    "\n",
    "* Сделай ненумерованные списки\n",
    "    * в \n",
    "    * том\n",
    "        * числе\n",
    "            * и\n",
    "                * вложенные\n",
    "\n",
    "Вставь картинки\n",
    "\n",
    "<img src=data/lena.jpg width=\"200\"/>\n",
    "\n",
    "\n",
    "Воспользуйся Latex Markdown:\n",
    "    \n",
    "$\n",
    "\\left\\{\n",
    "\\begin{array}{ll}\n",
    "x = 16 \\sin^3 (t) \\\\ \n",
    "y = 13 \\cos (t) - 5 \\cos (2t) - 2 \\cos (3t) - \\cos (4t) \\\\\n",
    "t \\in [0, 2 \\pi]\n",
    "\\end{array}\n",
    "\\right.$\n",
    "\n",
    "или напиши такие символы как $pi$ внутри строки."
   ]
  },
  {
   "cell_type": "markdown",
   "metadata": {
    "id": "4bTwYmQgXa-1"
   },
   "source": [
    "### Горячие клавиши\n",
    "\n",
    "Использование горячих клавиш позволяет очень cильно облегчить и ускорить работу с любой программой, особенно связанной со вводом текста. В плане горячих клавиш очень продвинутым является текстовый редактор vim. В нем существует отдельный режим, мозволяющий пользоваться горячими клавишами. В Jupyter notebook поддерживается та же концепция."
   ]
  },
  {
   "cell_type": "markdown",
   "metadata": {
    "id": "ZLUS9Bw3Xa-1"
   },
   "source": [
    "Существуют 2 режима работы: режим ввода и командный режим. Режим ввода отображается зеленой рамкой вокруг активной ячейки, командный режим -- синей. Для того, чтобы переключиться из режима ввода в командный режим необходимо нажать `Esc`, переход в режим редактирования осуществляется по нажатию клавиши `Enter`.\n",
    "\n",
    "**В командном режиме часто используются следующие горячие клавиши:**\n",
    "* `b` -- вставить пустую ячейку после текущей\n",
    "* `a` -- вставить пустую ячейку перед текучей\n",
    "-----\n",
    "* `ctrl + c` -- копировать текущую ячейку\n",
    "* `ctrl + x` -- вырезать ячейку\n",
    "* `ctrl + v` -- вставить ячейку из буфера после текущей\n",
    "-----\n",
    "* `dd` -- удалить текущую ячейку\n",
    "* `z` -- отменить предыдущее действие (в юпитере не последней версии можно отменить ТОЛЬКО ОДНО действие) \n",
    "-----\n",
    "* `m` -- перевести ячейку в режим Markdown\n",
    "* `y` -- перевести ячейку в режим кода\n",
    "* `l` -- отображать номера строк\n",
    "* `o` -- скрыть/показать вывод текущей ячейки\n",
    "-----\n",
    "* `ii` -- остановить выполнение текущей ячейки\n",
    "* `00` -- перезагрузить ядро\n",
    "* `s` -- сохранить notebook\n",
    "-----\n",
    "* `h` -- Показать справку по горячим клавишам\n",
    "\n",
    "**Некоторые сочетания используются в режиме редактирования:**\n",
    "* `Tab` (в  начале строки либо для выделенных строк) -- добавить отступ\n",
    "* `Shift+Tab` (в  начале строки либо для выделенных строк) -- убрать отступ\n",
    "-----\n",
    "* `Tab` -- автодополнение вводимой команды\n",
    "* `Shift+Tab` -- показать docstring введеннной команды\n",
    "-----\n",
    "* `Clrl+/` -- закомментировать выделеные строки\n",
    "\n",
    "-----\n",
    "* `Shift+Enter` -- выполнить текущую ячейку кода и перейти к следующей\n",
    "* `Ctrl+Enter` -- выполнить текущую ячейку кода и остаться на ней\n",
    "* `Alt+Enter` -- выполнить текущую ячейку кода и создать новую"
   ]
  },
  {
   "cell_type": "markdown",
   "metadata": {
    "id": "j8FpxWWaXa-2"
   },
   "source": [
    "Также Jupyter Notebook имеет большое количество встроенных \"магических\" функций. С некоторыми познакомимся в этом курсе, про другие стоит рассказать сразу."
   ]
  },
  {
   "cell_type": "code",
   "execution_count": null,
   "metadata": {
    "colab": {
     "base_uri": "https://localhost:8080/",
     "height": 158
    },
    "executionInfo": {
     "elapsed": 330,
     "status": "ok",
     "timestamp": 1631016228411,
     "user": {
      "displayName": "Даниил Русланович Махоткин",
      "photoUrl": "",
      "userId": "18336248573599285046"
     },
     "user_tz": -180
    },
    "id": "7rLAKsryZh_4",
    "outputId": "541a044d-9856-4424-b260-419e64f6d0fe"
   },
   "outputs": [
    {
     "data": {
      "application/json": {
       "cell": {
        "!": "OSMagics",
        "HTML": "Other",
        "SVG": "Other",
        "bash": "Other",
        "bigquery": "Other",
        "capture": "ExecutionMagics",
        "debug": "ExecutionMagics",
        "file": "Other",
        "html": "DisplayMagics",
        "javascript": "DisplayMagics",
        "js": "DisplayMagics",
        "latex": "DisplayMagics",
        "perl": "Other",
        "prun": "ExecutionMagics",
        "pypy": "Other",
        "python": "Other",
        "python2": "Other",
        "python3": "Other",
        "ruby": "Other",
        "script": "ScriptMagics",
        "sh": "Other",
        "shell": "Other",
        "svg": "DisplayMagics",
        "sx": "OSMagics",
        "system": "OSMagics",
        "time": "ExecutionMagics",
        "timeit": "ExecutionMagics",
        "writefile": "OSMagics"
       },
       "line": {
        "alias": "OSMagics",
        "alias_magic": "BasicMagics",
        "autocall": "AutoMagics",
        "automagic": "AutoMagics",
        "autosave": "KernelMagics",
        "bookmark": "OSMagics",
        "cat": "Other",
        "cd": "OSMagics",
        "clear": "KernelMagics",
        "colors": "BasicMagics",
        "config": "ConfigMagics",
        "connect_info": "KernelMagics",
        "cp": "Other",
        "debug": "ExecutionMagics",
        "dhist": "OSMagics",
        "dirs": "OSMagics",
        "doctest_mode": "BasicMagics",
        "ed": "Other",
        "edit": "KernelMagics",
        "env": "OSMagics",
        "gui": "BasicMagics",
        "hist": "Other",
        "history": "HistoryMagics",
        "killbgscripts": "ScriptMagics",
        "ldir": "Other",
        "less": "KernelMagics",
        "lf": "Other",
        "lk": "Other",
        "ll": "Other",
        "load": "CodeMagics",
        "load_ext": "ExtensionMagics",
        "loadpy": "CodeMagics",
        "logoff": "LoggingMagics",
        "logon": "LoggingMagics",
        "logstart": "LoggingMagics",
        "logstate": "LoggingMagics",
        "logstop": "LoggingMagics",
        "ls": "Other",
        "lsmagic": "BasicMagics",
        "lx": "Other",
        "macro": "ExecutionMagics",
        "magic": "BasicMagics",
        "man": "KernelMagics",
        "matplotlib": "PylabMagics",
        "mkdir": "Other",
        "more": "KernelMagics",
        "mv": "Other",
        "notebook": "BasicMagics",
        "page": "BasicMagics",
        "pastebin": "CodeMagics",
        "pdb": "ExecutionMagics",
        "pdef": "NamespaceMagics",
        "pdoc": "NamespaceMagics",
        "pfile": "NamespaceMagics",
        "pinfo": "NamespaceMagics",
        "pinfo2": "NamespaceMagics",
        "pip": "Other",
        "popd": "OSMagics",
        "pprint": "BasicMagics",
        "precision": "BasicMagics",
        "profile": "BasicMagics",
        "prun": "ExecutionMagics",
        "psearch": "NamespaceMagics",
        "psource": "NamespaceMagics",
        "pushd": "OSMagics",
        "pwd": "OSMagics",
        "pycat": "OSMagics",
        "pylab": "PylabMagics",
        "qtconsole": "KernelMagics",
        "quickref": "BasicMagics",
        "recall": "HistoryMagics",
        "rehashx": "OSMagics",
        "reload_ext": "ExtensionMagics",
        "rep": "Other",
        "rerun": "HistoryMagics",
        "reset": "NamespaceMagics",
        "reset_selective": "NamespaceMagics",
        "rm": "Other",
        "rmdir": "Other",
        "run": "ExecutionMagics",
        "save": "CodeMagics",
        "sc": "OSMagics",
        "set_env": "OSMagics",
        "shell": "Other",
        "store": "StoreMagics",
        "sx": "OSMagics",
        "system": "OSMagics",
        "tb": "ExecutionMagics",
        "tensorflow_version": "Other",
        "time": "ExecutionMagics",
        "timeit": "ExecutionMagics",
        "unalias": "OSMagics",
        "unload_ext": "ExtensionMagics",
        "who": "NamespaceMagics",
        "who_ls": "NamespaceMagics",
        "whos": "NamespaceMagics",
        "xdel": "NamespaceMagics",
        "xmode": "BasicMagics"
       }
      },
      "text/plain": [
       "Available line magics:\n",
       "%alias  %alias_magic  %autocall  %automagic  %autosave  %bookmark  %cat  %cd  %clear  %colors  %config  %connect_info  %cp  %debug  %dhist  %dirs  %doctest_mode  %ed  %edit  %env  %gui  %hist  %history  %killbgscripts  %ldir  %less  %lf  %lk  %ll  %load  %load_ext  %loadpy  %logoff  %logon  %logstart  %logstate  %logstop  %ls  %lsmagic  %lx  %macro  %magic  %man  %matplotlib  %mkdir  %more  %mv  %notebook  %page  %pastebin  %pdb  %pdef  %pdoc  %pfile  %pinfo  %pinfo2  %pip  %popd  %pprint  %precision  %profile  %prun  %psearch  %psource  %pushd  %pwd  %pycat  %pylab  %qtconsole  %quickref  %recall  %rehashx  %reload_ext  %rep  %rerun  %reset  %reset_selective  %rm  %rmdir  %run  %save  %sc  %set_env  %shell  %store  %sx  %system  %tb  %tensorflow_version  %time  %timeit  %unalias  %unload_ext  %who  %who_ls  %whos  %xdel  %xmode\n",
       "\n",
       "Available cell magics:\n",
       "%%!  %%HTML  %%SVG  %%bash  %%bigquery  %%capture  %%debug  %%file  %%html  %%javascript  %%js  %%latex  %%perl  %%prun  %%pypy  %%python  %%python2  %%python3  %%ruby  %%script  %%sh  %%shell  %%svg  %%sx  %%system  %%time  %%timeit  %%writefile\n",
       "\n",
       "Automagic is ON, % prefix IS NOT needed for line magics."
      ]
     },
     "execution_count": 3,
     "metadata": {},
     "output_type": "execute_result"
    }
   ],
   "source": [
    "%lsmagic"
   ]
  },
  {
   "cell_type": "markdown",
   "metadata": {
    "id": "GBAIG6JaXa-2"
   },
   "source": [
    "Выполнение bat/bash комманд:"
   ]
  },
  {
   "cell_type": "code",
   "execution_count": null,
   "metadata": {},
   "outputs": [],
   "source": [
    "!pip install google-colab"
   ]
  },
  {
   "cell_type": "code",
   "execution_count": null,
   "metadata": {},
   "outputs": [],
   "source": [
    "from google.colab import drive\n",
    "drive.mount('/content/gdrive/')"
   ]
  },
  {
   "cell_type": "code",
   "execution_count": 2,
   "metadata": {
    "colab": {
     "base_uri": "https://localhost:8080/"
    },
    "executionInfo": {
     "elapsed": 1143,
     "status": "ok",
     "timestamp": 1631025744469,
     "user": {
      "displayName": "Даниил Русланович Махоткин",
      "photoUrl": "",
      "userId": "18336248573599285046"
     },
     "user_tz": -180
    },
    "id": "tIg2471lmBH3",
    "outputId": "2b280c7f-79de-49aa-d243-f724bc315912"
   },
   "outputs": [
    {
     "name": "stdout",
     "output_type": "stream",
     "text": [
      " Airplane_Crashes_and_Fatalities_Since_1908.csv\n",
      " Lecture_00.key\n",
      " Lecture_00.pdf\n",
      " Lecture01_validation_knn.pdf\n",
      " lena.jpg\n",
      " Seminar_00_intro.ipynb\n",
      " Seminar_00_intro.ipynb.txt\n",
      "'Seminar 00 - intro, kNN.ipynb'\n",
      " Seminar_00_intro_solved.ipynb\n",
      "'Seminar 00.ipynb'\n",
      " Seminar_00_solved.ipynb\n"
     ]
    }
   ],
   "source": [
    "!ls ./gdrive/My\\ Drive/Colab\\ Notebooks/"
   ]
  },
  {
   "cell_type": "markdown",
   "metadata": {
    "id": "8sqCg8txXa-5"
   },
   "source": [
    "### Измерение продолжительности выполнения кода"
   ]
  },
  {
   "cell_type": "code",
   "execution_count": 6,
   "metadata": {
    "executionInfo": {
     "elapsed": 235,
     "status": "ok",
     "timestamp": 1631025893029,
     "user": {
      "displayName": "Даниил Русланович Махоткин",
      "photoUrl": "",
      "userId": "18336248573599285046"
     },
     "user_tz": -180
    },
    "id": "YLDJ3_VuJWWp"
   },
   "outputs": [],
   "source": [
    "import math"
   ]
  },
  {
   "cell_type": "code",
   "execution_count": 7,
   "metadata": {
    "colab": {
     "base_uri": "https://localhost:8080/"
    },
    "executionInfo": {
     "elapsed": 268,
     "status": "ok",
     "timestamp": 1631025900836,
     "user": {
      "displayName": "Даниил Русланович Махоткин",
      "photoUrl": "",
      "userId": "18336248573599285046"
     },
     "user_tz": -180
    },
    "id": "TtQHV0FgXa-6",
    "outputId": "3d769795-628d-4fdc-af23-9f6f0815b7a1"
   },
   "outputs": [
    {
     "name": "stdout",
     "output_type": "stream",
     "text": [
      "CPU times: user 1.6 ms, sys: 0 ns, total: 1.6 ms\n",
      "Wall time: 1.67 ms\n"
     ]
    }
   ],
   "source": [
    "%%time\n",
    "a = 352e+11\n",
    "for i in range(10000):\n",
    "    a = math.sin(a)"
   ]
  },
  {
   "cell_type": "markdown",
   "metadata": {
    "id": "A5W7l_L3Xa-8"
   },
   "source": [
    "Время выполнения конкретной строки из блока"
   ]
  },
  {
   "cell_type": "code",
   "execution_count": 8,
   "metadata": {
    "colab": {
     "base_uri": "https://localhost:8080/"
    },
    "executionInfo": {
     "elapsed": 249,
     "status": "ok",
     "timestamp": 1631025912565,
     "user": {
      "displayName": "Даниил Русланович Махоткин",
      "photoUrl": "",
      "userId": "18336248573599285046"
     },
     "user_tz": -180
    },
    "id": "I-RVmK7nXa-9",
    "outputId": "f4d62f8b-343e-4b54-9a0c-4ca1262334fe"
   },
   "outputs": [
    {
     "name": "stdout",
     "output_type": "stream",
     "text": [
      "CPU times: user 2 µs, sys: 1e+03 ns, total: 3 µs\n",
      "Wall time: 5.48 µs\n"
     ]
    }
   ],
   "source": [
    "%time a = 352e+10\n",
    "for i in range(1000):\n",
    "    a = math.sin(a)"
   ]
  },
  {
   "cell_type": "markdown",
   "metadata": {
    "id": "4qVQRT9gXa-_"
   },
   "source": [
    "Замер времени выполнения в цикле"
   ]
  },
  {
   "cell_type": "code",
   "execution_count": 9,
   "metadata": {
    "colab": {
     "base_uri": "https://localhost:8080/"
    },
    "executionInfo": {
     "elapsed": 1567,
     "status": "ok",
     "timestamp": 1631025932805,
     "user": {
      "displayName": "Даниил Русланович Махоткин",
      "photoUrl": "",
      "userId": "18336248573599285046"
     },
     "user_tz": -180
    },
    "id": "XEMat0auXa-_",
    "outputId": "79aebd23-bb1a-4e32-f95c-e7874654384d"
   },
   "outputs": [
    {
     "name": "stdout",
     "output_type": "stream",
     "text": [
      "10000000 loops, best of 5: 20.7 ns per loop\n"
     ]
    }
   ],
   "source": [
    "%timeit a = 352e+10\n",
    "for i in range(1000):\n",
    "    a = math.sin(a)"
   ]
  },
  {
   "cell_type": "markdown",
   "metadata": {
    "id": "2wML2cKVZI3_"
   },
   "source": [
    "Разные фишки jupyter notebook описаны [здесь](https://tproger.ru/translations/how-to-optimize-jupyter-notebook/)"
   ]
  },
  {
   "cell_type": "markdown",
   "metadata": {
    "id": "1cnGhhAkw9yw"
   },
   "source": [
    "# 1 Повторение"
   ]
  },
  {
   "cell_type": "markdown",
   "metadata": {
    "id": "_EVDc6u9TXH6"
   },
   "source": [
    "## 1.1. NumPy\n",
    "\n",
    "**NumPy** — отличная библиотека Python для матричных вычислений. Она позволяет [легко] работать с матрицами, массивами, математикой и т.д. Кроме того, она позволяет (и поощряет) векторные операции, которые **намного** быстрее.\n",
    "\n",
    " - [numpy](http://www.numpy.org)\n",
    " - [numpy tutorial](http://cs231n.github.io/python-numpy-tutorial/)\n",
    " - [100 numpy exercises](http://www.labri.fr/perso/nrougier/teaching/numpy.100/)"
   ]
  },
  {
   "cell_type": "code",
   "execution_count": null,
   "metadata": {},
   "outputs": [],
   "source": [
    "!pip install numpy"
   ]
  },
  {
   "cell_type": "code",
   "execution_count": 10,
   "metadata": {
    "executionInfo": {
     "elapsed": 255,
     "status": "ok",
     "timestamp": 1631025942693,
     "user": {
      "displayName": "Даниил Русланович Махоткин",
      "photoUrl": "",
      "userId": "18336248573599285046"
     },
     "user_tz": -180
    },
    "id": "_cfrrnb4TXH6"
   },
   "outputs": [],
   "source": [
    "import numpy as np"
   ]
  },
  {
   "cell_type": "markdown",
   "metadata": {
    "id": "oMZeErASTXH9"
   },
   "source": [
    "Основной тип  — [numpy.ndarray](http://docs.scipy.org/doc/numpy-1.10.0/reference/generated/numpy.array.html). \n",
    "Каждый `ndarray` имеет оси"
   ]
  },
  {
   "cell_type": "code",
   "execution_count": 13,
   "metadata": {
    "colab": {
     "base_uri": "https://localhost:8080/"
    },
    "executionInfo": {
     "elapsed": 323,
     "status": "ok",
     "timestamp": 1631026008054,
     "user": {
      "displayName": "Даниил Русланович Махоткин",
      "photoUrl": "",
      "userId": "18336248573599285046"
     },
     "user_tz": -180
    },
    "id": "6OtT_WMlTXH9",
    "outputId": "a586495d-dbe0-4cea-8199-fca81c4f5ea9"
   },
   "outputs": [
    {
     "data": {
      "text/plain": [
       "1"
      ]
     },
     "execution_count": 13,
     "metadata": {},
     "output_type": "execute_result"
    }
   ],
   "source": [
    "vec = np.array([1, 2, 3])\n",
    "vec.ndim # number of axis"
   ]
  },
  {
   "cell_type": "code",
   "execution_count": 11,
   "metadata": {
    "colab": {
     "base_uri": "https://localhost:8080/"
    },
    "executionInfo": {
     "elapsed": 237,
     "status": "ok",
     "timestamp": 1631025990728,
     "user": {
      "displayName": "Даниил Русланович Махоткин",
      "photoUrl": "",
      "userId": "18336248573599285046"
     },
     "user_tz": -180
    },
    "id": "pAkiq2cQTXIA",
    "outputId": "0fb4ed37-022a-47fd-d4d3-8737c450e71b"
   },
   "outputs": [
    {
     "data": {
      "text/plain": [
       "(2, 3)"
      ]
     },
     "execution_count": 11,
     "metadata": {},
     "output_type": "execute_result"
    }
   ],
   "source": [
    "mat = np.array([[1, 2, 3], [4, 5, 6]])\n",
    "mat.shape # shape"
   ]
  },
  {
   "cell_type": "markdown",
   "metadata": {
    "id": "lgSTz_PtTXIC"
   },
   "source": [
    "#### Создание матриц "
   ]
  },
  {
   "cell_type": "code",
   "execution_count": null,
   "metadata": {
    "id": "EOlQq-sXTXIC"
   },
   "outputs": [],
   "source": [
    "# Создание матрицы из нулей "
   ]
  },
  {
   "cell_type": "code",
   "execution_count": null,
   "metadata": {
    "id": "I21QhYyKTXIF"
   },
   "outputs": [],
   "source": [
    "# Создание матрицы из единиц"
   ]
  },
  {
   "cell_type": "code",
   "execution_count": null,
   "metadata": {
    "id": "tRNntmPOTXIH"
   },
   "outputs": [],
   "source": [
    "# Создание единичной матрицы"
   ]
  },
  {
   "cell_type": "code",
   "execution_count": 4,
   "metadata": {
    "colab": {
     "base_uri": "https://localhost:8080/",
     "height": 183
    },
    "executionInfo": {
     "elapsed": 6,
     "status": "error",
     "timestamp": 1631016303967,
     "user": {
      "displayName": "Даниил Русланович Махоткин",
      "photoUrl": "",
      "userId": "18336248573599285046"
     },
     "user_tz": -180
    },
    "id": "4lsPKvzzTXIJ",
    "outputId": "1aa358ac-65b5-4342-84db-f3684a59045d"
   },
   "outputs": [],
   "source": [
    "# Создание вектора с указанием границ и шага"
   ]
  },
  {
   "cell_type": "markdown",
   "metadata": {},
   "source": [
    "``` bash\n",
    "reshape((9,-1)) # Автоматический подбор размеров матрицы\n",
    "```"
   ]
  },
  {
   "cell_type": "code",
   "execution_count": null,
   "metadata": {
    "id": "61Y2rk2dTXIM"
   },
   "outputs": [],
   "source": [
    "# Изменение формы "
   ]
  },
  {
   "cell_type": "code",
   "execution_count": null,
   "metadata": {
    "id": "9GLSdfMHTXIR"
   },
   "outputs": [],
   "source": [
    "# Транспонирование"
   ]
  },
  {
   "cell_type": "markdown",
   "metadata": {
    "id": "ijesPIkQTXIT"
   },
   "source": [
    "#### Базовые операции над матрицами"
   ]
  },
  {
   "cell_type": "code",
   "execution_count": null,
   "metadata": {
    "colab": {
     "base_uri": "https://localhost:8080/"
    },
    "executionInfo": {
     "elapsed": 5,
     "status": "ok",
     "timestamp": 1631016308222,
     "user": {
      "displayName": "Даниил Русланович Махоткин",
      "photoUrl": "",
      "userId": "18336248573599285046"
     },
     "user_tz": -180
    },
    "id": "5JzUXlQtTXIT",
    "outputId": "608b46f6-b648-45e7-dd4a-1a0305125717"
   },
   "outputs": [
    {
     "name": "stdout",
     "output_type": "stream",
     "text": [
      "[[0 1 2]\n",
      " [3 4 5]\n",
      " [6 7 8]]\n",
      "[[ 8  9 10]\n",
      " [11 12 13]\n",
      " [14 15 16]]\n"
     ]
    }
   ],
   "source": [
    "A = np.arange(9).reshape(3, 3)\n",
    "B = np.arange(8, 17).reshape(3, 3)\n",
    "print(A)\n",
    "print(B)"
   ]
  },
  {
   "cell_type": "code",
   "execution_count": null,
   "metadata": {
    "colab": {
     "base_uri": "https://localhost:8080/"
    },
    "executionInfo": {
     "elapsed": 4,
     "status": "ok",
     "timestamp": 1631016308506,
     "user": {
      "displayName": "Даниил Русланович Махоткин",
      "photoUrl": "",
      "userId": "18336248573599285046"
     },
     "user_tz": -180
    },
    "id": "G8gXFUvdTXIV",
    "outputId": "35a3eddd-9dda-4792-9443-9a079c3f876f"
   },
   "outputs": [
    {
     "data": {
      "text/plain": [
       "array([[16, 19, 22],\n",
       "       [25, 28, 31],\n",
       "       [34, 37, 40]])"
      ]
     },
     "execution_count": 22,
     "metadata": {},
     "output_type": "execute_result"
    }
   ],
   "source": [
    "A + B * 2  # Сложение и умножение на константу"
   ]
  },
  {
   "cell_type": "code",
   "execution_count": null,
   "metadata": {
    "colab": {
     "base_uri": "https://localhost:8080/"
    },
    "executionInfo": {
     "elapsed": 7,
     "status": "ok",
     "timestamp": 1631016309259,
     "user": {
      "displayName": "Даниил Русланович Махоткин",
      "photoUrl": "",
      "userId": "18336248573599285046"
     },
     "user_tz": -180
    },
    "id": "_TCpG55XTXIY",
    "outputId": "17c8ea1d-8716-409b-ca20-d2827b81967f"
   },
   "outputs": [
    {
     "data": {
      "text/plain": [
       "array([[  0,   9,  20],\n",
       "       [ 33,  48,  65],\n",
       "       [ 84, 105, 128]])"
      ]
     },
     "execution_count": 23,
     "metadata": {},
     "output_type": "execute_result"
    }
   ],
   "source": [
    "A * B  # Поэлементное умножение"
   ]
  },
  {
   "cell_type": "code",
   "execution_count": null,
   "metadata": {
    "colab": {
     "base_uri": "https://localhost:8080/"
    },
    "executionInfo": {
     "elapsed": 5,
     "status": "ok",
     "timestamp": 1631016309738,
     "user": {
      "displayName": "Даниил Русланович Махоткин",
      "photoUrl": "",
      "userId": "18336248573599285046"
     },
     "user_tz": -180
    },
    "id": "OANzABKsTXIa",
    "outputId": "9ed9b2aa-d29d-42e7-e1a3-f3c19bc48126"
   },
   "outputs": [
    {
     "data": {
      "text/plain": [
       "array([[ 39,  42,  45],\n",
       "       [138, 150, 162],\n",
       "       [237, 258, 279]])"
      ]
     },
     "execution_count": 24,
     "metadata": {},
     "output_type": "execute_result"
    }
   ],
   "source": [
    "A.dot(B)"
   ]
  },
  {
   "cell_type": "code",
   "execution_count": null,
   "metadata": {
    "id": "SwaIU_QfTXIc"
   },
   "outputs": [],
   "source": [
    "# max via 1 axis"
   ]
  },
  {
   "cell_type": "markdown",
   "metadata": {
    "id": "1DEg0vYjTXIe"
   },
   "source": [
    "#### Индексирование"
   ]
  },
  {
   "cell_type": "code",
   "execution_count": null,
   "metadata": {
    "colab": {
     "base_uri": "https://localhost:8080/"
    },
    "executionInfo": {
     "elapsed": 10,
     "status": "ok",
     "timestamp": 1631016310429,
     "user": {
      "displayName": "Даниил Русланович Махоткин",
      "photoUrl": "",
      "userId": "18336248573599285046"
     },
     "user_tz": -180
    },
    "id": "MBiMed6fTXIf",
    "outputId": "845d230c-a4f2-4680-f608-f0258a451d7f"
   },
   "outputs": [
    {
     "data": {
      "text/plain": [
       "array([[0, 1, 2],\n",
       "       [3, 4, 5],\n",
       "       [6, 7, 8]])"
      ]
     },
     "execution_count": 26,
     "metadata": {},
     "output_type": "execute_result"
    }
   ],
   "source": [
    "A[:]"
   ]
  },
  {
   "cell_type": "code",
   "execution_count": null,
   "metadata": {
    "id": "iwlItr4qTXIg"
   },
   "outputs": [],
   "source": [
    "# 1 column"
   ]
  },
  {
   "cell_type": "code",
   "execution_count": null,
   "metadata": {
    "id": "I6Av1ak0TXIi"
   },
   "outputs": [],
   "source": [
    "# 1 and 2 column"
   ]
  },
  {
   "cell_type": "code",
   "execution_count": null,
   "metadata": {
    "colab": {
     "base_uri": "https://localhost:8080/"
    },
    "executionInfo": {
     "elapsed": 12,
     "status": "ok",
     "timestamp": 1631016311412,
     "user": {
      "displayName": "Даниил Русланович Махоткин",
      "photoUrl": "",
      "userId": "18336248573599285046"
     },
     "user_tz": -180
    },
    "id": "GJmDwm02TXIk",
    "outputId": "a3fb4967-6ab3-4438-846b-f785b0dfdd67"
   },
   "outputs": [
    {
     "data": {
      "text/plain": [
       "array([[ 0,  1,  2,  3,  4,  5,  6,  7,  8],\n",
       "       [ 9, 10, 11, 12, 13, 14, 15, 16, 17],\n",
       "       [18, 19, 20, 21, 22, 23, 24, 25, 26],\n",
       "       [27, 28, 29, 30, 31, 32, 33, 34, 35],\n",
       "       [36, 37, 38, 39, 40, 41, 42, 43, 44],\n",
       "       [45, 46, 47, 48, 49, 50, 51, 52, 53],\n",
       "       [54, 55, 56, 57, 58, 59, 60, 61, 62],\n",
       "       [63, 64, 65, 66, 67, 68, 69, 70, 71],\n",
       "       [72, 73, 74, 75, 76, 77, 78, 79, 80]])"
      ]
     },
     "execution_count": 29,
     "metadata": {},
     "output_type": "execute_result"
    }
   ],
   "source": [
    "A = np.arange(81).reshape(9, -1)\n",
    "A"
   ]
  },
  {
   "cell_type": "code",
   "execution_count": null,
   "metadata": {
    "id": "Jq_5yQ3ATXIo"
   },
   "outputs": [],
   "source": [
    "# Можно добавлять шаг (через 3)"
   ]
  },
  {
   "cell_type": "code",
   "execution_count": null,
   "metadata": {
    "id": "sLqZg_bcTXIq"
   },
   "outputs": [],
   "source": [
    "# Условие, четность"
   ]
  },
  {
   "cell_type": "markdown",
   "metadata": {
    "id": "dZYk181dTXJY"
   },
   "source": [
    "## 1.2. Matplotlib\n",
    "\n",
    "**Matplotlib** — отличная библиотека для визуализации\n",
    "\n",
    "* [matplotlib](http://matplotlib.org)\n",
    "* [matplotlib - 2D and 3D plotting in Python](http://nbviewer.jupyter.org/github/jrjohansson/scientific-python-lectures/blob/master/Lecture-4-Matplotlib.ipynb)\n",
    "* [visualization in pandas](http://pandas.pydata.org/pandas-docs/stable/visualization.html)\n",
    "\n"
   ]
  },
  {
   "cell_type": "code",
   "execution_count": null,
   "metadata": {},
   "outputs": [],
   "source": [
    "!pip install matplotlib"
   ]
  },
  {
   "cell_type": "code",
   "execution_count": 31,
   "metadata": {
    "executionInfo": {
     "elapsed": 277,
     "status": "ok",
     "timestamp": 1631026147677,
     "user": {
      "displayName": "Даниил Русланович Махоткин",
      "photoUrl": "",
      "userId": "18336248573599285046"
     },
     "user_tz": -180
    },
    "id": "VO6vNDyvTXJZ"
   },
   "outputs": [],
   "source": [
    "import matplotlib.pyplot as plt\n",
    "\n",
    "%matplotlib inline"
   ]
  },
  {
   "cell_type": "code",
   "execution_count": 32,
   "metadata": {
    "executionInfo": {
     "elapsed": 3,
     "status": "ok",
     "timestamp": 1631026148745,
     "user": {
      "displayName": "Даниил Русланович Махоткин",
      "photoUrl": "",
      "userId": "18336248573599285046"
     },
     "user_tz": -180
    },
    "id": "uF3W2Y53TXJa"
   },
   "outputs": [],
   "source": [
    "x = np.linspace(1, 10, 20)"
   ]
  },
  {
   "cell_type": "code",
   "execution_count": 33,
   "metadata": {
    "colab": {
     "base_uri": "https://localhost:8080/",
     "height": 423
    },
    "executionInfo": {
     "elapsed": 820,
     "status": "ok",
     "timestamp": 1631026174892,
     "user": {
      "displayName": "Даниил Русланович Махоткин",
      "photoUrl": "",
      "userId": "18336248573599285046"
     },
     "user_tz": -180
    },
    "id": "zmVy6_WNTXJc",
    "outputId": "51bec3ae-1332-48d6-e2c1-8e017e6be499"
   },
   "outputs": [
    {
     "data": {
      "image/png": "[encoded data removed]",
      "text/plain": [
       "<Figure size 720x432 with 1 Axes>"
      ]
     },
     "metadata": {
      "needs_background": "light"
     },
     "output_type": "display_data"
    }
   ],
   "source": [
    "fig = plt.figure(figsize=(10, 6))\n",
    "\n",
    "axes = fig.add_axes([0.1, 0.1, 0.8, 0.8])\n",
    "\n",
    "plt.plot(x, x * x) # x^2 от x\n",
    "\n",
    "axes.set_xlabel('x')\n",
    "axes.set_ylabel('y')\n",
    "axes.set_title('title')\n",
    "axes.legend([r'$x^2$', 'x^3'], loc = 0)\n",
    "\n",
    "plt.show()"
   ]
  },
  {
   "cell_type": "code",
   "execution_count": 34,
   "metadata": {
    "colab": {
     "base_uri": "https://localhost:8080/",
     "height": 356
    },
    "executionInfo": {
     "elapsed": 1100,
     "status": "ok",
     "timestamp": 1631016316729,
     "user": {
      "displayName": "Даниил Русланович Махоткин",
      "photoUrl": "",
      "userId": "18336248573599285046"
     },
     "user_tz": -180
    },
    "id": "58Ddx3QUTXJe",
    "outputId": "91e16db8-d604-4c8a-aebd-f9018e1b8323"
   },
   "outputs": [
    {
     "data": {
      "image/png": "[encoded data removed]",
      "text/plain": [
       "<Figure size 1152x360 with 3 Axes>"
      ]
     },
     "metadata": {
      "needs_background": "light"
     },
     "output_type": "display_data"
    }
   ],
   "source": [
    "fig, axes = plt.subplots(nrows=1, ncols=3, figsize = (16, 5))\n",
    "\n",
    "for pow_num, ax in enumerate(axes):\n",
    "    ax.plot(x, x ** (pow_num + 1), 'r')\n",
    "    ax.set_xlabel('x')\n",
    "    ax.set_ylabel('y')\n",
    "    ax.set_title(r'$y = x^' + str(pow_num + 1)+ r'$', fontsize = 18)\n",
    "    \n",
    "fig.tight_layout()  # работа с пересекающимися фигурами\n",
    "plt.show()"
   ]
  },
  {
   "cell_type": "code",
   "execution_count": 35,
   "metadata": {
    "executionInfo": {
     "elapsed": 488,
     "status": "ok",
     "timestamp": 1631026207682,
     "user": {
      "displayName": "Даниил Русланович Махоткин",
      "photoUrl": "",
      "userId": "18336248573599285046"
     },
     "user_tz": -180
    },
    "id": "fDYPab2qTXJf"
   },
   "outputs": [],
   "source": [
    "alpha = 0.7\n",
    "phi_ext = 2 * np.pi * 0.5\n",
    "\n",
    "def flux_qubit_potential(phi_m, phi_p):\n",
    "    return 2 + alpha - 2 * np.cos(phi_p) * np.cos(phi_m) - alpha * np.cos(phi_ext - 2*phi_p)\n",
    "\n",
    "phi_m = np.linspace(0, 2 * np.pi, 100)\n",
    "phi_p = np.linspace(0, 2 * np.pi, 100)\n",
    "X, Y = np.meshgrid(phi_p, phi_m)\n",
    "Z = flux_qubit_potential(X, Y).T"
   ]
  },
  {
   "cell_type": "code",
   "execution_count": 36,
   "metadata": {},
   "outputs": [],
   "source": [
    "from mpl_toolkits.mplot3d import Axes3D"
   ]
  },
  {
   "cell_type": "code",
   "execution_count": 37,
   "metadata": {
    "colab": {
     "base_uri": "https://localhost:8080/",
     "height": 357
    },
    "executionInfo": {
     "elapsed": 726,
     "status": "ok",
     "timestamp": 1631016318803,
     "user": {
      "displayName": "Даниил Русланович Махоткин",
      "photoUrl": "",
      "userId": "18336248573599285046"
     },
     "user_tz": -180
    },
    "id": "CnwU0iRcTXJh",
    "outputId": "d2a23038-7ceb-48de-dead-abfee4fff0ee"
   },
   "outputs": [
    {
     "data": {
      "image/png": "[encoded data removed]",
      "text/plain": [
       "<Figure size 1008x432 with 1 Axes>"
      ]
     },
     "metadata": {
      "needs_background": "light"
     },
     "output_type": "display_data"
    }
   ],
   "source": [
    "fig = plt.figure(figsize=(14, 6))\n",
    "\n",
    "ax = fig.add_subplot(111, projection='3d')\n",
    "\n",
    "p = ax.plot_surface(X, Y, Z, rstride=4, cstride=4, linewidth=0, cmap='jet')\n",
    "plt.show()"
   ]
  },
  {
   "cell_type": "markdown",
   "metadata": {
    "id": "dC1qOchqHGj9"
   },
   "source": [
    "# 2 Работа с данными\n"
   ]
  },
  {
   "cell_type": "markdown",
   "metadata": {
    "id": "HXyYKe3LIgSe"
   },
   "source": [
    "\n",
    "__Источник данных:__ [https://opendata.socrata.com/](https://opendata.socrata.com/Government/Airplane-Crashes-and-Fatalities-Since-1908/q2te-8cvq)\n",
    "\n",
    "__Dataset:__ Airplane Crashes and Fatalities Since 1908\n",
    "\n",
    "Содержит полную историю авиакатастроф по всему миру, с 1908 года-по настоящее время.\n",
    "> `data/Airplane_Crashes_and_Fatalities_Since_1908.csv`\n",
    "\n"
   ]
  },
  {
   "cell_type": "markdown",
   "metadata": {
    "id": "ar0XEFgonha2",
    "tags": []
   },
   "source": [
    "## 2.1. Подготовка данных"
   ]
  },
  {
   "cell_type": "markdown",
   "metadata": {},
   "source": [
    "**Pandas** - это библиотека Python для обработки и анализа структурированных данных, её название происходит от «panel data» («панельные данные»). Панельными данными называют информацию, полученную в результате исследований и структурированную в виде таблиц. Для работы с такими массивами данных и создан Pandas.\n",
    "\n",
    "- [Python Pandas: Tricks & Features You May Not Know](https://realpython.com/python-pandas-tricks/)\n",
    "- [Pandas Tips & Tricks and More](https://www.kaggle.com/code/vikumsw/pandas-tips-tricks-and-more)\n",
    "\n",
    "\n",
    "**Seaborn** - это библиотека для создания статистических графиков на Python. Она основывается на matplotlib и тесно взаимодействует со структурами данных pandas.\n",
    "\n",
    "- [Lesser known Seaborn Tips and Tricks](https://cmdlinetips.com/2021/07/seaborn-tips-and-tricks/)\n",
    "- [Telling a Story in Seaborn: Tips and Tricks](https://medium.com/analytics-vidhya/telling-a-story-in-seaborn-tips-and-tricks-f0158451c790)\n",
    "- [The Ultimate Python Seaborn Tutorial: Gotta Catch ‘Em All](https://elitedatascience.com/python-seaborn-tutorial)"
   ]
  },
  {
   "cell_type": "code",
   "execution_count": 44,
   "metadata": {},
   "outputs": [
    {
     "name": "stdout",
     "output_type": "stream",
     "text": [
      "Requirement already satisfied: pandas in /Users/keleas/miniconda3/envs/general/lib/python3.8/site-packages (1.2.5)\n",
      "Requirement already satisfied: seaborn in /Users/keleas/miniconda3/envs/general/lib/python3.8/site-packages (0.11.1)\n",
      "Requirement already satisfied: python-dateutil>=2.7.3 in /Users/keleas/miniconda3/envs/general/lib/python3.8/site-packages (from pandas) (2.8.1)\n",
      "Requirement already satisfied: numpy>=1.16.5 in /Users/keleas/miniconda3/envs/general/lib/python3.8/site-packages (from pandas) (1.21.0)\n",
      "Requirement already satisfied: pytz>=2017.3 in /Users/keleas/miniconda3/envs/general/lib/python3.8/site-packages (from pandas) (2021.1)\n",
      "Requirement already satisfied: matplotlib>=2.2 in /Users/keleas/miniconda3/envs/general/lib/python3.8/site-packages (from seaborn) (3.4.2)\n",
      "Requirement already satisfied: scipy>=1.0 in /Users/keleas/miniconda3/envs/general/lib/python3.8/site-packages (from seaborn) (1.7.0)\n",
      "Requirement already satisfied: pillow>=6.2.0 in /Users/keleas/miniconda3/envs/general/lib/python3.8/site-packages (from matplotlib>=2.2->seaborn) (8.2.0)\n",
      "Requirement already satisfied: pyparsing>=2.2.1 in /Users/keleas/miniconda3/envs/general/lib/python3.8/site-packages (from matplotlib>=2.2->seaborn) (2.4.7)\n",
      "Requirement already satisfied: kiwisolver>=1.0.1 in /Users/keleas/miniconda3/envs/general/lib/python3.8/site-packages (from matplotlib>=2.2->seaborn) (1.3.1)\n",
      "Requirement already satisfied: cycler>=0.10 in /Users/keleas/miniconda3/envs/general/lib/python3.8/site-packages (from matplotlib>=2.2->seaborn) (0.10.0)\n",
      "Requirement already satisfied: six>=1.5 in /Users/keleas/miniconda3/envs/general/lib/python3.8/site-packages (from python-dateutil>=2.7.3->pandas) (1.12.0)\n",
      "\u001b[33mWARNING: You are using pip version 22.0.4; however, version 22.2.2 is available.\n",
      "You should consider upgrading via the '/Users/keleas/miniconda3/envs/general/bin/python -m pip install --upgrade pip' command.\u001b[0m\u001b[33m\n",
      "\u001b[0m"
     ]
    }
   ],
   "source": [
    "!pip install pandas seaborn"
   ]
  },
  {
   "cell_type": "code",
   "execution_count": 39,
   "metadata": {
    "executionInfo": {
     "elapsed": 876,
     "status": "ok",
     "timestamp": 1631026245846,
     "user": {
      "displayName": "Даниил Русланович Махоткин",
      "photoUrl": "",
      "userId": "18336248573599285046"
     },
     "user_tz": -180
    },
    "id": "f_vQQw1YHGj5"
   },
   "outputs": [],
   "source": [
    "import pandas as pd\n",
    "import numpy as np\n",
    "\n",
    "import seaborn as sns\n",
    "sns.set(palette='deep', style='darkgrid', rc={\"figure.figsize\": (15, 8)})\n",
    "\n",
    "import warnings\n",
    "warnings.simplefilter('ignore')"
   ]
  },
  {
   "cell_type": "code",
   "execution_count": 40,
   "metadata": {
    "executionInfo": {
     "elapsed": 792,
     "status": "ok",
     "timestamp": 1631026321059,
     "user": {
      "displayName": "Даниил Русланович Махоткин",
      "photoUrl": "",
      "userId": "18336248573599285046"
     },
     "user_tz": -180
    },
    "id": "oLB01WusHGj9"
   },
   "outputs": [],
   "source": [
    "df = pd.read_csv(\"data/Airplane_Crashes_and_Fatalities_Since_1908.csv\", sep=',') # читаем csv"
   ]
  },
  {
   "cell_type": "code",
   "execution_count": 41,
   "metadata": {
    "colab": {
     "base_uri": "https://localhost:8080/",
     "height": 502
    },
    "executionInfo": {
     "elapsed": 303,
     "status": "ok",
     "timestamp": 1631026323498,
     "user": {
      "displayName": "Даниил Русланович Махоткин",
      "photoUrl": "",
      "userId": "18336248573599285046"
     },
     "user_tz": -180
    },
    "id": "9H1YQ_KhHGkB",
    "outputId": "619ab2dc-c780-40de-f7cb-4bc5718c9b21"
   },
   "outputs": [
    {
     "data": {
      "text/html": [
       "<div>\n",
       "<style scoped>\n",
       "    .dataframe tbody tr th:only-of-type {\n",
       "        vertical-align: middle;\n",
       "    }\n",
       "\n",
       "    .dataframe tbody tr th {\n",
       "        vertical-align: top;\n",
       "    }\n",
       "\n",
       "    .dataframe thead th {\n",
       "        text-align: right;\n",
       "    }\n",
       "</style>\n",
       "<table border=\"1\" class=\"dataframe\">\n",
       "  <thead>\n",
       "    <tr style=\"text-align: right;\">\n",
       "      <th></th>\n",
       "      <th>Date</th>\n",
       "      <th>Time</th>\n",
       "      <th>Location</th>\n",
       "      <th>Operator</th>\n",
       "      <th>Flight #</th>\n",
       "      <th>Route</th>\n",
       "      <th>Type</th>\n",
       "      <th>Registration</th>\n",
       "      <th>cn/In</th>\n",
       "      <th>Aboard</th>\n",
       "      <th>Fatalities</th>\n",
       "      <th>Ground</th>\n",
       "      <th>Summary</th>\n",
       "    </tr>\n",
       "  </thead>\n",
       "  <tbody>\n",
       "    <tr>\n",
       "      <th>0</th>\n",
       "      <td>09/17/1908</td>\n",
       "      <td>17:18</td>\n",
       "      <td>Fort Myer, Virginia</td>\n",
       "      <td>Military - U.S. Army</td>\n",
       "      <td>NaN</td>\n",
       "      <td>Demonstration</td>\n",
       "      <td>Wright Flyer III</td>\n",
       "      <td>NaN</td>\n",
       "      <td>1</td>\n",
       "      <td>2.0</td>\n",
       "      <td>1.0</td>\n",
       "      <td>0.0</td>\n",
       "      <td>During a demonstration flight, a U.S. Army fly...</td>\n",
       "    </tr>\n",
       "    <tr>\n",
       "      <th>1</th>\n",
       "      <td>07/12/1912</td>\n",
       "      <td>06:30</td>\n",
       "      <td>AtlantiCity, New Jersey</td>\n",
       "      <td>Military - U.S. Navy</td>\n",
       "      <td>NaN</td>\n",
       "      <td>Test flight</td>\n",
       "      <td>Dirigible</td>\n",
       "      <td>NaN</td>\n",
       "      <td>NaN</td>\n",
       "      <td>5.0</td>\n",
       "      <td>5.0</td>\n",
       "      <td>0.0</td>\n",
       "      <td>First U.S. dirigible Akron exploded just offsh...</td>\n",
       "    </tr>\n",
       "    <tr>\n",
       "      <th>2</th>\n",
       "      <td>08/06/1913</td>\n",
       "      <td>NaN</td>\n",
       "      <td>Victoria, British Columbia, Canada</td>\n",
       "      <td>Private</td>\n",
       "      <td>-</td>\n",
       "      <td>NaN</td>\n",
       "      <td>Curtiss seaplane</td>\n",
       "      <td>NaN</td>\n",
       "      <td>NaN</td>\n",
       "      <td>1.0</td>\n",
       "      <td>1.0</td>\n",
       "      <td>0.0</td>\n",
       "      <td>The first fatal airplane accident in Canada oc...</td>\n",
       "    </tr>\n",
       "    <tr>\n",
       "      <th>3</th>\n",
       "      <td>09/09/1913</td>\n",
       "      <td>18:30</td>\n",
       "      <td>Over the North Sea</td>\n",
       "      <td>Military - German Navy</td>\n",
       "      <td>NaN</td>\n",
       "      <td>NaN</td>\n",
       "      <td>Zeppelin L-1 (airship)</td>\n",
       "      <td>NaN</td>\n",
       "      <td>NaN</td>\n",
       "      <td>20.0</td>\n",
       "      <td>14.0</td>\n",
       "      <td>0.0</td>\n",
       "      <td>The airship flew into a thunderstorm and encou...</td>\n",
       "    </tr>\n",
       "    <tr>\n",
       "      <th>4</th>\n",
       "      <td>10/17/1913</td>\n",
       "      <td>10:30</td>\n",
       "      <td>Near Johannisthal, Germany</td>\n",
       "      <td>Military - German Navy</td>\n",
       "      <td>NaN</td>\n",
       "      <td>NaN</td>\n",
       "      <td>Zeppelin L-2 (airship)</td>\n",
       "      <td>NaN</td>\n",
       "      <td>NaN</td>\n",
       "      <td>30.0</td>\n",
       "      <td>30.0</td>\n",
       "      <td>0.0</td>\n",
       "      <td>Hydrogen gas which was being vented was sucked...</td>\n",
       "    </tr>\n",
       "  </tbody>\n",
       "</table>\n",
       "</div>"
      ],
      "text/plain": [
       "         Date   Time                            Location  \\\n",
       "0  09/17/1908  17:18                 Fort Myer, Virginia   \n",
       "1  07/12/1912  06:30             AtlantiCity, New Jersey   \n",
       "2  08/06/1913    NaN  Victoria, British Columbia, Canada   \n",
       "3  09/09/1913  18:30                  Over the North Sea   \n",
       "4  10/17/1913  10:30          Near Johannisthal, Germany   \n",
       "\n",
       "                 Operator Flight #          Route                    Type  \\\n",
       "0    Military - U.S. Army      NaN  Demonstration        Wright Flyer III   \n",
       "1    Military - U.S. Navy      NaN    Test flight               Dirigible   \n",
       "2                 Private        -            NaN        Curtiss seaplane   \n",
       "3  Military - German Navy      NaN            NaN  Zeppelin L-1 (airship)   \n",
       "4  Military - German Navy      NaN            NaN  Zeppelin L-2 (airship)   \n",
       "\n",
       "  Registration cn/In  Aboard  Fatalities  Ground  \\\n",
       "0          NaN     1     2.0         1.0     0.0   \n",
       "1          NaN   NaN     5.0         5.0     0.0   \n",
       "2          NaN   NaN     1.0         1.0     0.0   \n",
       "3          NaN   NaN    20.0        14.0     0.0   \n",
       "4          NaN   NaN    30.0        30.0     0.0   \n",
       "\n",
       "                                             Summary  \n",
       "0  During a demonstration flight, a U.S. Army fly...  \n",
       "1  First U.S. dirigible Akron exploded just offsh...  \n",
       "2  The first fatal airplane accident in Canada oc...  \n",
       "3  The airship flew into a thunderstorm and encou...  \n",
       "4  Hydrogen gas which was being vented was sucked...  "
      ]
     },
     "execution_count": 41,
     "metadata": {},
     "output_type": "execute_result"
    }
   ],
   "source": [
    "# Посмотрим на наш датасет, а так же применим поочередно классы .head(), .tail(), .columns\n",
    "df.head()"
   ]
  },
  {
   "cell_type": "markdown",
   "metadata": {
    "id": "L0wv4EqfHGkA"
   },
   "source": [
    "- __Date__: Дата инцидента\n",
    "- __Time__: Время инцидента\n",
    "- __Location__: Локация инцидента\n",
    "- __Operator__: Авиакомпания\n",
    "- __Flight #__\n",
    "- __Route__\n",
    "- __Type__: Тип разбившегося самолета \n",
    "- __Registration__:\n",
    "- __cn/In__\n",
    "- __Aborad__: Сколько людей было на борту самолета\n",
    "- __Fatalities__: Число погибших (из тех, кто был на борту)\n",
    "- __Ground:__ Число погибших на земле (из тех, кто не был на борту)\n",
    "- __Summary__: Краткое описание инцидента\n",
    "\n"
   ]
  },
  {
   "cell_type": "markdown",
   "metadata": {
    "id": "gNViojzcHGkE"
   },
   "source": [
    "По умолчанию Pandas выводит всего 20 столбцов и 60 строк, поэтому если ваш датафрейм больше, воспользуйтесь функцией set_option:\n",
    "> pd.set_option('display.max_columns', 100)  \n",
    "> pd.set_option('display.max_rows', 100)"
   ]
  },
  {
   "cell_type": "code",
   "execution_count": 42,
   "metadata": {
    "colab": {
     "base_uri": "https://localhost:8080/"
    },
    "executionInfo": {
     "elapsed": 349,
     "status": "ok",
     "timestamp": 1631016596849,
     "user": {
      "displayName": "Даниил Русланович Махоткин",
      "photoUrl": "",
      "userId": "18336248573599285046"
     },
     "user_tz": -180
    },
    "id": "14n13tf2HGkF",
    "outputId": "fba7723a-6e39-4395-e724-5e6f250a796c"
   },
   "outputs": [
    {
     "name": "stdout",
     "output_type": "stream",
     "text": [
      "5268 строк\n",
      "13 столбцов\n"
     ]
    }
   ],
   "source": [
    "# .shape позволяет выводить размер датасета.\n",
    "print(df.shape[0], 'строк')\n",
    "print(df.shape[1], 'столбцов')"
   ]
  },
  {
   "cell_type": "markdown",
   "metadata": {},
   "source": [
    "Сформируем таблицу с типами данных с помощью ```dtypes```:"
   ]
  },
  {
   "cell_type": "code",
   "execution_count": 43,
   "metadata": {
    "colab": {
     "base_uri": "https://localhost:8080/",
     "height": 455
    },
    "executionInfo": {
     "elapsed": 5,
     "status": "ok",
     "timestamp": 1631016598114,
     "user": {
      "displayName": "Даниил Русланович Махоткин",
      "photoUrl": "",
      "userId": "18336248573599285046"
     },
     "user_tz": -180
    },
    "id": "7yVCxp3iHGkI",
    "outputId": "c5884c04-2aab-4274-ac8f-b3e55e27a993"
   },
   "outputs": [
    {
     "data": {
      "text/html": [
       "<div>\n",
       "<style scoped>\n",
       "    .dataframe tbody tr th:only-of-type {\n",
       "        vertical-align: middle;\n",
       "    }\n",
       "\n",
       "    .dataframe tbody tr th {\n",
       "        vertical-align: top;\n",
       "    }\n",
       "\n",
       "    .dataframe thead th {\n",
       "        text-align: right;\n",
       "    }\n",
       "</style>\n",
       "<table border=\"1\" class=\"dataframe\">\n",
       "  <thead>\n",
       "    <tr style=\"text-align: right;\">\n",
       "      <th></th>\n",
       "      <th>Type</th>\n",
       "    </tr>\n",
       "  </thead>\n",
       "  <tbody>\n",
       "    <tr>\n",
       "      <th>Date</th>\n",
       "      <td>object</td>\n",
       "    </tr>\n",
       "    <tr>\n",
       "      <th>Time</th>\n",
       "      <td>object</td>\n",
       "    </tr>\n",
       "    <tr>\n",
       "      <th>Location</th>\n",
       "      <td>object</td>\n",
       "    </tr>\n",
       "    <tr>\n",
       "      <th>Operator</th>\n",
       "      <td>object</td>\n",
       "    </tr>\n",
       "    <tr>\n",
       "      <th>Flight #</th>\n",
       "      <td>object</td>\n",
       "    </tr>\n",
       "    <tr>\n",
       "      <th>Route</th>\n",
       "      <td>object</td>\n",
       "    </tr>\n",
       "    <tr>\n",
       "      <th>Type</th>\n",
       "      <td>object</td>\n",
       "    </tr>\n",
       "    <tr>\n",
       "      <th>Registration</th>\n",
       "      <td>object</td>\n",
       "    </tr>\n",
       "    <tr>\n",
       "      <th>cn/In</th>\n",
       "      <td>object</td>\n",
       "    </tr>\n",
       "    <tr>\n",
       "      <th>Aboard</th>\n",
       "      <td>float64</td>\n",
       "    </tr>\n",
       "    <tr>\n",
       "      <th>Fatalities</th>\n",
       "      <td>float64</td>\n",
       "    </tr>\n",
       "    <tr>\n",
       "      <th>Ground</th>\n",
       "      <td>float64</td>\n",
       "    </tr>\n",
       "    <tr>\n",
       "      <th>Summary</th>\n",
       "      <td>object</td>\n",
       "    </tr>\n",
       "  </tbody>\n",
       "</table>\n",
       "</div>"
      ],
      "text/plain": [
       "                 Type\n",
       "Date           object\n",
       "Time           object\n",
       "Location       object\n",
       "Operator       object\n",
       "Flight #       object\n",
       "Route          object\n",
       "Type           object\n",
       "Registration   object\n",
       "cn/In          object\n",
       "Aboard        float64\n",
       "Fatalities    float64\n",
       "Ground        float64\n",
       "Summary        object"
      ]
     },
     "execution_count": 43,
     "metadata": {},
     "output_type": "execute_result"
    }
   ],
   "source": [
    "df_info = pd.DataFrame(df.dtypes,columns=['Type'])\n",
    "\n",
    "df_info"
   ]
  },
  {
   "cell_type": "markdown",
   "metadata": {},
   "source": [
    "Посмотрим уникальные значения Авиаоператоров с помощью ```unique()``` и их кол-во ```nunique()```"
   ]
  },
  {
   "cell_type": "code",
   "execution_count": 12,
   "metadata": {
    "colab": {
     "base_uri": "https://localhost:8080/"
    },
    "executionInfo": {
     "elapsed": 8,
     "status": "ok",
     "timestamp": 1631016598438,
     "user": {
      "displayName": "Даниил Русланович Махоткин",
      "photoUrl": "",
      "userId": "18336248573599285046"
     },
     "user_tz": -180
    },
    "id": "nrYE6xk4HGkK",
    "outputId": "2e8187df-b025-4229-c52f-9aa67cedb3e9"
   },
   "outputs": [
    {
     "data": {
      "text/plain": [
       "2476"
      ]
     },
     "execution_count": 12,
     "metadata": {},
     "output_type": "execute_result"
    }
   ],
   "source": [
    "df['Operator'].nunique()"
   ]
  },
  {
   "cell_type": "markdown",
   "metadata": {},
   "source": [
    "Бывает удобнее воспользоваться методами ```info()``` / ```describe()```"
   ]
  },
  {
   "cell_type": "code",
   "execution_count": 56,
   "metadata": {
    "colab": {
     "base_uri": "https://localhost:8080/"
    },
    "executionInfo": {
     "elapsed": 274,
     "status": "ok",
     "timestamp": 1631026451651,
     "user": {
      "displayName": "Даниил Русланович Махоткин",
      "photoUrl": "",
      "userId": "18336248573599285046"
     },
     "user_tz": -180
    },
    "id": "G1noCzxfHGkN",
    "outputId": "ba920b09-ee24-44be-a7ae-db8d33f4b0e0"
   },
   "outputs": [
    {
     "name": "stdout",
     "output_type": "stream",
     "text": [
      "<class 'pandas.core.frame.DataFrame'>\n",
      "RangeIndex: 5268 entries, 0 to 5267\n",
      "Data columns (total 13 columns):\n",
      " #   Column        Non-Null Count  Dtype  \n",
      "---  ------        --------------  -----  \n",
      " 0   Date          5268 non-null   object \n",
      " 1   Time          3049 non-null   object \n",
      " 2   Location      5248 non-null   object \n",
      " 3   Operator      5250 non-null   object \n",
      " 4   Flight #      1069 non-null   object \n",
      " 5   Route         3562 non-null   object \n",
      " 6   Type          5241 non-null   object \n",
      " 7   Registration  4933 non-null   object \n",
      " 8   cn/In         4040 non-null   object \n",
      " 9   Aboard        5246 non-null   float64\n",
      " 10  Fatalities    5256 non-null   float64\n",
      " 11  Ground        5246 non-null   float64\n",
      " 12  Summary       4878 non-null   object \n",
      "dtypes: float64(3), object(10)\n",
      "memory usage: 535.2+ KB\n"
     ]
    }
   ],
   "source": [
    "df.info()"
   ]
  },
  {
   "cell_type": "markdown",
   "metadata": {
    "id": "V4jSbD-wHGkP"
   },
   "source": [
    "## 2.2. Работа с данными\n",
    "Как мы видим колонка Date иммет тип \"object\", хотя pandas умеет работать с типом данных \"datetime64\""
   ]
  },
  {
   "cell_type": "markdown",
   "metadata": {},
   "source": [
    "### Смените тип данных для колонки \"Date\" с помощью ```.to_datetime()```, обратите внимание на параметры (dayfirst, yearfirst)\n",
    "Ошибки можно проигнорировать параметром errors = 'coerce'. "
   ]
  },
  {
   "cell_type": "code",
   "execution_count": 57,
   "metadata": {
    "colab": {
     "base_uri": "https://localhost:8080/"
    },
    "executionInfo": {
     "elapsed": 255,
     "status": "ok",
     "timestamp": 1631026571682,
     "user": {
      "displayName": "Даниил Русланович Махоткин",
      "photoUrl": "",
      "userId": "18336248573599285046"
     },
     "user_tz": -180
    },
    "id": "fsDjiPIoHGkQ",
    "outputId": "c3e1567b-3f08-410f-ccaa-5d880a595ec7"
   },
   "outputs": [
    {
     "data": {
      "text/plain": [
       "Date            datetime64[ns]\n",
       "Time            datetime64[ns]\n",
       "Location                object\n",
       "Operator                object\n",
       "Flight #                object\n",
       "Route                   object\n",
       "Type                    object\n",
       "Registration            object\n",
       "cn/In                   object\n",
       "Aboard                 float64\n",
       "Fatalities             float64\n",
       "Ground                 float64\n",
       "Summary                 object\n",
       "dtype: object"
      ]
     },
     "execution_count": 57,
     "metadata": {},
     "output_type": "execute_result"
    }
   ],
   "source": [
    "df['Date'] = pd.to_datetime(df['Date'])\n",
    "df['Time'] = pd.to_datetime(df['Time'], errors = 'coerce')\n",
    "df.dtypes"
   ]
  },
  {
   "cell_type": "markdown",
   "metadata": {
    "id": "xK_xdY_tHGkU"
   },
   "source": [
    "Что нам дало изменение типа? В частности теперь мы можем доставать значение года (.dt.year), месяца (.dt.month), дня (.dt.day) и даже дня недели(.dt.dayofweek, Понедельник – 0, Воскресенье – 6)\n",
    "\n",
    "Кстати, чтобы добавить колонку, достаточно просто присвоить значения к df['Название новой колонки']"
   ]
  },
  {
   "cell_type": "code",
   "execution_count": 58,
   "metadata": {
    "colab": {
     "base_uri": "https://localhost:8080/",
     "height": 353
    },
    "executionInfo": {
     "elapsed": 260,
     "status": "ok",
     "timestamp": 1631026601253,
     "user": {
      "displayName": "Даниил Русланович Махоткин",
      "photoUrl": "",
      "userId": "18336248573599285046"
     },
     "user_tz": -180
    },
    "id": "Ffbm8fUfHGkU",
    "outputId": "f50c5c0a-fe33-4da8-98ea-aabe12ddb94c"
   },
   "outputs": [
    {
     "data": {
      "text/html": [
       "<div>\n",
       "<style scoped>\n",
       "    .dataframe tbody tr th:only-of-type {\n",
       "        vertical-align: middle;\n",
       "    }\n",
       "\n",
       "    .dataframe tbody tr th {\n",
       "        vertical-align: top;\n",
       "    }\n",
       "\n",
       "    .dataframe thead th {\n",
       "        text-align: right;\n",
       "    }\n",
       "</style>\n",
       "<table border=\"1\" class=\"dataframe\">\n",
       "  <thead>\n",
       "    <tr style=\"text-align: right;\">\n",
       "      <th></th>\n",
       "      <th>Date</th>\n",
       "      <th>Time</th>\n",
       "      <th>Location</th>\n",
       "      <th>Operator</th>\n",
       "      <th>Flight #</th>\n",
       "      <th>Route</th>\n",
       "      <th>Type</th>\n",
       "      <th>Registration</th>\n",
       "      <th>cn/In</th>\n",
       "      <th>Aboard</th>\n",
       "      <th>Fatalities</th>\n",
       "      <th>Ground</th>\n",
       "      <th>Summary</th>\n",
       "      <th>year</th>\n",
       "      <th>month</th>\n",
       "      <th>day</th>\n",
       "      <th>day of week</th>\n",
       "      <th>Hours</th>\n",
       "    </tr>\n",
       "  </thead>\n",
       "  <tbody>\n",
       "    <tr>\n",
       "      <th>0</th>\n",
       "      <td>1908-09-17</td>\n",
       "      <td>2022-09-04 17:18:00</td>\n",
       "      <td>Fort Myer, Virginia</td>\n",
       "      <td>Military - U.S. Army</td>\n",
       "      <td>NaN</td>\n",
       "      <td>Demonstration</td>\n",
       "      <td>Wright Flyer III</td>\n",
       "      <td>NaN</td>\n",
       "      <td>1</td>\n",
       "      <td>2.0</td>\n",
       "      <td>1.0</td>\n",
       "      <td>0.0</td>\n",
       "      <td>During a demonstration flight, a U.S. Army fly...</td>\n",
       "      <td>1908</td>\n",
       "      <td>9</td>\n",
       "      <td>17</td>\n",
       "      <td>3</td>\n",
       "      <td>17.0</td>\n",
       "    </tr>\n",
       "    <tr>\n",
       "      <th>1</th>\n",
       "      <td>1912-07-12</td>\n",
       "      <td>2022-09-04 06:30:00</td>\n",
       "      <td>AtlantiCity, New Jersey</td>\n",
       "      <td>Military - U.S. Navy</td>\n",
       "      <td>NaN</td>\n",
       "      <td>Test flight</td>\n",
       "      <td>Dirigible</td>\n",
       "      <td>NaN</td>\n",
       "      <td>NaN</td>\n",
       "      <td>5.0</td>\n",
       "      <td>5.0</td>\n",
       "      <td>0.0</td>\n",
       "      <td>First U.S. dirigible Akron exploded just offsh...</td>\n",
       "      <td>1912</td>\n",
       "      <td>7</td>\n",
       "      <td>12</td>\n",
       "      <td>4</td>\n",
       "      <td>6.0</td>\n",
       "    </tr>\n",
       "    <tr>\n",
       "      <th>2</th>\n",
       "      <td>1913-08-06</td>\n",
       "      <td>NaT</td>\n",
       "      <td>Victoria, British Columbia, Canada</td>\n",
       "      <td>Private</td>\n",
       "      <td>-</td>\n",
       "      <td>NaN</td>\n",
       "      <td>Curtiss seaplane</td>\n",
       "      <td>NaN</td>\n",
       "      <td>NaN</td>\n",
       "      <td>1.0</td>\n",
       "      <td>1.0</td>\n",
       "      <td>0.0</td>\n",
       "      <td>The first fatal airplane accident in Canada oc...</td>\n",
       "      <td>1913</td>\n",
       "      <td>8</td>\n",
       "      <td>6</td>\n",
       "      <td>2</td>\n",
       "      <td>NaN</td>\n",
       "    </tr>\n",
       "  </tbody>\n",
       "</table>\n",
       "</div>"
      ],
      "text/plain": [
       "        Date                Time                            Location  \\\n",
       "0 1908-09-17 2022-09-04 17:18:00                 Fort Myer, Virginia   \n",
       "1 1912-07-12 2022-09-04 06:30:00             AtlantiCity, New Jersey   \n",
       "2 1913-08-06                 NaT  Victoria, British Columbia, Canada   \n",
       "\n",
       "               Operator Flight #          Route              Type  \\\n",
       "0  Military - U.S. Army      NaN  Demonstration  Wright Flyer III   \n",
       "1  Military - U.S. Navy      NaN    Test flight         Dirigible   \n",
       "2               Private        -            NaN  Curtiss seaplane   \n",
       "\n",
       "  Registration cn/In  Aboard  Fatalities  Ground  \\\n",
       "0          NaN     1     2.0         1.0     0.0   \n",
       "1          NaN   NaN     5.0         5.0     0.0   \n",
       "2          NaN   NaN     1.0         1.0     0.0   \n",
       "\n",
       "                                             Summary  year  month  day  \\\n",
       "0  During a demonstration flight, a U.S. Army fly...  1908      9   17   \n",
       "1  First U.S. dirigible Akron exploded just offsh...  1912      7   12   \n",
       "2  The first fatal airplane accident in Canada oc...  1913      8    6   \n",
       "\n",
       "   day of week  Hours  \n",
       "0            3   17.0  \n",
       "1            4    6.0  \n",
       "2            2    NaN  "
      ]
     },
     "execution_count": 58,
     "metadata": {},
     "output_type": "execute_result"
    }
   ],
   "source": [
    "#Достаньте из 'Date' - Год, месяц, день недели. \n",
    "\n",
    "df['year'] = df['Date'].dt.year\n",
    "df['month'] = df['Date'].dt.month\n",
    "df['day'] = df['Date'].dt.day\n",
    "df['day of week'] = df['Date'].dt.dayofweek # Monday = 0, Sunday = 6,\n",
    "\n",
    "df['Hours'] = df['Time'].dt.hour\n",
    "df.head(3)"
   ]
  },
  {
   "cell_type": "markdown",
   "metadata": {
    "id": "fLydUPzGHGkW"
   },
   "source": [
    "## 2.3. Обращение к данным, фильтрация и другое"
   ]
  },
  {
   "cell_type": "code",
   "execution_count": 59,
   "metadata": {
    "id": "q2QQu2ABHGkX"
   },
   "outputs": [
    {
     "data": {
      "text/plain": [
       "75"
      ]
     },
     "execution_count": 59,
     "metadata": {},
     "output_type": "execute_result"
    }
   ],
   "source": [
    "# Посмотрите сколько инцидентов было в 2002 году: \n",
    "df[df['year'] == 2002].shape[0]"
   ]
  },
  {
   "cell_type": "code",
   "execution_count": 60,
   "metadata": {
    "id": "nGvmr5MeHGkZ"
   },
   "outputs": [
    {
     "data": {
      "text/plain": [
       "30"
      ]
     },
     "execution_count": 60,
     "metadata": {},
     "output_type": "execute_result"
    }
   ],
   "source": [
    "# Посмотрите сколько инцидентов было c кол-вом жертв (суммарно на земле и на борту) больше 200: \n",
    "df[df['Fatalities'] + df['Ground'] > 200].shape[0]"
   ]
  },
  {
   "cell_type": "code",
   "execution_count": 61,
   "metadata": {
    "id": "08r0-AfxHGkc"
   },
   "outputs": [],
   "source": [
    "# Кроме того мы можем производить любые операции со столбцами складывать/умножать/делить/логарифимировать etc.   \n",
    "df['all_victims'] = df['Fatalities'] + df['Ground']"
   ]
  },
  {
   "cell_type": "code",
   "execution_count": 62,
   "metadata": {
    "colab": {
     "base_uri": "https://localhost:8080/"
    },
    "executionInfo": {
     "elapsed": 7,
     "status": "ok",
     "timestamp": 1631016603092,
     "user": {
      "displayName": "Даниил Русланович Махоткин",
      "photoUrl": "",
      "userId": "18336248573599285046"
     },
     "user_tz": -180
    },
    "id": "EqrdXNEgHGke",
    "outputId": "9a25495c-bbb2-47a6-ae17-c046f665f11c"
   },
   "outputs": [
    {
     "data": {
      "text/plain": [
       "1"
      ]
     },
     "execution_count": 62,
     "metadata": {},
     "output_type": "execute_result"
    }
   ],
   "source": [
    "# Посомтрите сколько инцидентов было c кол-вом жертв (суммарно на земле и на борту) больше 200 в 2002 году: \n",
    "df[(df['year'] == 2002) & (df['all_victims'] > 200)].shape[0]"
   ]
  },
  {
   "cell_type": "code",
   "execution_count": 63,
   "metadata": {
    "colab": {
     "base_uri": "https://localhost:8080/"
    },
    "executionInfo": {
     "elapsed": 9,
     "status": "ok",
     "timestamp": 1631016603394,
     "user": {
      "displayName": "Даниил Русланович Махоткин",
      "photoUrl": "",
      "userId": "18336248573599285046"
     },
     "user_tz": -180
    },
    "id": "jjZtM0adHGkg",
    "outputId": "2d129fcd-c4fd-4dd9-f529-ff3298a7a390"
   },
   "outputs": [
    {
     "name": "stdout",
     "output_type": "stream",
     "text": [
      "В 2002 году в  Off Penghu Island, Taiwan разбился Boeing B-747-209B . Общее кол-во жертв 225.0\n"
     ]
    }
   ],
   "source": [
    "# Где произошел инцидент? Какой был самолет? Сколько было жертв? \n",
    "print('В 2002 году в ', df[(df['year'] == 2002) & (df['all_victims'] > 200)]['Location'].values[0],\n",
    "      'разбился', df[(df['year'] == 2002) & (df['all_victims'] > 200)]['Type'].values[0], '. '\n",
    "      'Общее кол-во жертв', df[(df['year'] == 2002) & (df['all_victims'] > 200)]['all_victims'].values[0]\n",
    "     )"
   ]
  },
  {
   "cell_type": "markdown",
   "metadata": {
    "id": "jpo03kP9HGkl"
   },
   "source": [
    "## 2.4. Работа с текстом и пропусками, объединение таблиц"
   ]
  },
  {
   "cell_type": "code",
   "execution_count": 64,
   "metadata": {
    "colab": {
     "base_uri": "https://localhost:8080/"
    },
    "executionInfo": {
     "elapsed": 6,
     "status": "ok",
     "timestamp": 1631016603710,
     "user": {
      "displayName": "Даниил Русланович Махоткин",
      "photoUrl": "",
      "userId": "18336248573599285046"
     },
     "user_tz": -180
    },
    "id": "no_mnLFtHGkl",
    "outputId": "380d5fb8-1d23-4b58-8a7d-3b04f435082e"
   },
   "outputs": [
    {
     "data": {
      "text/plain": [
       "0                   Fort Myer, Virginia\n",
       "1               AtlantiCity, New Jersey\n",
       "2    Victoria, British Columbia, Canada\n",
       "3                    Over the North Sea\n",
       "4            Near Johannisthal, Germany\n",
       "Name: Location, dtype: object"
      ]
     },
     "execution_count": 64,
     "metadata": {},
     "output_type": "execute_result"
    }
   ],
   "source": [
    "# Посмотрим на столбец 'Location'\n",
    "df['Location'].head()"
   ]
  },
  {
   "cell_type": "code",
   "execution_count": 65,
   "metadata": {
    "colab": {
     "base_uri": "https://localhost:8080/",
     "height": 205
    },
    "executionInfo": {
     "elapsed": 6,
     "status": "ok",
     "timestamp": 1631016604645,
     "user": {
      "displayName": "Даниил Русланович Махоткин",
      "photoUrl": "",
      "userId": "18336248573599285046"
     },
     "user_tz": -180
    },
    "id": "R-OmLr3zHGko",
    "outputId": "13e81a17-5aed-4daa-c081-eb4e05d88f7b"
   },
   "outputs": [
    {
     "data": {
      "text/html": [
       "<div>\n",
       "<style scoped>\n",
       "    .dataframe tbody tr th:only-of-type {\n",
       "        vertical-align: middle;\n",
       "    }\n",
       "\n",
       "    .dataframe tbody tr th {\n",
       "        vertical-align: top;\n",
       "    }\n",
       "\n",
       "    .dataframe thead th {\n",
       "        text-align: right;\n",
       "    }\n",
       "</style>\n",
       "<table border=\"1\" class=\"dataframe\">\n",
       "  <thead>\n",
       "    <tr style=\"text-align: right;\">\n",
       "      <th></th>\n",
       "      <th>0</th>\n",
       "      <th>1</th>\n",
       "      <th>2</th>\n",
       "      <th>3</th>\n",
       "    </tr>\n",
       "  </thead>\n",
       "  <tbody>\n",
       "    <tr>\n",
       "      <th>0</th>\n",
       "      <td>Fort Myer</td>\n",
       "      <td>Virginia</td>\n",
       "      <td>None</td>\n",
       "      <td>None</td>\n",
       "    </tr>\n",
       "    <tr>\n",
       "      <th>1</th>\n",
       "      <td>AtlantiCity</td>\n",
       "      <td>New Jersey</td>\n",
       "      <td>None</td>\n",
       "      <td>None</td>\n",
       "    </tr>\n",
       "    <tr>\n",
       "      <th>2</th>\n",
       "      <td>Victoria</td>\n",
       "      <td>British Columbia</td>\n",
       "      <td>Canada</td>\n",
       "      <td>None</td>\n",
       "    </tr>\n",
       "    <tr>\n",
       "      <th>3</th>\n",
       "      <td>Over the North Sea</td>\n",
       "      <td>None</td>\n",
       "      <td>None</td>\n",
       "      <td>None</td>\n",
       "    </tr>\n",
       "    <tr>\n",
       "      <th>4</th>\n",
       "      <td>Near Johannisthal</td>\n",
       "      <td>Germany</td>\n",
       "      <td>None</td>\n",
       "      <td>None</td>\n",
       "    </tr>\n",
       "  </tbody>\n",
       "</table>\n",
       "</div>"
      ],
      "text/plain": [
       "                    0                  1        2     3\n",
       "0           Fort Myer           Virginia     None  None\n",
       "1         AtlantiCity         New Jersey     None  None\n",
       "2            Victoria   British Columbia   Canada  None\n",
       "3  Over the North Sea               None     None  None\n",
       "4   Near Johannisthal            Germany     None  None"
      ]
     },
     "execution_count": 65,
     "metadata": {},
     "output_type": "execute_result"
    }
   ],
   "source": [
    "# Как видим локация расписана через запятую, попробуем разбить название с помощью .str.split\n",
    "loc = df['Location'].str.split(',', expand=True)\n",
    "loc.head()\n",
    "\n",
    "# кстати в .str есть много всего полезного, например используемый ранее .replace()"
   ]
  },
  {
   "cell_type": "markdown",
   "metadata": {
    "id": "1uELyF7FHGkr"
   },
   "source": [
    "Видно, что у нас появились пропуски, однако чем правее тем более укрупненно можно посмотреть локацию. \n",
    "Пропуски можно удалить с помощью .drop(), однако нам более интересно заполнить их с помощью fillna()\n",
    "Не забывайте, что есть параметр inplace"
   ]
  },
  {
   "cell_type": "code",
   "execution_count": 66,
   "metadata": {
    "colab": {
     "base_uri": "https://localhost:8080/"
    },
    "executionInfo": {
     "elapsed": 7,
     "status": "ok",
     "timestamp": 1631016605726,
     "user": {
      "displayName": "Даниил Русланович Махоткин",
      "photoUrl": "",
      "userId": "18336248573599285046"
     },
     "user_tz": -180
    },
    "id": "pNZ25ebOHGkr",
    "outputId": "10b41476-721a-4c8b-fb94-ab0cd889554b"
   },
   "outputs": [
    {
     "data": {
      "text/plain": [
       "567"
      ]
     },
     "execution_count": 66,
     "metadata": {},
     "output_type": "execute_result"
    }
   ],
   "source": [
    "loc[3] = loc[3].fillna(loc[2])\n",
    "loc[3] = loc[3].fillna(loc[1])\n",
    "loc[3] = loc[3].fillna(loc[0])\n",
    "loc[3].nunique()"
   ]
  },
  {
   "cell_type": "code",
   "execution_count": 67,
   "metadata": {
    "colab": {
     "base_uri": "https://localhost:8080/",
     "height": 205
    },
    "executionInfo": {
     "elapsed": 6,
     "status": "ok",
     "timestamp": 1631016606046,
     "user": {
      "displayName": "Даниил Русланович Махоткин",
      "photoUrl": "",
      "userId": "18336248573599285046"
     },
     "user_tz": -180
    },
    "id": "x5haroMJpqj5",
    "outputId": "505bee4a-0fd5-4701-d30c-0b250bd4c399"
   },
   "outputs": [
    {
     "data": {
      "text/html": [
       "<div>\n",
       "<style scoped>\n",
       "    .dataframe tbody tr th:only-of-type {\n",
       "        vertical-align: middle;\n",
       "    }\n",
       "\n",
       "    .dataframe tbody tr th {\n",
       "        vertical-align: top;\n",
       "    }\n",
       "\n",
       "    .dataframe thead th {\n",
       "        text-align: right;\n",
       "    }\n",
       "</style>\n",
       "<table border=\"1\" class=\"dataframe\">\n",
       "  <thead>\n",
       "    <tr style=\"text-align: right;\">\n",
       "      <th></th>\n",
       "      <th>0</th>\n",
       "      <th>1</th>\n",
       "      <th>2</th>\n",
       "      <th>3</th>\n",
       "    </tr>\n",
       "  </thead>\n",
       "  <tbody>\n",
       "    <tr>\n",
       "      <th>0</th>\n",
       "      <td>Fort Myer</td>\n",
       "      <td>Virginia</td>\n",
       "      <td>None</td>\n",
       "      <td>Virginia</td>\n",
       "    </tr>\n",
       "    <tr>\n",
       "      <th>1</th>\n",
       "      <td>AtlantiCity</td>\n",
       "      <td>New Jersey</td>\n",
       "      <td>None</td>\n",
       "      <td>New Jersey</td>\n",
       "    </tr>\n",
       "    <tr>\n",
       "      <th>2</th>\n",
       "      <td>Victoria</td>\n",
       "      <td>British Columbia</td>\n",
       "      <td>Canada</td>\n",
       "      <td>Canada</td>\n",
       "    </tr>\n",
       "    <tr>\n",
       "      <th>3</th>\n",
       "      <td>Over the North Sea</td>\n",
       "      <td>None</td>\n",
       "      <td>None</td>\n",
       "      <td>Over the North Sea</td>\n",
       "    </tr>\n",
       "    <tr>\n",
       "      <th>4</th>\n",
       "      <td>Near Johannisthal</td>\n",
       "      <td>Germany</td>\n",
       "      <td>None</td>\n",
       "      <td>Germany</td>\n",
       "    </tr>\n",
       "  </tbody>\n",
       "</table>\n",
       "</div>"
      ],
      "text/plain": [
       "                    0                  1        2                   3\n",
       "0           Fort Myer           Virginia     None            Virginia\n",
       "1         AtlantiCity         New Jersey     None          New Jersey\n",
       "2            Victoria   British Columbia   Canada              Canada\n",
       "3  Over the North Sea               None     None  Over the North Sea\n",
       "4   Near Johannisthal            Germany     None             Germany"
      ]
     },
     "execution_count": 67,
     "metadata": {},
     "output_type": "execute_result"
    }
   ],
   "source": [
    "loc.head()"
   ]
  },
  {
   "cell_type": "code",
   "execution_count": 68,
   "metadata": {
    "colab": {
     "base_uri": "https://localhost:8080/",
     "height": 270
    },
    "executionInfo": {
     "elapsed": 330,
     "status": "ok",
     "timestamp": 1631016606856,
     "user": {
      "displayName": "Даниил Русланович Махоткин",
      "photoUrl": "",
      "userId": "18336248573599285046"
     },
     "user_tz": -180
    },
    "id": "F8c9tYGNHGku",
    "outputId": "ad79b522-9540-44bd-b94c-aa7b0f15e68e"
   },
   "outputs": [
    {
     "data": {
      "text/html": [
       "<div>\n",
       "<style scoped>\n",
       "    .dataframe tbody tr th:only-of-type {\n",
       "        vertical-align: middle;\n",
       "    }\n",
       "\n",
       "    .dataframe tbody tr th {\n",
       "        vertical-align: top;\n",
       "    }\n",
       "\n",
       "    .dataframe thead th {\n",
       "        text-align: right;\n",
       "    }\n",
       "</style>\n",
       "<table border=\"1\" class=\"dataframe\">\n",
       "  <thead>\n",
       "    <tr style=\"text-align: right;\">\n",
       "      <th></th>\n",
       "      <th>Date</th>\n",
       "      <th>Time</th>\n",
       "      <th>Location</th>\n",
       "      <th>Operator</th>\n",
       "      <th>Flight #</th>\n",
       "      <th>Route</th>\n",
       "      <th>Type</th>\n",
       "      <th>Registration</th>\n",
       "      <th>cn/In</th>\n",
       "      <th>Aboard</th>\n",
       "      <th>...</th>\n",
       "      <th>year</th>\n",
       "      <th>month</th>\n",
       "      <th>day</th>\n",
       "      <th>day of week</th>\n",
       "      <th>Hours</th>\n",
       "      <th>all_victims</th>\n",
       "      <th>0</th>\n",
       "      <th>1</th>\n",
       "      <th>2</th>\n",
       "      <th>3</th>\n",
       "    </tr>\n",
       "  </thead>\n",
       "  <tbody>\n",
       "    <tr>\n",
       "      <th>0</th>\n",
       "      <td>1908-09-17</td>\n",
       "      <td>2022-09-04 17:18:00</td>\n",
       "      <td>Fort Myer, Virginia</td>\n",
       "      <td>Military - U.S. Army</td>\n",
       "      <td>NaN</td>\n",
       "      <td>Demonstration</td>\n",
       "      <td>Wright Flyer III</td>\n",
       "      <td>NaN</td>\n",
       "      <td>1</td>\n",
       "      <td>2.0</td>\n",
       "      <td>...</td>\n",
       "      <td>1908</td>\n",
       "      <td>9</td>\n",
       "      <td>17</td>\n",
       "      <td>3</td>\n",
       "      <td>17.0</td>\n",
       "      <td>1.0</td>\n",
       "      <td>Fort Myer</td>\n",
       "      <td>Virginia</td>\n",
       "      <td>None</td>\n",
       "      <td>Virginia</td>\n",
       "    </tr>\n",
       "    <tr>\n",
       "      <th>1</th>\n",
       "      <td>1912-07-12</td>\n",
       "      <td>2022-09-04 06:30:00</td>\n",
       "      <td>AtlantiCity, New Jersey</td>\n",
       "      <td>Military - U.S. Navy</td>\n",
       "      <td>NaN</td>\n",
       "      <td>Test flight</td>\n",
       "      <td>Dirigible</td>\n",
       "      <td>NaN</td>\n",
       "      <td>NaN</td>\n",
       "      <td>5.0</td>\n",
       "      <td>...</td>\n",
       "      <td>1912</td>\n",
       "      <td>7</td>\n",
       "      <td>12</td>\n",
       "      <td>4</td>\n",
       "      <td>6.0</td>\n",
       "      <td>5.0</td>\n",
       "      <td>AtlantiCity</td>\n",
       "      <td>New Jersey</td>\n",
       "      <td>None</td>\n",
       "      <td>New Jersey</td>\n",
       "    </tr>\n",
       "  </tbody>\n",
       "</table>\n",
       "<p>2 rows × 23 columns</p>\n",
       "</div>"
      ],
      "text/plain": [
       "        Date                Time                 Location  \\\n",
       "0 1908-09-17 2022-09-04 17:18:00      Fort Myer, Virginia   \n",
       "1 1912-07-12 2022-09-04 06:30:00  AtlantiCity, New Jersey   \n",
       "\n",
       "               Operator Flight #          Route              Type  \\\n",
       "0  Military - U.S. Army      NaN  Demonstration  Wright Flyer III   \n",
       "1  Military - U.S. Navy      NaN    Test flight         Dirigible   \n",
       "\n",
       "  Registration cn/In  Aboard  ...  year  month day  day of week  Hours  \\\n",
       "0          NaN     1     2.0  ...  1908      9  17            3   17.0   \n",
       "1          NaN   NaN     5.0  ...  1912      7  12            4    6.0   \n",
       "\n",
       "   all_victims            0            1     2            3  \n",
       "0          1.0    Fort Myer     Virginia  None     Virginia  \n",
       "1          5.0  AtlantiCity   New Jersey  None   New Jersey  \n",
       "\n",
       "[2 rows x 23 columns]"
      ]
     },
     "execution_count": 68,
     "metadata": {},
     "output_type": "execute_result"
    }
   ],
   "source": [
    "# объединим таблицы с помощью pd.merge()\n",
    "df_full = pd.merge(df, loc, left_index=True, right_index=True)\n",
    "df_full.head(2)"
   ]
  },
  {
   "cell_type": "code",
   "execution_count": 69,
   "metadata": {
    "colab": {
     "base_uri": "https://localhost:8080/",
     "height": 353
    },
    "executionInfo": {
     "elapsed": 8,
     "status": "ok",
     "timestamp": 1631016606857,
     "user": {
      "displayName": "Даниил Русланович Махоткин",
      "photoUrl": "",
      "userId": "18336248573599285046"
     },
     "user_tz": -180
    },
    "id": "XDbL6fy3HGkx",
    "outputId": "b693d4e1-c841-42fc-c3f7-fe6284416c36"
   },
   "outputs": [
    {
     "data": {
      "text/html": [
       "<div>\n",
       "<style scoped>\n",
       "    .dataframe tbody tr th:only-of-type {\n",
       "        vertical-align: middle;\n",
       "    }\n",
       "\n",
       "    .dataframe tbody tr th {\n",
       "        vertical-align: top;\n",
       "    }\n",
       "\n",
       "    .dataframe thead th {\n",
       "        text-align: right;\n",
       "    }\n",
       "</style>\n",
       "<table border=\"1\" class=\"dataframe\">\n",
       "  <thead>\n",
       "    <tr style=\"text-align: right;\">\n",
       "      <th></th>\n",
       "      <th>Date</th>\n",
       "      <th>Time</th>\n",
       "      <th>Country</th>\n",
       "      <th>Operator</th>\n",
       "      <th>Flight #</th>\n",
       "      <th>Route</th>\n",
       "      <th>Type</th>\n",
       "      <th>Registration</th>\n",
       "      <th>cn/In</th>\n",
       "      <th>Aboard</th>\n",
       "      <th>Fatalities</th>\n",
       "      <th>Ground</th>\n",
       "      <th>Summary</th>\n",
       "      <th>year</th>\n",
       "      <th>month</th>\n",
       "      <th>day</th>\n",
       "      <th>day of week</th>\n",
       "      <th>Hours</th>\n",
       "      <th>all_victims</th>\n",
       "      <th>3</th>\n",
       "    </tr>\n",
       "  </thead>\n",
       "  <tbody>\n",
       "    <tr>\n",
       "      <th>0</th>\n",
       "      <td>1908-09-17</td>\n",
       "      <td>2022-09-04 17:18:00</td>\n",
       "      <td>Fort Myer, Virginia</td>\n",
       "      <td>Military - U.S. Army</td>\n",
       "      <td>NaN</td>\n",
       "      <td>Demonstration</td>\n",
       "      <td>Wright Flyer III</td>\n",
       "      <td>NaN</td>\n",
       "      <td>1</td>\n",
       "      <td>2.0</td>\n",
       "      <td>1.0</td>\n",
       "      <td>0.0</td>\n",
       "      <td>During a demonstration flight, a U.S. Army fly...</td>\n",
       "      <td>1908</td>\n",
       "      <td>9</td>\n",
       "      <td>17</td>\n",
       "      <td>3</td>\n",
       "      <td>17.0</td>\n",
       "      <td>1.0</td>\n",
       "      <td>Virginia</td>\n",
       "    </tr>\n",
       "    <tr>\n",
       "      <th>1</th>\n",
       "      <td>1912-07-12</td>\n",
       "      <td>2022-09-04 06:30:00</td>\n",
       "      <td>AtlantiCity, New Jersey</td>\n",
       "      <td>Military - U.S. Navy</td>\n",
       "      <td>NaN</td>\n",
       "      <td>Test flight</td>\n",
       "      <td>Dirigible</td>\n",
       "      <td>NaN</td>\n",
       "      <td>NaN</td>\n",
       "      <td>5.0</td>\n",
       "      <td>5.0</td>\n",
       "      <td>0.0</td>\n",
       "      <td>First U.S. dirigible Akron exploded just offsh...</td>\n",
       "      <td>1912</td>\n",
       "      <td>7</td>\n",
       "      <td>12</td>\n",
       "      <td>4</td>\n",
       "      <td>6.0</td>\n",
       "      <td>5.0</td>\n",
       "      <td>New Jersey</td>\n",
       "    </tr>\n",
       "    <tr>\n",
       "      <th>2</th>\n",
       "      <td>1913-08-06</td>\n",
       "      <td>NaT</td>\n",
       "      <td>Victoria, British Columbia, Canada</td>\n",
       "      <td>Private</td>\n",
       "      <td>-</td>\n",
       "      <td>NaN</td>\n",
       "      <td>Curtiss seaplane</td>\n",
       "      <td>NaN</td>\n",
       "      <td>NaN</td>\n",
       "      <td>1.0</td>\n",
       "      <td>1.0</td>\n",
       "      <td>0.0</td>\n",
       "      <td>The first fatal airplane accident in Canada oc...</td>\n",
       "      <td>1913</td>\n",
       "      <td>8</td>\n",
       "      <td>6</td>\n",
       "      <td>2</td>\n",
       "      <td>NaN</td>\n",
       "      <td>1.0</td>\n",
       "      <td>Canada</td>\n",
       "    </tr>\n",
       "  </tbody>\n",
       "</table>\n",
       "</div>"
      ],
      "text/plain": [
       "        Date                Time                             Country  \\\n",
       "0 1908-09-17 2022-09-04 17:18:00                 Fort Myer, Virginia   \n",
       "1 1912-07-12 2022-09-04 06:30:00             AtlantiCity, New Jersey   \n",
       "2 1913-08-06                 NaT  Victoria, British Columbia, Canada   \n",
       "\n",
       "               Operator Flight #          Route              Type  \\\n",
       "0  Military - U.S. Army      NaN  Demonstration  Wright Flyer III   \n",
       "1  Military - U.S. Navy      NaN    Test flight         Dirigible   \n",
       "2               Private        -            NaN  Curtiss seaplane   \n",
       "\n",
       "  Registration cn/In  Aboard  Fatalities  Ground  \\\n",
       "0          NaN     1     2.0         1.0     0.0   \n",
       "1          NaN   NaN     5.0         5.0     0.0   \n",
       "2          NaN   NaN     1.0         1.0     0.0   \n",
       "\n",
       "                                             Summary  year  month  day  \\\n",
       "0  During a demonstration flight, a U.S. Army fly...  1908      9   17   \n",
       "1  First U.S. dirigible Akron exploded just offsh...  1912      7   12   \n",
       "2  The first fatal airplane accident in Canada oc...  1913      8    6   \n",
       "\n",
       "   day of week  Hours  all_victims            3  \n",
       "0            3   17.0          1.0     Virginia  \n",
       "1            4    6.0          5.0   New Jersey  \n",
       "2            2    NaN          1.0       Canada  "
      ]
     },
     "execution_count": 69,
     "metadata": {},
     "output_type": "execute_result"
    }
   ],
   "source": [
    "# Удалим колонки '0', '1', '2' с помощью .drop() \n",
    "# переименуем колонку '3' в  'Country' (по крайней мере мы надеемся, что там страна)\n",
    "df_full = df_full.drop([0,1,2], axis=1)\n",
    "df_full.columns.values[2] = 'Country'\n",
    "df_full.head(3)"
   ]
  },
  {
   "cell_type": "code",
   "execution_count": 70,
   "metadata": {
    "id": "AWuR8r4RHGkz"
   },
   "outputs": [],
   "source": [
    "# Сделаем признаки: Day_period и Holiday с помощью .apply(lambda x: ...)\n",
    "\n",
    "def get_day_time(hour):\n",
    "    return {\n",
    "          0 <= hour < 6:   'Ночь',\n",
    "          6 <= hour < 11:  'Утро',\n",
    "         11 <= hour < 19:  'День',\n",
    "         19 <= hour < 23:  'Вечер',\n",
    "         23 <= hour < 25:  'Ночь'\n",
    "    }[True]\n",
    "        \n",
    "df_full['Day_period'] = df_full['Hours'].fillna(0).apply(lambda x: get_day_time(x))\n",
    "df_full['Holiday'] = df_full['day of week'].fillna(0).apply(lambda x: 1 if x >= 5 else 0) \n",
    "\n",
    "# .map на самостоятельное изучение"
   ]
  },
  {
   "cell_type": "markdown",
   "metadata": {},
   "source": [
    "Можно сказать, что ```apply``` работает на основе строк/столбцов ```DataFrame```, ```applymap``` работает поэлементно в ```DataFrame```, а ```map``` работает поэлементно в ```Series```."
   ]
  },
  {
   "cell_type": "markdown",
   "metadata": {
    "id": "Qn9_bSHIHGk1"
   },
   "source": [
    "## 2.5. Сводные таблицы, группировка и агрегация данных "
   ]
  },
  {
   "cell_type": "code",
   "execution_count": 71,
   "metadata": {
    "colab": {
     "base_uri": "https://localhost:8080/",
     "height": 393
    },
    "executionInfo": {
     "elapsed": 7,
     "status": "ok",
     "timestamp": 1631016608472,
     "user": {
      "displayName": "Даниил Русланович Махоткин",
      "photoUrl": "",
      "userId": "18336248573599285046"
     },
     "user_tz": -180
    },
    "id": "y58fNqMhHGk2",
    "outputId": "02f8641f-44ee-4034-8fcd-e04f3ea6d932"
   },
   "outputs": [
    {
     "data": {
      "text/html": [
       "<div>\n",
       "<style scoped>\n",
       "    .dataframe tbody tr th:only-of-type {\n",
       "        vertical-align: middle;\n",
       "    }\n",
       "\n",
       "    .dataframe tbody tr th {\n",
       "        vertical-align: top;\n",
       "    }\n",
       "\n",
       "    .dataframe thead th {\n",
       "        text-align: right;\n",
       "    }\n",
       "</style>\n",
       "<table border=\"1\" class=\"dataframe\">\n",
       "  <thead>\n",
       "    <tr style=\"text-align: right;\">\n",
       "      <th></th>\n",
       "      <th>Aboard</th>\n",
       "      <th>Fatalities</th>\n",
       "      <th>Ground</th>\n",
       "      <th>month</th>\n",
       "      <th>day</th>\n",
       "      <th>day of week</th>\n",
       "      <th>Hours</th>\n",
       "      <th>all_victims</th>\n",
       "      <th>Holiday</th>\n",
       "    </tr>\n",
       "    <tr>\n",
       "      <th>year</th>\n",
       "      <th></th>\n",
       "      <th></th>\n",
       "      <th></th>\n",
       "      <th></th>\n",
       "      <th></th>\n",
       "      <th></th>\n",
       "      <th></th>\n",
       "      <th></th>\n",
       "      <th></th>\n",
       "    </tr>\n",
       "  </thead>\n",
       "  <tbody>\n",
       "    <tr>\n",
       "      <th>2001</th>\n",
       "      <td>2111.0</td>\n",
       "      <td>1398.0</td>\n",
       "      <td>5641.0</td>\n",
       "      <td>486</td>\n",
       "      <td>1054</td>\n",
       "      <td>200</td>\n",
       "      <td>773.0</td>\n",
       "      <td>7039.0</td>\n",
       "      <td>18</td>\n",
       "    </tr>\n",
       "    <tr>\n",
       "      <th>1972</th>\n",
       "      <td>3635.0</td>\n",
       "      <td>2937.0</td>\n",
       "      <td>30.0</td>\n",
       "      <td>695</td>\n",
       "      <td>1690</td>\n",
       "      <td>319</td>\n",
       "      <td>801.0</td>\n",
       "      <td>2967.0</td>\n",
       "      <td>28</td>\n",
       "    </tr>\n",
       "    <tr>\n",
       "      <th>1985</th>\n",
       "      <td>3480.0</td>\n",
       "      <td>2670.0</td>\n",
       "      <td>1.0</td>\n",
       "      <td>451</td>\n",
       "      <td>1232</td>\n",
       "      <td>214</td>\n",
       "      <td>587.0</td>\n",
       "      <td>2671.0</td>\n",
       "      <td>15</td>\n",
       "    </tr>\n",
       "    <tr>\n",
       "      <th>1996</th>\n",
       "      <td>3058.0</td>\n",
       "      <td>2386.0</td>\n",
       "      <td>284.0</td>\n",
       "      <td>555</td>\n",
       "      <td>1192</td>\n",
       "      <td>230</td>\n",
       "      <td>894.0</td>\n",
       "      <td>2670.0</td>\n",
       "      <td>22</td>\n",
       "    </tr>\n",
       "    <tr>\n",
       "      <th>1973</th>\n",
       "      <td>3433.0</td>\n",
       "      <td>2485.0</td>\n",
       "      <td>16.0</td>\n",
       "      <td>581</td>\n",
       "      <td>1568</td>\n",
       "      <td>241</td>\n",
       "      <td>699.0</td>\n",
       "      <td>2501.0</td>\n",
       "      <td>23</td>\n",
       "    </tr>\n",
       "    <tr>\n",
       "      <th>1989</th>\n",
       "      <td>3643.0</td>\n",
       "      <td>2293.0</td>\n",
       "      <td>79.0</td>\n",
       "      <td>672</td>\n",
       "      <td>1729</td>\n",
       "      <td>270</td>\n",
       "      <td>763.0</td>\n",
       "      <td>2372.0</td>\n",
       "      <td>20</td>\n",
       "    </tr>\n",
       "    <tr>\n",
       "      <th>1974</th>\n",
       "      <td>3064.0</td>\n",
       "      <td>2318.0</td>\n",
       "      <td>0.0</td>\n",
       "      <td>543</td>\n",
       "      <td>1306</td>\n",
       "      <td>288</td>\n",
       "      <td>677.0</td>\n",
       "      <td>2318.0</td>\n",
       "      <td>29</td>\n",
       "    </tr>\n",
       "    <tr>\n",
       "      <th>1976</th>\n",
       "      <td>2629.0</td>\n",
       "      <td>2059.0</td>\n",
       "      <td>143.0</td>\n",
       "      <td>536</td>\n",
       "      <td>1224</td>\n",
       "      <td>271</td>\n",
       "      <td>567.0</td>\n",
       "      <td>2202.0</td>\n",
       "      <td>26</td>\n",
       "    </tr>\n",
       "    <tr>\n",
       "      <th>1992</th>\n",
       "      <td>2965.0</td>\n",
       "      <td>2122.0</td>\n",
       "      <td>69.0</td>\n",
       "      <td>593</td>\n",
       "      <td>1537</td>\n",
       "      <td>236</td>\n",
       "      <td>594.0</td>\n",
       "      <td>2191.0</td>\n",
       "      <td>20</td>\n",
       "    </tr>\n",
       "    <tr>\n",
       "      <th>1968</th>\n",
       "      <td>2928.0</td>\n",
       "      <td>2156.0</td>\n",
       "      <td>16.0</td>\n",
       "      <td>630</td>\n",
       "      <td>1501</td>\n",
       "      <td>261</td>\n",
       "      <td>812.0</td>\n",
       "      <td>2172.0</td>\n",
       "      <td>23</td>\n",
       "    </tr>\n",
       "  </tbody>\n",
       "</table>\n",
       "</div>"
      ],
      "text/plain": [
       "      Aboard  Fatalities  Ground  month   day  day of week  Hours  \\\n",
       "year                                                                \n",
       "2001  2111.0      1398.0  5641.0    486  1054          200  773.0   \n",
       "1972  3635.0      2937.0    30.0    695  1690          319  801.0   \n",
       "1985  3480.0      2670.0     1.0    451  1232          214  587.0   \n",
       "1996  3058.0      2386.0   284.0    555  1192          230  894.0   \n",
       "1973  3433.0      2485.0    16.0    581  1568          241  699.0   \n",
       "1989  3643.0      2293.0    79.0    672  1729          270  763.0   \n",
       "1974  3064.0      2318.0     0.0    543  1306          288  677.0   \n",
       "1976  2629.0      2059.0   143.0    536  1224          271  567.0   \n",
       "1992  2965.0      2122.0    69.0    593  1537          236  594.0   \n",
       "1968  2928.0      2156.0    16.0    630  1501          261  812.0   \n",
       "\n",
       "      all_victims  Holiday  \n",
       "year                        \n",
       "2001       7039.0       18  \n",
       "1972       2967.0       28  \n",
       "1985       2671.0       15  \n",
       "1996       2670.0       22  \n",
       "1973       2501.0       23  \n",
       "1989       2372.0       20  \n",
       "1974       2318.0       29  \n",
       "1976       2202.0       26  \n",
       "1992       2191.0       20  \n",
       "1968       2172.0       23  "
      ]
     },
     "execution_count": 71,
     "metadata": {},
     "output_type": "execute_result"
    }
   ],
   "source": [
    "# C помощью .groupby посчитайте сумму жертв по годам. Затем отсортируйте их по убыванию и сделайте топ-10 \n",
    "df_full.groupby('year').sum().sort_values('all_victims', ascending=False).head(10)"
   ]
  },
  {
   "cell_type": "code",
   "execution_count": 72,
   "metadata": {
    "colab": {
     "base_uri": "https://localhost:8080/",
     "height": 318
    },
    "executionInfo": {
     "elapsed": 637,
     "status": "ok",
     "timestamp": 1631016609453,
     "user": {
      "displayName": "Даниил Русланович Махоткин",
      "photoUrl": "",
      "userId": "18336248573599285046"
     },
     "user_tz": -180
    },
    "id": "8LexwJoDHGk4",
    "outputId": "66adf548-1584-4e1e-c355-53759cffb52f"
   },
   "outputs": [
    {
     "data": {
      "image/png": "[encoded data removed]",
      "text/plain": [
       "<Figure size 1080x576 with 1 Axes>"
      ]
     },
     "metadata": {},
     "output_type": "display_data"
    }
   ],
   "source": [
    "# Нарисуйте график all_victims, Aboard, Fatalities для каждого года\n",
    "df.groupby('year').sum()[['all_victims', 'Ground', 'Fatalities']].plot(rot=45) #kind='bar'\n",
    "plt.title('Количество жерт по годам')\n",
    "plt.show()"
   ]
  },
  {
   "cell_type": "code",
   "execution_count": 73,
   "metadata": {
    "colab": {
     "base_uri": "https://localhost:8080/",
     "height": 236
    },
    "executionInfo": {
     "elapsed": 12,
     "status": "ok",
     "timestamp": 1631016609454,
     "user": {
      "displayName": "Даниил Русланович Махоткин",
      "photoUrl": "",
      "userId": "18336248573599285046"
     },
     "user_tz": -180
    },
    "id": "8o-XzFJOHGk7",
    "outputId": "0fec111b-b2d8-4b0d-dd54-52566c7d1fee"
   },
   "outputs": [
    {
     "data": {
      "text/html": [
       "<div>\n",
       "<style scoped>\n",
       "    .dataframe tbody tr th:only-of-type {\n",
       "        vertical-align: middle;\n",
       "    }\n",
       "\n",
       "    .dataframe tbody tr th {\n",
       "        vertical-align: top;\n",
       "    }\n",
       "\n",
       "    .dataframe thead th {\n",
       "        text-align: right;\n",
       "    }\n",
       "</style>\n",
       "<table border=\"1\" class=\"dataframe\">\n",
       "  <thead>\n",
       "    <tr style=\"text-align: right;\">\n",
       "      <th></th>\n",
       "      <th>Aboard</th>\n",
       "      <th>Fatalities</th>\n",
       "      <th>Ground</th>\n",
       "      <th>all_victims</th>\n",
       "      <th>count</th>\n",
       "    </tr>\n",
       "    <tr>\n",
       "      <th>year</th>\n",
       "      <th></th>\n",
       "      <th></th>\n",
       "      <th></th>\n",
       "      <th></th>\n",
       "      <th></th>\n",
       "    </tr>\n",
       "  </thead>\n",
       "  <tbody>\n",
       "    <tr>\n",
       "      <th>2005</th>\n",
       "      <td>2164.0</td>\n",
       "      <td>1306.0</td>\n",
       "      <td>59.0</td>\n",
       "      <td>1365.0</td>\n",
       "      <td>51</td>\n",
       "    </tr>\n",
       "    <tr>\n",
       "      <th>2006</th>\n",
       "      <td>1413.0</td>\n",
       "      <td>1136.0</td>\n",
       "      <td>4.0</td>\n",
       "      <td>1140.0</td>\n",
       "      <td>49</td>\n",
       "    </tr>\n",
       "    <tr>\n",
       "      <th>2007</th>\n",
       "      <td>1364.0</td>\n",
       "      <td>931.0</td>\n",
       "      <td>57.0</td>\n",
       "      <td>988.0</td>\n",
       "      <td>54</td>\n",
       "    </tr>\n",
       "    <tr>\n",
       "      <th>2008</th>\n",
       "      <td>1463.0</td>\n",
       "      <td>820.0</td>\n",
       "      <td>60.0</td>\n",
       "      <td>880.0</td>\n",
       "      <td>62</td>\n",
       "    </tr>\n",
       "    <tr>\n",
       "      <th>2009</th>\n",
       "      <td>891.0</td>\n",
       "      <td>581.0</td>\n",
       "      <td>3.0</td>\n",
       "      <td>580.0</td>\n",
       "      <td>23</td>\n",
       "    </tr>\n",
       "  </tbody>\n",
       "</table>\n",
       "</div>"
      ],
      "text/plain": [
       "      Aboard  Fatalities  Ground  all_victims  count\n",
       "year                                                \n",
       "2005  2164.0      1306.0    59.0       1365.0     51\n",
       "2006  1413.0      1136.0     4.0       1140.0     49\n",
       "2007  1364.0       931.0    57.0        988.0     54\n",
       "2008  1463.0       820.0    60.0        880.0     62\n",
       "2009   891.0       581.0     3.0        580.0     23"
      ]
     },
     "execution_count": 73,
     "metadata": {},
     "output_type": "execute_result"
    }
   ],
   "source": [
    "# Посчитайте кол-во Инцидентов и жертв по годам. На этот раз используйте .pivot_table()\n",
    "\n",
    "crashes_by_year = pd.pivot_table(df_full, index='year', values=['Aboard','Fatalities','Ground','all_victims'], aggfunc='sum')\n",
    "crashes_by_year['count'] =  pd.pivot_table(df_full, index='year', values=['all_victims'], aggfunc='count').values.T[0]\n",
    "crashes_by_year.tail()"
   ]
  },
  {
   "cell_type": "code",
   "execution_count": 74,
   "metadata": {
    "id": "XnvA4jTsHGk-"
   },
   "outputs": [],
   "source": [
    "# Сколько жертв на инцидент? \n",
    "crashes_by_year['victims_on_incident'] = crashes_by_year['all_victims']/crashes_by_year['count']"
   ]
  },
  {
   "cell_type": "code",
   "execution_count": 75,
   "metadata": {
    "colab": {
     "base_uri": "https://localhost:8080/",
     "height": 236
    },
    "executionInfo": {
     "elapsed": 6,
     "status": "ok",
     "timestamp": 1631016609845,
     "user": {
      "displayName": "Даниил Русланович Махоткин",
      "photoUrl": "",
      "userId": "18336248573599285046"
     },
     "user_tz": -180
    },
    "id": "i01Ly0VRHGlB",
    "outputId": "42208e42-6fab-438c-f365-052277ce4bed"
   },
   "outputs": [
    {
     "data": {
      "text/html": [
       "<div>\n",
       "<style scoped>\n",
       "    .dataframe tbody tr th:only-of-type {\n",
       "        vertical-align: middle;\n",
       "    }\n",
       "\n",
       "    .dataframe tbody tr th {\n",
       "        vertical-align: top;\n",
       "    }\n",
       "\n",
       "    .dataframe thead th {\n",
       "        text-align: right;\n",
       "    }\n",
       "</style>\n",
       "<table border=\"1\" class=\"dataframe\">\n",
       "  <thead>\n",
       "    <tr style=\"text-align: right;\">\n",
       "      <th></th>\n",
       "      <th>Aboard</th>\n",
       "      <th>Fatalities</th>\n",
       "      <th>Ground</th>\n",
       "      <th>all_victims</th>\n",
       "      <th>count</th>\n",
       "      <th>victims_on_incident</th>\n",
       "    </tr>\n",
       "  </thead>\n",
       "  <tbody>\n",
       "    <tr>\n",
       "      <th>Aboard</th>\n",
       "      <td>1.000000</td>\n",
       "      <td>0.971557</td>\n",
       "      <td>0.088475</td>\n",
       "      <td>0.809457</td>\n",
       "      <td>0.911233</td>\n",
       "      <td>0.638954</td>\n",
       "    </tr>\n",
       "    <tr>\n",
       "      <th>Fatalities</th>\n",
       "      <td>0.971557</td>\n",
       "      <td>1.000000</td>\n",
       "      <td>0.073032</td>\n",
       "      <td>0.822771</td>\n",
       "      <td>0.921589</td>\n",
       "      <td>0.649083</td>\n",
       "    </tr>\n",
       "    <tr>\n",
       "      <th>Ground</th>\n",
       "      <td>0.088475</td>\n",
       "      <td>0.073032</td>\n",
       "      <td>1.000000</td>\n",
       "      <td>0.626929</td>\n",
       "      <td>0.092734</td>\n",
       "      <td>0.722433</td>\n",
       "    </tr>\n",
       "    <tr>\n",
       "      <th>all_victims</th>\n",
       "      <td>0.809457</td>\n",
       "      <td>0.822771</td>\n",
       "      <td>0.626929</td>\n",
       "      <td>1.000000</td>\n",
       "      <td>0.772748</td>\n",
       "      <td>0.918634</td>\n",
       "    </tr>\n",
       "    <tr>\n",
       "      <th>count</th>\n",
       "      <td>0.911233</td>\n",
       "      <td>0.921589</td>\n",
       "      <td>0.092734</td>\n",
       "      <td>0.772748</td>\n",
       "      <td>1.000000</td>\n",
       "      <td>0.550019</td>\n",
       "    </tr>\n",
       "    <tr>\n",
       "      <th>victims_on_incident</th>\n",
       "      <td>0.638954</td>\n",
       "      <td>0.649083</td>\n",
       "      <td>0.722433</td>\n",
       "      <td>0.918634</td>\n",
       "      <td>0.550019</td>\n",
       "      <td>1.000000</td>\n",
       "    </tr>\n",
       "  </tbody>\n",
       "</table>\n",
       "</div>"
      ],
      "text/plain": [
       "                       Aboard  Fatalities    Ground  all_victims     count  \\\n",
       "Aboard               1.000000    0.971557  0.088475     0.809457  0.911233   \n",
       "Fatalities           0.971557    1.000000  0.073032     0.822771  0.921589   \n",
       "Ground               0.088475    0.073032  1.000000     0.626929  0.092734   \n",
       "all_victims          0.809457    0.822771  0.626929     1.000000  0.772748   \n",
       "count                0.911233    0.921589  0.092734     0.772748  1.000000   \n",
       "victims_on_incident  0.638954    0.649083  0.722433     0.918634  0.550019   \n",
       "\n",
       "                     victims_on_incident  \n",
       "Aboard                          0.638954  \n",
       "Fatalities                      0.649083  \n",
       "Ground                          0.722433  \n",
       "all_victims                     0.918634  \n",
       "count                           0.550019  \n",
       "victims_on_incident             1.000000  "
      ]
     },
     "execution_count": 75,
     "metadata": {},
     "output_type": "execute_result"
    }
   ],
   "source": [
    "# существует ли корреляция между всеми праметрами? \n",
    "crashes_by_year.corr()"
   ]
  },
  {
   "cell_type": "code",
   "execution_count": 76,
   "metadata": {
    "colab": {
     "base_uri": "https://localhost:8080/",
     "height": 371
    },
    "executionInfo": {
     "elapsed": 387,
     "status": "ok",
     "timestamp": 1631016610227,
     "user": {
      "displayName": "Даниил Русланович Махоткин",
      "photoUrl": "",
      "userId": "18336248573599285046"
     },
     "user_tz": -180
    },
    "id": "ZURioUJdHGlD",
    "outputId": "da2c4c5b-e275-4b12-edc6-9079e7e2b9e7"
   },
   "outputs": [
    {
     "data": {
      "image/png": "[encoded data removed]",
      "text/plain": [
       "<Figure size 1080x576 with 2 Axes>"
      ]
     },
     "metadata": {},
     "output_type": "display_data"
    }
   ],
   "source": [
    "#Отрисуйте heatmap корреляции для более хорошего визульного представления - используйте sns.heatmap() \n",
    "\n",
    "sns.heatmap(crashes_by_year.corr(), \n",
    "         vmin=-1, vmax=1,annot=True, cmap='RdBu',)\n",
    "plt.show()"
   ]
  },
  {
   "cell_type": "markdown",
   "metadata": {
    "id": "nyzJEmA3rFbL"
   },
   "source": [
    "## 2.6. Очистка данных\n",
    "\n",
    "Данные достаточно чистые, в них вряд ли есть какие-то ошибки и не получается с первого взгляда найти выбросы (outliers). Поэтому и очищать особо нечего. \n",
    "\n",
    "---\n",
    "Но в реальной жизни, ваши данные скорее всего будут полны мусора.\n",
    "Чаще всего нам пришлось бы убирать выбросы, исправлять очевидные ошибки итд."
   ]
  },
  {
   "cell_type": "markdown",
   "metadata": {
    "id": "NaBAX60Qkedi"
   },
   "source": [
    "## 2.7. Создание фичей\n",
    "\n",
    "Чем сложнее зависимость между фичей и таргетом, тем более сложная модель потребуется, чтобы эту зависимость использовать. Почему бы просто не выбрать семейство самых гибких моделей? Проблема в том, что без большого количества данных для обучения будет происходить overfit. Это значит, что модель выучит зависимости, которые случайно появились в обучающих из-за ограниченного размера выборки. Такая модель будет хорошо работать на обучающей выборке, но будет плохо справляться с реальной задачей.\n",
    "\n",
    "Используя человеческие знания об устройстве мира, мы можем упростить такую зависимость, создав новые признаки. На самом деле, можно даже не использовать человеческие знания, а просто применить какой-нибудь алгоритм. Например, если у нас есть признаки $x_1, x_2, ..., x_n$, то мы можем добавить новые признаки вида \n",
    "$$x_{newij} = x_i x_j, i \\ne j$$\n",
    "и понадеяться, что это улучшит предсказания\n",
    "\n",
    "---\n",
    "\n",
    "-- Порассуждаем! В данном примере какие признаки наиболее значимые?"
   ]
  },
  {
   "cell_type": "markdown",
   "metadata": {
    "id": "gJMjpLeky3fq"
   },
   "source": [
    "## 2.8. Работа с категориальными признаками\n",
    "\n",
    "Большинство алгоритмов не принимает категориальные признаки в чистом виде и нужно их как-то закодировать.\n",
    "\n",
    "С категориальными признаками в виде строк/булевых значений/etc умеет работать только catboost (библиотека от Яндекса, реализующая градиентный бустинг). Для xgboost и lightgbm категориальные признаки нужно превратить в числа. Градиентный бустинг в sklearn вообще не умеет по-особенному обрабатывать категориальные признаки и их нужно кодировать как и для других алгоритмов."
   ]
  },
  {
   "cell_type": "markdown",
   "metadata": {
    "id": "aBUWujK4y3fr"
   },
   "source": [
    "### One-hot-encoding\n",
    "Самый простой способ закодировать категориальные признаки - one hot encoding. Представьте, что у нас есть категориальная фича day_of_week с возможными значениями \n",
    "> ['Mon', 'Tue', 'Wedn', 'thur', 'fri', 'sat', 'sun']\n",
    "\n",
    "мы можем создать 7 новых бинарные фичей для каждого из столбцов\n",
    "\n",
    "> 'Mon' -> [1, 0, 0, 0, 0, 0, 0]\n",
    "\n",
    "В pandas очень удобно использовать get_dummies для one-hot-encoding"
   ]
  },
  {
   "cell_type": "code",
   "execution_count": 77,
   "metadata": {
    "colab": {
     "base_uri": "https://localhost:8080/",
     "height": 268
    },
    "executionInfo": {
     "elapsed": 6,
     "status": "ok",
     "timestamp": 1631016610907,
     "user": {
      "displayName": "Даниил Русланович Махоткин",
      "photoUrl": "",
      "userId": "18336248573599285046"
     },
     "user_tz": -180
    },
    "id": "Zf7ueaAYy3fs",
    "outputId": "2eef62f5-5ceb-4cac-8e56-4236587bb128"
   },
   "outputs": [
    {
     "data": {
      "text/html": [
       "<div>\n",
       "<style scoped>\n",
       "    .dataframe tbody tr th:only-of-type {\n",
       "        vertical-align: middle;\n",
       "    }\n",
       "\n",
       "    .dataframe tbody tr th {\n",
       "        vertical-align: top;\n",
       "    }\n",
       "\n",
       "    .dataframe thead th {\n",
       "        text-align: right;\n",
       "    }\n",
       "</style>\n",
       "<table border=\"1\" class=\"dataframe\">\n",
       "  <thead>\n",
       "    <tr style=\"text-align: right;\">\n",
       "      <th></th>\n",
       "      <th>categorical</th>\n",
       "    </tr>\n",
       "  </thead>\n",
       "  <tbody>\n",
       "    <tr>\n",
       "      <th>0</th>\n",
       "      <td>Mon</td>\n",
       "    </tr>\n",
       "    <tr>\n",
       "      <th>1</th>\n",
       "      <td>Tue</td>\n",
       "    </tr>\n",
       "    <tr>\n",
       "      <th>2</th>\n",
       "      <td>Wedn</td>\n",
       "    </tr>\n",
       "    <tr>\n",
       "      <th>3</th>\n",
       "      <td>thur</td>\n",
       "    </tr>\n",
       "    <tr>\n",
       "      <th>4</th>\n",
       "      <td>fri</td>\n",
       "    </tr>\n",
       "    <tr>\n",
       "      <th>5</th>\n",
       "      <td>sat</td>\n",
       "    </tr>\n",
       "    <tr>\n",
       "      <th>6</th>\n",
       "      <td>sun</td>\n",
       "    </tr>\n",
       "  </tbody>\n",
       "</table>\n",
       "</div>"
      ],
      "text/plain": [
       "  categorical\n",
       "0         Mon\n",
       "1         Tue\n",
       "2        Wedn\n",
       "3        thur\n",
       "4         fri\n",
       "5         sat\n",
       "6         sun"
      ]
     },
     "execution_count": 77,
     "metadata": {},
     "output_type": "execute_result"
    }
   ],
   "source": [
    "a = pd.DataFrame.from_dict({'categorical': ['Mon', 'Tue', 'Wedn', 'thur', 'fri', 'sat', 'sun']})\n",
    "a"
   ]
  },
  {
   "cell_type": "code",
   "execution_count": 78,
   "metadata": {
    "colab": {
     "base_uri": "https://localhost:8080/",
     "height": 268
    },
    "executionInfo": {
     "elapsed": 6,
     "status": "ok",
     "timestamp": 1631016611287,
     "user": {
      "displayName": "Даниил Русланович Махоткин",
      "photoUrl": "",
      "userId": "18336248573599285046"
     },
     "user_tz": -180
    },
    "id": "7TZRKn-Xy3fv",
    "outputId": "b2f2387a-978f-4542-b89a-1ca02e31253d"
   },
   "outputs": [
    {
     "data": {
      "text/html": [
       "<div>\n",
       "<style scoped>\n",
       "    .dataframe tbody tr th:only-of-type {\n",
       "        vertical-align: middle;\n",
       "    }\n",
       "\n",
       "    .dataframe tbody tr th {\n",
       "        vertical-align: top;\n",
       "    }\n",
       "\n",
       "    .dataframe thead th {\n",
       "        text-align: right;\n",
       "    }\n",
       "</style>\n",
       "<table border=\"1\" class=\"dataframe\">\n",
       "  <thead>\n",
       "    <tr style=\"text-align: right;\">\n",
       "      <th></th>\n",
       "      <th>categorical_Mon</th>\n",
       "      <th>categorical_Tue</th>\n",
       "      <th>categorical_Wedn</th>\n",
       "      <th>categorical_fri</th>\n",
       "      <th>categorical_sat</th>\n",
       "      <th>categorical_sun</th>\n",
       "      <th>categorical_thur</th>\n",
       "    </tr>\n",
       "  </thead>\n",
       "  <tbody>\n",
       "    <tr>\n",
       "      <th>0</th>\n",
       "      <td>1</td>\n",
       "      <td>0</td>\n",
       "      <td>0</td>\n",
       "      <td>0</td>\n",
       "      <td>0</td>\n",
       "      <td>0</td>\n",
       "      <td>0</td>\n",
       "    </tr>\n",
       "    <tr>\n",
       "      <th>1</th>\n",
       "      <td>0</td>\n",
       "      <td>1</td>\n",
       "      <td>0</td>\n",
       "      <td>0</td>\n",
       "      <td>0</td>\n",
       "      <td>0</td>\n",
       "      <td>0</td>\n",
       "    </tr>\n",
       "    <tr>\n",
       "      <th>2</th>\n",
       "      <td>0</td>\n",
       "      <td>0</td>\n",
       "      <td>1</td>\n",
       "      <td>0</td>\n",
       "      <td>0</td>\n",
       "      <td>0</td>\n",
       "      <td>0</td>\n",
       "    </tr>\n",
       "    <tr>\n",
       "      <th>3</th>\n",
       "      <td>0</td>\n",
       "      <td>0</td>\n",
       "      <td>0</td>\n",
       "      <td>0</td>\n",
       "      <td>0</td>\n",
       "      <td>0</td>\n",
       "      <td>1</td>\n",
       "    </tr>\n",
       "    <tr>\n",
       "      <th>4</th>\n",
       "      <td>0</td>\n",
       "      <td>0</td>\n",
       "      <td>0</td>\n",
       "      <td>1</td>\n",
       "      <td>0</td>\n",
       "      <td>0</td>\n",
       "      <td>0</td>\n",
       "    </tr>\n",
       "    <tr>\n",
       "      <th>5</th>\n",
       "      <td>0</td>\n",
       "      <td>0</td>\n",
       "      <td>0</td>\n",
       "      <td>0</td>\n",
       "      <td>1</td>\n",
       "      <td>0</td>\n",
       "      <td>0</td>\n",
       "    </tr>\n",
       "    <tr>\n",
       "      <th>6</th>\n",
       "      <td>0</td>\n",
       "      <td>0</td>\n",
       "      <td>0</td>\n",
       "      <td>0</td>\n",
       "      <td>0</td>\n",
       "      <td>1</td>\n",
       "      <td>0</td>\n",
       "    </tr>\n",
       "  </tbody>\n",
       "</table>\n",
       "</div>"
      ],
      "text/plain": [
       "   categorical_Mon  categorical_Tue  categorical_Wedn  categorical_fri  \\\n",
       "0                1                0                 0                0   \n",
       "1                0                1                 0                0   \n",
       "2                0                0                 1                0   \n",
       "3                0                0                 0                0   \n",
       "4                0                0                 0                1   \n",
       "5                0                0                 0                0   \n",
       "6                0                0                 0                0   \n",
       "\n",
       "   categorical_sat  categorical_sun  categorical_thur  \n",
       "0                0                0                 0  \n",
       "1                0                0                 0  \n",
       "2                0                0                 0  \n",
       "3                0                0                 1  \n",
       "4                0                0                 0  \n",
       "5                1                0                 0  \n",
       "6                0                1                 0  "
      ]
     },
     "execution_count": 78,
     "metadata": {},
     "output_type": "execute_result"
    }
   ],
   "source": [
    "# Как видно, даже название метода подсказыет, что это не самая удачная кодировка категориальных признаков\n",
    "pd.get_dummies(a)"
   ]
  },
  {
   "cell_type": "markdown",
   "metadata": {
    "id": "zbvOQ9KcHGlK"
   },
   "source": [
    "# Ссылки:\n",
    "- Хороший [обзор основных функций Pandas](https://alexanderdyakonov.files.wordpress.com/2015/04/ama2015_pandas.pdf) от Александра Дьяконова (МГУ)\n",
    "- Открытый курс машинного обучения. [Тема 1. Первичный анализ данных с Pandas](https://habr.com/company/ods/blog/322626/)  \n",
    "- Подробная [Документация Pandas](http://pandas.pydata.org/pandas-docs/stable/api.html)\n",
    "- Материал коллеги по python [PythonNpCourse](https://github.com/Erhil/PythonNpCourse)\n",
    "- Прикладной курс по машинному обучению от ODS [dlcourse.ai](https://dlcourse.ai/)\n",
    "- Deep Learning School [dlschool](\n",
    "https://www.dlschool.org/)\n",
    "\n",
    "### Литература: \n",
    "- Heydt Michael. Learning Pandas "
   ]
  }
 ],
 "metadata": {
  "colab": {
   "collapsed_sections": [
    "_EVDc6u9TXH6",
    "lgSTz_PtTXIC",
    "ijesPIkQTXIT",
    "1DEg0vYjTXIe",
    "dZYk181dTXJY",
    "ar0XEFgonha2",
    "V4jSbD-wHGkP",
    "fLydUPzGHGkW",
    "jpo03kP9HGkl",
    "Qn9_bSHIHGk1",
    "nyzJEmA3rFbL",
    "NaBAX60Qkedi"
   ],
   "name": "Seminar_00_intro.ipynb",
   "provenance": [
    {
     "file_id": "1baHqVMrvF6w30LAa5mUZGpRvcfg6Z4ZX",
     "timestamp": 1600782777758
    }
   ]
  },
  "kernelspec": {
   "display_name": "Python 3 (ipykernel)",
   "language": "python",
   "name": "python3"
  },
  "language_info": {
   "codemirror_mode": {
    "name": "ipython",
    "version": 3
   },
   "file_extension": ".py",
   "mimetype": "text/x-python",
   "name": "python",
   "nbconvert_exporter": "python",
   "pygments_lexer": "ipython3",
   "version": "3.8.10"
  }
 },
 "nbformat": 4,
 "nbformat_minor": 4
}
