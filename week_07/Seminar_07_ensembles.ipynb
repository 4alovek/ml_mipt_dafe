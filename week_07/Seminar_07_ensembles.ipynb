{
  "nbformat": 4,
  "nbformat_minor": 0,
  "metadata": {
    "kernelspec": {
      "display_name": "Python 3",
      "language": "python",
      "name": "python3"
    },
    "language_info": {
      "codemirror_mode": {
        "name": "ipython",
        "version": 3
      },
      "file_extension": ".py",
      "mimetype": "text/x-python",
      "name": "python",
      "nbconvert_exporter": "python",
      "pygments_lexer": "ipython3",
      "version": "3.7.2"
    },
    "colab": {
      "name": "Seminar_07_ensembles.ipynb",
      "provenance": [],
      "collapsed_sections": [],
      "toc_visible": true
    }
  },
  "cells": [
    {
      "cell_type": "markdown",
      "metadata": {
        "id": "PmZpt5cgDcPw"
      },
      "source": [
        "# Семинар 7 - Композиции алгоритмов"
      ]
    },
    {
      "cell_type": "markdown",
      "metadata": {
        "id": "ecjpqpMok8eh"
      },
      "source": [
        "## Bias-Variance decomposition"
      ]
    },
    {
      "cell_type": "code",
      "metadata": {
        "id": "fPtlnBa24uv8"
      },
      "source": [
        "import numpy as np\n",
        "import matplotlib.pyplot as plt"
      ],
      "execution_count": null,
      "outputs": []
    },
    {
      "cell_type": "code",
      "metadata": {
        "id": "TPl1NddU45kV"
      },
      "source": [
        "def true_dep(x):\n",
        "    return np.cos((x - 0.2)**2) + 0.2 / (1 + 50 * (x - 0.3)**2)\n",
        "\n",
        "x_true = np.linspace(0, 1, 100)\n",
        "y_true = true_dep(x_true)\n",
        "\n",
        "def generate_n_datasets(num_datasets, dataset_length, noise_power=0.02):\n",
        "    shape = (num_datasets, dataset_length, 1)\n",
        "    x = np.random.uniform(size=shape)\n",
        "    y = true_dep(x) + np.random.normal(scale=noise_power, size=shape)\n",
        "    return x, y"
      ],
      "execution_count": null,
      "outputs": []
    },
    {
      "cell_type": "code",
      "metadata": {
        "colab": {
          "base_uri": "https://localhost:8080/",
          "height": 265
        },
        "id": "AMq2dk0b7KAN",
        "outputId": "c506405c-14a9-482c-b457-ef0f70cc1835"
      },
      "source": [
        "x, y = generate_n_datasets(1, 30)\n",
        "plt.scatter(x.squeeze(), y.squeeze(), s=20, c='orange')\n",
        "plt.plot(x_true, y_true, c='c', linewidth=1.5);"
      ],
      "execution_count": null,
      "outputs": [
        {
          "output_type": "display_data",
          "data": {
            "image/png": "[encoded data removed]",
            "text/plain": [
              "<Figure size 432x288 with 1 Axes>"
            ]
          },
          "metadata": {
            "needs_background": "light"
          }
        }
      ]
    },
    {
      "cell_type": "code",
      "metadata": {
        "id": "XmhwKmCb9IGM"
      },
      "source": [
        "from copy import deepcopy\n",
        "from tqdm import tqdm, trange"
      ],
      "execution_count": null,
      "outputs": []
    },
    {
      "cell_type": "code",
      "metadata": {
        "id": "9rWsmqAu8NDm"
      },
      "source": [
        "def calc_bias2_variance(model, datasets_X, datasets_y):\n",
        "    preds = []\n",
        "    for X, y in tqdm(zip(datasets_X, datasets_y), total=len(datasets_X)):\n",
        "        m = deepcopy(model)\n",
        "        m.fit(X, y)\n",
        "        preds.append(m.predict(x_true[:,np.newaxis]).squeeze())\n",
        "    preds = np.array(preds)\n",
        "    mean_pred = preds.mean(axis=0)\n",
        "    bias2 = (y_true - mean_pred)**2\n",
        "    variance = ((preds - mean_pred[np.newaxis,...])**2).mean(axis=0)\n",
        "\n",
        "    return bias2, variance, preds"
      ],
      "execution_count": null,
      "outputs": []
    },
    {
      "cell_type": "code",
      "metadata": {
        "id": "mO6xg7VB-fg-"
      },
      "source": [
        "from sklearn.linear_model import LinearRegression\n",
        "from sklearn.pipeline import Pipeline\n",
        "from sklearn.preprocessing import PolynomialFeatures"
      ],
      "execution_count": null,
      "outputs": []
    },
    {
      "cell_type": "markdown",
      "metadata": {
        "id": "NbMn1f-T8WYY"
      },
      "source": [
        "As you can see, we are using the `Pipeline` once again to both preprocess the feature space and fit the model at once."
      ]
    },
    {
      "cell_type": "code",
      "metadata": {
        "colab": {
          "base_uri": "https://localhost:8080/"
        },
        "id": "3zerleLK-pvJ",
        "outputId": "7f0c7c67-1a15-4e09-882d-b7b46ba11eef"
      },
      "source": [
        "MAX_POWER = 6\n",
        "powers = np.arange(1, MAX_POWER+1)\n",
        "\n",
        "bias2, variance, preds = [], [], []\n",
        "for p in powers:\n",
        "    model = Pipeline([\n",
        "      ('poly', PolynomialFeatures(degree=p)),\n",
        "      ('linear', LinearRegression())\n",
        "    ])\n",
        "\n",
        "    b2, v, p = calc_bias2_variance(model, *generate_n_datasets(1000, 20))\n",
        "    bias2.append(b2)\n",
        "    variance.append(v)\n",
        "    preds.append(p)\n",
        "\n",
        "bias2 = np.array(bias2)\n",
        "variance = np.array(variance)"
      ],
      "execution_count": null,
      "outputs": [
        {
          "output_type": "stream",
          "name": "stderr",
          "text": [
            "100%|██████████| 1000/1000 [00:00<00:00, 1045.65it/s]\n",
            "100%|██████████| 1000/1000 [00:01<00:00, 949.08it/s]\n",
            "100%|██████████| 1000/1000 [00:01<00:00, 983.00it/s]\n",
            "100%|██████████| 1000/1000 [00:01<00:00, 896.50it/s]\n",
            "100%|██████████| 1000/1000 [00:01<00:00, 834.35it/s]\n",
            "100%|██████████| 1000/1000 [00:01<00:00, 820.73it/s]\n"
          ]
        }
      ]
    },
    {
      "cell_type": "code",
      "metadata": {
        "colab": {
          "base_uri": "https://localhost:8080/",
          "height": 460
        },
        "id": "LvTGdDn6hJ5n",
        "outputId": "66cb3e3e-ea71-4f32-92f2-373dfa418c96"
      },
      "source": [
        "ncols = 4\n",
        "nrows = int(np.ceil(len(powers) / ncols))\n",
        "\n",
        "plt.figure(figsize=(18, 3.5 * nrows))\n",
        "\n",
        "yrange = y_true.max() - y_true.min()\n",
        "\n",
        "for i, (pred, pow) in tqdm(enumerate(zip(preds, powers), 1)):\n",
        "    plt.subplot(nrows, ncols, i)\n",
        "    for p in pred[np.random.choice(len(pred), size=200, replace=False)]:\n",
        "        plt.plot(x_true, p, linewidth=0.05, c='b');\n",
        "    plt.plot(x_true, y_true, linewidth=3, label='Truth', c='r')\n",
        "    plt.ylim(y_true.min() - 0.5 * yrange, y_true.max() + 0.5 * yrange)\n",
        "    plt.title('power = {}'.format(pow))\n",
        "    plt.legend();"
      ],
      "execution_count": null,
      "outputs": [
        {
          "output_type": "stream",
          "name": "stderr",
          "text": [
            "6it [00:00,  6.79it/s]\n"
          ]
        },
        {
          "output_type": "display_data",
          "data": {
            "image/png": "[encoded data removed]",
            "text/plain": [
              "<Figure size 1296x504 with 6 Axes>"
            ]
          },
          "metadata": {
            "needs_background": "light"
          }
        }
      ]
    },
    {
      "cell_type": "code",
      "metadata": {
        "colab": {
          "base_uri": "https://localhost:8080/",
          "height": 278
        },
        "id": "FCYG8jE6fxf2",
        "outputId": "a6763d8b-eae2-471e-8f6e-282770709e67"
      },
      "source": [
        "plt.plot(powers, bias2.mean(axis=1), label='bias^2')\n",
        "plt.plot(powers, variance.mean(axis=1), label='variance')\n",
        "plt.legend()\n",
        "plt.yscale('log')\n",
        "plt.xlabel('power');"
      ],
      "execution_count": null,
      "outputs": [
        {
          "output_type": "display_data",
          "data": {
            "image/png": "[encoded data removed]",
            "text/plain": [
              "<Figure size 432x288 with 1 Axes>"
            ]
          },
          "metadata": {
            "needs_background": "light"
          }
        }
      ]
    },
    {
      "cell_type": "markdown",
      "metadata": {
        "id": "CHwVxiY8CMRM"
      },
      "source": [
        "## Data"
      ]
    },
    {
      "cell_type": "markdown",
      "metadata": {
        "id": "GVhFBvvMOcEr"
      },
      "source": [
        "[Данные](https://drive.google.com/uc?export=download&id=1MClDyojQWLWxQ6NLXbB9D8zB6dMImf1P)"
      ]
    },
    {
      "cell_type": "code",
      "metadata": {
        "id": "JIGKGua4DcPx"
      },
      "source": [
        "import pandas as pd\n",
        "import numpy as np\n",
        "%matplotlib inline\n",
        "import seaborn as sns\n",
        "import matplotlib.pyplot as plt\n",
        "sns.set(palette='deep', style='darkgrid', rc={\"figure.figsize\": (15, 4)})\n",
        "import scipy.stats as st\n",
        "\n",
        "import warnings\n",
        "warnings.simplefilter('ignore')"
      ],
      "execution_count": null,
      "outputs": []
    },
    {
      "cell_type": "code",
      "metadata": {
        "id": "6uwjcjtnFVyj",
        "colab": {
          "base_uri": "https://localhost:8080/"
        },
        "outputId": "4f324c99-6747-4582-9831-e56cfb962cbe"
      },
      "source": [
        "from google.colab import drive\n",
        "drive.mount('/content/gdrive/')"
      ],
      "execution_count": null,
      "outputs": [
        {
          "output_type": "stream",
          "name": "stdout",
          "text": [
            "Drive already mounted at /content/gdrive/; to attempt to forcibly remount, call drive.mount(\"/content/gdrive/\", force_remount=True).\n"
          ]
        }
      ]
    },
    {
      "cell_type": "code",
      "metadata": {
        "id": "p1XUd6EaVVJj"
      },
      "source": [
        "data = pd.read_csv('./gdrive/My Drive/Colab Notebooks/ML/семестр1/Семинар 7 - ensembles/data/flight_delays_train.csv')"
      ],
      "execution_count": null,
      "outputs": []
    },
    {
      "cell_type": "code",
      "metadata": {
        "colab": {
          "base_uri": "https://localhost:8080/",
          "height": 202
        },
        "id": "GiD-CucpVVMD",
        "outputId": "6e48abac-bf11-4aff-a3ce-c1c1bf4a2933"
      },
      "source": [
        "data.head()"
      ],
      "execution_count": null,
      "outputs": [
        {
          "output_type": "execute_result",
          "data": {
            "text/html": [
              "<div>\n",
              "<style scoped>\n",
              "    .dataframe tbody tr th:only-of-type {\n",
              "        vertical-align: middle;\n",
              "    }\n",
              "\n",
              "    .dataframe tbody tr th {\n",
              "        vertical-align: top;\n",
              "    }\n",
              "\n",
              "    .dataframe thead th {\n",
              "        text-align: right;\n",
              "    }\n",
              "</style>\n",
              "<table border=\"1\" class=\"dataframe\">\n",
              "  <thead>\n",
              "    <tr style=\"text-align: right;\">\n",
              "      <th></th>\n",
              "      <th>Month</th>\n",
              "      <th>DayofMonth</th>\n",
              "      <th>DayOfWeek</th>\n",
              "      <th>DepTime</th>\n",
              "      <th>UniqueCarrier</th>\n",
              "      <th>Origin</th>\n",
              "      <th>Dest</th>\n",
              "      <th>Distance</th>\n",
              "      <th>dep_delayed_15min</th>\n",
              "    </tr>\n",
              "  </thead>\n",
              "  <tbody>\n",
              "    <tr>\n",
              "      <th>0</th>\n",
              "      <td>c-8</td>\n",
              "      <td>c-21</td>\n",
              "      <td>c-7</td>\n",
              "      <td>1934</td>\n",
              "      <td>AA</td>\n",
              "      <td>ATL</td>\n",
              "      <td>DFW</td>\n",
              "      <td>732</td>\n",
              "      <td>N</td>\n",
              "    </tr>\n",
              "    <tr>\n",
              "      <th>1</th>\n",
              "      <td>c-4</td>\n",
              "      <td>c-20</td>\n",
              "      <td>c-3</td>\n",
              "      <td>1548</td>\n",
              "      <td>US</td>\n",
              "      <td>PIT</td>\n",
              "      <td>MCO</td>\n",
              "      <td>834</td>\n",
              "      <td>N</td>\n",
              "    </tr>\n",
              "    <tr>\n",
              "      <th>2</th>\n",
              "      <td>c-9</td>\n",
              "      <td>c-2</td>\n",
              "      <td>c-5</td>\n",
              "      <td>1422</td>\n",
              "      <td>XE</td>\n",
              "      <td>RDU</td>\n",
              "      <td>CLE</td>\n",
              "      <td>416</td>\n",
              "      <td>N</td>\n",
              "    </tr>\n",
              "    <tr>\n",
              "      <th>3</th>\n",
              "      <td>c-11</td>\n",
              "      <td>c-25</td>\n",
              "      <td>c-6</td>\n",
              "      <td>1015</td>\n",
              "      <td>OO</td>\n",
              "      <td>DEN</td>\n",
              "      <td>MEM</td>\n",
              "      <td>872</td>\n",
              "      <td>N</td>\n",
              "    </tr>\n",
              "    <tr>\n",
              "      <th>4</th>\n",
              "      <td>c-10</td>\n",
              "      <td>c-7</td>\n",
              "      <td>c-6</td>\n",
              "      <td>1828</td>\n",
              "      <td>WN</td>\n",
              "      <td>MDW</td>\n",
              "      <td>OMA</td>\n",
              "      <td>423</td>\n",
              "      <td>Y</td>\n",
              "    </tr>\n",
              "  </tbody>\n",
              "</table>\n",
              "</div>"
            ],
            "text/plain": [
              "  Month DayofMonth DayOfWeek  DepTime  ... Origin Dest Distance  dep_delayed_15min\n",
              "0   c-8       c-21       c-7     1934  ...    ATL  DFW      732                  N\n",
              "1   c-4       c-20       c-3     1548  ...    PIT  MCO      834                  N\n",
              "2   c-9        c-2       c-5     1422  ...    RDU  CLE      416                  N\n",
              "3  c-11       c-25       c-6     1015  ...    DEN  MEM      872                  N\n",
              "4  c-10        c-7       c-6     1828  ...    MDW  OMA      423                  Y\n",
              "\n",
              "[5 rows x 9 columns]"
            ]
          },
          "metadata": {},
          "execution_count": 5
        }
      ]
    },
    {
      "cell_type": "code",
      "metadata": {
        "id": "X5Tp-zCMDcP0",
        "colab": {
          "base_uri": "https://localhost:8080/",
          "height": 202
        },
        "outputId": "12a00f27-a7a4-4124-d265-581f3131e7bc"
      },
      "source": [
        "# Загрузим данные и проведем предобработки: \n",
        "data = pd.read_csv('./gdrive/My Drive/Colab Notebooks/ML/семестр1/Семинар 7 - ensembles/data/flight_delays_train.csv')\n",
        "data['dep_delayed_15min'] = data['dep_delayed_15min'].apply(lambda x: 1 if x == 'Y' else 0)\n",
        "data['Month'] = data['Month'].str.replace('c-', '').astype('int16')\n",
        "data['DayofMonth'] = data['DayofMonth'].str.replace('c-', '').astype('int16')\n",
        "data['DayOfWeek'] = data['DayOfWeek'].str.replace('c-', '').astype('int16')\n",
        "\n",
        "data['UniqueCarrier'] = pd.factorize(data['UniqueCarrier'])[0]\n",
        "data['Origin'] = pd.factorize(data['Origin'])[0]\n",
        "data['Dest'] = pd.factorize(data['Dest'])[0]\n",
        "\n",
        "# DepTime пусть будет более вещественным числом (так как 60 минут в часах)\n",
        "data['DepTime_real'] = data['DepTime'].apply(lambda x: int(x/100)+((x/100-int(x/100))*100)/60)\n",
        "data.drop('DepTime', axis=1, inplace=True)\n",
        "\n",
        "\n",
        "x = data.drop('dep_delayed_15min', axis=1)\n",
        "y = data['dep_delayed_15min'].values\n",
        "\n",
        "\n",
        "data.head()"
      ],
      "execution_count": null,
      "outputs": [
        {
          "output_type": "execute_result",
          "data": {
            "text/html": [
              "<div>\n",
              "<style scoped>\n",
              "    .dataframe tbody tr th:only-of-type {\n",
              "        vertical-align: middle;\n",
              "    }\n",
              "\n",
              "    .dataframe tbody tr th {\n",
              "        vertical-align: top;\n",
              "    }\n",
              "\n",
              "    .dataframe thead th {\n",
              "        text-align: right;\n",
              "    }\n",
              "</style>\n",
              "<table border=\"1\" class=\"dataframe\">\n",
              "  <thead>\n",
              "    <tr style=\"text-align: right;\">\n",
              "      <th></th>\n",
              "      <th>Month</th>\n",
              "      <th>DayofMonth</th>\n",
              "      <th>DayOfWeek</th>\n",
              "      <th>UniqueCarrier</th>\n",
              "      <th>Origin</th>\n",
              "      <th>Dest</th>\n",
              "      <th>Distance</th>\n",
              "      <th>dep_delayed_15min</th>\n",
              "      <th>DepTime_real</th>\n",
              "    </tr>\n",
              "  </thead>\n",
              "  <tbody>\n",
              "    <tr>\n",
              "      <th>0</th>\n",
              "      <td>8</td>\n",
              "      <td>21</td>\n",
              "      <td>7</td>\n",
              "      <td>0</td>\n",
              "      <td>0</td>\n",
              "      <td>0</td>\n",
              "      <td>732</td>\n",
              "      <td>0</td>\n",
              "      <td>19.566667</td>\n",
              "    </tr>\n",
              "    <tr>\n",
              "      <th>1</th>\n",
              "      <td>4</td>\n",
              "      <td>20</td>\n",
              "      <td>3</td>\n",
              "      <td>1</td>\n",
              "      <td>1</td>\n",
              "      <td>1</td>\n",
              "      <td>834</td>\n",
              "      <td>0</td>\n",
              "      <td>15.800000</td>\n",
              "    </tr>\n",
              "    <tr>\n",
              "      <th>2</th>\n",
              "      <td>9</td>\n",
              "      <td>2</td>\n",
              "      <td>5</td>\n",
              "      <td>2</td>\n",
              "      <td>2</td>\n",
              "      <td>2</td>\n",
              "      <td>416</td>\n",
              "      <td>0</td>\n",
              "      <td>14.366667</td>\n",
              "    </tr>\n",
              "    <tr>\n",
              "      <th>3</th>\n",
              "      <td>11</td>\n",
              "      <td>25</td>\n",
              "      <td>6</td>\n",
              "      <td>3</td>\n",
              "      <td>3</td>\n",
              "      <td>3</td>\n",
              "      <td>872</td>\n",
              "      <td>0</td>\n",
              "      <td>10.250000</td>\n",
              "    </tr>\n",
              "    <tr>\n",
              "      <th>4</th>\n",
              "      <td>10</td>\n",
              "      <td>7</td>\n",
              "      <td>6</td>\n",
              "      <td>4</td>\n",
              "      <td>4</td>\n",
              "      <td>4</td>\n",
              "      <td>423</td>\n",
              "      <td>1</td>\n",
              "      <td>18.466667</td>\n",
              "    </tr>\n",
              "  </tbody>\n",
              "</table>\n",
              "</div>"
            ],
            "text/plain": [
              "   Month  DayofMonth  DayOfWeek  ...  Distance  dep_delayed_15min  DepTime_real\n",
              "0      8          21          7  ...       732                  0     19.566667\n",
              "1      4          20          3  ...       834                  0     15.800000\n",
              "2      9           2          5  ...       416                  0     14.366667\n",
              "3     11          25          6  ...       872                  0     10.250000\n",
              "4     10           7          6  ...       423                  1     18.466667\n",
              "\n",
              "[5 rows x 9 columns]"
            ]
          },
          "metadata": {},
          "execution_count": 6
        }
      ]
    },
    {
      "cell_type": "markdown",
      "metadata": {
        "id": "uhY0kvEEDcP4"
      },
      "source": [
        "## Bootstrap\n",
        "Посмотрим плотности распредления переменной \"Время Вылета\" для задержки менее 15 минут и более"
      ]
    },
    {
      "cell_type": "code",
      "metadata": {
        "id": "8G0iPMgeDcP4",
        "colab": {
          "base_uri": "https://localhost:8080/",
          "height": 284
        },
        "outputId": "0df9600a-f9db-47e7-dcb0-5cd6c3f44fec"
      },
      "source": [
        "sns.kdeplot(data[data['dep_delayed_15min'] == 0]['DepTime_real'], label='Задержка рейса менее 15 мин')\n",
        "sns.kdeplot(data[data['dep_delayed_15min'] == 1]['DepTime_real'], label='Задержка рейса более 15 мин')\n",
        "plt.legend()\n",
        "plt.show()"
      ],
      "execution_count": null,
      "outputs": [
        {
          "output_type": "display_data",
          "data": {
            "image/png": "[encoded data removed]",
            "text/plain": [
              "<Figure size 432x288 with 1 Axes>"
            ]
          },
          "metadata": {
            "needs_background": "light"
          }
        }
      ]
    },
    {
      "cell_type": "code",
      "metadata": {
        "id": "Ni5f8jnUDcP6",
        "colab": {
          "base_uri": "https://localhost:8080/"
        },
        "outputId": "96f4d072-13a4-457e-cb6e-78f685cefc2f"
      },
      "source": [
        "print('Среднее', data[data['dep_delayed_15min'] == 1]['DepTime_real'].mean())\n",
        "print('Среднее', data[data['dep_delayed_15min'] == 0]['DepTime_real'].mean())"
      ],
      "execution_count": null,
      "outputs": [
        {
          "output_type": "stream",
          "name": "stdout",
          "text": [
            "Среднее 16.002944934537595\n",
            "Среднее 13.049982500781939\n"
          ]
        }
      ]
    },
    {
      "cell_type": "code",
      "metadata": {
        "id": "zm1UnOgCDcP9"
      },
      "source": [
        "def get_bootstrap_samples(data, n_samples):\n",
        "    # функция для генерации подвыборок с помощью бутстрэпа\n",
        "    # ваш код здесь\n",
        "    return samples\n",
        "\n",
        "def stat_intervals(stat, alpha):\n",
        "    # функция для интервальной оценки\n",
        "    boundaries = np.percentile(stat, [100 * alpha / 2., 100 * (1 - alpha / 2.)])\n",
        "    return boundaries"
      ],
      "execution_count": null,
      "outputs": []
    },
    {
      "cell_type": "code",
      "metadata": {
        "id": "eQjygPPXDcP_"
      },
      "source": [
        "# сохранение в отдельные numpy массивы данных по вылетам с задержками и без \n",
        "no_delayed = data[data['dep_delayed_15min'] == 0]['DepTime_real'].values\n",
        "delayed = data[data['dep_delayed_15min'] == 1]['DepTime_real'].values\n",
        "\n",
        "# ставим seed для воспроизводимости результатов\n",
        "np.random.seed(0)\n",
        "\n",
        "# генерируем 1000 выборок с помощью бутстрэпа и сразу считаем по каждой из них среднее\n",
        "no_delayed_mean_scores = [np.mean(sample) \n",
        "                       for sample in get_bootstrap_samples(no_delayed, 1000)]\n",
        "delayed_mean_scores = [np.mean(sample) \n",
        "                       for sample in get_bootstrap_samples(delayed, 1000)]"
      ],
      "execution_count": null,
      "outputs": []
    },
    {
      "cell_type": "code",
      "metadata": {
        "id": "ix2YHFwgDcQB",
        "colab": {
          "base_uri": "https://localhost:8080/"
        },
        "outputId": "3393fb4d-a0a6-4755-8400-c240bc93c54d"
      },
      "source": [
        "#  выводим интервальную оценку среднего\n",
        "print(\"Среднее время вылета по рейсам без задержек в интервале:\",  stat_intervals(no_delayed_mean_scores, 0.05))\n",
        "print(\"Среднее время вылета по рейсам с задержками в интервале:\",  stat_intervals(delayed_mean_scores, 0.05))"
      ],
      "execution_count": null,
      "outputs": [
        {
          "output_type": "stream",
          "name": "stdout",
          "text": [
            "Среднее время вылета по рейсам без задержек в интервале: [13.01780342 13.08034993]\n",
            "Среднее время вылета по рейсам с задержками в интервале: [15.93900078 16.06732149]\n"
          ]
        }
      ]
    },
    {
      "cell_type": "markdown",
      "metadata": {
        "id": "c6UZYpmUDcQE"
      },
      "source": [
        "## Bagging (Bootstrap aggregating)"
      ]
    },
    {
      "cell_type": "code",
      "metadata": {
        "id": "OZ0PX9QVDcQE"
      },
      "source": [
        "from sklearn.ensemble import BaggingClassifier, BaggingRegressor, RandomForestClassifier\n",
        "from sklearn.model_selection import train_test_split, cross_val_score\n",
        "from sklearn.tree import DecisionTreeClassifier, DecisionTreeRegressor\n",
        "from sklearn.metrics import roc_auc_score, accuracy_score"
      ],
      "execution_count": null,
      "outputs": []
    },
    {
      "cell_type": "code",
      "metadata": {
        "id": "1u1g9LSoDcQG"
      },
      "source": [
        "tree = DecisionTreeClassifier()"
      ],
      "execution_count": null,
      "outputs": []
    },
    {
      "cell_type": "code",
      "metadata": {
        "id": "ev8vo4edDcQI",
        "colab": {
          "base_uri": "https://localhost:8080/"
        },
        "outputId": "b4cd92e5-c70c-4b1d-de72-c5b87e340fe1"
      },
      "source": [
        "# Посчитаем значение метрики accuracy на кроссвалидаци для дерева\n",
        "np.mean(cross_val_score(tree, x, y, cv=3))"
      ],
      "execution_count": null,
      "outputs": [
        {
          "output_type": "execute_result",
          "data": {
            "text/plain": [
              "0.7283400211454566"
            ]
          },
          "metadata": {},
          "execution_count": 13
        }
      ]
    },
    {
      "cell_type": "code",
      "metadata": {
        "id": "KRKBm8swDcQK",
        "colab": {
          "base_uri": "https://localhost:8080/"
        },
        "outputId": "34dd03eb-ec8a-4e2d-fd4c-700bd3b2ff7f"
      },
      "source": [
        "# Посчитаем значение метрики accuracy на кроссвалидаци для композиции деревьев построенной на бутстрап выборке\n",
        "bag_of_trees = BaggingClassifier(tree)\n",
        "np.mean(cross_val_score(bag_of_trees, x, y, cv=3))"
      ],
      "execution_count": null,
      "outputs": [
        {
          "output_type": "execute_result",
          "data": {
            "text/plain": [
              "0.8088399804619634"
            ]
          },
          "metadata": {},
          "execution_count": 14
        }
      ]
    },
    {
      "cell_type": "code",
      "metadata": {
        "colab": {
          "base_uri": "https://localhost:8080/"
        },
        "id": "usRhSmtiWrkZ",
        "outputId": "d1fe0aad-a563-4cdf-f22b-99f8c0ce9fe4"
      },
      "source": [
        "# Для ограниченного числа признаков\n",
        "tree = DecisionTreeClassifier(max_features=int(x.shape[1]**0.5))\n",
        "bag_of_trees = BaggingClassifier(tree)\n",
        "np.mean(cross_val_score(bag_of_trees, x, y, cv=3))"
      ],
      "execution_count": null,
      "outputs": [
        {
          "output_type": "execute_result",
          "data": {
            "text/plain": [
              "0.8104799965621302"
            ]
          },
          "metadata": {},
          "execution_count": 15
        }
      ]
    },
    {
      "cell_type": "markdown",
      "metadata": {
        "id": "fSyQSIEZDcQU"
      },
      "source": [
        "## Случайный лес"
      ]
    },
    {
      "cell_type": "markdown",
      "metadata": {
        "id": "HOni_VeMDcQS"
      },
      "source": [
        "### Как можно добавить случайности? \n",
        "\n",
        "Например: Ограничить кол-во признаков, по которым проводить разбиение"
      ]
    },
    {
      "cell_type": "code",
      "metadata": {
        "colab": {
          "base_uri": "https://localhost:8080/"
        },
        "id": "qKF4ACXqY1zn",
        "outputId": "d1d6214a-2257-44bf-8b05-c0caad3c7f65"
      },
      "source": [
        "RandomForestClassifier()"
      ],
      "execution_count": null,
      "outputs": [
        {
          "output_type": "execute_result",
          "data": {
            "text/plain": [
              "RandomForestClassifier(bootstrap=True, ccp_alpha=0.0, class_weight=None,\n",
              "                       criterion='gini', max_depth=None, max_features='auto',\n",
              "                       max_leaf_nodes=None, max_samples=None,\n",
              "                       min_impurity_decrease=0.0, min_impurity_split=None,\n",
              "                       min_samples_leaf=1, min_samples_split=2,\n",
              "                       min_weight_fraction_leaf=0.0, n_estimators=100,\n",
              "                       n_jobs=None, oob_score=False, random_state=None,\n",
              "                       verbose=0, warm_start=False)"
            ]
          },
          "metadata": {},
          "execution_count": 16
        }
      ]
    },
    {
      "cell_type": "code",
      "metadata": {
        "id": "mlHFTWP0DcQV",
        "colab": {
          "base_uri": "https://localhost:8080/"
        },
        "outputId": "5710ec7b-b96f-47fd-f3ab-0fce3822c8e4"
      },
      "source": [
        "forest = RandomForestClassifier(n_jobs=-1)\n",
        "np.mean(cross_val_score(forest, x,y, cv=3, n_jobs=-1))"
      ],
      "execution_count": null,
      "outputs": [
        {
          "output_type": "execute_result",
          "data": {
            "text/plain": [
              "0.8188799941638344"
            ]
          },
          "metadata": {},
          "execution_count": 17
        }
      ]
    },
    {
      "cell_type": "markdown",
      "metadata": {
        "id": "vYDftxrbDcQW"
      },
      "source": [
        "### Что будет, если ограничить глубину построенных деревьев? "
      ]
    },
    {
      "cell_type": "code",
      "metadata": {
        "id": "T7agKAapDcQX"
      },
      "source": [
        "#Разделим выборку на обущающую и тестовую\n",
        "x_train, x_test, y_train, y_test = train_test_split(x, y, train_size=0.7, test_size=0.3, \\\n",
        "                                                    shuffle=True, random_state=21)"
      ],
      "execution_count": null,
      "outputs": []
    },
    {
      "cell_type": "code",
      "metadata": {
        "id": "Po4cBKHADcQZ"
      },
      "source": [
        "train_score = []\n",
        "test_score = []\n",
        "\n",
        "for i in range(1,16):\n",
        "    forest = RandomForestClassifier(n_estimators=10, n_jobs=-1, max_depth=i, min_samples_leaf=50) # ваш код здесь\n",
        "    forest.fit(x_train, y_train)\n",
        "    train_score = np.append(train_score, accuracy_score(y_train, forest.predict(x_train)))\n",
        "    test_score = np.append(test_score, accuracy_score(y_test, forest.predict(x_test)))"
      ],
      "execution_count": null,
      "outputs": []
    },
    {
      "cell_type": "code",
      "metadata": {
        "id": "gJ4u76bqDcQb",
        "colab": {
          "base_uri": "https://localhost:8080/",
          "height": 301
        },
        "outputId": "a6de8a78-6885-40fb-d6fb-5589fe81155c"
      },
      "source": [
        "plt.title('Зависимость качества алгоритма в зависимости от глубины деревьев')\n",
        "plt.plot(range(1,16), train_score, label=\"Качетство на обучении\")\n",
        "plt.plot(range(1,16), test_score, label=\"Качетство на тесте\")\n",
        "plt.legend()\n",
        "plt.ylabel('Доля правильных ответов')\n",
        "plt.xlabel('Глубина деревьев')\n",
        "plt.show()"
      ],
      "execution_count": null,
      "outputs": [
        {
          "output_type": "display_data",
          "data": {
            "image/png": "[encoded data removed]",
            "text/plain": [
              "<Figure size 432x288 with 1 Axes>"
            ]
          },
          "metadata": {
            "needs_background": "light"
          }
        }
      ]
    },
    {
      "cell_type": "markdown",
      "metadata": {
        "id": "LsMV5AswDcQN"
      },
      "source": [
        "## Out-of-bag error\n",
        "\n",
        "На каждом шаге все объекты попадают в подвыборку с возвращением равновероятно, значит:  \n",
        "\n",
        "__Вывод:__  \n",
        "__Свойство:__ Можно вычислять Out-of-bag error и не проводить кроссвалидацию"
      ]
    },
    {
      "cell_type": "code",
      "metadata": {
        "id": "HmTAi-OfDcQN"
      },
      "source": [
        "tree = DecisionTreeClassifier()\n",
        "bag_of_trees = BaggingClassifier(tree, n_estimators=20, oob_score=True, n_jobs=-1)"
      ],
      "execution_count": null,
      "outputs": []
    },
    {
      "cell_type": "code",
      "metadata": {
        "id": "U7MoIcp_DcQP",
        "colab": {
          "base_uri": "https://localhost:8080/"
        },
        "outputId": "d50d89e4-4e32-48e9-b2d2-5aab449f5e82"
      },
      "source": [
        "bag_of_trees.fit(x,y)\n",
        "bag_of_trees.oob_score_"
      ],
      "execution_count": null,
      "outputs": [
        {
          "output_type": "execute_result",
          "data": {
            "text/plain": [
              "0.80366"
            ]
          },
          "metadata": {},
          "execution_count": 22
        }
      ]
    },
    {
      "cell_type": "markdown",
      "metadata": {
        "id": "aIVY0q9YDcQd"
      },
      "source": [
        "## Важность признкаов\n",
        "Одно из замечательных свойств, возможность посмотреть важность каждого признака, оценив вклад "
      ]
    },
    {
      "cell_type": "code",
      "metadata": {
        "id": "7hM7Gxj6DcQd",
        "colab": {
          "base_uri": "https://localhost:8080/",
          "height": 285
        },
        "outputId": "cb65909b-1dbb-43d8-ef83-ebde37fe0820"
      },
      "source": [
        "feature_importances = pd.DataFrame(forest.feature_importances_, index=x_train.columns, columns=['Importance']\n",
        "            ).sort_values('Importance', ascending=False)\n",
        "\n",
        "sns.barplot(y=feature_importances['Importance'], x=feature_importances.index, palette=\"rocket\")\n",
        "plt.ylabel('Важность')\n",
        "plt.xlabel('Признак')\n",
        "plt.show()"
      ],
      "execution_count": null,
      "outputs": [
        {
          "output_type": "display_data",
          "data": {
            "image/png": "[encoded data removed]",
            "text/plain": [
              "<Figure size 432x288 with 1 Axes>"
            ]
          },
          "metadata": {
            "needs_background": "light"
          }
        }
      ]
    },
    {
      "cell_type": "markdown",
      "metadata": {
        "id": "WCE_b2soDJeM"
      },
      "source": [
        "## Ensembles of algorithms of different classes"
      ]
    },
    {
      "cell_type": "markdown",
      "metadata": {
        "id": "lgN-ZEOehIsG"
      },
      "source": [
        "### Определим базовые алгоритмы"
      ]
    },
    {
      "cell_type": "code",
      "metadata": {
        "id": "F9ZJdn-8cdM1"
      },
      "source": [
        "from sklearn.model_selection import train_test_split\n",
        "x_train, x_test, y_train, y_test = train_test_split(x, y, test_size=0.25, shuffle=True, random_state=21)"
      ],
      "execution_count": null,
      "outputs": []
    },
    {
      "cell_type": "markdown",
      "metadata": {
        "id": "4Kgdf8LhhL3m"
      },
      "source": [
        "### Выберем алгоритмы"
      ]
    },
    {
      "cell_type": "code",
      "metadata": {
        "id": "SkA0F-woe9Z3"
      },
      "source": [
        "f = plt.figure(figsize=(10, 9))\n",
        "plt.matshow(df.corr(), fignum=f.number)\n",
        "plt.xticks(range(df.select_dtypes(['number']).shape[1]), df.select_dtypes(['number']).columns, fontsize=14, rotation=45)\n",
        "plt.yticks(range(df.select_dtypes(['number']).shape[1]), df.select_dtypes(['number']).columns, fontsize=14)\n",
        "cb = plt.colorbar()\n",
        "cb.ax.tick_params(labelsize=14)\n",
        "plt.title('Correlation Matrix', fontsize=16);"
      ],
      "execution_count": null,
      "outputs": []
    },
    {
      "cell_type": "code",
      "metadata": {
        "id": "qtqLZDSMjh4t"
      },
      "source": [
        "df.corr()"
      ],
      "execution_count": null,
      "outputs": []
    },
    {
      "cell_type": "markdown",
      "metadata": {
        "id": "JuXyGGqahUSA"
      },
      "source": [
        "### Применим подход Blending"
      ]
    },
    {
      "cell_type": "code",
      "metadata": {
        "colab": {
          "base_uri": "https://localhost:8080/"
        },
        "id": "faXySOxnhZb7",
        "outputId": "1f491801-ce99-4074-a366-e27ec2692e20"
      },
      "source": [
        "accuracy_score(blend_pred, y_test)"
      ],
      "execution_count": null,
      "outputs": [
        {
          "output_type": "execute_result",
          "data": {
            "text/plain": [
              "0.80872"
            ]
          },
          "metadata": {},
          "execution_count": 36
        }
      ]
    },
    {
      "cell_type": "markdown",
      "metadata": {
        "id": "VodphaaEhbDP"
      },
      "source": [
        "### Применим подход Stacking"
      ]
    },
    {
      "cell_type": "code",
      "metadata": {
        "id": "_mipF1fx2CPD"
      },
      "source": [
        ""
      ],
      "execution_count": null,
      "outputs": []
    },
    {
      "cell_type": "code",
      "metadata": {
        "id": "H_naBjhGm7q5"
      },
      "source": [
        "import torch\n",
        "from torch import nn\n",
        "import torch.nn.functional as F"
      ],
      "execution_count": null,
      "outputs": []
    },
    {
      "cell_type": "code",
      "metadata": {
        "id": "ZxZ0A5i2he2j"
      },
      "source": [
        "# create a network that stacks layers on top of each other\n",
        "model = nn.Sequential()\n",
        "\n",
        "# add first \"dense\" layer with 64 input units and 1 output unit. \n",
        "model.add_module('l1', nn.Linear(5, 1))\n",
        "\n",
        "# add softmax activation for probabilities. Normalize over axis 1\n",
        "# note: layer names must be unique\n",
        "model.add_module('l2', nn.Sigmoid())"
      ],
      "execution_count": null,
      "outputs": []
    },
    {
      "cell_type": "code",
      "metadata": {
        "id": "ZjV09qMynNeh"
      },
      "source": [
        "opt = torch.optim.SGD(model.parameters(), lr=1e-3)"
      ],
      "execution_count": null,
      "outputs": []
    },
    {
      "cell_type": "code",
      "metadata": {
        "colab": {
          "base_uri": "https://localhost:8080/"
        },
        "id": "UWwbGrr9qRcG",
        "outputId": "e4f8566a-d143-4649-fac3-aa879065526d"
      },
      "source": [
        "df.values[100]"
      ],
      "execution_count": null,
      "outputs": [
        {
          "output_type": "execute_result",
          "data": {
            "text/plain": [
              "array([0, 0, 0, 0, 1])"
            ]
          },
          "metadata": {},
          "execution_count": 56
        }
      ]
    },
    {
      "cell_type": "code",
      "metadata": {
        "id": "sVkDk8PenPHR"
      },
      "source": [
        "history = []\n",
        "\n",
        "for i in range(10000):\n",
        "    \n",
        "    # sample 256 random predicts\n",
        "    ix = np.random.randint(0, df.shape[0], 256)\n",
        "    x_batch = torch.tensor(df.values[ix], dtype=torch.float32)\n",
        "    y_batch = torch.tensor(y_val[ix], dtype=torch.float32)\n",
        "    \n",
        "    # predict probabilities\n",
        "    y_predicted = y_predicted = model(x_batch)[:, 0]\n",
        "        \n",
        "    # compute loss, just like before\n",
        "    loss = F.binary_cross_entropy(y_predicted, y_batch)### YOUR CODE\n",
        "    \n",
        "    loss.backward()\n",
        "    \n",
        "    opt.step()\n",
        "\n",
        "    opt.zero_grad()\n",
        "\n",
        "    history.append(loss.data.numpy())\n",
        "    \n",
        "    if i % 1000 == 0:\n",
        "        print(\"step #%i | mean loss = %.3f\" % (i, np.mean(history[-10:])))"
      ],
      "execution_count": null,
      "outputs": []
    },
    {
      "cell_type": "code",
      "metadata": {
        "colab": {
          "base_uri": "https://localhost:8080/"
        },
        "id": "GLAZ5MHUrnNt",
        "outputId": "b1563456-98b1-4e31-a9e3-976c114be21a"
      },
      "source": [
        "model.eval()"
      ],
      "execution_count": null,
      "outputs": [
        {
          "output_type": "execute_result",
          "data": {
            "text/plain": [
              "Sequential(\n",
              "  (l1): Linear(in_features=5, out_features=1, bias=True)\n",
              "  (l2): Sigmoid()\n",
              ")"
            ]
          },
          "metadata": {},
          "execution_count": 71
        }
      ]
    },
    {
      "cell_type": "code",
      "metadata": {
        "id": "sqZjOc06qwFk"
      },
      "source": [
        ""
      ],
      "execution_count": null,
      "outputs": []
    },
    {
      "cell_type": "code",
      "metadata": {
        "id": "bp6_yen6qwFl"
      },
      "source": [
        ""
      ],
      "execution_count": null,
      "outputs": []
    },
    {
      "cell_type": "code",
      "metadata": {
        "id": "_puy4mp3rhMD"
      },
      "source": [
        "stacking_pred_proba = model(torch.tensor(df.values, dtype=torch.float32))"
      ],
      "execution_count": null,
      "outputs": []
    },
    {
      "cell_type": "code",
      "metadata": {
        "id": "BYokbMVwrkZE"
      },
      "source": [
        "stacking_pred = np.array(stacking_pred_proba.detach().numpy(), dtype=np.int)"
      ],
      "execution_count": null,
      "outputs": []
    },
    {
      "cell_type": "code",
      "metadata": {
        "colab": {
          "base_uri": "https://localhost:8080/"
        },
        "id": "hgE2AoianPKf",
        "outputId": "b021f6e9-7055-42aa-a54a-6fbeb03fdd9f"
      },
      "source": [
        "accuracy_score(stacking_pred, y_test)"
      ],
      "execution_count": null,
      "outputs": [
        {
          "output_type": "execute_result",
          "data": {
            "text/plain": [
              "0.80792"
            ]
          },
          "metadata": {},
          "execution_count": 89
        }
      ]
    },
    {
      "cell_type": "markdown",
      "metadata": {
        "id": "a5q5VaClhogG"
      },
      "source": [
        "### Что будет, если среди наших алгоритмов будет 1 сильный"
      ]
    }
  ]
}